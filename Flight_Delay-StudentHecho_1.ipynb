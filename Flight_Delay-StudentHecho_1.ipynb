{
 "cells": [
  {
   "cell_type": "markdown",
   "metadata": {},
   "source": [
    "# Problem: Predicting Airplane Delays\n",
    "\n",
    "The goals of this notebook are:\n",
    "- Process and create a dataset from downloaded .zip files\n",
    "- Perform exploratory data analysis (EDA)\n",
    "- Establish a baseline model\n",
    "- Move from a simple model to an ensemble model\n",
    "- Perform hyperparameter optimization\n",
    "- Check feature importance\n",
    "\n",
    "\n",
    "## Introduction to business scenario\n",
    "\n",
    "You work for a travel booking website that wants to improve the customer experience for flights that were delayed. The company wants to create a feature to let customers know if the flight will be delayed because of weather when they book a flight to or from the busiest airports for domestic travel in the US. \n",
    "\n",
    "You are tasked with solving part of this problem by using machine learning (ML) to identify whether the flight will be delayed because of weather. You have been given access to the a dataset about the on-time performance of domestic flights that were operated by large air carriers. You can use this data to train an ML model to predict if the flight is going to be delayed for the busiest airports.\n",
    "\n",
    "\n",
    "## About this dataset\n",
    "\n",
    "This dataset contains scheduled and actual departure and arrival times reported by certified US air carriers that account for at least 1 percent of domestic scheduled passenger revenues. The data was collected by the U.S. Office of Airline Information, Bureau of Transportation Statistics (BTS). The dataset contains date, time, origin, destination, airline, distance, and delay status of flights for flights between 2013 and 2018.\n",
    "\n",
    "\n",
    "### Features\n",
    "\n",
    "For more information about features in the dataset, see [On-time delay dataset features](https://www.transtats.bts.gov/Fields.asp).\n",
    "\n",
    "### Dataset attributions  \n",
    "Website: https://www.transtats.bts.gov/\n",
    "\n",
    "Dataset(s) used in this lab were compiled by the U.S. Office of Airline Information, Bureau of Transportation Statistics (BTS), Airline On-Time Performance Data, available at https://www.transtats.bts.gov/DatabaseInfo.asp?DB_ID=120&DB_URL=Mode_ID=1&Mode_Desc=Aviation&Subject_ID2=0."
   ]
  },
  {
   "cell_type": "markdown",
   "metadata": {},
   "source": [
    "# Step 1: Problem formulation and data collection\n",
    "\n",
    "Start this project by writing a few sentences that summarize the business problem and the business goal that you want to achieve in this scenario. You can write down your ideas in the following sections. Include a business metric that you would like your team to aspire toward. After you define that information, write the ML problem statement. Finally, add a comment or two about the type of ML this activity represents. \n",
    "\n",
    "#### <span style=\"color: blue;\">Project presentation: Include a summary of these details in your project presentation.</span>\n",
    "\n",
    "### 1. Determine if and why ML is an appropriate solution to deploy for this scenario."
   ]
  },
  {
   "cell_type": "code",
   "execution_count": null,
   "metadata": {},
   "outputs": [],
   "source": [
    "# Write your answer here"
   ]
  },
  {
   "cell_type": "markdown",
   "metadata": {},
   "source": [
    "### 2. Formulate the business problem, success metrics, and desired ML output."
   ]
  },
  {
   "cell_type": "code",
   "execution_count": null,
   "metadata": {},
   "outputs": [],
   "source": [
    "# Write your answer here"
   ]
  },
  {
   "cell_type": "markdown",
   "metadata": {},
   "source": [
    "### 3. Identify the type of ML problem that you're working with."
   ]
  },
  {
   "cell_type": "code",
   "execution_count": null,
   "metadata": {},
   "outputs": [],
   "source": [
    "# Write your answer here"
   ]
  },
  {
   "cell_type": "markdown",
   "metadata": {},
   "source": [
    "### 4. Analyze the appropriateness of the data that you're working with."
   ]
  },
  {
   "cell_type": "code",
   "execution_count": null,
   "metadata": {},
   "outputs": [],
   "source": [
    "# Write your answer here"
   ]
  },
  {
   "cell_type": "markdown",
   "metadata": {},
   "source": [
    "### Setup\n",
    "\n",
    "Now that you have decided where you want to focus your attention, you will set up this lab so that you can start solving the problem.\n",
    "\n",
    "**Note:** This notebook was created and tested on an `ml.m4.xlarge` notebook instance with 25 GB storage. "
   ]
  },
  {
   "cell_type": "code",
   "execution_count": 1,
   "metadata": {
    "tags": []
   },
   "outputs": [
    {
     "name": "stderr",
     "output_type": "stream",
     "text": [
      "/home/ec2-user/anaconda3/envs/python3/lib/python3.10/site-packages/pandas/core/computation/expressions.py:21: UserWarning: Pandas requires version '2.8.0' or newer of 'numexpr' (version '2.7.3' currently installed).\n",
      "  from pandas.core.computation.check import NUMEXPR_INSTALLED\n"
     ]
    }
   ],
   "source": [
    "import os\n",
    "from pathlib2 import Path\n",
    "from zipfile import ZipFile\n",
    "import time\n",
    "\n",
    "import pandas as pd\n",
    "import numpy as np\n",
    "import subprocess\n",
    "\n",
    "import matplotlib.pyplot as plt\n",
    "import seaborn as sns\n",
    "\n",
    "sns.set()\n",
    "instance_type='ml.m4.xlarge'\n",
    "\n",
    "import warnings\n",
    "warnings.filterwarnings('ignore')\n",
    "\n",
    "%matplotlib inline"
   ]
  },
  {
   "cell_type": "markdown",
   "metadata": {},
   "source": [
    "# Step 2: Data preprocessing and visualization  \n",
    "In this data preprocessing phase, you explore and visualize your data to better understand it. First, import the necessary libraries and read the data into a pandas DataFrame. After you import the data, explore the dataset. Look for the shape of the dataset and explore your columns and the types of columns that you will work with (numerical, categorical). Consider performing basic statistics on the features to get a sense of feature means and ranges. Examine your target column closely, and determine its distribution.\n",
    "\n",
    "\n",
    "### Specific questions to consider\n",
    "\n",
    "Throughout this section of the lab, consider the following questions:\n",
    "\n",
    "1. What can you deduce from the basic statistics that you ran on the features? \n",
    "2. What can you deduce from the distributions of the target classes?\n",
    "3. Is there anything else you can deduce by exploring the data?\n",
    "\n",
    "#### <span style=\"color: blue;\">Project presentation: Include a summary of your answers to these questions (and other similar questions) in your project presentation.</span>"
   ]
  },
  {
   "cell_type": "markdown",
   "metadata": {},
   "source": [
    "Start by bringing in the dataset from a public Amazon Simple Storage Service (Amazon S3) bucket to this notebook environment."
   ]
  },
  {
   "cell_type": "code",
   "execution_count": 2,
   "metadata": {
    "tags": []
   },
   "outputs": [
    {
     "name": "stdout",
     "output_type": "stream",
     "text": [
      "download: s3://aws-tc-largeobjects/CUR-TF-200-ACMLFO-1/flight_delay_project/data/On_Time_Reporting_Carrier_On_Time_Performance_1987_present_2014_10.zip to ../project/data/FlightDelays/On_Time_Reporting_Carrier_On_Time_Performance_1987_present_2014_10.zip\n",
      "download: s3://aws-tc-largeobjects/CUR-TF-200-ACMLFO-1/flight_delay_project/data/On_Time_Reporting_Carrier_On_Time_Performance_1987_present_2014_11.zip to ../project/data/FlightDelays/On_Time_Reporting_Carrier_On_Time_Performance_1987_present_2014_11.zip\n",
      "download: s3://aws-tc-largeobjects/CUR-TF-200-ACMLFO-1/flight_delay_project/data/On_Time_Reporting_Carrier_On_Time_Performance_1987_present_2014_2.zip to ../project/data/FlightDelays/On_Time_Reporting_Carrier_On_Time_Performance_1987_present_2014_2.zip\n",
      "download: s3://aws-tc-largeobjects/CUR-TF-200-ACMLFO-1/flight_delay_project/data/On_Time_Reporting_Carrier_On_Time_Performance_1987_present_2014_12.zip to ../project/data/FlightDelays/On_Time_Reporting_Carrier_On_Time_Performance_1987_present_2014_12.zip\n",
      "download: s3://aws-tc-largeobjects/CUR-TF-200-ACMLFO-1/flight_delay_project/data/On_Time_Reporting_Carrier_On_Time_Performance_1987_present_2014_4.zip to ../project/data/FlightDelays/On_Time_Reporting_Carrier_On_Time_Performance_1987_present_2014_4.zip\n",
      "download: s3://aws-tc-largeobjects/CUR-TF-200-ACMLFO-1/flight_delay_project/data/On_Time_Reporting_Carrier_On_Time_Performance_1987_present_2014_3.zip to ../project/data/FlightDelays/On_Time_Reporting_Carrier_On_Time_Performance_1987_present_2014_3.zip\n",
      "download: s3://aws-tc-largeobjects/CUR-TF-200-ACMLFO-1/flight_delay_project/data/On_Time_Reporting_Carrier_On_Time_Performance_1987_present_2014_1.zip to ../project/data/FlightDelays/On_Time_Reporting_Carrier_On_Time_Performance_1987_present_2014_1.zip\n",
      "download: s3://aws-tc-largeobjects/CUR-TF-200-ACMLFO-1/flight_delay_project/data/On_Time_Reporting_Carrier_On_Time_Performance_1987_present_2014_5.zip to ../project/data/FlightDelays/On_Time_Reporting_Carrier_On_Time_Performance_1987_present_2014_5.zip\n",
      "download: s3://aws-tc-largeobjects/CUR-TF-200-ACMLFO-1/flight_delay_project/data/On_Time_Reporting_Carrier_On_Time_Performance_1987_present_2014_7.zip to ../project/data/FlightDelays/On_Time_Reporting_Carrier_On_Time_Performance_1987_present_2014_7.zip\n",
      "download: s3://aws-tc-largeobjects/CUR-TF-200-ACMLFO-1/flight_delay_project/data/On_Time_Reporting_Carrier_On_Time_Performance_1987_present_2014_6.zip to ../project/data/FlightDelays/On_Time_Reporting_Carrier_On_Time_Performance_1987_present_2014_6.zip\n",
      "download: s3://aws-tc-largeobjects/CUR-TF-200-ACMLFO-1/flight_delay_project/data/On_Time_Reporting_Carrier_On_Time_Performance_1987_present_2014_9.zip to ../project/data/FlightDelays/On_Time_Reporting_Carrier_On_Time_Performance_1987_present_2014_9.zip\n",
      "download: s3://aws-tc-largeobjects/CUR-TF-200-ACMLFO-1/flight_delay_project/data/On_Time_Reporting_Carrier_On_Time_Performance_1987_present_2014_8.zip to ../project/data/FlightDelays/On_Time_Reporting_Carrier_On_Time_Performance_1987_present_2014_8.zip\n",
      "download: s3://aws-tc-largeobjects/CUR-TF-200-ACMLFO-1/flight_delay_project/data/On_Time_Reporting_Carrier_On_Time_Performance_1987_present_2015_10.zip to ../project/data/FlightDelays/On_Time_Reporting_Carrier_On_Time_Performance_1987_present_2015_10.zip\n",
      "download: s3://aws-tc-largeobjects/CUR-TF-200-ACMLFO-1/flight_delay_project/data/On_Time_Reporting_Carrier_On_Time_Performance_1987_present_2015_2.zip to ../project/data/FlightDelays/On_Time_Reporting_Carrier_On_Time_Performance_1987_present_2015_2.zip\n",
      "download: s3://aws-tc-largeobjects/CUR-TF-200-ACMLFO-1/flight_delay_project/data/On_Time_Reporting_Carrier_On_Time_Performance_1987_present_2015_11.zip to ../project/data/FlightDelays/On_Time_Reporting_Carrier_On_Time_Performance_1987_present_2015_11.zip\n",
      "download: s3://aws-tc-largeobjects/CUR-TF-200-ACMLFO-1/flight_delay_project/data/On_Time_Reporting_Carrier_On_Time_Performance_1987_present_2015_1.zip to ../project/data/FlightDelays/On_Time_Reporting_Carrier_On_Time_Performance_1987_present_2015_1.zip\n",
      "download: s3://aws-tc-largeobjects/CUR-TF-200-ACMLFO-1/flight_delay_project/data/On_Time_Reporting_Carrier_On_Time_Performance_1987_present_2015_12.zip to ../project/data/FlightDelays/On_Time_Reporting_Carrier_On_Time_Performance_1987_present_2015_12.zip\n",
      "download: s3://aws-tc-largeobjects/CUR-TF-200-ACMLFO-1/flight_delay_project/data/On_Time_Reporting_Carrier_On_Time_Performance_1987_present_2015_3.zip to ../project/data/FlightDelays/On_Time_Reporting_Carrier_On_Time_Performance_1987_present_2015_3.zip\n",
      "download: s3://aws-tc-largeobjects/CUR-TF-200-ACMLFO-1/flight_delay_project/data/On_Time_Reporting_Carrier_On_Time_Performance_1987_present_2015_5.zip to ../project/data/FlightDelays/On_Time_Reporting_Carrier_On_Time_Performance_1987_present_2015_5.zip\n",
      "download: s3://aws-tc-largeobjects/CUR-TF-200-ACMLFO-1/flight_delay_project/data/On_Time_Reporting_Carrier_On_Time_Performance_1987_present_2015_4.zip to ../project/data/FlightDelays/On_Time_Reporting_Carrier_On_Time_Performance_1987_present_2015_4.zip\n",
      "download: s3://aws-tc-largeobjects/CUR-TF-200-ACMLFO-1/flight_delay_project/data/On_Time_Reporting_Carrier_On_Time_Performance_1987_present_2015_6.zip to ../project/data/FlightDelays/On_Time_Reporting_Carrier_On_Time_Performance_1987_present_2015_6.zip\n",
      "download: s3://aws-tc-largeobjects/CUR-TF-200-ACMLFO-1/flight_delay_project/data/On_Time_Reporting_Carrier_On_Time_Performance_1987_present_2015_7.zip to ../project/data/FlightDelays/On_Time_Reporting_Carrier_On_Time_Performance_1987_present_2015_7.zip\n",
      "download: s3://aws-tc-largeobjects/CUR-TF-200-ACMLFO-1/flight_delay_project/data/On_Time_Reporting_Carrier_On_Time_Performance_1987_present_2015_8.zip to ../project/data/FlightDelays/On_Time_Reporting_Carrier_On_Time_Performance_1987_present_2015_8.zip\n",
      "download: s3://aws-tc-largeobjects/CUR-TF-200-ACMLFO-1/flight_delay_project/data/On_Time_Reporting_Carrier_On_Time_Performance_1987_present_2015_9.zip to ../project/data/FlightDelays/On_Time_Reporting_Carrier_On_Time_Performance_1987_present_2015_9.zip\n",
      "download: s3://aws-tc-largeobjects/CUR-TF-200-ACMLFO-1/flight_delay_project/data/On_Time_Reporting_Carrier_On_Time_Performance_1987_present_2016_1.zip to ../project/data/FlightDelays/On_Time_Reporting_Carrier_On_Time_Performance_1987_present_2016_1.zip\n",
      "download: s3://aws-tc-largeobjects/CUR-TF-200-ACMLFO-1/flight_delay_project/data/On_Time_Reporting_Carrier_On_Time_Performance_1987_present_2016_10.zip to ../project/data/FlightDelays/On_Time_Reporting_Carrier_On_Time_Performance_1987_present_2016_10.zip\n",
      "download: s3://aws-tc-largeobjects/CUR-TF-200-ACMLFO-1/flight_delay_project/data/On_Time_Reporting_Carrier_On_Time_Performance_1987_present_2016_2.zip to ../project/data/FlightDelays/On_Time_Reporting_Carrier_On_Time_Performance_1987_present_2016_2.zip\n",
      "download: s3://aws-tc-largeobjects/CUR-TF-200-ACMLFO-1/flight_delay_project/data/On_Time_Reporting_Carrier_On_Time_Performance_1987_present_2016_12.zip to ../project/data/FlightDelays/On_Time_Reporting_Carrier_On_Time_Performance_1987_present_2016_12.zip\n",
      "download: s3://aws-tc-largeobjects/CUR-TF-200-ACMLFO-1/flight_delay_project/data/On_Time_Reporting_Carrier_On_Time_Performance_1987_present_2016_11.zip to ../project/data/FlightDelays/On_Time_Reporting_Carrier_On_Time_Performance_1987_present_2016_11.zip\n",
      "download: s3://aws-tc-largeobjects/CUR-TF-200-ACMLFO-1/flight_delay_project/data/On_Time_Reporting_Carrier_On_Time_Performance_1987_present_2016_3.zip to ../project/data/FlightDelays/On_Time_Reporting_Carrier_On_Time_Performance_1987_present_2016_3.zip\n",
      "download: s3://aws-tc-largeobjects/CUR-TF-200-ACMLFO-1/flight_delay_project/data/On_Time_Reporting_Carrier_On_Time_Performance_1987_present_2016_4.zip to ../project/data/FlightDelays/On_Time_Reporting_Carrier_On_Time_Performance_1987_present_2016_4.zip\n",
      "download: s3://aws-tc-largeobjects/CUR-TF-200-ACMLFO-1/flight_delay_project/data/On_Time_Reporting_Carrier_On_Time_Performance_1987_present_2016_5.zip to ../project/data/FlightDelays/On_Time_Reporting_Carrier_On_Time_Performance_1987_present_2016_5.zip\n",
      "download: s3://aws-tc-largeobjects/CUR-TF-200-ACMLFO-1/flight_delay_project/data/On_Time_Reporting_Carrier_On_Time_Performance_1987_present_2016_7.zip to ../project/data/FlightDelays/On_Time_Reporting_Carrier_On_Time_Performance_1987_present_2016_7.zip\n",
      "download: s3://aws-tc-largeobjects/CUR-TF-200-ACMLFO-1/flight_delay_project/data/On_Time_Reporting_Carrier_On_Time_Performance_1987_present_2016_6.zip to ../project/data/FlightDelays/On_Time_Reporting_Carrier_On_Time_Performance_1987_present_2016_6.zip\n",
      "download: s3://aws-tc-largeobjects/CUR-TF-200-ACMLFO-1/flight_delay_project/data/On_Time_Reporting_Carrier_On_Time_Performance_1987_present_2016_8.zip to ../project/data/FlightDelays/On_Time_Reporting_Carrier_On_Time_Performance_1987_present_2016_8.zip\n",
      "download: s3://aws-tc-largeobjects/CUR-TF-200-ACMLFO-1/flight_delay_project/data/On_Time_Reporting_Carrier_On_Time_Performance_1987_present_2017_1.zip to ../project/data/FlightDelays/On_Time_Reporting_Carrier_On_Time_Performance_1987_present_2017_1.zip\n",
      "download: s3://aws-tc-largeobjects/CUR-TF-200-ACMLFO-1/flight_delay_project/data/On_Time_Reporting_Carrier_On_Time_Performance_1987_present_2016_9.zip to ../project/data/FlightDelays/On_Time_Reporting_Carrier_On_Time_Performance_1987_present_2016_9.zip\n",
      "download: s3://aws-tc-largeobjects/CUR-TF-200-ACMLFO-1/flight_delay_project/data/On_Time_Reporting_Carrier_On_Time_Performance_1987_present_2017_10.zip to ../project/data/FlightDelays/On_Time_Reporting_Carrier_On_Time_Performance_1987_present_2017_10.zip\n",
      "download: s3://aws-tc-largeobjects/CUR-TF-200-ACMLFO-1/flight_delay_project/data/On_Time_Reporting_Carrier_On_Time_Performance_1987_present_2017_11.zip to ../project/data/FlightDelays/On_Time_Reporting_Carrier_On_Time_Performance_1987_present_2017_11.zip\n",
      "download: s3://aws-tc-largeobjects/CUR-TF-200-ACMLFO-1/flight_delay_project/data/On_Time_Reporting_Carrier_On_Time_Performance_1987_present_2017_2.zip to ../project/data/FlightDelays/On_Time_Reporting_Carrier_On_Time_Performance_1987_present_2017_2.zip\n",
      "download: s3://aws-tc-largeobjects/CUR-TF-200-ACMLFO-1/flight_delay_project/data/On_Time_Reporting_Carrier_On_Time_Performance_1987_present_2017_12.zip to ../project/data/FlightDelays/On_Time_Reporting_Carrier_On_Time_Performance_1987_present_2017_12.zip\n",
      "download: s3://aws-tc-largeobjects/CUR-TF-200-ACMLFO-1/flight_delay_project/data/On_Time_Reporting_Carrier_On_Time_Performance_1987_present_2017_3.zip to ../project/data/FlightDelays/On_Time_Reporting_Carrier_On_Time_Performance_1987_present_2017_3.zip\n",
      "download: s3://aws-tc-largeobjects/CUR-TF-200-ACMLFO-1/flight_delay_project/data/On_Time_Reporting_Carrier_On_Time_Performance_1987_present_2017_4.zip to ../project/data/FlightDelays/On_Time_Reporting_Carrier_On_Time_Performance_1987_present_2017_4.zip\n",
      "download: s3://aws-tc-largeobjects/CUR-TF-200-ACMLFO-1/flight_delay_project/data/On_Time_Reporting_Carrier_On_Time_Performance_1987_present_2017_5.zip to ../project/data/FlightDelays/On_Time_Reporting_Carrier_On_Time_Performance_1987_present_2017_5.zip\n",
      "download: s3://aws-tc-largeobjects/CUR-TF-200-ACMLFO-1/flight_delay_project/data/On_Time_Reporting_Carrier_On_Time_Performance_1987_present_2017_6.zip to ../project/data/FlightDelays/On_Time_Reporting_Carrier_On_Time_Performance_1987_present_2017_6.zip\n",
      "download: s3://aws-tc-largeobjects/CUR-TF-200-ACMLFO-1/flight_delay_project/data/On_Time_Reporting_Carrier_On_Time_Performance_1987_present_2017_7.zip to ../project/data/FlightDelays/On_Time_Reporting_Carrier_On_Time_Performance_1987_present_2017_7.zip\n",
      "download: s3://aws-tc-largeobjects/CUR-TF-200-ACMLFO-1/flight_delay_project/data/On_Time_Reporting_Carrier_On_Time_Performance_1987_present_2017_9.zip to ../project/data/FlightDelays/On_Time_Reporting_Carrier_On_Time_Performance_1987_present_2017_9.zip\n",
      "download: s3://aws-tc-largeobjects/CUR-TF-200-ACMLFO-1/flight_delay_project/data/On_Time_Reporting_Carrier_On_Time_Performance_1987_present_2017_8.zip to ../project/data/FlightDelays/On_Time_Reporting_Carrier_On_Time_Performance_1987_present_2017_8.zip\n",
      "download: s3://aws-tc-largeobjects/CUR-TF-200-ACMLFO-1/flight_delay_project/data/On_Time_Reporting_Carrier_On_Time_Performance_1987_present_2018_1.zip to ../project/data/FlightDelays/On_Time_Reporting_Carrier_On_Time_Performance_1987_present_2018_1.zip\n",
      "download: s3://aws-tc-largeobjects/CUR-TF-200-ACMLFO-1/flight_delay_project/data/On_Time_Reporting_Carrier_On_Time_Performance_1987_present_2018_12.zip to ../project/data/FlightDelays/On_Time_Reporting_Carrier_On_Time_Performance_1987_present_2018_12.zip\n",
      "download: s3://aws-tc-largeobjects/CUR-TF-200-ACMLFO-1/flight_delay_project/data/On_Time_Reporting_Carrier_On_Time_Performance_1987_present_2018_10.zip to ../project/data/FlightDelays/On_Time_Reporting_Carrier_On_Time_Performance_1987_present_2018_10.zip\n",
      "download: s3://aws-tc-largeobjects/CUR-TF-200-ACMLFO-1/flight_delay_project/data/On_Time_Reporting_Carrier_On_Time_Performance_1987_present_2018_11.zip to ../project/data/FlightDelays/On_Time_Reporting_Carrier_On_Time_Performance_1987_present_2018_11.zip\n",
      "download: s3://aws-tc-largeobjects/CUR-TF-200-ACMLFO-1/flight_delay_project/data/On_Time_Reporting_Carrier_On_Time_Performance_1987_present_2018_2.zip to ../project/data/FlightDelays/On_Time_Reporting_Carrier_On_Time_Performance_1987_present_2018_2.zip\n",
      "download: s3://aws-tc-largeobjects/CUR-TF-200-ACMLFO-1/flight_delay_project/data/On_Time_Reporting_Carrier_On_Time_Performance_1987_present_2018_3.zip to ../project/data/FlightDelays/On_Time_Reporting_Carrier_On_Time_Performance_1987_present_2018_3.zip\n",
      "download: s3://aws-tc-largeobjects/CUR-TF-200-ACMLFO-1/flight_delay_project/data/On_Time_Reporting_Carrier_On_Time_Performance_1987_present_2018_4.zip to ../project/data/FlightDelays/On_Time_Reporting_Carrier_On_Time_Performance_1987_present_2018_4.zip\n",
      "download: s3://aws-tc-largeobjects/CUR-TF-200-ACMLFO-1/flight_delay_project/data/On_Time_Reporting_Carrier_On_Time_Performance_1987_present_2018_7.zip to ../project/data/FlightDelays/On_Time_Reporting_Carrier_On_Time_Performance_1987_present_2018_7.zip\n",
      "download: s3://aws-tc-largeobjects/CUR-TF-200-ACMLFO-1/flight_delay_project/data/On_Time_Reporting_Carrier_On_Time_Performance_1987_present_2018_9.zip to ../project/data/FlightDelays/On_Time_Reporting_Carrier_On_Time_Performance_1987_present_2018_9.zip\n",
      "download: s3://aws-tc-largeobjects/CUR-TF-200-ACMLFO-1/flight_delay_project/data/On_Time_Reporting_Carrier_On_Time_Performance_1987_present_2018_6.zip to ../project/data/FlightDelays/On_Time_Reporting_Carrier_On_Time_Performance_1987_present_2018_6.zip\n",
      "download: s3://aws-tc-largeobjects/CUR-TF-200-ACMLFO-1/flight_delay_project/data/On_Time_Reporting_Carrier_On_Time_Performance_1987_present_2018_8.zip to ../project/data/FlightDelays/On_Time_Reporting_Carrier_On_Time_Performance_1987_present_2018_8.zip\n",
      "download: s3://aws-tc-largeobjects/CUR-TF-200-ACMLFO-1/flight_delay_project/data/On_Time_Reporting_Carrier_On_Time_Performance_1987_present_2018_5.zip to ../project/data/FlightDelays/On_Time_Reporting_Carrier_On_Time_Performance_1987_present_2018_5.zip\n"
     ]
    }
   ],
   "source": [
    "# download the files\n",
    "\n",
    "zip_path = '/home/ec2-user/SageMaker/project/data/FlightDelays/'\n",
    "base_path = '/home/ec2-user/SageMaker/project/data/FlightDelays/'\n",
    "csv_base_path = '/home/ec2-user/SageMaker/project/data/csvFlightDelays/'\n",
    "\n",
    "!mkdir -p {zip_path}\n",
    "!mkdir -p {csv_base_path}\n",
    "!aws s3 cp s3://aws-tc-largeobjects/CUR-TF-200-ACMLFO-1/flight_delay_project/data/ {zip_path} --recursive\n"
   ]
  },
  {
   "cell_type": "code",
   "execution_count": 3,
   "metadata": {
    "tags": []
   },
   "outputs": [
    {
     "data": {
      "text/plain": [
       "60"
      ]
     },
     "execution_count": 3,
     "metadata": {},
     "output_type": "execute_result"
    }
   ],
   "source": [
    "zip_files = [str(file) for file in list(Path(base_path).iterdir()) if '.zip' in str(file)]\n",
    "len(zip_files)"
   ]
  },
  {
   "cell_type": "markdown",
   "metadata": {},
   "source": [
    "Extract comma-separated values (CSV) files from the .zip files."
   ]
  },
  {
   "cell_type": "code",
   "execution_count": 4,
   "metadata": {
    "tags": []
   },
   "outputs": [
    {
     "name": "stdout",
     "output_type": "stream",
     "text": [
      "Extracting /home/ec2-user/SageMaker/project/data/FlightDelays/On_Time_Reporting_Carrier_On_Time_Performance_1987_present_2018_11.zip \n",
      "Extracting /home/ec2-user/SageMaker/project/data/FlightDelays/On_Time_Reporting_Carrier_On_Time_Performance_1987_present_2016_7.zip \n",
      "Extracting /home/ec2-user/SageMaker/project/data/FlightDelays/On_Time_Reporting_Carrier_On_Time_Performance_1987_present_2015_11.zip \n",
      "Extracting /home/ec2-user/SageMaker/project/data/FlightDelays/On_Time_Reporting_Carrier_On_Time_Performance_1987_present_2014_10.zip \n",
      "Extracting /home/ec2-user/SageMaker/project/data/FlightDelays/On_Time_Reporting_Carrier_On_Time_Performance_1987_present_2016_10.zip \n",
      "Extracting /home/ec2-user/SageMaker/project/data/FlightDelays/On_Time_Reporting_Carrier_On_Time_Performance_1987_present_2017_2.zip \n",
      "Extracting /home/ec2-user/SageMaker/project/data/FlightDelays/On_Time_Reporting_Carrier_On_Time_Performance_1987_present_2016_12.zip \n",
      "Extracting /home/ec2-user/SageMaker/project/data/FlightDelays/On_Time_Reporting_Carrier_On_Time_Performance_1987_present_2015_7.zip \n",
      "Extracting /home/ec2-user/SageMaker/project/data/FlightDelays/On_Time_Reporting_Carrier_On_Time_Performance_1987_present_2016_11.zip \n",
      "Extracting /home/ec2-user/SageMaker/project/data/FlightDelays/On_Time_Reporting_Carrier_On_Time_Performance_1987_present_2015_5.zip \n",
      "Extracting /home/ec2-user/SageMaker/project/data/FlightDelays/On_Time_Reporting_Carrier_On_Time_Performance_1987_present_2014_9.zip \n",
      "Extracting /home/ec2-user/SageMaker/project/data/FlightDelays/On_Time_Reporting_Carrier_On_Time_Performance_1987_present_2014_1.zip \n",
      "Extracting /home/ec2-user/SageMaker/project/data/FlightDelays/On_Time_Reporting_Carrier_On_Time_Performance_1987_present_2018_7.zip \n",
      "Extracting /home/ec2-user/SageMaker/project/data/FlightDelays/On_Time_Reporting_Carrier_On_Time_Performance_1987_present_2018_2.zip \n",
      "Extracting /home/ec2-user/SageMaker/project/data/FlightDelays/On_Time_Reporting_Carrier_On_Time_Performance_1987_present_2015_6.zip \n",
      "Extracting /home/ec2-user/SageMaker/project/data/FlightDelays/On_Time_Reporting_Carrier_On_Time_Performance_1987_present_2018_3.zip \n",
      "Extracting /home/ec2-user/SageMaker/project/data/FlightDelays/On_Time_Reporting_Carrier_On_Time_Performance_1987_present_2017_3.zip \n",
      "Extracting /home/ec2-user/SageMaker/project/data/FlightDelays/On_Time_Reporting_Carrier_On_Time_Performance_1987_present_2014_7.zip \n",
      "Extracting /home/ec2-user/SageMaker/project/data/FlightDelays/On_Time_Reporting_Carrier_On_Time_Performance_1987_present_2014_4.zip \n",
      "Extracting /home/ec2-user/SageMaker/project/data/FlightDelays/On_Time_Reporting_Carrier_On_Time_Performance_1987_present_2017_10.zip \n",
      "Extracting /home/ec2-user/SageMaker/project/data/FlightDelays/On_Time_Reporting_Carrier_On_Time_Performance_1987_present_2018_6.zip \n",
      "Extracting /home/ec2-user/SageMaker/project/data/FlightDelays/On_Time_Reporting_Carrier_On_Time_Performance_1987_present_2016_9.zip \n",
      "Extracting /home/ec2-user/SageMaker/project/data/FlightDelays/On_Time_Reporting_Carrier_On_Time_Performance_1987_present_2015_8.zip \n",
      "Extracting /home/ec2-user/SageMaker/project/data/FlightDelays/On_Time_Reporting_Carrier_On_Time_Performance_1987_present_2017_12.zip \n",
      "Extracting /home/ec2-user/SageMaker/project/data/FlightDelays/On_Time_Reporting_Carrier_On_Time_Performance_1987_present_2018_1.zip \n",
      "Extracting /home/ec2-user/SageMaker/project/data/FlightDelays/On_Time_Reporting_Carrier_On_Time_Performance_1987_present_2016_2.zip \n",
      "Extracting /home/ec2-user/SageMaker/project/data/FlightDelays/On_Time_Reporting_Carrier_On_Time_Performance_1987_present_2015_4.zip \n",
      "Extracting /home/ec2-user/SageMaker/project/data/FlightDelays/On_Time_Reporting_Carrier_On_Time_Performance_1987_present_2015_10.zip \n",
      "Extracting /home/ec2-user/SageMaker/project/data/FlightDelays/On_Time_Reporting_Carrier_On_Time_Performance_1987_present_2017_1.zip \n",
      "Extracting /home/ec2-user/SageMaker/project/data/FlightDelays/On_Time_Reporting_Carrier_On_Time_Performance_1987_present_2014_2.zip \n",
      "Extracting /home/ec2-user/SageMaker/project/data/FlightDelays/On_Time_Reporting_Carrier_On_Time_Performance_1987_present_2015_1.zip \n",
      "Extracting /home/ec2-user/SageMaker/project/data/FlightDelays/On_Time_Reporting_Carrier_On_Time_Performance_1987_present_2017_5.zip \n",
      "Extracting /home/ec2-user/SageMaker/project/data/FlightDelays/On_Time_Reporting_Carrier_On_Time_Performance_1987_present_2018_5.zip \n",
      "Extracting /home/ec2-user/SageMaker/project/data/FlightDelays/On_Time_Reporting_Carrier_On_Time_Performance_1987_present_2018_4.zip \n",
      "Extracting /home/ec2-user/SageMaker/project/data/FlightDelays/On_Time_Reporting_Carrier_On_Time_Performance_1987_present_2016_4.zip \n",
      "Extracting /home/ec2-user/SageMaker/project/data/FlightDelays/On_Time_Reporting_Carrier_On_Time_Performance_1987_present_2014_12.zip \n",
      "Extracting /home/ec2-user/SageMaker/project/data/FlightDelays/On_Time_Reporting_Carrier_On_Time_Performance_1987_present_2014_11.zip \n",
      "Extracting /home/ec2-user/SageMaker/project/data/FlightDelays/On_Time_Reporting_Carrier_On_Time_Performance_1987_present_2017_4.zip \n",
      "Extracting /home/ec2-user/SageMaker/project/data/FlightDelays/On_Time_Reporting_Carrier_On_Time_Performance_1987_present_2017_11.zip \n",
      "Extracting /home/ec2-user/SageMaker/project/data/FlightDelays/On_Time_Reporting_Carrier_On_Time_Performance_1987_present_2018_12.zip \n",
      "Extracting /home/ec2-user/SageMaker/project/data/FlightDelays/On_Time_Reporting_Carrier_On_Time_Performance_1987_present_2017_9.zip \n",
      "Extracting /home/ec2-user/SageMaker/project/data/FlightDelays/On_Time_Reporting_Carrier_On_Time_Performance_1987_present_2018_8.zip \n",
      "Extracting /home/ec2-user/SageMaker/project/data/FlightDelays/On_Time_Reporting_Carrier_On_Time_Performance_1987_present_2018_10.zip \n",
      "Extracting /home/ec2-user/SageMaker/project/data/FlightDelays/On_Time_Reporting_Carrier_On_Time_Performance_1987_present_2015_9.zip \n",
      "Extracting /home/ec2-user/SageMaker/project/data/FlightDelays/On_Time_Reporting_Carrier_On_Time_Performance_1987_present_2014_6.zip \n",
      "Extracting /home/ec2-user/SageMaker/project/data/FlightDelays/On_Time_Reporting_Carrier_On_Time_Performance_1987_present_2017_8.zip \n",
      "Extracting /home/ec2-user/SageMaker/project/data/FlightDelays/On_Time_Reporting_Carrier_On_Time_Performance_1987_present_2015_3.zip \n",
      "Extracting /home/ec2-user/SageMaker/project/data/FlightDelays/On_Time_Reporting_Carrier_On_Time_Performance_1987_present_2016_1.zip \n",
      "Extracting /home/ec2-user/SageMaker/project/data/FlightDelays/On_Time_Reporting_Carrier_On_Time_Performance_1987_present_2014_5.zip \n",
      "Extracting /home/ec2-user/SageMaker/project/data/FlightDelays/On_Time_Reporting_Carrier_On_Time_Performance_1987_present_2017_6.zip \n",
      "Extracting /home/ec2-user/SageMaker/project/data/FlightDelays/On_Time_Reporting_Carrier_On_Time_Performance_1987_present_2016_6.zip \n",
      "Extracting /home/ec2-user/SageMaker/project/data/FlightDelays/On_Time_Reporting_Carrier_On_Time_Performance_1987_present_2014_3.zip \n",
      "Extracting /home/ec2-user/SageMaker/project/data/FlightDelays/On_Time_Reporting_Carrier_On_Time_Performance_1987_present_2018_9.zip \n",
      "Extracting /home/ec2-user/SageMaker/project/data/FlightDelays/On_Time_Reporting_Carrier_On_Time_Performance_1987_present_2016_8.zip \n",
      "Extracting /home/ec2-user/SageMaker/project/data/FlightDelays/On_Time_Reporting_Carrier_On_Time_Performance_1987_present_2015_12.zip \n",
      "Extracting /home/ec2-user/SageMaker/project/data/FlightDelays/On_Time_Reporting_Carrier_On_Time_Performance_1987_present_2015_2.zip \n",
      "Extracting /home/ec2-user/SageMaker/project/data/FlightDelays/On_Time_Reporting_Carrier_On_Time_Performance_1987_present_2016_5.zip \n",
      "Extracting /home/ec2-user/SageMaker/project/data/FlightDelays/On_Time_Reporting_Carrier_On_Time_Performance_1987_present_2014_8.zip \n",
      "Extracting /home/ec2-user/SageMaker/project/data/FlightDelays/On_Time_Reporting_Carrier_On_Time_Performance_1987_present_2017_7.zip \n",
      "Extracting /home/ec2-user/SageMaker/project/data/FlightDelays/On_Time_Reporting_Carrier_On_Time_Performance_1987_present_2016_3.zip \n",
      "Files Extracted\n"
     ]
    }
   ],
   "source": [
    "def zip2csv(zipFile_name , file_path):\n",
    "    \"\"\"\n",
    "    Extract csv from zip files\n",
    "    zipFile_name: name of the zip file\n",
    "    file_path : name of the folder to store csv\n",
    "    \"\"\"\n",
    "\n",
    "    try:\n",
    "        with ZipFile(zipFile_name, 'r') as z: \n",
    "            print(f'Extracting {zipFile_name} ') \n",
    "            z.extractall(path=file_path) \n",
    "    except:\n",
    "        print(f'zip2csv failed for {zipFile_name}')\n",
    "\n",
    "for file in zip_files:\n",
    "    zip2csv(file, csv_base_path)\n",
    "\n",
    "print(\"Files Extracted\")"
   ]
  },
  {
   "cell_type": "code",
   "execution_count": 5,
   "metadata": {
    "tags": []
   },
   "outputs": [
    {
     "data": {
      "text/plain": [
       "60"
      ]
     },
     "execution_count": 5,
     "metadata": {},
     "output_type": "execute_result"
    }
   ],
   "source": [
    "csv_files = [str(file) for file in list(Path(csv_base_path).iterdir()) if '.csv' in str(file)]\n",
    "len(csv_files)"
   ]
  },
  {
   "cell_type": "markdown",
   "metadata": {},
   "source": [
    "Before you load the CSV file, read the HTML file from the extracted folder. This HTML file includes the background and more information about the features that are included in the dataset."
   ]
  },
  {
   "cell_type": "code",
   "execution_count": 6,
   "metadata": {
    "tags": []
   },
   "outputs": [
    {
     "data": {
      "text/html": [
       "\n",
       "        <iframe\n",
       "            width=\"1000\"\n",
       "            height=\"600\"\n",
       "            src=\"../project/data/csvFlightDelays/readme.html\"\n",
       "            frameborder=\"0\"\n",
       "            allowfullscreen\n",
       "            \n",
       "        ></iframe>\n",
       "        "
      ],
      "text/plain": [
       "<IPython.lib.display.IFrame at 0x7f1e53c65ab0>"
      ]
     },
     "execution_count": 6,
     "metadata": {},
     "output_type": "execute_result"
    }
   ],
   "source": [
    "from IPython.display import IFrame\n",
    "\n",
    "IFrame(src=os.path.relpath(f\"{csv_base_path}readme.html\"), width=1000, height=600)"
   ]
  },
  {
   "cell_type": "markdown",
   "metadata": {},
   "source": [
    "#### Load sample CSV file\n",
    "\n",
    "Before you combine all the CSV files, examine the data from a single CSV file. By using pandas, read the `On_Time_Reporting_Carrier_On_Time_Performance_(1987_present)_2018_9.csv` file first. You can use the built-in `read_csv` function in Python ([pandas.read_csv documentation](https://pandas.pydata.org/pandas-docs/stable/reference/api/pandas.read_csv.html))."
   ]
  },
  {
   "cell_type": "code",
   "execution_count": 7,
   "metadata": {
    "tags": []
   },
   "outputs": [],
   "source": [
    "df_temp = pd.read_csv(f\"{csv_base_path}On_Time_Reporting_Carrier_On_Time_Performance_(1987_present)_2018_9.csv\")"
   ]
  },
  {
   "cell_type": "markdown",
   "metadata": {},
   "source": [
    "**Question**: Print the row and column length in the dataset, and print the column names.\n",
    "\n",
    "**Hint**: To view the rows and columns of a DataFrame, use the `<DataFrame>.shape` function. To view the column names, use the `<DataFrame>.columns` function.\n",
    "\n",
    "codigo "
   ]
  },
  {
   "cell_type": "code",
   "execution_count": 8,
   "metadata": {
    "tags": []
   },
   "outputs": [
    {
     "name": "stdout",
     "output_type": "stream",
     "text": [
      "Rows and columns in one CSV file is (585749, 110)\n"
     ]
    }
   ],
   "source": [
    "df_shape = df_temp.shape\n",
    "print(f'Rows and columns in one CSV file is {df_shape}')"
   ]
  },
  {
   "cell_type": "markdown",
   "metadata": {},
   "source": [
    "**Question**: Print the first 10 rows of the dataset.  \n",
    "\n",
    "**Hint**: To print `x` number of rows, use the built-in `head(x)` function in pandas.\n",
    "\n",
    "codigo"
   ]
  },
  {
   "cell_type": "code",
   "execution_count": 10,
   "metadata": {
    "tags": []
   },
   "outputs": [
    {
     "data": {
      "text/html": [
       "<div>\n",
       "<style scoped>\n",
       "    .dataframe tbody tr th:only-of-type {\n",
       "        vertical-align: middle;\n",
       "    }\n",
       "\n",
       "    .dataframe tbody tr th {\n",
       "        vertical-align: top;\n",
       "    }\n",
       "\n",
       "    .dataframe thead th {\n",
       "        text-align: right;\n",
       "    }\n",
       "</style>\n",
       "<table border=\"1\" class=\"dataframe\">\n",
       "  <thead>\n",
       "    <tr style=\"text-align: right;\">\n",
       "      <th></th>\n",
       "      <th>Year</th>\n",
       "      <th>Quarter</th>\n",
       "      <th>Month</th>\n",
       "      <th>DayofMonth</th>\n",
       "      <th>DayOfWeek</th>\n",
       "      <th>FlightDate</th>\n",
       "      <th>Reporting_Airline</th>\n",
       "      <th>DOT_ID_Reporting_Airline</th>\n",
       "      <th>IATA_CODE_Reporting_Airline</th>\n",
       "      <th>Tail_Number</th>\n",
       "      <th>...</th>\n",
       "      <th>Div4TailNum</th>\n",
       "      <th>Div5Airport</th>\n",
       "      <th>Div5AirportID</th>\n",
       "      <th>Div5AirportSeqID</th>\n",
       "      <th>Div5WheelsOn</th>\n",
       "      <th>Div5TotalGTime</th>\n",
       "      <th>Div5LongestGTime</th>\n",
       "      <th>Div5WheelsOff</th>\n",
       "      <th>Div5TailNum</th>\n",
       "      <th>Unnamed: 109</th>\n",
       "    </tr>\n",
       "  </thead>\n",
       "  <tbody>\n",
       "    <tr>\n",
       "      <th>0</th>\n",
       "      <td>2018</td>\n",
       "      <td>3</td>\n",
       "      <td>9</td>\n",
       "      <td>3</td>\n",
       "      <td>1</td>\n",
       "      <td>2018-09-03</td>\n",
       "      <td>9E</td>\n",
       "      <td>20363</td>\n",
       "      <td>9E</td>\n",
       "      <td>N908XJ</td>\n",
       "      <td>...</td>\n",
       "      <td>NaN</td>\n",
       "      <td>NaN</td>\n",
       "      <td>NaN</td>\n",
       "      <td>NaN</td>\n",
       "      <td>NaN</td>\n",
       "      <td>NaN</td>\n",
       "      <td>NaN</td>\n",
       "      <td>NaN</td>\n",
       "      <td>NaN</td>\n",
       "      <td>NaN</td>\n",
       "    </tr>\n",
       "    <tr>\n",
       "      <th>1</th>\n",
       "      <td>2018</td>\n",
       "      <td>3</td>\n",
       "      <td>9</td>\n",
       "      <td>9</td>\n",
       "      <td>7</td>\n",
       "      <td>2018-09-09</td>\n",
       "      <td>9E</td>\n",
       "      <td>20363</td>\n",
       "      <td>9E</td>\n",
       "      <td>N315PQ</td>\n",
       "      <td>...</td>\n",
       "      <td>NaN</td>\n",
       "      <td>NaN</td>\n",
       "      <td>NaN</td>\n",
       "      <td>NaN</td>\n",
       "      <td>NaN</td>\n",
       "      <td>NaN</td>\n",
       "      <td>NaN</td>\n",
       "      <td>NaN</td>\n",
       "      <td>NaN</td>\n",
       "      <td>NaN</td>\n",
       "    </tr>\n",
       "    <tr>\n",
       "      <th>2</th>\n",
       "      <td>2018</td>\n",
       "      <td>3</td>\n",
       "      <td>9</td>\n",
       "      <td>10</td>\n",
       "      <td>1</td>\n",
       "      <td>2018-09-10</td>\n",
       "      <td>9E</td>\n",
       "      <td>20363</td>\n",
       "      <td>9E</td>\n",
       "      <td>N582CA</td>\n",
       "      <td>...</td>\n",
       "      <td>NaN</td>\n",
       "      <td>NaN</td>\n",
       "      <td>NaN</td>\n",
       "      <td>NaN</td>\n",
       "      <td>NaN</td>\n",
       "      <td>NaN</td>\n",
       "      <td>NaN</td>\n",
       "      <td>NaN</td>\n",
       "      <td>NaN</td>\n",
       "      <td>NaN</td>\n",
       "    </tr>\n",
       "    <tr>\n",
       "      <th>3</th>\n",
       "      <td>2018</td>\n",
       "      <td>3</td>\n",
       "      <td>9</td>\n",
       "      <td>13</td>\n",
       "      <td>4</td>\n",
       "      <td>2018-09-13</td>\n",
       "      <td>9E</td>\n",
       "      <td>20363</td>\n",
       "      <td>9E</td>\n",
       "      <td>N292PQ</td>\n",
       "      <td>...</td>\n",
       "      <td>NaN</td>\n",
       "      <td>NaN</td>\n",
       "      <td>NaN</td>\n",
       "      <td>NaN</td>\n",
       "      <td>NaN</td>\n",
       "      <td>NaN</td>\n",
       "      <td>NaN</td>\n",
       "      <td>NaN</td>\n",
       "      <td>NaN</td>\n",
       "      <td>NaN</td>\n",
       "    </tr>\n",
       "    <tr>\n",
       "      <th>4</th>\n",
       "      <td>2018</td>\n",
       "      <td>3</td>\n",
       "      <td>9</td>\n",
       "      <td>14</td>\n",
       "      <td>5</td>\n",
       "      <td>2018-09-14</td>\n",
       "      <td>9E</td>\n",
       "      <td>20363</td>\n",
       "      <td>9E</td>\n",
       "      <td>N600LR</td>\n",
       "      <td>...</td>\n",
       "      <td>NaN</td>\n",
       "      <td>NaN</td>\n",
       "      <td>NaN</td>\n",
       "      <td>NaN</td>\n",
       "      <td>NaN</td>\n",
       "      <td>NaN</td>\n",
       "      <td>NaN</td>\n",
       "      <td>NaN</td>\n",
       "      <td>NaN</td>\n",
       "      <td>NaN</td>\n",
       "    </tr>\n",
       "    <tr>\n",
       "      <th>5</th>\n",
       "      <td>2018</td>\n",
       "      <td>3</td>\n",
       "      <td>9</td>\n",
       "      <td>16</td>\n",
       "      <td>7</td>\n",
       "      <td>2018-09-16</td>\n",
       "      <td>9E</td>\n",
       "      <td>20363</td>\n",
       "      <td>9E</td>\n",
       "      <td>N316PQ</td>\n",
       "      <td>...</td>\n",
       "      <td>NaN</td>\n",
       "      <td>NaN</td>\n",
       "      <td>NaN</td>\n",
       "      <td>NaN</td>\n",
       "      <td>NaN</td>\n",
       "      <td>NaN</td>\n",
       "      <td>NaN</td>\n",
       "      <td>NaN</td>\n",
       "      <td>NaN</td>\n",
       "      <td>NaN</td>\n",
       "    </tr>\n",
       "    <tr>\n",
       "      <th>6</th>\n",
       "      <td>2018</td>\n",
       "      <td>3</td>\n",
       "      <td>9</td>\n",
       "      <td>17</td>\n",
       "      <td>1</td>\n",
       "      <td>2018-09-17</td>\n",
       "      <td>9E</td>\n",
       "      <td>20363</td>\n",
       "      <td>9E</td>\n",
       "      <td>N916XJ</td>\n",
       "      <td>...</td>\n",
       "      <td>NaN</td>\n",
       "      <td>NaN</td>\n",
       "      <td>NaN</td>\n",
       "      <td>NaN</td>\n",
       "      <td>NaN</td>\n",
       "      <td>NaN</td>\n",
       "      <td>NaN</td>\n",
       "      <td>NaN</td>\n",
       "      <td>NaN</td>\n",
       "      <td>NaN</td>\n",
       "    </tr>\n",
       "    <tr>\n",
       "      <th>7</th>\n",
       "      <td>2018</td>\n",
       "      <td>3</td>\n",
       "      <td>9</td>\n",
       "      <td>20</td>\n",
       "      <td>4</td>\n",
       "      <td>2018-09-20</td>\n",
       "      <td>9E</td>\n",
       "      <td>20363</td>\n",
       "      <td>9E</td>\n",
       "      <td>N371CA</td>\n",
       "      <td>...</td>\n",
       "      <td>NaN</td>\n",
       "      <td>NaN</td>\n",
       "      <td>NaN</td>\n",
       "      <td>NaN</td>\n",
       "      <td>NaN</td>\n",
       "      <td>NaN</td>\n",
       "      <td>NaN</td>\n",
       "      <td>NaN</td>\n",
       "      <td>NaN</td>\n",
       "      <td>NaN</td>\n",
       "    </tr>\n",
       "    <tr>\n",
       "      <th>8</th>\n",
       "      <td>2018</td>\n",
       "      <td>3</td>\n",
       "      <td>9</td>\n",
       "      <td>21</td>\n",
       "      <td>5</td>\n",
       "      <td>2018-09-21</td>\n",
       "      <td>9E</td>\n",
       "      <td>20363</td>\n",
       "      <td>9E</td>\n",
       "      <td>N601LR</td>\n",
       "      <td>...</td>\n",
       "      <td>NaN</td>\n",
       "      <td>NaN</td>\n",
       "      <td>NaN</td>\n",
       "      <td>NaN</td>\n",
       "      <td>NaN</td>\n",
       "      <td>NaN</td>\n",
       "      <td>NaN</td>\n",
       "      <td>NaN</td>\n",
       "      <td>NaN</td>\n",
       "      <td>NaN</td>\n",
       "    </tr>\n",
       "    <tr>\n",
       "      <th>9</th>\n",
       "      <td>2018</td>\n",
       "      <td>3</td>\n",
       "      <td>9</td>\n",
       "      <td>23</td>\n",
       "      <td>7</td>\n",
       "      <td>2018-09-23</td>\n",
       "      <td>9E</td>\n",
       "      <td>20363</td>\n",
       "      <td>9E</td>\n",
       "      <td>N906XJ</td>\n",
       "      <td>...</td>\n",
       "      <td>NaN</td>\n",
       "      <td>NaN</td>\n",
       "      <td>NaN</td>\n",
       "      <td>NaN</td>\n",
       "      <td>NaN</td>\n",
       "      <td>NaN</td>\n",
       "      <td>NaN</td>\n",
       "      <td>NaN</td>\n",
       "      <td>NaN</td>\n",
       "      <td>NaN</td>\n",
       "    </tr>\n",
       "  </tbody>\n",
       "</table>\n",
       "<p>10 rows × 110 columns</p>\n",
       "</div>"
      ],
      "text/plain": [
       "   Year  Quarter  Month  DayofMonth  DayOfWeek  FlightDate Reporting_Airline  \\\n",
       "0  2018        3      9           3          1  2018-09-03                9E   \n",
       "1  2018        3      9           9          7  2018-09-09                9E   \n",
       "2  2018        3      9          10          1  2018-09-10                9E   \n",
       "3  2018        3      9          13          4  2018-09-13                9E   \n",
       "4  2018        3      9          14          5  2018-09-14                9E   \n",
       "5  2018        3      9          16          7  2018-09-16                9E   \n",
       "6  2018        3      9          17          1  2018-09-17                9E   \n",
       "7  2018        3      9          20          4  2018-09-20                9E   \n",
       "8  2018        3      9          21          5  2018-09-21                9E   \n",
       "9  2018        3      9          23          7  2018-09-23                9E   \n",
       "\n",
       "   DOT_ID_Reporting_Airline IATA_CODE_Reporting_Airline Tail_Number  ...  \\\n",
       "0                     20363                          9E      N908XJ  ...   \n",
       "1                     20363                          9E      N315PQ  ...   \n",
       "2                     20363                          9E      N582CA  ...   \n",
       "3                     20363                          9E      N292PQ  ...   \n",
       "4                     20363                          9E      N600LR  ...   \n",
       "5                     20363                          9E      N316PQ  ...   \n",
       "6                     20363                          9E      N916XJ  ...   \n",
       "7                     20363                          9E      N371CA  ...   \n",
       "8                     20363                          9E      N601LR  ...   \n",
       "9                     20363                          9E      N906XJ  ...   \n",
       "\n",
       "   Div4TailNum  Div5Airport  Div5AirportID  Div5AirportSeqID Div5WheelsOn  \\\n",
       "0          NaN          NaN            NaN               NaN          NaN   \n",
       "1          NaN          NaN            NaN               NaN          NaN   \n",
       "2          NaN          NaN            NaN               NaN          NaN   \n",
       "3          NaN          NaN            NaN               NaN          NaN   \n",
       "4          NaN          NaN            NaN               NaN          NaN   \n",
       "5          NaN          NaN            NaN               NaN          NaN   \n",
       "6          NaN          NaN            NaN               NaN          NaN   \n",
       "7          NaN          NaN            NaN               NaN          NaN   \n",
       "8          NaN          NaN            NaN               NaN          NaN   \n",
       "9          NaN          NaN            NaN               NaN          NaN   \n",
       "\n",
       "  Div5TotalGTime Div5LongestGTime  Div5WheelsOff Div5TailNum  Unnamed: 109  \n",
       "0            NaN              NaN            NaN         NaN           NaN  \n",
       "1            NaN              NaN            NaN         NaN           NaN  \n",
       "2            NaN              NaN            NaN         NaN           NaN  \n",
       "3            NaN              NaN            NaN         NaN           NaN  \n",
       "4            NaN              NaN            NaN         NaN           NaN  \n",
       "5            NaN              NaN            NaN         NaN           NaN  \n",
       "6            NaN              NaN            NaN         NaN           NaN  \n",
       "7            NaN              NaN            NaN         NaN           NaN  \n",
       "8            NaN              NaN            NaN         NaN           NaN  \n",
       "9            NaN              NaN            NaN         NaN           NaN  \n",
       "\n",
       "[10 rows x 110 columns]"
      ]
     },
     "execution_count": 10,
     "metadata": {},
     "output_type": "execute_result"
    }
   ],
   "source": [
    "df_temp.head(10)"
   ]
  },
  {
   "cell_type": "markdown",
   "metadata": {},
   "source": [
    "**Question**: Print all the columns in the dataset. To view the column names, use `<DataFrame>.columns`.\n",
    "\n",
    "\n",
    "codigo"
   ]
  },
  {
   "cell_type": "code",
   "execution_count": 9,
   "metadata": {
    "tags": []
   },
   "outputs": [
    {
     "name": "stdout",
     "output_type": "stream",
     "text": [
      "The column names are :\n",
      "#########\n",
      "Year\n",
      "Quarter\n",
      "Month\n",
      "DayofMonth\n",
      "DayOfWeek\n",
      "FlightDate\n",
      "Reporting_Airline\n",
      "DOT_ID_Reporting_Airline\n",
      "IATA_CODE_Reporting_Airline\n",
      "Tail_Number\n",
      "Flight_Number_Reporting_Airline\n",
      "OriginAirportID\n",
      "OriginAirportSeqID\n",
      "OriginCityMarketID\n",
      "Origin\n",
      "OriginCityName\n",
      "OriginState\n",
      "OriginStateFips\n",
      "OriginStateName\n",
      "OriginWac\n",
      "DestAirportID\n",
      "DestAirportSeqID\n",
      "DestCityMarketID\n",
      "Dest\n",
      "DestCityName\n",
      "DestState\n",
      "DestStateFips\n",
      "DestStateName\n",
      "DestWac\n",
      "CRSDepTime\n",
      "DepTime\n",
      "DepDelay\n",
      "DepDelayMinutes\n",
      "DepDel15\n",
      "DepartureDelayGroups\n",
      "DepTimeBlk\n",
      "TaxiOut\n",
      "WheelsOff\n",
      "WheelsOn\n",
      "TaxiIn\n",
      "CRSArrTime\n",
      "ArrTime\n",
      "ArrDelay\n",
      "ArrDelayMinutes\n",
      "ArrDel15\n",
      "ArrivalDelayGroups\n",
      "ArrTimeBlk\n",
      "Cancelled\n",
      "CancellationCode\n",
      "Diverted\n",
      "CRSElapsedTime\n",
      "ActualElapsedTime\n",
      "AirTime\n",
      "Flights\n",
      "Distance\n",
      "DistanceGroup\n",
      "CarrierDelay\n",
      "WeatherDelay\n",
      "NASDelay\n",
      "SecurityDelay\n",
      "LateAircraftDelay\n",
      "FirstDepTime\n",
      "TotalAddGTime\n",
      "LongestAddGTime\n",
      "DivAirportLandings\n",
      "DivReachedDest\n",
      "DivActualElapsedTime\n",
      "DivArrDelay\n",
      "DivDistance\n",
      "Div1Airport\n",
      "Div1AirportID\n",
      "Div1AirportSeqID\n",
      "Div1WheelsOn\n",
      "Div1TotalGTime\n",
      "Div1LongestGTime\n",
      "Div1WheelsOff\n",
      "Div1TailNum\n",
      "Div2Airport\n",
      "Div2AirportID\n",
      "Div2AirportSeqID\n",
      "Div2WheelsOn\n",
      "Div2TotalGTime\n",
      "Div2LongestGTime\n",
      "Div2WheelsOff\n",
      "Div2TailNum\n",
      "Div3Airport\n",
      "Div3AirportID\n",
      "Div3AirportSeqID\n",
      "Div3WheelsOn\n",
      "Div3TotalGTime\n",
      "Div3LongestGTime\n",
      "Div3WheelsOff\n",
      "Div3TailNum\n",
      "Div4Airport\n",
      "Div4AirportID\n",
      "Div4AirportSeqID\n",
      "Div4WheelsOn\n",
      "Div4TotalGTime\n",
      "Div4LongestGTime\n",
      "Div4WheelsOff\n",
      "Div4TailNum\n",
      "Div5Airport\n",
      "Div5AirportID\n",
      "Div5AirportSeqID\n",
      "Div5WheelsOn\n",
      "Div5TotalGTime\n",
      "Div5LongestGTime\n",
      "Div5WheelsOff\n",
      "Div5TailNum\n",
      "Unnamed: 109\n"
     ]
    }
   ],
   "source": [
    "print(f'The column names are :')\n",
    "print('#########')\n",
    "for col in  df_temp.columns:# **ENTER YOUR CODE HERE**\n",
    "    print(col)"
   ]
  },
  {
   "cell_type": "markdown",
   "metadata": {},
   "source": [
    "**Question**: Print all the columns in the dataset that contain the word *Del*. This will help you see how many columns have *delay data* in them.\n",
    "\n",
    "**Hint**: To include values that pass certain `if` statement criteria, you can use a Python list comprehension.\n",
    "\n",
    "For example: `[x for x in [1,2,3,4,5] if x > 2]`  \n",
    "\n",
    "**Hint**: To check if the value is in a list, you can use the `in` keyword ([Python in Keyword documentation](https://www.w3schools.com/python/ref_keyword_in.asp)). \n",
    "\n",
    "For example: `5 in [1,2,3,4,5]`\n",
    "\n",
    "codigo"
   ]
  },
  {
   "cell_type": "code",
   "execution_count": 10,
   "metadata": {
    "tags": []
   },
   "outputs": [
    {
     "data": {
      "text/plain": [
       "['DepDelay',\n",
       " 'DepDelayMinutes',\n",
       " 'DepDel15',\n",
       " 'DepartureDelayGroups',\n",
       " 'ArrDelay',\n",
       " 'ArrDelayMinutes',\n",
       " 'ArrDel15',\n",
       " 'ArrivalDelayGroups',\n",
       " 'CarrierDelay',\n",
       " 'WeatherDelay',\n",
       " 'NASDelay',\n",
       " 'SecurityDelay',\n",
       " 'LateAircraftDelay',\n",
       " 'DivArrDelay']"
      ]
     },
     "execution_count": 10,
     "metadata": {},
     "output_type": "execute_result"
    }
   ],
   "source": [
    "[col for col in df_temp.columns if \"Del\" in col]"
   ]
  },
  {
   "cell_type": "markdown",
   "metadata": {},
   "source": [
    "Here are some more questions to help you learn more about your dataset.\n",
    "\n",
    "**Questions**   \n",
    "\n",
    "1. How many rows and columns does the dataset have?   \n",
    "2. How many years are included in the dataset?   \n",
    "3. What is the date range for the dataset?   \n",
    "4. Which airlines are included in the dataset?   \n",
    "5. Which origin and destination airports are covered?\n",
    "\n",
    "**Hints**\n",
    "- To show the dimensions of the DataFrame, use `df_temp.shape`.\n",
    "- To refer to a specific column, use `df_temp.columnName` (for example, `df_temp.CarrierDelay`).\n",
    "- To get unique values for a column, use `df_temp.column.unique()` (for, example `df_temp.Year.unique()`).\n",
    "\n",
    "codigos"
   ]
  },
  {
   "cell_type": "code",
   "execution_count": 11,
   "metadata": {
    "tags": []
   },
   "outputs": [
    {
     "name": "stdout",
     "output_type": "stream",
     "text": [
      "The #rows and #columns are  585749  and  110\n",
      "The years in this dataset are:  0         2018\n",
      "1         2018\n",
      "2         2018\n",
      "3         2018\n",
      "4         2018\n",
      "          ... \n",
      "585744    2018\n",
      "585745    2018\n",
      "585746    2018\n",
      "585747    2018\n",
      "585748    2018\n",
      "Name: Year, Length: 585749, dtype: int64\n",
      "The months covered in this dataset are:  0         9\n",
      "1         9\n",
      "2         9\n",
      "3         9\n",
      "4         9\n",
      "         ..\n",
      "585744    9\n",
      "585745    9\n",
      "585746    9\n",
      "585747    9\n",
      "585748    9\n",
      "Name: Month, Length: 585749, dtype: int64\n",
      "The date range for data is : 2018-09-01  to  2018-09-30\n",
      "The airlines covered in this dataset are:  ['9E', 'B6', 'WN', 'YV', 'YX', 'EV', 'AA', 'AS', 'DL', 'HA', 'UA', 'F9', 'G4', 'MQ', 'NK', 'OH', 'OO']\n",
      "The Origin airports covered are:  ['DFW', 'LGA', 'MSN', 'MSP', 'ATL', 'BDL', 'VLD', 'JFK', 'RDU', 'CHS', 'DTW', 'GRB', 'PVD', 'SHV', 'FNT', 'PIT', 'RIC', 'RST', 'RSW', 'CVG', 'LIT', 'ORD', 'JAX', 'TRI', 'BOS', 'CWA', 'DCA', 'CHO', 'AVP', 'IND', 'GRR', 'BTR', 'MEM', 'TUL', 'CLE', 'STL', 'BTV', 'OMA', 'MGM', 'TVC', 'SAV', 'GSP', 'EWR', 'OAJ', 'BNA', 'MCI', 'TLH', 'ROC', 'LEX', 'PWM', 'BUF', 'AGS', 'CLT', 'GSO', 'BWI', 'SAT', 'PHL', 'TYS', 'ACK', 'DSM', 'GNV', 'AVL', 'BGR', 'MHT', 'ILM', 'MOT', 'IAH', 'SBN', 'SYR', 'ORF', 'MKE', 'XNA', 'MSY', 'PBI', 'ABE', 'HPN', 'EVV', 'ALB', 'LNK', 'AUS', 'PHF', 'CHA', 'GTR', 'BMI', 'BQK', 'CID', 'CAK', 'ATW', 'ABY', 'CAE', 'SRQ', 'MLI', 'BHM', 'IAD', 'CSG', 'CMH', 'MCO', 'MBS', 'FLL', 'SDF', 'TPA', 'MVY', 'LAS', 'LGB', 'SFO', 'SAN', 'LAX', 'RNO', 'PDX', 'ANC', 'ABQ', 'SLC', 'DEN', 'PHX', 'OAK', 'SMF', 'SJU', 'SEA', 'HOU', 'STX', 'BUR', 'SWF', 'SJC', 'DAB', 'BQN', 'PSE', 'ORH', 'HYA', 'STT', 'ONT', 'HRL', 'ICT', 'ISP', 'LBB', 'MAF', 'MDW', 'OKC', 'PNS', 'SNA', 'TUS', 'AMA', 'BOI', 'CRP', 'DAL', 'ECP', 'ELP', 'GEG', 'LFT', 'MFE', 'MDT', 'JAN', 'COS', 'MOB', 'VPS', 'MTJ', 'DRO', 'GPT', 'BFL', 'MRY', 'SBA', 'PSP', 'FSD', 'BRO', 'RAP', 'COU', 'STS', 'PIA', 'FAT', 'SBP', 'FSM', 'HSV', 'BIS', 'DAY', 'BZN', 'MIA', 'EYW', 'MYR', 'HHH', 'GJT', 'FAR', 'SGF', 'HOB', 'CLL', 'LRD', 'AEX', 'ERI', 'MLU', 'LCH', 'ROA', 'LAW', 'MHK', 'GRK', 'SAF', 'GRI', 'JLN', 'ROW', 'FWA', 'CRW', 'LAN', 'OGG', 'HNL', 'KOA', 'EGE', 'LIH', 'MLB', 'JAC', 'FAI', 'RDM', 'ADQ', 'BET', 'BRW', 'SCC', 'KTN', 'YAK', 'CDV', 'JNU', 'SIT', 'PSG', 'WRG', 'OME', 'OTZ', 'ADK', 'FCA', 'FAY', 'PSC', 'BIL', 'MSO', 'ITO', 'PPG', 'MFR', 'EUG', 'GUM', 'SPN', 'DLH', 'TTN', 'BKG', 'SFB', 'PIE', 'PGD', 'AZA', 'SMX', 'RFD', 'SCK', 'OWB', 'HTS', 'BLV', 'IAG', 'USA', 'GFK', 'BLI', 'ELM', 'PBG', 'LCK', 'GTF', 'OGD', 'IDA', 'PVU', 'TOL', 'PSM', 'CKB', 'HGR', 'SPI', 'STC', 'ACT', 'TYR', 'ABI', 'AZO', 'CMI', 'BPT', 'GCK', 'MQT', 'ALO', 'TXK', 'SPS', 'SWO', 'DBQ', 'SUX', 'SJT', 'GGG', 'LSE', 'LBE', 'ACY', 'LYH', 'PGV', 'HVN', 'EWN', 'DHN', 'PIH', 'IMT', 'WYS', 'CPR', 'SCE', 'HLN', 'SUN', 'ISN', 'CMX', 'EAU', 'LWB', 'SHD', 'LBF', 'HYS', 'SLN', 'EAR', 'VEL', 'CNY', 'GCC', 'RKS', 'PUB', 'LBL', 'MKG', 'PAH', 'CGI', 'UIN', 'BFF', 'DVL', 'JMS', 'LAR', 'SGU', 'PRC', 'ASE', 'RDD', 'ACV', 'OTH', 'COD', 'LWS', 'ABR', 'APN', 'ESC', 'PLN', 'BJI', 'BRD', 'BTM', 'CDC', 'CIU', 'EKO', 'TWF', 'HIB', 'BGM', 'RHI', 'ITH', 'INL', 'FLG', 'YUM', 'MEI', 'PIB', 'HDN']\n",
      "The Destination airports covered are:  ['CVG', 'PWM', 'RDU', 'MSP', 'MSN', 'SHV', 'CLT', 'PIT', 'RIC', 'IAH', 'ATL', 'JFK', 'DCA', 'DTW', 'LGA', 'TYS', 'PVD', 'FNT', 'LIT', 'BUF', 'ORD', 'TRI', 'IND', 'BGR', 'AVP', 'BWI', 'LEX', 'BDL', 'GRR', 'CWA', 'TUL', 'MEM', 'AGS', 'EWR', 'MGM', 'PHL', 'SYR', 'OMA', 'STL', 'TVC', 'ORF', 'CLE', 'ABY', 'BOS', 'OAJ', 'TLH', 'BTR', 'SAT', 'JAX', 'BNA', 'CHO', 'VLD', 'ROC', 'DFW', 'GNV', 'ACK', 'PBI', 'CHS', 'GRB', 'MOT', 'MKE', 'DSM', 'ILM', 'GSO', 'MCI', 'SBN', 'BTV', 'MVY', 'XNA', 'RST', 'EVV', 'HPN', 'RSW', 'MDT', 'ROA', 'GSP', 'MCO', 'CSG', 'SAV', 'PHF', 'ALB', 'CHA', 'ABE', 'BMI', 'MSY', 'IAD', 'GTR', 'CID', 'CAK', 'ATW', 'AUS', 'BQK', 'MLI', 'CAE', 'CMH', 'AVL', 'MBS', 'FLL', 'SDF', 'TPA', 'LNK', 'SRQ', 'MHT', 'BHM', 'LAS', 'SFO', 'SAN', 'RNO', 'LGB', 'ANC', 'PDX', 'SJU', 'ABQ', 'SLC', 'DEN', 'LAX', 'PHX', 'OAK', 'SMF', 'SEA', 'STX', 'BUR', 'DAB', 'SJC', 'SWF', 'HOU', 'BQN', 'PSE', 'ORH', 'HYA', 'STT', 'ONT', 'DAL', 'ECP', 'ELP', 'HRL', 'MAF', 'MDW', 'OKC', 'PNS', 'SNA', 'AMA', 'BOI', 'GEG', 'ICT', 'LBB', 'TUS', 'ISP', 'CRP', 'MFE', 'LFT', 'VPS', 'JAN', 'COS', 'MOB', 'DRO', 'GPT', 'BFL', 'COU', 'SBP', 'MTJ', 'SBA', 'PSP', 'FSD', 'FSM', 'BRO', 'PIA', 'STS', 'FAT', 'RAP', 'MRY', 'HSV', 'BIS', 'DAY', 'BZN', 'MIA', 'EYW', 'MYR', 'HHH', 'GJT', 'FAR', 'MLU', 'LRD', 'CLL', 'LCH', 'FWA', 'GRK', 'SGF', 'HOB', 'LAW', 'MHK', 'SAF', 'JLN', 'ROW', 'GRI', 'AEX', 'CRW', 'LAN', 'ERI', 'HNL', 'KOA', 'OGG', 'EGE', 'LIH', 'JAC', 'MLB', 'RDM', 'BET', 'ADQ', 'BRW', 'SCC', 'FAI', 'JNU', 'CDV', 'YAK', 'SIT', 'KTN', 'WRG', 'PSG', 'OME', 'OTZ', 'ADK', 'FCA', 'BIL', 'PSC', 'FAY', 'MSO', 'ITO', 'PPG', 'MFR', 'DLH', 'EUG', 'GUM', 'SPN', 'TTN', 'BKG', 'AZA', 'SFB', 'LCK', 'BLI', 'SCK', 'PIE', 'RFD', 'PVU', 'PBG', 'BLV', 'PGD', 'SPI', 'USA', 'TOL', 'IDA', 'ELM', 'HTS', 'HGR', 'SMX', 'OGD', 'GFK', 'STC', 'GTF', 'IAG', 'CKB', 'OWB', 'PSM', 'ABI', 'TYR', 'ALO', 'SUX', 'AZO', 'ACT', 'CMI', 'BPT', 'TXK', 'SWO', 'SPS', 'DBQ', 'SJT', 'GGG', 'LSE', 'MQT', 'GCK', 'LBE', 'ACY', 'LYH', 'PGV', 'HVN', 'EWN', 'DHN', 'PIH', 'WYS', 'SCE', 'IMT', 'HLN', 'ASE', 'SUN', 'ISN', 'EAR', 'SGU', 'VEL', 'SHD', 'LWB', 'MKG', 'SLN', 'HYS', 'BFF', 'PUB', 'LBL', 'CMX', 'EAU', 'PAH', 'UIN', 'RKS', 'CGI', 'CNY', 'JMS', 'DVL', 'LAR', 'GCC', 'LBF', 'PRC', 'RDD', 'ACV', 'OTH', 'COD', 'LWS', 'ABR', 'APN', 'PLN', 'BJI', 'CPR', 'BRD', 'BTM', 'CDC', 'CIU', 'ESC', 'EKO', 'ITH', 'HIB', 'BGM', 'TWF', 'RHI', 'INL', 'FLG', 'YUM', 'MEI', 'PIB', 'HDN']\n"
     ]
    }
   ],
   "source": [
    "print(\"The #rows and #columns are \", df_temp.shape[0] , \" and \", df_temp.shape[1])\n",
    "print(\"The years in this dataset are: \", df_temp.Year)\n",
    "print(\"The months covered in this dataset are: \", df_temp.Month)\n",
    "print(\"The date range for data is :\" , min(df_temp.FlightDate), \" to \", max(df_temp.FlightDate))\n",
    "print(\"The airlines covered in this dataset are: \", list(df_temp.Reporting_Airline.unique()))\n",
    "print(\"The Origin airports covered are: \", list(df_temp.Origin.unique()))\n",
    "print(\"The Destination airports covered are: \", list(df_temp.Dest.unique()))"
   ]
  },
  {
   "cell_type": "markdown",
   "metadata": {},
   "source": [
    "**Question**: What is the count of all the origin and destination airports?\n",
    "\n",
    "**Hint**: To find the values for each airport by using the **Origin** and **Dest** columns, you can use the `values_count` function in pandas ([pandas.Series.value_counts documentation](https://pandas.pydata.org/pandas-docs/stable/reference/api/pandas.Series.value_counts.html)).\n",
    "\n",
    "codigo"
   ]
  },
  {
   "cell_type": "code",
   "execution_count": 12,
   "metadata": {
    "tags": []
   },
   "outputs": [
    {
     "data": {
      "text/html": [
       "<div>\n",
       "<style scoped>\n",
       "    .dataframe tbody tr th:only-of-type {\n",
       "        vertical-align: middle;\n",
       "    }\n",
       "\n",
       "    .dataframe tbody tr th {\n",
       "        vertical-align: top;\n",
       "    }\n",
       "\n",
       "    .dataframe thead th {\n",
       "        text-align: right;\n",
       "    }\n",
       "</style>\n",
       "<table border=\"1\" class=\"dataframe\">\n",
       "  <thead>\n",
       "    <tr style=\"text-align: right;\">\n",
       "      <th></th>\n",
       "      <th>Origin</th>\n",
       "      <th>Destination</th>\n",
       "    </tr>\n",
       "  </thead>\n",
       "  <tbody>\n",
       "    <tr>\n",
       "      <th>ABE</th>\n",
       "      <td>303</td>\n",
       "      <td>303</td>\n",
       "    </tr>\n",
       "    <tr>\n",
       "      <th>ABI</th>\n",
       "      <td>169</td>\n",
       "      <td>169</td>\n",
       "    </tr>\n",
       "    <tr>\n",
       "      <th>ABQ</th>\n",
       "      <td>2077</td>\n",
       "      <td>2076</td>\n",
       "    </tr>\n",
       "    <tr>\n",
       "      <th>ABR</th>\n",
       "      <td>60</td>\n",
       "      <td>60</td>\n",
       "    </tr>\n",
       "    <tr>\n",
       "      <th>ABY</th>\n",
       "      <td>79</td>\n",
       "      <td>79</td>\n",
       "    </tr>\n",
       "    <tr>\n",
       "      <th>...</th>\n",
       "      <td>...</td>\n",
       "      <td>...</td>\n",
       "    </tr>\n",
       "    <tr>\n",
       "      <th>WRG</th>\n",
       "      <td>60</td>\n",
       "      <td>60</td>\n",
       "    </tr>\n",
       "    <tr>\n",
       "      <th>WYS</th>\n",
       "      <td>52</td>\n",
       "      <td>52</td>\n",
       "    </tr>\n",
       "    <tr>\n",
       "      <th>XNA</th>\n",
       "      <td>1004</td>\n",
       "      <td>1004</td>\n",
       "    </tr>\n",
       "    <tr>\n",
       "      <th>YAK</th>\n",
       "      <td>60</td>\n",
       "      <td>60</td>\n",
       "    </tr>\n",
       "    <tr>\n",
       "      <th>YUM</th>\n",
       "      <td>96</td>\n",
       "      <td>96</td>\n",
       "    </tr>\n",
       "  </tbody>\n",
       "</table>\n",
       "<p>346 rows × 2 columns</p>\n",
       "</div>"
      ],
      "text/plain": [
       "     Origin  Destination\n",
       "ABE     303          303\n",
       "ABI     169          169\n",
       "ABQ    2077         2076\n",
       "ABR      60           60\n",
       "ABY      79           79\n",
       "..      ...          ...\n",
       "WRG      60           60\n",
       "WYS      52           52\n",
       "XNA    1004         1004\n",
       "YAK      60           60\n",
       "YUM      96           96\n",
       "\n",
       "[346 rows x 2 columns]"
      ]
     },
     "execution_count": 12,
     "metadata": {},
     "output_type": "execute_result"
    }
   ],
   "source": [
    "counts = pd.DataFrame({'Origin':df_temp.Origin.value_counts(), 'Destination':df_temp.Dest.value_counts()})\n",
    "counts"
   ]
  },
  {
   "cell_type": "markdown",
   "metadata": {},
   "source": [
    "**Question**: Print the top 15 origin and destination airports based on number of flights in the dataset.\n",
    "\n",
    "**Hint**: You can use the `sort_values` function in pandas ([pandas.DataFrame.sort_values documentation](https://pandas.pydata.org/pandas-docs/stable/reference/api/pandas.DataFrame.sort_values.html))."
   ]
  },
  {
   "cell_type": "code",
   "execution_count": 13,
   "metadata": {
    "tags": []
   },
   "outputs": [
    {
     "data": {
      "text/html": [
       "<div>\n",
       "<style scoped>\n",
       "    .dataframe tbody tr th:only-of-type {\n",
       "        vertical-align: middle;\n",
       "    }\n",
       "\n",
       "    .dataframe tbody tr th {\n",
       "        vertical-align: top;\n",
       "    }\n",
       "\n",
       "    .dataframe thead th {\n",
       "        text-align: right;\n",
       "    }\n",
       "</style>\n",
       "<table border=\"1\" class=\"dataframe\">\n",
       "  <thead>\n",
       "    <tr style=\"text-align: right;\">\n",
       "      <th></th>\n",
       "      <th>Origin</th>\n",
       "      <th>Destination</th>\n",
       "    </tr>\n",
       "  </thead>\n",
       "  <tbody>\n",
       "    <tr>\n",
       "      <th>ATL</th>\n",
       "      <td>31525</td>\n",
       "      <td>31521</td>\n",
       "    </tr>\n",
       "    <tr>\n",
       "      <th>ORD</th>\n",
       "      <td>28257</td>\n",
       "      <td>28250</td>\n",
       "    </tr>\n",
       "    <tr>\n",
       "      <th>DFW</th>\n",
       "      <td>22802</td>\n",
       "      <td>22795</td>\n",
       "    </tr>\n",
       "    <tr>\n",
       "      <th>DEN</th>\n",
       "      <td>19807</td>\n",
       "      <td>19807</td>\n",
       "    </tr>\n",
       "    <tr>\n",
       "      <th>CLT</th>\n",
       "      <td>19655</td>\n",
       "      <td>19654</td>\n",
       "    </tr>\n",
       "    <tr>\n",
       "      <th>LAX</th>\n",
       "      <td>17875</td>\n",
       "      <td>17873</td>\n",
       "    </tr>\n",
       "    <tr>\n",
       "      <th>SFO</th>\n",
       "      <td>14332</td>\n",
       "      <td>14348</td>\n",
       "    </tr>\n",
       "    <tr>\n",
       "      <th>IAH</th>\n",
       "      <td>14210</td>\n",
       "      <td>14203</td>\n",
       "    </tr>\n",
       "    <tr>\n",
       "      <th>LGA</th>\n",
       "      <td>13850</td>\n",
       "      <td>13850</td>\n",
       "    </tr>\n",
       "    <tr>\n",
       "      <th>MSP</th>\n",
       "      <td>13349</td>\n",
       "      <td>13347</td>\n",
       "    </tr>\n",
       "    <tr>\n",
       "      <th>LAS</th>\n",
       "      <td>13318</td>\n",
       "      <td>13322</td>\n",
       "    </tr>\n",
       "    <tr>\n",
       "      <th>PHX</th>\n",
       "      <td>13126</td>\n",
       "      <td>13128</td>\n",
       "    </tr>\n",
       "    <tr>\n",
       "      <th>DTW</th>\n",
       "      <td>12725</td>\n",
       "      <td>12724</td>\n",
       "    </tr>\n",
       "    <tr>\n",
       "      <th>BOS</th>\n",
       "      <td>12223</td>\n",
       "      <td>12227</td>\n",
       "    </tr>\n",
       "    <tr>\n",
       "      <th>SEA</th>\n",
       "      <td>11872</td>\n",
       "      <td>11877</td>\n",
       "    </tr>\n",
       "  </tbody>\n",
       "</table>\n",
       "</div>"
      ],
      "text/plain": [
       "     Origin  Destination\n",
       "ATL   31525        31521\n",
       "ORD   28257        28250\n",
       "DFW   22802        22795\n",
       "DEN   19807        19807\n",
       "CLT   19655        19654\n",
       "LAX   17875        17873\n",
       "SFO   14332        14348\n",
       "IAH   14210        14203\n",
       "LGA   13850        13850\n",
       "MSP   13349        13347\n",
       "LAS   13318        13322\n",
       "PHX   13126        13128\n",
       "DTW   12725        12724\n",
       "BOS   12223        12227\n",
       "SEA   11872        11877"
      ]
     },
     "execution_count": 13,
     "metadata": {},
     "output_type": "execute_result"
    }
   ],
   "source": [
    "counts.sort_values(by=['Origin','Destination'],ascending=False).head(15) # Enter your code here"
   ]
  },
  {
   "cell_type": "markdown",
   "metadata": {},
   "source": [
    "**Given all the information about a flight trip, can you predict if it would be delayed?**"
   ]
  },
  {
   "cell_type": "markdown",
   "metadata": {},
   "source": [
    "The **ArrDel15** column is an indicator variable that takes the value *1* when the delay is more than 15 minutes. Otherwise, it takes a value of *0*.\n",
    "\n",
    "You could use this as a target column for the classification problem."
   ]
  },
  {
   "cell_type": "markdown",
   "metadata": {},
   "source": [
    "Now, assume that you are traveling from San Francisco to Los Angeles on a work trip. You want to better manage your reservations in Los Angeles. Thus, want to have an idea of whether your flight will be delayed, given a set of features. How many features from this dataset would you need to know before your flight?\n",
    "\n",
    "Columns such as `DepDelay`, `ArrDelay`, `CarrierDelay`, `WeatherDelay`, `NASDelay`, `SecurityDelay`, `LateAircraftDelay`, and `DivArrDelay` contain information about a delay. But this delay could have occured at the origin or the destination. If there were a sudden weather delay 10 minutes before landing, this data wouldn't be helpful to managing your Los Angeles reservations.\n",
    "\n",
    "So to simplify the problem statement, consider the following columns to predict an arrival delay:<br>\n",
    "\n",
    "`Year`, `Quarter`, `Month`, `DayofMonth`, `DayOfWeek`, `FlightDate`, `Reporting_Airline`, `Origin`, `OriginState`, `Dest`, `DestState`, `CRSDepTime`, `DepDelayMinutes`, `DepartureDelayGroups`, `Cancelled`, `Diverted`, `Distance`, `DistanceGroup`, `ArrDelay`, `ArrDelayMinutes`, `ArrDel15`, `AirTime`\n",
    "\n",
    "You will also filter the source and destination airports to be:\n",
    "- Top airports: ATL, ORD, DFW, DEN, CLT, LAX, IAH, PHX, SFO\n",
    "- Top five airlines: UA, OO, WN, AA, DL\n",
    "\n",
    "This information should help reduce the size of data across the CSV files that will be combined."
   ]
  },
  {
   "cell_type": "markdown",
   "metadata": {},
   "source": [
    "#### Combine all CSV files\n",
    " \n",
    "First, create an empy DataFrame that you will use to copy your individual DataFrames from each file. Then, for each file in the `csv_files` list:\n",
    "\n",
    "1. Read the CSV file into a dataframe \n",
    "2. Filter the columns based on the `filter_cols` variable\n",
    "\n",
    "```\n",
    "        columns = ['col1', 'col2']\n",
    "        df_filter = df[columns]\n",
    "```\n",
    "\n",
    "3. Keep only the `subset_vals` in each of the `subset_cols`. To check if the `val` is in the DataFrame column, use the `isin` function in pandas ([pandas.DataFram.isin documentation](https://pandas.pydata.org/pandas-docs/stable/reference/api/pandas.DataFrame.isin.html)). Then, choose the rows that include it.\n",
    "\n",
    "```\n",
    "        df_eg[df_eg['col1'].isin('5')]\n",
    "```\n",
    "\n",
    "4. Concatenate the DataFrame with the empty DataFrame "
   ]
  },
  {
   "cell_type": "code",
   "execution_count": 14,
   "metadata": {
    "tags": []
   },
   "outputs": [],
   "source": [
    "def combine_csv(csv_files, filter_cols, subset_cols, subset_vals, file_name):\n",
    "\n",
    "    \"\"\"\n",
    "    Combine csv files into one Data Frame\n",
    "    csv_files: list of csv file paths\n",
    "    filter_cols: list of columns to filter\n",
    "    subset_cols: list of columns to subset rows\n",
    "    subset_vals: list of list of values to subset rows\n",
    "    \"\"\"\n",
    "\n",
    "    df = pd.DataFrame()\n",
    "    \n",
    "    for file in csv_files:\n",
    "        df_temp = pd.read_csv(file)\n",
    "        df_temp = df_temp[filter_cols]\n",
    "        for col, val in zip(subset_cols,subset_vals):\n",
    "            df_temp = df_temp[df_temp[col].isin(val)]      \n",
    "        \n",
    "        df = pd.concat([df, df_temp], axis=0)\n",
    "      \n",
    "    df.to_csv(file_name, index=False)\n",
    "    print(f'Combined csv stored at {file_name}')"
   ]
  },
  {
   "cell_type": "code",
   "execution_count": 15,
   "metadata": {
    "tags": []
   },
   "outputs": [],
   "source": [
    "#cols is the list of columns to predict Arrival Delay \n",
    "cols = ['Year','Quarter','Month','DayofMonth','DayOfWeek','FlightDate',\n",
    "        'Reporting_Airline','Origin','OriginState','Dest','DestState',\n",
    "        'CRSDepTime','Cancelled','Diverted','Distance','DistanceGroup',\n",
    "        'ArrDelay','ArrDelayMinutes','ArrDel15','AirTime']\n",
    "\n",
    "subset_cols = ['Origin', 'Dest', 'Reporting_Airline']\n",
    "\n",
    "# subset_vals is a list collection of the top origin and destination airports and top 5 airlines\n",
    "subset_vals = [['ATL', 'ORD', 'DFW', 'DEN', 'CLT', 'LAX', 'IAH', 'PHX', 'SFO'], \n",
    "               ['ATL', 'ORD', 'DFW', 'DEN', 'CLT', 'LAX', 'IAH', 'PHX', 'SFO'], \n",
    "               ['UA', 'OO', 'WN', 'AA', 'DL']]"
   ]
  },
  {
   "cell_type": "markdown",
   "metadata": {},
   "source": [
    "Use the previous function to merge all the different files into a single file that you can read easily. \n",
    "\n",
    "**Note**: This process will take 5-7 minutes to complete."
   ]
  },
  {
   "cell_type": "code",
   "execution_count": 16,
   "metadata": {
    "tags": []
   },
   "outputs": [
    {
     "name": "stdout",
     "output_type": "stream",
     "text": [
      "Combined csv stored at /home/ec2-user/SageMaker/project/data/FlightDelays/combined_files.csv\n",
      "CSVs merged in 4.52 minutes\n"
     ]
    }
   ],
   "source": [
    "start = time.time()\n",
    "combined_csv_filename = f\"{base_path}combined_files.csv\"\n",
    "combine_csv(csv_files, cols, subset_cols, subset_vals, combined_csv_filename)\n",
    "print(f'CSVs merged in {round((time.time() - start)/60,2)} minutes')"
   ]
  },
  {
   "cell_type": "markdown",
   "metadata": {},
   "source": [
    "#### Load the dataset\n",
    "\n",
    "Load the combined dataset."
   ]
  },
  {
   "cell_type": "code",
   "execution_count": 17,
   "metadata": {
    "tags": []
   },
   "outputs": [],
   "source": [
    "data = pd.read_csv(combined_csv_filename)"
   ]
  },
  {
   "cell_type": "markdown",
   "metadata": {},
   "source": [
    "Print the first five records.\n",
    "\n",
    "codigo"
   ]
  },
  {
   "cell_type": "code",
   "execution_count": 18,
   "metadata": {
    "tags": []
   },
   "outputs": [
    {
     "data": {
      "text/html": [
       "<div>\n",
       "<style scoped>\n",
       "    .dataframe tbody tr th:only-of-type {\n",
       "        vertical-align: middle;\n",
       "    }\n",
       "\n",
       "    .dataframe tbody tr th {\n",
       "        vertical-align: top;\n",
       "    }\n",
       "\n",
       "    .dataframe thead th {\n",
       "        text-align: right;\n",
       "    }\n",
       "</style>\n",
       "<table border=\"1\" class=\"dataframe\">\n",
       "  <thead>\n",
       "    <tr style=\"text-align: right;\">\n",
       "      <th></th>\n",
       "      <th>Year</th>\n",
       "      <th>Quarter</th>\n",
       "      <th>Month</th>\n",
       "      <th>DayofMonth</th>\n",
       "      <th>DayOfWeek</th>\n",
       "      <th>FlightDate</th>\n",
       "      <th>Reporting_Airline</th>\n",
       "      <th>Origin</th>\n",
       "      <th>OriginState</th>\n",
       "      <th>Dest</th>\n",
       "      <th>DestState</th>\n",
       "      <th>CRSDepTime</th>\n",
       "      <th>Cancelled</th>\n",
       "      <th>Diverted</th>\n",
       "      <th>Distance</th>\n",
       "      <th>DistanceGroup</th>\n",
       "      <th>ArrDelay</th>\n",
       "      <th>ArrDelayMinutes</th>\n",
       "      <th>ArrDel15</th>\n",
       "      <th>AirTime</th>\n",
       "    </tr>\n",
       "  </thead>\n",
       "  <tbody>\n",
       "    <tr>\n",
       "      <th>0</th>\n",
       "      <td>2015</td>\n",
       "      <td>4</td>\n",
       "      <td>10</td>\n",
       "      <td>1</td>\n",
       "      <td>4</td>\n",
       "      <td>2015-10-01</td>\n",
       "      <td>AA</td>\n",
       "      <td>ORD</td>\n",
       "      <td>IL</td>\n",
       "      <td>CLT</td>\n",
       "      <td>NC</td>\n",
       "      <td>2149</td>\n",
       "      <td>0.0</td>\n",
       "      <td>0.0</td>\n",
       "      <td>599.0</td>\n",
       "      <td>3</td>\n",
       "      <td>-8.0</td>\n",
       "      <td>0.0</td>\n",
       "      <td>0.0</td>\n",
       "      <td>89.0</td>\n",
       "    </tr>\n",
       "    <tr>\n",
       "      <th>1</th>\n",
       "      <td>2015</td>\n",
       "      <td>4</td>\n",
       "      <td>10</td>\n",
       "      <td>2</td>\n",
       "      <td>5</td>\n",
       "      <td>2015-10-02</td>\n",
       "      <td>AA</td>\n",
       "      <td>ORD</td>\n",
       "      <td>IL</td>\n",
       "      <td>CLT</td>\n",
       "      <td>NC</td>\n",
       "      <td>2149</td>\n",
       "      <td>0.0</td>\n",
       "      <td>0.0</td>\n",
       "      <td>599.0</td>\n",
       "      <td>3</td>\n",
       "      <td>-6.0</td>\n",
       "      <td>0.0</td>\n",
       "      <td>0.0</td>\n",
       "      <td>98.0</td>\n",
       "    </tr>\n",
       "    <tr>\n",
       "      <th>2</th>\n",
       "      <td>2015</td>\n",
       "      <td>4</td>\n",
       "      <td>10</td>\n",
       "      <td>3</td>\n",
       "      <td>6</td>\n",
       "      <td>2015-10-03</td>\n",
       "      <td>AA</td>\n",
       "      <td>ORD</td>\n",
       "      <td>IL</td>\n",
       "      <td>CLT</td>\n",
       "      <td>NC</td>\n",
       "      <td>2149</td>\n",
       "      <td>0.0</td>\n",
       "      <td>0.0</td>\n",
       "      <td>599.0</td>\n",
       "      <td>3</td>\n",
       "      <td>-18.0</td>\n",
       "      <td>0.0</td>\n",
       "      <td>0.0</td>\n",
       "      <td>93.0</td>\n",
       "    </tr>\n",
       "    <tr>\n",
       "      <th>3</th>\n",
       "      <td>2015</td>\n",
       "      <td>4</td>\n",
       "      <td>10</td>\n",
       "      <td>4</td>\n",
       "      <td>7</td>\n",
       "      <td>2015-10-04</td>\n",
       "      <td>AA</td>\n",
       "      <td>ORD</td>\n",
       "      <td>IL</td>\n",
       "      <td>CLT</td>\n",
       "      <td>NC</td>\n",
       "      <td>2149</td>\n",
       "      <td>0.0</td>\n",
       "      <td>0.0</td>\n",
       "      <td>599.0</td>\n",
       "      <td>3</td>\n",
       "      <td>-15.0</td>\n",
       "      <td>0.0</td>\n",
       "      <td>0.0</td>\n",
       "      <td>88.0</td>\n",
       "    </tr>\n",
       "    <tr>\n",
       "      <th>4</th>\n",
       "      <td>2015</td>\n",
       "      <td>4</td>\n",
       "      <td>10</td>\n",
       "      <td>5</td>\n",
       "      <td>1</td>\n",
       "      <td>2015-10-05</td>\n",
       "      <td>AA</td>\n",
       "      <td>ORD</td>\n",
       "      <td>IL</td>\n",
       "      <td>CLT</td>\n",
       "      <td>NC</td>\n",
       "      <td>2145</td>\n",
       "      <td>0.0</td>\n",
       "      <td>0.0</td>\n",
       "      <td>599.0</td>\n",
       "      <td>3</td>\n",
       "      <td>-36.0</td>\n",
       "      <td>0.0</td>\n",
       "      <td>0.0</td>\n",
       "      <td>76.0</td>\n",
       "    </tr>\n",
       "  </tbody>\n",
       "</table>\n",
       "</div>"
      ],
      "text/plain": [
       "   Year  Quarter  Month  DayofMonth  DayOfWeek  FlightDate Reporting_Airline  \\\n",
       "0  2015        4     10           1          4  2015-10-01                AA   \n",
       "1  2015        4     10           2          5  2015-10-02                AA   \n",
       "2  2015        4     10           3          6  2015-10-03                AA   \n",
       "3  2015        4     10           4          7  2015-10-04                AA   \n",
       "4  2015        4     10           5          1  2015-10-05                AA   \n",
       "\n",
       "  Origin OriginState Dest DestState  CRSDepTime  Cancelled  Diverted  \\\n",
       "0    ORD          IL  CLT        NC        2149        0.0       0.0   \n",
       "1    ORD          IL  CLT        NC        2149        0.0       0.0   \n",
       "2    ORD          IL  CLT        NC        2149        0.0       0.0   \n",
       "3    ORD          IL  CLT        NC        2149        0.0       0.0   \n",
       "4    ORD          IL  CLT        NC        2145        0.0       0.0   \n",
       "\n",
       "   Distance  DistanceGroup  ArrDelay  ArrDelayMinutes  ArrDel15  AirTime  \n",
       "0     599.0              3      -8.0              0.0       0.0     89.0  \n",
       "1     599.0              3      -6.0              0.0       0.0     98.0  \n",
       "2     599.0              3     -18.0              0.0       0.0     93.0  \n",
       "3     599.0              3     -15.0              0.0       0.0     88.0  \n",
       "4     599.0              3     -36.0              0.0       0.0     76.0  "
      ]
     },
     "execution_count": 18,
     "metadata": {},
     "output_type": "execute_result"
    }
   ],
   "source": [
    "data.head(5)"
   ]
  },
  {
   "cell_type": "markdown",
   "metadata": {},
   "source": [
    "Here are some more questions to help you learn more about your dataset.\n",
    "\n",
    "**Questions**   \n",
    "\n",
    "1. How many rows and columns does the dataset have?   \n",
    "2. How many years are included in the dataset?   \n",
    "3. What is the date range for the dataset?   \n",
    "4. Which airlines are included in the dataset?   \n",
    "5. Which origin and destination airports are covered?\n",
    "\n",
    "\n",
    "codigos"
   ]
  },
  {
   "cell_type": "code",
   "execution_count": 19,
   "metadata": {
    "tags": []
   },
   "outputs": [
    {
     "name": "stdout",
     "output_type": "stream",
     "text": [
      "The #rows and #columns are  1658130  and  20\n",
      "The years in this dataset are:  [2015, 2018, 2014, 2017, 2016]\n",
      "The months covered in this dataset are:  [1, 2, 3, 4, 5, 6, 7, 8, 9, 10, 11, 12]\n",
      "The date range for data is : 2014-01-01  to  2018-12-31\n",
      "The airlines covered in this dataset are:  ['AA', 'DL', 'UA', 'OO', 'WN']\n",
      "The Origin airports covered are:  ['ORD', 'SFO', 'DFW', 'LAX', 'PHX', 'IAH', 'DEN', 'ATL', 'CLT']\n",
      "The Destination airports covered are:  ['CLT', 'DFW', 'SFO', 'ORD', 'PHX', 'LAX', 'ATL', 'DEN', 'IAH']\n"
     ]
    }
   ],
   "source": [
    "print(\"The #rows and #columns are \", data.shape[0] , \" and \", data.shape[1])\n",
    "print(\"The years in this dataset are: \", list(data.Year.unique()))\n",
    "print(\"The months covered in this dataset are: \", sorted(list(data.Month.unique())))\n",
    "print(\"The date range for data is :\" , min(data.FlightDate), \" to \", max(data.FlightDate))\n",
    "print(\"The airlines covered in this dataset are: \", list(data.Reporting_Airline.unique()))\n",
    "print(\"The Origin airports covered are: \", list(data.Origin.unique()))\n",
    "print(\"The Destination airports covered are: \", list(data.Dest.unique()))"
   ]
  },
  {
   "cell_type": "markdown",
   "metadata": {},
   "source": [
    "Define your target column: **is_delay** (*1* means that the arrival time delayed more than 15 minutes, and *0* means all other cases). To rename the column from **ArrDel15** to *is_delay*, use the `rename` method .\n",
    "\n",
    "**Hint**: You can use the `rename` function in pandas ([pandas.DataFrame.rename documentation](https://pandas.pydata.org/pandas-docs/stable/reference/api/pandas.DataFrame.rename.html)).\n",
    "\n",
    "For example:\n",
    "```\n",
    "data.rename(columns={'col1':'column1'}, inplace=True)\n",
    "```"
   ]
  },
  {
   "cell_type": "code",
   "execution_count": 22,
   "metadata": {
    "tags": []
   },
   "outputs": [],
   "source": [
    "data.rename(columns={'ArrDel15':'is_delay'}, inplace=True) # Enter your code here"
   ]
  },
  {
   "cell_type": "markdown",
   "metadata": {},
   "source": [
    "Look for nulls across columns. You can use the `isnull()` function ([pandas.isnull documentation](https://pandas.pydata.org/pandas-docs/version/0.17.0/generated/pandas.isnull.html)).\n",
    "\n",
    "**Hint**: `isnull()` detects whether the particular value is null or not. It returns a boolean (*True* or *False*) in its place. To sum the number of columns, use the `sum(axis=0)` function (for example, `df.isnull().sum(axis=0)`).\n",
    "\n",
    "codigo"
   ]
  },
  {
   "cell_type": "code",
   "execution_count": 23,
   "metadata": {
    "tags": []
   },
   "outputs": [
    {
     "data": {
      "text/plain": [
       "Year                     0\n",
       "Quarter                  0\n",
       "Month                    0\n",
       "DayofMonth               0\n",
       "DayOfWeek                0\n",
       "FlightDate               0\n",
       "Reporting_Airline        0\n",
       "Origin                   0\n",
       "OriginState              0\n",
       "Dest                     0\n",
       "DestState                0\n",
       "CRSDepTime               0\n",
       "Cancelled                0\n",
       "Diverted                 0\n",
       "Distance                 0\n",
       "DistanceGroup            0\n",
       "ArrDelay             22540\n",
       "ArrDelayMinutes      22540\n",
       "is_delay             22540\n",
       "AirTime              22540\n",
       "dtype: int64"
      ]
     },
     "execution_count": 23,
     "metadata": {},
     "output_type": "execute_result"
    }
   ],
   "source": [
    "data.isnull().sum(axis=0)"
   ]
  },
  {
   "cell_type": "markdown",
   "metadata": {},
   "source": [
    "The arrival delay details and airtime are missing for 22,540 out of 1,658,130 rows, which is 1.3 percent. You can either remove or impute these rows. The documentation doesn't mention any information about missing rows.\n"
   ]
  },
  {
   "cell_type": "code",
   "execution_count": 24,
   "metadata": {
    "tags": []
   },
   "outputs": [
    {
     "data": {
      "text/plain": [
       "Year                 0\n",
       "Quarter              0\n",
       "Month                0\n",
       "DayofMonth           0\n",
       "DayOfWeek            0\n",
       "FlightDate           0\n",
       "Reporting_Airline    0\n",
       "Origin               0\n",
       "OriginState          0\n",
       "Dest                 0\n",
       "DestState            0\n",
       "CRSDepTime           0\n",
       "Cancelled            0\n",
       "Diverted             0\n",
       "Distance             0\n",
       "DistanceGroup        0\n",
       "ArrDelay             0\n",
       "ArrDelayMinutes      0\n",
       "is_delay             0\n",
       "AirTime              0\n",
       "dtype: int64"
      ]
     },
     "execution_count": 24,
     "metadata": {},
     "output_type": "execute_result"
    }
   ],
   "source": [
    "### Remove null columns\n",
    "data = data[~data.is_delay.isnull()]\n",
    "data.isnull().sum(axis = 0)"
   ]
  },
  {
   "cell_type": "markdown",
   "metadata": {},
   "source": [
    "Get the hour of the day in 24-hour-time format from CRSDepTime."
   ]
  },
  {
   "cell_type": "code",
   "execution_count": 25,
   "metadata": {
    "tags": []
   },
   "outputs": [],
   "source": [
    "data['DepHourofDay'] = (data['CRSDepTime']//100)"
   ]
  },
  {
   "cell_type": "markdown",
   "metadata": {},
   "source": [
    "## **The ML problem statement**\n",
    "- Given a set of features, can you predict if a flight is going to be delayed more than 15 minutes?\n",
    "- Because the target variable takes only a value of *0* or *1*, you could use a classification algorithm. \n",
    "\n",
    "Before you start modeling, it's a good practice to look at feature distribution, correlations, and others.\n",
    "- This will give you an idea of any non-linearity or patterns in the data\n",
    "    - Linear models: Add power, exponential, or interaction features\n",
    "    - Try a non-linear model\n",
    "- Data imbalance \n",
    "    - Choose metrics that won't give biased model performance (accuracy versus the area under the curve, or AUC)\n",
    "    - Use weighted or custom loss functions\n",
    "- Missing data\n",
    "    - Do imputation based on simple statistics -- mean, median, mode (numerical variables), frequent class (categorical variables)\n",
    "    - Clustering-based imputation (k-nearest neighbors, or KNNs, to predict column value)\n",
    "    - Drop column"
   ]
  },
  {
   "cell_type": "markdown",
   "metadata": {},
   "source": [
    "### Data exploration\n",
    "\n",
    "Check the classes *delay* versus *no delay*.\n"
   ]
  },
  {
   "cell_type": "code",
   "execution_count": 26,
   "metadata": {
    "tags": []
   },
   "outputs": [
    {
     "data": {
      "image/png": "[encoded data removed]",
      "text/plain": [
       "<Figure size 640x480 with 1 Axes>"
      ]
     },
     "metadata": {},
     "output_type": "display_data"
    }
   ],
   "source": [
    "(data.groupby('is_delay').size()/len(data) ).plot(kind='bar')# Enter your code here\n",
    "plt.ylabel('Frequency')\n",
    "plt.title('Distribution of classes')\n",
    "plt.show()"
   ]
  },
  {
   "cell_type": "markdown",
   "metadata": {},
   "source": [
    "**Question**: What can you deduce from the bar plot about the ratio of *delay* versus *no delay*?"
   ]
  },
  {
   "cell_type": "code",
   "execution_count": null,
   "metadata": {},
   "outputs": [],
   "source": [
    "# Enter your answer here"
   ]
  },
  {
   "cell_type": "markdown",
   "metadata": {},
   "source": [
    "Run the following two cells and answer the questions."
   ]
  },
  {
   "cell_type": "code",
   "execution_count": 27,
   "metadata": {
    "tags": []
   },
   "outputs": [
    {
     "data": {
      "image/png": "[encoded data removed]",
      "text/plain": [
       "<Figure size 2000x2000 with 6 Axes>"
      ]
     },
     "metadata": {},
     "output_type": "display_data"
    }
   ],
   "source": [
    "viz_columns = ['Month', 'DepHourofDay', 'DayOfWeek', 'Reporting_Airline', 'Origin', 'Dest']\n",
    "fig, axes = plt.subplots(3, 2, figsize=(20,20), squeeze=False)\n",
    "# fig.autofmt_xdate(rotation=90)\n",
    "\n",
    "for idx, column in enumerate(viz_columns):\n",
    "    ax = axes[idx//2, idx%2]\n",
    "    temp = data.groupby(column)['is_delay'].value_counts(normalize=True).rename('percentage').\\\n",
    "    mul(100).reset_index().sort_values(column)\n",
    "    sns.barplot(x=column, y=\"percentage\", hue=\"is_delay\", data=temp, ax=ax)\n",
    "    plt.ylabel('% delay/no-delay')\n",
    "    \n",
    "\n",
    "plt.show()"
   ]
  },
  {
   "cell_type": "code",
   "execution_count": 28,
   "metadata": {
    "tags": []
   },
   "outputs": [
    {
     "data": {
      "image/png": "[encoded data removed]",
      "text/plain": [
       "<Figure size 500x500 with 1 Axes>"
      ]
     },
     "metadata": {},
     "output_type": "display_data"
    }
   ],
   "source": [
    "sns.lmplot( x=\"is_delay\", y=\"Distance\", data=data, fit_reg=False, hue='is_delay', legend=False)\n",
    "plt.legend(loc='center')\n",
    "plt.xlabel('is_delay')\n",
    "plt.ylabel('Distance')\n",
    "plt.show()"
   ]
  },
  {
   "cell_type": "markdown",
   "metadata": {},
   "source": [
    "**Questions**\n",
    "\n",
    "Using the data from the previous charts, answer these questions:\n",
    "\n",
    "- Which months have the most delays?\n",
    "- What time of the day has the most delays?\n",
    "- What day of the week has the most delays?\n",
    "- Which airline has the most delays?\n",
    "- Which origin and destination airports have the most delays?\n",
    "- Is flight distance a factor in the delays?"
   ]
  },
  {
   "cell_type": "code",
   "execution_count": null,
   "metadata": {},
   "outputs": [],
   "source": [
    "# Enter your answers here"
   ]
  },
  {
   "cell_type": "markdown",
   "metadata": {},
   "source": [
    "### Features\n",
    "\n",
    "Look at all the columns and what their specific types are."
   ]
  },
  {
   "cell_type": "code",
   "execution_count": 29,
   "metadata": {
    "tags": []
   },
   "outputs": [
    {
     "data": {
      "text/plain": [
       "Index(['Year', 'Quarter', 'Month', 'DayofMonth', 'DayOfWeek', 'FlightDate',\n",
       "       'Reporting_Airline', 'Origin', 'OriginState', 'Dest', 'DestState',\n",
       "       'CRSDepTime', 'Cancelled', 'Diverted', 'Distance', 'DistanceGroup',\n",
       "       'ArrDelay', 'ArrDelayMinutes', 'is_delay', 'AirTime', 'DepHourofDay'],\n",
       "      dtype='object')"
      ]
     },
     "execution_count": 29,
     "metadata": {},
     "output_type": "execute_result"
    }
   ],
   "source": [
    "data.columns"
   ]
  },
  {
   "cell_type": "code",
   "execution_count": 30,
   "metadata": {
    "tags": []
   },
   "outputs": [
    {
     "data": {
      "text/plain": [
       "Year                   int64\n",
       "Quarter                int64\n",
       "Month                  int64\n",
       "DayofMonth             int64\n",
       "DayOfWeek              int64\n",
       "FlightDate            object\n",
       "Reporting_Airline     object\n",
       "Origin                object\n",
       "OriginState           object\n",
       "Dest                  object\n",
       "DestState             object\n",
       "CRSDepTime             int64\n",
       "Cancelled            float64\n",
       "Diverted             float64\n",
       "Distance             float64\n",
       "DistanceGroup          int64\n",
       "ArrDelay             float64\n",
       "ArrDelayMinutes      float64\n",
       "is_delay             float64\n",
       "AirTime              float64\n",
       "DepHourofDay           int64\n",
       "dtype: object"
      ]
     },
     "execution_count": 30,
     "metadata": {},
     "output_type": "execute_result"
    }
   ],
   "source": [
    "data.dtypes"
   ]
  },
  {
   "cell_type": "markdown",
   "metadata": {},
   "source": [
    "Filtering the required columns:\n",
    "- *Date* is redundant, because you have *Year*, *Quarter*, *Month*, *DayofMonth*, and *DayOfWeek* to describe the date.\n",
    "- Use *Origin* and *Dest* codes instead of *OriginState* and *DestState*.\n",
    "- Because you are only classifying whether the flight is delayed or not, you don't need *TotalDelayMinutes*, *DepDelayMinutes*, and *ArrDelayMinutes*.\n",
    "\n",
    "Treat *DepHourofDay* as a categorical variable because it doesn't have any quantitative relation with the target.\n",
    "- If you needed to do a one-hot encoding of this variable, it would result in 23 more columns.\n",
    "- Other alternatives to handling categorical variables include hash encoding, regularized mean encoding, and bucketizing the values, among others.\n",
    "- In this case, you only need to split into buckets.\n",
    "\n",
    "To change a column type to category, use the `astype` function ([pandas.DataFrame.astype documentation](https://pandas.pydata.org/pandas-docs/stable/reference/api/pandas.DataFrame.astype.html))."
   ]
  },
  {
   "cell_type": "code",
   "execution_count": 31,
   "metadata": {
    "tags": []
   },
   "outputs": [],
   "source": [
    "data_orig = data.copy()\n",
    "data = data[[ 'is_delay', 'Quarter', 'Month', 'DayofMonth', 'DayOfWeek', \n",
    "       'Reporting_Airline', 'Origin', 'Dest','Distance','DepHourofDay']]\n",
    "categorical_columns  = ['Quarter', 'Month', 'DayofMonth', 'DayOfWeek', \n",
    "       'Reporting_Airline', 'Origin', 'Dest', 'DepHourofDay']\n",
    "for c in categorical_columns:\n",
    "    data[c] = data[c].astype('category')"
   ]
  },
  {
   "cell_type": "markdown",
   "metadata": {},
   "source": [
    "To use one-hot encoding, use the `get_dummies` function in pandas for the categorical columns that you selected. Then, you can concatenate those generated features to your original dataset by using the `concat` function in pandas. For encoding categorical variables, you can also use *dummy encoding* by using a keyword `drop_first=True`. For more information about dummy encoding, see [Dummy variable (statistics)](https://en.wikiversity.org/wiki/Dummy_variable_(statistics)).\n",
    "\n",
    "For example:\n",
    "```\n",
    "pd.get_dummies(df[['column1','columns2']], drop_first=True)\n",
    "```"
   ]
  },
  {
   "cell_type": "code",
   "execution_count": 32,
   "metadata": {
    "tags": []
   },
   "outputs": [],
   "source": [
    "data_dummies = pd.get_dummies(data[categorical_columns], drop_first=True) # Enter your code here\n",
    "data_dummies = data_dummies.replace({True: 1, False: 0})\n",
    "data = pd.concat([data, data_dummies], axis = 1)\n",
    "data.drop(categorical_columns,axis=1, inplace=True)"
   ]
  },
  {
   "cell_type": "markdown",
   "metadata": {},
   "source": [
    "Check the length of the dataset and the new columns.\n",
    "\n",
    "**Hint**: Use the `shape` and `columns` properties.\n",
    "\n",
    "codigo\n"
   ]
  },
  {
   "cell_type": "code",
   "execution_count": 1,
   "metadata": {
    "tags": [],
    "ExecuteTime": {
     "end_time": "2024-02-27T17:05:03.550504400Z",
     "start_time": "2024-02-27T17:05:03.537781100Z"
    }
   },
   "outputs": [
    {
     "ename": "NameError",
     "evalue": "name 'data' is not defined",
     "output_type": "error",
     "traceback": [
      "\u001B[1;31m---------------------------------------------------------------------------\u001B[0m",
      "\u001B[1;31mNameError\u001B[0m                                 Traceback (most recent call last)",
      "Cell \u001B[1;32mIn[1], line 1\u001B[0m\n\u001B[1;32m----> 1\u001B[0m \u001B[43mdata\u001B[49m\u001B[38;5;241m.\u001B[39mshape\n",
      "\u001B[1;31mNameError\u001B[0m: name 'data' is not defined"
     ]
    }
   ],
   "source": [
    "data.shape"
   ]
  },
  {
   "cell_type": "code",
   "execution_count": null,
   "outputs": [],
   "source": [
    "# codigo"
   ],
   "metadata": {
    "collapsed": false
   }
  },
  {
   "cell_type": "code",
   "execution_count": 34,
   "metadata": {
    "tags": []
   },
   "outputs": [
    {
     "data": {
      "text/plain": [
       "Index(['is_delay', 'Distance', 'Quarter_2', 'Quarter_3', 'Quarter_4',\n",
       "       'Month_2', 'Month_3', 'Month_4', 'Month_5', 'Month_6', 'Month_7',\n",
       "       'Month_8', 'Month_9', 'Month_10', 'Month_11', 'Month_12',\n",
       "       'DayofMonth_2', 'DayofMonth_3', 'DayofMonth_4', 'DayofMonth_5',\n",
       "       'DayofMonth_6', 'DayofMonth_7', 'DayofMonth_8', 'DayofMonth_9',\n",
       "       'DayofMonth_10', 'DayofMonth_11', 'DayofMonth_12', 'DayofMonth_13',\n",
       "       'DayofMonth_14', 'DayofMonth_15', 'DayofMonth_16', 'DayofMonth_17',\n",
       "       'DayofMonth_18', 'DayofMonth_19', 'DayofMonth_20', 'DayofMonth_21',\n",
       "       'DayofMonth_22', 'DayofMonth_23', 'DayofMonth_24', 'DayofMonth_25',\n",
       "       'DayofMonth_26', 'DayofMonth_27', 'DayofMonth_28', 'DayofMonth_29',\n",
       "       'DayofMonth_30', 'DayofMonth_31', 'DayOfWeek_2', 'DayOfWeek_3',\n",
       "       'DayOfWeek_4', 'DayOfWeek_5', 'DayOfWeek_6', 'DayOfWeek_7',\n",
       "       'Reporting_Airline_DL', 'Reporting_Airline_OO', 'Reporting_Airline_UA',\n",
       "       'Reporting_Airline_WN', 'Origin_CLT', 'Origin_DEN', 'Origin_DFW',\n",
       "       'Origin_IAH', 'Origin_LAX', 'Origin_ORD', 'Origin_PHX', 'Origin_SFO',\n",
       "       'Dest_CLT', 'Dest_DEN', 'Dest_DFW', 'Dest_IAH', 'Dest_LAX', 'Dest_ORD',\n",
       "       'Dest_PHX', 'Dest_SFO', 'DepHourofDay_1', 'DepHourofDay_2',\n",
       "       'DepHourofDay_4', 'DepHourofDay_5', 'DepHourofDay_6', 'DepHourofDay_7',\n",
       "       'DepHourofDay_8', 'DepHourofDay_9', 'DepHourofDay_10',\n",
       "       'DepHourofDay_11', 'DepHourofDay_12', 'DepHourofDay_13',\n",
       "       'DepHourofDay_14', 'DepHourofDay_15', 'DepHourofDay_16',\n",
       "       'DepHourofDay_17', 'DepHourofDay_18', 'DepHourofDay_19',\n",
       "       'DepHourofDay_20', 'DepHourofDay_21', 'DepHourofDay_22',\n",
       "       'DepHourofDay_23'],\n",
       "      dtype='object')"
      ]
     },
     "execution_count": 34,
     "metadata": {},
     "output_type": "execute_result"
    }
   ],
   "source": [
    "data.columns"
   ]
  },
  {
   "cell_type": "markdown",
   "metadata": {},
   "source": [
    "You are now ready to train the model. Before you split the data, rename the **is_delay** column to *target*.\n",
    "\n",
    "**Hint**: You can use the `rename` function in pandas ([pandas.DataFrame.rename documentation](https://pandas.pydata.org/pandas-docs/stable/reference/api/pandas.DataFrame.rename.html)).\n",
    "\n",
    "\n",
    "codigo"
   ]
  },
  {
   "cell_type": "code",
   "execution_count": 35,
   "metadata": {
    "tags": []
   },
   "outputs": [],
   "source": [
    "data.rename(columns = {'is_delay':'target'}, inplace=True )"
   ]
  },
  {
   "cell_type": "markdown",
   "metadata": {},
   "source": [
    "## <span style=\"color:red\"> End of Step 2 </span>\n",
    "\n",
    "Save the project file to your local computer. Follow these steps:\n",
    "\n",
    "1. In the file explorer on the left, right-click the notebook that you're working on. \n",
    "\n",
    "2. Choose **Download**, and save the file locally.  \n",
    "\n",
    "This action downloads the current notebook to the default download folder on your computer."
   ]
  },
  {
   "cell_type": "markdown",
   "metadata": {},
   "source": [
    "# Step 3: Model training and evaluation\n",
    "\n",
    "You must include some preliminary steps when you convert the dataset from a DataFrame to a format that a machine learning algorithm can use. For Amazon SageMaker, you must perform these steps:\n",
    "\n",
    "1. Split the data into `train_data`, `validation_data`, and `test_data` by using `sklearn.model_selection.train_test_split`.  \n",
    "\n",
    "2. Convert the dataset to an appropriate file format that the Amazon SageMaker training job can use. This can be either a CSV file or record protobuf. For more information, see [Common Data Formats for Training](https://docs.aws.amazon.com/sagemaker/latest/dg/cdf-training.html).  \n",
    "\n",
    "3. Upload the data to your S3 bucket. If you haven't created one before, see [Create a Bucket](https://docs.aws.amazon.com/AmazonS3/latest/gsg/CreatingABucket.html).  \n",
    "\n",
    "Use the following cells to complete these steps. Insert and delete cells where needed.\n",
    "\n",
    "#### <span style=\"color: blue;\">Project presentation: In your project presentation, write down the key decisions that you made in this phase.</span>"
   ]
  },
  {
   "cell_type": "markdown",
   "metadata": {},
   "source": [
    "### Train-test split"
   ]
  },
  {
   "cell_type": "code",
   "execution_count": 36,
   "metadata": {
    "tags": []
   },
   "outputs": [],
   "source": [
    "from sklearn.model_selection import train_test_split\n",
    "def split_data(data):\n",
    "    train, test_and_validate = train_test_split(data, test_size=0.2, random_state=42, stratify=data['target'])\n",
    "    test, validate = train_test_split(test_and_validate, test_size=0.5, random_state=42, stratify=test_and_validate['target'])\n",
    "    return train, validate, test"
   ]
  },
  {
   "cell_type": "code",
   "execution_count": 37,
   "metadata": {
    "tags": []
   },
   "outputs": [
    {
     "name": "stdout",
     "output_type": "stream",
     "text": [
      "target\n",
      "0.0    1033806\n",
      "1.0     274666\n",
      "Name: count, dtype: int64\n",
      "target\n",
      "0.0    129226\n",
      "1.0     34333\n",
      "Name: count, dtype: int64\n",
      "target\n",
      "0.0    129226\n",
      "1.0     34333\n",
      "Name: count, dtype: int64\n"
     ]
    }
   ],
   "source": [
    "train, validate, test = split_data(data)\n",
    "print(train['target'].value_counts())\n",
    "print(test['target'].value_counts())\n",
    "print(validate['target'].value_counts())"
   ]
  },
  {
   "cell_type": "markdown",
   "metadata": {},
   "source": [
    "**Sample answer**\n",
    "```\n",
    "0.0    1033570\n",
    "1.0     274902\n",
    "Name: target, dtype: int64\n",
    "0.0    129076\n",
    "1.0     34483\n",
    "Name: target, dtype: int64\n",
    "0.0    129612\n",
    "1.0     33947\n",
    "Name: target, dtype: int64\n",
    "```"
   ]
  },
  {
   "cell_type": "markdown",
   "metadata": {},
   "source": [
    "### Baseline classification model"
   ]
  },
  {
   "cell_type": "code",
   "execution_count": 38,
   "metadata": {
    "tags": []
   },
   "outputs": [
    {
     "name": "stdout",
     "output_type": "stream",
     "text": [
      "sagemaker.config INFO - Not applying SDK defaults from location: /etc/xdg/sagemaker/config.yaml\n",
      "sagemaker.config INFO - Not applying SDK defaults from location: /home/ec2-user/.config/sagemaker/config.yaml\n"
     ]
    }
   ],
   "source": [
    "import sagemaker\n",
    "from sagemaker.serializers import CSVSerializer\n",
    "from sagemaker.amazon.amazon_estimator import RecordSet\n",
    "import boto3\n",
    "\n",
    "# Instantiate the LinearLearner estimator object with 1 ml.m4.xlarge\n",
    "classifier_estimator = sagemaker.LinearLearner(role=sagemaker.get_execution_role(),\n",
    "                                               instance_count=1,\n",
    "                                               instance_type=instance_type,\n",
    "                                               predictor_type='binary_classifier',\n",
    "                                               binary_classifier_model_selection_criteria = 'cross_entropy_loss')"
   ]
  },
  {
   "cell_type": "markdown",
   "metadata": {},
   "source": [
    "### Sample code\n",
    "```\n",
    "num_classes = len(pd.unique(train_labels))\n",
    "classifier_estimator = sagemaker.LinearLearner(role=sagemaker.get_execution_role(),\n",
    "                                              instance_count=1,\n",
    "                                              instance_type='ml.m4.xlarge',\n",
    "                                              predictor_type='binary_classifier',\n",
    "                                              binary_classifier_model_selection_criteria = 'cross_entropy_loss')\n",
    "                                              \n",
    "```"
   ]
  },
  {
   "cell_type": "markdown",
   "metadata": {},
   "source": [
    "Linear learner accepts training data in protobuf or CSV content types. It also accepts inference requests in protobuf, CSV, or JavaScript Object Notation (JSON) content types. Training data has features and ground-truth labels, but the data in an inference request has only features.\n",
    "\n",
    "In a production pipeline, AWS recommends converting the data to the Amazon SageMaker protobuf format and storing it in Amazon S3. To get up and running quickly, AWS provides the `record_set` operation for converting and uploading the dataset when it's small enough to fit in local memory. It accepts NumPy arrays like the ones you already have, so you will use it for this step. The `RecordSet` object will track the temporary Amazon S3 location of your data. Create train, validation, and test records by using the `estimator.record_set` function. Then, start your training job by using the `estimator.fit` function."
   ]
  },
  {
   "cell_type": "code",
   "execution_count": 39,
   "metadata": {
    "tags": []
   },
   "outputs": [],
   "source": [
    "### Create train, validate, and test records\n",
    "train_records = classifier_estimator.record_set(train.values[:, 1:].astype(np.float32), train.values[:, 0].astype(np.float32), channel='train')\n",
    "val_records = classifier_estimator.record_set(validate.values[:, 1:].astype(np.float32), validate.values[:, 0].astype(np.float32), channel='validation')\n",
    "test_records = classifier_estimator.record_set(test.values[:, 1:].astype(np.float32), test.values[:, 0].astype(np.float32), channel='test')"
   ]
  },
  {
   "cell_type": "markdown",
   "metadata": {},
   "source": [
    "Now, train your model on the dataset that you just uploaded.\n",
    "\n",
    "### Sample code\n",
    "```\n",
    "linear.fit([train_records,val_records,test_records])\n",
    "```\n",
    "\n",
    "codigo"
   ]
  },
  {
   "cell_type": "code",
   "execution_count": 40,
   "metadata": {
    "tags": []
   },
   "outputs": [
    {
     "name": "stderr",
     "output_type": "stream",
     "text": [
      "INFO:sagemaker.image_uris:Same images used for training and inference. Defaulting to image scope: inference.\n",
      "INFO:sagemaker.image_uris:Ignoring unnecessary instance type: None.\n",
      "INFO:sagemaker:Creating training-job with name: linear-learner-2024-02-11-07-54-36-308\n"
     ]
    },
    {
     "name": "stdout",
     "output_type": "stream",
     "text": [
      "2024-02-11 07:54:36 Starting - Starting the training job...\n",
      "2024-02-11 07:54:51 Starting - Preparing the instances for training......\n",
      "2024-02-11 07:56:02 Downloading - Downloading input data......\n",
      "2024-02-11 07:56:57 Downloading - Downloading the training image......\n",
      "2024-02-11 07:57:58 Training - Training image download completed. Training in progress...\u001B[34mDocker entrypoint called with argument(s): train\u001B[0m\n",
      "\u001B[34mRunning default environment configuration script\u001B[0m\n",
      "\u001B[34m[02/11/2024 07:58:18 INFO 140298564925248] Reading default configuration from /opt/amazon/lib/python3.8/site-packages/algorithm/resources/default-input.json: {'mini_batch_size': '1000', 'epochs': '15', 'feature_dim': 'auto', 'use_bias': 'true', 'binary_classifier_model_selection_criteria': 'accuracy', 'f_beta': '1.0', 'target_recall': '0.8', 'target_precision': '0.8', 'num_models': 'auto', 'num_calibration_samples': '10000000', 'init_method': 'uniform', 'init_scale': '0.07', 'init_sigma': '0.01', 'init_bias': '0.0', 'optimizer': 'auto', 'loss': 'auto', 'margin': '1.0', 'quantile': '0.5', 'loss_insensitivity': '0.01', 'huber_delta': '1.0', 'num_classes': '1', 'accuracy_top_k': '3', 'wd': 'auto', 'l1': 'auto', 'momentum': 'auto', 'learning_rate': 'auto', 'beta_1': 'auto', 'beta_2': 'auto', 'bias_lr_mult': 'auto', 'bias_wd_mult': 'auto', 'use_lr_scheduler': 'true', 'lr_scheduler_step': 'auto', 'lr_scheduler_factor': 'auto', 'lr_scheduler_minimum_lr': 'auto', 'positive_example_weight_mult': '1.0', 'balance_multiclass_weights': 'false', 'normalize_data': 'true', 'normalize_label': 'auto', 'unbias_data': 'auto', 'unbias_label': 'auto', 'num_point_for_scaler': '10000', '_kvstore': 'auto', '_num_gpus': 'auto', '_num_kv_servers': 'auto', '_log_level': 'info', '_tuning_objective_metric': '', 'early_stopping_patience': '3', 'early_stopping_tolerance': '0.001', '_enable_profiler': 'false'}\u001B[0m\n",
      "\u001B[34m[02/11/2024 07:58:18 INFO 140298564925248] Merging with provided configuration from /opt/ml/input/config/hyperparameters.json: {'binary_classifier_model_selection_criteria': 'cross_entropy_loss', 'feature_dim': '93', 'mini_batch_size': '1000', 'predictor_type': 'binary_classifier'}\u001B[0m\n",
      "\u001B[34m[02/11/2024 07:58:18 INFO 140298564925248] Final configuration: {'mini_batch_size': '1000', 'epochs': '15', 'feature_dim': '93', 'use_bias': 'true', 'binary_classifier_model_selection_criteria': 'cross_entropy_loss', 'f_beta': '1.0', 'target_recall': '0.8', 'target_precision': '0.8', 'num_models': 'auto', 'num_calibration_samples': '10000000', 'init_method': 'uniform', 'init_scale': '0.07', 'init_sigma': '0.01', 'init_bias': '0.0', 'optimizer': 'auto', 'loss': 'auto', 'margin': '1.0', 'quantile': '0.5', 'loss_insensitivity': '0.01', 'huber_delta': '1.0', 'num_classes': '1', 'accuracy_top_k': '3', 'wd': 'auto', 'l1': 'auto', 'momentum': 'auto', 'learning_rate': 'auto', 'beta_1': 'auto', 'beta_2': 'auto', 'bias_lr_mult': 'auto', 'bias_wd_mult': 'auto', 'use_lr_scheduler': 'true', 'lr_scheduler_step': 'auto', 'lr_scheduler_factor': 'auto', 'lr_scheduler_minimum_lr': 'auto', 'positive_example_weight_mult': '1.0', 'balance_multiclass_weights': 'false', 'normalize_data': 'true', 'normalize_label': 'auto', 'unbias_data': 'auto', 'unbias_label': 'auto', 'num_point_for_scaler': '10000', '_kvstore': 'auto', '_num_gpus': 'auto', '_num_kv_servers': 'auto', '_log_level': 'info', '_tuning_objective_metric': '', 'early_stopping_patience': '3', 'early_stopping_tolerance': '0.001', '_enable_profiler': 'false', 'predictor_type': 'binary_classifier'}\u001B[0m\n",
      "\u001B[34m/opt/amazon/lib/python3.8/site-packages/mxnet/model.py:97: SyntaxWarning: \"is\" with a literal. Did you mean \"==\"?\n",
      "  if num_device is 1 and 'dist' not in kvstore:\u001B[0m\n",
      "\u001B[34m/opt/amazon/lib/python3.8/site-packages/scipy/optimize/_shgo.py:495: SyntaxWarning: \"is\" with a literal. Did you mean \"==\"?\n",
      "  if cons['type'] is 'ineq':\u001B[0m\n",
      "\u001B[34m/opt/amazon/lib/python3.8/site-packages/scipy/optimize/_shgo.py:743: SyntaxWarning: \"is not\" with a literal. Did you mean \"!=\"?\n",
      "  if len(self.X_min) is not 0:\u001B[0m\n",
      "\u001B[34m[02/11/2024 07:58:21 WARNING 140298564925248] Loggers have already been setup.\u001B[0m\n",
      "\u001B[34m[02/11/2024 07:58:21 INFO 140298564925248] Final configuration: {'mini_batch_size': '1000', 'epochs': '15', 'feature_dim': '93', 'use_bias': 'true', 'binary_classifier_model_selection_criteria': 'cross_entropy_loss', 'f_beta': '1.0', 'target_recall': '0.8', 'target_precision': '0.8', 'num_models': 'auto', 'num_calibration_samples': '10000000', 'init_method': 'uniform', 'init_scale': '0.07', 'init_sigma': '0.01', 'init_bias': '0.0', 'optimizer': 'auto', 'loss': 'auto', 'margin': '1.0', 'quantile': '0.5', 'loss_insensitivity': '0.01', 'huber_delta': '1.0', 'num_classes': '1', 'accuracy_top_k': '3', 'wd': 'auto', 'l1': 'auto', 'momentum': 'auto', 'learning_rate': 'auto', 'beta_1': 'auto', 'beta_2': 'auto', 'bias_lr_mult': 'auto', 'bias_wd_mult': 'auto', 'use_lr_scheduler': 'true', 'lr_scheduler_step': 'auto', 'lr_scheduler_factor': 'auto', 'lr_scheduler_minimum_lr': 'auto', 'positive_example_weight_mult': '1.0', 'balance_multiclass_weights': 'false', 'normalize_data': 'true', 'normalize_label': 'auto', 'unbias_data': 'auto', 'unbias_label': 'auto', 'num_point_for_scaler': '10000', '_kvstore': 'auto', '_num_gpus': 'auto', '_num_kv_servers': 'auto', '_log_level': 'info', '_tuning_objective_metric': '', 'early_stopping_patience': '3', 'early_stopping_tolerance': '0.001', '_enable_profiler': 'false', 'predictor_type': 'binary_classifier'}\u001B[0m\n",
      "\u001B[34m[02/11/2024 07:58:21 WARNING 140298564925248] Loggers have already been setup.\u001B[0m\n",
      "\u001B[34mProcess 8 is a worker.\u001B[0m\n",
      "\u001B[34m[02/11/2024 07:58:21 INFO 140298564925248] Using default worker.\u001B[0m\n",
      "\u001B[34m[02/11/2024 07:58:21 INFO 140298564925248] Checkpoint loading and saving are disabled.\u001B[0m\n",
      "\u001B[34m[2024-02-11 07:58:21.827] [tensorio] [warning] TensorIO is already initialized; ignoring the initialization routine.\u001B[0m\n",
      "\u001B[34m[2024-02-11 07:58:21.833] [tensorio] [warning] TensorIO is already initialized; ignoring the initialization routine.\u001B[0m\n",
      "\u001B[34m[2024-02-11 07:58:21.902] [tensorio] [info] epoch_stats={\"data_pipeline\": \"/opt/ml/input/data/train\", \"epoch\": 0, \"duration\": 78, \"num_examples\": 1, \"num_bytes\": 420000}\u001B[0m\n",
      "\u001B[34m[02/11/2024 07:58:21 INFO 140298564925248] Create Store: local\u001B[0m\n",
      "\u001B[34m[2024-02-11 07:58:22.072] [tensorio] [info] epoch_stats={\"data_pipeline\": \"/opt/ml/input/data/train\", \"epoch\": 1, \"duration\": 168, \"num_examples\": 11, \"num_bytes\": 4620000}\u001B[0m\n",
      "\u001B[34m[02/11/2024 07:58:22 INFO 140298564925248] Scaler algorithm parameters\n",
      " <algorithm.scaler.ScalerAlgorithmStable object at 0x7f993d53ca00>\u001B[0m\n",
      "\u001B[34m[02/11/2024 07:58:22 INFO 140298564925248] Scaling model computed with parameters:\n",
      " {'stdev_label': None, 'stdev_weight': \u001B[0m\n",
      "\u001B[34m[5.4138239e+02 4.3514338e-01 4.4263145e-01 4.3509188e-01 2.5267959e-01\n",
      " 2.7325350e-01 2.7806830e-01 2.7615684e-01 2.8049824e-01 2.8657204e-01\n",
      " 2.8579065e-01 2.8250003e-01 2.7588221e-01 2.8009540e-01 2.7861097e-01\n",
      " 1.7600000e-01 1.7551577e-01 1.7887397e-01 1.7911108e-01 1.7624155e-01\n",
      " 1.7792189e-01 1.8122914e-01 1.8538180e-01 1.7863652e-01 1.7527309e-01\n",
      " 1.7405385e-01 1.8052630e-01 1.7792188e-01 1.7478654e-01 1.7744365e-01\n",
      " 1.7934784e-01 1.8076093e-01 1.8005601e-01 1.7696393e-01 1.8146272e-01\n",
      " 1.8423910e-01 1.7982030e-01 1.7478657e-01 1.7672351e-01 1.7768295e-01\n",
      " 1.8809141e-01 1.7307144e-01 1.7033654e-01 1.6729525e-01 1.3162570e-01\n",
      " 3.5044330e-01 3.5401529e-01 3.5617808e-01 3.5581943e-01 3.2120353e-01\n",
      " 3.4783390e-01 3.7491244e-01 2.3613442e-01 4.5673436e-01 3.1570172e-01\n",
      " 2.3630403e-01 3.1956971e-01 3.2791474e-01 2.7255571e-01 3.5572970e-01\n",
      " 3.3849078e-01 3.0192962e-01 3.2801935e-01 2.4197930e-01 3.1220865e-01\n",
      " 3.2864580e-01 2.7339280e-01 3.5963660e-01 3.3967298e-01 2.9608151e-01\n",
      " 3.2676014e-01 5.0388243e-02 9.5341932e-03 1.0000000e+00 1.6234836e-01\n",
      " 2.3305455e-01 2.5065073e-01 2.5143364e-01 2.3647349e-01 2.4700649e-01\n",
      " 2.3933031e-01 2.4345286e-01 2.4700646e-01 2.4491483e-01 2.3562472e-01\n",
      " 2.3681191e-01 2.4032813e-01 2.2202702e-01 2.2330648e-01 1.9009414e-01\n",
      " 1.5333146e-01 1.7257783e-01 1.1090279e-01]\u001B[0m\n",
      "\u001B[34m<NDArray 93 @cpu(0)>, 'mean_label': None, 'mean_weight': \u001B[0m\n",
      "\u001B[34m[1.01093372e+03 2.53727257e-01 2.67454565e-01 2.53636390e-01\n",
      " 6.85454682e-02 8.12727287e-02 8.44545513e-02 8.31818283e-02\n",
      " 8.60909149e-02 9.02727246e-02 8.97272751e-02 8.74545574e-02\n",
      " 8.30000117e-02 8.58181864e-02 8.48181769e-02 3.20000015e-02\n",
      " 3.18181850e-02 3.30909155e-02 3.31818275e-02 3.20909098e-02\n",
      " 3.27272750e-02 3.40000018e-02 3.56363654e-02 3.30000035e-02\n",
      " 3.17272730e-02 3.12727280e-02 3.37272733e-02 3.27272713e-02\n",
      " 3.15454602e-02 3.25454585e-02 3.32727283e-02 3.38181853e-02\n",
      " 3.35454568e-02 3.23636383e-02 3.40909176e-02 3.51818167e-02\n",
      " 3.34545486e-02 3.15454565e-02 3.22727300e-02 3.26363631e-02\n",
      " 3.67272794e-02 3.09090950e-02 2.99090948e-02 2.88181864e-02\n",
      " 1.76363662e-02 1.43363670e-01 1.46909103e-01 1.49090916e-01\n",
      " 1.48727268e-01 1.16818190e-01 1.40818179e-01 1.69181839e-01\n",
      " 5.92727289e-02 2.96545476e-01 1.12272732e-01 5.93636408e-02\n",
      " 1.15454547e-01 1.22545466e-01 8.08181837e-02 1.48636371e-01\n",
      " 1.31999999e-01 1.01454563e-01 1.22636378e-01 6.24545477e-02\n",
      " 1.09454572e-01 1.23181835e-01 8.13636333e-02 1.52636364e-01\n",
      " 1.33090913e-01 9.70909223e-02 1.21545464e-01 2.54545477e-03\n",
      " 9.09090959e-05 0.00000000e+00 2.70909108e-02 5.76363690e-02\n",
      " 6.73636496e-02 6.78181872e-02 5.94545528e-02 6.52727261e-02\n",
      " 6.10000044e-02 6.32727221e-02 6.52727261e-02 6.40909150e-02\n",
      " 5.90000078e-02 5.96363731e-02 6.15454577e-02 5.20000048e-02\n",
      " 5.26363626e-02 3.75454649e-02 2.40909122e-02 3.07272747e-02\n",
      " 1.24545479e-02]\u001B[0m\n",
      "\u001B[34m<NDArray 93 @cpu(0)>}\u001B[0m\n",
      "\u001B[34m/opt/amazon/python3.8/lib/python3.8/subprocess.py:848: RuntimeWarning: line buffering (buffering=1) isn't supported in binary mode, the default buffer size will be used\n",
      "  self.stdout = io.open(c2pread, 'rb', bufsize)\u001B[0m\n",
      "\u001B[34m[02/11/2024 07:58:22 INFO 140298564925248] nvidia-smi: took 0.038 seconds to run.\u001B[0m\n",
      "\u001B[34m[02/11/2024 07:58:22 INFO 140298564925248] nvidia-smi identified 0 GPUs.\u001B[0m\n",
      "\u001B[34m[02/11/2024 07:58:22 INFO 140298564925248] Number of GPUs being used: 0\u001B[0m\n",
      "\u001B[34m#metrics {\"StartTime\": 1707638302.189721, \"EndTime\": 1707638302.1897702, \"Dimensions\": {\"Algorithm\": \"Linear Learner\", \"Host\": \"algo-1\", \"Operation\": \"training\", \"Meta\": \"init_train_data_iter\"}, \"Metrics\": {\"Total Records Seen\": {\"sum\": 12000.0, \"count\": 1, \"min\": 12000, \"max\": 12000}, \"Total Batches Seen\": {\"sum\": 12.0, \"count\": 1, \"min\": 12, \"max\": 12}, \"Max Records Seen Between Resets\": {\"sum\": 11000.0, \"count\": 1, \"min\": 11000, \"max\": 11000}, \"Max Batches Seen Between Resets\": {\"sum\": 11.0, \"count\": 1, \"min\": 11, \"max\": 11}, \"Reset Count\": {\"sum\": 2.0, \"count\": 1, \"min\": 2, \"max\": 2}, \"Number of Records Since Last Reset\": {\"sum\": 0.0, \"count\": 1, \"min\": 0, \"max\": 0}, \"Number of Batches Since Last Reset\": {\"sum\": 0.0, \"count\": 1, \"min\": 0, \"max\": 0}}}\u001B[0m\n",
      "\u001B[34m[2024-02-11 07:58:57.306] [tensorio] [info] epoch_stats={\"data_pipeline\": \"/opt/ml/input/data/train\", \"epoch\": 3, \"duration\": 35116, \"num_examples\": 1309, \"num_bytes\": 549558240}\u001B[0m\n",
      "\u001B[34m#metrics {\"StartTime\": 1707638337.3068519, \"EndTime\": 1707638337.306946, \"Dimensions\": {\"Algorithm\": \"Linear Learner\", \"Host\": \"algo-1\", \"Operation\": \"training\", \"epoch\": 0, \"model\": 0}, \"Metrics\": {\"train_binary_classification_cross_entropy_objective\": {\"sum\": 0.49425602946150193, \"count\": 1, \"min\": 0.49425602946150193, \"max\": 0.49425602946150193}}}\u001B[0m\n",
      "\u001B[34m#metrics {\"StartTime\": 1707638337.3070853, \"EndTime\": 1707638337.3071105, \"Dimensions\": {\"Algorithm\": \"Linear Learner\", \"Host\": \"algo-1\", \"Operation\": \"training\", \"epoch\": 0, \"model\": 1}, \"Metrics\": {\"train_binary_classification_cross_entropy_objective\": {\"sum\": 0.49492818884893297, \"count\": 1, \"min\": 0.49492818884893297, \"max\": 0.49492818884893297}}}\u001B[0m\n",
      "\u001B[34m#metrics {\"StartTime\": 1707638337.307162, \"EndTime\": 1707638337.307185, \"Dimensions\": {\"Algorithm\": \"Linear Learner\", \"Host\": \"algo-1\", \"Operation\": \"training\", \"epoch\": 0, \"model\": 2}, \"Metrics\": {\"train_binary_classification_cross_entropy_objective\": {\"sum\": 0.4944424226860023, \"count\": 1, \"min\": 0.4944424226860023, \"max\": 0.4944424226860023}}}\u001B[0m\n",
      "\u001B[34m#metrics {\"StartTime\": 1707638337.3072312, \"EndTime\": 1707638337.3072464, \"Dimensions\": {\"Algorithm\": \"Linear Learner\", \"Host\": \"algo-1\", \"Operation\": \"training\", \"epoch\": 0, \"model\": 3}, \"Metrics\": {\"train_binary_classification_cross_entropy_objective\": {\"sum\": 0.49496203491957547, \"count\": 1, \"min\": 0.49496203491957547, \"max\": 0.49496203491957547}}}\u001B[0m\n",
      "\u001B[34m#metrics {\"StartTime\": 1707638337.3072834, \"EndTime\": 1707638337.3072977, \"Dimensions\": {\"Algorithm\": \"Linear Learner\", \"Host\": \"algo-1\", \"Operation\": \"training\", \"epoch\": 0, \"model\": 4}, \"Metrics\": {\"train_binary_classification_cross_entropy_objective\": {\"sum\": 0.5077777263863007, \"count\": 1, \"min\": 0.5077777263863007, \"max\": 0.5077777263863007}}}\u001B[0m\n",
      "\u001B[34m#metrics {\"StartTime\": 1707638337.3073335, \"EndTime\": 1707638337.3073478, \"Dimensions\": {\"Algorithm\": \"Linear Learner\", \"Host\": \"algo-1\", \"Operation\": \"training\", \"epoch\": 0, \"model\": 5}, \"Metrics\": {\"train_binary_classification_cross_entropy_objective\": {\"sum\": 0.5177629291639415, \"count\": 1, \"min\": 0.5177629291639415, \"max\": 0.5177629291639415}}}\u001B[0m\n",
      "\u001B[34m#metrics {\"StartTime\": 1707638337.307383, \"EndTime\": 1707638337.3073964, \"Dimensions\": {\"Algorithm\": \"Linear Learner\", \"Host\": \"algo-1\", \"Operation\": \"training\", \"epoch\": 0, \"model\": 6}, \"Metrics\": {\"train_binary_classification_cross_entropy_objective\": {\"sum\": 0.5077690864819635, \"count\": 1, \"min\": 0.5077690864819635, \"max\": 0.5077690864819635}}}\u001B[0m\n",
      "\u001B[34m#metrics {\"StartTime\": 1707638337.307431, \"EndTime\": 1707638337.307443, \"Dimensions\": {\"Algorithm\": \"Linear Learner\", \"Host\": \"algo-1\", \"Operation\": \"training\", \"epoch\": 0, \"model\": 7}, \"Metrics\": {\"train_binary_classification_cross_entropy_objective\": {\"sum\": 0.5177589528028389, \"count\": 1, \"min\": 0.5177589528028389, \"max\": 0.5177589528028389}}}\u001B[0m\n",
      "\u001B[34m#metrics {\"StartTime\": 1707638337.3074806, \"EndTime\": 1707638337.3074937, \"Dimensions\": {\"Algorithm\": \"Linear Learner\", \"Host\": \"algo-1\", \"Operation\": \"training\", \"epoch\": 0, \"model\": 8}, \"Metrics\": {\"train_binary_classification_cross_entropy_objective\": {\"sum\": 0.49447308753244007, \"count\": 1, \"min\": 0.49447308753244007, \"max\": 0.49447308753244007}}}\u001B[0m\n",
      "\u001B[34m#metrics {\"StartTime\": 1707638337.3075464, \"EndTime\": 1707638337.307559, \"Dimensions\": {\"Algorithm\": \"Linear Learner\", \"Host\": \"algo-1\", \"Operation\": \"training\", \"epoch\": 0, \"model\": 9}, \"Metrics\": {\"train_binary_classification_cross_entropy_objective\": {\"sum\": 0.49497117409429053, \"count\": 1, \"min\": 0.49497117409429053, \"max\": 0.49497117409429053}}}\u001B[0m\n",
      "\u001B[34m#metrics {\"StartTime\": 1707638337.3076036, \"EndTime\": 1707638337.3076174, \"Dimensions\": {\"Algorithm\": \"Linear Learner\", \"Host\": \"algo-1\", \"Operation\": \"training\", \"epoch\": 0, \"model\": 10}, \"Metrics\": {\"train_binary_classification_cross_entropy_objective\": {\"sum\": 0.4944840593950464, \"count\": 1, \"min\": 0.4944840593950464, \"max\": 0.4944840593950464}}}\u001B[0m\n",
      "\u001B[34m#metrics {\"StartTime\": 1707638337.3076568, \"EndTime\": 1707638337.307669, \"Dimensions\": {\"Algorithm\": \"Linear Learner\", \"Host\": \"algo-1\", \"Operation\": \"training\", \"epoch\": 0, \"model\": 11}, \"Metrics\": {\"train_binary_classification_cross_entropy_objective\": {\"sum\": 0.49495882184789813, \"count\": 1, \"min\": 0.49495882184789813, \"max\": 0.49495882184789813}}}\u001B[0m\n",
      "\u001B[34m#metrics {\"StartTime\": 1707638337.3077073, \"EndTime\": 1707638337.3077207, \"Dimensions\": {\"Algorithm\": \"Linear Learner\", \"Host\": \"algo-1\", \"Operation\": \"training\", \"epoch\": 0, \"model\": 12}, \"Metrics\": {\"train_binary_classification_cross_entropy_objective\": {\"sum\": 0.5069651059491919, \"count\": 1, \"min\": 0.5069651059491919, \"max\": 0.5069651059491919}}}\u001B[0m\n",
      "\u001B[34m#metrics {\"StartTime\": 1707638337.3077655, \"EndTime\": 1707638337.307778, \"Dimensions\": {\"Algorithm\": \"Linear Learner\", \"Host\": \"algo-1\", \"Operation\": \"training\", \"epoch\": 0, \"model\": 13}, \"Metrics\": {\"train_binary_classification_cross_entropy_objective\": {\"sum\": 0.5161910845555296, \"count\": 1, \"min\": 0.5161910845555296, \"max\": 0.5161910845555296}}}\u001B[0m\n",
      "\u001B[34m#metrics {\"StartTime\": 1707638337.307827, \"EndTime\": 1707638337.3078394, \"Dimensions\": {\"Algorithm\": \"Linear Learner\", \"Host\": \"algo-1\", \"Operation\": \"training\", \"epoch\": 0, \"model\": 14}, \"Metrics\": {\"train_binary_classification_cross_entropy_objective\": {\"sum\": 0.506965889327023, \"count\": 1, \"min\": 0.506965889327023, \"max\": 0.506965889327023}}}\u001B[0m\n",
      "\u001B[34m#metrics {\"StartTime\": 1707638337.3078864, \"EndTime\": 1707638337.3078995, \"Dimensions\": {\"Algorithm\": \"Linear Learner\", \"Host\": \"algo-1\", \"Operation\": \"training\", \"epoch\": 0, \"model\": 15}, \"Metrics\": {\"train_binary_classification_cross_entropy_objective\": {\"sum\": 0.5162163462507615, \"count\": 1, \"min\": 0.5162163462507615, \"max\": 0.5162163462507615}}}\u001B[0m\n",
      "\u001B[34m#metrics {\"StartTime\": 1707638337.3079438, \"EndTime\": 1707638337.3079574, \"Dimensions\": {\"Algorithm\": \"Linear Learner\", \"Host\": \"algo-1\", \"Operation\": \"training\", \"epoch\": 0, \"model\": 16}, \"Metrics\": {\"train_binary_classification_cross_entropy_objective\": {\"sum\": 0.5092024985263837, \"count\": 1, \"min\": 0.5092024985263837, \"max\": 0.5092024985263837}}}\u001B[0m\n",
      "\u001B[34m#metrics {\"StartTime\": 1707638337.308006, \"EndTime\": 1707638337.3080192, \"Dimensions\": {\"Algorithm\": \"Linear Learner\", \"Host\": \"algo-1\", \"Operation\": \"training\", \"epoch\": 0, \"model\": 17}, \"Metrics\": {\"train_binary_classification_cross_entropy_objective\": {\"sum\": 0.5092963923883, \"count\": 1, \"min\": 0.5092963923883, \"max\": 0.5092963923883}}}\u001B[0m\n",
      "\u001B[34m#metrics {\"StartTime\": 1707638337.3080683, \"EndTime\": 1707638337.3080816, \"Dimensions\": {\"Algorithm\": \"Linear Learner\", \"Host\": \"algo-1\", \"Operation\": \"training\", \"epoch\": 0, \"model\": 18}, \"Metrics\": {\"train_binary_classification_cross_entropy_objective\": {\"sum\": 0.5091838442134565, \"count\": 1, \"min\": 0.5091838442134565, \"max\": 0.5091838442134565}}}\u001B[0m\n",
      "\u001B[34m#metrics {\"StartTime\": 1707638337.3081317, \"EndTime\": 1707638337.3081443, \"Dimensions\": {\"Algorithm\": \"Linear Learner\", \"Host\": \"algo-1\", \"Operation\": \"training\", \"epoch\": 0, \"model\": 19}, \"Metrics\": {\"train_binary_classification_cross_entropy_objective\": {\"sum\": 0.5092926348531647, \"count\": 1, \"min\": 0.5092926348531647, \"max\": 0.5092926348531647}}}\u001B[0m\n",
      "\u001B[34m#metrics {\"StartTime\": 1707638337.3081884, \"EndTime\": 1707638337.3082016, \"Dimensions\": {\"Algorithm\": \"Linear Learner\", \"Host\": \"algo-1\", \"Operation\": \"training\", \"epoch\": 0, \"model\": 20}, \"Metrics\": {\"train_binary_classification_cross_entropy_objective\": {\"sum\": 0.5105887636190525, \"count\": 1, \"min\": 0.5105887636190525, \"max\": 0.5105887636190525}}}\u001B[0m\n",
      "\u001B[34m#metrics {\"StartTime\": 1707638337.3082337, \"EndTime\": 1707638337.308246, \"Dimensions\": {\"Algorithm\": \"Linear Learner\", \"Host\": \"algo-1\", \"Operation\": \"training\", \"epoch\": 0, \"model\": 21}, \"Metrics\": {\"train_binary_classification_cross_entropy_objective\": {\"sum\": 0.5123368335922195, \"count\": 1, \"min\": 0.5123368335922195, \"max\": 0.5123368335922195}}}\u001B[0m\n",
      "\u001B[34m#metrics {\"StartTime\": 1707638337.3082943, \"EndTime\": 1707638337.3083076, \"Dimensions\": {\"Algorithm\": \"Linear Learner\", \"Host\": \"algo-1\", \"Operation\": \"training\", \"epoch\": 0, \"model\": 22}, \"Metrics\": {\"train_binary_classification_cross_entropy_objective\": {\"sum\": 0.5105822845132344, \"count\": 1, \"min\": 0.5105822845132344, \"max\": 0.5105822845132344}}}\u001B[0m\n",
      "\u001B[34m#metrics {\"StartTime\": 1707638337.308355, \"EndTime\": 1707638337.3083687, \"Dimensions\": {\"Algorithm\": \"Linear Learner\", \"Host\": \"algo-1\", \"Operation\": \"training\", \"epoch\": 0, \"model\": 23}, \"Metrics\": {\"train_binary_classification_cross_entropy_objective\": {\"sum\": 0.512324405448517, \"count\": 1, \"min\": 0.512324405448517, \"max\": 0.512324405448517}}}\u001B[0m\n",
      "\u001B[34m#metrics {\"StartTime\": 1707638337.3084033, \"EndTime\": 1707638337.3084164, \"Dimensions\": {\"Algorithm\": \"Linear Learner\", \"Host\": \"algo-1\", \"Operation\": \"training\", \"epoch\": 0, \"model\": 24}, \"Metrics\": {\"train_binary_classification_cross_entropy_objective\": {\"sum\": 0.5150664084431593, \"count\": 1, \"min\": 0.5150664084431593, \"max\": 0.5150664084431593}}}\u001B[0m\n",
      "\u001B[34m#metrics {\"StartTime\": 1707638337.3084636, \"EndTime\": 1707638337.3084772, \"Dimensions\": {\"Algorithm\": \"Linear Learner\", \"Host\": \"algo-1\", \"Operation\": \"training\", \"epoch\": 0, \"model\": 25}, \"Metrics\": {\"train_binary_classification_cross_entropy_objective\": {\"sum\": 0.5151204485878668, \"count\": 1, \"min\": 0.5151204485878668, \"max\": 0.5151204485878668}}}\u001B[0m\n",
      "\u001B[34m#metrics {\"StartTime\": 1707638337.3085213, \"EndTime\": 1707638337.3085346, \"Dimensions\": {\"Algorithm\": \"Linear Learner\", \"Host\": \"algo-1\", \"Operation\": \"training\", \"epoch\": 0, \"model\": 26}, \"Metrics\": {\"train_binary_classification_cross_entropy_objective\": {\"sum\": 0.5150555232570077, \"count\": 1, \"min\": 0.5150555232570077, \"max\": 0.5150555232570077}}}\u001B[0m\n",
      "\u001B[34m#metrics {\"StartTime\": 1707638337.3085835, \"EndTime\": 1707638337.308596, \"Dimensions\": {\"Algorithm\": \"Linear Learner\", \"Host\": \"algo-1\", \"Operation\": \"training\", \"epoch\": 0, \"model\": 27}, \"Metrics\": {\"train_binary_classification_cross_entropy_objective\": {\"sum\": 0.5151059262336941, \"count\": 1, \"min\": 0.5151059262336941, \"max\": 0.5151059262336941}}}\u001B[0m\n",
      "\u001B[34m#metrics {\"StartTime\": 1707638337.3086429, \"EndTime\": 1707638337.308656, \"Dimensions\": {\"Algorithm\": \"Linear Learner\", \"Host\": \"algo-1\", \"Operation\": \"training\", \"epoch\": 0, \"model\": 28}, \"Metrics\": {\"train_binary_classification_cross_entropy_objective\": {\"sum\": 0.5150846641377207, \"count\": 1, \"min\": 0.5150846641377207, \"max\": 0.5150846641377207}}}\u001B[0m\n",
      "\u001B[34m#metrics {\"StartTime\": 1707638337.3086905, \"EndTime\": 1707638337.308704, \"Dimensions\": {\"Algorithm\": \"Linear Learner\", \"Host\": \"algo-1\", \"Operation\": \"training\", \"epoch\": 0, \"model\": 29}, \"Metrics\": {\"train_binary_classification_cross_entropy_objective\": {\"sum\": 0.5158093207123082, \"count\": 1, \"min\": 0.5158093207123082, \"max\": 0.5158093207123082}}}\u001B[0m\n",
      "\u001B[34m#metrics {\"StartTime\": 1707638337.3087392, \"EndTime\": 1707638337.3087523, \"Dimensions\": {\"Algorithm\": \"Linear Learner\", \"Host\": \"algo-1\", \"Operation\": \"training\", \"epoch\": 0, \"model\": 30}, \"Metrics\": {\"train_binary_classification_cross_entropy_objective\": {\"sum\": 0.5150691445960182, \"count\": 1, \"min\": 0.5150691445960182, \"max\": 0.5150691445960182}}}\u001B[0m\n",
      "\u001B[34m#metrics {\"StartTime\": 1707638337.3087866, \"EndTime\": 1707638337.3088, \"Dimensions\": {\"Algorithm\": \"Linear Learner\", \"Host\": \"algo-1\", \"Operation\": \"training\", \"epoch\": 0, \"model\": 31}, \"Metrics\": {\"train_binary_classification_cross_entropy_objective\": {\"sum\": 0.5157912877634031, \"count\": 1, \"min\": 0.5157912877634031, \"max\": 0.5157912877634031}}}\u001B[0m\n",
      "\u001B[34m[02/11/2024 07:58:57 INFO 140298564925248] #quality_metric: host=algo-1, epoch=0, train binary_classification_cross_entropy_objective <loss>=0.49425602946150193\u001B[0m\n",
      "\u001B[34m[2024-02-11 07:58:57.330] [tensorio] [info] epoch_stats={\"data_pipeline\": \"/opt/ml/input/data/validation\", \"epoch\": 0, \"duration\": 35502, \"num_examples\": 1, \"num_bytes\": 420000}\u001B[0m\n",
      "\u001B[34m[2024-02-11 07:59:00.979] [tensorio] [info] epoch_stats={\"data_pipeline\": \"/opt/ml/input/data/validation\", \"epoch\": 2, \"duration\": 3649, \"num_examples\": 164, \"num_bytes\": 68694780}\u001B[0m\n",
      "\u001B[34m#metrics {\"StartTime\": 1707638340.9860258, \"EndTime\": 1707638340.9860852, \"Dimensions\": {\"Algorithm\": \"Linear Learner\", \"Host\": \"algo-1\", \"Operation\": \"training\", \"epoch\": 0, \"model\": 0}, \"Metrics\": {\"validation_binary_classification_cross_entropy_objective\": {\"sum\": 0.4925413148214936, \"count\": 1, \"min\": 0.4925413148214936, \"max\": 0.4925413148214936}}}\u001B[0m\n",
      "\u001B[34m#metrics {\"StartTime\": 1707638340.9861636, \"EndTime\": 1707638340.986181, \"Dimensions\": {\"Algorithm\": \"Linear Learner\", \"Host\": \"algo-1\", \"Operation\": \"training\", \"epoch\": 0, \"model\": 1}, \"Metrics\": {\"validation_binary_classification_cross_entropy_objective\": {\"sum\": 0.49420332299752595, \"count\": 1, \"min\": 0.49420332299752595, \"max\": 0.49420332299752595}}}\u001B[0m\n",
      "\u001B[34m#metrics {\"StartTime\": 1707638340.9862342, \"EndTime\": 1707638340.9862485, \"Dimensions\": {\"Algorithm\": \"Linear Learner\", \"Host\": \"algo-1\", \"Operation\": \"training\", \"epoch\": 0, \"model\": 2}, \"Metrics\": {\"validation_binary_classification_cross_entropy_objective\": {\"sum\": 0.4925476389173426, \"count\": 1, \"min\": 0.4925476389173426, \"max\": 0.4925476389173426}}}\u001B[0m\n",
      "\u001B[34m#metrics {\"StartTime\": 1707638340.9862912, \"EndTime\": 1707638340.9863038, \"Dimensions\": {\"Algorithm\": \"Linear Learner\", \"Host\": \"algo-1\", \"Operation\": \"training\", \"epoch\": 0, \"model\": 3}, \"Metrics\": {\"validation_binary_classification_cross_entropy_objective\": {\"sum\": 0.4941980736285339, \"count\": 1, \"min\": 0.4941980736285339, \"max\": 0.4941980736285339}}}\u001B[0m\n",
      "\u001B[34m#metrics {\"StartTime\": 1707638340.986347, \"EndTime\": 1707638340.98636, \"Dimensions\": {\"Algorithm\": \"Linear Learner\", \"Host\": \"algo-1\", \"Operation\": \"training\", \"epoch\": 0, \"model\": 4}, \"Metrics\": {\"validation_binary_classification_cross_entropy_objective\": {\"sum\": 0.501426848237331, \"count\": 1, \"min\": 0.501426848237331, \"max\": 0.501426848237331}}}\u001B[0m\n",
      "\u001B[34m#metrics {\"StartTime\": 1707638340.9864082, \"EndTime\": 1707638340.9864218, \"Dimensions\": {\"Algorithm\": \"Linear Learner\", \"Host\": \"algo-1\", \"Operation\": \"training\", \"epoch\": 0, \"model\": 5}, \"Metrics\": {\"validation_binary_classification_cross_entropy_objective\": {\"sum\": 0.5163896181540855, \"count\": 1, \"min\": 0.5163896181540855, \"max\": 0.5163896181540855}}}\u001B[0m\n",
      "\u001B[34m#metrics {\"StartTime\": 1707638340.9864697, \"EndTime\": 1707638340.9864836, \"Dimensions\": {\"Algorithm\": \"Linear Learner\", \"Host\": \"algo-1\", \"Operation\": \"training\", \"epoch\": 0, \"model\": 6}, \"Metrics\": {\"validation_binary_classification_cross_entropy_objective\": {\"sum\": 0.5014321976156277, \"count\": 1, \"min\": 0.5014321976156277, \"max\": 0.5014321976156277}}}\u001B[0m\n",
      "\u001B[34m#metrics {\"StartTime\": 1707638340.9865303, \"EndTime\": 1707638340.9865422, \"Dimensions\": {\"Algorithm\": \"Linear Learner\", \"Host\": \"algo-1\", \"Operation\": \"training\", \"epoch\": 0, \"model\": 7}, \"Metrics\": {\"validation_binary_classification_cross_entropy_objective\": {\"sum\": 0.5159920442239831, \"count\": 1, \"min\": 0.5159920442239831, \"max\": 0.5159920442239831}}}\u001B[0m\n",
      "\u001B[34m#metrics {\"StartTime\": 1707638340.986589, \"EndTime\": 1707638340.9866009, \"Dimensions\": {\"Algorithm\": \"Linear Learner\", \"Host\": \"algo-1\", \"Operation\": \"training\", \"epoch\": 0, \"model\": 8}, \"Metrics\": {\"validation_binary_classification_cross_entropy_objective\": {\"sum\": 0.4926456056813071, \"count\": 1, \"min\": 0.4926456056813071, \"max\": 0.4926456056813071}}}\u001B[0m\n",
      "\u001B[34m#metrics {\"StartTime\": 1707638340.9866495, \"EndTime\": 1707638340.9866629, \"Dimensions\": {\"Algorithm\": \"Linear Learner\", \"Host\": \"algo-1\", \"Operation\": \"training\", \"epoch\": 0, \"model\": 9}, \"Metrics\": {\"validation_binary_classification_cross_entropy_objective\": {\"sum\": 0.4941342171276998, \"count\": 1, \"min\": 0.4941342171276998, \"max\": 0.4941342171276998}}}\u001B[0m\n",
      "\u001B[34m#metrics {\"StartTime\": 1707638340.9867089, \"EndTime\": 1707638340.9867215, \"Dimensions\": {\"Algorithm\": \"Linear Learner\", \"Host\": \"algo-1\", \"Operation\": \"training\", \"epoch\": 0, \"model\": 10}, \"Metrics\": {\"validation_binary_classification_cross_entropy_objective\": {\"sum\": 0.4926453578970595, \"count\": 1, \"min\": 0.4926453578970595, \"max\": 0.4926453578970595}}}\u001B[0m\n",
      "\u001B[34m#metrics {\"StartTime\": 1707638340.9867516, \"EndTime\": 1707638340.986759, \"Dimensions\": {\"Algorithm\": \"Linear Learner\", \"Host\": \"algo-1\", \"Operation\": \"training\", \"epoch\": 0, \"model\": 11}, \"Metrics\": {\"validation_binary_classification_cross_entropy_objective\": {\"sum\": 0.49413404882845935, \"count\": 1, \"min\": 0.49413404882845935, \"max\": 0.49413404882845935}}}\u001B[0m\n",
      "\u001B[34m#metrics {\"StartTime\": 1707638340.9868002, \"EndTime\": 1707638340.986812, \"Dimensions\": {\"Algorithm\": \"Linear Learner\", \"Host\": \"algo-1\", \"Operation\": \"training\", \"epoch\": 0, \"model\": 12}, \"Metrics\": {\"validation_binary_classification_cross_entropy_objective\": {\"sum\": 0.5011757370011071, \"count\": 1, \"min\": 0.5011757370011071, \"max\": 0.5011757370011071}}}\u001B[0m\n",
      "\u001B[34m#metrics {\"StartTime\": 1707638340.986874, \"EndTime\": 1707638340.9868872, \"Dimensions\": {\"Algorithm\": \"Linear Learner\", \"Host\": \"algo-1\", \"Operation\": \"training\", \"epoch\": 0, \"model\": 13}, \"Metrics\": {\"validation_binary_classification_cross_entropy_objective\": {\"sum\": 0.5142309061160651, \"count\": 1, \"min\": 0.5142309061160651, \"max\": 0.5142309061160651}}}\u001B[0m\n",
      "\u001B[34m#metrics {\"StartTime\": 1707638340.9869328, \"EndTime\": 1707638340.9869459, \"Dimensions\": {\"Algorithm\": \"Linear Learner\", \"Host\": \"algo-1\", \"Operation\": \"training\", \"epoch\": 0, \"model\": 14}, \"Metrics\": {\"validation_binary_classification_cross_entropy_objective\": {\"sum\": 0.5011779553045103, \"count\": 1, \"min\": 0.5011779553045103, \"max\": 0.5011779553045103}}}\u001B[0m\n",
      "\u001B[34m#metrics {\"StartTime\": 1707638340.9869874, \"EndTime\": 1707638340.9869993, \"Dimensions\": {\"Algorithm\": \"Linear Learner\", \"Host\": \"algo-1\", \"Operation\": \"training\", \"epoch\": 0, \"model\": 15}, \"Metrics\": {\"validation_binary_classification_cross_entropy_objective\": {\"sum\": 0.5142304217426414, \"count\": 1, \"min\": 0.5142304217426414, \"max\": 0.5142304217426414}}}\u001B[0m\n",
      "\u001B[34m#metrics {\"StartTime\": 1707638340.9870396, \"EndTime\": 1707638340.9870522, \"Dimensions\": {\"Algorithm\": \"Linear Learner\", \"Host\": \"algo-1\", \"Operation\": \"training\", \"epoch\": 0, \"model\": 16}, \"Metrics\": {\"validation_binary_classification_cross_entropy_objective\": {\"sum\": 0.507536135108236, \"count\": 1, \"min\": 0.507536135108236, \"max\": 0.507536135108236}}}\u001B[0m\n",
      "\u001B[34m#metrics {\"StartTime\": 1707638340.9870934, \"EndTime\": 1707638340.9871051, \"Dimensions\": {\"Algorithm\": \"Linear Learner\", \"Host\": \"algo-1\", \"Operation\": \"training\", \"epoch\": 0, \"model\": 17}, \"Metrics\": {\"validation_binary_classification_cross_entropy_objective\": {\"sum\": 0.5080511750045449, \"count\": 1, \"min\": 0.5080511750045449, \"max\": 0.5080511750045449}}}\u001B[0m\n",
      "\u001B[34m#metrics {\"StartTime\": 1707638340.9871454, \"EndTime\": 1707638340.9871576, \"Dimensions\": {\"Algorithm\": \"Linear Learner\", \"Host\": \"algo-1\", \"Operation\": \"training\", \"epoch\": 0, \"model\": 18}, \"Metrics\": {\"validation_binary_classification_cross_entropy_objective\": {\"sum\": 0.5075300720441357, \"count\": 1, \"min\": 0.5075300720441357, \"max\": 0.5075300720441357}}}\u001B[0m\n",
      "\u001B[34m#metrics {\"StartTime\": 1707638340.9871998, \"EndTime\": 1707638340.9872131, \"Dimensions\": {\"Algorithm\": \"Linear Learner\", \"Host\": \"algo-1\", \"Operation\": \"training\", \"epoch\": 0, \"model\": 19}, \"Metrics\": {\"validation_binary_classification_cross_entropy_objective\": {\"sum\": 0.5080461318114516, \"count\": 1, \"min\": 0.5080461318114516, \"max\": 0.5080461318114516}}}\u001B[0m\n",
      "\u001B[34m#metrics {\"StartTime\": 1707638340.987257, \"EndTime\": 1707638340.9872699, \"Dimensions\": {\"Algorithm\": \"Linear Learner\", \"Host\": \"algo-1\", \"Operation\": \"training\", \"epoch\": 0, \"model\": 20}, \"Metrics\": {\"validation_binary_classification_cross_entropy_objective\": {\"sum\": 0.511129308591911, \"count\": 1, \"min\": 0.511129308591911, \"max\": 0.511129308591911}}}\u001B[0m\n",
      "\u001B[34m#metrics {\"StartTime\": 1707638340.9873133, \"EndTime\": 1707638340.9873254, \"Dimensions\": {\"Algorithm\": \"Linear Learner\", \"Host\": \"algo-1\", \"Operation\": \"training\", \"epoch\": 0, \"model\": 21}, \"Metrics\": {\"validation_binary_classification_cross_entropy_objective\": {\"sum\": 0.5121353010688469, \"count\": 1, \"min\": 0.5121353010688469, \"max\": 0.5121353010688469}}}\u001B[0m\n",
      "\u001B[34m#metrics {\"StartTime\": 1707638340.987365, \"EndTime\": 1707638340.9873767, \"Dimensions\": {\"Algorithm\": \"Linear Learner\", \"Host\": \"algo-1\", \"Operation\": \"training\", \"epoch\": 0, \"model\": 22}, \"Metrics\": {\"validation_binary_classification_cross_entropy_objective\": {\"sum\": 0.5111317573272011, \"count\": 1, \"min\": 0.5111317573272011, \"max\": 0.5111317573272011}}}\u001B[0m\n",
      "\u001B[34m#metrics {\"StartTime\": 1707638340.9874272, \"EndTime\": 1707638340.9874363, \"Dimensions\": {\"Algorithm\": \"Linear Learner\", \"Host\": \"algo-1\", \"Operation\": \"training\", \"epoch\": 0, \"model\": 23}, \"Metrics\": {\"validation_binary_classification_cross_entropy_objective\": {\"sum\": 0.5121390148472083, \"count\": 1, \"min\": 0.5121390148472083, \"max\": 0.5121390148472083}}}\u001B[0m\n",
      "\u001B[34m#metrics {\"StartTime\": 1707638340.9874802, \"EndTime\": 1707638340.9874923, \"Dimensions\": {\"Algorithm\": \"Linear Learner\", \"Host\": \"algo-1\", \"Operation\": \"training\", \"epoch\": 0, \"model\": 24}, \"Metrics\": {\"validation_binary_classification_cross_entropy_objective\": {\"sum\": 0.5137716296168714, \"count\": 1, \"min\": 0.5137716296168714, \"max\": 0.5137716296168714}}}\u001B[0m\n",
      "\u001B[34m#metrics {\"StartTime\": 1707638340.9875543, \"EndTime\": 1707638340.987569, \"Dimensions\": {\"Algorithm\": \"Linear Learner\", \"Host\": \"algo-1\", \"Operation\": \"training\", \"epoch\": 0, \"model\": 25}, \"Metrics\": {\"validation_binary_classification_cross_entropy_objective\": {\"sum\": 0.5144529982344745, \"count\": 1, \"min\": 0.5144529982344745, \"max\": 0.5144529982344745}}}\u001B[0m\n",
      "\u001B[34m#metrics {\"StartTime\": 1707638340.9876184, \"EndTime\": 1707638340.9876308, \"Dimensions\": {\"Algorithm\": \"Linear Learner\", \"Host\": \"algo-1\", \"Operation\": \"training\", \"epoch\": 0, \"model\": 26}, \"Metrics\": {\"validation_binary_classification_cross_entropy_objective\": {\"sum\": 0.5137768666712849, \"count\": 1, \"min\": 0.5137768666712849, \"max\": 0.5137768666712849}}}\u001B[0m\n",
      "\u001B[34m#metrics {\"StartTime\": 1707638340.9876819, \"EndTime\": 1707638340.9876957, \"Dimensions\": {\"Algorithm\": \"Linear Learner\", \"Host\": \"algo-1\", \"Operation\": \"training\", \"epoch\": 0, \"model\": 27}, \"Metrics\": {\"validation_binary_classification_cross_entropy_objective\": {\"sum\": 0.5144462311869661, \"count\": 1, \"min\": 0.5144462311869661, \"max\": 0.5144462311869661}}}\u001B[0m\n",
      "\u001B[34m#metrics {\"StartTime\": 1707638340.987748, \"EndTime\": 1707638340.9877608, \"Dimensions\": {\"Algorithm\": \"Linear Learner\", \"Host\": \"algo-1\", \"Operation\": \"training\", \"epoch\": 0, \"model\": 28}, \"Metrics\": {\"validation_binary_classification_cross_entropy_objective\": {\"sum\": 0.515336348144176, \"count\": 1, \"min\": 0.515336348144176, \"max\": 0.515336348144176}}}\u001B[0m\n",
      "\u001B[34m#metrics {\"StartTime\": 1707638340.9878109, \"EndTime\": 1707638340.9878232, \"Dimensions\": {\"Algorithm\": \"Linear Learner\", \"Host\": \"algo-1\", \"Operation\": \"training\", \"epoch\": 0, \"model\": 29}, \"Metrics\": {\"validation_binary_classification_cross_entropy_objective\": {\"sum\": 0.5138444828502731, \"count\": 1, \"min\": 0.5138444828502731, \"max\": 0.5138444828502731}}}\u001B[0m\n",
      "\u001B[34m#metrics {\"StartTime\": 1707638340.9878724, \"EndTime\": 1707638340.9878845, \"Dimensions\": {\"Algorithm\": \"Linear Learner\", \"Host\": \"algo-1\", \"Operation\": \"training\", \"epoch\": 0, \"model\": 30}, \"Metrics\": {\"validation_binary_classification_cross_entropy_objective\": {\"sum\": 0.5153487395955693, \"count\": 1, \"min\": 0.5153487395955693, \"max\": 0.5153487395955693}}}\u001B[0m\n",
      "\u001B[34m#metrics {\"StartTime\": 1707638340.9879284, \"EndTime\": 1707638340.9879413, \"Dimensions\": {\"Algorithm\": \"Linear Learner\", \"Host\": \"algo-1\", \"Operation\": \"training\", \"epoch\": 0, \"model\": 31}, \"Metrics\": {\"validation_binary_classification_cross_entropy_objective\": {\"sum\": 0.5137507551001044, \"count\": 1, \"min\": 0.5137507551001044, \"max\": 0.5137507551001044}}}\u001B[0m\n",
      "\u001B[34m[02/11/2024 07:59:00 INFO 140298564925248] #quality_metric: host=algo-1, epoch=0, validation binary_classification_cross_entropy_objective <loss>=0.4925413148214936\u001B[0m\n",
      "\u001B[34m[02/11/2024 07:59:00 INFO 140298564925248] #early_stopping_criteria_metric: host=algo-1, epoch=0, criteria=binary_classification_cross_entropy_objective, value=0.4925413148214936\u001B[0m\n",
      "\u001B[34m[02/11/2024 07:59:00 INFO 140298564925248] Epoch 0: Loss improved. Updating best model\u001B[0m\n",
      "\u001B[34m[02/11/2024 07:59:00 INFO 140298564925248] Saving model for epoch: 0\u001B[0m\n",
      "\u001B[34m[02/11/2024 07:59:00 INFO 140298564925248] Saved checkpoint to \"/tmp/tmp3c35e23w/mx-mod-0000.params\"\u001B[0m\n",
      "\u001B[34m[02/11/2024 07:59:00 INFO 140298564925248] #progress_metric: host=algo-1, completed 6.666666666666667 % of epochs\u001B[0m\n",
      "\u001B[34m#metrics {\"StartTime\": 1707638302.1900787, \"EndTime\": 1707638340.9947844, \"Dimensions\": {\"Algorithm\": \"Linear Learner\", \"Host\": \"algo-1\", \"Operation\": \"training\", \"epoch\": 0, \"Meta\": \"training_data_iter\"}, \"Metrics\": {\"Total Records Seen\": {\"sum\": 1320472.0, \"count\": 1, \"min\": 1320472, \"max\": 1320472}, \"Total Batches Seen\": {\"sum\": 1321.0, \"count\": 1, \"min\": 1321, \"max\": 1321}, \"Max Records Seen Between Resets\": {\"sum\": 1308472.0, \"count\": 1, \"min\": 1308472, \"max\": 1308472}, \"Max Batches Seen Between Resets\": {\"sum\": 1309.0, \"count\": 1, \"min\": 1309, \"max\": 1309}, \"Reset Count\": {\"sum\": 3.0, \"count\": 1, \"min\": 3, \"max\": 3}, \"Number of Records Since Last Reset\": {\"sum\": 1308472.0, \"count\": 1, \"min\": 1308472, \"max\": 1308472}, \"Number of Batches Since Last Reset\": {\"sum\": 1309.0, \"count\": 1, \"min\": 1309, \"max\": 1309}}}\u001B[0m\n",
      "\u001B[34m[02/11/2024 07:59:00 INFO 140298564925248] #throughput_metric: host=algo-1, train throughput=33719.25907931094 records/second\u001B[0m\n",
      "\u001B[34m[2024-02-11 07:59:37.145] [tensorio] [info] epoch_stats={\"data_pipeline\": \"/opt/ml/input/data/train\", \"epoch\": 5, \"duration\": 36150, \"num_examples\": 1309, \"num_bytes\": 549558240}\u001B[0m\n",
      "\u001B[34m#metrics {\"StartTime\": 1707638377.1454053, \"EndTime\": 1707638377.1454709, \"Dimensions\": {\"Algorithm\": \"Linear Learner\", \"Host\": \"algo-1\", \"Operation\": \"training\", \"epoch\": 1, \"model\": 0}, \"Metrics\": {\"train_binary_classification_cross_entropy_objective\": {\"sum\": 0.4921454435342678, \"count\": 1, \"min\": 0.4921454435342678, \"max\": 0.4921454435342678}}}\u001B[0m\n",
      "\u001B[34m#metrics {\"StartTime\": 1707638377.1455617, \"EndTime\": 1707638377.145576, \"Dimensions\": {\"Algorithm\": \"Linear Learner\", \"Host\": \"algo-1\", \"Operation\": \"training\", \"epoch\": 1, \"model\": 1}, \"Metrics\": {\"train_binary_classification_cross_entropy_objective\": {\"sum\": 0.4932051492626878, \"count\": 1, \"min\": 0.4932051492626878, \"max\": 0.4932051492626878}}}\u001B[0m\n",
      "\u001B[34m#metrics {\"StartTime\": 1707638377.1456194, \"EndTime\": 1707638377.1456304, \"Dimensions\": {\"Algorithm\": \"Linear Learner\", \"Host\": \"algo-1\", \"Operation\": \"training\", \"epoch\": 1, \"model\": 2}, \"Metrics\": {\"train_binary_classification_cross_entropy_objective\": {\"sum\": 0.4921508269937031, \"count\": 1, \"min\": 0.4921508269937031, \"max\": 0.4921508269937031}}}\u001B[0m\n",
      "\u001B[34m#metrics {\"StartTime\": 1707638377.1456597, \"EndTime\": 1707638377.145667, \"Dimensions\": {\"Algorithm\": \"Linear Learner\", \"Host\": \"algo-1\", \"Operation\": \"training\", \"epoch\": 1, \"model\": 3}, \"Metrics\": {\"train_binary_classification_cross_entropy_objective\": {\"sum\": 0.49320190525346574, \"count\": 1, \"min\": 0.49320190525346574, \"max\": 0.49320190525346574}}}\u001B[0m\n",
      "\u001B[34m#metrics {\"StartTime\": 1707638377.1456923, \"EndTime\": 1707638377.1456993, \"Dimensions\": {\"Algorithm\": \"Linear Learner\", \"Host\": \"algo-1\", \"Operation\": \"training\", \"epoch\": 1, \"model\": 4}, \"Metrics\": {\"train_binary_classification_cross_entropy_objective\": {\"sum\": 0.49635961729743794, \"count\": 1, \"min\": 0.49635961729743794, \"max\": 0.49635961729743794}}}\u001B[0m\n",
      "\u001B[34m#metrics {\"StartTime\": 1707638377.1457345, \"EndTime\": 1707638377.1457458, \"Dimensions\": {\"Algorithm\": \"Linear Learner\", \"Host\": \"algo-1\", \"Operation\": \"training\", \"epoch\": 1, \"model\": 5}, \"Metrics\": {\"train_binary_classification_cross_entropy_objective\": {\"sum\": 0.5141862753771861, \"count\": 1, \"min\": 0.5141862753771861, \"max\": 0.5141862753771861}}}\u001B[0m\n",
      "\u001B[34m#metrics {\"StartTime\": 1707638377.1457922, \"EndTime\": 1707638377.1458046, \"Dimensions\": {\"Algorithm\": \"Linear Learner\", \"Host\": \"algo-1\", \"Operation\": \"training\", \"epoch\": 1, \"model\": 6}, \"Metrics\": {\"train_binary_classification_cross_entropy_objective\": {\"sum\": 0.49636414591471356, \"count\": 1, \"min\": 0.49636414591471356, \"max\": 0.49636414591471356}}}\u001B[0m\n",
      "\u001B[34m#metrics {\"StartTime\": 1707638377.145847, \"EndTime\": 1707638377.145858, \"Dimensions\": {\"Algorithm\": \"Linear Learner\", \"Host\": \"algo-1\", \"Operation\": \"training\", \"epoch\": 1, \"model\": 7}, \"Metrics\": {\"train_binary_classification_cross_entropy_objective\": {\"sum\": 0.51418584337147, \"count\": 1, \"min\": 0.51418584337147, \"max\": 0.51418584337147}}}\u001B[0m\n",
      "\u001B[34m#metrics {\"StartTime\": 1707638377.1458933, \"EndTime\": 1707638377.1459036, \"Dimensions\": {\"Algorithm\": \"Linear Learner\", \"Host\": \"algo-1\", \"Operation\": \"training\", \"epoch\": 1, \"model\": 8}, \"Metrics\": {\"train_binary_classification_cross_entropy_objective\": {\"sum\": 0.4923290732614126, \"count\": 1, \"min\": 0.4923290732614126, \"max\": 0.4923290732614126}}}\u001B[0m\n",
      "\u001B[34m#metrics {\"StartTime\": 1707638377.1459424, \"EndTime\": 1707638377.1459534, \"Dimensions\": {\"Algorithm\": \"Linear Learner\", \"Host\": \"algo-1\", \"Operation\": \"training\", \"epoch\": 1, \"model\": 9}, \"Metrics\": {\"train_binary_classification_cross_entropy_objective\": {\"sum\": 0.4933423784588455, \"count\": 1, \"min\": 0.4933423784588455, \"max\": 0.4933423784588455}}}\u001B[0m\n",
      "\u001B[34m#metrics {\"StartTime\": 1707638377.1459894, \"EndTime\": 1707638377.1460006, \"Dimensions\": {\"Algorithm\": \"Linear Learner\", \"Host\": \"algo-1\", \"Operation\": \"training\", \"epoch\": 1, \"model\": 10}, \"Metrics\": {\"train_binary_classification_cross_entropy_objective\": {\"sum\": 0.49232843162233314, \"count\": 1, \"min\": 0.49232843162233314, \"max\": 0.49232843162233314}}}\u001B[0m\n",
      "\u001B[34m#metrics {\"StartTime\": 1707638377.146046, \"EndTime\": 1707638377.1460593, \"Dimensions\": {\"Algorithm\": \"Linear Learner\", \"Host\": \"algo-1\", \"Operation\": \"training\", \"epoch\": 1, \"model\": 11}, \"Metrics\": {\"train_binary_classification_cross_entropy_objective\": {\"sum\": 0.4933424895166986, \"count\": 1, \"min\": 0.4933424895166986, \"max\": 0.4933424895166986}}}\u001B[0m\n",
      "\u001B[34m#metrics {\"StartTime\": 1707638377.1460903, \"EndTime\": 1707638377.1461012, \"Dimensions\": {\"Algorithm\": \"Linear Learner\", \"Host\": \"algo-1\", \"Operation\": \"training\", \"epoch\": 1, \"model\": 12}, \"Metrics\": {\"train_binary_classification_cross_entropy_objective\": {\"sum\": 0.49628824837127594, \"count\": 1, \"min\": 0.49628824837127594, \"max\": 0.49628824837127594}}}\u001B[0m\n",
      "\u001B[34m#metrics {\"StartTime\": 1707638377.146147, \"EndTime\": 1707638377.1461608, \"Dimensions\": {\"Algorithm\": \"Linear Learner\", \"Host\": \"algo-1\", \"Operation\": \"training\", \"epoch\": 1, \"model\": 13}, \"Metrics\": {\"train_binary_classification_cross_entropy_objective\": {\"sum\": 0.5128987344397682, \"count\": 1, \"min\": 0.5128987344397682, \"max\": 0.5128987344397682}}}\u001B[0m\n",
      "\u001B[34m#metrics {\"StartTime\": 1707638377.146206, \"EndTime\": 1707638377.1462157, \"Dimensions\": {\"Algorithm\": \"Linear Learner\", \"Host\": \"algo-1\", \"Operation\": \"training\", \"epoch\": 1, \"model\": 14}, \"Metrics\": {\"train_binary_classification_cross_entropy_objective\": {\"sum\": 0.4962884654473821, \"count\": 1, \"min\": 0.4962884654473821, \"max\": 0.4962884654473821}}}\u001B[0m\n",
      "\u001B[34m#metrics {\"StartTime\": 1707638377.1462407, \"EndTime\": 1707638377.1462479, \"Dimensions\": {\"Algorithm\": \"Linear Learner\", \"Host\": \"algo-1\", \"Operation\": \"training\", \"epoch\": 1, \"model\": 15}, \"Metrics\": {\"train_binary_classification_cross_entropy_objective\": {\"sum\": 0.51289752612566, \"count\": 1, \"min\": 0.51289752612566, \"max\": 0.51289752612566}}}\u001B[0m\n",
      "\u001B[34m#metrics {\"StartTime\": 1707638377.146275, \"EndTime\": 1707638377.146287, \"Dimensions\": {\"Algorithm\": \"Linear Learner\", \"Host\": \"algo-1\", \"Operation\": \"training\", \"epoch\": 1, \"model\": 16}, \"Metrics\": {\"train_binary_classification_cross_entropy_objective\": {\"sum\": 0.5077921209772792, \"count\": 1, \"min\": 0.5077921209772792, \"max\": 0.5077921209772792}}}\u001B[0m\n",
      "\u001B[34m#metrics {\"StartTime\": 1707638377.1463325, \"EndTime\": 1707638377.1463418, \"Dimensions\": {\"Algorithm\": \"Linear Learner\", \"Host\": \"algo-1\", \"Operation\": \"training\", \"epoch\": 1, \"model\": 17}, \"Metrics\": {\"train_binary_classification_cross_entropy_objective\": {\"sum\": 0.5080307747143853, \"count\": 1, \"min\": 0.5080307747143853, \"max\": 0.5080307747143853}}}\u001B[0m\n",
      "\u001B[34m#metrics {\"StartTime\": 1707638377.146367, \"EndTime\": 1707638377.1463737, \"Dimensions\": {\"Algorithm\": \"Linear Learner\", \"Host\": \"algo-1\", \"Operation\": \"training\", \"epoch\": 1, \"model\": 18}, \"Metrics\": {\"train_binary_classification_cross_entropy_objective\": {\"sum\": 0.5077921240803663, \"count\": 1, \"min\": 0.5077921240803663, \"max\": 0.5077921240803663}}}\u001B[0m\n",
      "\u001B[34m#metrics {\"StartTime\": 1707638377.146411, \"EndTime\": 1707638377.1464226, \"Dimensions\": {\"Algorithm\": \"Linear Learner\", \"Host\": \"algo-1\", \"Operation\": \"training\", \"epoch\": 1, \"model\": 19}, \"Metrics\": {\"train_binary_classification_cross_entropy_objective\": {\"sum\": 0.508030785983491, \"count\": 1, \"min\": 0.508030785983491, \"max\": 0.508030785983491}}}\u001B[0m\n",
      "\u001B[34m#metrics {\"StartTime\": 1707638377.1464608, \"EndTime\": 1707638377.1464684, \"Dimensions\": {\"Algorithm\": \"Linear Learner\", \"Host\": \"algo-1\", \"Operation\": \"training\", \"epoch\": 1, \"model\": 20}, \"Metrics\": {\"train_binary_classification_cross_entropy_objective\": {\"sum\": 0.5086313046329977, \"count\": 1, \"min\": 0.5086313046329977, \"max\": 0.5086313046329977}}}\u001B[0m\n",
      "\u001B[34m#metrics {\"StartTime\": 1707638377.146507, \"EndTime\": 1707638377.1465185, \"Dimensions\": {\"Algorithm\": \"Linear Learner\", \"Host\": \"algo-1\", \"Operation\": \"training\", \"epoch\": 1, \"model\": 21}, \"Metrics\": {\"train_binary_classification_cross_entropy_objective\": {\"sum\": 0.5115101712661416, \"count\": 1, \"min\": 0.5115101712661416, \"max\": 0.5115101712661416}}}\u001B[0m\n",
      "\u001B[34m#metrics {\"StartTime\": 1707638377.1465619, \"EndTime\": 1707638377.1465738, \"Dimensions\": {\"Algorithm\": \"Linear Learner\", \"Host\": \"algo-1\", \"Operation\": \"training\", \"epoch\": 1, \"model\": 22}, \"Metrics\": {\"train_binary_classification_cross_entropy_objective\": {\"sum\": 0.5086316053524659, \"count\": 1, \"min\": 0.5086316053524659, \"max\": 0.5086316053524659}}}\u001B[0m\n",
      "\u001B[34m#metrics {\"StartTime\": 1707638377.1466103, \"EndTime\": 1707638377.146618, \"Dimensions\": {\"Algorithm\": \"Linear Learner\", \"Host\": \"algo-1\", \"Operation\": \"training\", \"epoch\": 1, \"model\": 23}, \"Metrics\": {\"train_binary_classification_cross_entropy_objective\": {\"sum\": 0.51151045577023, \"count\": 1, \"min\": 0.51151045577023, \"max\": 0.51151045577023}}}\u001B[0m\n",
      "\u001B[34m#metrics {\"StartTime\": 1707638377.1466515, \"EndTime\": 1707638377.1466634, \"Dimensions\": {\"Algorithm\": \"Linear Learner\", \"Host\": \"algo-1\", \"Operation\": \"training\", \"epoch\": 1, \"model\": 24}, \"Metrics\": {\"train_binary_classification_cross_entropy_objective\": {\"sum\": 0.5137804231089554, \"count\": 1, \"min\": 0.5137804231089554, \"max\": 0.5137804231089554}}}\u001B[0m\n",
      "\u001B[34m#metrics {\"StartTime\": 1707638377.146709, \"EndTime\": 1707638377.146717, \"Dimensions\": {\"Algorithm\": \"Linear Learner\", \"Host\": \"algo-1\", \"Operation\": \"training\", \"epoch\": 1, \"model\": 25}, \"Metrics\": {\"train_binary_classification_cross_entropy_objective\": {\"sum\": 0.5138779486093317, \"count\": 1, \"min\": 0.5138779486093317, \"max\": 0.5138779486093317}}}\u001B[0m\n",
      "\u001B[34m#metrics {\"StartTime\": 1707638377.1467419, \"EndTime\": 1707638377.1467488, \"Dimensions\": {\"Algorithm\": \"Linear Learner\", \"Host\": \"algo-1\", \"Operation\": \"training\", \"epoch\": 1, \"model\": 26}, \"Metrics\": {\"train_binary_classification_cross_entropy_objective\": {\"sum\": 0.5137807320177737, \"count\": 1, \"min\": 0.5137807320177737, \"max\": 0.5137807320177737}}}\u001B[0m\n",
      "\u001B[34m#metrics {\"StartTime\": 1707638377.1467757, \"EndTime\": 1707638377.1467865, \"Dimensions\": {\"Algorithm\": \"Linear Learner\", \"Host\": \"algo-1\", \"Operation\": \"training\", \"epoch\": 1, \"model\": 27}, \"Metrics\": {\"train_binary_classification_cross_entropy_objective\": {\"sum\": 0.5138788183603082, \"count\": 1, \"min\": 0.5138788183603082, \"max\": 0.5138788183603082}}}\u001B[0m\n",
      "\u001B[34m#metrics {\"StartTime\": 1707638377.1468267, \"EndTime\": 1707638377.14687, \"Dimensions\": {\"Algorithm\": \"Linear Learner\", \"Host\": \"algo-1\", \"Operation\": \"training\", \"epoch\": 1, \"model\": 28}, \"Metrics\": {\"train_binary_classification_cross_entropy_objective\": {\"sum\": 0.5141594285644158, \"count\": 1, \"min\": 0.5141594285644158, \"max\": 0.5141594285644158}}}\u001B[0m\n",
      "\u001B[34m#metrics {\"StartTime\": 1707638377.1469176, \"EndTime\": 1707638377.1469297, \"Dimensions\": {\"Algorithm\": \"Linear Learner\", \"Host\": \"algo-1\", \"Operation\": \"training\", \"epoch\": 1, \"model\": 29}, \"Metrics\": {\"train_binary_classification_cross_entropy_objective\": {\"sum\": 0.5152515502836361, \"count\": 1, \"min\": 0.5152515502836361, \"max\": 0.5152515502836361}}}\u001B[0m\n",
      "\u001B[34m#metrics {\"StartTime\": 1707638377.146971, \"EndTime\": 1707638377.146983, \"Dimensions\": {\"Algorithm\": \"Linear Learner\", \"Host\": \"algo-1\", \"Operation\": \"training\", \"epoch\": 1, \"model\": 30}, \"Metrics\": {\"train_binary_classification_cross_entropy_objective\": {\"sum\": 0.5141598153537202, \"count\": 1, \"min\": 0.5141598153537202, \"max\": 0.5141598153537202}}}\u001B[0m\n",
      "\u001B[34m#metrics {\"StartTime\": 1707638377.1470234, \"EndTime\": 1707638377.1470375, \"Dimensions\": {\"Algorithm\": \"Linear Learner\", \"Host\": \"algo-1\", \"Operation\": \"training\", \"epoch\": 1, \"model\": 31}, \"Metrics\": {\"train_binary_classification_cross_entropy_objective\": {\"sum\": 0.515250289473694, \"count\": 1, \"min\": 0.515250289473694, \"max\": 0.515250289473694}}}\u001B[0m\n",
      "\u001B[34m[02/11/2024 07:59:37 INFO 140298564925248] #quality_metric: host=algo-1, epoch=1, train binary_classification_cross_entropy_objective <loss>=0.4921454435342678\u001B[0m\n",
      "\u001B[34m[2024-02-11 07:59:40.319] [tensorio] [info] epoch_stats={\"data_pipeline\": \"/opt/ml/input/data/validation\", \"epoch\": 5, \"duration\": 3155, \"num_examples\": 164, \"num_bytes\": 68694780}\u001B[0m\n",
      "\u001B[34m#metrics {\"StartTime\": 1707638380.3254192, \"EndTime\": 1707638380.3254797, \"Dimensions\": {\"Algorithm\": \"Linear Learner\", \"Host\": \"algo-1\", \"Operation\": \"training\", \"epoch\": 1, \"model\": 0}, \"Metrics\": {\"validation_binary_classification_cross_entropy_objective\": {\"sum\": 0.49220983621992626, \"count\": 1, \"min\": 0.49220983621992626, \"max\": 0.49220983621992626}}}\u001B[0m\n",
      "\u001B[34m#metrics {\"StartTime\": 1707638380.3255568, \"EndTime\": 1707638380.3255696, \"Dimensions\": {\"Algorithm\": \"Linear Learner\", \"Host\": \"algo-1\", \"Operation\": \"training\", \"epoch\": 1, \"model\": 1}, \"Metrics\": {\"validation_binary_classification_cross_entropy_objective\": {\"sum\": 0.49420736367197293, \"count\": 1, \"min\": 0.49420736367197293, \"max\": 0.49420736367197293}}}\u001B[0m\n",
      "\u001B[34m#metrics {\"StartTime\": 1707638380.3256164, \"EndTime\": 1707638380.3256302, \"Dimensions\": {\"Algorithm\": \"Linear Learner\", \"Host\": \"algo-1\", \"Operation\": \"training\", \"epoch\": 1, \"model\": 2}, \"Metrics\": {\"validation_binary_classification_cross_entropy_objective\": {\"sum\": 0.49221601944445986, \"count\": 1, \"min\": 0.49221601944445986, \"max\": 0.49221601944445986}}}\u001B[0m\n",
      "\u001B[34m#metrics {\"StartTime\": 1707638380.3256812, \"EndTime\": 1707638380.3256938, \"Dimensions\": {\"Algorithm\": \"Linear Learner\", \"Host\": \"algo-1\", \"Operation\": \"training\", \"epoch\": 1, \"model\": 3}, \"Metrics\": {\"validation_binary_classification_cross_entropy_objective\": {\"sum\": 0.4942060726936529, \"count\": 1, \"min\": 0.4942060726936529, \"max\": 0.4942060726936529}}}\u001B[0m\n",
      "\u001B[34m#metrics {\"StartTime\": 1707638380.3257408, \"EndTime\": 1707638380.325754, \"Dimensions\": {\"Algorithm\": \"Linear Learner\", \"Host\": \"algo-1\", \"Operation\": \"training\", \"epoch\": 1, \"model\": 4}, \"Metrics\": {\"validation_binary_classification_cross_entropy_objective\": {\"sum\": 0.49444757445373305, \"count\": 1, \"min\": 0.49444757445373305, \"max\": 0.49444757445373305}}}\u001B[0m\n",
      "\u001B[34m#metrics {\"StartTime\": 1707638380.325803, \"EndTime\": 1707638380.3258169, \"Dimensions\": {\"Algorithm\": \"Linear Learner\", \"Host\": \"algo-1\", \"Operation\": \"training\", \"epoch\": 1, \"model\": 5}, \"Metrics\": {\"validation_binary_classification_cross_entropy_objective\": {\"sum\": 0.513706421497747, \"count\": 1, \"min\": 0.513706421497747, \"max\": 0.513706421497747}}}\u001B[0m\n",
      "\u001B[34m#metrics {\"StartTime\": 1707638380.325868, \"EndTime\": 1707638380.3258815, \"Dimensions\": {\"Algorithm\": \"Linear Learner\", \"Host\": \"algo-1\", \"Operation\": \"training\", \"epoch\": 1, \"model\": 6}, \"Metrics\": {\"validation_binary_classification_cross_entropy_objective\": {\"sum\": 0.494456718774659, \"count\": 1, \"min\": 0.494456718774659, \"max\": 0.494456718774659}}}\u001B[0m\n",
      "\u001B[34m#metrics {\"StartTime\": 1707638380.3259299, \"EndTime\": 1707638380.325942, \"Dimensions\": {\"Algorithm\": \"Linear Learner\", \"Host\": \"algo-1\", \"Operation\": \"training\", \"epoch\": 1, \"model\": 7}, \"Metrics\": {\"validation_binary_classification_cross_entropy_objective\": {\"sum\": 0.5136695818762027, \"count\": 1, \"min\": 0.5136695818762027, \"max\": 0.5136695818762027}}}\u001B[0m\n",
      "\u001B[34m#metrics {\"StartTime\": 1707638380.325993, \"EndTime\": 1707638380.3260064, \"Dimensions\": {\"Algorithm\": \"Linear Learner\", \"Host\": \"algo-1\", \"Operation\": \"training\", \"epoch\": 1, \"model\": 8}, \"Metrics\": {\"validation_binary_classification_cross_entropy_objective\": {\"sum\": 0.4923690112905788, \"count\": 1, \"min\": 0.4923690112905788, \"max\": 0.4923690112905788}}}\u001B[0m\n",
      "\u001B[34m#metrics {\"StartTime\": 1707638380.3260562, \"EndTime\": 1707638380.3260694, \"Dimensions\": {\"Algorithm\": \"Linear Learner\", \"Host\": \"algo-1\", \"Operation\": \"training\", \"epoch\": 1, \"model\": 9}, \"Metrics\": {\"validation_binary_classification_cross_entropy_objective\": {\"sum\": 0.4941779594437013, \"count\": 1, \"min\": 0.4941779594437013, \"max\": 0.4941779594437013}}}\u001B[0m\n",
      "\u001B[34m#metrics {\"StartTime\": 1707638380.3261206, \"EndTime\": 1707638380.3261335, \"Dimensions\": {\"Algorithm\": \"Linear Learner\", \"Host\": \"algo-1\", \"Operation\": \"training\", \"epoch\": 1, \"model\": 10}, \"Metrics\": {\"validation_binary_classification_cross_entropy_objective\": {\"sum\": 0.492368663310442, \"count\": 1, \"min\": 0.492368663310442, \"max\": 0.492368663310442}}}\u001B[0m\n",
      "\u001B[34m#metrics {\"StartTime\": 1707638380.326183, \"EndTime\": 1707638380.3261971, \"Dimensions\": {\"Algorithm\": \"Linear Learner\", \"Host\": \"algo-1\", \"Operation\": \"training\", \"epoch\": 1, \"model\": 11}, \"Metrics\": {\"validation_binary_classification_cross_entropy_objective\": {\"sum\": 0.4941779073866192, \"count\": 1, \"min\": 0.4941779073866192, \"max\": 0.4941779073866192}}}\u001B[0m\n",
      "\u001B[34m#metrics {\"StartTime\": 1707638380.3262477, \"EndTime\": 1707638380.3262613, \"Dimensions\": {\"Algorithm\": \"Linear Learner\", \"Host\": \"algo-1\", \"Operation\": \"training\", \"epoch\": 1, \"model\": 12}, \"Metrics\": {\"validation_binary_classification_cross_entropy_objective\": {\"sum\": 0.4942124869098269, \"count\": 1, \"min\": 0.4942124869098269, \"max\": 0.4942124869098269}}}\u001B[0m\n",
      "\u001B[34m#metrics {\"StartTime\": 1707638380.3263125, \"EndTime\": 1707638380.3263268, \"Dimensions\": {\"Algorithm\": \"Linear Learner\", \"Host\": \"algo-1\", \"Operation\": \"training\", \"epoch\": 1, \"model\": 13}, \"Metrics\": {\"validation_binary_classification_cross_entropy_objective\": {\"sum\": 0.5119540075224074, \"count\": 1, \"min\": 0.5119540075224074, \"max\": 0.5119540075224074}}}\u001B[0m\n",
      "\u001B[34m#metrics {\"StartTime\": 1707638380.3263757, \"EndTime\": 1707638380.326389, \"Dimensions\": {\"Algorithm\": \"Linear Learner\", \"Host\": \"algo-1\", \"Operation\": \"training\", \"epoch\": 1, \"model\": 14}, \"Metrics\": {\"validation_binary_classification_cross_entropy_objective\": {\"sum\": 0.4942133795301886, \"count\": 1, \"min\": 0.4942133795301886, \"max\": 0.4942133795301886}}}\u001B[0m\n",
      "\u001B[34m#metrics {\"StartTime\": 1707638380.3264408, \"EndTime\": 1707638380.3264537, \"Dimensions\": {\"Algorithm\": \"Linear Learner\", \"Host\": \"algo-1\", \"Operation\": \"training\", \"epoch\": 1, \"model\": 15}, \"Metrics\": {\"validation_binary_classification_cross_entropy_objective\": {\"sum\": 0.5119538571352812, \"count\": 1, \"min\": 0.5119538571352812, \"max\": 0.5119538571352812}}}\u001B[0m\n",
      "\u001B[34m#metrics {\"StartTime\": 1707638380.326504, \"EndTime\": 1707638380.3265166, \"Dimensions\": {\"Algorithm\": \"Linear Learner\", \"Host\": \"algo-1\", \"Operation\": \"training\", \"epoch\": 1, \"model\": 16}, \"Metrics\": {\"validation_binary_classification_cross_entropy_objective\": {\"sum\": 0.507628237520618, \"count\": 1, \"min\": 0.507628237520618, \"max\": 0.507628237520618}}}\u001B[0m\n",
      "\u001B[34m#metrics {\"StartTime\": 1707638380.3265703, \"EndTime\": 1707638380.3265839, \"Dimensions\": {\"Algorithm\": \"Linear Learner\", \"Host\": \"algo-1\", \"Operation\": \"training\", \"epoch\": 1, \"model\": 17}, \"Metrics\": {\"validation_binary_classification_cross_entropy_objective\": {\"sum\": 0.5081505150306044, \"count\": 1, \"min\": 0.5081505150306044, \"max\": 0.5081505150306044}}}\u001B[0m\n",
      "\u001B[34m#metrics {\"StartTime\": 1707638380.3266358, \"EndTime\": 1707638380.326648, \"Dimensions\": {\"Algorithm\": \"Linear Learner\", \"Host\": \"algo-1\", \"Operation\": \"training\", \"epoch\": 1, \"model\": 18}, \"Metrics\": {\"validation_binary_classification_cross_entropy_objective\": {\"sum\": 0.5076283030117859, \"count\": 1, \"min\": 0.5076283030117859, \"max\": 0.5076283030117859}}}\u001B[0m\n",
      "\u001B[34m#metrics {\"StartTime\": 1707638380.3266952, \"EndTime\": 1707638380.3267095, \"Dimensions\": {\"Algorithm\": \"Linear Learner\", \"Host\": \"algo-1\", \"Operation\": \"training\", \"epoch\": 1, \"model\": 19}, \"Metrics\": {\"validation_binary_classification_cross_entropy_objective\": {\"sum\": 0.5081503064291069, \"count\": 1, \"min\": 0.5081503064291069, \"max\": 0.5081503064291069}}}\u001B[0m\n",
      "\u001B[34m#metrics {\"StartTime\": 1707638380.3267584, \"EndTime\": 1707638380.3267713, \"Dimensions\": {\"Algorithm\": \"Linear Learner\", \"Host\": \"algo-1\", \"Operation\": \"training\", \"epoch\": 1, \"model\": 20}, \"Metrics\": {\"validation_binary_classification_cross_entropy_objective\": {\"sum\": 0.5080654347267748, \"count\": 1, \"min\": 0.5080654347267748, \"max\": 0.5080654347267748}}}\u001B[0m\n",
      "\u001B[34m#metrics {\"StartTime\": 1707638380.326821, \"EndTime\": 1707638380.3268526, \"Dimensions\": {\"Algorithm\": \"Linear Learner\", \"Host\": \"algo-1\", \"Operation\": \"training\", \"epoch\": 1, \"model\": 21}, \"Metrics\": {\"validation_binary_classification_cross_entropy_objective\": {\"sum\": 0.5123407306295291, \"count\": 1, \"min\": 0.5123407306295291, \"max\": 0.5123407306295291}}}\u001B[0m\n",
      "\u001B[34m#metrics {\"StartTime\": 1707638380.326905, \"EndTime\": 1707638380.3269193, \"Dimensions\": {\"Algorithm\": \"Linear Learner\", \"Host\": \"algo-1\", \"Operation\": \"training\", \"epoch\": 1, \"model\": 22}, \"Metrics\": {\"validation_binary_classification_cross_entropy_objective\": {\"sum\": 0.5080652389996094, \"count\": 1, \"min\": 0.5080652389996094, \"max\": 0.5080652389996094}}}\u001B[0m\n",
      "\u001B[34m#metrics {\"StartTime\": 1707638380.3269706, \"EndTime\": 1707638380.3269844, \"Dimensions\": {\"Algorithm\": \"Linear Learner\", \"Host\": \"algo-1\", \"Operation\": \"training\", \"epoch\": 1, \"model\": 23}, \"Metrics\": {\"validation_binary_classification_cross_entropy_objective\": {\"sum\": 0.5123419673117527, \"count\": 1, \"min\": 0.5123419673117527, \"max\": 0.5123419673117527}}}\u001B[0m\n",
      "\u001B[34m#metrics {\"StartTime\": 1707638380.3270395, \"EndTime\": 1707638380.3270526, \"Dimensions\": {\"Algorithm\": \"Linear Learner\", \"Host\": \"algo-1\", \"Operation\": \"training\", \"epoch\": 1, \"model\": 24}, \"Metrics\": {\"validation_binary_classification_cross_entropy_objective\": {\"sum\": 0.5137685052590206, \"count\": 1, \"min\": 0.5137685052590206, \"max\": 0.5137685052590206}}}\u001B[0m\n",
      "\u001B[34m#metrics {\"StartTime\": 1707638380.3270981, \"EndTime\": 1707638380.327112, \"Dimensions\": {\"Algorithm\": \"Linear Learner\", \"Host\": \"algo-1\", \"Operation\": \"training\", \"epoch\": 1, \"model\": 25}, \"Metrics\": {\"validation_binary_classification_cross_entropy_objective\": {\"sum\": 0.5145710984014775, \"count\": 1, \"min\": 0.5145710984014775, \"max\": 0.5145710984014775}}}\u001B[0m\n",
      "\u001B[34m#metrics {\"StartTime\": 1707638380.327165, \"EndTime\": 1707638380.3271782, \"Dimensions\": {\"Algorithm\": \"Linear Learner\", \"Host\": \"algo-1\", \"Operation\": \"training\", \"epoch\": 1, \"model\": 26}, \"Metrics\": {\"validation_binary_classification_cross_entropy_objective\": {\"sum\": 0.5137725741077307, \"count\": 1, \"min\": 0.5137725741077307, \"max\": 0.5137725741077307}}}\u001B[0m\n",
      "\u001B[34m#metrics {\"StartTime\": 1707638380.3272266, \"EndTime\": 1707638380.3272393, \"Dimensions\": {\"Algorithm\": \"Linear Learner\", \"Host\": \"algo-1\", \"Operation\": \"training\", \"epoch\": 1, \"model\": 27}, \"Metrics\": {\"validation_binary_classification_cross_entropy_objective\": {\"sum\": 0.5146015781029443, \"count\": 1, \"min\": 0.5146015781029443, \"max\": 0.5146015781029443}}}\u001B[0m\n",
      "\u001B[34m#metrics {\"StartTime\": 1707638380.3272913, \"EndTime\": 1707638380.3273046, \"Dimensions\": {\"Algorithm\": \"Linear Learner\", \"Host\": \"algo-1\", \"Operation\": \"training\", \"epoch\": 1, \"model\": 28}, \"Metrics\": {\"validation_binary_classification_cross_entropy_objective\": {\"sum\": 0.5139535586701989, \"count\": 1, \"min\": 0.5139535586701989, \"max\": 0.5139535586701989}}}\u001B[0m\n",
      "\u001B[34m#metrics {\"StartTime\": 1707638380.327355, \"EndTime\": 1707638380.327367, \"Dimensions\": {\"Algorithm\": \"Linear Learner\", \"Host\": \"algo-1\", \"Operation\": \"training\", \"epoch\": 1, \"model\": 29}, \"Metrics\": {\"validation_binary_classification_cross_entropy_objective\": {\"sum\": 0.5142619073212757, \"count\": 1, \"min\": 0.5142619073212757, \"max\": 0.5142619073212757}}}\u001B[0m\n",
      "\u001B[34m#metrics {\"StartTime\": 1707638380.3274114, \"EndTime\": 1707638380.3274238, \"Dimensions\": {\"Algorithm\": \"Linear Learner\", \"Host\": \"algo-1\", \"Operation\": \"training\", \"epoch\": 1, \"model\": 30}, \"Metrics\": {\"validation_binary_classification_cross_entropy_objective\": {\"sum\": 0.5139680753193181, \"count\": 1, \"min\": 0.5139680753193181, \"max\": 0.5139680753193181}}}\u001B[0m\n",
      "\u001B[34m#metrics {\"StartTime\": 1707638380.3274755, \"EndTime\": 1707638380.3274896, \"Dimensions\": {\"Algorithm\": \"Linear Learner\", \"Host\": \"algo-1\", \"Operation\": \"training\", \"epoch\": 1, \"model\": 31}, \"Metrics\": {\"validation_binary_classification_cross_entropy_objective\": {\"sum\": 0.5142691876628092, \"count\": 1, \"min\": 0.5142691876628092, \"max\": 0.5142691876628092}}}\u001B[0m\n",
      "\u001B[34m[02/11/2024 07:59:40 INFO 140298564925248] #quality_metric: host=algo-1, epoch=1, validation binary_classification_cross_entropy_objective <loss>=0.49220983621992626\u001B[0m\n",
      "\u001B[34m[02/11/2024 07:59:40 INFO 140298564925248] #early_stopping_criteria_metric: host=algo-1, epoch=1, criteria=binary_classification_cross_entropy_objective, value=0.49220983621992626\u001B[0m\n",
      "\u001B[34m[02/11/2024 07:59:40 INFO 140298564925248] Saving model for epoch: 1\u001B[0m\n",
      "\u001B[34m[02/11/2024 07:59:40 INFO 140298564925248] Saved checkpoint to \"/tmp/tmpj2p8xhiz/mx-mod-0000.params\"\u001B[0m\n",
      "\u001B[34m[02/11/2024 07:59:40 INFO 140298564925248] #progress_metric: host=algo-1, completed 13.333333333333334 % of epochs\u001B[0m\n",
      "\u001B[34m#metrics {\"StartTime\": 1707638340.9951603, \"EndTime\": 1707638380.3341115, \"Dimensions\": {\"Algorithm\": \"Linear Learner\", \"Host\": \"algo-1\", \"Operation\": \"training\", \"epoch\": 1, \"Meta\": \"training_data_iter\"}, \"Metrics\": {\"Total Records Seen\": {\"sum\": 2628944.0, \"count\": 1, \"min\": 2628944, \"max\": 2628944}, \"Total Batches Seen\": {\"sum\": 2630.0, \"count\": 1, \"min\": 2630, \"max\": 2630}, \"Max Records Seen Between Resets\": {\"sum\": 1308472.0, \"count\": 1, \"min\": 1308472, \"max\": 1308472}, \"Max Batches Seen Between Resets\": {\"sum\": 1309.0, \"count\": 1, \"min\": 1309, \"max\": 1309}, \"Reset Count\": {\"sum\": 4.0, \"count\": 1, \"min\": 4, \"max\": 4}, \"Number of Records Since Last Reset\": {\"sum\": 1308472.0, \"count\": 1, \"min\": 1308472, \"max\": 1308472}, \"Number of Batches Since Last Reset\": {\"sum\": 1309.0, \"count\": 1, \"min\": 1309, \"max\": 1309}}}\u001B[0m\n",
      "\u001B[34m[02/11/2024 07:59:40 INFO 140298564925248] #throughput_metric: host=algo-1, train throughput=33261.3522643341 records/second\u001B[0m\n",
      "\u001B[34m[2024-02-11 08:00:17.120] [tensorio] [info] epoch_stats={\"data_pipeline\": \"/opt/ml/input/data/train\", \"epoch\": 7, \"duration\": 36783, \"num_examples\": 1309, \"num_bytes\": 549558240}\u001B[0m\n",
      "\u001B[34m#metrics {\"StartTime\": 1707638417.1207318, \"EndTime\": 1707638417.1208143, \"Dimensions\": {\"Algorithm\": \"Linear Learner\", \"Host\": \"algo-1\", \"Operation\": \"training\", \"epoch\": 2, \"model\": 0}, \"Metrics\": {\"train_binary_classification_cross_entropy_objective\": {\"sum\": 0.49198165893554685, \"count\": 1, \"min\": 0.49198165893554685, \"max\": 0.49198165893554685}}}\u001B[0m\n",
      "\u001B[34m#metrics {\"StartTime\": 1707638417.1208982, \"EndTime\": 1707638417.1209168, \"Dimensions\": {\"Algorithm\": \"Linear Learner\", \"Host\": \"algo-1\", \"Operation\": \"training\", \"epoch\": 2, \"model\": 1}, \"Metrics\": {\"train_binary_classification_cross_entropy_objective\": {\"sum\": 0.4930500581840492, \"count\": 1, \"min\": 0.4930500581840492, \"max\": 0.4930500581840492}}}\u001B[0m\n",
      "\u001B[34m#metrics {\"StartTime\": 1707638417.1209707, \"EndTime\": 1707638417.1209867, \"Dimensions\": {\"Algorithm\": \"Linear Learner\", \"Host\": \"algo-1\", \"Operation\": \"training\", \"epoch\": 2, \"model\": 2}, \"Metrics\": {\"train_binary_classification_cross_entropy_objective\": {\"sum\": 0.4919866622551501, \"count\": 1, \"min\": 0.4919866622551501, \"max\": 0.4919866622551501}}}\u001B[0m\n",
      "\u001B[34m#metrics {\"StartTime\": 1707638417.1210406, \"EndTime\": 1707638417.121056, \"Dimensions\": {\"Algorithm\": \"Linear Learner\", \"Host\": \"algo-1\", \"Operation\": \"training\", \"epoch\": 2, \"model\": 3}, \"Metrics\": {\"train_binary_classification_cross_entropy_objective\": {\"sum\": 0.4930489309001771, \"count\": 1, \"min\": 0.4930489309001771, \"max\": 0.4930489309001771}}}\u001B[0m\n",
      "\u001B[34m#metrics {\"StartTime\": 1707638417.1211095, \"EndTime\": 1707638417.1211245, \"Dimensions\": {\"Algorithm\": \"Linear Learner\", \"Host\": \"algo-1\", \"Operation\": \"training\", \"epoch\": 2, \"model\": 4}, \"Metrics\": {\"train_binary_classification_cross_entropy_objective\": {\"sum\": 0.4931415747546275, \"count\": 1, \"min\": 0.4931415747546275, \"max\": 0.4931415747546275}}}\u001B[0m\n",
      "\u001B[34m#metrics {\"StartTime\": 1707638417.1211805, \"EndTime\": 1707638417.1211953, \"Dimensions\": {\"Algorithm\": \"Linear Learner\", \"Host\": \"algo-1\", \"Operation\": \"training\", \"epoch\": 2, \"model\": 5}, \"Metrics\": {\"train_binary_classification_cross_entropy_objective\": {\"sum\": 0.5115356375784684, \"count\": 1, \"min\": 0.5115356375784684, \"max\": 0.5115356375784684}}}\u001B[0m\n",
      "\u001B[34m#metrics {\"StartTime\": 1707638417.1212435, \"EndTime\": 1707638417.1212578, \"Dimensions\": {\"Algorithm\": \"Linear Learner\", \"Host\": \"algo-1\", \"Operation\": \"training\", \"epoch\": 2, \"model\": 6}, \"Metrics\": {\"train_binary_classification_cross_entropy_objective\": {\"sum\": 0.4931419552211003, \"count\": 1, \"min\": 0.4931419552211003, \"max\": 0.4931419552211003}}}\u001B[0m\n",
      "\u001B[34m#metrics {\"StartTime\": 1707638417.1213164, \"EndTime\": 1707638417.121333, \"Dimensions\": {\"Algorithm\": \"Linear Learner\", \"Host\": \"algo-1\", \"Operation\": \"training\", \"epoch\": 2, \"model\": 7}, \"Metrics\": {\"train_binary_classification_cross_entropy_objective\": {\"sum\": 0.5115344671313551, \"count\": 1, \"min\": 0.5115344671313551, \"max\": 0.5115344671313551}}}\u001B[0m\n",
      "\u001B[34m#metrics {\"StartTime\": 1707638417.1213937, \"EndTime\": 1707638417.121409, \"Dimensions\": {\"Algorithm\": \"Linear Learner\", \"Host\": \"algo-1\", \"Operation\": \"training\", \"epoch\": 2, \"model\": 8}, \"Metrics\": {\"train_binary_classification_cross_entropy_objective\": {\"sum\": 0.49217766671370294, \"count\": 1, \"min\": 0.49217766671370294, \"max\": 0.49217766671370294}}}\u001B[0m\n",
      "\u001B[34m#metrics {\"StartTime\": 1707638417.1214726, \"EndTime\": 1707638417.1214871, \"Dimensions\": {\"Algorithm\": \"Linear Learner\", \"Host\": \"algo-1\", \"Operation\": \"training\", \"epoch\": 2, \"model\": 9}, \"Metrics\": {\"train_binary_classification_cross_entropy_objective\": {\"sum\": 0.493204805216658, \"count\": 1, \"min\": 0.493204805216658, \"max\": 0.493204805216658}}}\u001B[0m\n",
      "\u001B[34m#metrics {\"StartTime\": 1707638417.1215456, \"EndTime\": 1707638417.1215615, \"Dimensions\": {\"Algorithm\": \"Linear Learner\", \"Host\": \"algo-1\", \"Operation\": \"training\", \"epoch\": 2, \"model\": 10}, \"Metrics\": {\"train_binary_classification_cross_entropy_objective\": {\"sum\": 0.4921773405395881, \"count\": 1, \"min\": 0.4921773405395881, \"max\": 0.4921773405395881}}}\u001B[0m\n",
      "\u001B[34m#metrics {\"StartTime\": 1707638417.1216137, \"EndTime\": 1707638417.1216276, \"Dimensions\": {\"Algorithm\": \"Linear Learner\", \"Host\": \"algo-1\", \"Operation\": \"training\", \"epoch\": 2, \"model\": 11}, \"Metrics\": {\"train_binary_classification_cross_entropy_objective\": {\"sum\": 0.493204821875336, \"count\": 1, \"min\": 0.493204821875336, \"max\": 0.493204821875336}}}\u001B[0m\n",
      "\u001B[34m#metrics {\"StartTime\": 1707638417.1216877, \"EndTime\": 1707638417.1217237, \"Dimensions\": {\"Algorithm\": \"Linear Learner\", \"Host\": \"algo-1\", \"Operation\": \"training\", \"epoch\": 2, \"model\": 12}, \"Metrics\": {\"train_binary_classification_cross_entropy_objective\": {\"sum\": 0.4932905200643277, \"count\": 1, \"min\": 0.4932905200643277, \"max\": 0.4932905200643277}}}\u001B[0m\n",
      "\u001B[34m#metrics {\"StartTime\": 1707638417.121776, \"EndTime\": 1707638417.1217892, \"Dimensions\": {\"Algorithm\": \"Linear Learner\", \"Host\": \"algo-1\", \"Operation\": \"training\", \"epoch\": 2, \"model\": 13}, \"Metrics\": {\"train_binary_classification_cross_entropy_objective\": {\"sum\": 0.5104617417361759, \"count\": 1, \"min\": 0.5104617417361759, \"max\": 0.5104617417361759}}}\u001B[0m\n",
      "\u001B[34m#metrics {\"StartTime\": 1707638417.1218398, \"EndTime\": 1707638417.1218543, \"Dimensions\": {\"Algorithm\": \"Linear Learner\", \"Host\": \"algo-1\", \"Operation\": \"training\", \"epoch\": 2, \"model\": 14}, \"Metrics\": {\"train_binary_classification_cross_entropy_objective\": {\"sum\": 0.49329054400242794, \"count\": 1, \"min\": 0.49329054400242794, \"max\": 0.49329054400242794}}}\u001B[0m\n",
      "\u001B[34m#metrics {\"StartTime\": 1707638417.1219053, \"EndTime\": 1707638417.12192, \"Dimensions\": {\"Algorithm\": \"Linear Learner\", \"Host\": \"algo-1\", \"Operation\": \"training\", \"epoch\": 2, \"model\": 15}, \"Metrics\": {\"train_binary_classification_cross_entropy_objective\": {\"sum\": 0.5104615491814569, \"count\": 1, \"min\": 0.5104615491814569, \"max\": 0.5104615491814569}}}\u001B[0m\n",
      "\u001B[34m#metrics {\"StartTime\": 1707638417.1219738, \"EndTime\": 1707638417.121988, \"Dimensions\": {\"Algorithm\": \"Linear Learner\", \"Host\": \"algo-1\", \"Operation\": \"training\", \"epoch\": 2, \"model\": 16}, \"Metrics\": {\"train_binary_classification_cross_entropy_objective\": {\"sum\": 0.5077549081738206, \"count\": 1, \"min\": 0.5077549081738206, \"max\": 0.5077549081738206}}}\u001B[0m\n",
      "\u001B[34m#metrics {\"StartTime\": 1707638417.12204, \"EndTime\": 1707638417.1220548, \"Dimensions\": {\"Algorithm\": \"Linear Learner\", \"Host\": \"algo-1\", \"Operation\": \"training\", \"epoch\": 2, \"model\": 17}, \"Metrics\": {\"train_binary_classification_cross_entropy_objective\": {\"sum\": 0.5080127394323319, \"count\": 1, \"min\": 0.5080127394323319, \"max\": 0.5080127394323319}}}\u001B[0m\n",
      "\u001B[34m#metrics {\"StartTime\": 1707638417.1221051, \"EndTime\": 1707638417.1221201, \"Dimensions\": {\"Algorithm\": \"Linear Learner\", \"Host\": \"algo-1\", \"Operation\": \"training\", \"epoch\": 2, \"model\": 18}, \"Metrics\": {\"train_binary_classification_cross_entropy_objective\": {\"sum\": 0.5077549147999615, \"count\": 1, \"min\": 0.5077549147999615, \"max\": 0.5077549147999615}}}\u001B[0m\n",
      "\u001B[34m#metrics {\"StartTime\": 1707638417.1221669, \"EndTime\": 1707638417.1221805, \"Dimensions\": {\"Algorithm\": \"Linear Learner\", \"Host\": \"algo-1\", \"Operation\": \"training\", \"epoch\": 2, \"model\": 19}, \"Metrics\": {\"train_binary_classification_cross_entropy_objective\": {\"sum\": 0.5080127382424264, \"count\": 1, \"min\": 0.5080127382424264, \"max\": 0.5080127382424264}}}\u001B[0m\n",
      "\u001B[34m#metrics {\"StartTime\": 1707638417.1222305, \"EndTime\": 1707638417.1222456, \"Dimensions\": {\"Algorithm\": \"Linear Learner\", \"Host\": \"algo-1\", \"Operation\": \"training\", \"epoch\": 2, \"model\": 20}, \"Metrics\": {\"train_binary_classification_cross_entropy_objective\": {\"sum\": 0.5080114410820358, \"count\": 1, \"min\": 0.5080114410820358, \"max\": 0.5080114410820358}}}\u001B[0m\n",
      "\u001B[34m#metrics {\"StartTime\": 1707638417.1222963, \"EndTime\": 1707638417.12231, \"Dimensions\": {\"Algorithm\": \"Linear Learner\", \"Host\": \"algo-1\", \"Operation\": \"training\", \"epoch\": 2, \"model\": 21}, \"Metrics\": {\"train_binary_classification_cross_entropy_objective\": {\"sum\": 0.5110746816232664, \"count\": 1, \"min\": 0.5110746816232664, \"max\": 0.5110746816232664}}}\u001B[0m\n",
      "\u001B[34m#metrics {\"StartTime\": 1707638417.122356, \"EndTime\": 1707638417.12237, \"Dimensions\": {\"Algorithm\": \"Linear Learner\", \"Host\": \"algo-1\", \"Operation\": \"training\", \"epoch\": 2, \"model\": 22}, \"Metrics\": {\"train_binary_classification_cross_entropy_objective\": {\"sum\": 0.5080114418519747, \"count\": 1, \"min\": 0.5080114418519747, \"max\": 0.5080114418519747}}}\u001B[0m\n",
      "\u001B[34m#metrics {\"StartTime\": 1707638417.122426, \"EndTime\": 1707638417.1224396, \"Dimensions\": {\"Algorithm\": \"Linear Learner\", \"Host\": \"algo-1\", \"Operation\": \"training\", \"epoch\": 2, \"model\": 23}, \"Metrics\": {\"train_binary_classification_cross_entropy_objective\": {\"sum\": 0.5110749360764063, \"count\": 1, \"min\": 0.5110749360764063, \"max\": 0.5110749360764063}}}\u001B[0m\n",
      "\u001B[34m#metrics {\"StartTime\": 1707638417.1224911, \"EndTime\": 1707638417.1225045, \"Dimensions\": {\"Algorithm\": \"Linear Learner\", \"Host\": \"algo-1\", \"Operation\": \"training\", \"epoch\": 2, \"model\": 24}, \"Metrics\": {\"train_binary_classification_cross_entropy_objective\": {\"sum\": 0.5137727763558018, \"count\": 1, \"min\": 0.5137727763558018, \"max\": 0.5137727763558018}}}\u001B[0m\n",
      "\u001B[34m#metrics {\"StartTime\": 1707638417.1225498, \"EndTime\": 1707638417.1225626, \"Dimensions\": {\"Algorithm\": \"Linear Learner\", \"Host\": \"algo-1\", \"Operation\": \"training\", \"epoch\": 2, \"model\": 25}, \"Metrics\": {\"train_binary_classification_cross_entropy_objective\": {\"sum\": 0.5138803517519517, \"count\": 1, \"min\": 0.5138803517519517, \"max\": 0.5138803517519517}}}\u001B[0m\n",
      "\u001B[34m#metrics {\"StartTime\": 1707638417.1226134, \"EndTime\": 1707638417.1226285, \"Dimensions\": {\"Algorithm\": \"Linear Learner\", \"Host\": \"algo-1\", \"Operation\": \"training\", \"epoch\": 2, \"model\": 26}, \"Metrics\": {\"train_binary_classification_cross_entropy_objective\": {\"sum\": 0.5137725215293582, \"count\": 1, \"min\": 0.5137725215293582, \"max\": 0.5137725215293582}}}\u001B[0m\n",
      "\u001B[34m#metrics {\"StartTime\": 1707638417.122743, \"EndTime\": 1707638417.1227603, \"Dimensions\": {\"Algorithm\": \"Linear Learner\", \"Host\": \"algo-1\", \"Operation\": \"training\", \"epoch\": 2, \"model\": 27}, \"Metrics\": {\"train_binary_classification_cross_entropy_objective\": {\"sum\": 0.5138791864144329, \"count\": 1, \"min\": 0.5138791864144329, \"max\": 0.5138791864144329}}}\u001B[0m\n",
      "\u001B[34m#metrics {\"StartTime\": 1707638417.1228123, \"EndTime\": 1707638417.122826, \"Dimensions\": {\"Algorithm\": \"Linear Learner\", \"Host\": \"algo-1\", \"Operation\": \"training\", \"epoch\": 2, \"model\": 28}, \"Metrics\": {\"train_binary_classification_cross_entropy_objective\": {\"sum\": 0.5138731580028476, \"count\": 1, \"min\": 0.5138731580028476, \"max\": 0.5138731580028476}}}\u001B[0m\n",
      "\u001B[34m#metrics {\"StartTime\": 1707638417.1229079, \"EndTime\": 1707638417.1229236, \"Dimensions\": {\"Algorithm\": \"Linear Learner\", \"Host\": \"algo-1\", \"Operation\": \"training\", \"epoch\": 2, \"model\": 29}, \"Metrics\": {\"train_binary_classification_cross_entropy_objective\": {\"sum\": 0.5150656637489249, \"count\": 1, \"min\": 0.5150656637489249, \"max\": 0.5150656637489249}}}\u001B[0m\n",
      "\u001B[34m#metrics {\"StartTime\": 1707638417.1229715, \"EndTime\": 1707638417.122985, \"Dimensions\": {\"Algorithm\": \"Linear Learner\", \"Host\": \"algo-1\", \"Operation\": \"training\", \"epoch\": 2, \"model\": 30}, \"Metrics\": {\"train_binary_classification_cross_entropy_objective\": {\"sum\": 0.5138731812176719, \"count\": 1, \"min\": 0.5138731812176719, \"max\": 0.5138731812176719}}}\u001B[0m\n",
      "\u001B[34m#metrics {\"StartTime\": 1707638417.123024, \"EndTime\": 1707638417.1230354, \"Dimensions\": {\"Algorithm\": \"Linear Learner\", \"Host\": \"algo-1\", \"Operation\": \"training\", \"epoch\": 2, \"model\": 31}, \"Metrics\": {\"train_binary_classification_cross_entropy_objective\": {\"sum\": 0.515065375348479, \"count\": 1, \"min\": 0.515065375348479, \"max\": 0.515065375348479}}}\u001B[0m\n",
      "\u001B[34m[02/11/2024 08:00:17 INFO 140298564925248] #quality_metric: host=algo-1, epoch=2, train binary_classification_cross_entropy_objective <loss>=0.49198165893554685\u001B[0m\n",
      "\u001B[34m[2024-02-11 08:00:20.254] [tensorio] [info] epoch_stats={\"data_pipeline\": \"/opt/ml/input/data/validation\", \"epoch\": 8, \"duration\": 3114, \"num_examples\": 164, \"num_bytes\": 68694780}\u001B[0m\n",
      "\u001B[34m#metrics {\"StartTime\": 1707638420.2610834, \"EndTime\": 1707638420.2611458, \"Dimensions\": {\"Algorithm\": \"Linear Learner\", \"Host\": \"algo-1\", \"Operation\": \"training\", \"epoch\": 2, \"model\": 0}, \"Metrics\": {\"validation_binary_classification_cross_entropy_objective\": {\"sum\": 0.4921048589156498, \"count\": 1, \"min\": 0.4921048589156498, \"max\": 0.4921048589156498}}}\u001B[0m\n",
      "\u001B[34m#metrics {\"StartTime\": 1707638420.2612264, \"EndTime\": 1707638420.2612417, \"Dimensions\": {\"Algorithm\": \"Linear Learner\", \"Host\": \"algo-1\", \"Operation\": \"training\", \"epoch\": 2, \"model\": 1}, \"Metrics\": {\"validation_binary_classification_cross_entropy_objective\": {\"sum\": 0.49401242016152713, \"count\": 1, \"min\": 0.49401242016152713, \"max\": 0.49401242016152713}}}\u001B[0m\n",
      "\u001B[34m#metrics {\"StartTime\": 1707638420.2612948, \"EndTime\": 1707638420.2613053, \"Dimensions\": {\"Algorithm\": \"Linear Learner\", \"Host\": \"algo-1\", \"Operation\": \"training\", \"epoch\": 2, \"model\": 2}, \"Metrics\": {\"validation_binary_classification_cross_entropy_objective\": {\"sum\": 0.4921108411886512, \"count\": 1, \"min\": 0.4921108411886512, \"max\": 0.4921108411886512}}}\u001B[0m\n",
      "\u001B[34m#metrics {\"StartTime\": 1707638420.261341, \"EndTime\": 1707638420.2613537, \"Dimensions\": {\"Algorithm\": \"Linear Learner\", \"Host\": \"algo-1\", \"Operation\": \"training\", \"epoch\": 2, \"model\": 3}, \"Metrics\": {\"validation_binary_classification_cross_entropy_objective\": {\"sum\": 0.4940120057572998, \"count\": 1, \"min\": 0.4940120057572998, \"max\": 0.4940120057572998}}}\u001B[0m\n",
      "\u001B[34m#metrics {\"StartTime\": 1707638420.2613955, \"EndTime\": 1707638420.2614074, \"Dimensions\": {\"Algorithm\": \"Linear Learner\", \"Host\": \"algo-1\", \"Operation\": \"training\", \"epoch\": 2, \"model\": 4}, \"Metrics\": {\"validation_binary_classification_cross_entropy_objective\": {\"sum\": 0.4929205424551261, \"count\": 1, \"min\": 0.4929205424551261, \"max\": 0.4929205424551261}}}\u001B[0m\n",
      "\u001B[34m#metrics {\"StartTime\": 1707638420.261459, \"EndTime\": 1707638420.2614713, \"Dimensions\": {\"Algorithm\": \"Linear Learner\", \"Host\": \"algo-1\", \"Operation\": \"training\", \"epoch\": 2, \"model\": 5}, \"Metrics\": {\"validation_binary_classification_cross_entropy_objective\": {\"sum\": 0.5115719568649301, \"count\": 1, \"min\": 0.5115719568649301, \"max\": 0.5115719568649301}}}\u001B[0m\n",
      "\u001B[34m#metrics {\"StartTime\": 1707638420.2615228, \"EndTime\": 1707638420.261535, \"Dimensions\": {\"Algorithm\": \"Linear Learner\", \"Host\": \"algo-1\", \"Operation\": \"training\", \"epoch\": 2, \"model\": 6}, \"Metrics\": {\"validation_binary_classification_cross_entropy_objective\": {\"sum\": 0.492920737995707, \"count\": 1, \"min\": 0.492920737995707, \"max\": 0.492920737995707}}}\u001B[0m\n",
      "\u001B[34m#metrics {\"StartTime\": 1707638420.2615836, \"EndTime\": 1707638420.2615976, \"Dimensions\": {\"Algorithm\": \"Linear Learner\", \"Host\": \"algo-1\", \"Operation\": \"training\", \"epoch\": 2, \"model\": 7}, \"Metrics\": {\"validation_binary_classification_cross_entropy_objective\": {\"sum\": 0.51162462706381, \"count\": 1, \"min\": 0.51162462706381, \"max\": 0.51162462706381}}}\u001B[0m\n",
      "\u001B[34m#metrics {\"StartTime\": 1707638420.2616456, \"EndTime\": 1707638420.2616594, \"Dimensions\": {\"Algorithm\": \"Linear Learner\", \"Host\": \"algo-1\", \"Operation\": \"training\", \"epoch\": 2, \"model\": 8}, \"Metrics\": {\"validation_binary_classification_cross_entropy_objective\": {\"sum\": 0.49228075811692235, \"count\": 1, \"min\": 0.49228075811692235, \"max\": 0.49228075811692235}}}\u001B[0m\n",
      "\u001B[34m#metrics {\"StartTime\": 1707638420.26171, \"EndTime\": 1707638420.261723, \"Dimensions\": {\"Algorithm\": \"Linear Learner\", \"Host\": \"algo-1\", \"Operation\": \"training\", \"epoch\": 2, \"model\": 9}, \"Metrics\": {\"validation_binary_classification_cross_entropy_objective\": {\"sum\": 0.49401228600725455, \"count\": 1, \"min\": 0.49401228600725455, \"max\": 0.49401228600725455}}}\u001B[0m\n",
      "\u001B[34m#metrics {\"StartTime\": 1707638420.261772, \"EndTime\": 1707638420.261785, \"Dimensions\": {\"Algorithm\": \"Linear Learner\", \"Host\": \"algo-1\", \"Operation\": \"training\", \"epoch\": 2, \"model\": 10}, \"Metrics\": {\"validation_binary_classification_cross_entropy_objective\": {\"sum\": 0.4922805442910581, \"count\": 1, \"min\": 0.4922805442910581, \"max\": 0.4922805442910581}}}\u001B[0m\n",
      "\u001B[34m#metrics {\"StartTime\": 1707638420.2618308, \"EndTime\": 1707638420.2618432, \"Dimensions\": {\"Algorithm\": \"Linear Learner\", \"Host\": \"algo-1\", \"Operation\": \"training\", \"epoch\": 2, \"model\": 11}, \"Metrics\": {\"validation_binary_classification_cross_entropy_objective\": {\"sum\": 0.4940122759316903, \"count\": 1, \"min\": 0.4940122759316903, \"max\": 0.4940122759316903}}}\u001B[0m\n",
      "\u001B[34m#metrics {\"StartTime\": 1707638420.2618978, \"EndTime\": 1707638420.261912, \"Dimensions\": {\"Algorithm\": \"Linear Learner\", \"Host\": \"algo-1\", \"Operation\": \"training\", \"epoch\": 2, \"model\": 12}, \"Metrics\": {\"validation_binary_classification_cross_entropy_objective\": {\"sum\": 0.49300375672713337, \"count\": 1, \"min\": 0.49300375672713337, \"max\": 0.49300375672713337}}}\u001B[0m\n",
      "\u001B[34m#metrics {\"StartTime\": 1707638420.2619662, \"EndTime\": 1707638420.26198, \"Dimensions\": {\"Algorithm\": \"Linear Learner\", \"Host\": \"algo-1\", \"Operation\": \"training\", \"epoch\": 2, \"model\": 13}, \"Metrics\": {\"validation_binary_classification_cross_entropy_objective\": {\"sum\": 0.510037689864829, \"count\": 1, \"min\": 0.510037689864829, \"max\": 0.510037689864829}}}\u001B[0m\n",
      "\u001B[34m#metrics {\"StartTime\": 1707638420.2620363, \"EndTime\": 1707638420.2620516, \"Dimensions\": {\"Algorithm\": \"Linear Learner\", \"Host\": \"algo-1\", \"Operation\": \"training\", \"epoch\": 2, \"model\": 14}, \"Metrics\": {\"validation_binary_classification_cross_entropy_objective\": {\"sum\": 0.49300369646033215, \"count\": 1, \"min\": 0.49300369646033215, \"max\": 0.49300369646033215}}}\u001B[0m\n",
      "\u001B[34m#metrics {\"StartTime\": 1707638420.2621064, \"EndTime\": 1707638420.26212, \"Dimensions\": {\"Algorithm\": \"Linear Learner\", \"Host\": \"algo-1\", \"Operation\": \"training\", \"epoch\": 2, \"model\": 15}, \"Metrics\": {\"validation_binary_classification_cross_entropy_objective\": {\"sum\": 0.510037627545598, \"count\": 1, \"min\": 0.510037627545598, \"max\": 0.510037627545598}}}\u001B[0m\n",
      "\u001B[34m#metrics {\"StartTime\": 1707638420.2621741, \"EndTime\": 1707638420.2621875, \"Dimensions\": {\"Algorithm\": \"Linear Learner\", \"Host\": \"algo-1\", \"Operation\": \"training\", \"epoch\": 2, \"model\": 16}, \"Metrics\": {\"validation_binary_classification_cross_entropy_objective\": {\"sum\": 0.5077402897368672, \"count\": 1, \"min\": 0.5077402897368672, \"max\": 0.5077402897368672}}}\u001B[0m\n",
      "\u001B[34m#metrics {\"StartTime\": 1707638420.2622387, \"EndTime\": 1707638420.2622507, \"Dimensions\": {\"Algorithm\": \"Linear Learner\", \"Host\": \"algo-1\", \"Operation\": \"training\", \"epoch\": 2, \"model\": 17}, \"Metrics\": {\"validation_binary_classification_cross_entropy_objective\": {\"sum\": 0.5080871095045643, \"count\": 1, \"min\": 0.5080871095045643, \"max\": 0.5080871095045643}}}\u001B[0m\n",
      "\u001B[34m#metrics {\"StartTime\": 1707638420.2623017, \"EndTime\": 1707638420.2623153, \"Dimensions\": {\"Algorithm\": \"Linear Learner\", \"Host\": \"algo-1\", \"Operation\": \"training\", \"epoch\": 2, \"model\": 18}, \"Metrics\": {\"validation_binary_classification_cross_entropy_objective\": {\"sum\": 0.5077396101960316, \"count\": 1, \"min\": 0.5077396101960316, \"max\": 0.5077396101960316}}}\u001B[0m\n",
      "\u001B[34m#metrics {\"StartTime\": 1707638420.2623656, \"EndTime\": 1707638420.2623963, \"Dimensions\": {\"Algorithm\": \"Linear Learner\", \"Host\": \"algo-1\", \"Operation\": \"training\", \"epoch\": 2, \"model\": 19}, \"Metrics\": {\"validation_binary_classification_cross_entropy_objective\": {\"sum\": 0.5080872242540464, \"count\": 1, \"min\": 0.5080872242540464, \"max\": 0.5080872242540464}}}\u001B[0m\n",
      "\u001B[34m#metrics {\"StartTime\": 1707638420.2624938, \"EndTime\": 1707638420.262508, \"Dimensions\": {\"Algorithm\": \"Linear Learner\", \"Host\": \"algo-1\", \"Operation\": \"training\", \"epoch\": 2, \"model\": 20}, \"Metrics\": {\"validation_binary_classification_cross_entropy_objective\": {\"sum\": 0.507674600416256, \"count\": 1, \"min\": 0.507674600416256, \"max\": 0.507674600416256}}}\u001B[0m\n",
      "\u001B[34m#metrics {\"StartTime\": 1707638420.2625518, \"EndTime\": 1707638420.2625644, \"Dimensions\": {\"Algorithm\": \"Linear Learner\", \"Host\": \"algo-1\", \"Operation\": \"training\", \"epoch\": 2, \"model\": 21}, \"Metrics\": {\"validation_binary_classification_cross_entropy_objective\": {\"sum\": 0.5122132906010193, \"count\": 1, \"min\": 0.5122132906010193, \"max\": 0.5122132906010193}}}\u001B[0m\n",
      "\u001B[34m#metrics {\"StartTime\": 1707638420.262616, \"EndTime\": 1707638420.2626286, \"Dimensions\": {\"Algorithm\": \"Linear Learner\", \"Host\": \"algo-1\", \"Operation\": \"training\", \"epoch\": 2, \"model\": 22}, \"Metrics\": {\"validation_binary_classification_cross_entropy_objective\": {\"sum\": 0.5076747545350727, \"count\": 1, \"min\": 0.5076747545350727, \"max\": 0.5076747545350727}}}\u001B[0m\n",
      "\u001B[34m#metrics {\"StartTime\": 1707638420.2626796, \"EndTime\": 1707638420.262694, \"Dimensions\": {\"Algorithm\": \"Linear Learner\", \"Host\": \"algo-1\", \"Operation\": \"training\", \"epoch\": 2, \"model\": 23}, \"Metrics\": {\"validation_binary_classification_cross_entropy_objective\": {\"sum\": 0.5122132262293586, \"count\": 1, \"min\": 0.5122132262293586, \"max\": 0.5122132262293586}}}\u001B[0m\n",
      "\u001B[34m#metrics {\"StartTime\": 1707638420.262746, \"EndTime\": 1707638420.2627604, \"Dimensions\": {\"Algorithm\": \"Linear Learner\", \"Host\": \"algo-1\", \"Operation\": \"training\", \"epoch\": 2, \"model\": 24}, \"Metrics\": {\"validation_binary_classification_cross_entropy_objective\": {\"sum\": 0.5137562763227476, \"count\": 1, \"min\": 0.5137562763227476, \"max\": 0.5137562763227476}}}\u001B[0m\n",
      "\u001B[34m#metrics {\"StartTime\": 1707638420.2628107, \"EndTime\": 1707638420.2628233, \"Dimensions\": {\"Algorithm\": \"Linear Learner\", \"Host\": \"algo-1\", \"Operation\": \"training\", \"epoch\": 2, \"model\": 25}, \"Metrics\": {\"validation_binary_classification_cross_entropy_objective\": {\"sum\": 0.5145186312065595, \"count\": 1, \"min\": 0.5145186312065595, \"max\": 0.5145186312065595}}}\u001B[0m\n",
      "\u001B[34m#metrics {\"StartTime\": 1707638420.262888, \"EndTime\": 1707638420.2629025, \"Dimensions\": {\"Algorithm\": \"Linear Learner\", \"Host\": \"algo-1\", \"Operation\": \"training\", \"epoch\": 2, \"model\": 26}, \"Metrics\": {\"validation_binary_classification_cross_entropy_objective\": {\"sum\": 0.5137569504526319, \"count\": 1, \"min\": 0.5137569504526319, \"max\": 0.5137569504526319}}}\u001B[0m\n",
      "\u001B[34m#metrics {\"StartTime\": 1707638420.262938, \"EndTime\": 1707638420.2629511, \"Dimensions\": {\"Algorithm\": \"Linear Learner\", \"Host\": \"algo-1\", \"Operation\": \"training\", \"epoch\": 2, \"model\": 27}, \"Metrics\": {\"validation_binary_classification_cross_entropy_objective\": {\"sum\": 0.5145567308333929, \"count\": 1, \"min\": 0.5145567308333929, \"max\": 0.5145567308333929}}}\u001B[0m\n",
      "\u001B[34m#metrics {\"StartTime\": 1707638420.2629879, \"EndTime\": 1707638420.2630005, \"Dimensions\": {\"Algorithm\": \"Linear Learner\", \"Host\": \"algo-1\", \"Operation\": \"training\", \"epoch\": 2, \"model\": 28}, \"Metrics\": {\"validation_binary_classification_cross_entropy_objective\": {\"sum\": 0.5139942676815973, \"count\": 1, \"min\": 0.5139942676815973, \"max\": 0.5139942676815973}}}\u001B[0m\n",
      "\u001B[34m#metrics {\"StartTime\": 1707638420.2630446, \"EndTime\": 1707638420.2630568, \"Dimensions\": {\"Algorithm\": \"Linear Learner\", \"Host\": \"algo-1\", \"Operation\": \"training\", \"epoch\": 2, \"model\": 29}, \"Metrics\": {\"validation_binary_classification_cross_entropy_objective\": {\"sum\": 0.5142612846887199, \"count\": 1, \"min\": 0.5142612846887199, \"max\": 0.5142612846887199}}}\u001B[0m\n",
      "\u001B[34m#metrics {\"StartTime\": 1707638420.263099, \"EndTime\": 1707638420.2631116, \"Dimensions\": {\"Algorithm\": \"Linear Learner\", \"Host\": \"algo-1\", \"Operation\": \"training\", \"epoch\": 2, \"model\": 30}, \"Metrics\": {\"validation_binary_classification_cross_entropy_objective\": {\"sum\": 0.5139744212455564, \"count\": 1, \"min\": 0.5139744212455564, \"max\": 0.5139744212455564}}}\u001B[0m\n",
      "\u001B[34m#metrics {\"StartTime\": 1707638420.2631495, \"EndTime\": 1707638420.2631621, \"Dimensions\": {\"Algorithm\": \"Linear Learner\", \"Host\": \"algo-1\", \"Operation\": \"training\", \"epoch\": 2, \"model\": 31}, \"Metrics\": {\"validation_binary_classification_cross_entropy_objective\": {\"sum\": 0.5142612818899521, \"count\": 1, \"min\": 0.5142612818899521, \"max\": 0.5142612818899521}}}\u001B[0m\n",
      "\u001B[34m[02/11/2024 08:00:20 INFO 140298564925248] #quality_metric: host=algo-1, epoch=2, validation binary_classification_cross_entropy_objective <loss>=0.4921048589156498\u001B[0m\n",
      "\u001B[34m[02/11/2024 08:00:20 INFO 140298564925248] #early_stopping_criteria_metric: host=algo-1, epoch=2, criteria=binary_classification_cross_entropy_objective, value=0.4921048589156498\u001B[0m\n",
      "\u001B[34m[02/11/2024 08:00:20 INFO 140298564925248] Saving model for epoch: 2\u001B[0m\n",
      "\u001B[34m[02/11/2024 08:00:20 INFO 140298564925248] Saved checkpoint to \"/tmp/tmpzvefbpz6/mx-mod-0000.params\"\u001B[0m\n",
      "\u001B[34m[02/11/2024 08:00:20 INFO 140298564925248] #progress_metric: host=algo-1, completed 20.0 % of epochs\u001B[0m\n",
      "\u001B[34m#metrics {\"StartTime\": 1707638380.3371437, \"EndTime\": 1707638420.2693632, \"Dimensions\": {\"Algorithm\": \"Linear Learner\", \"Host\": \"algo-1\", \"Operation\": \"training\", \"epoch\": 2, \"Meta\": \"training_data_iter\"}, \"Metrics\": {\"Total Records Seen\": {\"sum\": 3937416.0, \"count\": 1, \"min\": 3937416, \"max\": 3937416}, \"Total Batches Seen\": {\"sum\": 3939.0, \"count\": 1, \"min\": 3939, \"max\": 3939}, \"Max Records Seen Between Resets\": {\"sum\": 1308472.0, \"count\": 1, \"min\": 1308472, \"max\": 1308472}, \"Max Batches Seen Between Resets\": {\"sum\": 1309.0, \"count\": 1, \"min\": 1309, \"max\": 1309}, \"Reset Count\": {\"sum\": 5.0, \"count\": 1, \"min\": 5, \"max\": 5}, \"Number of Records Since Last Reset\": {\"sum\": 1308472.0, \"count\": 1, \"min\": 1308472, \"max\": 1308472}, \"Number of Batches Since Last Reset\": {\"sum\": 1309.0, \"count\": 1, \"min\": 1309, \"max\": 1309}}}\u001B[0m\n",
      "\u001B[34m[02/11/2024 08:00:20 INFO 140298564925248] #throughput_metric: host=algo-1, train throughput=32767.1968844241 records/second\u001B[0m\n",
      "\u001B[34m[2024-02-11 08:00:55.817] [tensorio] [info] epoch_stats={\"data_pipeline\": \"/opt/ml/input/data/train\", \"epoch\": 9, \"duration\": 35541, \"num_examples\": 1309, \"num_bytes\": 549558240}\u001B[0m\n",
      "\u001B[34m#metrics {\"StartTime\": 1707638455.817317, \"EndTime\": 1707638455.81741, \"Dimensions\": {\"Algorithm\": \"Linear Learner\", \"Host\": \"algo-1\", \"Operation\": \"training\", \"epoch\": 3, \"model\": 0}, \"Metrics\": {\"train_binary_classification_cross_entropy_objective\": {\"sum\": 0.49191203371100467, \"count\": 1, \"min\": 0.49191203371100467, \"max\": 0.49191203371100467}}}\u001B[0m\n",
      "\u001B[34m#metrics {\"StartTime\": 1707638455.8175058, \"EndTime\": 1707638455.8175247, \"Dimensions\": {\"Algorithm\": \"Linear Learner\", \"Host\": \"algo-1\", \"Operation\": \"training\", \"epoch\": 3, \"model\": 1}, \"Metrics\": {\"train_binary_classification_cross_entropy_objective\": {\"sum\": 0.4929047673543294, \"count\": 1, \"min\": 0.4929047673543294, \"max\": 0.4929047673543294}}}\u001B[0m\n",
      "\u001B[34m#metrics {\"StartTime\": 1707638455.817571, \"EndTime\": 1707638455.817584, \"Dimensions\": {\"Algorithm\": \"Linear Learner\", \"Host\": \"algo-1\", \"Operation\": \"training\", \"epoch\": 3, \"model\": 2}, \"Metrics\": {\"train_binary_classification_cross_entropy_objective\": {\"sum\": 0.49193141687609004, \"count\": 1, \"min\": 0.49193141687609004, \"max\": 0.49193141687609004}}}\u001B[0m\n",
      "\u001B[34m#metrics {\"StartTime\": 1707638455.8176303, \"EndTime\": 1707638455.817642, \"Dimensions\": {\"Algorithm\": \"Linear Learner\", \"Host\": \"algo-1\", \"Operation\": \"training\", \"epoch\": 3, \"model\": 3}, \"Metrics\": {\"train_binary_classification_cross_entropy_objective\": {\"sum\": 0.4929042856292258, \"count\": 1, \"min\": 0.4929042856292258, \"max\": 0.4929042856292258}}}\u001B[0m\n",
      "\u001B[34m#metrics {\"StartTime\": 1707638455.8176787, \"EndTime\": 1707638455.817691, \"Dimensions\": {\"Algorithm\": \"Linear Learner\", \"Host\": \"algo-1\", \"Operation\": \"training\", \"epoch\": 3, \"model\": 4}, \"Metrics\": {\"train_binary_classification_cross_entropy_objective\": {\"sum\": 0.49221666507545964, \"count\": 1, \"min\": 0.49221666507545964, \"max\": 0.49221666507545964}}}\u001B[0m\n",
      "\u001B[34m#metrics {\"StartTime\": 1707638455.8177319, \"EndTime\": 1707638455.817744, \"Dimensions\": {\"Algorithm\": \"Linear Learner\", \"Host\": \"algo-1\", \"Operation\": \"training\", \"epoch\": 3, \"model\": 5}, \"Metrics\": {\"train_binary_classification_cross_entropy_objective\": {\"sum\": 0.5092269419165562, \"count\": 1, \"min\": 0.5092269419165562, \"max\": 0.5092269419165562}}}\u001B[0m\n",
      "\u001B[34m#metrics {\"StartTime\": 1707638455.8177872, \"EndTime\": 1707638455.8177981, \"Dimensions\": {\"Algorithm\": \"Linear Learner\", \"Host\": \"algo-1\", \"Operation\": \"training\", \"epoch\": 3, \"model\": 6}, \"Metrics\": {\"train_binary_classification_cross_entropy_objective\": {\"sum\": 0.4922166847905617, \"count\": 1, \"min\": 0.4922166847905617, \"max\": 0.4922166847905617}}}\u001B[0m\n",
      "\u001B[34m#metrics {\"StartTime\": 1707638455.8178344, \"EndTime\": 1707638455.8178468, \"Dimensions\": {\"Algorithm\": \"Linear Learner\", \"Host\": \"algo-1\", \"Operation\": \"training\", \"epoch\": 3, \"model\": 7}, \"Metrics\": {\"train_binary_classification_cross_entropy_objective\": {\"sum\": 0.5092275206072979, \"count\": 1, \"min\": 0.5092275206072979, \"max\": 0.5092275206072979}}}\u001B[0m\n",
      "\u001B[34m#metrics {\"StartTime\": 1707638455.8178887, \"EndTime\": 1707638455.8179007, \"Dimensions\": {\"Algorithm\": \"Linear Learner\", \"Host\": \"algo-1\", \"Operation\": \"training\", \"epoch\": 3, \"model\": 8}, \"Metrics\": {\"train_binary_classification_cross_entropy_objective\": {\"sum\": 0.49211289359743077, \"count\": 1, \"min\": 0.49211289359743077, \"max\": 0.49211289359743077}}}\u001B[0m\n",
      "\u001B[34m#metrics {\"StartTime\": 1707638455.8179514, \"EndTime\": 1707638455.8179643, \"Dimensions\": {\"Algorithm\": \"Linear Learner\", \"Host\": \"algo-1\", \"Operation\": \"training\", \"epoch\": 3, \"model\": 9}, \"Metrics\": {\"train_binary_classification_cross_entropy_objective\": {\"sum\": 0.4930702824490515, \"count\": 1, \"min\": 0.4930702824490515, \"max\": 0.4930702824490515}}}\u001B[0m\n",
      "\u001B[34m#metrics {\"StartTime\": 1707638455.8180103, \"EndTime\": 1707638455.8180244, \"Dimensions\": {\"Algorithm\": \"Linear Learner\", \"Host\": \"algo-1\", \"Operation\": \"training\", \"epoch\": 3, \"model\": 10}, \"Metrics\": {\"train_binary_classification_cross_entropy_objective\": {\"sum\": 0.4921280401853976, \"count\": 1, \"min\": 0.4921280401853976, \"max\": 0.4921280401853976}}}\u001B[0m\n",
      "\u001B[34m#metrics {\"StartTime\": 1707638455.8180737, \"EndTime\": 1707638455.8180869, \"Dimensions\": {\"Algorithm\": \"Linear Learner\", \"Host\": \"algo-1\", \"Operation\": \"training\", \"epoch\": 3, \"model\": 11}, \"Metrics\": {\"train_binary_classification_cross_entropy_objective\": {\"sum\": 0.49307028625208305, \"count\": 1, \"min\": 0.49307028625208305, \"max\": 0.49307028625208305}}}\u001B[0m\n",
      "\u001B[34m#metrics {\"StartTime\": 1707638455.8181272, \"EndTime\": 1707638455.8181388, \"Dimensions\": {\"Algorithm\": \"Linear Learner\", \"Host\": \"algo-1\", \"Operation\": \"training\", \"epoch\": 3, \"model\": 12}, \"Metrics\": {\"train_binary_classification_cross_entropy_objective\": {\"sum\": 0.49241959570088517, \"count\": 1, \"min\": 0.49241959570088517, \"max\": 0.49241959570088517}}}\u001B[0m\n",
      "\u001B[34m#metrics {\"StartTime\": 1707638455.818181, \"EndTime\": 1707638455.818195, \"Dimensions\": {\"Algorithm\": \"Linear Learner\", \"Host\": \"algo-1\", \"Operation\": \"training\", \"epoch\": 3, \"model\": 13}, \"Metrics\": {\"train_binary_classification_cross_entropy_objective\": {\"sum\": 0.5083263350787148, \"count\": 1, \"min\": 0.5083263350787148, \"max\": 0.5083263350787148}}}\u001B[0m\n",
      "\u001B[34m#metrics {\"StartTime\": 1707638455.8182352, \"EndTime\": 1707638455.8182478, \"Dimensions\": {\"Algorithm\": \"Linear Learner\", \"Host\": \"algo-1\", \"Operation\": \"training\", \"epoch\": 3, \"model\": 14}, \"Metrics\": {\"train_binary_classification_cross_entropy_objective\": {\"sum\": 0.4924195984773315, \"count\": 1, \"min\": 0.4924195984773315, \"max\": 0.4924195984773315}}}\u001B[0m\n",
      "\u001B[34m#metrics {\"StartTime\": 1707638455.8182883, \"EndTime\": 1707638455.8183014, \"Dimensions\": {\"Algorithm\": \"Linear Learner\", \"Host\": \"algo-1\", \"Operation\": \"training\", \"epoch\": 3, \"model\": 15}, \"Metrics\": {\"train_binary_classification_cross_entropy_objective\": {\"sum\": 0.5083262980049903, \"count\": 1, \"min\": 0.5083262980049903, \"max\": 0.5083262980049903}}}\u001B[0m\n",
      "\u001B[34m#metrics {\"StartTime\": 1707638455.8183467, \"EndTime\": 1707638455.818359, \"Dimensions\": {\"Algorithm\": \"Linear Learner\", \"Host\": \"algo-1\", \"Operation\": \"training\", \"epoch\": 3, \"model\": 16}, \"Metrics\": {\"train_binary_classification_cross_entropy_objective\": {\"sum\": 0.5077457195596957, \"count\": 1, \"min\": 0.5077457195596957, \"max\": 0.5077457195596957}}}\u001B[0m\n",
      "\u001B[34m#metrics {\"StartTime\": 1707638455.8184066, \"EndTime\": 1707638455.8184195, \"Dimensions\": {\"Algorithm\": \"Linear Learner\", \"Host\": \"algo-1\", \"Operation\": \"training\", \"epoch\": 3, \"model\": 17}, \"Metrics\": {\"train_binary_classification_cross_entropy_objective\": {\"sum\": 0.5079828200967305, \"count\": 1, \"min\": 0.5079828200967305, \"max\": 0.5079828200967305}}}\u001B[0m\n",
      "\u001B[34m#metrics {\"StartTime\": 1707638455.8184576, \"EndTime\": 1707638455.81847, \"Dimensions\": {\"Algorithm\": \"Linear Learner\", \"Host\": \"algo-1\", \"Operation\": \"training\", \"epoch\": 3, \"model\": 18}, \"Metrics\": {\"train_binary_classification_cross_entropy_objective\": {\"sum\": 0.5077472930581562, \"count\": 1, \"min\": 0.5077472930581562, \"max\": 0.5077472930581562}}}\u001B[0m\n",
      "\u001B[34m#metrics {\"StartTime\": 1707638455.818511, \"EndTime\": 1707638455.818525, \"Dimensions\": {\"Algorithm\": \"Linear Learner\", \"Host\": \"algo-1\", \"Operation\": \"training\", \"epoch\": 3, \"model\": 19}, \"Metrics\": {\"train_binary_classification_cross_entropy_objective\": {\"sum\": 0.5079828206333545, \"count\": 1, \"min\": 0.5079828206333545, \"max\": 0.5079828206333545}}}\u001B[0m\n",
      "\u001B[34m#metrics {\"StartTime\": 1707638455.818562, \"EndTime\": 1707638455.8185735, \"Dimensions\": {\"Algorithm\": \"Linear Learner\", \"Host\": \"algo-1\", \"Operation\": \"training\", \"epoch\": 3, \"model\": 20}, \"Metrics\": {\"train_binary_classification_cross_entropy_objective\": {\"sum\": 0.5078130283414042, \"count\": 1, \"min\": 0.5078130283414042, \"max\": 0.5078130283414042}}}\u001B[0m\n",
      "\u001B[34m#metrics {\"StartTime\": 1707638455.8186154, \"EndTime\": 1707638455.8186276, \"Dimensions\": {\"Algorithm\": \"Linear Learner\", \"Host\": \"algo-1\", \"Operation\": \"training\", \"epoch\": 3, \"model\": 21}, \"Metrics\": {\"train_binary_classification_cross_entropy_objective\": {\"sum\": 0.5106611244131666, \"count\": 1, \"min\": 0.5106611244131666, \"max\": 0.5106611244131666}}}\u001B[0m\n",
      "\u001B[34m#metrics {\"StartTime\": 1707638455.818673, \"EndTime\": 1707638455.8186865, \"Dimensions\": {\"Algorithm\": \"Linear Learner\", \"Host\": \"algo-1\", \"Operation\": \"training\", \"epoch\": 3, \"model\": 22}, \"Metrics\": {\"train_binary_classification_cross_entropy_objective\": {\"sum\": 0.5078130212253023, \"count\": 1, \"min\": 0.5078130212253023, \"max\": 0.5078130212253023}}}\u001B[0m\n",
      "\u001B[34m#metrics {\"StartTime\": 1707638455.8187315, \"EndTime\": 1707638455.8187432, \"Dimensions\": {\"Algorithm\": \"Linear Learner\", \"Host\": \"algo-1\", \"Operation\": \"training\", \"epoch\": 3, \"model\": 23}, \"Metrics\": {\"train_binary_classification_cross_entropy_objective\": {\"sum\": 0.510661136638863, \"count\": 1, \"min\": 0.510661136638863, \"max\": 0.510661136638863}}}\u001B[0m\n",
      "\u001B[34m#metrics {\"StartTime\": 1707638455.8187845, \"EndTime\": 1707638455.8187969, \"Dimensions\": {\"Algorithm\": \"Linear Learner\", \"Host\": \"algo-1\", \"Operation\": \"training\", \"epoch\": 3, \"model\": 24}, \"Metrics\": {\"train_binary_classification_cross_entropy_objective\": {\"sum\": 0.5137680598501037, \"count\": 1, \"min\": 0.5137680598501037, \"max\": 0.5137680598501037}}}\u001B[0m\n",
      "\u001B[34m#metrics {\"StartTime\": 1707638455.818863, \"EndTime\": 1707638455.8188772, \"Dimensions\": {\"Algorithm\": \"Linear Learner\", \"Host\": \"algo-1\", \"Operation\": \"training\", \"epoch\": 3, \"model\": 25}, \"Metrics\": {\"train_binary_classification_cross_entropy_objective\": {\"sum\": 0.5138690573082787, \"count\": 1, \"min\": 0.5138690573082787, \"max\": 0.5138690573082787}}}\u001B[0m\n",
      "\u001B[34m#metrics {\"StartTime\": 1707638455.8189225, \"EndTime\": 1707638455.8189352, \"Dimensions\": {\"Algorithm\": \"Linear Learner\", \"Host\": \"algo-1\", \"Operation\": \"training\", \"epoch\": 3, \"model\": 26}, \"Metrics\": {\"train_binary_classification_cross_entropy_objective\": {\"sum\": 0.5137694067065505, \"count\": 1, \"min\": 0.5137694067065505, \"max\": 0.5137694067065505}}}\u001B[0m\n",
      "\u001B[34m#metrics {\"StartTime\": 1707638455.8189776, \"EndTime\": 1707638455.8189895, \"Dimensions\": {\"Algorithm\": \"Linear Learner\", \"Host\": \"algo-1\", \"Operation\": \"training\", \"epoch\": 3, \"model\": 27}, \"Metrics\": {\"train_binary_classification_cross_entropy_objective\": {\"sum\": 0.513868441380492, \"count\": 1, \"min\": 0.513868441380492, \"max\": 0.513868441380492}}}\u001B[0m\n",
      "\u001B[34m#metrics {\"StartTime\": 1707638455.8190343, \"EndTime\": 1707638455.8190463, \"Dimensions\": {\"Algorithm\": \"Linear Learner\", \"Host\": \"algo-1\", \"Operation\": \"training\", \"epoch\": 3, \"model\": 28}, \"Metrics\": {\"train_binary_classification_cross_entropy_objective\": {\"sum\": 0.5137884982047825, \"count\": 1, \"min\": 0.5137884982047825, \"max\": 0.5137884982047825}}}\u001B[0m\n",
      "\u001B[34m#metrics {\"StartTime\": 1707638455.819086, \"EndTime\": 1707638455.8190978, \"Dimensions\": {\"Algorithm\": \"Linear Learner\", \"Host\": \"algo-1\", \"Operation\": \"training\", \"epoch\": 3, \"model\": 29}, \"Metrics\": {\"train_binary_classification_cross_entropy_objective\": {\"sum\": 0.5148541015718326, \"count\": 1, \"min\": 0.5148541015718326, \"max\": 0.5148541015718326}}}\u001B[0m\n",
      "\u001B[34m#metrics {\"StartTime\": 1707638455.8191414, \"EndTime\": 1707638455.819153, \"Dimensions\": {\"Algorithm\": \"Linear Learner\", \"Host\": \"algo-1\", \"Operation\": \"training\", \"epoch\": 3, \"model\": 30}, \"Metrics\": {\"train_binary_classification_cross_entropy_objective\": {\"sum\": 0.5137884866323675, \"count\": 1, \"min\": 0.5137884866323675, \"max\": 0.5137884866323675}}}\u001B[0m\n",
      "\u001B[34m#metrics {\"StartTime\": 1707638455.8191934, \"EndTime\": 1707638455.8192055, \"Dimensions\": {\"Algorithm\": \"Linear Learner\", \"Host\": \"algo-1\", \"Operation\": \"training\", \"epoch\": 3, \"model\": 31}, \"Metrics\": {\"train_binary_classification_cross_entropy_objective\": {\"sum\": 0.5148541058181623, \"count\": 1, \"min\": 0.5148541058181623, \"max\": 0.5148541058181623}}}\u001B[0m\n",
      "\u001B[34m[02/11/2024 08:00:55 INFO 140298564925248] #quality_metric: host=algo-1, epoch=3, train binary_classification_cross_entropy_objective <loss>=0.49191203371100467\u001B[0m\n",
      "\u001B[34m[2024-02-11 08:00:59.072] [tensorio] [info] epoch_stats={\"data_pipeline\": \"/opt/ml/input/data/validation\", \"epoch\": 11, \"duration\": 3235, \"num_examples\": 164, \"num_bytes\": 68694780}\u001B[0m\n",
      "\u001B[34m#metrics {\"StartTime\": 1707638459.0790956, \"EndTime\": 1707638459.079158, \"Dimensions\": {\"Algorithm\": \"Linear Learner\", \"Host\": \"algo-1\", \"Operation\": \"training\", \"epoch\": 3, \"model\": 0}, \"Metrics\": {\"validation_binary_classification_cross_entropy_objective\": {\"sum\": 0.492085951186348, \"count\": 1, \"min\": 0.492085951186348, \"max\": 0.492085951186348}}}\u001B[0m\n",
      "\u001B[34m#metrics {\"StartTime\": 1707638459.0792382, \"EndTime\": 1707638459.079255, \"Dimensions\": {\"Algorithm\": \"Linear Learner\", \"Host\": \"algo-1\", \"Operation\": \"training\", \"epoch\": 3, \"model\": 1}, \"Metrics\": {\"validation_binary_classification_cross_entropy_objective\": {\"sum\": 0.49376390058433856, \"count\": 1, \"min\": 0.49376390058433856, \"max\": 0.49376390058433856}}}\u001B[0m\n",
      "\u001B[34m#metrics {\"StartTime\": 1707638459.0793107, \"EndTime\": 1707638459.079326, \"Dimensions\": {\"Algorithm\": \"Linear Learner\", \"Host\": \"algo-1\", \"Operation\": \"training\", \"epoch\": 3, \"model\": 2}, \"Metrics\": {\"validation_binary_classification_cross_entropy_objective\": {\"sum\": 0.49210874715054087, \"count\": 1, \"min\": 0.49210874715054087, \"max\": 0.49210874715054087}}}\u001B[0m\n",
      "\u001B[34m#metrics {\"StartTime\": 1707638459.079365, \"EndTime\": 1707638459.0793784, \"Dimensions\": {\"Algorithm\": \"Linear Learner\", \"Host\": \"algo-1\", \"Operation\": \"training\", \"epoch\": 3, \"model\": 3}, \"Metrics\": {\"validation_binary_classification_cross_entropy_objective\": {\"sum\": 0.4937637167985826, \"count\": 1, \"min\": 0.4937637167985826, \"max\": 0.4937637167985826}}}\u001B[0m\n",
      "\u001B[34m#metrics {\"StartTime\": 1707638459.0794172, \"EndTime\": 1707638459.0794306, \"Dimensions\": {\"Algorithm\": \"Linear Learner\", \"Host\": \"algo-1\", \"Operation\": \"training\", \"epoch\": 3, \"model\": 4}, \"Metrics\": {\"validation_binary_classification_cross_entropy_objective\": {\"sum\": 0.4922491501388404, \"count\": 1, \"min\": 0.4922491501388404, \"max\": 0.4922491501388404}}}\u001B[0m\n",
      "\u001B[34m#metrics {\"StartTime\": 1707638459.0794792, \"EndTime\": 1707638459.079492, \"Dimensions\": {\"Algorithm\": \"Linear Learner\", \"Host\": \"algo-1\", \"Operation\": \"training\", \"epoch\": 3, \"model\": 5}, \"Metrics\": {\"validation_binary_classification_cross_entropy_objective\": {\"sum\": 0.5100418062925927, \"count\": 1, \"min\": 0.5100418062925927, \"max\": 0.5100418062925927}}}\u001B[0m\n",
      "\u001B[34m#metrics {\"StartTime\": 1707638459.0795293, \"EndTime\": 1707638459.0795405, \"Dimensions\": {\"Algorithm\": \"Linear Learner\", \"Host\": \"algo-1\", \"Operation\": \"training\", \"epoch\": 3, \"model\": 6}, \"Metrics\": {\"validation_binary_classification_cross_entropy_objective\": {\"sum\": 0.4922491701033844, \"count\": 1, \"min\": 0.4922491701033844, \"max\": 0.4922491701033844}}}\u001B[0m\n",
      "\u001B[34m#metrics {\"StartTime\": 1707638459.0795858, \"EndTime\": 1707638459.0795941, \"Dimensions\": {\"Algorithm\": \"Linear Learner\", \"Host\": \"algo-1\", \"Operation\": \"training\", \"epoch\": 3, \"model\": 7}, \"Metrics\": {\"validation_binary_classification_cross_entropy_objective\": {\"sum\": 0.5100433885293543, \"count\": 1, \"min\": 0.5100433885293543, \"max\": 0.5100433885293543}}}\u001B[0m\n",
      "\u001B[34m#metrics {\"StartTime\": 1707638459.0796342, \"EndTime\": 1707638459.079645, \"Dimensions\": {\"Algorithm\": \"Linear Learner\", \"Host\": \"algo-1\", \"Operation\": \"training\", \"epoch\": 3, \"model\": 8}, \"Metrics\": {\"validation_binary_classification_cross_entropy_objective\": {\"sum\": 0.49226257209655855, \"count\": 1, \"min\": 0.49226257209655855, \"max\": 0.49226257209655855}}}\u001B[0m\n",
      "\u001B[34m#metrics {\"StartTime\": 1707638459.0796883, \"EndTime\": 1707638459.0797005, \"Dimensions\": {\"Algorithm\": \"Linear Learner\", \"Host\": \"algo-1\", \"Operation\": \"training\", \"epoch\": 3, \"model\": 9}, \"Metrics\": {\"validation_binary_classification_cross_entropy_objective\": {\"sum\": 0.493788529181724, \"count\": 1, \"min\": 0.493788529181724, \"max\": 0.493788529181724}}}\u001B[0m\n",
      "\u001B[34m#metrics {\"StartTime\": 1707638459.0797458, \"EndTime\": 1707638459.0797546, \"Dimensions\": {\"Algorithm\": \"Linear Learner\", \"Host\": \"algo-1\", \"Operation\": \"training\", \"epoch\": 3, \"model\": 10}, \"Metrics\": {\"validation_binary_classification_cross_entropy_objective\": {\"sum\": 0.4922780761509775, \"count\": 1, \"min\": 0.4922780761509775, \"max\": 0.4922780761509775}}}\u001B[0m\n",
      "\u001B[34m#metrics {\"StartTime\": 1707638459.0797951, \"EndTime\": 1707638459.0798075, \"Dimensions\": {\"Algorithm\": \"Linear Learner\", \"Host\": \"algo-1\", \"Operation\": \"training\", \"epoch\": 3, \"model\": 11}, \"Metrics\": {\"validation_binary_classification_cross_entropy_objective\": {\"sum\": 0.49378852731587874, \"count\": 1, \"min\": 0.49378852731587874, \"max\": 0.49378852731587874}}}\u001B[0m\n",
      "\u001B[34m#metrics {\"StartTime\": 1707638459.0798442, \"EndTime\": 1707638459.0798569, \"Dimensions\": {\"Algorithm\": \"Linear Learner\", \"Host\": \"algo-1\", \"Operation\": \"training\", \"epoch\": 3, \"model\": 12}, \"Metrics\": {\"validation_binary_classification_cross_entropy_objective\": {\"sum\": 0.4924132159630303, \"count\": 1, \"min\": 0.4924132159630303, \"max\": 0.4924132159630303}}}\u001B[0m\n",
      "\u001B[34m#metrics {\"StartTime\": 1707638459.0798974, \"EndTime\": 1707638459.0799096, \"Dimensions\": {\"Algorithm\": \"Linear Learner\", \"Host\": \"algo-1\", \"Operation\": \"training\", \"epoch\": 3, \"model\": 13}, \"Metrics\": {\"validation_binary_classification_cross_entropy_objective\": {\"sum\": 0.5084875495595363, \"count\": 1, \"min\": 0.5084875495595363, \"max\": 0.5084875495595363}}}\u001B[0m\n",
      "\u001B[34m#metrics {\"StartTime\": 1707638459.0799596, \"EndTime\": 1707638459.079971, \"Dimensions\": {\"Algorithm\": \"Linear Learner\", \"Host\": \"algo-1\", \"Operation\": \"training\", \"epoch\": 3, \"model\": 14}, \"Metrics\": {\"validation_binary_classification_cross_entropy_objective\": {\"sum\": 0.49241321764229096, \"count\": 1, \"min\": 0.49241321764229096, \"max\": 0.49241321764229096}}}\u001B[0m\n",
      "\u001B[34m#metrics {\"StartTime\": 1707638459.0800164, \"EndTime\": 1707638459.0800264, \"Dimensions\": {\"Algorithm\": \"Linear Learner\", \"Host\": \"algo-1\", \"Operation\": \"training\", \"epoch\": 3, \"model\": 15}, \"Metrics\": {\"validation_binary_classification_cross_entropy_objective\": {\"sum\": 0.5084875217584423, \"count\": 1, \"min\": 0.5084875217584423, \"max\": 0.5084875217584423}}}\u001B[0m\n",
      "\u001B[34m#metrics {\"StartTime\": 1707638459.0800712, \"EndTime\": 1707638459.0800827, \"Dimensions\": {\"Algorithm\": \"Linear Learner\", \"Host\": \"algo-1\", \"Operation\": \"training\", \"epoch\": 3, \"model\": 16}, \"Metrics\": {\"validation_binary_classification_cross_entropy_objective\": {\"sum\": 0.5077860021988553, \"count\": 1, \"min\": 0.5077860021988553, \"max\": 0.5077860021988553}}}\u001B[0m\n",
      "\u001B[34m#metrics {\"StartTime\": 1707638459.080134, \"EndTime\": 1707638459.0801482, \"Dimensions\": {\"Algorithm\": \"Linear Learner\", \"Host\": \"algo-1\", \"Operation\": \"training\", \"epoch\": 3, \"model\": 17}, \"Metrics\": {\"validation_binary_classification_cross_entropy_objective\": {\"sum\": 0.5079875160967215, \"count\": 1, \"min\": 0.5079875160967215, \"max\": 0.5079875160967215}}}\u001B[0m\n",
      "\u001B[34m#metrics {\"StartTime\": 1707638459.0801895, \"EndTime\": 1707638459.080203, \"Dimensions\": {\"Algorithm\": \"Linear Learner\", \"Host\": \"algo-1\", \"Operation\": \"training\", \"epoch\": 3, \"model\": 18}, \"Metrics\": {\"validation_binary_classification_cross_entropy_objective\": {\"sum\": 0.5077392319892019, \"count\": 1, \"min\": 0.5077392319892019, \"max\": 0.5077392319892019}}}\u001B[0m\n",
      "\u001B[34m#metrics {\"StartTime\": 1707638459.0802498, \"EndTime\": 1707638459.0802634, \"Dimensions\": {\"Algorithm\": \"Linear Learner\", \"Host\": \"algo-1\", \"Operation\": \"training\", \"epoch\": 3, \"model\": 19}, \"Metrics\": {\"validation_binary_classification_cross_entropy_objective\": {\"sum\": 0.5079875692733108, \"count\": 1, \"min\": 0.5079875692733108, \"max\": 0.5079875692733108}}}\u001B[0m\n",
      "\u001B[34m#metrics {\"StartTime\": 1707638459.0803094, \"EndTime\": 1707638459.0803218, \"Dimensions\": {\"Algorithm\": \"Linear Learner\", \"Host\": \"algo-1\", \"Operation\": \"training\", \"epoch\": 3, \"model\": 20}, \"Metrics\": {\"validation_binary_classification_cross_entropy_objective\": {\"sum\": 0.5075910989906667, \"count\": 1, \"min\": 0.5075910989906667, \"max\": 0.5075910989906667}}}\u001B[0m\n",
      "\u001B[34m#metrics {\"StartTime\": 1707638459.0803664, \"EndTime\": 1707638459.0803792, \"Dimensions\": {\"Algorithm\": \"Linear Learner\", \"Host\": \"algo-1\", \"Operation\": \"training\", \"epoch\": 3, \"model\": 21}, \"Metrics\": {\"validation_binary_classification_cross_entropy_objective\": {\"sum\": 0.51147455451915, \"count\": 1, \"min\": 0.51147455451915, \"max\": 0.51147455451915}}}\u001B[0m\n",
      "\u001B[34m#metrics {\"StartTime\": 1707638459.0804243, \"EndTime\": 1707638459.0804367, \"Dimensions\": {\"Algorithm\": \"Linear Learner\", \"Host\": \"algo-1\", \"Operation\": \"training\", \"epoch\": 3, \"model\": 22}, \"Metrics\": {\"validation_binary_classification_cross_entropy_objective\": {\"sum\": 0.5075910937663001, \"count\": 1, \"min\": 0.5075910937663001, \"max\": 0.5075910937663001}}}\u001B[0m\n",
      "\u001B[34m#metrics {\"StartTime\": 1707638459.080475, \"EndTime\": 1707638459.0804875, \"Dimensions\": {\"Algorithm\": \"Linear Learner\", \"Host\": \"algo-1\", \"Operation\": \"training\", \"epoch\": 3, \"model\": 23}, \"Metrics\": {\"validation_binary_classification_cross_entropy_objective\": {\"sum\": 0.5114744905206583, \"count\": 1, \"min\": 0.5114744905206583, \"max\": 0.5114744905206583}}}\u001B[0m\n",
      "\u001B[34m#metrics {\"StartTime\": 1707638459.0805368, \"EndTime\": 1707638459.0805504, \"Dimensions\": {\"Algorithm\": \"Linear Learner\", \"Host\": \"algo-1\", \"Operation\": \"training\", \"epoch\": 3, \"model\": 24}, \"Metrics\": {\"validation_binary_classification_cross_entropy_objective\": {\"sum\": 0.5137562339680607, \"count\": 1, \"min\": 0.5137562339680607, \"max\": 0.5137562339680607}}}\u001B[0m\n",
      "\u001B[34m#metrics {\"StartTime\": 1707638459.0805993, \"EndTime\": 1707638459.0806122, \"Dimensions\": {\"Algorithm\": \"Linear Learner\", \"Host\": \"algo-1\", \"Operation\": \"training\", \"epoch\": 3, \"model\": 25}, \"Metrics\": {\"validation_binary_classification_cross_entropy_objective\": {\"sum\": 0.5144245983906944, \"count\": 1, \"min\": 0.5144245983906944, \"max\": 0.5144245983906944}}}\u001B[0m\n",
      "\u001B[34m#metrics {\"StartTime\": 1707638459.0806582, \"EndTime\": 1707638459.080672, \"Dimensions\": {\"Algorithm\": \"Linear Learner\", \"Host\": \"algo-1\", \"Operation\": \"training\", \"epoch\": 3, \"model\": 26}, \"Metrics\": {\"validation_binary_classification_cross_entropy_objective\": {\"sum\": 0.5137608801092873, \"count\": 1, \"min\": 0.5137608801092873, \"max\": 0.5137608801092873}}}\u001B[0m\n",
      "\u001B[34m#metrics {\"StartTime\": 1707638459.0807102, \"EndTime\": 1707638459.080723, \"Dimensions\": {\"Algorithm\": \"Linear Learner\", \"Host\": \"algo-1\", \"Operation\": \"training\", \"epoch\": 3, \"model\": 27}, \"Metrics\": {\"validation_binary_classification_cross_entropy_objective\": {\"sum\": 0.5144495113428942, \"count\": 1, \"min\": 0.5144495113428942, \"max\": 0.5144495113428942}}}\u001B[0m\n",
      "\u001B[34m#metrics {\"StartTime\": 1707638459.080766, \"EndTime\": 1707638459.08078, \"Dimensions\": {\"Algorithm\": \"Linear Learner\", \"Host\": \"algo-1\", \"Operation\": \"training\", \"epoch\": 3, \"model\": 28}, \"Metrics\": {\"validation_binary_classification_cross_entropy_objective\": {\"sum\": 0.5137826800852923, \"count\": 1, \"min\": 0.5137826800852923, \"max\": 0.5137826800852923}}}\u001B[0m\n",
      "\u001B[34m#metrics {\"StartTime\": 1707638459.0808237, \"EndTime\": 1707638459.080837, \"Dimensions\": {\"Algorithm\": \"Linear Learner\", \"Host\": \"algo-1\", \"Operation\": \"training\", \"epoch\": 3, \"model\": 29}, \"Metrics\": {\"validation_binary_classification_cross_entropy_objective\": {\"sum\": 0.5140661988142825, \"count\": 1, \"min\": 0.5140661988142825, \"max\": 0.5140661988142825}}}\u001B[0m\n",
      "\u001B[34m#metrics {\"StartTime\": 1707638459.0808804, \"EndTime\": 1707638459.080894, \"Dimensions\": {\"Algorithm\": \"Linear Learner\", \"Host\": \"algo-1\", \"Operation\": \"training\", \"epoch\": 3, \"model\": 30}, \"Metrics\": {\"validation_binary_classification_cross_entropy_objective\": {\"sum\": 0.5137825787698959, \"count\": 1, \"min\": 0.5137825787698959, \"max\": 0.5137825787698959}}}\u001B[0m\n",
      "\u001B[34m#metrics {\"StartTime\": 1707638459.0809288, \"EndTime\": 1707638459.0809407, \"Dimensions\": {\"Algorithm\": \"Linear Learner\", \"Host\": \"algo-1\", \"Operation\": \"training\", \"epoch\": 3, \"model\": 31}, \"Metrics\": {\"validation_binary_classification_cross_entropy_objective\": {\"sum\": 0.514066193963085, \"count\": 1, \"min\": 0.514066193963085, \"max\": 0.514066193963085}}}\u001B[0m\n",
      "\u001B[34m[02/11/2024 08:00:59 INFO 140298564925248] #quality_metric: host=algo-1, epoch=3, validation binary_classification_cross_entropy_objective <loss>=0.492085951186348\u001B[0m\n",
      "\u001B[34m[02/11/2024 08:00:59 INFO 140298564925248] #early_stopping_criteria_metric: host=algo-1, epoch=3, criteria=binary_classification_cross_entropy_objective, value=0.492085951186348\u001B[0m\n",
      "\u001B[34m[02/11/2024 08:00:59 INFO 140298564925248] Saving model for epoch: 3\u001B[0m\n",
      "\u001B[34m[02/11/2024 08:00:59 INFO 140298564925248] Saved checkpoint to \"/tmp/tmp90y5svy0/mx-mod-0000.params\"\u001B[0m\n",
      "\u001B[34m[02/11/2024 08:00:59 INFO 140298564925248] #progress_metric: host=algo-1, completed 26.666666666666668 % of epochs\u001B[0m\n",
      "\u001B[34m#metrics {\"StartTime\": 1707638420.276082, \"EndTime\": 1707638459.0871577, \"Dimensions\": {\"Algorithm\": \"Linear Learner\", \"Host\": \"algo-1\", \"Operation\": \"training\", \"epoch\": 3, \"Meta\": \"training_data_iter\"}, \"Metrics\": {\"Total Records Seen\": {\"sum\": 5245888.0, \"count\": 1, \"min\": 5245888, \"max\": 5245888}, \"Total Batches Seen\": {\"sum\": 5248.0, \"count\": 1, \"min\": 5248, \"max\": 5248}, \"Max Records Seen Between Resets\": {\"sum\": 1308472.0, \"count\": 1, \"min\": 1308472, \"max\": 1308472}, \"Max Batches Seen Between Resets\": {\"sum\": 1309.0, \"count\": 1, \"min\": 1309, \"max\": 1309}, \"Reset Count\": {\"sum\": 6.0, \"count\": 1, \"min\": 6, \"max\": 6}, \"Number of Records Since Last Reset\": {\"sum\": 1308472.0, \"count\": 1, \"min\": 1308472, \"max\": 1308472}, \"Number of Batches Since Last Reset\": {\"sum\": 1309.0, \"count\": 1, \"min\": 1309, \"max\": 1309}}}\u001B[0m\n",
      "\u001B[34m[02/11/2024 08:00:59 INFO 140298564925248] #throughput_metric: host=algo-1, train throughput=33713.73987665153 records/second\u001B[0m\n",
      "\u001B[34m[2024-02-11 08:01:35.189] [tensorio] [info] epoch_stats={\"data_pipeline\": \"/opt/ml/input/data/train\", \"epoch\": 11, \"duration\": 36098, \"num_examples\": 1309, \"num_bytes\": 549558240}\u001B[0m\n",
      "\u001B[34m#metrics {\"StartTime\": 1707638495.1900437, \"EndTime\": 1707638495.190131, \"Dimensions\": {\"Algorithm\": \"Linear Learner\", \"Host\": \"algo-1\", \"Operation\": \"training\", \"epoch\": 4, \"model\": 0}, \"Metrics\": {\"train_binary_classification_cross_entropy_objective\": {\"sum\": 0.49188387401242506, \"count\": 1, \"min\": 0.49188387401242506, \"max\": 0.49188387401242506}}}\u001B[0m\n",
      "\u001B[34m#metrics {\"StartTime\": 1707638495.1902285, \"EndTime\": 1707638495.1902502, \"Dimensions\": {\"Algorithm\": \"Linear Learner\", \"Host\": \"algo-1\", \"Operation\": \"training\", \"epoch\": 4, \"model\": 1}, \"Metrics\": {\"train_binary_classification_cross_entropy_objective\": {\"sum\": 0.49277505875800365, \"count\": 1, \"min\": 0.49277505875800365, \"max\": 0.49277505875800365}}}\u001B[0m\n",
      "\u001B[34m#metrics {\"StartTime\": 1707638495.1903017, \"EndTime\": 1707638495.1903121, \"Dimensions\": {\"Algorithm\": \"Linear Learner\", \"Host\": \"algo-1\", \"Operation\": \"training\", \"epoch\": 4, \"model\": 2}, \"Metrics\": {\"train_binary_classification_cross_entropy_objective\": {\"sum\": 0.49193014251055706, \"count\": 1, \"min\": 0.49193014251055706, \"max\": 0.49193014251055706}}}\u001B[0m\n",
      "\u001B[34m#metrics {\"StartTime\": 1707638495.190361, \"EndTime\": 1707638495.190375, \"Dimensions\": {\"Algorithm\": \"Linear Learner\", \"Host\": \"algo-1\", \"Operation\": \"training\", \"epoch\": 4, \"model\": 3}, \"Metrics\": {\"train_binary_classification_cross_entropy_objective\": {\"sum\": 0.4927748164605657, \"count\": 1, \"min\": 0.4927748164605657, \"max\": 0.4927748164605657}}}\u001B[0m\n",
      "\u001B[34m#metrics {\"StartTime\": 1707638495.1904402, \"EndTime\": 1707638495.1904542, \"Dimensions\": {\"Algorithm\": \"Linear Learner\", \"Host\": \"algo-1\", \"Operation\": \"training\", \"epoch\": 4, \"model\": 4}, \"Metrics\": {\"train_binary_classification_cross_entropy_objective\": {\"sum\": 0.49198737904493234, \"count\": 1, \"min\": 0.49198737904493234, \"max\": 0.49198737904493234}}}\u001B[0m\n",
      "\u001B[34m#metrics {\"StartTime\": 1707638495.1905036, \"EndTime\": 1707638495.1905165, \"Dimensions\": {\"Algorithm\": \"Linear Learner\", \"Host\": \"algo-1\", \"Operation\": \"training\", \"epoch\": 4, \"model\": 5}, \"Metrics\": {\"train_binary_classification_cross_entropy_objective\": {\"sum\": 0.5072721181513702, \"count\": 1, \"min\": 0.5072721181513702, \"max\": 0.5072721181513702}}}\u001B[0m\n",
      "\u001B[34m#metrics {\"StartTime\": 1707638495.1905706, \"EndTime\": 1707638495.1905828, \"Dimensions\": {\"Algorithm\": \"Linear Learner\", \"Host\": \"algo-1\", \"Operation\": \"training\", \"epoch\": 4, \"model\": 6}, \"Metrics\": {\"train_binary_classification_cross_entropy_objective\": {\"sum\": 0.49198738030483236, \"count\": 1, \"min\": 0.49198738030483236, \"max\": 0.49198738030483236}}}\u001B[0m\n",
      "\u001B[34m#metrics {\"StartTime\": 1707638495.1906312, \"EndTime\": 1707638495.1906455, \"Dimensions\": {\"Algorithm\": \"Linear Learner\", \"Host\": \"algo-1\", \"Operation\": \"training\", \"epoch\": 4, \"model\": 7}, \"Metrics\": {\"train_binary_classification_cross_entropy_objective\": {\"sum\": 0.5072721467557668, \"count\": 1, \"min\": 0.5072721467557668, \"max\": 0.5072721467557668}}}\u001B[0m\n",
      "\u001B[34m#metrics {\"StartTime\": 1707638495.1906955, \"EndTime\": 1707638495.1907103, \"Dimensions\": {\"Algorithm\": \"Linear Learner\", \"Host\": \"algo-1\", \"Operation\": \"training\", \"epoch\": 4, \"model\": 8}, \"Metrics\": {\"train_binary_classification_cross_entropy_objective\": {\"sum\": 0.49208598430295236, \"count\": 1, \"min\": 0.49208598430295236, \"max\": 0.49208598430295236}}}\u001B[0m\n",
      "\u001B[34m#metrics {\"StartTime\": 1707638495.1907601, \"EndTime\": 1707638495.1907725, \"Dimensions\": {\"Algorithm\": \"Linear Learner\", \"Host\": \"algo-1\", \"Operation\": \"training\", \"epoch\": 4, \"model\": 9}, \"Metrics\": {\"train_binary_classification_cross_entropy_objective\": {\"sum\": 0.4929486415291416, \"count\": 1, \"min\": 0.4929486415291416, \"max\": 0.4929486415291416}}}\u001B[0m\n",
      "\u001B[34m#metrics {\"StartTime\": 1707638495.1908262, \"EndTime\": 1707638495.1908643, \"Dimensions\": {\"Algorithm\": \"Linear Learner\", \"Host\": \"algo-1\", \"Operation\": \"training\", \"epoch\": 4, \"model\": 10}, \"Metrics\": {\"train_binary_classification_cross_entropy_objective\": {\"sum\": 0.492127229859705, \"count\": 1, \"min\": 0.492127229859705, \"max\": 0.492127229859705}}}\u001B[0m\n",
      "\u001B[34m#metrics {\"StartTime\": 1707638495.1909194, \"EndTime\": 1707638495.1909351, \"Dimensions\": {\"Algorithm\": \"Linear Learner\", \"Host\": \"algo-1\", \"Operation\": \"training\", \"epoch\": 4, \"model\": 11}, \"Metrics\": {\"train_binary_classification_cross_entropy_objective\": {\"sum\": 0.4929486422057546, \"count\": 1, \"min\": 0.4929486422057546, \"max\": 0.4929486422057546}}}\u001B[0m\n",
      "\u001B[34m#metrics {\"StartTime\": 1707638495.1909864, \"EndTime\": 1707638495.1910002, \"Dimensions\": {\"Algorithm\": \"Linear Learner\", \"Host\": \"algo-1\", \"Operation\": \"training\", \"epoch\": 4, \"model\": 12}, \"Metrics\": {\"train_binary_classification_cross_entropy_objective\": {\"sum\": 0.4922035100161118, \"count\": 1, \"min\": 0.4922035100161118, \"max\": 0.4922035100161118}}}\u001B[0m\n",
      "\u001B[34m#metrics {\"StartTime\": 1707638495.1910498, \"EndTime\": 1707638495.191063, \"Dimensions\": {\"Algorithm\": \"Linear Learner\", \"Host\": \"algo-1\", \"Operation\": \"training\", \"epoch\": 4, \"model\": 13}, \"Metrics\": {\"train_binary_classification_cross_entropy_objective\": {\"sum\": 0.506501105002307, \"count\": 1, \"min\": 0.506501105002307, \"max\": 0.506501105002307}}}\u001B[0m\n",
      "\u001B[34m#metrics {\"StartTime\": 1707638495.1911092, \"EndTime\": 1707638495.1911225, \"Dimensions\": {\"Algorithm\": \"Linear Learner\", \"Host\": \"algo-1\", \"Operation\": \"training\", \"epoch\": 4, \"model\": 14}, \"Metrics\": {\"train_binary_classification_cross_entropy_objective\": {\"sum\": 0.49220350952615066, \"count\": 1, \"min\": 0.49220350952615066, \"max\": 0.49220350952615066}}}\u001B[0m\n",
      "\u001B[34m#metrics {\"StartTime\": 1707638495.1911738, \"EndTime\": 1707638495.1911876, \"Dimensions\": {\"Algorithm\": \"Linear Learner\", \"Host\": \"algo-1\", \"Operation\": \"training\", \"epoch\": 4, \"model\": 15}, \"Metrics\": {\"train_binary_classification_cross_entropy_objective\": {\"sum\": 0.5065010980028625, \"count\": 1, \"min\": 0.5065010980028625, \"max\": 0.5065010980028625}}}\u001B[0m\n",
      "\u001B[34m#metrics {\"StartTime\": 1707638495.191239, \"EndTime\": 1707638495.191254, \"Dimensions\": {\"Algorithm\": \"Linear Learner\", \"Host\": \"algo-1\", \"Operation\": \"training\", \"epoch\": 4, \"model\": 16}, \"Metrics\": {\"train_binary_classification_cross_entropy_objective\": {\"sum\": 0.5077331345351099, \"count\": 1, \"min\": 0.5077331345351099, \"max\": 0.5077331345351099}}}\u001B[0m\n",
      "\u001B[34m#metrics {\"StartTime\": 1707638495.1913035, \"EndTime\": 1707638495.1913161, \"Dimensions\": {\"Algorithm\": \"Linear Learner\", \"Host\": \"algo-1\", \"Operation\": \"training\", \"epoch\": 4, \"model\": 17}, \"Metrics\": {\"train_binary_classification_cross_entropy_objective\": {\"sum\": 0.5079531909580989, \"count\": 1, \"min\": 0.5079531909580989, \"max\": 0.5079531909580989}}}\u001B[0m\n",
      "\u001B[34m#metrics {\"StartTime\": 1707638495.1913614, \"EndTime\": 1707638495.191374, \"Dimensions\": {\"Algorithm\": \"Linear Learner\", \"Host\": \"algo-1\", \"Operation\": \"training\", \"epoch\": 4, \"model\": 18}, \"Metrics\": {\"train_binary_classification_cross_entropy_objective\": {\"sum\": 0.5077473049338804, \"count\": 1, \"min\": 0.5077473049338804, \"max\": 0.5077473049338804}}}\u001B[0m\n",
      "\u001B[34m#metrics {\"StartTime\": 1707638495.1914248, \"EndTime\": 1707638495.191439, \"Dimensions\": {\"Algorithm\": \"Linear Learner\", \"Host\": \"algo-1\", \"Operation\": \"training\", \"epoch\": 4, \"model\": 19}, \"Metrics\": {\"train_binary_classification_cross_entropy_objective\": {\"sum\": 0.5079531919380211, \"count\": 1, \"min\": 0.5079531919380211, \"max\": 0.5079531919380211}}}\u001B[0m\n",
      "\u001B[34m#metrics {\"StartTime\": 1707638495.1914868, \"EndTime\": 1707638495.1915004, \"Dimensions\": {\"Algorithm\": \"Linear Learner\", \"Host\": \"algo-1\", \"Operation\": \"training\", \"epoch\": 4, \"model\": 20}, \"Metrics\": {\"train_binary_classification_cross_entropy_objective\": {\"sum\": 0.5077617000848146, \"count\": 1, \"min\": 0.5077617000848146, \"max\": 0.5077617000848146}}}\u001B[0m\n",
      "\u001B[34m#metrics {\"StartTime\": 1707638495.1915486, \"EndTime\": 1707638495.1915703, \"Dimensions\": {\"Algorithm\": \"Linear Learner\", \"Host\": \"algo-1\", \"Operation\": \"training\", \"epoch\": 4, \"model\": 21}, \"Metrics\": {\"train_binary_classification_cross_entropy_objective\": {\"sum\": 0.5103492851373982, \"count\": 1, \"min\": 0.5103492851373982, \"max\": 0.5103492851373982}}}\u001B[0m\n",
      "\u001B[34m#metrics {\"StartTime\": 1707638495.1916215, \"EndTime\": 1707638495.1916356, \"Dimensions\": {\"Algorithm\": \"Linear Learner\", \"Host\": \"algo-1\", \"Operation\": \"training\", \"epoch\": 4, \"model\": 22}, \"Metrics\": {\"train_binary_classification_cross_entropy_objective\": {\"sum\": 0.5077617005047813, \"count\": 1, \"min\": 0.5077617005047813, \"max\": 0.5077617005047813}}}\u001B[0m\n",
      "\u001B[34m#metrics {\"StartTime\": 1707638495.1916802, \"EndTime\": 1707638495.1916916, \"Dimensions\": {\"Algorithm\": \"Linear Learner\", \"Host\": \"algo-1\", \"Operation\": \"training\", \"epoch\": 4, \"model\": 23}, \"Metrics\": {\"train_binary_classification_cross_entropy_objective\": {\"sum\": 0.5103492831542222, \"count\": 1, \"min\": 0.5103492831542222, \"max\": 0.5103492831542222}}}\u001B[0m\n",
      "\u001B[34m#metrics {\"StartTime\": 1707638495.1917348, \"EndTime\": 1707638495.1917467, \"Dimensions\": {\"Algorithm\": \"Linear Learner\", \"Host\": \"algo-1\", \"Operation\": \"training\", \"epoch\": 4, \"model\": 24}, \"Metrics\": {\"train_binary_classification_cross_entropy_objective\": {\"sum\": 0.5137660644484587, \"count\": 1, \"min\": 0.5137660644484587, \"max\": 0.5137660644484587}}}\u001B[0m\n",
      "\u001B[34m#metrics {\"StartTime\": 1707638495.1917863, \"EndTime\": 1707638495.1917996, \"Dimensions\": {\"Algorithm\": \"Linear Learner\", \"Host\": \"algo-1\", \"Operation\": \"training\", \"epoch\": 4, \"model\": 25}, \"Metrics\": {\"train_binary_classification_cross_entropy_objective\": {\"sum\": 0.5138557103008305, \"count\": 1, \"min\": 0.5138557103008305, \"max\": 0.5138557103008305}}}\u001B[0m\n",
      "\u001B[34m#metrics {\"StartTime\": 1707638495.191838, \"EndTime\": 1707638495.191851, \"Dimensions\": {\"Algorithm\": \"Linear Learner\", \"Host\": \"algo-1\", \"Operation\": \"training\", \"epoch\": 4, \"model\": 26}, \"Metrics\": {\"train_binary_classification_cross_entropy_objective\": {\"sum\": 0.5137694171590542, \"count\": 1, \"min\": 0.5137694171590542, \"max\": 0.5137694171590542}}}\u001B[0m\n",
      "\u001B[34m#metrics {\"StartTime\": 1707638495.191889, \"EndTime\": 1707638495.1919012, \"Dimensions\": {\"Algorithm\": \"Linear Learner\", \"Host\": \"algo-1\", \"Operation\": \"training\", \"epoch\": 4, \"model\": 27}, \"Metrics\": {\"train_binary_classification_cross_entropy_objective\": {\"sum\": 0.5138550648587195, \"count\": 1, \"min\": 0.5138550648587195, \"max\": 0.5138550648587195}}}\u001B[0m\n",
      "\u001B[34m#metrics {\"StartTime\": 1707638495.1919463, \"EndTime\": 1707638495.1919599, \"Dimensions\": {\"Algorithm\": \"Linear Learner\", \"Host\": \"algo-1\", \"Operation\": \"training\", \"epoch\": 4, \"model\": 28}, \"Metrics\": {\"train_binary_classification_cross_entropy_objective\": {\"sum\": 0.5137749644988173, \"count\": 1, \"min\": 0.5137749644988173, \"max\": 0.5137749644988173}}}\u001B[0m\n",
      "\u001B[34m#metrics {\"StartTime\": 1707638495.1919937, \"EndTime\": 1707638495.1920054, \"Dimensions\": {\"Algorithm\": \"Linear Learner\", \"Host\": \"algo-1\", \"Operation\": \"training\", \"epoch\": 4, \"model\": 29}, \"Metrics\": {\"train_binary_classification_cross_entropy_objective\": {\"sum\": 0.5147167072121156, \"count\": 1, \"min\": 0.5147167072121156, \"max\": 0.5147167072121156}}}\u001B[0m\n",
      "\u001B[34m#metrics {\"StartTime\": 1707638495.192045, \"EndTime\": 1707638495.1920578, \"Dimensions\": {\"Algorithm\": \"Linear Learner\", \"Host\": \"algo-1\", \"Operation\": \"training\", \"epoch\": 4, \"model\": 30}, \"Metrics\": {\"train_binary_classification_cross_entropy_objective\": {\"sum\": 0.513775053205111, \"count\": 1, \"min\": 0.513775053205111, \"max\": 0.513775053205111}}}\u001B[0m\n",
      "\u001B[34m#metrics {\"StartTime\": 1707638495.192098, \"EndTime\": 1707638495.1921084, \"Dimensions\": {\"Algorithm\": \"Linear Learner\", \"Host\": \"algo-1\", \"Operation\": \"training\", \"epoch\": 4, \"model\": 31}, \"Metrics\": {\"train_binary_classification_cross_entropy_objective\": {\"sum\": 0.5147167056255749, \"count\": 1, \"min\": 0.5147167056255749, \"max\": 0.5147167056255749}}}\u001B[0m\n",
      "\u001B[34m[02/11/2024 08:01:35 INFO 140298564925248] #quality_metric: host=algo-1, epoch=4, train binary_classification_cross_entropy_objective <loss>=0.49188387401242506\u001B[0m\n",
      "\u001B[34m[2024-02-11 08:01:38.476] [tensorio] [info] epoch_stats={\"data_pipeline\": \"/opt/ml/input/data/validation\", \"epoch\": 14, \"duration\": 3267, \"num_examples\": 164, \"num_bytes\": 68694780}\u001B[0m\n",
      "\u001B[34m#metrics {\"StartTime\": 1707638498.4828477, \"EndTime\": 1707638498.482908, \"Dimensions\": {\"Algorithm\": \"Linear Learner\", \"Host\": \"algo-1\", \"Operation\": \"training\", \"epoch\": 4, \"model\": 0}, \"Metrics\": {\"validation_binary_classification_cross_entropy_objective\": {\"sum\": 0.49208357801779, \"count\": 1, \"min\": 0.49208357801779, \"max\": 0.49208357801779}}}\u001B[0m\n",
      "\u001B[34m#metrics {\"StartTime\": 1707638498.4829865, \"EndTime\": 1707638498.482999, \"Dimensions\": {\"Algorithm\": \"Linear Learner\", \"Host\": \"algo-1\", \"Operation\": \"training\", \"epoch\": 4, \"model\": 1}, \"Metrics\": {\"validation_binary_classification_cross_entropy_objective\": {\"sum\": 0.49349892014729296, \"count\": 1, \"min\": 0.49349892014729296, \"max\": 0.49349892014729296}}}\u001B[0m\n",
      "\u001B[34m#metrics {\"StartTime\": 1707638498.4830844, \"EndTime\": 1707638498.4830983, \"Dimensions\": {\"Algorithm\": \"Linear Learner\", \"Host\": \"algo-1\", \"Operation\": \"training\", \"epoch\": 4, \"model\": 2}, \"Metrics\": {\"validation_binary_classification_cross_entropy_objective\": {\"sum\": 0.4921082471040171, \"count\": 1, \"min\": 0.4921082471040171, \"max\": 0.4921082471040171}}}\u001B[0m\n",
      "\u001B[34m#metrics {\"StartTime\": 1707638498.483133, \"EndTime\": 1707638498.4831455, \"Dimensions\": {\"Algorithm\": \"Linear Learner\", \"Host\": \"algo-1\", \"Operation\": \"training\", \"epoch\": 4, \"model\": 3}, \"Metrics\": {\"validation_binary_classification_cross_entropy_objective\": {\"sum\": 0.49349881267460727, \"count\": 1, \"min\": 0.49349881267460727, \"max\": 0.49349881267460727}}}\u001B[0m\n",
      "\u001B[34m#metrics {\"StartTime\": 1707638498.4831874, \"EndTime\": 1707638498.4831991, \"Dimensions\": {\"Algorithm\": \"Linear Learner\", \"Host\": \"algo-1\", \"Operation\": \"training\", \"epoch\": 4, \"model\": 4}, \"Metrics\": {\"validation_binary_classification_cross_entropy_objective\": {\"sum\": 0.492108548064854, \"count\": 1, \"min\": 0.492108548064854, \"max\": 0.492108548064854}}}\u001B[0m\n",
      "\u001B[34m#metrics {\"StartTime\": 1707638498.4832454, \"EndTime\": 1707638498.4832568, \"Dimensions\": {\"Algorithm\": \"Linear Learner\", \"Host\": \"algo-1\", \"Operation\": \"training\", \"epoch\": 4, \"model\": 5}, \"Metrics\": {\"validation_binary_classification_cross_entropy_objective\": {\"sum\": 0.5092032180101461, \"count\": 1, \"min\": 0.5092032180101461, \"max\": 0.5092032180101461}}}\u001B[0m\n",
      "\u001B[34m#metrics {\"StartTime\": 1707638498.4832978, \"EndTime\": 1707638498.4833102, \"Dimensions\": {\"Algorithm\": \"Linear Learner\", \"Host\": \"algo-1\", \"Operation\": \"training\", \"epoch\": 4, \"model\": 6}, \"Metrics\": {\"validation_binary_classification_cross_entropy_objective\": {\"sum\": 0.492108556274573, \"count\": 1, \"min\": 0.492108556274573, \"max\": 0.492108556274573}}}\u001B[0m\n",
      "\u001B[34m#metrics {\"StartTime\": 1707638498.4833524, \"EndTime\": 1707638498.4833643, \"Dimensions\": {\"Algorithm\": \"Linear Learner\", \"Host\": \"algo-1\", \"Operation\": \"training\", \"epoch\": 4, \"model\": 7}, \"Metrics\": {\"validation_binary_classification_cross_entropy_objective\": {\"sum\": 0.5091974900518506, \"count\": 1, \"min\": 0.5091974900518506, \"max\": 0.5091974900518506}}}\u001B[0m\n",
      "\u001B[34m#metrics {\"StartTime\": 1707638498.4834096, \"EndTime\": 1707638498.4834187, \"Dimensions\": {\"Algorithm\": \"Linear Learner\", \"Host\": \"algo-1\", \"Operation\": \"training\", \"epoch\": 4, \"model\": 8}, \"Metrics\": {\"validation_binary_classification_cross_entropy_objective\": {\"sum\": 0.4922597322801066, \"count\": 1, \"min\": 0.4922597322801066, \"max\": 0.4922597322801066}}}\u001B[0m\n",
      "\u001B[34m#metrics {\"StartTime\": 1707638498.483444, \"EndTime\": 1707638498.4834533, \"Dimensions\": {\"Algorithm\": \"Linear Learner\", \"Host\": \"algo-1\", \"Operation\": \"training\", \"epoch\": 4, \"model\": 9}, \"Metrics\": {\"validation_binary_classification_cross_entropy_objective\": {\"sum\": 0.49354481527552985, \"count\": 1, \"min\": 0.49354481527552985, \"max\": 0.49354481527552985}}}\u001B[0m\n",
      "\u001B[34m#metrics {\"StartTime\": 1707638498.4834926, \"EndTime\": 1707638498.483504, \"Dimensions\": {\"Algorithm\": \"Linear Learner\", \"Host\": \"algo-1\", \"Operation\": \"training\", \"epoch\": 4, \"model\": 10}, \"Metrics\": {\"validation_binary_classification_cross_entropy_objective\": {\"sum\": 0.49227783452401924, \"count\": 1, \"min\": 0.49227783452401924, \"max\": 0.49227783452401924}}}\u001B[0m\n",
      "\u001B[34m#metrics {\"StartTime\": 1707638498.4835422, \"EndTime\": 1707638498.4835627, \"Dimensions\": {\"Algorithm\": \"Linear Learner\", \"Host\": \"algo-1\", \"Operation\": \"training\", \"epoch\": 4, \"model\": 11}, \"Metrics\": {\"validation_binary_classification_cross_entropy_objective\": {\"sum\": 0.4935448147157763, \"count\": 1, \"min\": 0.4935448147157763, \"max\": 0.4935448147157763}}}\u001B[0m\n",
      "\u001B[34m#metrics {\"StartTime\": 1707638498.4836032, \"EndTime\": 1707638498.4836116, \"Dimensions\": {\"Algorithm\": \"Linear Learner\", \"Host\": \"algo-1\", \"Operation\": \"training\", \"epoch\": 4, \"model\": 12}, \"Metrics\": {\"validation_binary_classification_cross_entropy_objective\": {\"sum\": 0.4922956990592486, \"count\": 1, \"min\": 0.4922956990592486, \"max\": 0.4922956990592486}}}\u001B[0m\n",
      "\u001B[34m#metrics {\"StartTime\": 1707638498.4836404, \"EndTime\": 1707638498.4836519, \"Dimensions\": {\"Algorithm\": \"Linear Learner\", \"Host\": \"algo-1\", \"Operation\": \"training\", \"epoch\": 4, \"model\": 13}, \"Metrics\": {\"validation_binary_classification_cross_entropy_objective\": {\"sum\": 0.5075793206560185, \"count\": 1, \"min\": 0.5075793206560185, \"max\": 0.5075793206560185}}}\u001B[0m\n",
      "\u001B[34m#metrics {\"StartTime\": 1707638498.4836907, \"EndTime\": 1707638498.4837017, \"Dimensions\": {\"Algorithm\": \"Linear Learner\", \"Host\": \"algo-1\", \"Operation\": \"training\", \"epoch\": 4, \"model\": 14}, \"Metrics\": {\"validation_binary_classification_cross_entropy_objective\": {\"sum\": 0.49229569812632595, \"count\": 1, \"min\": 0.49229569812632595, \"max\": 0.49229569812632595}}}\u001B[0m\n",
      "\u001B[34m#metrics {\"StartTime\": 1707638498.4837427, \"EndTime\": 1707638498.4837506, \"Dimensions\": {\"Algorithm\": \"Linear Learner\", \"Host\": \"algo-1\", \"Operation\": \"training\", \"epoch\": 4, \"model\": 15}, \"Metrics\": {\"validation_binary_classification_cross_entropy_objective\": {\"sum\": 0.5075793068487637, \"count\": 1, \"min\": 0.5075793068487637, \"max\": 0.5075793068487637}}}\u001B[0m\n",
      "\u001B[34m#metrics {\"StartTime\": 1707638498.4837842, \"EndTime\": 1707638498.483791, \"Dimensions\": {\"Algorithm\": \"Linear Learner\", \"Host\": \"algo-1\", \"Operation\": \"training\", \"epoch\": 4, \"model\": 16}, \"Metrics\": {\"validation_binary_classification_cross_entropy_objective\": {\"sum\": 0.5077968168244381, \"count\": 1, \"min\": 0.5077968168244381, \"max\": 0.5077968168244381}}}\u001B[0m\n",
      "\u001B[34m#metrics {\"StartTime\": 1707638498.4838195, \"EndTime\": 1707638498.4838305, \"Dimensions\": {\"Algorithm\": \"Linear Learner\", \"Host\": \"algo-1\", \"Operation\": \"training\", \"epoch\": 4, \"model\": 17}, \"Metrics\": {\"validation_binary_classification_cross_entropy_objective\": {\"sum\": 0.5078830875375294, \"count\": 1, \"min\": 0.5078830875375294, \"max\": 0.5078830875375294}}}\u001B[0m\n",
      "\u001B[34m#metrics {\"StartTime\": 1707638498.4838746, \"EndTime\": 1707638498.483886, \"Dimensions\": {\"Algorithm\": \"Linear Learner\", \"Host\": \"algo-1\", \"Operation\": \"training\", \"epoch\": 4, \"model\": 18}, \"Metrics\": {\"validation_binary_classification_cross_entropy_objective\": {\"sum\": 0.5077391853430709, \"count\": 1, \"min\": 0.5077391853430709, \"max\": 0.5077391853430709}}}\u001B[0m\n",
      "\u001B[34m#metrics {\"StartTime\": 1707638498.4839325, \"EndTime\": 1707638498.483944, \"Dimensions\": {\"Algorithm\": \"Linear Learner\", \"Host\": \"algo-1\", \"Operation\": \"training\", \"epoch\": 4, \"model\": 19}, \"Metrics\": {\"validation_binary_classification_cross_entropy_objective\": {\"sum\": 0.5078831015313687, \"count\": 1, \"min\": 0.5078831015313687, \"max\": 0.5078831015313687}}}\u001B[0m\n",
      "\u001B[34m#metrics {\"StartTime\": 1707638498.4839857, \"EndTime\": 1707638498.4839964, \"Dimensions\": {\"Algorithm\": \"Linear Learner\", \"Host\": \"algo-1\", \"Operation\": \"training\", \"epoch\": 4, \"model\": 20}, \"Metrics\": {\"validation_binary_classification_cross_entropy_objective\": {\"sum\": 0.5077221550272474, \"count\": 1, \"min\": 0.5077221550272474, \"max\": 0.5077221550272474}}}\u001B[0m\n",
      "\u001B[34m#metrics {\"StartTime\": 1707638498.4840384, \"EndTime\": 1707638498.4840512, \"Dimensions\": {\"Algorithm\": \"Linear Learner\", \"Host\": \"algo-1\", \"Operation\": \"training\", \"epoch\": 4, \"model\": 21}, \"Metrics\": {\"validation_binary_classification_cross_entropy_objective\": {\"sum\": 0.5111650647171256, \"count\": 1, \"min\": 0.5111650647171256, \"max\": 0.5111650647171256}}}\u001B[0m\n",
      "\u001B[34m#metrics {\"StartTime\": 1707638498.4840772, \"EndTime\": 1707638498.4840841, \"Dimensions\": {\"Algorithm\": \"Linear Learner\", \"Host\": \"algo-1\", \"Operation\": \"training\", \"epoch\": 4, \"model\": 22}, \"Metrics\": {\"validation_binary_classification_cross_entropy_objective\": {\"sum\": 0.5077221511089725, \"count\": 1, \"min\": 0.5077221511089725, \"max\": 0.5077221511089725}}}\u001B[0m\n",
      "\u001B[34m#metrics {\"StartTime\": 1707638498.4841278, \"EndTime\": 1707638498.484136, \"Dimensions\": {\"Algorithm\": \"Linear Learner\", \"Host\": \"algo-1\", \"Operation\": \"training\", \"epoch\": 4, \"model\": 23}, \"Metrics\": {\"validation_binary_classification_cross_entropy_objective\": {\"sum\": 0.5111650544549768, \"count\": 1, \"min\": 0.5111650544549768, \"max\": 0.5111650544549768}}}\u001B[0m\n",
      "\u001B[34m#metrics {\"StartTime\": 1707638498.4841666, \"EndTime\": 1707638498.484174, \"Dimensions\": {\"Algorithm\": \"Linear Learner\", \"Host\": \"algo-1\", \"Operation\": \"training\", \"epoch\": 4, \"model\": 24}, \"Metrics\": {\"validation_binary_classification_cross_entropy_objective\": {\"sum\": 0.5137567614425094, \"count\": 1, \"min\": 0.5137567614425094, \"max\": 0.5137567614425094}}}\u001B[0m\n",
      "\u001B[34m#metrics {\"StartTime\": 1707638498.4842038, \"EndTime\": 1707638498.484215, \"Dimensions\": {\"Algorithm\": \"Linear Learner\", \"Host\": \"algo-1\", \"Operation\": \"training\", \"epoch\": 4, \"model\": 25}, \"Metrics\": {\"validation_binary_classification_cross_entropy_objective\": {\"sum\": 0.5142838127175366, \"count\": 1, \"min\": 0.5142838127175366, \"max\": 0.5142838127175366}}}\u001B[0m\n",
      "\u001B[34m#metrics {\"StartTime\": 1707638498.4842575, \"EndTime\": 1707638498.4842684, \"Dimensions\": {\"Algorithm\": \"Linear Learner\", \"Host\": \"algo-1\", \"Operation\": \"training\", \"epoch\": 4, \"model\": 26}, \"Metrics\": {\"validation_binary_classification_cross_entropy_objective\": {\"sum\": 0.513762800064037, \"count\": 1, \"min\": 0.513762800064037, \"max\": 0.513762800064037}}}\u001B[0m\n",
      "\u001B[34m#metrics {\"StartTime\": 1707638498.48431, \"EndTime\": 1707638498.4843235, \"Dimensions\": {\"Algorithm\": \"Linear Learner\", \"Host\": \"algo-1\", \"Operation\": \"training\", \"epoch\": 4, \"model\": 27}, \"Metrics\": {\"validation_binary_classification_cross_entropy_objective\": {\"sum\": 0.514286993610498, \"count\": 1, \"min\": 0.514286993610498, \"max\": 0.514286993610498}}}\u001B[0m\n",
      "\u001B[34m#metrics {\"StartTime\": 1707638498.4843683, \"EndTime\": 1707638498.4843817, \"Dimensions\": {\"Algorithm\": \"Linear Learner\", \"Host\": \"algo-1\", \"Operation\": \"training\", \"epoch\": 4, \"model\": 28}, \"Metrics\": {\"validation_binary_classification_cross_entropy_objective\": {\"sum\": 0.5137632732423894, \"count\": 1, \"min\": 0.5137632732423894, \"max\": 0.5137632732423894}}}\u001B[0m\n",
      "\u001B[34m#metrics {\"StartTime\": 1707638498.4844232, \"EndTime\": 1707638498.4844365, \"Dimensions\": {\"Algorithm\": \"Linear Learner\", \"Host\": \"algo-1\", \"Operation\": \"training\", \"epoch\": 4, \"model\": 29}, \"Metrics\": {\"validation_binary_classification_cross_entropy_objective\": {\"sum\": 0.5139763221686846, \"count\": 1, \"min\": 0.5139763221686846, \"max\": 0.5139763221686846}}}\u001B[0m\n",
      "\u001B[34m#metrics {\"StartTime\": 1707638498.4844716, \"EndTime\": 1707638498.4844847, \"Dimensions\": {\"Algorithm\": \"Linear Learner\", \"Host\": \"algo-1\", \"Operation\": \"training\", \"epoch\": 4, \"model\": 30}, \"Metrics\": {\"validation_binary_classification_cross_entropy_objective\": {\"sum\": 0.5137606963235314, \"count\": 1, \"min\": 0.5137606963235314, \"max\": 0.5137606963235314}}}\u001B[0m\n",
      "\u001B[34m#metrics {\"StartTime\": 1707638498.4845295, \"EndTime\": 1707638498.4845433, \"Dimensions\": {\"Algorithm\": \"Linear Learner\", \"Host\": \"algo-1\", \"Operation\": \"training\", \"epoch\": 4, \"model\": 31}, \"Metrics\": {\"validation_binary_classification_cross_entropy_objective\": {\"sum\": 0.5139763186235787, \"count\": 1, \"min\": 0.5139763186235787, \"max\": 0.5139763186235787}}}\u001B[0m\n",
      "\u001B[34m[02/11/2024 08:01:38 INFO 140298564925248] #quality_metric: host=algo-1, epoch=4, validation binary_classification_cross_entropy_objective <loss>=0.49208357801779\u001B[0m\n",
      "\u001B[34m[02/11/2024 08:01:38 INFO 140298564925248] #early_stopping_criteria_metric: host=algo-1, epoch=4, criteria=binary_classification_cross_entropy_objective, value=0.49208357801779\u001B[0m\n",
      "\u001B[34m[02/11/2024 08:01:38 INFO 140298564925248] Saving model for epoch: 4\u001B[0m\n",
      "\u001B[34m[02/11/2024 08:01:38 INFO 140298564925248] Saved checkpoint to \"/tmp/tmprstyotao/mx-mod-0000.params\"\u001B[0m\n",
      "\u001B[34m[02/11/2024 08:01:38 INFO 140298564925248] Early stop condition met. Stopping training.\u001B[0m\n",
      "\u001B[34m[02/11/2024 08:01:38 INFO 140298564925248] #progress_metric: host=algo-1, completed 100 % epochs\u001B[0m\n",
      "\u001B[34m#metrics {\"StartTime\": 1707638459.0909514, \"EndTime\": 1707638498.490702, \"Dimensions\": {\"Algorithm\": \"Linear Learner\", \"Host\": \"algo-1\", \"Operation\": \"training\", \"epoch\": 4, \"Meta\": \"training_data_iter\"}, \"Metrics\": {\"Total Records Seen\": {\"sum\": 6554360.0, \"count\": 1, \"min\": 6554360, \"max\": 6554360}, \"Total Batches Seen\": {\"sum\": 6557.0, \"count\": 1, \"min\": 6557, \"max\": 6557}, \"Max Records Seen Between Resets\": {\"sum\": 1308472.0, \"count\": 1, \"min\": 1308472, \"max\": 1308472}, \"Max Batches Seen Between Resets\": {\"sum\": 1309.0, \"count\": 1, \"min\": 1309, \"max\": 1309}, \"Reset Count\": {\"sum\": 7.0, \"count\": 1, \"min\": 7, \"max\": 7}, \"Number of Records Since Last Reset\": {\"sum\": 1308472.0, \"count\": 1, \"min\": 1308472, \"max\": 1308472}, \"Number of Batches Since Last Reset\": {\"sum\": 1309.0, \"count\": 1, \"min\": 1309, \"max\": 1309}}}\u001B[0m\n",
      "\u001B[34m[02/11/2024 08:01:38 INFO 140298564925248] #throughput_metric: host=algo-1, train throughput=33209.983321622974 records/second\u001B[0m\n",
      "\u001B[34m[02/11/2024 08:01:38 WARNING 140298564925248] wait_for_all_workers will not sync workers since the kv store is not running distributed\u001B[0m\n",
      "\u001B[34m[02/11/2024 08:01:38 WARNING 140298564925248] wait_for_all_workers will not sync workers since the kv store is not running distributed\u001B[0m\n",
      "\u001B[34m[2024-02-11 08:01:41.502] [tensorio] [info] epoch_stats={\"data_pipeline\": \"/opt/ml/input/data/validation\", \"epoch\": 17, \"duration\": 2996, \"num_examples\": 164, \"num_bytes\": 68694780}\u001B[0m\n",
      "\u001B[34m[02/11/2024 08:01:41 INFO 140298564925248] #early_stopping_criteria_metric: host=algo-1, epoch=4, criteria=binary_classification_cross_entropy_objective, value=0.49208357801779\u001B[0m\n",
      "\u001B[34m[2024-02-11 08:01:42.038] [tensorio] [info] epoch_stats={\"data_pipeline\": \"/opt/ml/input/data/validation\", \"epoch\": 19, \"duration\": 525, \"num_examples\": 164, \"num_bytes\": 68694780}\u001B[0m\n",
      "\u001B[34m[02/11/2024 08:01:42 INFO 140298564925248] #validation_score (algo-1) : ('binary_classification_cross_entropy_objective', 0.4925413148214936)\u001B[0m\n",
      "\u001B[34m[02/11/2024 08:01:42 INFO 140298564925248] #validation_score (algo-1) : ('binary_classification_accuracy', 0.7901613485042095)\u001B[0m\n",
      "\u001B[34m[02/11/2024 08:01:42 INFO 140298564925248] #validation_score (algo-1) : ('binary_f_1.000', 0.010380323520083043)\u001B[0m\n",
      "\u001B[34m[02/11/2024 08:01:42 INFO 140298564925248] #validation_score (algo-1) : ('precision', 0.5172413793103449)\u001B[0m\n",
      "\u001B[34m[02/11/2024 08:01:42 INFO 140298564925248] #validation_score (algo-1) : ('recall', 0.005242769347275216)\u001B[0m\n",
      "\u001B[34m[02/11/2024 08:01:42 INFO 140298564925248] #validation_score (algo-1) : ('roc_auc_score', 0.643346914252906)\u001B[0m\n",
      "\u001B[34m[02/11/2024 08:01:42 INFO 140298564925248] #validation_score (algo-1) : ('binary_balanced_accuracy', 0.5)\u001B[0m\n",
      "\u001B[34m[02/11/2024 08:01:42 INFO 140298564925248] #validation_score (algo-1) : ('binary_log_loss', 0.7531823417358351)\u001B[0m\n",
      "\u001B[34m[02/11/2024 08:01:42 INFO 140298564925248] #quality_metric: host=algo-1, validation binary_classification_cross_entropy_objective <loss>=0.4925413148214936\u001B[0m\n",
      "\u001B[34m[02/11/2024 08:01:42 INFO 140298564925248] #quality_metric: host=algo-1, validation binary_classification_accuracy <score>=0.7901613485042095\u001B[0m\n",
      "\u001B[34m[02/11/2024 08:01:42 INFO 140298564925248] #quality_metric: host=algo-1, validation binary_f_1.000 <score>=0.010380323520083043\u001B[0m\n",
      "\u001B[34m[02/11/2024 08:01:42 INFO 140298564925248] #quality_metric: host=algo-1, validation precision <score>=0.5172413793103449\u001B[0m\n",
      "\u001B[34m[02/11/2024 08:01:42 INFO 140298564925248] #quality_metric: host=algo-1, validation recall <score>=0.005242769347275216\u001B[0m\n",
      "\u001B[34m[02/11/2024 08:01:42 INFO 140298564925248] #quality_metric: host=algo-1, validation roc_auc_score <score>=0.643346914252906\u001B[0m\n",
      "\u001B[34m[02/11/2024 08:01:42 INFO 140298564925248] #quality_metric: host=algo-1, validation binary_balanced_accuracy <score>=0.5\u001B[0m\n",
      "\u001B[34m[02/11/2024 08:01:42 INFO 140298564925248] #quality_metric: host=algo-1, validation binary_log_loss <score>=0.7531823417358351\u001B[0m\n",
      "\u001B[34m[02/11/2024 08:01:42 INFO 140298564925248] Best model found for hyperparameters: {\"optimizer\": \"adam\", \"learning_rate\": 0.005, \"l1\": 0.0, \"wd\": 0.0001, \"lr_scheduler_step\": 10, \"lr_scheduler_factor\": 0.99, \"lr_scheduler_minimum_lr\": 1e-05}\u001B[0m\n",
      "\u001B[34m[02/11/2024 08:01:42 INFO 140298564925248] Saved checkpoint to \"/tmp/tmpgcwv4qiy/mx-mod-0000.params\"\u001B[0m\n",
      "\u001B[34m[2024-02-11 08:01:42.349] [tensorio] [info] epoch_stats={\"data_pipeline\": \"/opt/ml/input/data/test\", \"epoch\": 0, \"duration\": 200515, \"num_examples\": 1, \"num_bytes\": 420000}\u001B[0m\n",
      "\u001B[34m[2024-02-11 08:01:42.964] [tensorio] [info] epoch_stats={\"data_pipeline\": \"/opt/ml/input/data/test\", \"epoch\": 1, \"duration\": 615, \"num_examples\": 164, \"num_bytes\": 68694780}\u001B[0m\n",
      "\u001B[34m#metrics {\"StartTime\": 1707638502.3454814, \"EndTime\": 1707638503.2531686, \"Dimensions\": {\"Algorithm\": \"Linear Learner\", \"Host\": \"algo-1\", \"Operation\": \"training\", \"Meta\": \"test_data_iter\"}, \"Metrics\": {\"Total Records Seen\": {\"sum\": 163559.0, \"count\": 1, \"min\": 163559, \"max\": 163559}, \"Total Batches Seen\": {\"sum\": 164.0, \"count\": 1, \"min\": 164, \"max\": 164}, \"Max Records Seen Between Resets\": {\"sum\": 163559.0, \"count\": 1, \"min\": 163559, \"max\": 163559}, \"Max Batches Seen Between Resets\": {\"sum\": 164.0, \"count\": 1, \"min\": 164, \"max\": 164}, \"Reset Count\": {\"sum\": 1.0, \"count\": 1, \"min\": 1, \"max\": 1}, \"Number of Records Since Last Reset\": {\"sum\": 163559.0, \"count\": 1, \"min\": 163559, \"max\": 163559}, \"Number of Batches Since Last Reset\": {\"sum\": 164.0, \"count\": 1, \"min\": 164, \"max\": 164}}}\u001B[0m\n",
      "\u001B[34m[02/11/2024 08:01:43 INFO 140298564925248] #test_score (algo-1) : ('binary_classification_cross_entropy_objective', 0.49305779682958684)\u001B[0m\n",
      "\u001B[34m[02/11/2024 08:01:43 INFO 140298564925248] #test_score (algo-1) : ('binary_classification_accuracy', 0.7900084984623286)\u001B[0m\n",
      "\u001B[34m[02/11/2024 08:01:43 INFO 140298564925248] #test_score (algo-1) : ('binary_f_1.000', 0.009516668589225978)\u001B[0m\n",
      "\u001B[34m[02/11/2024 08:01:43 INFO 140298564925248] #test_score (algo-1) : ('precision', 0.48104956268221577)\u001B[0m\n",
      "\u001B[34m[02/11/2024 08:01:43 INFO 140298564925248] #test_score (algo-1) : ('recall', 0.0048058719016689485)\u001B[0m\n",
      "\u001B[34m[02/11/2024 08:01:43 INFO 140298564925248] #test_score (algo-1) : ('roc_auc_score', 0.6416209826055548)\u001B[0m\n",
      "\u001B[34m[02/11/2024 08:01:43 INFO 140298564925248] #test_score (algo-1) : ('binary_balanced_accuracy', 0.5)\u001B[0m\n",
      "\u001B[34m[02/11/2024 08:01:43 INFO 140298564925248] #test_score (algo-1) : ('binary_log_loss', 0.7531648092971245)\u001B[0m\n",
      "\u001B[34m[02/11/2024 08:01:43 INFO 140298564925248] #quality_metric: host=algo-1, test binary_classification_cross_entropy_objective <loss>=0.49305779682958684\u001B[0m\n",
      "\u001B[34m[02/11/2024 08:01:43 INFO 140298564925248] #quality_metric: host=algo-1, test binary_classification_accuracy <score>=0.7900084984623286\u001B[0m\n",
      "\u001B[34m[02/11/2024 08:01:43 INFO 140298564925248] #quality_metric: host=algo-1, test binary_f_1.000 <score>=0.009516668589225978\u001B[0m\n",
      "\u001B[34m[02/11/2024 08:01:43 INFO 140298564925248] #quality_metric: host=algo-1, test precision <score>=0.48104956268221577\u001B[0m\n",
      "\u001B[34m[02/11/2024 08:01:43 INFO 140298564925248] #quality_metric: host=algo-1, test recall <score>=0.0048058719016689485\u001B[0m\n",
      "\u001B[34m[02/11/2024 08:01:43 INFO 140298564925248] #quality_metric: host=algo-1, test roc_auc_score <score>=0.6416209826055548\u001B[0m\n",
      "\u001B[34m[02/11/2024 08:01:43 INFO 140298564925248] #quality_metric: host=algo-1, test binary_balanced_accuracy <score>=0.5\u001B[0m\n",
      "\u001B[34m[02/11/2024 08:01:43 INFO 140298564925248] #quality_metric: host=algo-1, test binary_log_loss <score>=0.7531648092971245\u001B[0m\n",
      "\u001B[34m#metrics {\"StartTime\": 1707638301.8235822, \"EndTime\": 1707638503.2615008, \"Dimensions\": {\"Algorithm\": \"Linear Learner\", \"Host\": \"algo-1\", \"Operation\": \"training\"}, \"Metrics\": {\"initialize.time\": {\"sum\": 322.77536392211914, \"count\": 1, \"min\": 322.77536392211914, \"max\": 322.77536392211914}, \"epochs\": {\"sum\": 15.0, \"count\": 1, \"min\": 15, \"max\": 15}, \"check_early_stopping.time\": {\"sum\": 2.0411014556884766, \"count\": 6, \"min\": 0.22077560424804688, \"max\": 0.7762908935546875}, \"update.time\": {\"sum\": 196272.14741706848, \"count\": 5, \"min\": 38801.735162734985, \"max\": 39929.37159538269}, \"finalize.time\": {\"sum\": 3851.3941764831543, \"count\": 1, \"min\": 3851.3941764831543, \"max\": 3851.3941764831543}, \"setuptime\": {\"sum\": 2.5539398193359375, \"count\": 1, \"min\": 2.5539398193359375, \"max\": 2.5539398193359375}, \"totaltime\": {\"sum\": 201575.3653049469, \"count\": 1, \"min\": 201575.3653049469, \"max\": 201575.3653049469}}}\u001B[0m\n",
      "\n",
      "2024-02-11 08:02:05 Uploading - Uploading generated training model\n",
      "2024-02-11 08:02:05 Completed - Training job completed\n",
      "Training seconds: 363\n",
      "Billable seconds: 363\n"
     ]
    }
   ],
   "source": [
    "### Fit the classifier\n",
    "classifier_estimator.fit([train_records, val_records, test_records])"
   ]
  },
  {
   "cell_type": "markdown",
   "metadata": {},
   "source": [
    "## Model evaluation\n",
    "In this section, you will evaluate your trained model. "
   ]
  },
  {
   "cell_type": "markdown",
   "metadata": {},
   "source": [
    "First, examine the metrics for the training job:"
   ]
  },
  {
   "cell_type": "code",
   "execution_count": 42,
   "metadata": {
    "tags": []
   },
   "outputs": [
    {
     "data": {
      "text/html": [
       "<div>\n",
       "<style scoped>\n",
       "    .dataframe tbody tr th:only-of-type {\n",
       "        vertical-align: middle;\n",
       "    }\n",
       "\n",
       "    .dataframe tbody tr th {\n",
       "        vertical-align: top;\n",
       "    }\n",
       "\n",
       "    .dataframe thead th {\n",
       "        text-align: right;\n",
       "    }\n",
       "</style>\n",
       "<table border=\"1\" class=\"dataframe\">\n",
       "  <thead>\n",
       "    <tr style=\"text-align: right;\">\n",
       "      <th></th>\n",
       "      <th>timestamp</th>\n",
       "      <th>metric_name</th>\n",
       "      <th>value</th>\n",
       "    </tr>\n",
       "  </thead>\n",
       "  <tbody>\n",
       "    <tr>\n",
       "      <th>0</th>\n",
       "      <td>0.0</td>\n",
       "      <td>test:objective_loss</td>\n",
       "      <td>0.491786</td>\n",
       "    </tr>\n",
       "    <tr>\n",
       "      <th>1</th>\n",
       "      <td>0.0</td>\n",
       "      <td>test:binary_f_beta</td>\n",
       "      <td>0.007637</td>\n",
       "    </tr>\n",
       "    <tr>\n",
       "      <th>2</th>\n",
       "      <td>0.0</td>\n",
       "      <td>test:precision</td>\n",
       "      <td>0.556962</td>\n",
       "    </tr>\n",
       "    <tr>\n",
       "      <th>3</th>\n",
       "      <td>0.0</td>\n",
       "      <td>test:recall</td>\n",
       "      <td>0.003845</td>\n",
       "    </tr>\n",
       "  </tbody>\n",
       "</table>\n",
       "</div>"
      ],
      "text/plain": [
       "   timestamp          metric_name     value\n",
       "0        0.0  test:objective_loss  0.491786\n",
       "1        0.0   test:binary_f_beta  0.007637\n",
       "2        0.0       test:precision  0.556962\n",
       "3        0.0          test:recall  0.003845"
      ]
     },
     "execution_count": 42,
     "metadata": {},
     "output_type": "execute_result"
    }
   ],
   "source": [
    "sagemaker.analytics.TrainingJobAnalytics(classifier_estimator._current_job_name, \n",
    "                                         metric_names = ['test:objective_loss', \n",
    "                                                         'test:binary_f_beta',\n",
    "                                                         'test:precision',\n",
    "                                                         'test:recall']\n",
    "                                        ).dataframe()"
   ]
  },
  {
   "cell_type": "markdown",
   "metadata": {},
   "source": [
    "Next, set up some functions that will help load the test data into Amazon S3 and perform a prediction by using the batch prediction function. Using batch prediction will help reduce costs because the instances will only run when predictions are performed on the supplied test data.\n",
    "\n",
    "**Note:** Replace `<LabBucketName>` with the name of the lab bucket that was created during the lab setup."
   ]
  },
  {
   "cell_type": "code",
   "execution_count": 53,
   "metadata": {
    "tags": []
   },
   "outputs": [
    {
     "name": "stderr",
     "output_type": "stream",
     "text": [
      "INFO:botocore.credentials:Found credentials from IAM Role: BaseNotebookInstanceEc2InstanceRole\n"
     ]
    }
   ],
   "source": [
    "import io\n",
    "#bucket='<LabBucketName>'\n",
    "bucket='c108750a2560382l5772790t1w21112558411-flightbucket-emh49o6tjuqh'\n",
    "prefix='flight-linear'\n",
    "train_file='flight_train.csv'\n",
    "test_file='flight_test.csv'\n",
    "validate_file='flight_validate.csv'\n",
    "whole_file='flight.csv'\n",
    "s3_resource = boto3.Session().resource('s3')\n",
    "\n",
    "def upload_s3_csv(filename, folder, dataframe):\n",
    "    csv_buffer = io.StringIO()\n",
    "    dataframe.to_csv(csv_buffer, header=False, index=False )\n",
    "    s3_resource.Bucket(bucket).Object(os.path.join(prefix, folder, filename)).put(Body=csv_buffer.getvalue())"
   ]
  },
  {
   "cell_type": "code",
   "execution_count": 54,
   "metadata": {
    "tags": []
   },
   "outputs": [],
   "source": [
    "def batch_linear_predict(test_data, estimator):\n",
    "    batch_X = test_data.iloc[:,1:];\n",
    "    batch_X_file='batch-in.csv'\n",
    "    upload_s3_csv(batch_X_file, 'batch-in', batch_X)\n",
    "\n",
    "    batch_output = \"s3://{}/{}/batch-out/\".format(bucket,prefix)\n",
    "    batch_input = \"s3://{}/{}/batch-in/{}\".format(bucket,prefix,batch_X_file)\n",
    "\n",
    "    classifier_transformer = estimator.transformer(instance_count=1,\n",
    "                                           instance_type='ml.m4.xlarge',\n",
    "                                           strategy='MultiRecord',\n",
    "                                           assemble_with='Line',\n",
    "                                           output_path=batch_output)\n",
    "\n",
    "    classifier_transformer.transform(data=batch_input,\n",
    "                             data_type='S3Prefix',\n",
    "                             content_type='text/csv',\n",
    "                             split_type='Line')\n",
    "    \n",
    "    classifier_transformer.wait()\n",
    "\n",
    "    s3 = boto3.client('s3')\n",
    "    obj = s3.get_object(Bucket=bucket, Key=\"{}/batch-out/{}\".format(prefix,'batch-in.csv.out'))\n",
    "    target_predicted_df = pd.read_json(io.BytesIO(obj['Body'].read()),orient=\"records\",lines=True)\n",
    "    return test_data.iloc[:,0], target_predicted_df.iloc[:,0]"
   ]
  },
  {
   "cell_type": "markdown",
   "metadata": {},
   "source": [
    "\n",
    "To run the predictions on the test dataset, run the `batch_linear_predict` function (which was defined previously) on your test dataset.\n"
   ]
  },
  {
   "cell_type": "code",
   "execution_count": 55,
   "metadata": {
    "tags": []
   },
   "outputs": [
    {
     "name": "stderr",
     "output_type": "stream",
     "text": [
      "INFO:sagemaker.image_uris:Same images used for training and inference. Defaulting to image scope: inference.\n",
      "INFO:sagemaker.image_uris:Ignoring unnecessary instance type: None.\n",
      "INFO:sagemaker:Creating model with name: linear-learner-2024-02-11-08-05-07-611\n",
      "INFO:sagemaker:Creating transform job with name: linear-learner-2024-02-11-08-05-08-286\n"
     ]
    },
    {
     "name": "stdout",
     "output_type": "stream",
     "text": [
      "...........................................\u001B[34mDocker entrypoint called with argument(s): serve\u001B[0m\n",
      "\u001B[34mRunning default environment configuration script\u001B[0m\n",
      "\u001B[34m[02/11/2024 08:12:17 INFO 139989582374720] Memory profiler is not enabled by the environment variable ENABLE_PROFILER.\u001B[0m\n",
      "\u001B[34m/opt/amazon/lib/python3.8/site-packages/mxnet/model.py:97: SyntaxWarning: \"is\" with a literal. Did you mean \"==\"?\n",
      "  if num_device is 1 and 'dist' not in kvstore:\u001B[0m\n",
      "\u001B[34m/opt/amazon/lib/python3.8/site-packages/scipy/optimize/_shgo.py:495: SyntaxWarning: \"is\" with a literal. Did you mean \"==\"?\n",
      "  if cons['type'] is 'ineq':\u001B[0m\n",
      "\u001B[34m/opt/amazon/lib/python3.8/site-packages/scipy/optimize/_shgo.py:743: SyntaxWarning: \"is not\" with a literal. Did you mean \"!=\"?\n",
      "  if len(self.X_min) is not 0:\u001B[0m\n",
      "\u001B[34m[02/11/2024 08:12:21 WARNING 139989582374720] Loggers have already been setup.\u001B[0m\n",
      "\u001B[34m[02/11/2024 08:12:21 INFO 139989582374720] loaded entry point class algorithm.serve.server_config:config_api\u001B[0m\n",
      "\u001B[34m[02/11/2024 08:12:21 INFO 139989582374720] loading entry points\u001B[0m\n",
      "\u001B[34m[02/11/2024 08:12:21 INFO 139989582374720] loaded request iterator application/json\u001B[0m\n",
      "\u001B[34m[02/11/2024 08:12:21 INFO 139989582374720] loaded request iterator application/jsonlines\u001B[0m\n",
      "\u001B[34m[02/11/2024 08:12:21 INFO 139989582374720] loaded request iterator application/x-recordio-protobuf\u001B[0m\n",
      "\u001B[34m[02/11/2024 08:12:21 INFO 139989582374720] loaded request iterator text/csv\u001B[0m\n",
      "\u001B[34m[02/11/2024 08:12:21 INFO 139989582374720] loaded response encoder application/json\u001B[0m\n",
      "\u001B[34m[02/11/2024 08:12:21 INFO 139989582374720] loaded response encoder application/jsonlines\u001B[0m\n",
      "\u001B[34m[02/11/2024 08:12:21 INFO 139989582374720] loaded response encoder application/x-recordio-protobuf\u001B[0m\n",
      "\u001B[34m[02/11/2024 08:12:21 INFO 139989582374720] loaded response encoder text/csv\u001B[0m\n",
      "\u001B[34m[02/11/2024 08:12:21 INFO 139989582374720] loaded entry point class algorithm:model\u001B[0m\n",
      "\u001B[34m[02/11/2024 08:12:21 INFO 139989582374720] Number of server workers: 4\u001B[0m\n",
      "\u001B[34m[02/11/2024 08:12:21 INFO 139989582374720] loading model...\u001B[0m\n",
      "\u001B[34m[02/11/2024 08:12:21 INFO 139989582374720] ...model loaded.\u001B[0m\n",
      "\u001B[34m[2024-02-11 08:12:21 +0000] [1] [INFO] Starting gunicorn 20.1.0\u001B[0m\n",
      "\u001B[34m[2024-02-11 08:12:21 +0000] [1] [INFO] Listening at: http://0.0.0.0:8080 (1)\u001B[0m\n",
      "\u001B[34m[2024-02-11 08:12:21 +0000] [1] [INFO] Using worker: sync\u001B[0m\n",
      "\u001B[34m[2024-02-11 08:12:22 +0000] [43] [INFO] Booting worker with pid: 43\u001B[0m\n",
      "\u001B[34m[2024-02-11 08:12:22 +0000] [52] [INFO] Booting worker with pid: 52\u001B[0m\n",
      "\u001B[34m[2024-02-11 08:12:22 +0000] [61] [INFO] Booting worker with pid: 61\u001B[0m\n",
      "\u001B[34m[2024-02-11 08:12:22 +0000] [70] [INFO] Booting worker with pid: 70\u001B[0m\n",
      "\u001B[34m#metrics {\"StartTime\": 1707639141.9381287, \"EndTime\": 1707639142.9966757, \"Dimensions\": {\"Algorithm\": \"LinearLearnerModel\", \"Host\": \"UNKNOWN\", \"Operation\": \"scoring\"}, \"Metrics\": {\"execution_parameters.count\": {\"sum\": 1.0, \"count\": 1, \"min\": 1, \"max\": 1}}}\u001B[0m\n",
      "\u001B[34m#metrics {\"StartTime\": 1707639141.9381287, \"EndTime\": 1707639146.0156417, \"Dimensions\": {\"Algorithm\": \"LinearLearnerModel\", \"Host\": \"UNKNOWN\", \"Operation\": \"scoring\"}, \"Metrics\": {\"json.encoder.time\": {\"sum\": 141.33572578430176, \"count\": 1, \"min\": 141.33572578430176, \"max\": 141.33572578430176}, \"invocations.count\": {\"sum\": 1.0, \"count\": 1, \"min\": 1, \"max\": 1}}}\u001B[0m\n",
      "\u001B[34m#metrics {\"StartTime\": 1707639141.9381287, \"EndTime\": 1707639146.086047, \"Dimensions\": {\"Algorithm\": \"LinearLearnerModel\", \"Host\": \"UNKNOWN\", \"Operation\": \"scoring\"}, \"Metrics\": {\"json.encoder.time\": {\"sum\": 135.0712776184082, \"count\": 1, \"min\": 135.0712776184082, \"max\": 135.0712776184082}, \"invocations.count\": {\"sum\": 1.0, \"count\": 1, \"min\": 1, \"max\": 1}}}\u001B[0m\n",
      "\u001B[34m#metrics {\"StartTime\": 1707639141.9381287, \"EndTime\": 1707639146.1331313, \"Dimensions\": {\"Algorithm\": \"LinearLearnerModel\", \"Host\": \"UNKNOWN\", \"Operation\": \"scoring\"}, \"Metrics\": {\"json.encoder.time\": {\"sum\": 128.8161277770996, \"count\": 1, \"min\": 128.8161277770996, \"max\": 128.8161277770996}, \"invocations.count\": {\"sum\": 1.0, \"count\": 1, \"min\": 1, \"max\": 1}}}\u001B[0m\n",
      "\u001B[34m#metrics {\"StartTime\": 1707639142.9968626, \"EndTime\": 1707639146.1340027, \"Dimensions\": {\"Algorithm\": \"LinearLearnerModel\", \"Host\": \"UNKNOWN\", \"Operation\": \"scoring\"}, \"Metrics\": {\"json.encoder.time\": {\"sum\": 128.56149673461914, \"count\": 1, \"min\": 128.56149673461914, \"max\": 128.56149673461914}, \"invocations.count\": {\"sum\": 1.0, \"count\": 1, \"min\": 1, \"max\": 1}}}\u001B[0m\n",
      "\u001B[34m#metrics {\"StartTime\": 1707639146.133393, \"EndTime\": 1707639146.8907278, \"Dimensions\": {\"Algorithm\": \"LinearLearnerModel\", \"Host\": \"UNKNOWN\", \"Operation\": \"scoring\"}, \"Metrics\": {\"json.encoder.time\": {\"sum\": 62.53862380981445, \"count\": 1, \"min\": 62.53862380981445, \"max\": 62.53862380981445}, \"invocations.count\": {\"sum\": 1.0, \"count\": 1, \"min\": 1, \"max\": 1}}}\u001B[0m\n",
      "\u001B[32m2024-02-11T08:12:23.003:[sagemaker logs]: MaxConcurrentTransforms=4, MaxPayloadInMB=6, BatchStrategy=MULTI_RECORD\u001B[0m\n",
      "\n",
      "\u001B[34mDocker entrypoint called with argument(s): serve\u001B[0m\n",
      "\u001B[35mDocker entrypoint called with argument(s): serve\u001B[0m\n",
      "\u001B[34mRunning default environment configuration script\u001B[0m\n",
      "\u001B[34m[02/11/2024 08:12:17 INFO 139989582374720] Memory profiler is not enabled by the environment variable ENABLE_PROFILER.\u001B[0m\n",
      "\u001B[34m/opt/amazon/lib/python3.8/site-packages/mxnet/model.py:97: SyntaxWarning: \"is\" with a literal. Did you mean \"==\"?\n",
      "  if num_device is 1 and 'dist' not in kvstore:\u001B[0m\n",
      "\u001B[34m/opt/amazon/lib/python3.8/site-packages/scipy/optimize/_shgo.py:495: SyntaxWarning: \"is\" with a literal. Did you mean \"==\"?\n",
      "  if cons['type'] is 'ineq':\u001B[0m\n",
      "\u001B[34m/opt/amazon/lib/python3.8/site-packages/scipy/optimize/_shgo.py:743: SyntaxWarning: \"is not\" with a literal. Did you mean \"!=\"?\n",
      "  if len(self.X_min) is not 0:\u001B[0m\n",
      "\u001B[35mRunning default environment configuration script\u001B[0m\n",
      "\u001B[35m[02/11/2024 08:12:17 INFO 139989582374720] Memory profiler is not enabled by the environment variable ENABLE_PROFILER.\u001B[0m\n",
      "\u001B[35m/opt/amazon/lib/python3.8/site-packages/mxnet/model.py:97: SyntaxWarning: \"is\" with a literal. Did you mean \"==\"?\n",
      "  if num_device is 1 and 'dist' not in kvstore:\u001B[0m\n",
      "\u001B[35m/opt/amazon/lib/python3.8/site-packages/scipy/optimize/_shgo.py:495: SyntaxWarning: \"is\" with a literal. Did you mean \"==\"?\n",
      "  if cons['type'] is 'ineq':\u001B[0m\n",
      "\u001B[35m/opt/amazon/lib/python3.8/site-packages/scipy/optimize/_shgo.py:743: SyntaxWarning: \"is not\" with a literal. Did you mean \"!=\"?\n",
      "  if len(self.X_min) is not 0:\u001B[0m\n",
      "\u001B[34m[02/11/2024 08:12:21 WARNING 139989582374720] Loggers have already been setup.\u001B[0m\n",
      "\u001B[35m[02/11/2024 08:12:21 WARNING 139989582374720] Loggers have already been setup.\u001B[0m\n",
      "\u001B[34m[02/11/2024 08:12:21 INFO 139989582374720] loaded entry point class algorithm.serve.server_config:config_api\u001B[0m\n",
      "\u001B[34m[02/11/2024 08:12:21 INFO 139989582374720] loading entry points\u001B[0m\n",
      "\u001B[34m[02/11/2024 08:12:21 INFO 139989582374720] loaded request iterator application/json\u001B[0m\n",
      "\u001B[34m[02/11/2024 08:12:21 INFO 139989582374720] loaded request iterator application/jsonlines\u001B[0m\n",
      "\u001B[34m[02/11/2024 08:12:21 INFO 139989582374720] loaded request iterator application/x-recordio-protobuf\u001B[0m\n",
      "\u001B[34m[02/11/2024 08:12:21 INFO 139989582374720] loaded request iterator text/csv\u001B[0m\n",
      "\u001B[34m[02/11/2024 08:12:21 INFO 139989582374720] loaded response encoder application/json\u001B[0m\n",
      "\u001B[34m[02/11/2024 08:12:21 INFO 139989582374720] loaded response encoder application/jsonlines\u001B[0m\n",
      "\u001B[34m[02/11/2024 08:12:21 INFO 139989582374720] loaded response encoder application/x-recordio-protobuf\u001B[0m\n",
      "\u001B[34m[02/11/2024 08:12:21 INFO 139989582374720] loaded response encoder text/csv\u001B[0m\n",
      "\u001B[34m[02/11/2024 08:12:21 INFO 139989582374720] loaded entry point class algorithm:model\u001B[0m\n",
      "\u001B[34m[02/11/2024 08:12:21 INFO 139989582374720] Number of server workers: 4\u001B[0m\n",
      "\u001B[34m[02/11/2024 08:12:21 INFO 139989582374720] loading model...\u001B[0m\n",
      "\u001B[34m[02/11/2024 08:12:21 INFO 139989582374720] ...model loaded.\u001B[0m\n",
      "\u001B[34m[2024-02-11 08:12:21 +0000] [1] [INFO] Starting gunicorn 20.1.0\u001B[0m\n",
      "\u001B[34m[2024-02-11 08:12:21 +0000] [1] [INFO] Listening at: http://0.0.0.0:8080 (1)\u001B[0m\n",
      "\u001B[34m[2024-02-11 08:12:21 +0000] [1] [INFO] Using worker: sync\u001B[0m\n",
      "\u001B[35m[02/11/2024 08:12:21 INFO 139989582374720] loaded entry point class algorithm.serve.server_config:config_api\u001B[0m\n",
      "\u001B[35m[02/11/2024 08:12:21 INFO 139989582374720] loading entry points\u001B[0m\n",
      "\u001B[35m[02/11/2024 08:12:21 INFO 139989582374720] loaded request iterator application/json\u001B[0m\n",
      "\u001B[35m[02/11/2024 08:12:21 INFO 139989582374720] loaded request iterator application/jsonlines\u001B[0m\n",
      "\u001B[35m[02/11/2024 08:12:21 INFO 139989582374720] loaded request iterator application/x-recordio-protobuf\u001B[0m\n",
      "\u001B[35m[02/11/2024 08:12:21 INFO 139989582374720] loaded request iterator text/csv\u001B[0m\n",
      "\u001B[35m[02/11/2024 08:12:21 INFO 139989582374720] loaded response encoder application/json\u001B[0m\n",
      "\u001B[35m[02/11/2024 08:12:21 INFO 139989582374720] loaded response encoder application/jsonlines\u001B[0m\n",
      "\u001B[35m[02/11/2024 08:12:21 INFO 139989582374720] loaded response encoder application/x-recordio-protobuf\u001B[0m\n",
      "\u001B[35m[02/11/2024 08:12:21 INFO 139989582374720] loaded response encoder text/csv\u001B[0m\n",
      "\u001B[35m[02/11/2024 08:12:21 INFO 139989582374720] loaded entry point class algorithm:model\u001B[0m\n",
      "\u001B[35m[02/11/2024 08:12:21 INFO 139989582374720] Number of server workers: 4\u001B[0m\n",
      "\u001B[35m[02/11/2024 08:12:21 INFO 139989582374720] loading model...\u001B[0m\n",
      "\u001B[35m[02/11/2024 08:12:21 INFO 139989582374720] ...model loaded.\u001B[0m\n",
      "\u001B[35m[2024-02-11 08:12:21 +0000] [1] [INFO] Starting gunicorn 20.1.0\u001B[0m\n",
      "\u001B[35m[2024-02-11 08:12:21 +0000] [1] [INFO] Listening at: http://0.0.0.0:8080 (1)\u001B[0m\n",
      "\u001B[35m[2024-02-11 08:12:21 +0000] [1] [INFO] Using worker: sync\u001B[0m\n",
      "\u001B[34m[2024-02-11 08:12:22 +0000] [43] [INFO] Booting worker with pid: 43\u001B[0m\n",
      "\u001B[34m[2024-02-11 08:12:22 +0000] [52] [INFO] Booting worker with pid: 52\u001B[0m\n",
      "\u001B[34m[2024-02-11 08:12:22 +0000] [61] [INFO] Booting worker with pid: 61\u001B[0m\n",
      "\u001B[34m[2024-02-11 08:12:22 +0000] [70] [INFO] Booting worker with pid: 70\u001B[0m\n",
      "\u001B[35m[2024-02-11 08:12:22 +0000] [43] [INFO] Booting worker with pid: 43\u001B[0m\n",
      "\u001B[35m[2024-02-11 08:12:22 +0000] [52] [INFO] Booting worker with pid: 52\u001B[0m\n",
      "\u001B[35m[2024-02-11 08:12:22 +0000] [61] [INFO] Booting worker with pid: 61\u001B[0m\n",
      "\u001B[35m[2024-02-11 08:12:22 +0000] [70] [INFO] Booting worker with pid: 70\u001B[0m\n",
      "\u001B[34m#metrics {\"StartTime\": 1707639141.9381287, \"EndTime\": 1707639142.9966757, \"Dimensions\": {\"Algorithm\": \"LinearLearnerModel\", \"Host\": \"UNKNOWN\", \"Operation\": \"scoring\"}, \"Metrics\": {\"execution_parameters.count\": {\"sum\": 1.0, \"count\": 1, \"min\": 1, \"max\": 1}}}\u001B[0m\n",
      "\u001B[35m#metrics {\"StartTime\": 1707639141.9381287, \"EndTime\": 1707639142.9966757, \"Dimensions\": {\"Algorithm\": \"LinearLearnerModel\", \"Host\": \"UNKNOWN\", \"Operation\": \"scoring\"}, \"Metrics\": {\"execution_parameters.count\": {\"sum\": 1.0, \"count\": 1, \"min\": 1, \"max\": 1}}}\u001B[0m\n",
      "\u001B[34m#metrics {\"StartTime\": 1707639141.9381287, \"EndTime\": 1707639146.0156417, \"Dimensions\": {\"Algorithm\": \"LinearLearnerModel\", \"Host\": \"UNKNOWN\", \"Operation\": \"scoring\"}, \"Metrics\": {\"json.encoder.time\": {\"sum\": 141.33572578430176, \"count\": 1, \"min\": 141.33572578430176, \"max\": 141.33572578430176}, \"invocations.count\": {\"sum\": 1.0, \"count\": 1, \"min\": 1, \"max\": 1}}}\u001B[0m\n",
      "\u001B[34m#metrics {\"StartTime\": 1707639141.9381287, \"EndTime\": 1707639146.086047, \"Dimensions\": {\"Algorithm\": \"LinearLearnerModel\", \"Host\": \"UNKNOWN\", \"Operation\": \"scoring\"}, \"Metrics\": {\"json.encoder.time\": {\"sum\": 135.0712776184082, \"count\": 1, \"min\": 135.0712776184082, \"max\": 135.0712776184082}, \"invocations.count\": {\"sum\": 1.0, \"count\": 1, \"min\": 1, \"max\": 1}}}\u001B[0m\n",
      "\u001B[34m#metrics {\"StartTime\": 1707639141.9381287, \"EndTime\": 1707639146.1331313, \"Dimensions\": {\"Algorithm\": \"LinearLearnerModel\", \"Host\": \"UNKNOWN\", \"Operation\": \"scoring\"}, \"Metrics\": {\"json.encoder.time\": {\"sum\": 128.8161277770996, \"count\": 1, \"min\": 128.8161277770996, \"max\": 128.8161277770996}, \"invocations.count\": {\"sum\": 1.0, \"count\": 1, \"min\": 1, \"max\": 1}}}\u001B[0m\n",
      "\u001B[34m#metrics {\"StartTime\": 1707639142.9968626, \"EndTime\": 1707639146.1340027, \"Dimensions\": {\"Algorithm\": \"LinearLearnerModel\", \"Host\": \"UNKNOWN\", \"Operation\": \"scoring\"}, \"Metrics\": {\"json.encoder.time\": {\"sum\": 128.56149673461914, \"count\": 1, \"min\": 128.56149673461914, \"max\": 128.56149673461914}, \"invocations.count\": {\"sum\": 1.0, \"count\": 1, \"min\": 1, \"max\": 1}}}\u001B[0m\n",
      "\u001B[35m#metrics {\"StartTime\": 1707639141.9381287, \"EndTime\": 1707639146.0156417, \"Dimensions\": {\"Algorithm\": \"LinearLearnerModel\", \"Host\": \"UNKNOWN\", \"Operation\": \"scoring\"}, \"Metrics\": {\"json.encoder.time\": {\"sum\": 141.33572578430176, \"count\": 1, \"min\": 141.33572578430176, \"max\": 141.33572578430176}, \"invocations.count\": {\"sum\": 1.0, \"count\": 1, \"min\": 1, \"max\": 1}}}\u001B[0m\n",
      "\u001B[35m#metrics {\"StartTime\": 1707639141.9381287, \"EndTime\": 1707639146.086047, \"Dimensions\": {\"Algorithm\": \"LinearLearnerModel\", \"Host\": \"UNKNOWN\", \"Operation\": \"scoring\"}, \"Metrics\": {\"json.encoder.time\": {\"sum\": 135.0712776184082, \"count\": 1, \"min\": 135.0712776184082, \"max\": 135.0712776184082}, \"invocations.count\": {\"sum\": 1.0, \"count\": 1, \"min\": 1, \"max\": 1}}}\u001B[0m\n",
      "\u001B[35m#metrics {\"StartTime\": 1707639141.9381287, \"EndTime\": 1707639146.1331313, \"Dimensions\": {\"Algorithm\": \"LinearLearnerModel\", \"Host\": \"UNKNOWN\", \"Operation\": \"scoring\"}, \"Metrics\": {\"json.encoder.time\": {\"sum\": 128.8161277770996, \"count\": 1, \"min\": 128.8161277770996, \"max\": 128.8161277770996}, \"invocations.count\": {\"sum\": 1.0, \"count\": 1, \"min\": 1, \"max\": 1}}}\u001B[0m\n",
      "\u001B[35m#metrics {\"StartTime\": 1707639142.9968626, \"EndTime\": 1707639146.1340027, \"Dimensions\": {\"Algorithm\": \"LinearLearnerModel\", \"Host\": \"UNKNOWN\", \"Operation\": \"scoring\"}, \"Metrics\": {\"json.encoder.time\": {\"sum\": 128.56149673461914, \"count\": 1, \"min\": 128.56149673461914, \"max\": 128.56149673461914}, \"invocations.count\": {\"sum\": 1.0, \"count\": 1, \"min\": 1, \"max\": 1}}}\u001B[0m\n",
      "\u001B[32m2024-02-11T08:12:23.003:[sagemaker logs]: MaxConcurrentTransforms=4, MaxPayloadInMB=6, BatchStrategy=MULTI_RECORD\u001B[0m\n",
      "\u001B[34m#metrics {\"StartTime\": 1707639146.133393, \"EndTime\": 1707639146.8907278, \"Dimensions\": {\"Algorithm\": \"LinearLearnerModel\", \"Host\": \"UNKNOWN\", \"Operation\": \"scoring\"}, \"Metrics\": {\"json.encoder.time\": {\"sum\": 62.53862380981445, \"count\": 1, \"min\": 62.53862380981445, \"max\": 62.53862380981445}, \"invocations.count\": {\"sum\": 1.0, \"count\": 1, \"min\": 1, \"max\": 1}}}\u001B[0m\n",
      "\u001B[35m#metrics {\"StartTime\": 1707639146.133393, \"EndTime\": 1707639146.8907278, \"Dimensions\": {\"Algorithm\": \"LinearLearnerModel\", \"Host\": \"UNKNOWN\", \"Operation\": \"scoring\"}, \"Metrics\": {\"json.encoder.time\": {\"sum\": 62.53862380981445, \"count\": 1, \"min\": 62.53862380981445, \"max\": 62.53862380981445}, \"invocations.count\": {\"sum\": 1.0, \"count\": 1, \"min\": 1, \"max\": 1}}}\u001B[0m\n"
     ]
    }
   ],
   "source": [
    "test_labels, target_predicted = batch_linear_predict(test, classifier_estimator)"
   ]
  },
  {
   "cell_type": "markdown",
   "metadata": {},
   "source": [
    "To view a plot of the confusion matrix, and various scoring metrics, create a couple of functions:"
   ]
  },
  {
   "cell_type": "code",
   "execution_count": 56,
   "metadata": {
    "tags": []
   },
   "outputs": [],
   "source": [
    "from sklearn.metrics import confusion_matrix\n",
    "\n",
    "def plot_confusion_matrix(test_labels, target_predicted):\n",
    "    matrix = confusion_matrix(test_labels, target_predicted)\n",
    "    df_confusion = pd.DataFrame(matrix)\n",
    "    colormap = sns.color_palette(\"BrBG\", 10)\n",
    "    sns.heatmap(df_confusion, annot=True, fmt='.2f', cbar=None, cmap=colormap)\n",
    "    plt.title(\"Confusion Matrix\")\n",
    "    plt.tight_layout()\n",
    "    plt.ylabel(\"True Class\")\n",
    "    plt.xlabel(\"Predicted Class\")\n",
    "    plt.show()\n",
    "    "
   ]
  },
  {
   "cell_type": "code",
   "execution_count": 57,
   "metadata": {
    "tags": []
   },
   "outputs": [],
   "source": [
    "from sklearn import metrics\n",
    "\n",
    "def plot_roc(test_labels, target_predicted):\n",
    "    TN, FP, FN, TP = confusion_matrix(test_labels, target_predicted).ravel()\n",
    "    # Sensitivity, hit rate, recall, or true positive rate\n",
    "    Sensitivity  = float(TP)/(TP+FN)*100\n",
    "    # Specificity or true negative rate\n",
    "    Specificity  = float(TN)/(TN+FP)*100\n",
    "    # Precision or positive predictive value\n",
    "    Precision = float(TP)/(TP+FP)*100\n",
    "    # Negative predictive value\n",
    "    NPV = float(TN)/(TN+FN)*100\n",
    "    # Fall out or false positive rate\n",
    "    FPR = float(FP)/(FP+TN)*100\n",
    "    # False negative rate\n",
    "    FNR = float(FN)/(TP+FN)*100\n",
    "    # False discovery rate\n",
    "    FDR = float(FP)/(TP+FP)*100\n",
    "    # Overall accuracy\n",
    "    ACC = float(TP+TN)/(TP+FP+FN+TN)*100\n",
    "\n",
    "    print(\"Sensitivity or TPR: \", Sensitivity, \"%\") \n",
    "    print( \"Specificity or TNR: \",Specificity, \"%\") \n",
    "    print(\"Precision: \",Precision, \"%\") \n",
    "    print(\"Negative Predictive Value: \",NPV, \"%\") \n",
    "    print( \"False Positive Rate: \",FPR,\"%\")\n",
    "    print(\"False Negative Rate: \",FNR, \"%\") \n",
    "    print(\"False Discovery Rate: \",FDR, \"%\" )\n",
    "    print(\"Accuracy: \",ACC, \"%\") \n",
    "\n",
    "    test_labels = test.iloc[:,0];\n",
    "    print(\"Validation AUC\", metrics.roc_auc_score(test_labels, target_predicted) )\n",
    "\n",
    "    fpr, tpr, thresholds = metrics.roc_curve(test_labels, target_predicted)\n",
    "    roc_auc = metrics.auc(fpr, tpr)\n",
    "\n",
    "    plt.figure()\n",
    "    plt.plot(fpr, tpr, label='ROC curve (area = %0.2f)' % (roc_auc))\n",
    "    plt.plot([0, 1], [0, 1], 'k--')\n",
    "    plt.xlim([0.0, 1.0])\n",
    "    plt.ylim([0.0, 1.05])\n",
    "    plt.xlabel('False Positive Rate')\n",
    "    plt.ylabel('True Positive Rate')\n",
    "    plt.title('Receiver operating characteristic')\n",
    "    plt.legend(loc=\"lower right\")\n",
    "\n",
    "    # create the axis of thresholds (scores)\n",
    "    ax2 = plt.gca().twinx()\n",
    "    ax2.plot(fpr, thresholds, markeredgecolor='r',linestyle='dashed', color='r')\n",
    "    ax2.set_ylabel('Threshold',color='r')\n",
    "    ax2.set_ylim([thresholds[-1],thresholds[0]])\n",
    "    ax2.set_xlim([fpr[0],fpr[-1]])\n",
    "\n",
    "    print(plt.figure())"
   ]
  },
  {
   "cell_type": "markdown",
   "metadata": {},
   "source": [
    "To plot the confusion matrix, call the `plot_confusion_matrix` function on the `test_labels` and the `target_predicted` data from your batch job:\n",
    "\n",
    "\n",
    "codigo"
   ]
  },
  {
   "cell_type": "code",
   "execution_count": 58,
   "metadata": {
    "tags": []
   },
   "outputs": [
    {
     "data": {
      "image/png": "[encoded data removed]",
      "text/plain": [
       "<Figure size 640x480 with 1 Axes>"
      ]
     },
     "metadata": {},
     "output_type": "display_data"
    }
   ],
   "source": [
    "plot_confusion_matrix(test_labels,target_predicted)"
   ]
  },
  {
   "cell_type": "markdown",
   "metadata": {},
   "source": [
    "### Key questions to consider:\n",
    "\n",
    "1. How does your model's performance on the test set compare to its performance on the training set? What can you deduce from this comparison? \n",
    "2. Are there obvious differences between the outcomes of metrics like accuracy, precision, and recall? If so, why might you be seeing those differences? \n",
    "3. Given your business situation and goals, which metric (or metrics) is the most important for you to consider? Why?\n",
    "4. From a business standpoint, is the outcome for the metric (or metrics) that you consider to be the most important sufficient for what you need? If not, what are some things you might change in your next iteration? (This will happen in the feature engineering section, which is next.)\n",
    "\n",
    "Use the following cells to answer these (and other) questions. Insert and delete cells where needed.\n",
    "\n",
    "#### <span style=\"color: blue;\">Project presentation: In your project presentation, write down your answers to these questions -- and other similar questions that you might answer -- in this section. Record the key details and decisions that you made.</span>"
   ]
  },
  {
   "cell_type": "markdown",
   "metadata": {},
   "source": [
    "\n",
    "**Question**: What can you summarize from the confusion matrix?\n"
   ]
  },
  {
   "cell_type": "code",
   "execution_count": null,
   "metadata": {},
   "outputs": [],
   "source": [
    "# Enter your answer here"
   ]
  },
  {
   "cell_type": "markdown",
   "metadata": {},
   "source": [
    "## <span style=\"color:red\"> End of Step 3 </span>\n",
    "\n",
    "Save the project file to your local computer. Follow these steps:\n",
    "\n",
    "1. In the file explorer on the left, right-click the notebook that you're working on. \n",
    "\n",
    "2. Select **Download**, and save the file locally.  \n",
    "\n",
    "This action downloads the current notebook to the default download folder on your computer."
   ]
  },
  {
   "cell_type": "markdown",
   "metadata": {},
   "source": [
    "# Iteration II"
   ]
  },
  {
   "cell_type": "markdown",
   "metadata": {},
   "source": [
    "# Step 4: Feature engineering\n",
    "\n",
    "You have now gone through one iteration of training and evaluating your model. Given that the first outcome that you reached for your model probably wasn't sufficient for solving your business problem, what could you change about your data to possibly improve model performance?\n",
    "\n",
    "### Key questions to consider:\n",
    "\n",
    "1. How might the balance of your two main classes (*delay* and *no delay*) impact model performance?\n",
    "2. Do you have any features that are correlated?\n",
    "3. At this stage, could you perform any feature-reduction techniques that might have a positive impact on model performance? \n",
    "4. Can you think of adding some more data or datasets?\n",
    "5. After performing some feature engineering, how does the performance of your model compare to the first iteration?\n",
    "\n",
    "Use the following cells to perform specific feature-engineering techniques that you think could improve your model performance (use the previous questions as a guide). Insert and delete cells where needed.\n",
    "\n",
    "#### <span style=\"color: blue;\">Project presentation: In your project presentation, record your key decisions and the methods that you use in this section. Also include any new performance metrics that you obtain after you evaluate your model again.</span>\n",
    "\n",
    "Before you start, think about why the precision and recall are around 80 percent, and the accuracy is at 99 percent."
   ]
  },
  {
   "cell_type": "markdown",
   "metadata": {},
   "source": [
    "Add more features:\n",
    "\n",
    "1. Holidays\n",
    "2. Weather"
   ]
  },
  {
   "cell_type": "markdown",
   "metadata": {},
   "source": [
    "Because the list of holidays from 2014 to 2018 is known, you can create an indicator variable **is_holiday** to mark them.\n",
    "\n",
    "The hypothesis is that airplane delays could be higher during holidays compared to the rest of the days. Add a boolean variable `is_holiday` that includes the holidays for the years 2014-2018.\n",
    "\n",
    "codigo"
   ]
  },
  {
   "cell_type": "code",
   "execution_count": 59,
   "metadata": {
    "tags": []
   },
   "outputs": [],
   "source": [
    "# Source: http://www.calendarpedia.com/holidays/federal-holidays-2014.html\n",
    "\n",
    "holidays_14 = ['2014-01-01',  '2014-01-20', '2014-02-17', '2014-05-26', '2014-07-04', '2014-09-01', '2014-10-13', '2014-11-11', '2014-11-27', '2014-12-25' ] \n",
    "holidays_15 = ['2015-01-01',  '2015-01-19', '2015-02-16', '2015-05-25', '2015-06-03', '2015-07-04', '2015-09-07', '2015-10-12', '2015-11-11', '2015-11-26', '2015-12-25'] \n",
    "holidays_16 = ['2016-01-01',  '2016-01-18', '2016-02-15', '2016-05-30', '2016-07-04', '2016-09-05', '2016-10-10', '2016-11-11', '2016-11-24', '2016-12-25', '2016-12-26']\n",
    "holidays_17 = ['2017-01-02', '2017-01-16', '2017-02-20', '2017-05-29' , '2017-07-04', '2017-09-04' ,'2017-10-09', '2017-11-10', '2017-11-23', '2017-12-25']\n",
    "holidays_18 = ['2018-01-01', '2018-01-15', '2018-02-19', '2018-05-28' , '2018-07-04', '2018-09-03' ,'2018-10-08', '2018-11-12','2018-11-22', '2018-12-25']\n",
    "holidays = holidays_14+ holidays_15+ holidays_16 + holidays_17+ holidays_18\n",
    "\n",
    "### Add indicator variable for holidays\n",
    "data_orig['is_holiday'] = data_orig.FlightDate.isin(holidays).astype(int) # Enter your code here "
   ]
  },
  {
   "cell_type": "markdown",
   "metadata": {},
   "source": [
    "Weather data was fetched from https://www.ncei.noaa.gov/access/services/data/v1?dataset=daily-summaries&stations=USW00023174,USW00012960,USW00003017,USW00094846,USW00013874,USW00023234,USW00003927,USW00023183,USW00013881&dataTypes=AWND,PRCP,SNOW,SNWD,TAVG,TMIN,TMAX&startDate=2014-01-01&endDate=2018-12-31.\n",
    "<br>\n",
    "\n",
    "This dataset has information on wind speed, precipitation, snow, and temperature for cities by their airport codes.\n",
    "\n",
    "**Question**: Could bad weather because of rain, heavy winds, or snow lead to airplane delays? You will now check."
   ]
  },
  {
   "cell_type": "code",
   "execution_count": 60,
   "metadata": {
    "tags": []
   },
   "outputs": [
    {
     "name": "stdout",
     "output_type": "stream",
     "text": [
      "download: s3://aws-tc-largeobjects/CUR-TF-200-ACMLFO-1/flight_delay_project/data2/daily-summaries.csv to ../project/data/daily-summaries.csv\n"
     ]
    }
   ],
   "source": [
    "!aws s3 cp s3://aws-tc-largeobjects/CUR-TF-200-ACMLFO-1/flight_delay_project/data2/daily-summaries.csv /home/ec2-user/SageMaker/project/data/\n",
    "#!wget 'https://www.ncei.noaa.gov/access/services/data/v1?dataset=daily-summaries&stations=USW00023174,USW00012960,USW00003017,USW00094846,USW00013874,USW00023234,USW00003927,USW00023183,USW00013881&dataTypes=AWND,PRCP,SNOW,SNWD,TAVG,TMIN,TMAX&startDate=2014-01-01&endDate=2018-12-31' -O /home/ec2-user/SageMaker/project/data/daily-summaries.csv"
   ]
  },
  {
   "cell_type": "markdown",
   "metadata": {},
   "source": [
    "Import the weather data that was prepared for the airport codes in the dataset. Use the following stations and airports  for the analysis. Create a new column called *airport* that maps the weather station to the airport name."
   ]
  },
  {
   "cell_type": "code",
   "execution_count": 61,
   "metadata": {
    "tags": []
   },
   "outputs": [],
   "source": [
    "weather = pd.read_csv('/home/ec2-user/SageMaker/project/data/daily-summaries.csv')\n",
    "station = ['USW00023174','USW00012960','USW00003017','USW00094846','USW00013874','USW00023234','USW00003927','USW00023183','USW00013881'] \n",
    "airports = ['LAX', 'IAH', 'DEN', 'ORD', 'ATL', 'SFO', 'DFW', 'PHX', 'CLT']\n",
    "\n",
    "### Map weather stations to airport code\n",
    "station_map = {s:a for s,a in zip(station, airports)}\n",
    "weather['airport'] = weather['STATION'].map(station_map)"
   ]
  },
  {
   "cell_type": "markdown",
   "metadata": {},
   "source": [
    "From the **DATE** column, create another column called *MONTH*."
   ]
  },
  {
   "cell_type": "code",
   "execution_count": 62,
   "metadata": {
    "tags": []
   },
   "outputs": [
    {
     "data": {
      "text/html": [
       "<div>\n",
       "<style scoped>\n",
       "    .dataframe tbody tr th:only-of-type {\n",
       "        vertical-align: middle;\n",
       "    }\n",
       "\n",
       "    .dataframe tbody tr th {\n",
       "        vertical-align: top;\n",
       "    }\n",
       "\n",
       "    .dataframe thead th {\n",
       "        text-align: right;\n",
       "    }\n",
       "</style>\n",
       "<table border=\"1\" class=\"dataframe\">\n",
       "  <thead>\n",
       "    <tr style=\"text-align: right;\">\n",
       "      <th></th>\n",
       "      <th>STATION</th>\n",
       "      <th>DATE</th>\n",
       "      <th>AWND</th>\n",
       "      <th>PRCP</th>\n",
       "      <th>SNOW</th>\n",
       "      <th>SNWD</th>\n",
       "      <th>TAVG</th>\n",
       "      <th>TMAX</th>\n",
       "      <th>TMIN</th>\n",
       "      <th>airport</th>\n",
       "      <th>MONTH</th>\n",
       "    </tr>\n",
       "  </thead>\n",
       "  <tbody>\n",
       "    <tr>\n",
       "      <th>0</th>\n",
       "      <td>USW00023174</td>\n",
       "      <td>2014-01-01</td>\n",
       "      <td>16</td>\n",
       "      <td>0</td>\n",
       "      <td>NaN</td>\n",
       "      <td>NaN</td>\n",
       "      <td>131.0</td>\n",
       "      <td>178.0</td>\n",
       "      <td>78.0</td>\n",
       "      <td>LAX</td>\n",
       "      <td>01</td>\n",
       "    </tr>\n",
       "    <tr>\n",
       "      <th>1</th>\n",
       "      <td>USW00023174</td>\n",
       "      <td>2014-01-02</td>\n",
       "      <td>22</td>\n",
       "      <td>0</td>\n",
       "      <td>NaN</td>\n",
       "      <td>NaN</td>\n",
       "      <td>159.0</td>\n",
       "      <td>256.0</td>\n",
       "      <td>100.0</td>\n",
       "      <td>LAX</td>\n",
       "      <td>01</td>\n",
       "    </tr>\n",
       "    <tr>\n",
       "      <th>2</th>\n",
       "      <td>USW00023174</td>\n",
       "      <td>2014-01-03</td>\n",
       "      <td>17</td>\n",
       "      <td>0</td>\n",
       "      <td>NaN</td>\n",
       "      <td>NaN</td>\n",
       "      <td>140.0</td>\n",
       "      <td>178.0</td>\n",
       "      <td>83.0</td>\n",
       "      <td>LAX</td>\n",
       "      <td>01</td>\n",
       "    </tr>\n",
       "    <tr>\n",
       "      <th>3</th>\n",
       "      <td>USW00023174</td>\n",
       "      <td>2014-01-04</td>\n",
       "      <td>18</td>\n",
       "      <td>0</td>\n",
       "      <td>NaN</td>\n",
       "      <td>NaN</td>\n",
       "      <td>136.0</td>\n",
       "      <td>183.0</td>\n",
       "      <td>100.0</td>\n",
       "      <td>LAX</td>\n",
       "      <td>01</td>\n",
       "    </tr>\n",
       "    <tr>\n",
       "      <th>4</th>\n",
       "      <td>USW00023174</td>\n",
       "      <td>2014-01-05</td>\n",
       "      <td>18</td>\n",
       "      <td>0</td>\n",
       "      <td>NaN</td>\n",
       "      <td>NaN</td>\n",
       "      <td>151.0</td>\n",
       "      <td>244.0</td>\n",
       "      <td>83.0</td>\n",
       "      <td>LAX</td>\n",
       "      <td>01</td>\n",
       "    </tr>\n",
       "  </tbody>\n",
       "</table>\n",
       "</div>"
      ],
      "text/plain": [
       "       STATION        DATE  AWND  PRCP  SNOW  SNWD   TAVG   TMAX   TMIN  \\\n",
       "0  USW00023174  2014-01-01    16     0   NaN   NaN  131.0  178.0   78.0   \n",
       "1  USW00023174  2014-01-02    22     0   NaN   NaN  159.0  256.0  100.0   \n",
       "2  USW00023174  2014-01-03    17     0   NaN   NaN  140.0  178.0   83.0   \n",
       "3  USW00023174  2014-01-04    18     0   NaN   NaN  136.0  183.0  100.0   \n",
       "4  USW00023174  2014-01-05    18     0   NaN   NaN  151.0  244.0   83.0   \n",
       "\n",
       "  airport MONTH  \n",
       "0     LAX    01  \n",
       "1     LAX    01  \n",
       "2     LAX    01  \n",
       "3     LAX    01  \n",
       "4     LAX    01  "
      ]
     },
     "execution_count": 62,
     "metadata": {},
     "output_type": "execute_result"
    }
   ],
   "source": [
    "weather['MONTH'] = weather['DATE'].apply(lambda x: x.split('-')[1])\n",
    "weather.head()"
   ]
  },
  {
   "cell_type": "markdown",
   "metadata": {},
   "source": [
    "### Sample output\n",
    "```\n",
    "  STATION     DATE      AWND PRCP SNOW SNWD TAVG TMAX  TMIN airport MONTH\n",
    "0 USW00023174 2014-01-01 16   0   NaN  NaN 131.0 178.0 78.0  LAX    01\n",
    "1 USW00023174 2014-01-02 22   0   NaN  NaN 159.0 256.0 100.0 LAX    01\n",
    "2 USW00023174 2014-01-03 17   0   NaN  NaN 140.0 178.0 83.0  LAX    01\n",
    "3 USW00023174 2014-01-04 18   0   NaN  NaN 136.0 183.0 100.0 LAX    01\n",
    "4 USW00023174 2014-01-05 18   0   NaN  NaN 151.0 244.0 83.0  LAX    01\n",
    "```"
   ]
  },
  {
   "cell_type": "markdown",
   "metadata": {},
   "source": [
    "Analyze and handle the **SNOW** and **SNWD** columns for missing values by using `fillna()`. To check the missing values for all the columns, use the `isna()` function."
   ]
  },
  {
   "cell_type": "code",
   "execution_count": 63,
   "metadata": {
    "tags": []
   },
   "outputs": [
    {
     "data": {
      "text/plain": [
       "STATION     0\n",
       "DATE        0\n",
       "AWND        0\n",
       "PRCP        0\n",
       "SNOW        0\n",
       "SNWD        0\n",
       "TAVG       62\n",
       "TMAX       20\n",
       "TMIN       20\n",
       "airport     0\n",
       "MONTH       0\n",
       "dtype: int64"
      ]
     },
     "execution_count": 63,
     "metadata": {},
     "output_type": "execute_result"
    }
   ],
   "source": [
    "weather.SNOW.fillna(0, inplace=True)\n",
    "weather.SNWD.fillna(0, inplace=True)\n",
    "weather.isna().sum()"
   ]
  },
  {
   "cell_type": "markdown",
   "metadata": {},
   "source": [
    "**Question**: Print the index of the rows that have missing values for *TAVG*, *TMAX*, *TMIN*.\n",
    "\n",
    "**Hint**: To find the rows that are missing, use the `isna()` function. Then, to get the index, use the list on the *idx* variable.\n",
    "\n",
    "codigo"
   ]
  },
  {
   "cell_type": "code",
   "execution_count": 65,
   "metadata": {
    "tags": []
   },
   "outputs": [
    {
     "data": {
      "text/plain": [
       "array([ 3956,  3957,  3958,  3959,  3960,  3961,  3962,  3963,  3964,\n",
       "        3965,  3966,  3967,  3968,  3969,  3970,  3971,  3972,  3973,\n",
       "        3974,  3975,  3976,  3977,  3978,  3979,  3980,  3981,  3982,\n",
       "        3983,  3984,  3985,  4017,  4018,  4019,  4020,  4021,  4022,\n",
       "        4023,  4024,  4025,  4026,  4027,  4028,  4029,  4030,  4031,\n",
       "        4032,  4033,  4034,  4035,  4036,  4037,  4038,  4039,  4040,\n",
       "        4041,  4042,  4043,  4044,  4045,  4046,  4047, 13420])"
      ]
     },
     "execution_count": 65,
     "metadata": {},
     "output_type": "execute_result"
    }
   ],
   "source": [
    "idx = np.array([i for i in range(len(weather))])\n",
    "TAVG_idx = idx[weather.TAVG.isna()] \n",
    "TMAX_idx =idx[weather.TMAX.isna()] \n",
    "TMIN_idx = idx[weather.TMIN.isna()] \n",
    "TAVG_idx"
   ]
  },
  {
   "cell_type": "markdown",
   "metadata": {},
   "source": [
    "### Sample output\n",
    "\n",
    "```\n",
    "array([ 3956,  3957,  3958,  3959,  3960,  3961,  3962,  3963,  3964,\n",
    "        3965,  3966,  3967,  3968,  3969,  3970,  3971,  3972,  3973,\n",
    "        3974,  3975,  3976,  3977,  3978,  3979,  3980,  3981,  3982,\n",
    "        3983,  3984,  3985,  4017,  4018,  4019,  4020,  4021,  4022,\n",
    "        4023,  4024,  4025,  4026,  4027,  4028,  4029,  4030,  4031,\n",
    "        4032,  4033,  4034,  4035,  4036,  4037,  4038,  4039,  4040,\n",
    "        4041,  4042,  4043,  4044,  4045,  4046,  4047, 13420])\n",
    "```"
   ]
  },
  {
   "cell_type": "markdown",
   "metadata": {},
   "source": [
    "You can replace the missing *TAVG*, *TMAX*, and *TMIN* values with the average value for a particular station or airport. Because consecutive rows of *TAVG_idx* are missing, replacing them with a previous value would not be possible. Instead, replace them with the mean. Use the `groupby` function to aggregate the variables with a mean value.\n",
    "\n",
    "**Hint:** Group by `MONTH` and `STATION`.\n",
    "\n",
    "codigo"
   ]
  },
  {
   "cell_type": "code",
   "execution_count": 66,
   "metadata": {
    "tags": []
   },
   "outputs": [
    {
     "data": {
      "text/html": [
       "<div>\n",
       "<style scoped>\n",
       "    .dataframe tbody tr th:only-of-type {\n",
       "        vertical-align: middle;\n",
       "    }\n",
       "\n",
       "    .dataframe tbody tr th {\n",
       "        vertical-align: top;\n",
       "    }\n",
       "\n",
       "    .dataframe thead th {\n",
       "        text-align: right;\n",
       "    }\n",
       "</style>\n",
       "<table border=\"1\" class=\"dataframe\">\n",
       "  <thead>\n",
       "    <tr style=\"text-align: right;\">\n",
       "      <th></th>\n",
       "      <th>MONTH</th>\n",
       "      <th>STATION</th>\n",
       "      <th>TAVG</th>\n",
       "      <th>TMAX</th>\n",
       "      <th>TMIN</th>\n",
       "    </tr>\n",
       "  </thead>\n",
       "  <tbody>\n",
       "    <tr>\n",
       "      <th>0</th>\n",
       "      <td>01</td>\n",
       "      <td>USW00003017</td>\n",
       "      <td>-2.741935</td>\n",
       "      <td>74.000000</td>\n",
       "      <td>-69.858065</td>\n",
       "    </tr>\n",
       "    <tr>\n",
       "      <th>1</th>\n",
       "      <td>01</td>\n",
       "      <td>USW00003927</td>\n",
       "      <td>79.529032</td>\n",
       "      <td>143.767742</td>\n",
       "      <td>20.696774</td>\n",
       "    </tr>\n",
       "  </tbody>\n",
       "</table>\n",
       "</div>"
      ],
      "text/plain": [
       "  MONTH      STATION       TAVG        TMAX       TMIN\n",
       "0    01  USW00003017  -2.741935   74.000000 -69.858065\n",
       "1    01  USW00003927  79.529032  143.767742  20.696774"
      ]
     },
     "execution_count": 66,
     "metadata": {},
     "output_type": "execute_result"
    }
   ],
   "source": [
    "weather_impute = weather.groupby(['MONTH','STATION']).agg({'TAVG':'mean','TMAX':'mean', 'TMIN':'mean' }).reset_index()# Enter your code here\n",
    "weather_impute.head(2)"
   ]
  },
  {
   "cell_type": "markdown",
   "metadata": {},
   "source": [
    "Merge the mean data with the weather data."
   ]
  },
  {
   "cell_type": "code",
   "execution_count": 67,
   "metadata": {
    "tags": []
   },
   "outputs": [],
   "source": [
    "\n",
    "weather = pd.merge(weather, weather_impute,  how='left', left_on=['MONTH','STATION'], right_on = ['MONTH','STATION'])\\\n",
    ".rename(columns = {'TAVG_y':'TAVG_AVG',\n",
    "                   'TMAX_y':'TMAX_AVG', \n",
    "                   'TMIN_y':'TMIN_AVG',\n",
    "                   'TAVG_x':'TAVG',\n",
    "                   'TMAX_x':'TMAX', \n",
    "                   'TMIN_x':'TMIN'})"
   ]
  },
  {
   "cell_type": "markdown",
   "metadata": {},
   "source": [
    "Check for missing values again."
   ]
  },
  {
   "cell_type": "code",
   "execution_count": 68,
   "metadata": {
    "tags": []
   },
   "outputs": [
    {
     "data": {
      "text/plain": [
       "STATION     0\n",
       "DATE        0\n",
       "AWND        0\n",
       "PRCP        0\n",
       "SNOW        0\n",
       "SNWD        0\n",
       "TAVG        0\n",
       "TMAX        0\n",
       "TMIN        0\n",
       "airport     0\n",
       "MONTH       0\n",
       "TAVG_AVG    0\n",
       "TMAX_AVG    0\n",
       "TMIN_AVG    0\n",
       "dtype: int64"
      ]
     },
     "execution_count": 68,
     "metadata": {},
     "output_type": "execute_result"
    }
   ],
   "source": [
    "weather.TAVG[TAVG_idx] = weather.TAVG_AVG[TAVG_idx]\n",
    "weather.TMAX[TMAX_idx] = weather.TMAX_AVG[TMAX_idx]\n",
    "weather.TMIN[TMIN_idx] = weather.TMIN_AVG[TMIN_idx]\n",
    "weather.isna().sum()"
   ]
  },
  {
   "cell_type": "markdown",
   "metadata": {},
   "source": [
    "Drop `STATION,MONTH,TAVG_AVG,TMAX_AVG,TMIN_AVG,TMAX,TMIN,SNWD` from the dataset."
   ]
  },
  {
   "cell_type": "code",
   "execution_count": 69,
   "metadata": {
    "tags": []
   },
   "outputs": [],
   "source": [
    "weather.drop(columns=['STATION','MONTH','TAVG_AVG', 'TMAX_AVG', 'TMIN_AVG', 'TMAX' ,'TMIN', 'SNWD'],inplace=True)"
   ]
  },
  {
   "cell_type": "markdown",
   "metadata": {},
   "source": [
    "Add the origin and destination weather conditions to the dataset."
   ]
  },
  {
   "cell_type": "code",
   "execution_count": 70,
   "metadata": {
    "tags": []
   },
   "outputs": [],
   "source": [
    "### Add origin weather conditions\n",
    "data_orig = pd.merge(data_orig, weather,  how='left', left_on=['FlightDate','Origin'], right_on = ['DATE','airport'])\\\n",
    ".rename(columns = {'AWND':'AWND_O','PRCP':'PRCP_O', 'TAVG':'TAVG_O', 'SNOW': 'SNOW_O'})\\\n",
    ".drop(columns=['DATE','airport'])\n",
    "\n",
    "### Add destination weather conditions\n",
    "data_orig = pd.merge(data_orig, weather,  how='left', left_on=['FlightDate','Dest'], right_on = ['DATE','airport'])\\\n",
    ".rename(columns = {'AWND':'AWND_D','PRCP':'PRCP_D', 'TAVG':'TAVG_D', 'SNOW': 'SNOW_D'})\\\n",
    ".drop(columns=['DATE','airport'])"
   ]
  },
  {
   "cell_type": "markdown",
   "metadata": {},
   "source": [
    "**Note**: It's always a good practice to check for nulls or NAs after joins."
   ]
  },
  {
   "cell_type": "code",
   "execution_count": 71,
   "metadata": {},
   "outputs": [
    {
     "data": {
      "text/plain": [
       "0"
      ]
     },
     "execution_count": 71,
     "metadata": {},
     "output_type": "execute_result"
    }
   ],
   "source": [
    "sum(data.isna().any())"
   ]
  },
  {
   "cell_type": "code",
   "execution_count": 72,
   "metadata": {
    "tags": []
   },
   "outputs": [
    {
     "data": {
      "text/plain": [
       "Index(['Year', 'Quarter', 'Month', 'DayofMonth', 'DayOfWeek', 'FlightDate',\n",
       "       'Reporting_Airline', 'Origin', 'OriginState', 'Dest', 'DestState',\n",
       "       'CRSDepTime', 'Cancelled', 'Diverted', 'Distance', 'DistanceGroup',\n",
       "       'ArrDelay', 'ArrDelayMinutes', 'is_delay', 'AirTime', 'DepHourofDay',\n",
       "       'is_holiday', 'AWND_O', 'PRCP_O', 'SNOW_O', 'TAVG_O', 'AWND_D',\n",
       "       'PRCP_D', 'SNOW_D', 'TAVG_D'],\n",
       "      dtype='object')"
      ]
     },
     "execution_count": 72,
     "metadata": {},
     "output_type": "execute_result"
    }
   ],
   "source": [
    "data_orig.columns"
   ]
  },
  {
   "cell_type": "markdown",
   "metadata": {},
   "source": [
    "Convert the categorical data into numerical data by using one-hot encoding."
   ]
  },
  {
   "cell_type": "code",
   "execution_count": 73,
   "metadata": {
    "tags": []
   },
   "outputs": [],
   "source": [
    "data = data_orig.copy()\n",
    "data = data[['is_delay', 'Year', 'Quarter', 'Month', 'DayofMonth', 'DayOfWeek', \n",
    "       'Reporting_Airline', 'Origin', 'Dest','Distance','DepHourofDay','is_holiday', 'AWND_O', 'PRCP_O',\n",
    "       'TAVG_O', 'AWND_D', 'PRCP_D', 'TAVG_D', 'SNOW_O', 'SNOW_D']]\n",
    "\n",
    "\n",
    "categorical_columns  = ['Year', 'Quarter', 'Month', 'DayofMonth', 'DayOfWeek', \n",
    "       'Reporting_Airline', 'Origin', 'Dest', 'is_holiday']\n",
    "for c in categorical_columns:\n",
    "    data[c] = data[c].astype('category')"
   ]
  },
  {
   "cell_type": "code",
   "execution_count": 74,
   "metadata": {
    "tags": []
   },
   "outputs": [],
   "source": [
    "data_dummies = pd.get_dummies(data[['Year', 'Quarter', 'Month', 'DayofMonth', 'DayOfWeek', 'Reporting_Airline', 'Origin', 'Dest', 'is_holiday']], drop_first=True)\n",
    "data_dummies = data_dummies.replace({True: 1, False: 0})\n",
    "data = pd.concat([data, data_dummies], axis = 1)\n",
    "data.drop(categorical_columns,axis=1, inplace=True)"
   ]
  },
  {
   "cell_type": "markdown",
   "metadata": {},
   "source": [
    "Check the new columns."
   ]
  },
  {
   "cell_type": "code",
   "execution_count": 75,
   "metadata": {
    "tags": []
   },
   "outputs": [
    {
     "data": {
      "text/plain": [
       "(1635590, 86)"
      ]
     },
     "execution_count": 75,
     "metadata": {},
     "output_type": "execute_result"
    }
   ],
   "source": [
    "data.shape"
   ]
  },
  {
   "cell_type": "code",
   "execution_count": 76,
   "metadata": {
    "tags": []
   },
   "outputs": [
    {
     "data": {
      "text/plain": [
       "Index(['is_delay', 'Distance', 'DepHourofDay', 'AWND_O', 'PRCP_O', 'TAVG_O',\n",
       "       'AWND_D', 'PRCP_D', 'TAVG_D', 'SNOW_O', 'SNOW_D', 'Year_2015',\n",
       "       'Year_2016', 'Year_2017', 'Year_2018', 'Quarter_2', 'Quarter_3',\n",
       "       'Quarter_4', 'Month_2', 'Month_3', 'Month_4', 'Month_5', 'Month_6',\n",
       "       'Month_7', 'Month_8', 'Month_9', 'Month_10', 'Month_11', 'Month_12',\n",
       "       'DayofMonth_2', 'DayofMonth_3', 'DayofMonth_4', 'DayofMonth_5',\n",
       "       'DayofMonth_6', 'DayofMonth_7', 'DayofMonth_8', 'DayofMonth_9',\n",
       "       'DayofMonth_10', 'DayofMonth_11', 'DayofMonth_12', 'DayofMonth_13',\n",
       "       'DayofMonth_14', 'DayofMonth_15', 'DayofMonth_16', 'DayofMonth_17',\n",
       "       'DayofMonth_18', 'DayofMonth_19', 'DayofMonth_20', 'DayofMonth_21',\n",
       "       'DayofMonth_22', 'DayofMonth_23', 'DayofMonth_24', 'DayofMonth_25',\n",
       "       'DayofMonth_26', 'DayofMonth_27', 'DayofMonth_28', 'DayofMonth_29',\n",
       "       'DayofMonth_30', 'DayofMonth_31', 'DayOfWeek_2', 'DayOfWeek_3',\n",
       "       'DayOfWeek_4', 'DayOfWeek_5', 'DayOfWeek_6', 'DayOfWeek_7',\n",
       "       'Reporting_Airline_DL', 'Reporting_Airline_OO', 'Reporting_Airline_UA',\n",
       "       'Reporting_Airline_WN', 'Origin_CLT', 'Origin_DEN', 'Origin_DFW',\n",
       "       'Origin_IAH', 'Origin_LAX', 'Origin_ORD', 'Origin_PHX', 'Origin_SFO',\n",
       "       'Dest_CLT', 'Dest_DEN', 'Dest_DFW', 'Dest_IAH', 'Dest_LAX', 'Dest_ORD',\n",
       "       'Dest_PHX', 'Dest_SFO', 'is_holiday_1'],\n",
       "      dtype='object')"
      ]
     },
     "execution_count": 76,
     "metadata": {},
     "output_type": "execute_result"
    }
   ],
   "source": [
    "data.columns"
   ]
  },
  {
   "cell_type": "markdown",
   "metadata": {},
   "source": [
    "### Sample output\n",
    "\n",
    "```\n",
    "Index(['Distance', 'DepHourofDay', 'is_delay', 'AWND_O', 'PRCP_O', 'TAVG_O',\n",
    "       'AWND_D', 'PRCP_D', 'TAVG_D', 'SNOW_O', 'SNOW_D', 'Year_2015',\n",
    "       'Year_2016', 'Year_2017', 'Year_2018', 'Quarter_2', 'Quarter_3',\n",
    "       'Quarter_4', 'Month_2', 'Month_3', 'Month_4', 'Month_5', 'Month_6',\n",
    "       'Month_7', 'Month_8', 'Month_9', 'Month_10', 'Month_11', 'Month_12',\n",
    "       'DayofMonth_2', 'DayofMonth_3', 'DayofMonth_4', 'DayofMonth_5',\n",
    "       'DayofMonth_6', 'DayofMonth_7', 'DayofMonth_8', 'DayofMonth_9',\n",
    "       'DayofMonth_10', 'DayofMonth_11', 'DayofMonth_12', 'DayofMonth_13',\n",
    "       'DayofMonth_14', 'DayofMonth_15', 'DayofMonth_16', 'DayofMonth_17',\n",
    "       'DayofMonth_18', 'DayofMonth_19', 'DayofMonth_20', 'DayofMonth_21',\n",
    "       'DayofMonth_22', 'DayofMonth_23', 'DayofMonth_24', 'DayofMonth_25',\n",
    "       'DayofMonth_26', 'DayofMonth_27', 'DayofMonth_28', 'DayofMonth_29',\n",
    "       'DayofMonth_30', 'DayofMonth_31', 'DayOfWeek_2', 'DayOfWeek_3',\n",
    "       'DayOfWeek_4', 'DayOfWeek_5', 'DayOfWeek_6', 'DayOfWeek_7',\n",
    "       'Reporting_Airline_DL', 'Reporting_Airline_OO', 'Reporting_Airline_UA',\n",
    "       'Reporting_Airline_WN', 'Origin_CLT', 'Origin_DEN', 'Origin_DFW',\n",
    "       'Origin_IAH', 'Origin_LAX', 'Origin_ORD', 'Origin_PHX', 'Origin_SFO',\n",
    "       'Dest_CLT', 'Dest_DEN', 'Dest_DFW', 'Dest_IAH', 'Dest_LAX', 'Dest_ORD',\n",
    "       'Dest_PHX', 'Dest_SFO', 'is_holiday_1'],\n",
    "      dtype='object')\n",
    "```"
   ]
  },
  {
   "cell_type": "markdown",
   "metadata": {},
   "source": [
    "Rename the **is_delay** column to *target* again. Use the same code that you used previously.\n",
    "\n",
    "codigo"
   ]
  },
  {
   "cell_type": "code",
   "execution_count": 77,
   "metadata": {
    "tags": []
   },
   "outputs": [],
   "source": [
    "data.rename(columns = {'is_delay':'target'}, inplace=True )# Enter your code here"
   ]
  },
  {
   "cell_type": "markdown",
   "metadata": {},
   "source": [
    "Create the training sets again.\n",
    "\n",
    "**Hint:** Use the `split_data` function that you defined (and used) earlier.\n",
    "\n",
    "\n",
    "codigo"
   ]
  },
  {
   "cell_type": "code",
   "execution_count": 78,
   "metadata": {
    "tags": []
   },
   "outputs": [
    {
     "name": "stdout",
     "output_type": "stream",
     "text": [
      "         target  Distance  DepHourofDay  AWND_O  PRCP_O  TAVG_O  AWND_D  \\\n",
      "546265      0.0     337.0             9      51       0   202.0      37   \n",
      "561910      0.0     370.0            14      35       0   233.0      33   \n",
      "959567      1.0     967.0            19      13       0   139.0      43   \n",
      "590147      0.0     868.0             6      20       0   152.0      46   \n",
      "372546      1.0     606.0            18      36       0   165.0      60   \n",
      "...         ...       ...           ...     ...     ...     ...     ...   \n",
      "15509       0.0     862.0             8      43       0   182.0      37   \n",
      "622677      0.0     602.0            11      16       0   147.0      56   \n",
      "1181557     0.0     602.0            13      29       0   323.0      41   \n",
      "1557579     0.0     606.0            22      55       0    18.0      44   \n",
      "1528170     0.0     888.0            15      30       0    96.0      57   \n",
      "\n",
      "         PRCP_D  TAVG_D  SNOW_O  ...  Origin_SFO  Dest_CLT  Dest_DEN  \\\n",
      "546265        0   199.0     0.0  ...           0         0         0   \n",
      "561910        0   177.0     0.0  ...           0         0         0   \n",
      "959567        0   -69.0     0.0  ...           1         0         1   \n",
      "590147        0    91.0     0.0  ...           0         0         0   \n",
      "372546        0    48.0     0.0  ...           0         0         0   \n",
      "...         ...     ...     ...  ...         ...       ...       ...   \n",
      "15509         0   280.0     0.0  ...           0         0         0   \n",
      "622677        0    51.0     0.0  ...           0         0         1   \n",
      "1181557       0   183.0     0.0  ...           0         0         1   \n",
      "1557579       0   -51.0     0.0  ...           0         0         0   \n",
      "1528170     201   149.0     0.0  ...           0         0         0   \n",
      "\n",
      "         Dest_DFW  Dest_IAH  Dest_LAX  Dest_ORD  Dest_PHX  Dest_SFO  \\\n",
      "546265          0         0         0         0         0         1   \n",
      "561910          0         0         1         0         0         0   \n",
      "959567          0         0         0         0         0         0   \n",
      "590147          1         0         0         0         0         0   \n",
      "372546          0         0         0         1         0         0   \n",
      "...           ...       ...       ...       ...       ...       ...   \n",
      "15509           0         0         1         0         0         0   \n",
      "622677          0         0         0         0         0         0   \n",
      "1181557         0         0         0         0         0         0   \n",
      "1557579         0         0         0         1         0         0   \n",
      "1528170         0         0         0         1         0         0   \n",
      "\n",
      "         is_holiday_1  \n",
      "546265              0  \n",
      "561910              0  \n",
      "959567              0  \n",
      "590147              0  \n",
      "372546              0  \n",
      "...               ...  \n",
      "15509               0  \n",
      "622677              0  \n",
      "1181557             0  \n",
      "1557579             0  \n",
      "1528170             0  \n",
      "\n",
      "[1308472 rows x 86 columns]\n",
      "         target  Distance  DepHourofDay  AWND_O  PRCP_O  TAVG_O  AWND_D  \\\n",
      "875735      0.0     606.0             9      46     173   142.0      47   \n",
      "872678      0.0     651.0            15      55       0   141.0      48   \n",
      "1078761     0.0    1440.0             5      29       0   216.0      37   \n",
      "805898      0.0    1235.0             5      18       0   160.0      52   \n",
      "1557462     0.0     731.0            16      55       0    18.0      23   \n",
      "...         ...       ...           ...     ...     ...     ...     ...   \n",
      "960737      0.0     651.0            11      22      18   124.0      31   \n",
      "944375      0.0     936.0            16      25      15    81.0      20   \n",
      "280236      0.0     337.0             8      22       0   173.0      13   \n",
      "534851      0.0     802.0            20      29      18   211.0      58   \n",
      "669133      0.0    1846.0            16      66       0   151.0      27   \n",
      "\n",
      "         PRCP_D  TAVG_D  SNOW_O  ...  Origin_SFO  Dest_CLT  Dest_DEN  \\\n",
      "875735        0   214.0     0.0  ...           0         0         0   \n",
      "872678        0   288.0     0.0  ...           1         0         0   \n",
      "1078761       0   369.0     0.0  ...           0         0         0   \n",
      "805898      119   103.0     0.0  ...           0         0         0   \n",
      "1557462       0    -1.0     0.0  ...           0         0         0   \n",
      "...         ...     ...     ...  ...         ...       ...       ...   \n",
      "960737        0   122.0     0.0  ...           0         0         0   \n",
      "944375       13    60.0     0.0  ...           0         0         0   \n",
      "280236        0   157.0     0.0  ...           0         0         0   \n",
      "534851        0   294.0     0.0  ...           0         0         0   \n",
      "669133        0   230.0     0.0  ...           1         0         0   \n",
      "\n",
      "         Dest_DFW  Dest_IAH  Dest_LAX  Dest_ORD  Dest_PHX  Dest_SFO  \\\n",
      "875735          0         0         0         0         0         0   \n",
      "872678          0         0         0         0         1         0   \n",
      "1078761         0         0         0         0         1         0   \n",
      "805898          1         0         0         0         0         0   \n",
      "1557462         1         0         0         0         0         0   \n",
      "...           ...       ...       ...       ...       ...       ...   \n",
      "960737          0         0         0         0         0         1   \n",
      "944375          1         0         0         0         0         0   \n",
      "280236          0         0         0         0         0         1   \n",
      "534851          1         0         0         0         0         0   \n",
      "669133          0         0         0         1         0         0   \n",
      "\n",
      "         is_holiday_1  \n",
      "875735              0  \n",
      "872678              0  \n",
      "1078761             1  \n",
      "805898              0  \n",
      "1557462             0  \n",
      "...               ...  \n",
      "960737              0  \n",
      "944375              0  \n",
      "280236              0  \n",
      "534851              0  \n",
      "669133              0  \n",
      "\n",
      "[163559 rows x 86 columns]\n",
      "         target  Distance  DepHourofDay  AWND_O  PRCP_O  TAVG_O  AWND_D  \\\n",
      "1496555     0.0    1379.0            21      60       8   196.0      33   \n",
      "210585      0.0     802.0            10      30       0   196.0      44   \n",
      "872617      1.0     370.0            18      55       0   300.0      46   \n",
      "1041712     0.0    1199.0            13      65       0   102.0      30   \n",
      "1166419     0.0     337.0            13      21       0   147.0      40   \n",
      "...         ...       ...           ...     ...     ...     ...     ...   \n",
      "1276189     0.0    1587.0             8      38       0   377.0      66   \n",
      "843628      1.0     862.0            15      32       0   245.0      43   \n",
      "138142      0.0     226.0            16      25       0    79.0      58   \n",
      "704737      1.0    2296.0            20      31       0   253.0      47   \n",
      "147006      0.0    1235.0            11      38       0   184.0      36   \n",
      "\n",
      "         PRCP_D  TAVG_D  SNOW_O  ...  Origin_SFO  Dest_CLT  Dest_DEN  \\\n",
      "1496555       0   173.0     0.0  ...           0         0         0   \n",
      "210585        0    23.0     0.0  ...           0         0         0   \n",
      "872617        0   166.0     0.0  ...           0         0         0   \n",
      "1041712       0    72.0     0.0  ...           0         0         0   \n",
      "1166419      18   145.0     0.0  ...           0         0         0   \n",
      "...         ...     ...     ...  ...         ...       ...       ...   \n",
      "1276189       0   232.0     0.0  ...           0         0         0   \n",
      "843628        0   219.0     0.0  ...           0         0         1   \n",
      "138142        0    63.0     0.0  ...           0         0         0   \n",
      "704737        0   165.0     0.0  ...           0         0         0   \n",
      "147006        0   207.0     0.0  ...           0         0         0   \n",
      "\n",
      "         Dest_DFW  Dest_IAH  Dest_LAX  Dest_ORD  Dest_PHX  Dest_SFO  \\\n",
      "1496555         0         0         1         0         0         0   \n",
      "210585          0         0         0         1         0         0   \n",
      "872617          0         0         1         0         0         0   \n",
      "1041712         0         0         0         0         0         0   \n",
      "1166419         0         0         0         0         0         1   \n",
      "...           ...       ...       ...       ...       ...       ...   \n",
      "1276189         0         0         0         0         0         0   \n",
      "843628          0         0         0         0         0         0   \n",
      "138142          0         0         0         0         0         0   \n",
      "704737          0         0         0         0         0         1   \n",
      "147006          1         0         0         0         0         0   \n",
      "\n",
      "         is_holiday_1  \n",
      "1496555             0  \n",
      "210585              0  \n",
      "872617              0  \n",
      "1041712             0  \n",
      "1166419             0  \n",
      "...               ...  \n",
      "1276189             0  \n",
      "843628              0  \n",
      "138142              0  \n",
      "704737              0  \n",
      "147006              0  \n",
      "\n",
      "[163559 rows x 86 columns]\n"
     ]
    }
   ],
   "source": [
    "train, validate, test = split_data(data)\n",
    "print(train)\n",
    "print(validate)\n",
    "print(test)"
   ]
  },
  {
   "cell_type": "markdown",
   "metadata": {},
   "source": [
    "### New baseline classifier\n",
    "\n",
    "Now, see if these new features add any predictive power to the model.\n",
    "\n",
    "\n",
    "\n",
    "codigo"
   ]
  },
  {
   "cell_type": "code",
   "execution_count": 79,
   "metadata": {
    "tags": []
   },
   "outputs": [],
   "source": [
    "# Instantiate the LinearLearner estimator object\n",
    "classifier_estimator2 = sagemaker.LinearLearner(role=sagemaker.get_execution_role(),\n",
    "                                               instance_count=1,\n",
    "                                               instance_type='ml.m4.xlarge',\n",
    "                                               predictor_type='binary_classifier',\n",
    "                                               binary_classifier_model_selection_criteria = 'cross_entropy_loss')"
   ]
  },
  {
   "cell_type": "markdown",
   "metadata": {},
   "source": [
    "### Sample code\n",
    "\n",
    "```\n",
    "num_classes = len(pd.unique(train_labels)) \n",
    "classifier_estimator2 = sagemaker.LinearLearner(role=sagemaker.get_execution_role(),\n",
    "                                               instance_count=1,\n",
    "                                               instance_type='ml.m4.xlarge',\n",
    "                                               predictor_type='binary_classifier',\n",
    "                                               binary_classifier_model_selection_criteria = 'cross_entropy_loss')\n",
    "```"
   ]
  },
  {
   "cell_type": "code",
   "execution_count": 80,
   "metadata": {
    "tags": []
   },
   "outputs": [],
   "source": [
    "train_records = classifier_estimator2.record_set(train.values[:, 1:].astype(np.float32), train.values[:, 0].astype(np.float32), channel='train')\n",
    "val_records = classifier_estimator2.record_set(validate.values[:, 1:].astype(np.float32), validate.values[:, 0].astype(np.float32), channel='validation')\n",
    "test_records = classifier_estimator2.record_set(test.values[:, 1:].astype(np.float32), test.values[:, 0].astype(np.float32), channel='test')"
   ]
  },
  {
   "cell_type": "markdown",
   "metadata": {},
   "source": [
    "Train your model by using the three datasets that you just created.\n",
    "\n",
    "\n",
    "codigo"
   ]
  },
  {
   "cell_type": "code",
   "execution_count": 81,
   "metadata": {
    "tags": []
   },
   "outputs": [
    {
     "name": "stderr",
     "output_type": "stream",
     "text": [
      "INFO:sagemaker.image_uris:Same images used for training and inference. Defaulting to image scope: inference.\n",
      "INFO:sagemaker.image_uris:Ignoring unnecessary instance type: None.\n",
      "INFO:sagemaker.image_uris:Same images used for training and inference. Defaulting to image scope: inference.\n",
      "INFO:sagemaker.image_uris:Ignoring unnecessary instance type: None.\n",
      "INFO:sagemaker:Creating training-job with name: linear-learner-2024-02-11-08-23-36-669\n"
     ]
    },
    {
     "name": "stdout",
     "output_type": "stream",
     "text": [
      "2024-02-11 08:23:36 Starting - Starting the training job...\n",
      "2024-02-11 08:23:50 Starting - Preparing the instances for training......\n",
      "2024-02-11 08:24:59 Downloading - Downloading input data......\n",
      "2024-02-11 08:25:59 Downloading - Downloading the training image......\n",
      "2024-02-11 08:26:54 Training - Training image download completed. Training in progress...\u001B[34mDocker entrypoint called with argument(s): train\u001B[0m\n",
      "\u001B[34mRunning default environment configuration script\u001B[0m\n",
      "\u001B[34m[02/11/2024 08:27:12 INFO 140048136783680] Reading default configuration from /opt/amazon/lib/python3.8/site-packages/algorithm/resources/default-input.json: {'mini_batch_size': '1000', 'epochs': '15', 'feature_dim': 'auto', 'use_bias': 'true', 'binary_classifier_model_selection_criteria': 'accuracy', 'f_beta': '1.0', 'target_recall': '0.8', 'target_precision': '0.8', 'num_models': 'auto', 'num_calibration_samples': '10000000', 'init_method': 'uniform', 'init_scale': '0.07', 'init_sigma': '0.01', 'init_bias': '0.0', 'optimizer': 'auto', 'loss': 'auto', 'margin': '1.0', 'quantile': '0.5', 'loss_insensitivity': '0.01', 'huber_delta': '1.0', 'num_classes': '1', 'accuracy_top_k': '3', 'wd': 'auto', 'l1': 'auto', 'momentum': 'auto', 'learning_rate': 'auto', 'beta_1': 'auto', 'beta_2': 'auto', 'bias_lr_mult': 'auto', 'bias_wd_mult': 'auto', 'use_lr_scheduler': 'true', 'lr_scheduler_step': 'auto', 'lr_scheduler_factor': 'auto', 'lr_scheduler_minimum_lr': 'auto', 'positive_example_weight_mult': '1.0', 'balance_multiclass_weights': 'false', 'normalize_data': 'true', 'normalize_label': 'auto', 'unbias_data': 'auto', 'unbias_label': 'auto', 'num_point_for_scaler': '10000', '_kvstore': 'auto', '_num_gpus': 'auto', '_num_kv_servers': 'auto', '_log_level': 'info', '_tuning_objective_metric': '', 'early_stopping_patience': '3', 'early_stopping_tolerance': '0.001', '_enable_profiler': 'false'}\u001B[0m\n",
      "\u001B[34m[02/11/2024 08:27:12 INFO 140048136783680] Merging with provided configuration from /opt/ml/input/config/hyperparameters.json: {'binary_classifier_model_selection_criteria': 'cross_entropy_loss', 'feature_dim': '85', 'mini_batch_size': '1000', 'predictor_type': 'binary_classifier'}\u001B[0m\n",
      "\u001B[34m[02/11/2024 08:27:12 INFO 140048136783680] Final configuration: {'mini_batch_size': '1000', 'epochs': '15', 'feature_dim': '85', 'use_bias': 'true', 'binary_classifier_model_selection_criteria': 'cross_entropy_loss', 'f_beta': '1.0', 'target_recall': '0.8', 'target_precision': '0.8', 'num_models': 'auto', 'num_calibration_samples': '10000000', 'init_method': 'uniform', 'init_scale': '0.07', 'init_sigma': '0.01', 'init_bias': '0.0', 'optimizer': 'auto', 'loss': 'auto', 'margin': '1.0', 'quantile': '0.5', 'loss_insensitivity': '0.01', 'huber_delta': '1.0', 'num_classes': '1', 'accuracy_top_k': '3', 'wd': 'auto', 'l1': 'auto', 'momentum': 'auto', 'learning_rate': 'auto', 'beta_1': 'auto', 'beta_2': 'auto', 'bias_lr_mult': 'auto', 'bias_wd_mult': 'auto', 'use_lr_scheduler': 'true', 'lr_scheduler_step': 'auto', 'lr_scheduler_factor': 'auto', 'lr_scheduler_minimum_lr': 'auto', 'positive_example_weight_mult': '1.0', 'balance_multiclass_weights': 'false', 'normalize_data': 'true', 'normalize_label': 'auto', 'unbias_data': 'auto', 'unbias_label': 'auto', 'num_point_for_scaler': '10000', '_kvstore': 'auto', '_num_gpus': 'auto', '_num_kv_servers': 'auto', '_log_level': 'info', '_tuning_objective_metric': '', 'early_stopping_patience': '3', 'early_stopping_tolerance': '0.001', '_enable_profiler': 'false', 'predictor_type': 'binary_classifier'}\u001B[0m\n",
      "\u001B[34m/opt/amazon/lib/python3.8/site-packages/mxnet/model.py:97: SyntaxWarning: \"is\" with a literal. Did you mean \"==\"?\n",
      "  if num_device is 1 and 'dist' not in kvstore:\u001B[0m\n",
      "\u001B[34m/opt/amazon/lib/python3.8/site-packages/scipy/optimize/_shgo.py:495: SyntaxWarning: \"is\" with a literal. Did you mean \"==\"?\n",
      "  if cons['type'] is 'ineq':\u001B[0m\n",
      "\u001B[34m/opt/amazon/lib/python3.8/site-packages/scipy/optimize/_shgo.py:743: SyntaxWarning: \"is not\" with a literal. Did you mean \"!=\"?\n",
      "  if len(self.X_min) is not 0:\u001B[0m\n",
      "\u001B[34m[02/11/2024 08:27:15 WARNING 140048136783680] Loggers have already been setup.\u001B[0m\n",
      "\u001B[34m[02/11/2024 08:27:15 INFO 140048136783680] Final configuration: {'mini_batch_size': '1000', 'epochs': '15', 'feature_dim': '85', 'use_bias': 'true', 'binary_classifier_model_selection_criteria': 'cross_entropy_loss', 'f_beta': '1.0', 'target_recall': '0.8', 'target_precision': '0.8', 'num_models': 'auto', 'num_calibration_samples': '10000000', 'init_method': 'uniform', 'init_scale': '0.07', 'init_sigma': '0.01', 'init_bias': '0.0', 'optimizer': 'auto', 'loss': 'auto', 'margin': '1.0', 'quantile': '0.5', 'loss_insensitivity': '0.01', 'huber_delta': '1.0', 'num_classes': '1', 'accuracy_top_k': '3', 'wd': 'auto', 'l1': 'auto', 'momentum': 'auto', 'learning_rate': 'auto', 'beta_1': 'auto', 'beta_2': 'auto', 'bias_lr_mult': 'auto', 'bias_wd_mult': 'auto', 'use_lr_scheduler': 'true', 'lr_scheduler_step': 'auto', 'lr_scheduler_factor': 'auto', 'lr_scheduler_minimum_lr': 'auto', 'positive_example_weight_mult': '1.0', 'balance_multiclass_weights': 'false', 'normalize_data': 'true', 'normalize_label': 'auto', 'unbias_data': 'auto', 'unbias_label': 'auto', 'num_point_for_scaler': '10000', '_kvstore': 'auto', '_num_gpus': 'auto', '_num_kv_servers': 'auto', '_log_level': 'info', '_tuning_objective_metric': '', 'early_stopping_patience': '3', 'early_stopping_tolerance': '0.001', '_enable_profiler': 'false', 'predictor_type': 'binary_classifier'}\u001B[0m\n",
      "\u001B[34m[02/11/2024 08:27:15 WARNING 140048136783680] Loggers have already been setup.\u001B[0m\n",
      "\u001B[34mProcess 7 is a worker.\u001B[0m\n",
      "\u001B[34m[02/11/2024 08:27:15 INFO 140048136783680] Using default worker.\u001B[0m\n",
      "\u001B[34m[02/11/2024 08:27:15 INFO 140048136783680] Checkpoint loading and saving are disabled.\u001B[0m\n",
      "\u001B[34m[2024-02-11 08:27:15.742] [tensorio] [warning] TensorIO is already initialized; ignoring the initialization routine.\u001B[0m\n",
      "\u001B[34m[2024-02-11 08:27:15.747] [tensorio] [warning] TensorIO is already initialized; ignoring the initialization routine.\u001B[0m\n",
      "\u001B[34m[2024-02-11 08:27:15.802] [tensorio] [info] epoch_stats={\"data_pipeline\": \"/opt/ml/input/data/train\", \"epoch\": 0, \"duration\": 63, \"num_examples\": 1, \"num_bytes\": 388000}\u001B[0m\n",
      "\u001B[34m[02/11/2024 08:27:15 INFO 140048136783680] Create Store: local\u001B[0m\n",
      "\u001B[34m[2024-02-11 08:27:15.929] [tensorio] [info] epoch_stats={\"data_pipeline\": \"/opt/ml/input/data/train\", \"epoch\": 1, \"duration\": 126, \"num_examples\": 11, \"num_bytes\": 4268000}\u001B[0m\n",
      "\u001B[34m[02/11/2024 08:27:15 INFO 140048136783680] Scaler algorithm parameters\n",
      " <algorithm.scaler.ScalerAlgorithmStable object at 0x7f5eeeb7fb50>\u001B[0m\n",
      "\u001B[34m[02/11/2024 08:27:15 INFO 140048136783680] Scaling model computed with parameters:\n",
      " {'stdev_label': None, 'stdev_weight': \u001B[0m\n",
      "\u001B[34m[5.4138239e+02 4.9621396e+00 1.6240253e+01 7.7520493e+01 8.8725891e+01\n",
      " 1.6256939e+01 7.5889015e+01 8.9347168e+01 6.5935192e+00 7.1156206e+00\n",
      " 3.9078474e-01 4.1704232e-01 4.1031685e-01 4.0216541e-01 4.3514338e-01\n",
      " 4.4263145e-01 4.3509188e-01 2.5267959e-01 2.7325350e-01 2.7806830e-01\n",
      " 2.7615684e-01 2.8049824e-01 2.8657204e-01 2.8579065e-01 2.8250003e-01\n",
      " 2.7588221e-01 2.8009540e-01 2.7861097e-01 1.7600000e-01 1.7551577e-01\n",
      " 1.7887397e-01 1.7911108e-01 1.7624155e-01 1.7792189e-01 1.8122914e-01\n",
      " 1.8538180e-01 1.7863652e-01 1.7527309e-01 1.7405385e-01 1.8052630e-01\n",
      " 1.7792188e-01 1.7478654e-01 1.7744365e-01 1.7934784e-01 1.8076093e-01\n",
      " 1.8005601e-01 1.7696393e-01 1.8146272e-01 1.8423910e-01 1.7982030e-01\n",
      " 1.7478657e-01 1.7672351e-01 1.7768295e-01 1.8809141e-01 1.7307144e-01\n",
      " 1.7033654e-01 1.6729525e-01 1.3162570e-01 3.5044330e-01 3.5401529e-01\n",
      " 3.5617808e-01 3.5581943e-01 3.2120353e-01 3.4783390e-01 3.7491244e-01\n",
      " 2.3613442e-01 4.5673436e-01 3.1570172e-01 2.3630403e-01 3.1956971e-01\n",
      " 3.2791474e-01 2.7255571e-01 3.5572970e-01 3.3849078e-01 3.0192962e-01\n",
      " 3.2801935e-01 2.4197930e-01 3.1220865e-01 3.2864580e-01 2.7339280e-01\n",
      " 3.5963660e-01 3.3967298e-01 2.9608151e-01 3.2676014e-01 1.6392863e-01]\u001B[0m\n",
      "\u001B[34m<NDArray 85 @cpu(0)>, 'mean_label': None, 'mean_weight': \u001B[0m\n",
      "\u001B[34m[1.01093372e+03 1.29028196e+01 3.85304565e+01 2.12363644e+01\n",
      " 1.72700684e+02 3.84894562e+01 2.01583652e+01 1.72992752e+02\n",
      " 6.09818161e-01 6.34636402e-01 1.88090920e-01 2.24181831e-01\n",
      " 2.14272738e-01 2.02909082e-01 2.53727257e-01 2.67454565e-01\n",
      " 2.53636390e-01 6.85454682e-02 8.12727287e-02 8.44545513e-02\n",
      " 8.31818283e-02 8.60909149e-02 9.02727246e-02 8.97272751e-02\n",
      " 8.74545574e-02 8.30000117e-02 8.58181864e-02 8.48181769e-02\n",
      " 3.20000015e-02 3.18181850e-02 3.30909155e-02 3.31818275e-02\n",
      " 3.20909098e-02 3.27272750e-02 3.40000018e-02 3.56363654e-02\n",
      " 3.30000035e-02 3.17272730e-02 3.12727280e-02 3.37272733e-02\n",
      " 3.27272713e-02 3.15454602e-02 3.25454585e-02 3.32727283e-02\n",
      " 3.38181853e-02 3.35454568e-02 3.23636383e-02 3.40909176e-02\n",
      " 3.51818167e-02 3.34545486e-02 3.15454565e-02 3.22727300e-02\n",
      " 3.26363631e-02 3.67272794e-02 3.09090950e-02 2.99090948e-02\n",
      " 2.88181864e-02 1.76363662e-02 1.43363670e-01 1.46909103e-01\n",
      " 1.49090916e-01 1.48727268e-01 1.16818190e-01 1.40818179e-01\n",
      " 1.69181839e-01 5.92727289e-02 2.96545476e-01 1.12272732e-01\n",
      " 5.93636408e-02 1.15454547e-01 1.22545466e-01 8.08181837e-02\n",
      " 1.48636371e-01 1.31999999e-01 1.01454563e-01 1.22636378e-01\n",
      " 6.24545477e-02 1.09454572e-01 1.23181835e-01 8.13636333e-02\n",
      " 1.52636364e-01 1.33090913e-01 9.70909223e-02 1.21545464e-01\n",
      " 2.76363660e-02]\u001B[0m\n",
      "\u001B[34m<NDArray 85 @cpu(0)>}\u001B[0m\n",
      "\u001B[34m/opt/amazon/python3.8/lib/python3.8/subprocess.py:848: RuntimeWarning: line buffering (buffering=1) isn't supported in binary mode, the default buffer size will be used\n",
      "  self.stdout = io.open(c2pread, 'rb', bufsize)\u001B[0m\n",
      "\u001B[34m[02/11/2024 08:27:15 INFO 140048136783680] nvidia-smi: took 0.037 seconds to run.\u001B[0m\n",
      "\u001B[34m[02/11/2024 08:27:15 INFO 140048136783680] nvidia-smi identified 0 GPUs.\u001B[0m\n",
      "\u001B[34m[02/11/2024 08:27:15 INFO 140048136783680] Number of GPUs being used: 0\u001B[0m\n",
      "\u001B[34m#metrics {\"StartTime\": 1707640036.047182, \"EndTime\": 1707640036.047226, \"Dimensions\": {\"Algorithm\": \"Linear Learner\", \"Host\": \"algo-1\", \"Operation\": \"training\", \"Meta\": \"init_train_data_iter\"}, \"Metrics\": {\"Total Records Seen\": {\"sum\": 12000.0, \"count\": 1, \"min\": 12000, \"max\": 12000}, \"Total Batches Seen\": {\"sum\": 12.0, \"count\": 1, \"min\": 12, \"max\": 12}, \"Max Records Seen Between Resets\": {\"sum\": 11000.0, \"count\": 1, \"min\": 11000, \"max\": 11000}, \"Max Batches Seen Between Resets\": {\"sum\": 11.0, \"count\": 1, \"min\": 11, \"max\": 11}, \"Reset Count\": {\"sum\": 2.0, \"count\": 1, \"min\": 2, \"max\": 2}, \"Number of Records Since Last Reset\": {\"sum\": 0.0, \"count\": 1, \"min\": 0, \"max\": 0}, \"Number of Batches Since Last Reset\": {\"sum\": 0.0, \"count\": 1, \"min\": 0, \"max\": 0}}}\u001B[0m\n",
      "\u001B[34m[2024-02-11 08:27:50.750] [tensorio] [info] epoch_stats={\"data_pipeline\": \"/opt/ml/input/data/train\", \"epoch\": 3, \"duration\": 34702, \"num_examples\": 1309, \"num_bytes\": 507687136}\u001B[0m\n",
      "\u001B[34m#metrics {\"StartTime\": 1707640070.7501748, \"EndTime\": 1707640070.7502568, \"Dimensions\": {\"Algorithm\": \"Linear Learner\", \"Host\": \"algo-1\", \"Operation\": \"training\", \"epoch\": 0, \"model\": 0}, \"Metrics\": {\"train_binary_classification_cross_entropy_objective\": {\"sum\": 0.48294616526565787, \"count\": 1, \"min\": 0.48294616526565787, \"max\": 0.48294616526565787}}}\u001B[0m\n",
      "\u001B[34m#metrics {\"StartTime\": 1707640070.7503467, \"EndTime\": 1707640070.750365, \"Dimensions\": {\"Algorithm\": \"Linear Learner\", \"Host\": \"algo-1\", \"Operation\": \"training\", \"epoch\": 0, \"model\": 1}, \"Metrics\": {\"train_binary_classification_cross_entropy_objective\": {\"sum\": 0.48356658720897244, \"count\": 1, \"min\": 0.48356658720897244, \"max\": 0.48356658720897244}}}\u001B[0m\n",
      "\u001B[34m#metrics {\"StartTime\": 1707640070.750416, \"EndTime\": 1707640070.7504282, \"Dimensions\": {\"Algorithm\": \"Linear Learner\", \"Host\": \"algo-1\", \"Operation\": \"training\", \"epoch\": 0, \"model\": 2}, \"Metrics\": {\"train_binary_classification_cross_entropy_objective\": {\"sum\": 0.48305083054942094, \"count\": 1, \"min\": 0.48305083054942094, \"max\": 0.48305083054942094}}}\u001B[0m\n",
      "\u001B[34m#metrics {\"StartTime\": 1707640070.7504709, \"EndTime\": 1707640070.750483, \"Dimensions\": {\"Algorithm\": \"Linear Learner\", \"Host\": \"algo-1\", \"Operation\": \"training\", \"epoch\": 0, \"model\": 3}, \"Metrics\": {\"train_binary_classification_cross_entropy_objective\": {\"sum\": 0.483572481627858, \"count\": 1, \"min\": 0.483572481627858, \"max\": 0.483572481627858}}}\u001B[0m\n",
      "\u001B[34m#metrics {\"StartTime\": 1707640070.7505329, \"EndTime\": 1707640070.750546, \"Dimensions\": {\"Algorithm\": \"Linear Learner\", \"Host\": \"algo-1\", \"Operation\": \"training\", \"epoch\": 0, \"model\": 4}, \"Metrics\": {\"train_binary_classification_cross_entropy_objective\": {\"sum\": 0.4951674908512594, \"count\": 1, \"min\": 0.4951674908512594, \"max\": 0.4951674908512594}}}\u001B[0m\n",
      "\u001B[34m#metrics {\"StartTime\": 1707640070.7505765, \"EndTime\": 1707640070.750588, \"Dimensions\": {\"Algorithm\": \"Linear Learner\", \"Host\": \"algo-1\", \"Operation\": \"training\", \"epoch\": 0, \"model\": 5}, \"Metrics\": {\"train_binary_classification_cross_entropy_objective\": {\"sum\": 0.5044316486510297, \"count\": 1, \"min\": 0.5044316486510297, \"max\": 0.5044316486510297}}}\u001B[0m\n",
      "\u001B[34m#metrics {\"StartTime\": 1707640070.7506235, \"EndTime\": 1707640070.7506351, \"Dimensions\": {\"Algorithm\": \"Linear Learner\", \"Host\": \"algo-1\", \"Operation\": \"training\", \"epoch\": 0, \"model\": 6}, \"Metrics\": {\"train_binary_classification_cross_entropy_objective\": {\"sum\": 0.49521241683260014, \"count\": 1, \"min\": 0.49521241683260014, \"max\": 0.49521241683260014}}}\u001B[0m\n",
      "\u001B[34m#metrics {\"StartTime\": 1707640070.7506762, \"EndTime\": 1707640070.750687, \"Dimensions\": {\"Algorithm\": \"Linear Learner\", \"Host\": \"algo-1\", \"Operation\": \"training\", \"epoch\": 0, \"model\": 7}, \"Metrics\": {\"train_binary_classification_cross_entropy_objective\": {\"sum\": 0.504471687386889, \"count\": 1, \"min\": 0.504471687386889, \"max\": 0.504471687386889}}}\u001B[0m\n",
      "\u001B[34m#metrics {\"StartTime\": 1707640070.7507257, \"EndTime\": 1707640070.7507384, \"Dimensions\": {\"Algorithm\": \"Linear Learner\", \"Host\": \"algo-1\", \"Operation\": \"training\", \"epoch\": 0, \"model\": 8}, \"Metrics\": {\"train_binary_classification_cross_entropy_objective\": {\"sum\": 0.48323023489855843, \"count\": 1, \"min\": 0.48323023489855843, \"max\": 0.48323023489855843}}}\u001B[0m\n",
      "\u001B[34m#metrics {\"StartTime\": 1707640070.7507823, \"EndTime\": 1707640070.7507942, \"Dimensions\": {\"Algorithm\": \"Linear Learner\", \"Host\": \"algo-1\", \"Operation\": \"training\", \"epoch\": 0, \"model\": 9}, \"Metrics\": {\"train_binary_classification_cross_entropy_objective\": {\"sum\": 0.4837346364059215, \"count\": 1, \"min\": 0.4837346364059215, \"max\": 0.4837346364059215}}}\u001B[0m\n",
      "\u001B[34m#metrics {\"StartTime\": 1707640070.7508364, \"EndTime\": 1707640070.7508495, \"Dimensions\": {\"Algorithm\": \"Linear Learner\", \"Host\": \"algo-1\", \"Operation\": \"training\", \"epoch\": 0, \"model\": 10}, \"Metrics\": {\"train_binary_classification_cross_entropy_objective\": {\"sum\": 0.4831728181751496, \"count\": 1, \"min\": 0.4831728181751496, \"max\": 0.4831728181751496}}}\u001B[0m\n",
      "\u001B[34m#metrics {\"StartTime\": 1707640070.7508929, \"EndTime\": 1707640070.7509055, \"Dimensions\": {\"Algorithm\": \"Linear Learner\", \"Host\": \"algo-1\", \"Operation\": \"training\", \"epoch\": 0, \"model\": 11}, \"Metrics\": {\"train_binary_classification_cross_entropy_objective\": {\"sum\": 0.4836988004165323, \"count\": 1, \"min\": 0.4836988004165323, \"max\": 0.4836988004165323}}}\u001B[0m\n",
      "\u001B[34m#metrics {\"StartTime\": 1707640070.750951, \"EndTime\": 1707640070.7509644, \"Dimensions\": {\"Algorithm\": \"Linear Learner\", \"Host\": \"algo-1\", \"Operation\": \"training\", \"epoch\": 0, \"model\": 12}, \"Metrics\": {\"train_binary_classification_cross_entropy_objective\": {\"sum\": 0.4943638154009431, \"count\": 1, \"min\": 0.4943638154009431, \"max\": 0.4943638154009431}}}\u001B[0m\n",
      "\u001B[34m#metrics {\"StartTime\": 1707640070.7510078, \"EndTime\": 1707640070.75102, \"Dimensions\": {\"Algorithm\": \"Linear Learner\", \"Host\": \"algo-1\", \"Operation\": \"training\", \"epoch\": 0, \"model\": 13}, \"Metrics\": {\"train_binary_classification_cross_entropy_objective\": {\"sum\": 0.5029517972753682, \"count\": 1, \"min\": 0.5029517972753682, \"max\": 0.5029517972753682}}}\u001B[0m\n",
      "\u001B[34m#metrics {\"StartTime\": 1707640070.7510612, \"EndTime\": 1707640070.7511582, \"Dimensions\": {\"Algorithm\": \"Linear Learner\", \"Host\": \"algo-1\", \"Operation\": \"training\", \"epoch\": 0, \"model\": 14}, \"Metrics\": {\"train_binary_classification_cross_entropy_objective\": {\"sum\": 0.49434089306006007, \"count\": 1, \"min\": 0.49434089306006007, \"max\": 0.49434089306006007}}}\u001B[0m\n",
      "\u001B[34m#metrics {\"StartTime\": 1707640070.7512167, \"EndTime\": 1707640070.7512333, \"Dimensions\": {\"Algorithm\": \"Linear Learner\", \"Host\": \"algo-1\", \"Operation\": \"training\", \"epoch\": 0, \"model\": 15}, \"Metrics\": {\"train_binary_classification_cross_entropy_objective\": {\"sum\": 0.5029659092754399, \"count\": 1, \"min\": 0.5029659092754399, \"max\": 0.5029659092754399}}}\u001B[0m\n",
      "\u001B[34m#metrics {\"StartTime\": 1707640070.7512746, \"EndTime\": 1707640070.7512867, \"Dimensions\": {\"Algorithm\": \"Linear Learner\", \"Host\": \"algo-1\", \"Operation\": \"training\", \"epoch\": 0, \"model\": 16}, \"Metrics\": {\"train_binary_classification_cross_entropy_objective\": {\"sum\": 0.5056275937608258, \"count\": 1, \"min\": 0.5056275937608258, \"max\": 0.5056275937608258}}}\u001B[0m\n",
      "\u001B[34m#metrics {\"StartTime\": 1707640070.7513332, \"EndTime\": 1707640070.7513454, \"Dimensions\": {\"Algorithm\": \"Linear Learner\", \"Host\": \"algo-1\", \"Operation\": \"training\", \"epoch\": 0, \"model\": 17}, \"Metrics\": {\"train_binary_classification_cross_entropy_objective\": {\"sum\": 0.505750980435526, \"count\": 1, \"min\": 0.505750980435526, \"max\": 0.505750980435526}}}\u001B[0m\n",
      "\u001B[34m#metrics {\"StartTime\": 1707640070.7513847, \"EndTime\": 1707640070.7513971, \"Dimensions\": {\"Algorithm\": \"Linear Learner\", \"Host\": \"algo-1\", \"Operation\": \"training\", \"epoch\": 0, \"model\": 18}, \"Metrics\": {\"train_binary_classification_cross_entropy_objective\": {\"sum\": 0.5056016867401403, \"count\": 1, \"min\": 0.5056016867401403, \"max\": 0.5056016867401403}}}\u001B[0m\n",
      "\u001B[34m#metrics {\"StartTime\": 1707640070.751438, \"EndTime\": 1707640070.7514503, \"Dimensions\": {\"Algorithm\": \"Linear Learner\", \"Host\": \"algo-1\", \"Operation\": \"training\", \"epoch\": 0, \"model\": 19}, \"Metrics\": {\"train_binary_classification_cross_entropy_objective\": {\"sum\": 0.5057098653017563, \"count\": 1, \"min\": 0.5057098653017563, \"max\": 0.5057098653017563}}}\u001B[0m\n",
      "\u001B[34m#metrics {\"StartTime\": 1707640070.7514966, \"EndTime\": 1707640070.7515097, \"Dimensions\": {\"Algorithm\": \"Linear Learner\", \"Host\": \"algo-1\", \"Operation\": \"training\", \"epoch\": 0, \"model\": 20}, \"Metrics\": {\"train_binary_classification_cross_entropy_objective\": {\"sum\": 0.5070256365154862, \"count\": 1, \"min\": 0.5070256365154862, \"max\": 0.5070256365154862}}}\u001B[0m\n",
      "\u001B[34m#metrics {\"StartTime\": 1707640070.751553, \"EndTime\": 1707640070.7515664, \"Dimensions\": {\"Algorithm\": \"Linear Learner\", \"Host\": \"algo-1\", \"Operation\": \"training\", \"epoch\": 0, \"model\": 21}, \"Metrics\": {\"train_binary_classification_cross_entropy_objective\": {\"sum\": 0.5087144507778529, \"count\": 1, \"min\": 0.5087144507778529, \"max\": 0.5087144507778529}}}\u001B[0m\n",
      "\u001B[34m#metrics {\"StartTime\": 1707640070.7516084, \"EndTime\": 1707640070.751621, \"Dimensions\": {\"Algorithm\": \"Linear Learner\", \"Host\": \"algo-1\", \"Operation\": \"training\", \"epoch\": 0, \"model\": 22}, \"Metrics\": {\"train_binary_classification_cross_entropy_objective\": {\"sum\": 0.5069636562009106, \"count\": 1, \"min\": 0.5069636562009106, \"max\": 0.5069636562009106}}}\u001B[0m\n",
      "\u001B[34m#metrics {\"StartTime\": 1707640070.7517474, \"EndTime\": 1707640070.7517996, \"Dimensions\": {\"Algorithm\": \"Linear Learner\", \"Host\": \"algo-1\", \"Operation\": \"training\", \"epoch\": 0, \"model\": 23}, \"Metrics\": {\"train_binary_classification_cross_entropy_objective\": {\"sum\": 0.508713288823399, \"count\": 1, \"min\": 0.508713288823399, \"max\": 0.508713288823399}}}\u001B[0m\n",
      "\u001B[34m#metrics {\"StartTime\": 1707640070.7518544, \"EndTime\": 1707640070.7518687, \"Dimensions\": {\"Algorithm\": \"Linear Learner\", \"Host\": \"algo-1\", \"Operation\": \"training\", \"epoch\": 0, \"model\": 24}, \"Metrics\": {\"train_binary_classification_cross_entropy_objective\": {\"sum\": 0.5150275858841176, \"count\": 1, \"min\": 0.5150275858841176, \"max\": 0.5150275858841176}}}\u001B[0m\n",
      "\u001B[34m#metrics {\"StartTime\": 1707640070.7519124, \"EndTime\": 1707640070.7519264, \"Dimensions\": {\"Algorithm\": \"Linear Learner\", \"Host\": \"algo-1\", \"Operation\": \"training\", \"epoch\": 0, \"model\": 25}, \"Metrics\": {\"train_binary_classification_cross_entropy_objective\": {\"sum\": 0.5150557486391213, \"count\": 1, \"min\": 0.5150557486391213, \"max\": 0.5150557486391213}}}\u001B[0m\n",
      "\u001B[34m#metrics {\"StartTime\": 1707640070.7519677, \"EndTime\": 1707640070.751981, \"Dimensions\": {\"Algorithm\": \"Linear Learner\", \"Host\": \"algo-1\", \"Operation\": \"training\", \"epoch\": 0, \"model\": 26}, \"Metrics\": {\"train_binary_classification_cross_entropy_objective\": {\"sum\": 0.5150454099229352, \"count\": 1, \"min\": 0.5150454099229352, \"max\": 0.5150454099229352}}}\u001B[0m\n",
      "\u001B[34m#metrics {\"StartTime\": 1707640070.7520242, \"EndTime\": 1707640070.7520368, \"Dimensions\": {\"Algorithm\": \"Linear Learner\", \"Host\": \"algo-1\", \"Operation\": \"training\", \"epoch\": 0, \"model\": 27}, \"Metrics\": {\"train_binary_classification_cross_entropy_objective\": {\"sum\": 0.5150675938457524, \"count\": 1, \"min\": 0.5150675938457524, \"max\": 0.5150675938457524}}}\u001B[0m\n",
      "\u001B[34m#metrics {\"StartTime\": 1707640070.7520823, \"EndTime\": 1707640070.7520955, \"Dimensions\": {\"Algorithm\": \"Linear Learner\", \"Host\": \"algo-1\", \"Operation\": \"training\", \"epoch\": 0, \"model\": 28}, \"Metrics\": {\"train_binary_classification_cross_entropy_objective\": {\"sum\": 0.5150277319625248, \"count\": 1, \"min\": 0.5150277319625248, \"max\": 0.5150277319625248}}}\u001B[0m\n",
      "\u001B[34m#metrics {\"StartTime\": 1707640070.7521396, \"EndTime\": 1707640070.7521527, \"Dimensions\": {\"Algorithm\": \"Linear Learner\", \"Host\": \"algo-1\", \"Operation\": \"training\", \"epoch\": 0, \"model\": 29}, \"Metrics\": {\"train_binary_classification_cross_entropy_objective\": {\"sum\": 0.5157400548625795, \"count\": 1, \"min\": 0.5157400548625795, \"max\": 0.5157400548625795}}}\u001B[0m\n",
      "\u001B[34m#metrics {\"StartTime\": 1707640070.7521977, \"EndTime\": 1707640070.7522094, \"Dimensions\": {\"Algorithm\": \"Linear Learner\", \"Host\": \"algo-1\", \"Operation\": \"training\", \"epoch\": 0, \"model\": 30}, \"Metrics\": {\"train_binary_classification_cross_entropy_objective\": {\"sum\": 0.5150161588243024, \"count\": 1, \"min\": 0.5150161588243024, \"max\": 0.5150161588243024}}}\u001B[0m\n",
      "\u001B[34m#metrics {\"StartTime\": 1707640070.7522526, \"EndTime\": 1707640070.7522652, \"Dimensions\": {\"Algorithm\": \"Linear Learner\", \"Host\": \"algo-1\", \"Operation\": \"training\", \"epoch\": 0, \"model\": 31}, \"Metrics\": {\"train_binary_classification_cross_entropy_objective\": {\"sum\": 0.5157767517136507, \"count\": 1, \"min\": 0.5157767517136507, \"max\": 0.5157767517136507}}}\u001B[0m\n",
      "\u001B[34m[02/11/2024 08:27:50 INFO 140048136783680] #quality_metric: host=algo-1, epoch=0, train binary_classification_cross_entropy_objective <loss>=0.48294616526565787\u001B[0m\n",
      "\u001B[34m[2024-02-11 08:27:50.774] [tensorio] [info] epoch_stats={\"data_pipeline\": \"/opt/ml/input/data/validation\", \"epoch\": 0, \"duration\": 35032, \"num_examples\": 1, \"num_bytes\": 388000}\u001B[0m\n",
      "\u001B[34m[2024-02-11 08:27:54.690] [tensorio] [info] epoch_stats={\"data_pipeline\": \"/opt/ml/input/data/validation\", \"epoch\": 2, \"duration\": 3915, \"num_examples\": 164, \"num_bytes\": 63460892}\u001B[0m\n",
      "\u001B[34m#metrics {\"StartTime\": 1707640074.6999786, \"EndTime\": 1707640074.7000678, \"Dimensions\": {\"Algorithm\": \"Linear Learner\", \"Host\": \"algo-1\", \"Operation\": \"training\", \"epoch\": 0, \"model\": 0}, \"Metrics\": {\"validation_binary_classification_cross_entropy_objective\": {\"sum\": 0.48080562070772004, \"count\": 1, \"min\": 0.48080562070772004, \"max\": 0.48080562070772004}}}\u001B[0m\n",
      "\u001B[34m#metrics {\"StartTime\": 1707640074.7006333, \"EndTime\": 1707640074.7007017, \"Dimensions\": {\"Algorithm\": \"Linear Learner\", \"Host\": \"algo-1\", \"Operation\": \"training\", \"epoch\": 0, \"model\": 1}, \"Metrics\": {\"validation_binary_classification_cross_entropy_objective\": {\"sum\": 0.4821166355934274, \"count\": 1, \"min\": 0.4821166355934274, \"max\": 0.4821166355934274}}}\u001B[0m\n",
      "\u001B[34m#metrics {\"StartTime\": 1707640074.7011347, \"EndTime\": 1707640074.7011988, \"Dimensions\": {\"Algorithm\": \"Linear Learner\", \"Host\": \"algo-1\", \"Operation\": \"training\", \"epoch\": 0, \"model\": 2}, \"Metrics\": {\"validation_binary_classification_cross_entropy_objective\": {\"sum\": 0.4808045248968119, \"count\": 1, \"min\": 0.4808045248968119, \"max\": 0.4808045248968119}}}\u001B[0m\n",
      "\u001B[34m#metrics {\"StartTime\": 1707640074.7016315, \"EndTime\": 1707640074.7016938, \"Dimensions\": {\"Algorithm\": \"Linear Learner\", \"Host\": \"algo-1\", \"Operation\": \"training\", \"epoch\": 0, \"model\": 3}, \"Metrics\": {\"validation_binary_classification_cross_entropy_objective\": {\"sum\": 0.48211955545464, \"count\": 1, \"min\": 0.48211955545464, \"max\": 0.48211955545464}}}\u001B[0m\n",
      "\u001B[34m#metrics {\"StartTime\": 1707640074.7021, \"EndTime\": 1707640074.7021646, \"Dimensions\": {\"Algorithm\": \"Linear Learner\", \"Host\": \"algo-1\", \"Operation\": \"training\", \"epoch\": 0, \"model\": 4}, \"Metrics\": {\"validation_binary_classification_cross_entropy_objective\": {\"sum\": 0.48842989330720776, \"count\": 1, \"min\": 0.48842989330720776, \"max\": 0.48842989330720776}}}\u001B[0m\n",
      "\u001B[34m#metrics {\"StartTime\": 1707640074.7025764, \"EndTime\": 1707640074.7026381, \"Dimensions\": {\"Algorithm\": \"Linear Learner\", \"Host\": \"algo-1\", \"Operation\": \"training\", \"epoch\": 0, \"model\": 5}, \"Metrics\": {\"validation_binary_classification_cross_entropy_objective\": {\"sum\": 0.5052305543684136, \"count\": 1, \"min\": 0.5052305543684136, \"max\": 0.5052305543684136}}}\u001B[0m\n",
      "\u001B[34m#metrics {\"StartTime\": 1707640074.703046, \"EndTime\": 1707640074.7031083, \"Dimensions\": {\"Algorithm\": \"Linear Learner\", \"Host\": \"algo-1\", \"Operation\": \"training\", \"epoch\": 0, \"model\": 6}, \"Metrics\": {\"validation_binary_classification_cross_entropy_objective\": {\"sum\": 0.48842925780031976, \"count\": 1, \"min\": 0.48842925780031976, \"max\": 0.48842925780031976}}}\u001B[0m\n",
      "\u001B[34m#metrics {\"StartTime\": 1707640074.7035165, \"EndTime\": 1707640074.70358, \"Dimensions\": {\"Algorithm\": \"Linear Learner\", \"Host\": \"algo-1\", \"Operation\": \"training\", \"epoch\": 0, \"model\": 7}, \"Metrics\": {\"validation_binary_classification_cross_entropy_objective\": {\"sum\": 0.5052138156842008, \"count\": 1, \"min\": 0.5052138156842008, \"max\": 0.5052138156842008}}}\u001B[0m\n",
      "\u001B[34m#metrics {\"StartTime\": 1707640074.7040346, \"EndTime\": 1707640074.7040982, \"Dimensions\": {\"Algorithm\": \"Linear Learner\", \"Host\": \"algo-1\", \"Operation\": \"training\", \"epoch\": 0, \"model\": 8}, \"Metrics\": {\"validation_binary_classification_cross_entropy_objective\": {\"sum\": 0.4810367687059911, \"count\": 1, \"min\": 0.4810367687059911, \"max\": 0.4810367687059911}}}\u001B[0m\n",
      "\u001B[34m#metrics {\"StartTime\": 1707640074.7044966, \"EndTime\": 1707640074.704542, \"Dimensions\": {\"Algorithm\": \"Linear Learner\", \"Host\": \"algo-1\", \"Operation\": \"training\", \"epoch\": 0, \"model\": 9}, \"Metrics\": {\"validation_binary_classification_cross_entropy_objective\": {\"sum\": 0.48220607376539437, \"count\": 1, \"min\": 0.48220607376539437, \"max\": 0.48220607376539437}}}\u001B[0m\n",
      "\u001B[34m#metrics {\"StartTime\": 1707640074.7050135, \"EndTime\": 1707640074.7050405, \"Dimensions\": {\"Algorithm\": \"Linear Learner\", \"Host\": \"algo-1\", \"Operation\": \"training\", \"epoch\": 0, \"model\": 10}, \"Metrics\": {\"validation_binary_classification_cross_entropy_objective\": {\"sum\": 0.4810390868321146, \"count\": 1, \"min\": 0.4810390868321146, \"max\": 0.4810390868321146}}}\u001B[0m\n",
      "\u001B[34m#metrics {\"StartTime\": 1707640074.7054746, \"EndTime\": 1707640074.7055016, \"Dimensions\": {\"Algorithm\": \"Linear Learner\", \"Host\": \"algo-1\", \"Operation\": \"training\", \"epoch\": 0, \"model\": 11}, \"Metrics\": {\"validation_binary_classification_cross_entropy_objective\": {\"sum\": 0.48220491376941005, \"count\": 1, \"min\": 0.48220491376941005, \"max\": 0.48220491376941005}}}\u001B[0m\n",
      "\u001B[34m#metrics {\"StartTime\": 1707640074.7056797, \"EndTime\": 1707640074.7057018, \"Dimensions\": {\"Algorithm\": \"Linear Learner\", \"Host\": \"algo-1\", \"Operation\": \"training\", \"epoch\": 0, \"model\": 12}, \"Metrics\": {\"validation_binary_classification_cross_entropy_objective\": {\"sum\": 0.4883990018136971, \"count\": 1, \"min\": 0.4883990018136971, \"max\": 0.4883990018136971}}}\u001B[0m\n",
      "\u001B[34m#metrics {\"StartTime\": 1707640074.7058573, \"EndTime\": 1707640074.7058775, \"Dimensions\": {\"Algorithm\": \"Linear Learner\", \"Host\": \"algo-1\", \"Operation\": \"training\", \"epoch\": 0, \"model\": 13}, \"Metrics\": {\"validation_binary_classification_cross_entropy_objective\": {\"sum\": 0.5031511623968047, \"count\": 1, \"min\": 0.5031511623968047, \"max\": 0.5031511623968047}}}\u001B[0m\n",
      "\u001B[34m#metrics {\"StartTime\": 1707640074.7060337, \"EndTime\": 1707640074.7060537, \"Dimensions\": {\"Algorithm\": \"Linear Learner\", \"Host\": \"algo-1\", \"Operation\": \"training\", \"epoch\": 0, \"model\": 14}, \"Metrics\": {\"validation_binary_classification_cross_entropy_objective\": {\"sum\": 0.48839971214097916, \"count\": 1, \"min\": 0.48839971214097916, \"max\": 0.48839971214097916}}}\u001B[0m\n",
      "\u001B[34m#metrics {\"StartTime\": 1707640074.7062066, \"EndTime\": 1707640074.7062254, \"Dimensions\": {\"Algorithm\": \"Linear Learner\", \"Host\": \"algo-1\", \"Operation\": \"training\", \"epoch\": 0, \"model\": 15}, \"Metrics\": {\"validation_binary_classification_cross_entropy_objective\": {\"sum\": 0.5031522567150367, \"count\": 1, \"min\": 0.5031522567150367, \"max\": 0.5031522567150367}}}\u001B[0m\n",
      "\u001B[34m#metrics {\"StartTime\": 1707640074.7063692, \"EndTime\": 1707640074.7063909, \"Dimensions\": {\"Algorithm\": \"Linear Learner\", \"Host\": \"algo-1\", \"Operation\": \"training\", \"epoch\": 0, \"model\": 16}, \"Metrics\": {\"validation_binary_classification_cross_entropy_objective\": {\"sum\": 0.5038632863012162, \"count\": 1, \"min\": 0.5038632863012162, \"max\": 0.5038632863012162}}}\u001B[0m\n",
      "\u001B[34m#metrics {\"StartTime\": 1707640074.7065377, \"EndTime\": 1707640074.7065563, \"Dimensions\": {\"Algorithm\": \"Linear Learner\", \"Host\": \"algo-1\", \"Operation\": \"training\", \"epoch\": 0, \"model\": 17}, \"Metrics\": {\"validation_binary_classification_cross_entropy_objective\": {\"sum\": 0.5043964308670366, \"count\": 1, \"min\": 0.5043964308670366, \"max\": 0.5043964308670366}}}\u001B[0m\n",
      "\u001B[34m#metrics {\"StartTime\": 1707640074.7067008, \"EndTime\": 1707640074.706722, \"Dimensions\": {\"Algorithm\": \"Linear Learner\", \"Host\": \"algo-1\", \"Operation\": \"training\", \"epoch\": 0, \"model\": 18}, \"Metrics\": {\"validation_binary_classification_cross_entropy_objective\": {\"sum\": 0.5038643653195173, \"count\": 1, \"min\": 0.5038643653195173, \"max\": 0.5038643653195173}}}\u001B[0m\n",
      "\u001B[34m#metrics {\"StartTime\": 1707640074.7068715, \"EndTime\": 1707640074.706891, \"Dimensions\": {\"Algorithm\": \"Linear Learner\", \"Host\": \"algo-1\", \"Operation\": \"training\", \"epoch\": 0, \"model\": 19}, \"Metrics\": {\"validation_binary_classification_cross_entropy_objective\": {\"sum\": 0.5044050206587579, \"count\": 1, \"min\": 0.5044050206587579, \"max\": 0.5044050206587579}}}\u001B[0m\n",
      "\u001B[34m#metrics {\"StartTime\": 1707640074.7070353, \"EndTime\": 1707640074.7070558, \"Dimensions\": {\"Algorithm\": \"Linear Learner\", \"Host\": \"algo-1\", \"Operation\": \"training\", \"epoch\": 0, \"model\": 20}, \"Metrics\": {\"validation_binary_classification_cross_entropy_objective\": {\"sum\": 0.5086380463974033, \"count\": 1, \"min\": 0.5086380463974033, \"max\": 0.5086380463974033}}}\u001B[0m\n",
      "\u001B[34m#metrics {\"StartTime\": 1707640074.7072074, \"EndTime\": 1707640074.707226, \"Dimensions\": {\"Algorithm\": \"Linear Learner\", \"Host\": \"algo-1\", \"Operation\": \"training\", \"epoch\": 0, \"model\": 21}, \"Metrics\": {\"validation_binary_classification_cross_entropy_objective\": {\"sum\": 0.5092324550586844, \"count\": 1, \"min\": 0.5092324550586844, \"max\": 0.5092324550586844}}}\u001B[0m\n",
      "\u001B[34m#metrics {\"StartTime\": 1707640074.7073698, \"EndTime\": 1707640074.7073882, \"Dimensions\": {\"Algorithm\": \"Linear Learner\", \"Host\": \"algo-1\", \"Operation\": \"training\", \"epoch\": 0, \"model\": 22}, \"Metrics\": {\"validation_binary_classification_cross_entropy_objective\": {\"sum\": 0.5086428229612121, \"count\": 1, \"min\": 0.5086428229612121, \"max\": 0.5086428229612121}}}\u001B[0m\n",
      "\u001B[34m#metrics {\"StartTime\": 1707640074.707531, \"EndTime\": 1707640074.7075493, \"Dimensions\": {\"Algorithm\": \"Linear Learner\", \"Host\": \"algo-1\", \"Operation\": \"training\", \"epoch\": 0, \"model\": 23}, \"Metrics\": {\"validation_binary_classification_cross_entropy_objective\": {\"sum\": 0.5091982832226611, \"count\": 1, \"min\": 0.5091982832226611, \"max\": 0.5091982832226611}}}\u001B[0m\n",
      "\u001B[34m#metrics {\"StartTime\": 1707640074.7076998, \"EndTime\": 1707640074.7077205, \"Dimensions\": {\"Algorithm\": \"Linear Learner\", \"Host\": \"algo-1\", \"Operation\": \"training\", \"epoch\": 0, \"model\": 24}, \"Metrics\": {\"validation_binary_classification_cross_entropy_objective\": {\"sum\": 0.5137297650875171, \"count\": 1, \"min\": 0.5137297650875171, \"max\": 0.5137297650875171}}}\u001B[0m\n",
      "\u001B[34m#metrics {\"StartTime\": 1707640074.7078643, \"EndTime\": 1707640074.7078838, \"Dimensions\": {\"Algorithm\": \"Linear Learner\", \"Host\": \"algo-1\", \"Operation\": \"training\", \"epoch\": 0, \"model\": 25}, \"Metrics\": {\"validation_binary_classification_cross_entropy_objective\": {\"sum\": 0.5143965385039166, \"count\": 1, \"min\": 0.5143965385039166, \"max\": 0.5143965385039166}}}\u001B[0m\n",
      "\u001B[34m#metrics {\"StartTime\": 1707640074.708023, \"EndTime\": 1707640074.7080438, \"Dimensions\": {\"Algorithm\": \"Linear Learner\", \"Host\": \"algo-1\", \"Operation\": \"training\", \"epoch\": 0, \"model\": 26}, \"Metrics\": {\"validation_binary_classification_cross_entropy_objective\": {\"sum\": 0.5137230222959968, \"count\": 1, \"min\": 0.5137230222959968, \"max\": 0.5137230222959968}}}\u001B[0m\n",
      "\u001B[34m#metrics {\"StartTime\": 1707640074.708181, \"EndTime\": 1707640074.7082016, \"Dimensions\": {\"Algorithm\": \"Linear Learner\", \"Host\": \"algo-1\", \"Operation\": \"training\", \"epoch\": 0, \"model\": 27}, \"Metrics\": {\"validation_binary_classification_cross_entropy_objective\": {\"sum\": 0.5143706228464862, \"count\": 1, \"min\": 0.5143706228464862, \"max\": 0.5143706228464862}}}\u001B[0m\n",
      "\u001B[34m#metrics {\"StartTime\": 1707640074.7083519, \"EndTime\": 1707640074.708371, \"Dimensions\": {\"Algorithm\": \"Linear Learner\", \"Host\": \"algo-1\", \"Operation\": \"training\", \"epoch\": 0, \"model\": 28}, \"Metrics\": {\"validation_binary_classification_cross_entropy_objective\": {\"sum\": 0.5152343852994657, \"count\": 1, \"min\": 0.5152343852994657, \"max\": 0.5152343852994657}}}\u001B[0m\n",
      "\u001B[34m#metrics {\"StartTime\": 1707640074.7085154, \"EndTime\": 1707640074.7085361, \"Dimensions\": {\"Algorithm\": \"Linear Learner\", \"Host\": \"algo-1\", \"Operation\": \"training\", \"epoch\": 0, \"model\": 29}, \"Metrics\": {\"validation_binary_classification_cross_entropy_objective\": {\"sum\": 0.5139492157288233, \"count\": 1, \"min\": 0.5139492157288233, \"max\": 0.5139492157288233}}}\u001B[0m\n",
      "\u001B[34m#metrics {\"StartTime\": 1707640074.7086816, \"EndTime\": 1707640074.7087002, \"Dimensions\": {\"Algorithm\": \"Linear Learner\", \"Host\": \"algo-1\", \"Operation\": \"training\", \"epoch\": 0, \"model\": 30}, \"Metrics\": {\"validation_binary_classification_cross_entropy_objective\": {\"sum\": 0.51524660397359, \"count\": 1, \"min\": 0.51524660397359, \"max\": 0.51524660397359}}}\u001B[0m\n",
      "\u001B[34m#metrics {\"StartTime\": 1707640074.7088435, \"EndTime\": 1707640074.7088647, \"Dimensions\": {\"Algorithm\": \"Linear Learner\", \"Host\": \"algo-1\", \"Operation\": \"training\", \"epoch\": 0, \"model\": 31}, \"Metrics\": {\"validation_binary_classification_cross_entropy_objective\": {\"sum\": 0.5141627760832984, \"count\": 1, \"min\": 0.5141627760832984, \"max\": 0.5141627760832984}}}\u001B[0m\n",
      "\u001B[34m[02/11/2024 08:27:54 INFO 140048136783680] #quality_metric: host=algo-1, epoch=0, validation binary_classification_cross_entropy_objective <loss>=0.48080562070772004\u001B[0m\n",
      "\u001B[34m[02/11/2024 08:27:54 INFO 140048136783680] #early_stopping_criteria_metric: host=algo-1, epoch=0, criteria=binary_classification_cross_entropy_objective, value=0.4808045248968119\u001B[0m\n",
      "\u001B[34m[02/11/2024 08:27:54 INFO 140048136783680] Epoch 0: Loss improved. Updating best model\u001B[0m\n",
      "\u001B[34m[02/11/2024 08:27:54 INFO 140048136783680] Saving model for epoch: 0\u001B[0m\n",
      "\u001B[34m[02/11/2024 08:27:54 INFO 140048136783680] Saved checkpoint to \"/tmp/tmpkjsrehtn/mx-mod-0000.params\"\u001B[0m\n",
      "\u001B[34m[02/11/2024 08:27:54 INFO 140048136783680] #progress_metric: host=algo-1, completed 6.666666666666667 % of epochs\u001B[0m\n",
      "\u001B[34m#metrics {\"StartTime\": 1707640036.0475154, \"EndTime\": 1707640074.7195036, \"Dimensions\": {\"Algorithm\": \"Linear Learner\", \"Host\": \"algo-1\", \"Operation\": \"training\", \"epoch\": 0, \"Meta\": \"training_data_iter\"}, \"Metrics\": {\"Total Records Seen\": {\"sum\": 1320472.0, \"count\": 1, \"min\": 1320472, \"max\": 1320472}, \"Total Batches Seen\": {\"sum\": 1321.0, \"count\": 1, \"min\": 1321, \"max\": 1321}, \"Max Records Seen Between Resets\": {\"sum\": 1308472.0, \"count\": 1, \"min\": 1308472, \"max\": 1308472}, \"Max Batches Seen Between Resets\": {\"sum\": 1309.0, \"count\": 1, \"min\": 1309, \"max\": 1309}, \"Reset Count\": {\"sum\": 3.0, \"count\": 1, \"min\": 3, \"max\": 3}, \"Number of Records Since Last Reset\": {\"sum\": 1308472.0, \"count\": 1, \"min\": 1308472, \"max\": 1308472}, \"Number of Batches Since Last Reset\": {\"sum\": 1309.0, \"count\": 1, \"min\": 1309, \"max\": 1309}}}\u001B[0m\n",
      "\u001B[34m[02/11/2024 08:27:54 INFO 140048136783680] #throughput_metric: host=algo-1, train throughput=33835.00943478839 records/second\u001B[0m\n",
      "\u001B[34m[2024-02-11 08:28:30.390] [tensorio] [info] epoch_stats={\"data_pipeline\": \"/opt/ml/input/data/train\", \"epoch\": 5, \"duration\": 35670, \"num_examples\": 1309, \"num_bytes\": 507687136}\u001B[0m\n",
      "\u001B[34m#metrics {\"StartTime\": 1707640110.3905156, \"EndTime\": 1707640110.3905933, \"Dimensions\": {\"Algorithm\": \"Linear Learner\", \"Host\": \"algo-1\", \"Operation\": \"training\", \"epoch\": 1, \"model\": 0}, \"Metrics\": {\"train_binary_classification_cross_entropy_objective\": {\"sum\": 0.48067509364790145, \"count\": 1, \"min\": 0.48067509364790145, \"max\": 0.48067509364790145}}}\u001B[0m\n",
      "\u001B[34m#metrics {\"StartTime\": 1707640110.3906858, \"EndTime\": 1707640110.3907, \"Dimensions\": {\"Algorithm\": \"Linear Learner\", \"Host\": \"algo-1\", \"Operation\": \"training\", \"epoch\": 1, \"model\": 1}, \"Metrics\": {\"train_binary_classification_cross_entropy_objective\": {\"sum\": 0.48165733043425674, \"count\": 1, \"min\": 0.48165733043425674, \"max\": 0.48165733043425674}}}\u001B[0m\n",
      "\u001B[34m#metrics {\"StartTime\": 1707640110.3907404, \"EndTime\": 1707640110.3907518, \"Dimensions\": {\"Algorithm\": \"Linear Learner\", \"Host\": \"algo-1\", \"Operation\": \"training\", \"epoch\": 1, \"model\": 2}, \"Metrics\": {\"train_binary_classification_cross_entropy_objective\": {\"sum\": 0.48067575511874044, \"count\": 1, \"min\": 0.48067575511874044, \"max\": 0.48067575511874044}}}\u001B[0m\n",
      "\u001B[34m#metrics {\"StartTime\": 1707640110.390796, \"EndTime\": 1707640110.390809, \"Dimensions\": {\"Algorithm\": \"Linear Learner\", \"Host\": \"algo-1\", \"Operation\": \"training\", \"epoch\": 1, \"model\": 3}, \"Metrics\": {\"train_binary_classification_cross_entropy_objective\": {\"sum\": 0.48165736442822565, \"count\": 1, \"min\": 0.48165736442822565, \"max\": 0.48165736442822565}}}\u001B[0m\n",
      "\u001B[34m#metrics {\"StartTime\": 1707640110.3908443, \"EndTime\": 1707640110.390855, \"Dimensions\": {\"Algorithm\": \"Linear Learner\", \"Host\": \"algo-1\", \"Operation\": \"training\", \"epoch\": 1, \"model\": 4}, \"Metrics\": {\"train_binary_classification_cross_entropy_objective\": {\"sum\": 0.4845188322621383, \"count\": 1, \"min\": 0.4845188322621383, \"max\": 0.4845188322621383}}}\u001B[0m\n",
      "\u001B[34m#metrics {\"StartTime\": 1707640110.3909, \"EndTime\": 1707640110.3909118, \"Dimensions\": {\"Algorithm\": \"Linear Learner\", \"Host\": \"algo-1\", \"Operation\": \"training\", \"epoch\": 1, \"model\": 5}, \"Metrics\": {\"train_binary_classification_cross_entropy_objective\": {\"sum\": 0.5010375534664235, \"count\": 1, \"min\": 0.5010375534664235, \"max\": 0.5010375534664235}}}\u001B[0m\n",
      "\u001B[34m#metrics {\"StartTime\": 1707640110.3909535, \"EndTime\": 1707640110.3909671, \"Dimensions\": {\"Algorithm\": \"Linear Learner\", \"Host\": \"algo-1\", \"Operation\": \"training\", \"epoch\": 1, \"model\": 6}, \"Metrics\": {\"train_binary_classification_cross_entropy_objective\": {\"sum\": 0.4845187307001983, \"count\": 1, \"min\": 0.4845187307001983, \"max\": 0.4845187307001983}}}\u001B[0m\n",
      "\u001B[34m#metrics {\"StartTime\": 1707640110.3910072, \"EndTime\": 1707640110.3910177, \"Dimensions\": {\"Algorithm\": \"Linear Learner\", \"Host\": \"algo-1\", \"Operation\": \"training\", \"epoch\": 1, \"model\": 7}, \"Metrics\": {\"train_binary_classification_cross_entropy_objective\": {\"sum\": 0.5010359381346163, \"count\": 1, \"min\": 0.5010359381346163, \"max\": 0.5010359381346163}}}\u001B[0m\n",
      "\u001B[34m#metrics {\"StartTime\": 1707640110.3910584, \"EndTime\": 1707640110.3910716, \"Dimensions\": {\"Algorithm\": \"Linear Learner\", \"Host\": \"algo-1\", \"Operation\": \"training\", \"epoch\": 1, \"model\": 8}, \"Metrics\": {\"train_binary_classification_cross_entropy_objective\": {\"sum\": 0.4809259052568255, \"count\": 1, \"min\": 0.4809259052568255, \"max\": 0.4809259052568255}}}\u001B[0m\n",
      "\u001B[34m#metrics {\"StartTime\": 1707640110.3911188, \"EndTime\": 1707640110.3911314, \"Dimensions\": {\"Algorithm\": \"Linear Learner\", \"Host\": \"algo-1\", \"Operation\": \"training\", \"epoch\": 1, \"model\": 9}, \"Metrics\": {\"train_binary_classification_cross_entropy_objective\": {\"sum\": 0.48185108756435757, \"count\": 1, \"min\": 0.48185108756435757, \"max\": 0.48185108756435757}}}\u001B[0m\n",
      "\u001B[34m#metrics {\"StartTime\": 1707640110.3911703, \"EndTime\": 1707640110.3911815, \"Dimensions\": {\"Algorithm\": \"Linear Learner\", \"Host\": \"algo-1\", \"Operation\": \"training\", \"epoch\": 1, \"model\": 10}, \"Metrics\": {\"train_binary_classification_cross_entropy_objective\": {\"sum\": 0.48092568344442854, \"count\": 1, \"min\": 0.48092568344442854, \"max\": 0.48092568344442854}}}\u001B[0m\n",
      "\u001B[34m#metrics {\"StartTime\": 1707640110.3912218, \"EndTime\": 1707640110.391235, \"Dimensions\": {\"Algorithm\": \"Linear Learner\", \"Host\": \"algo-1\", \"Operation\": \"training\", \"epoch\": 1, \"model\": 11}, \"Metrics\": {\"train_binary_classification_cross_entropy_objective\": {\"sum\": 0.4818510765518982, \"count\": 1, \"min\": 0.4818510765518982, \"max\": 0.4818510765518982}}}\u001B[0m\n",
      "\u001B[34m#metrics {\"StartTime\": 1707640110.3912745, \"EndTime\": 1707640110.3912873, \"Dimensions\": {\"Algorithm\": \"Linear Learner\", \"Host\": \"algo-1\", \"Operation\": \"training\", \"epoch\": 1, \"model\": 12}, \"Metrics\": {\"train_binary_classification_cross_entropy_objective\": {\"sum\": 0.48451845646196184, \"count\": 1, \"min\": 0.48451845646196184, \"max\": 0.48451845646196184}}}\u001B[0m\n",
      "\u001B[34m#metrics {\"StartTime\": 1707640110.3913226, \"EndTime\": 1707640110.3913348, \"Dimensions\": {\"Algorithm\": \"Linear Learner\", \"Host\": \"algo-1\", \"Operation\": \"training\", \"epoch\": 1, \"model\": 13}, \"Metrics\": {\"train_binary_classification_cross_entropy_objective\": {\"sum\": 0.49980276269941887, \"count\": 1, \"min\": 0.49980276269941887, \"max\": 0.49980276269941887}}}\u001B[0m\n",
      "\u001B[34m#metrics {\"StartTime\": 1707640110.391379, \"EndTime\": 1707640110.3913922, \"Dimensions\": {\"Algorithm\": \"Linear Learner\", \"Host\": \"algo-1\", \"Operation\": \"training\", \"epoch\": 1, \"model\": 14}, \"Metrics\": {\"train_binary_classification_cross_entropy_objective\": {\"sum\": 0.48451854848132586, \"count\": 1, \"min\": 0.48451854848132586, \"max\": 0.48451854848132586}}}\u001B[0m\n",
      "\u001B[34m#metrics {\"StartTime\": 1707640110.3914254, \"EndTime\": 1707640110.3914373, \"Dimensions\": {\"Algorithm\": \"Linear Learner\", \"Host\": \"algo-1\", \"Operation\": \"training\", \"epoch\": 1, \"model\": 15}, \"Metrics\": {\"train_binary_classification_cross_entropy_objective\": {\"sum\": 0.49980072082146226, \"count\": 1, \"min\": 0.49980072082146226, \"max\": 0.49980072082146226}}}\u001B[0m\n",
      "\u001B[34m#metrics {\"StartTime\": 1707640110.391475, \"EndTime\": 1707640110.3914857, \"Dimensions\": {\"Algorithm\": \"Linear Learner\", \"Host\": \"algo-1\", \"Operation\": \"training\", \"epoch\": 1, \"model\": 16}, \"Metrics\": {\"train_binary_classification_cross_entropy_objective\": {\"sum\": 0.504191766768056, \"count\": 1, \"min\": 0.504191766768056, \"max\": 0.504191766768056}}}\u001B[0m\n",
      "\u001B[34m#metrics {\"StartTime\": 1707640110.3915234, \"EndTime\": 1707640110.3915353, \"Dimensions\": {\"Algorithm\": \"Linear Learner\", \"Host\": \"algo-1\", \"Operation\": \"training\", \"epoch\": 1, \"model\": 17}, \"Metrics\": {\"train_binary_classification_cross_entropy_objective\": {\"sum\": 0.5044266085610113, \"count\": 1, \"min\": 0.5044266085610113, \"max\": 0.5044266085610113}}}\u001B[0m\n",
      "\u001B[34m#metrics {\"StartTime\": 1707640110.3915772, \"EndTime\": 1707640110.3915908, \"Dimensions\": {\"Algorithm\": \"Linear Learner\", \"Host\": \"algo-1\", \"Operation\": \"training\", \"epoch\": 1, \"model\": 18}, \"Metrics\": {\"train_binary_classification_cross_entropy_objective\": {\"sum\": 0.5041917367404389, \"count\": 1, \"min\": 0.5041917367404389, \"max\": 0.5041917367404389}}}\u001B[0m\n",
      "\u001B[34m#metrics {\"StartTime\": 1707640110.391627, \"EndTime\": 1707640110.3916378, \"Dimensions\": {\"Algorithm\": \"Linear Learner\", \"Host\": \"algo-1\", \"Operation\": \"training\", \"epoch\": 1, \"model\": 19}, \"Metrics\": {\"train_binary_classification_cross_entropy_objective\": {\"sum\": 0.5044267176590199, \"count\": 1, \"min\": 0.5044267176590199, \"max\": 0.5044267176590199}}}\u001B[0m\n",
      "\u001B[34m#metrics {\"StartTime\": 1707640110.3916843, \"EndTime\": 1707640110.3916972, \"Dimensions\": {\"Algorithm\": \"Linear Learner\", \"Host\": \"algo-1\", \"Operation\": \"training\", \"epoch\": 1, \"model\": 20}, \"Metrics\": {\"train_binary_classification_cross_entropy_objective\": {\"sum\": 0.5050140921449807, \"count\": 1, \"min\": 0.5050140921449807, \"max\": 0.5050140921449807}}}\u001B[0m\n",
      "\u001B[34m#metrics {\"StartTime\": 1707640110.3917434, \"EndTime\": 1707640110.3917568, \"Dimensions\": {\"Algorithm\": \"Linear Learner\", \"Host\": \"algo-1\", \"Operation\": \"training\", \"epoch\": 1, \"model\": 21}, \"Metrics\": {\"train_binary_classification_cross_entropy_objective\": {\"sum\": 0.5078957933431736, \"count\": 1, \"min\": 0.5078957933431736, \"max\": 0.5078957933431736}}}\u001B[0m\n",
      "\u001B[34m#metrics {\"StartTime\": 1707640110.3917947, \"EndTime\": 1707640110.3918083, \"Dimensions\": {\"Algorithm\": \"Linear Learner\", \"Host\": \"algo-1\", \"Operation\": \"training\", \"epoch\": 1, \"model\": 22}, \"Metrics\": {\"train_binary_classification_cross_entropy_objective\": {\"sum\": 0.505015202630186, \"count\": 1, \"min\": 0.505015202630186, \"max\": 0.505015202630186}}}\u001B[0m\n",
      "\u001B[34m#metrics {\"StartTime\": 1707640110.3918445, \"EndTime\": 1707640110.3918574, \"Dimensions\": {\"Algorithm\": \"Linear Learner\", \"Host\": \"algo-1\", \"Operation\": \"training\", \"epoch\": 1, \"model\": 23}, \"Metrics\": {\"train_binary_classification_cross_entropy_objective\": {\"sum\": 0.5078953559012224, \"count\": 1, \"min\": 0.5078953559012224, \"max\": 0.5078953559012224}}}\u001B[0m\n",
      "\u001B[34m#metrics {\"StartTime\": 1707640110.3919055, \"EndTime\": 1707640110.3919182, \"Dimensions\": {\"Algorithm\": \"Linear Learner\", \"Host\": \"algo-1\", \"Operation\": \"training\", \"epoch\": 1, \"model\": 24}, \"Metrics\": {\"train_binary_classification_cross_entropy_objective\": {\"sum\": 0.513733905173952, \"count\": 1, \"min\": 0.513733905173952, \"max\": 0.513733905173952}}}\u001B[0m\n",
      "\u001B[34m#metrics {\"StartTime\": 1707640110.3919535, \"EndTime\": 1707640110.3919652, \"Dimensions\": {\"Algorithm\": \"Linear Learner\", \"Host\": \"algo-1\", \"Operation\": \"training\", \"epoch\": 1, \"model\": 25}, \"Metrics\": {\"train_binary_classification_cross_entropy_objective\": {\"sum\": 0.513830481992949, \"count\": 1, \"min\": 0.513830481992949, \"max\": 0.513830481992949}}}\u001B[0m\n",
      "\u001B[34m#metrics {\"StartTime\": 1707640110.3920045, \"EndTime\": 1707640110.3920171, \"Dimensions\": {\"Algorithm\": \"Linear Learner\", \"Host\": \"algo-1\", \"Operation\": \"training\", \"epoch\": 1, \"model\": 26}, \"Metrics\": {\"train_binary_classification_cross_entropy_objective\": {\"sum\": 0.5137335229809495, \"count\": 1, \"min\": 0.5137335229809495, \"max\": 0.5137335229809495}}}\u001B[0m\n",
      "\u001B[34m#metrics {\"StartTime\": 1707640110.392059, \"EndTime\": 1707640110.392073, \"Dimensions\": {\"Algorithm\": \"Linear Learner\", \"Host\": \"algo-1\", \"Operation\": \"training\", \"epoch\": 1, \"model\": 27}, \"Metrics\": {\"train_binary_classification_cross_entropy_objective\": {\"sum\": 0.513832175041922, \"count\": 1, \"min\": 0.513832175041922, \"max\": 0.513832175041922}}}\u001B[0m\n",
      "\u001B[34m#metrics {\"StartTime\": 1707640110.392113, \"EndTime\": 1707640110.3921247, \"Dimensions\": {\"Algorithm\": \"Linear Learner\", \"Host\": \"algo-1\", \"Operation\": \"training\", \"epoch\": 1, \"model\": 28}, \"Metrics\": {\"train_binary_classification_cross_entropy_objective\": {\"sum\": 0.5141136055809278, \"count\": 1, \"min\": 0.5141136055809278, \"max\": 0.5141136055809278}}}\u001B[0m\n",
      "\u001B[34m#metrics {\"StartTime\": 1707640110.3921716, \"EndTime\": 1707640110.3921833, \"Dimensions\": {\"Algorithm\": \"Linear Learner\", \"Host\": \"algo-1\", \"Operation\": \"training\", \"epoch\": 1, \"model\": 29}, \"Metrics\": {\"train_binary_classification_cross_entropy_objective\": {\"sum\": 0.5152022613852031, \"count\": 1, \"min\": 0.5152022613852031, \"max\": 0.5152022613852031}}}\u001B[0m\n",
      "\u001B[34m#metrics {\"StartTime\": 1707640110.3922298, \"EndTime\": 1707640110.3922427, \"Dimensions\": {\"Algorithm\": \"Linear Learner\", \"Host\": \"algo-1\", \"Operation\": \"training\", \"epoch\": 1, \"model\": 30}, \"Metrics\": {\"train_binary_classification_cross_entropy_objective\": {\"sum\": 0.5141136059308999, \"count\": 1, \"min\": 0.5141136059308999, \"max\": 0.5141136059308999}}}\u001B[0m\n",
      "\u001B[34m#metrics {\"StartTime\": 1707640110.3922846, \"EndTime\": 1707640110.3922973, \"Dimensions\": {\"Algorithm\": \"Linear Learner\", \"Host\": \"algo-1\", \"Operation\": \"training\", \"epoch\": 1, \"model\": 31}, \"Metrics\": {\"train_binary_classification_cross_entropy_objective\": {\"sum\": 0.5152016352848905, \"count\": 1, \"min\": 0.5152016352848905, \"max\": 0.5152016352848905}}}\u001B[0m\n",
      "\u001B[34m[02/11/2024 08:28:30 INFO 140048136783680] #quality_metric: host=algo-1, epoch=1, train binary_classification_cross_entropy_objective <loss>=0.48067509364790145\u001B[0m\n",
      "\u001B[34m[2024-02-11 08:28:33.662] [tensorio] [info] epoch_stats={\"data_pipeline\": \"/opt/ml/input/data/validation\", \"epoch\": 5, \"duration\": 3253, \"num_examples\": 164, \"num_bytes\": 63460892}\u001B[0m\n",
      "\u001B[34m#metrics {\"StartTime\": 1707640113.6688473, \"EndTime\": 1707640113.6689074, \"Dimensions\": {\"Algorithm\": \"Linear Learner\", \"Host\": \"algo-1\", \"Operation\": \"training\", \"epoch\": 1, \"model\": 0}, \"Metrics\": {\"validation_binary_classification_cross_entropy_objective\": {\"sum\": 0.48052441935851514, \"count\": 1, \"min\": 0.48052441935851514, \"max\": 0.48052441935851514}}}\u001B[0m\n",
      "\u001B[34m#metrics {\"StartTime\": 1707640113.6689847, \"EndTime\": 1707640113.6690025, \"Dimensions\": {\"Algorithm\": \"Linear Learner\", \"Host\": \"algo-1\", \"Operation\": \"training\", \"epoch\": 1, \"model\": 1}, \"Metrics\": {\"validation_binary_classification_cross_entropy_objective\": {\"sum\": 0.4822186631829674, \"count\": 1, \"min\": 0.4822186631829674, \"max\": 0.4822186631829674}}}\u001B[0m\n",
      "\u001B[34m#metrics {\"StartTime\": 1707640113.6690888, \"EndTime\": 1707640113.6691053, \"Dimensions\": {\"Algorithm\": \"Linear Learner\", \"Host\": \"algo-1\", \"Operation\": \"training\", \"epoch\": 1, \"model\": 2}, \"Metrics\": {\"validation_binary_classification_cross_entropy_objective\": {\"sum\": 0.48052410253799377, \"count\": 1, \"min\": 0.48052410253799377, \"max\": 0.48052410253799377}}}\u001B[0m\n",
      "\u001B[34m#metrics {\"StartTime\": 1707640113.6691558, \"EndTime\": 1707640113.6691701, \"Dimensions\": {\"Algorithm\": \"Linear Learner\", \"Host\": \"algo-1\", \"Operation\": \"training\", \"epoch\": 1, \"model\": 3}, \"Metrics\": {\"validation_binary_classification_cross_entropy_objective\": {\"sum\": 0.4822193966467304, \"count\": 1, \"min\": 0.4822193966467304, \"max\": 0.4822193966467304}}}\u001B[0m\n",
      "\u001B[34m#metrics {\"StartTime\": 1707640113.669225, \"EndTime\": 1707640113.669234, \"Dimensions\": {\"Algorithm\": \"Linear Learner\", \"Host\": \"algo-1\", \"Operation\": \"training\", \"epoch\": 1, \"model\": 4}, \"Metrics\": {\"validation_binary_classification_cross_entropy_objective\": {\"sum\": 0.4820519644645625, \"count\": 1, \"min\": 0.4820519644645625, \"max\": 0.4820519644645625}}}\u001B[0m\n",
      "\u001B[34m#metrics {\"StartTime\": 1707640113.669271, \"EndTime\": 1707640113.6692832, \"Dimensions\": {\"Algorithm\": \"Linear Learner\", \"Host\": \"algo-1\", \"Operation\": \"training\", \"epoch\": 1, \"model\": 5}, \"Metrics\": {\"validation_binary_classification_cross_entropy_objective\": {\"sum\": 0.5034945747579285, \"count\": 1, \"min\": 0.5034945747579285, \"max\": 0.5034945747579285}}}\u001B[0m\n",
      "\u001B[34m#metrics {\"StartTime\": 1707640113.6693301, \"EndTime\": 1707640113.669344, \"Dimensions\": {\"Algorithm\": \"Linear Learner\", \"Host\": \"algo-1\", \"Operation\": \"training\", \"epoch\": 1, \"model\": 6}, \"Metrics\": {\"validation_binary_classification_cross_entropy_objective\": {\"sum\": 0.48205154688839824, \"count\": 1, \"min\": 0.48205154688839824, \"max\": 0.48205154688839824}}}\u001B[0m\n",
      "\u001B[34m#metrics {\"StartTime\": 1707640113.6693995, \"EndTime\": 1707640113.6694143, \"Dimensions\": {\"Algorithm\": \"Linear Learner\", \"Host\": \"algo-1\", \"Operation\": \"training\", \"epoch\": 1, \"model\": 7}, \"Metrics\": {\"validation_binary_classification_cross_entropy_objective\": {\"sum\": 0.5034916235505159, \"count\": 1, \"min\": 0.5034916235505159, \"max\": 0.5034916235505159}}}\u001B[0m\n",
      "\u001B[34m#metrics {\"StartTime\": 1707640113.6694636, \"EndTime\": 1707640113.6694777, \"Dimensions\": {\"Algorithm\": \"Linear Learner\", \"Host\": \"algo-1\", \"Operation\": \"training\", \"epoch\": 1, \"model\": 8}, \"Metrics\": {\"validation_binary_classification_cross_entropy_objective\": {\"sum\": 0.48078462397809, \"count\": 1, \"min\": 0.48078462397809, \"max\": 0.48078462397809}}}\u001B[0m\n",
      "\u001B[34m#metrics {\"StartTime\": 1707640113.6695278, \"EndTime\": 1707640113.66954, \"Dimensions\": {\"Algorithm\": \"Linear Learner\", \"Host\": \"algo-1\", \"Operation\": \"training\", \"epoch\": 1, \"model\": 9}, \"Metrics\": {\"validation_binary_classification_cross_entropy_objective\": {\"sum\": 0.48232432375976997, \"count\": 1, \"min\": 0.48232432375976997, \"max\": 0.48232432375976997}}}\u001B[0m\n",
      "\u001B[34m#metrics {\"StartTime\": 1707640113.6696084, \"EndTime\": 1707640113.6696217, \"Dimensions\": {\"Algorithm\": \"Linear Learner\", \"Host\": \"algo-1\", \"Operation\": \"training\", \"epoch\": 1, \"model\": 10}, \"Metrics\": {\"validation_binary_classification_cross_entropy_objective\": {\"sum\": 0.48078464562189477, \"count\": 1, \"min\": 0.48078464562189477, \"max\": 0.48078464562189477}}}\u001B[0m\n",
      "\u001B[34m#metrics {\"StartTime\": 1707640113.6696737, \"EndTime\": 1707640113.6696863, \"Dimensions\": {\"Algorithm\": \"Linear Learner\", \"Host\": \"algo-1\", \"Operation\": \"training\", \"epoch\": 1, \"model\": 11}, \"Metrics\": {\"validation_binary_classification_cross_entropy_objective\": {\"sum\": 0.48232403623301884, \"count\": 1, \"min\": 0.48232403623301884, \"max\": 0.48232403623301884}}}\u001B[0m\n",
      "\u001B[34m#metrics {\"StartTime\": 1707640113.6697369, \"EndTime\": 1707640113.6697505, \"Dimensions\": {\"Algorithm\": \"Linear Learner\", \"Host\": \"algo-1\", \"Operation\": \"training\", \"epoch\": 1, \"model\": 12}, \"Metrics\": {\"validation_binary_classification_cross_entropy_objective\": {\"sum\": 0.48206085782930397, \"count\": 1, \"min\": 0.48206085782930397, \"max\": 0.48206085782930397}}}\u001B[0m\n",
      "\u001B[34m#metrics {\"StartTime\": 1707640113.6698039, \"EndTime\": 1707640113.6698174, \"Dimensions\": {\"Algorithm\": \"Linear Learner\", \"Host\": \"algo-1\", \"Operation\": \"training\", \"epoch\": 1, \"model\": 13}, \"Metrics\": {\"validation_binary_classification_cross_entropy_objective\": {\"sum\": 0.5017087737210727, \"count\": 1, \"min\": 0.5017087737210727, \"max\": 0.5017087737210727}}}\u001B[0m\n",
      "\u001B[34m#metrics {\"StartTime\": 1707640113.6698632, \"EndTime\": 1707640113.6698751, \"Dimensions\": {\"Algorithm\": \"Linear Learner\", \"Host\": \"algo-1\", \"Operation\": \"training\", \"epoch\": 1, \"model\": 14}, \"Metrics\": {\"validation_binary_classification_cross_entropy_objective\": {\"sum\": 0.48206111886105274, \"count\": 1, \"min\": 0.48206111886105274, \"max\": 0.48206111886105274}}}\u001B[0m\n",
      "\u001B[34m#metrics {\"StartTime\": 1707640113.669918, \"EndTime\": 1707640113.669931, \"Dimensions\": {\"Algorithm\": \"Linear Learner\", \"Host\": \"algo-1\", \"Operation\": \"training\", \"epoch\": 1, \"model\": 15}, \"Metrics\": {\"validation_binary_classification_cross_entropy_objective\": {\"sum\": 0.5017113286229568, \"count\": 1, \"min\": 0.5017113286229568, \"max\": 0.5017113286229568}}}\u001B[0m\n",
      "\u001B[34m#metrics {\"StartTime\": 1707640113.669976, \"EndTime\": 1707640113.6699889, \"Dimensions\": {\"Algorithm\": \"Linear Learner\", \"Host\": \"algo-1\", \"Operation\": \"training\", \"epoch\": 1, \"model\": 16}, \"Metrics\": {\"validation_binary_classification_cross_entropy_objective\": {\"sum\": 0.5041044966162702, \"count\": 1, \"min\": 0.5041044966162702, \"max\": 0.5041044966162702}}}\u001B[0m\n",
      "\u001B[34m#metrics {\"StartTime\": 1707640113.670035, \"EndTime\": 1707640113.6700478, \"Dimensions\": {\"Algorithm\": \"Linear Learner\", \"Host\": \"algo-1\", \"Operation\": \"training\", \"epoch\": 1, \"model\": 17}, \"Metrics\": {\"validation_binary_classification_cross_entropy_objective\": {\"sum\": 0.504462718004462, \"count\": 1, \"min\": 0.504462718004462, \"max\": 0.504462718004462}}}\u001B[0m\n",
      "\u001B[34m#metrics {\"StartTime\": 1707640113.6700923, \"EndTime\": 1707640113.670105, \"Dimensions\": {\"Algorithm\": \"Linear Learner\", \"Host\": \"algo-1\", \"Operation\": \"training\", \"epoch\": 1, \"model\": 18}, \"Metrics\": {\"validation_binary_classification_cross_entropy_objective\": {\"sum\": 0.5041049877067368, \"count\": 1, \"min\": 0.5041049877067368, \"max\": 0.5041049877067368}}}\u001B[0m\n",
      "\u001B[34m#metrics {\"StartTime\": 1707640113.6701484, \"EndTime\": 1707640113.670157, \"Dimensions\": {\"Algorithm\": \"Linear Learner\", \"Host\": \"algo-1\", \"Operation\": \"training\", \"epoch\": 1, \"model\": 19}, \"Metrics\": {\"validation_binary_classification_cross_entropy_objective\": {\"sum\": 0.504462219637199, \"count\": 1, \"min\": 0.504462219637199, \"max\": 0.504462219637199}}}\u001B[0m\n",
      "\u001B[34m#metrics {\"StartTime\": 1707640113.6701946, \"EndTime\": 1707640113.6702044, \"Dimensions\": {\"Algorithm\": \"Linear Learner\", \"Host\": \"algo-1\", \"Operation\": \"training\", \"epoch\": 1, \"model\": 20}, \"Metrics\": {\"validation_binary_classification_cross_entropy_objective\": {\"sum\": 0.5046464121473845, \"count\": 1, \"min\": 0.5046464121473845, \"max\": 0.5046464121473845}}}\u001B[0m\n",
      "\u001B[34m#metrics {\"StartTime\": 1707640113.6702518, \"EndTime\": 1707640113.6702645, \"Dimensions\": {\"Algorithm\": \"Linear Learner\", \"Host\": \"algo-1\", \"Operation\": \"training\", \"epoch\": 1, \"model\": 21}, \"Metrics\": {\"validation_binary_classification_cross_entropy_objective\": {\"sum\": 0.5099045625534497, \"count\": 1, \"min\": 0.5099045625534497, \"max\": 0.5099045625534497}}}\u001B[0m\n",
      "\u001B[34m#metrics {\"StartTime\": 1707640113.6703134, \"EndTime\": 1707640113.6703243, \"Dimensions\": {\"Algorithm\": \"Linear Learner\", \"Host\": \"algo-1\", \"Operation\": \"training\", \"epoch\": 1, \"model\": 22}, \"Metrics\": {\"validation_binary_classification_cross_entropy_objective\": {\"sum\": 0.5046461042829202, \"count\": 1, \"min\": 0.5046461042829202, \"max\": 0.5046461042829202}}}\u001B[0m\n",
      "\u001B[34m#metrics {\"StartTime\": 1707640113.6703668, \"EndTime\": 1707640113.6703787, \"Dimensions\": {\"Algorithm\": \"Linear Learner\", \"Host\": \"algo-1\", \"Operation\": \"training\", \"epoch\": 1, \"model\": 23}, \"Metrics\": {\"validation_binary_classification_cross_entropy_objective\": {\"sum\": 0.5099070842432887, \"count\": 1, \"min\": 0.5099070842432887, \"max\": 0.5099070842432887}}}\u001B[0m\n",
      "\u001B[34m#metrics {\"StartTime\": 1707640113.6704216, \"EndTime\": 1707640113.6704333, \"Dimensions\": {\"Algorithm\": \"Linear Learner\", \"Host\": \"algo-1\", \"Operation\": \"training\", \"epoch\": 1, \"model\": 24}, \"Metrics\": {\"validation_binary_classification_cross_entropy_objective\": {\"sum\": 0.5137269928146628, \"count\": 1, \"min\": 0.5137269928146628, \"max\": 0.5137269928146628}}}\u001B[0m\n",
      "\u001B[34m#metrics {\"StartTime\": 1707640113.6704814, \"EndTime\": 1707640113.6704943, \"Dimensions\": {\"Algorithm\": \"Linear Learner\", \"Host\": \"algo-1\", \"Operation\": \"training\", \"epoch\": 1, \"model\": 25}, \"Metrics\": {\"validation_binary_classification_cross_entropy_objective\": {\"sum\": 0.5144811672731987, \"count\": 1, \"min\": 0.5144811672731987, \"max\": 0.5144811672731987}}}\u001B[0m\n",
      "\u001B[34m#metrics {\"StartTime\": 1707640113.670539, \"EndTime\": 1707640113.6705523, \"Dimensions\": {\"Algorithm\": \"Linear Learner\", \"Host\": \"algo-1\", \"Operation\": \"training\", \"epoch\": 1, \"model\": 26}, \"Metrics\": {\"validation_binary_classification_cross_entropy_objective\": {\"sum\": 0.5137347330870473, \"count\": 1, \"min\": 0.5137347330870473, \"max\": 0.5137347330870473}}}\u001B[0m\n",
      "\u001B[34m#metrics {\"StartTime\": 1707640113.670583, \"EndTime\": 1707640113.670594, \"Dimensions\": {\"Algorithm\": \"Linear Learner\", \"Host\": \"algo-1\", \"Operation\": \"training\", \"epoch\": 1, \"model\": 27}, \"Metrics\": {\"validation_binary_classification_cross_entropy_objective\": {\"sum\": 0.5144999992491839, \"count\": 1, \"min\": 0.5144999992491839, \"max\": 0.5144999992491839}}}\u001B[0m\n",
      "\u001B[34m#metrics {\"StartTime\": 1707640113.6706321, \"EndTime\": 1707640113.6706443, \"Dimensions\": {\"Algorithm\": \"Linear Learner\", \"Host\": \"algo-1\", \"Operation\": \"training\", \"epoch\": 1, \"model\": 28}, \"Metrics\": {\"validation_binary_classification_cross_entropy_objective\": {\"sum\": 0.5138889575105304, \"count\": 1, \"min\": 0.5138889575105304, \"max\": 0.5138889575105304}}}\u001B[0m\n",
      "\u001B[34m#metrics {\"StartTime\": 1707640113.6706896, \"EndTime\": 1707640113.6707, \"Dimensions\": {\"Algorithm\": \"Linear Learner\", \"Host\": \"algo-1\", \"Operation\": \"training\", \"epoch\": 1, \"model\": 29}, \"Metrics\": {\"validation_binary_classification_cross_entropy_objective\": {\"sum\": 0.5141111031786981, \"count\": 1, \"min\": 0.5141111031786981, \"max\": 0.5141111031786981}}}\u001B[0m\n",
      "\u001B[34m#metrics {\"StartTime\": 1707640113.6707335, \"EndTime\": 1707640113.6707437, \"Dimensions\": {\"Algorithm\": \"Linear Learner\", \"Host\": \"algo-1\", \"Operation\": \"training\", \"epoch\": 1, \"model\": 30}, \"Metrics\": {\"validation_binary_classification_cross_entropy_objective\": {\"sum\": 0.5139014827430273, \"count\": 1, \"min\": 0.5139014827430273, \"max\": 0.5139014827430273}}}\u001B[0m\n",
      "\u001B[34m#metrics {\"StartTime\": 1707640113.670776, \"EndTime\": 1707640113.6707869, \"Dimensions\": {\"Algorithm\": \"Linear Learner\", \"Host\": \"algo-1\", \"Operation\": \"training\", \"epoch\": 1, \"model\": 31}, \"Metrics\": {\"validation_binary_classification_cross_entropy_objective\": {\"sum\": 0.514187946522141, \"count\": 1, \"min\": 0.514187946522141, \"max\": 0.514187946522141}}}\u001B[0m\n",
      "\u001B[34m[02/11/2024 08:28:33 INFO 140048136783680] #quality_metric: host=algo-1, epoch=1, validation binary_classification_cross_entropy_objective <loss>=0.48052441935851514\u001B[0m\n",
      "\u001B[34m[02/11/2024 08:28:33 INFO 140048136783680] #early_stopping_criteria_metric: host=algo-1, epoch=1, criteria=binary_classification_cross_entropy_objective, value=0.48052410253799377\u001B[0m\n",
      "\u001B[34m[02/11/2024 08:28:33 INFO 140048136783680] Saving model for epoch: 1\u001B[0m\n",
      "\u001B[34m[02/11/2024 08:28:33 INFO 140048136783680] Saved checkpoint to \"/tmp/tmpmeh8z_vb/mx-mod-0000.params\"\u001B[0m\n",
      "\u001B[34m[02/11/2024 08:28:33 INFO 140048136783680] #progress_metric: host=algo-1, completed 13.333333333333334 % of epochs\u001B[0m\n",
      "\u001B[34m#metrics {\"StartTime\": 1707640074.7198281, \"EndTime\": 1707640113.6768074, \"Dimensions\": {\"Algorithm\": \"Linear Learner\", \"Host\": \"algo-1\", \"Operation\": \"training\", \"epoch\": 1, \"Meta\": \"training_data_iter\"}, \"Metrics\": {\"Total Records Seen\": {\"sum\": 2628944.0, \"count\": 1, \"min\": 2628944, \"max\": 2628944}, \"Total Batches Seen\": {\"sum\": 2630.0, \"count\": 1, \"min\": 2630, \"max\": 2630}, \"Max Records Seen Between Resets\": {\"sum\": 1308472.0, \"count\": 1, \"min\": 1308472, \"max\": 1308472}, \"Max Batches Seen Between Resets\": {\"sum\": 1309.0, \"count\": 1, \"min\": 1309, \"max\": 1309}, \"Reset Count\": {\"sum\": 4.0, \"count\": 1, \"min\": 4, \"max\": 4}, \"Number of Records Since Last Reset\": {\"sum\": 1308472.0, \"count\": 1, \"min\": 1308472, \"max\": 1308472}, \"Number of Batches Since Last Reset\": {\"sum\": 1309.0, \"count\": 1, \"min\": 1309, \"max\": 1309}}}\u001B[0m\n",
      "\u001B[34m[02/11/2024 08:28:33 INFO 140048136783680] #throughput_metric: host=algo-1, train throughput=33587.47754862236 records/second\u001B[0m\n",
      "\u001B[34m[2024-02-11 08:29:08.335] [tensorio] [info] epoch_stats={\"data_pipeline\": \"/opt/ml/input/data/train\", \"epoch\": 7, \"duration\": 34657, \"num_examples\": 1309, \"num_bytes\": 507687136}\u001B[0m\n",
      "\u001B[34m#metrics {\"StartTime\": 1707640148.3360052, \"EndTime\": 1707640148.3360944, \"Dimensions\": {\"Algorithm\": \"Linear Learner\", \"Host\": \"algo-1\", \"Operation\": \"training\", \"epoch\": 2, \"model\": 0}, \"Metrics\": {\"train_binary_classification_cross_entropy_objective\": {\"sum\": 0.48052211794138683, \"count\": 1, \"min\": 0.48052211794138683, \"max\": 0.48052211794138683}}}\u001B[0m\n",
      "\u001B[34m#metrics {\"StartTime\": 1707640148.3361902, \"EndTime\": 1707640148.3362114, \"Dimensions\": {\"Algorithm\": \"Linear Learner\", \"Host\": \"algo-1\", \"Operation\": \"training\", \"epoch\": 2, \"model\": 1}, \"Metrics\": {\"train_binary_classification_cross_entropy_objective\": {\"sum\": 0.48152496680863405, \"count\": 1, \"min\": 0.48152496680863405, \"max\": 0.48152496680863405}}}\u001B[0m\n",
      "\u001B[34m#metrics {\"StartTime\": 1707640148.3362668, \"EndTime\": 1707640148.3362808, \"Dimensions\": {\"Algorithm\": \"Linear Learner\", \"Host\": \"algo-1\", \"Operation\": \"training\", \"epoch\": 2, \"model\": 2}, \"Metrics\": {\"train_binary_classification_cross_entropy_objective\": {\"sum\": 0.48052250776378386, \"count\": 1, \"min\": 0.48052250776378386, \"max\": 0.48052250776378386}}}\u001B[0m\n",
      "\u001B[34m#metrics {\"StartTime\": 1707640148.336328, \"EndTime\": 1707640148.336342, \"Dimensions\": {\"Algorithm\": \"Linear Learner\", \"Host\": \"algo-1\", \"Operation\": \"training\", \"epoch\": 2, \"model\": 3}, \"Metrics\": {\"train_binary_classification_cross_entropy_objective\": {\"sum\": 0.4815249881102769, \"count\": 1, \"min\": 0.4815249881102769, \"max\": 0.4815249881102769}}}\u001B[0m\n",
      "\u001B[34m#metrics {\"StartTime\": 1707640148.336393, \"EndTime\": 1707640148.3364058, \"Dimensions\": {\"Algorithm\": \"Linear Learner\", \"Host\": \"algo-1\", \"Operation\": \"training\", \"epoch\": 2, \"model\": 4}, \"Metrics\": {\"train_binary_classification_cross_entropy_objective\": {\"sum\": 0.48160145319200803, \"count\": 1, \"min\": 0.48160145319200803, \"max\": 0.48160145319200803}}}\u001B[0m\n",
      "\u001B[34m#metrics {\"StartTime\": 1707640148.336453, \"EndTime\": 1707640148.3364656, \"Dimensions\": {\"Algorithm\": \"Linear Learner\", \"Host\": \"algo-1\", \"Operation\": \"training\", \"epoch\": 2, \"model\": 5}, \"Metrics\": {\"train_binary_classification_cross_entropy_objective\": {\"sum\": 0.4986105158861259, \"count\": 1, \"min\": 0.4986105158861259, \"max\": 0.4986105158861259}}}\u001B[0m\n",
      "\u001B[34m#metrics {\"StartTime\": 1707640148.3365135, \"EndTime\": 1707640148.3365276, \"Dimensions\": {\"Algorithm\": \"Linear Learner\", \"Host\": \"algo-1\", \"Operation\": \"training\", \"epoch\": 2, \"model\": 6}, \"Metrics\": {\"train_binary_classification_cross_entropy_objective\": {\"sum\": 0.4816014412229579, \"count\": 1, \"min\": 0.4816014412229579, \"max\": 0.4816014412229579}}}\u001B[0m\n",
      "\u001B[34m#metrics {\"StartTime\": 1707640148.3365657, \"EndTime\": 1707640148.3365786, \"Dimensions\": {\"Algorithm\": \"Linear Learner\", \"Host\": \"algo-1\", \"Operation\": \"training\", \"epoch\": 2, \"model\": 7}, \"Metrics\": {\"train_binary_classification_cross_entropy_objective\": {\"sum\": 0.4986102995332957, \"count\": 1, \"min\": 0.4986102995332957, \"max\": 0.4986102995332957}}}\u001B[0m\n",
      "\u001B[34m#metrics {\"StartTime\": 1707640148.3366234, \"EndTime\": 1707640148.336636, \"Dimensions\": {\"Algorithm\": \"Linear Learner\", \"Host\": \"algo-1\", \"Operation\": \"training\", \"epoch\": 2, \"model\": 8}, \"Metrics\": {\"train_binary_classification_cross_entropy_objective\": {\"sum\": 0.48078401783701114, \"count\": 1, \"min\": 0.48078401783701114, \"max\": 0.48078401783701114}}}\u001B[0m\n",
      "\u001B[34m#metrics {\"StartTime\": 1707640148.3366814, \"EndTime\": 1707640148.3366935, \"Dimensions\": {\"Algorithm\": \"Linear Learner\", \"Host\": \"algo-1\", \"Operation\": \"training\", \"epoch\": 2, \"model\": 9}, \"Metrics\": {\"train_binary_classification_cross_entropy_objective\": {\"sum\": 0.48172783322582186, \"count\": 1, \"min\": 0.48172783322582186, \"max\": 0.48172783322582186}}}\u001B[0m\n",
      "\u001B[34m#metrics {\"StartTime\": 1707640148.3367343, \"EndTime\": 1707640148.336748, \"Dimensions\": {\"Algorithm\": \"Linear Learner\", \"Host\": \"algo-1\", \"Operation\": \"training\", \"epoch\": 2, \"model\": 10}, \"Metrics\": {\"train_binary_classification_cross_entropy_objective\": {\"sum\": 0.48078390145958017, \"count\": 1, \"min\": 0.48078390145958017, \"max\": 0.48078390145958017}}}\u001B[0m\n",
      "\u001B[34m#metrics {\"StartTime\": 1707640148.3367913, \"EndTime\": 1707640148.3368049, \"Dimensions\": {\"Algorithm\": \"Linear Learner\", \"Host\": \"algo-1\", \"Operation\": \"training\", \"epoch\": 2, \"model\": 11}, \"Metrics\": {\"train_binary_classification_cross_entropy_objective\": {\"sum\": 0.48172783604893116, \"count\": 1, \"min\": 0.48172783604893116, \"max\": 0.48172783604893116}}}\u001B[0m\n",
      "\u001B[34m#metrics {\"StartTime\": 1707640148.3368554, \"EndTime\": 1707640148.3368695, \"Dimensions\": {\"Algorithm\": \"Linear Learner\", \"Host\": \"algo-1\", \"Operation\": \"training\", \"epoch\": 2, \"model\": 12}, \"Metrics\": {\"train_binary_classification_cross_entropy_objective\": {\"sum\": 0.4817951956699383, \"count\": 1, \"min\": 0.4817951956699383, \"max\": 0.4817951956699383}}}\u001B[0m\n",
      "\u001B[34m#metrics {\"StartTime\": 1707640148.3369174, \"EndTime\": 1707640148.3369312, \"Dimensions\": {\"Algorithm\": \"Linear Learner\", \"Host\": \"algo-1\", \"Operation\": \"training\", \"epoch\": 2, \"model\": 13}, \"Metrics\": {\"train_binary_classification_cross_entropy_objective\": {\"sum\": 0.4975309081704609, \"count\": 1, \"min\": 0.4975309081704609, \"max\": 0.4975309081704609}}}\u001B[0m\n",
      "\u001B[34m#metrics {\"StartTime\": 1707640148.3369856, \"EndTime\": 1707640148.3369992, \"Dimensions\": {\"Algorithm\": \"Linear Learner\", \"Host\": \"algo-1\", \"Operation\": \"training\", \"epoch\": 2, \"model\": 14}, \"Metrics\": {\"train_binary_classification_cross_entropy_objective\": {\"sum\": 0.481795208875557, \"count\": 1, \"min\": 0.481795208875557, \"max\": 0.481795208875557}}}\u001B[0m\n",
      "\u001B[34m#metrics {\"StartTime\": 1707640148.3370779, \"EndTime\": 1707640148.3370924, \"Dimensions\": {\"Algorithm\": \"Linear Learner\", \"Host\": \"algo-1\", \"Operation\": \"training\", \"epoch\": 2, \"model\": 15}, \"Metrics\": {\"train_binary_classification_cross_entropy_objective\": {\"sum\": 0.49753056253789035, \"count\": 1, \"min\": 0.49753056253789035, \"max\": 0.49753056253789035}}}\u001B[0m\n",
      "\u001B[34m#metrics {\"StartTime\": 1707640148.337145, \"EndTime\": 1707640148.33716, \"Dimensions\": {\"Algorithm\": \"Linear Learner\", \"Host\": \"algo-1\", \"Operation\": \"training\", \"epoch\": 2, \"model\": 16}, \"Metrics\": {\"train_binary_classification_cross_entropy_objective\": {\"sum\": 0.5041504687388009, \"count\": 1, \"min\": 0.5041504687388009, \"max\": 0.5041504687388009}}}\u001B[0m\n",
      "\u001B[34m#metrics {\"StartTime\": 1707640148.3372085, \"EndTime\": 1707640148.3372223, \"Dimensions\": {\"Algorithm\": \"Linear Learner\", \"Host\": \"algo-1\", \"Operation\": \"training\", \"epoch\": 2, \"model\": 17}, \"Metrics\": {\"train_binary_classification_cross_entropy_objective\": {\"sum\": 0.5044088112367403, \"count\": 1, \"min\": 0.5044088112367403, \"max\": 0.5044088112367403}}}\u001B[0m\n",
      "\u001B[34m#metrics {\"StartTime\": 1707640148.337274, \"EndTime\": 1707640148.3372881, \"Dimensions\": {\"Algorithm\": \"Linear Learner\", \"Host\": \"algo-1\", \"Operation\": \"training\", \"epoch\": 2, \"model\": 18}, \"Metrics\": {\"train_binary_classification_cross_entropy_objective\": {\"sum\": 0.5041504645391341, \"count\": 1, \"min\": 0.5041504645391341, \"max\": 0.5041504645391341}}}\u001B[0m\n",
      "\u001B[34m#metrics {\"StartTime\": 1707640148.337333, \"EndTime\": 1707640148.3373454, \"Dimensions\": {\"Algorithm\": \"Linear Learner\", \"Host\": \"algo-1\", \"Operation\": \"training\", \"epoch\": 2, \"model\": 19}, \"Metrics\": {\"train_binary_classification_cross_entropy_objective\": {\"sum\": 0.5044088194494218, \"count\": 1, \"min\": 0.5044088194494218, \"max\": 0.5044088194494218}}}\u001B[0m\n",
      "\u001B[34m#metrics {\"StartTime\": 1707640148.3373873, \"EndTime\": 1707640148.3373985, \"Dimensions\": {\"Algorithm\": \"Linear Learner\", \"Host\": \"algo-1\", \"Operation\": \"training\", \"epoch\": 2, \"model\": 20}, \"Metrics\": {\"train_binary_classification_cross_entropy_objective\": {\"sum\": 0.5044056586169322, \"count\": 1, \"min\": 0.5044056586169322, \"max\": 0.5044056586169322}}}\u001B[0m\n",
      "\u001B[34m#metrics {\"StartTime\": 1707640148.3374426, \"EndTime\": 1707640148.3374543, \"Dimensions\": {\"Algorithm\": \"Linear Learner\", \"Host\": \"algo-1\", \"Operation\": \"training\", \"epoch\": 2, \"model\": 21}, \"Metrics\": {\"train_binary_classification_cross_entropy_objective\": {\"sum\": 0.5074399216211535, \"count\": 1, \"min\": 0.5074399216211535, \"max\": 0.5074399216211535}}}\u001B[0m\n",
      "\u001B[34m#metrics {\"StartTime\": 1707640148.3374965, \"EndTime\": 1707640148.3375092, \"Dimensions\": {\"Algorithm\": \"Linear Learner\", \"Host\": \"algo-1\", \"Operation\": \"training\", \"epoch\": 2, \"model\": 22}, \"Metrics\": {\"train_binary_classification_cross_entropy_objective\": {\"sum\": 0.5044057150091236, \"count\": 1, \"min\": 0.5044057150091236, \"max\": 0.5044057150091236}}}\u001B[0m\n",
      "\u001B[34m#metrics {\"StartTime\": 1707640148.3375676, \"EndTime\": 1707640148.3375812, \"Dimensions\": {\"Algorithm\": \"Linear Learner\", \"Host\": \"algo-1\", \"Operation\": \"training\", \"epoch\": 2, \"model\": 23}, \"Metrics\": {\"train_binary_classification_cross_entropy_objective\": {\"sum\": 0.5074399295071943, \"count\": 1, \"min\": 0.5074399295071943, \"max\": 0.5074399295071943}}}\u001B[0m\n",
      "\u001B[34m#metrics {\"StartTime\": 1707640148.3376255, \"EndTime\": 1707640148.337638, \"Dimensions\": {\"Algorithm\": \"Linear Learner\", \"Host\": \"algo-1\", \"Operation\": \"training\", \"epoch\": 2, \"model\": 24}, \"Metrics\": {\"train_binary_classification_cross_entropy_objective\": {\"sum\": 0.5137253874565848, \"count\": 1, \"min\": 0.5137253874565848, \"max\": 0.5137253874565848}}}\u001B[0m\n",
      "\u001B[34m#metrics {\"StartTime\": 1707640148.3376822, \"EndTime\": 1707640148.3376942, \"Dimensions\": {\"Algorithm\": \"Linear Learner\", \"Host\": \"algo-1\", \"Operation\": \"training\", \"epoch\": 2, \"model\": 25}, \"Metrics\": {\"train_binary_classification_cross_entropy_objective\": {\"sum\": 0.5138333748167079, \"count\": 1, \"min\": 0.5138333748167079, \"max\": 0.5138333748167079}}}\u001B[0m\n",
      "\u001B[34m#metrics {\"StartTime\": 1707640148.3377419, \"EndTime\": 1707640148.3377552, \"Dimensions\": {\"Algorithm\": \"Linear Learner\", \"Host\": \"algo-1\", \"Operation\": \"training\", \"epoch\": 2, \"model\": 26}, \"Metrics\": {\"train_binary_classification_cross_entropy_objective\": {\"sum\": 0.5137251952051752, \"count\": 1, \"min\": 0.5137251952051752, \"max\": 0.5137251952051752}}}\u001B[0m\n",
      "\u001B[34m#metrics {\"StartTime\": 1707640148.3378024, \"EndTime\": 1707640148.3378148, \"Dimensions\": {\"Algorithm\": \"Linear Learner\", \"Host\": \"algo-1\", \"Operation\": \"training\", \"epoch\": 2, \"model\": 27}, \"Metrics\": {\"train_binary_classification_cross_entropy_objective\": {\"sum\": 0.513834250213903, \"count\": 1, \"min\": 0.513834250213903, \"max\": 0.513834250213903}}}\u001B[0m\n",
      "\u001B[34m#metrics {\"StartTime\": 1707640148.337861, \"EndTime\": 1707640148.3378735, \"Dimensions\": {\"Algorithm\": \"Linear Learner\", \"Host\": \"algo-1\", \"Operation\": \"training\", \"epoch\": 2, \"model\": 28}, \"Metrics\": {\"train_binary_classification_cross_entropy_objective\": {\"sum\": 0.5138260218302408, \"count\": 1, \"min\": 0.5138260218302408, \"max\": 0.5138260218302408}}}\u001B[0m\n",
      "\u001B[34m#metrics {\"StartTime\": 1707640148.337918, \"EndTime\": 1707640148.3379312, \"Dimensions\": {\"Algorithm\": \"Linear Learner\", \"Host\": \"algo-1\", \"Operation\": \"training\", \"epoch\": 2, \"model\": 29}, \"Metrics\": {\"train_binary_classification_cross_entropy_objective\": {\"sum\": 0.5150190454652186, \"count\": 1, \"min\": 0.5150190454652186, \"max\": 0.5150190454652186}}}\u001B[0m\n",
      "\u001B[34m#metrics {\"StartTime\": 1707640148.3379834, \"EndTime\": 1707640148.3379965, \"Dimensions\": {\"Algorithm\": \"Linear Learner\", \"Host\": \"algo-1\", \"Operation\": \"training\", \"epoch\": 2, \"model\": 30}, \"Metrics\": {\"train_binary_classification_cross_entropy_objective\": {\"sum\": 0.5138260269631668, \"count\": 1, \"min\": 0.5138260269631668, \"max\": 0.5138260269631668}}}\u001B[0m\n",
      "\u001B[34m#metrics {\"StartTime\": 1707640148.3380442, \"EndTime\": 1707640148.3380566, \"Dimensions\": {\"Algorithm\": \"Linear Learner\", \"Host\": \"algo-1\", \"Operation\": \"training\", \"epoch\": 2, \"model\": 31}, \"Metrics\": {\"train_binary_classification_cross_entropy_objective\": {\"sum\": 0.5150183834577554, \"count\": 1, \"min\": 0.5150183834577554, \"max\": 0.5150183834577554}}}\u001B[0m\n",
      "\u001B[34m[02/11/2024 08:29:08 INFO 140048136783680] #quality_metric: host=algo-1, epoch=2, train binary_classification_cross_entropy_objective <loss>=0.48052211794138683\u001B[0m\n",
      "\u001B[34m[2024-02-11 08:29:11.416] [tensorio] [info] epoch_stats={\"data_pipeline\": \"/opt/ml/input/data/validation\", \"epoch\": 8, \"duration\": 3062, \"num_examples\": 164, \"num_bytes\": 63460892}\u001B[0m\n",
      "\u001B[34m#metrics {\"StartTime\": 1707640151.4229765, \"EndTime\": 1707640151.4230382, \"Dimensions\": {\"Algorithm\": \"Linear Learner\", \"Host\": \"algo-1\", \"Operation\": \"training\", \"epoch\": 2, \"model\": 0}, \"Metrics\": {\"validation_binary_classification_cross_entropy_objective\": {\"sum\": 0.4804444380365514, \"count\": 1, \"min\": 0.4804444380365514, \"max\": 0.4804444380365514}}}\u001B[0m\n",
      "\u001B[34m#metrics {\"StartTime\": 1707640151.423116, \"EndTime\": 1707640151.423135, \"Dimensions\": {\"Algorithm\": \"Linear Learner\", \"Host\": \"algo-1\", \"Operation\": \"training\", \"epoch\": 2, \"model\": 1}, \"Metrics\": {\"validation_binary_classification_cross_entropy_objective\": {\"sum\": 0.4820845792527348, \"count\": 1, \"min\": 0.4820845792527348, \"max\": 0.4820845792527348}}}\u001B[0m\n",
      "\u001B[34m#metrics {\"StartTime\": 1707640151.4231892, \"EndTime\": 1707640151.423205, \"Dimensions\": {\"Algorithm\": \"Linear Learner\", \"Host\": \"algo-1\", \"Operation\": \"training\", \"epoch\": 2, \"model\": 2}, \"Metrics\": {\"validation_binary_classification_cross_entropy_objective\": {\"sum\": 0.4804442738421705, \"count\": 1, \"min\": 0.4804442738421705, \"max\": 0.4804442738421705}}}\u001B[0m\n",
      "\u001B[34m#metrics {\"StartTime\": 1707640151.4232438, \"EndTime\": 1707640151.4232566, \"Dimensions\": {\"Algorithm\": \"Linear Learner\", \"Host\": \"algo-1\", \"Operation\": \"training\", \"epoch\": 2, \"model\": 3}, \"Metrics\": {\"validation_binary_classification_cross_entropy_objective\": {\"sum\": 0.4820848100577907, \"count\": 1, \"min\": 0.4820848100577907, \"max\": 0.4820848100577907}}}\u001B[0m\n",
      "\u001B[34m#metrics {\"StartTime\": 1707640151.4233017, \"EndTime\": 1707640151.423315, \"Dimensions\": {\"Algorithm\": \"Linear Learner\", \"Host\": \"algo-1\", \"Operation\": \"training\", \"epoch\": 2, \"model\": 4}, \"Metrics\": {\"validation_binary_classification_cross_entropy_objective\": {\"sum\": 0.4811546811689632, \"count\": 1, \"min\": 0.4811546811689632, \"max\": 0.4811546811689632}}}\u001B[0m\n",
      "\u001B[34m#metrics {\"StartTime\": 1707640151.4233637, \"EndTime\": 1707640151.4233754, \"Dimensions\": {\"Algorithm\": \"Linear Learner\", \"Host\": \"algo-1\", \"Operation\": \"training\", \"epoch\": 2, \"model\": 5}, \"Metrics\": {\"validation_binary_classification_cross_entropy_objective\": {\"sum\": 0.5017223914059562, \"count\": 1, \"min\": 0.5017223914059562, \"max\": 0.5017223914059562}}}\u001B[0m\n",
      "\u001B[34m#metrics {\"StartTime\": 1707640151.4234157, \"EndTime\": 1707640151.4234288, \"Dimensions\": {\"Algorithm\": \"Linear Learner\", \"Host\": \"algo-1\", \"Operation\": \"training\", \"epoch\": 2, \"model\": 6}, \"Metrics\": {\"validation_binary_classification_cross_entropy_objective\": {\"sum\": 0.48115469889449297, \"count\": 1, \"min\": 0.48115469889449297, \"max\": 0.48115469889449297}}}\u001B[0m\n",
      "\u001B[34m#metrics {\"StartTime\": 1707640151.4234774, \"EndTime\": 1707640151.42349, \"Dimensions\": {\"Algorithm\": \"Linear Learner\", \"Host\": \"algo-1\", \"Operation\": \"training\", \"epoch\": 2, \"model\": 7}, \"Metrics\": {\"validation_binary_classification_cross_entropy_objective\": {\"sum\": 0.5017221180596289, \"count\": 1, \"min\": 0.5017221180596289, \"max\": 0.5017221180596289}}}\u001B[0m\n",
      "\u001B[34m#metrics {\"StartTime\": 1707640151.4235327, \"EndTime\": 1707640151.423545, \"Dimensions\": {\"Algorithm\": \"Linear Learner\", \"Host\": \"algo-1\", \"Operation\": \"training\", \"epoch\": 2, \"model\": 8}, \"Metrics\": {\"validation_binary_classification_cross_entropy_objective\": {\"sum\": 0.4807038942656014, \"count\": 1, \"min\": 0.4807038942656014, \"max\": 0.4807038942656014}}}\u001B[0m\n",
      "\u001B[34m#metrics {\"StartTime\": 1707640151.423591, \"EndTime\": 1707640151.4236026, \"Dimensions\": {\"Algorithm\": \"Linear Learner\", \"Host\": \"algo-1\", \"Operation\": \"training\", \"epoch\": 2, \"model\": 9}, \"Metrics\": {\"validation_binary_classification_cross_entropy_objective\": {\"sum\": 0.48221095071167697, \"count\": 1, \"min\": 0.48221095071167697, \"max\": 0.48221095071167697}}}\u001B[0m\n",
      "\u001B[34m#metrics {\"StartTime\": 1707640151.423648, \"EndTime\": 1707640151.4236617, \"Dimensions\": {\"Algorithm\": \"Linear Learner\", \"Host\": \"algo-1\", \"Operation\": \"training\", \"epoch\": 2, \"model\": 10}, \"Metrics\": {\"validation_binary_classification_cross_entropy_objective\": {\"sum\": 0.4807038252293276, \"count\": 1, \"min\": 0.4807038252293276, \"max\": 0.4807038252293276}}}\u001B[0m\n",
      "\u001B[34m#metrics {\"StartTime\": 1707640151.4237058, \"EndTime\": 1707640151.4237187, \"Dimensions\": {\"Algorithm\": \"Linear Learner\", \"Host\": \"algo-1\", \"Operation\": \"training\", \"epoch\": 2, \"model\": 11}, \"Metrics\": {\"validation_binary_classification_cross_entropy_objective\": {\"sum\": 0.48221089119121385, \"count\": 1, \"min\": 0.48221089119121385, \"max\": 0.48221089119121385}}}\u001B[0m\n",
      "\u001B[34m#metrics {\"StartTime\": 1707640151.4237676, \"EndTime\": 1707640151.423779, \"Dimensions\": {\"Algorithm\": \"Linear Learner\", \"Host\": \"algo-1\", \"Operation\": \"training\", \"epoch\": 2, \"model\": 12}, \"Metrics\": {\"validation_binary_classification_cross_entropy_objective\": {\"sum\": 0.4813470013010046, \"count\": 1, \"min\": 0.4813470013010046, \"max\": 0.4813470013010046}}}\u001B[0m\n",
      "\u001B[34m#metrics {\"StartTime\": 1707640151.4238198, \"EndTime\": 1707640151.4238334, \"Dimensions\": {\"Algorithm\": \"Linear Learner\", \"Host\": \"algo-1\", \"Operation\": \"training\", \"epoch\": 2, \"model\": 13}, \"Metrics\": {\"validation_binary_classification_cross_entropy_objective\": {\"sum\": 0.5005579976243879, \"count\": 1, \"min\": 0.5005579976243879, \"max\": 0.5005579976243879}}}\u001B[0m\n",
      "\u001B[34m#metrics {\"StartTime\": 1707640151.4238758, \"EndTime\": 1707640151.423888, \"Dimensions\": {\"Algorithm\": \"Linear Learner\", \"Host\": \"algo-1\", \"Operation\": \"training\", \"epoch\": 2, \"model\": 14}, \"Metrics\": {\"validation_binary_classification_cross_entropy_objective\": {\"sum\": 0.4813469723804034, \"count\": 1, \"min\": 0.4813469723804034, \"max\": 0.4813469723804034}}}\u001B[0m\n",
      "\u001B[34m#metrics {\"StartTime\": 1707640151.4239259, \"EndTime\": 1707640151.4239378, \"Dimensions\": {\"Algorithm\": \"Linear Learner\", \"Host\": \"algo-1\", \"Operation\": \"training\", \"epoch\": 2, \"model\": 15}, \"Metrics\": {\"validation_binary_classification_cross_entropy_objective\": {\"sum\": 0.5005583448581867, \"count\": 1, \"min\": 0.5005583448581867, \"max\": 0.5005583448581867}}}\u001B[0m\n",
      "\u001B[34m#metrics {\"StartTime\": 1707640151.4239876, \"EndTime\": 1707640151.4240007, \"Dimensions\": {\"Algorithm\": \"Linear Learner\", \"Host\": \"algo-1\", \"Operation\": \"training\", \"epoch\": 2, \"model\": 16}, \"Metrics\": {\"validation_binary_classification_cross_entropy_objective\": {\"sum\": 0.5042239530661766, \"count\": 1, \"min\": 0.5042239530661766, \"max\": 0.5042239530661766}}}\u001B[0m\n",
      "\u001B[34m#metrics {\"StartTime\": 1707640151.4240434, \"EndTime\": 1707640151.4240568, \"Dimensions\": {\"Algorithm\": \"Linear Learner\", \"Host\": \"algo-1\", \"Operation\": \"training\", \"epoch\": 2, \"model\": 17}, \"Metrics\": {\"validation_binary_classification_cross_entropy_objective\": {\"sum\": 0.504353154452591, \"count\": 1, \"min\": 0.504353154452591, \"max\": 0.504353154452591}}}\u001B[0m\n",
      "\u001B[34m#metrics {\"StartTime\": 1707640151.424093, \"EndTime\": 1707640151.4241061, \"Dimensions\": {\"Algorithm\": \"Linear Learner\", \"Host\": \"algo-1\", \"Operation\": \"training\", \"epoch\": 2, \"model\": 18}, \"Metrics\": {\"validation_binary_classification_cross_entropy_objective\": {\"sum\": 0.5042231981451935, \"count\": 1, \"min\": 0.5042231981451935, \"max\": 0.5042231981451935}}}\u001B[0m\n",
      "\u001B[34m#metrics {\"StartTime\": 1707640151.4241421, \"EndTime\": 1707640151.4241529, \"Dimensions\": {\"Algorithm\": \"Linear Learner\", \"Host\": \"algo-1\", \"Operation\": \"training\", \"epoch\": 2, \"model\": 19}, \"Metrics\": {\"validation_binary_classification_cross_entropy_objective\": {\"sum\": 0.5043525001006661, \"count\": 1, \"min\": 0.5043525001006661, \"max\": 0.5043525001006661}}}\u001B[0m\n",
      "\u001B[34m#metrics {\"StartTime\": 1707640151.4241903, \"EndTime\": 1707640151.4242024, \"Dimensions\": {\"Algorithm\": \"Linear Learner\", \"Host\": \"algo-1\", \"Operation\": \"training\", \"epoch\": 2, \"model\": 20}, \"Metrics\": {\"validation_binary_classification_cross_entropy_objective\": {\"sum\": 0.5039281845034466, \"count\": 1, \"min\": 0.5039281845034466, \"max\": 0.5039281845034466}}}\u001B[0m\n",
      "\u001B[34m#metrics {\"StartTime\": 1707640151.4242435, \"EndTime\": 1707640151.4242544, \"Dimensions\": {\"Algorithm\": \"Linear Learner\", \"Host\": \"algo-1\", \"Operation\": \"training\", \"epoch\": 2, \"model\": 21}, \"Metrics\": {\"validation_binary_classification_cross_entropy_objective\": {\"sum\": 0.5098633895063407, \"count\": 1, \"min\": 0.5098633895063407, \"max\": 0.5098633895063407}}}\u001B[0m\n",
      "\u001B[34m#metrics {\"StartTime\": 1707640151.4242928, \"EndTime\": 1707640151.4243062, \"Dimensions\": {\"Algorithm\": \"Linear Learner\", \"Host\": \"algo-1\", \"Operation\": \"training\", \"epoch\": 2, \"model\": 22}, \"Metrics\": {\"validation_binary_classification_cross_entropy_objective\": {\"sum\": 0.5039281953253489, \"count\": 1, \"min\": 0.5039281953253489, \"max\": 0.5039281953253489}}}\u001B[0m\n",
      "\u001B[34m#metrics {\"StartTime\": 1707640151.4243467, \"EndTime\": 1707640151.424359, \"Dimensions\": {\"Algorithm\": \"Linear Learner\", \"Host\": \"algo-1\", \"Operation\": \"training\", \"epoch\": 2, \"model\": 23}, \"Metrics\": {\"validation_binary_classification_cross_entropy_objective\": {\"sum\": 0.5098639787402668, \"count\": 1, \"min\": 0.5098639787402668, \"max\": 0.5098639787402668}}}\u001B[0m\n",
      "\u001B[34m#metrics {\"StartTime\": 1707640151.4244032, \"EndTime\": 1707640151.4244149, \"Dimensions\": {\"Algorithm\": \"Linear Learner\", \"Host\": \"algo-1\", \"Operation\": \"training\", \"epoch\": 2, \"model\": 24}, \"Metrics\": {\"validation_binary_classification_cross_entropy_objective\": {\"sum\": 0.5137105371791726, \"count\": 1, \"min\": 0.5137105371791726, \"max\": 0.5137105371791726}}}\u001B[0m\n",
      "\u001B[34m#metrics {\"StartTime\": 1707640151.42446, \"EndTime\": 1707640151.4244735, \"Dimensions\": {\"Algorithm\": \"Linear Learner\", \"Host\": \"algo-1\", \"Operation\": \"training\", \"epoch\": 2, \"model\": 25}, \"Metrics\": {\"validation_binary_classification_cross_entropy_objective\": {\"sum\": 0.5144525063976698, \"count\": 1, \"min\": 0.5144525063976698, \"max\": 0.5144525063976698}}}\u001B[0m\n",
      "\u001B[34m#metrics {\"StartTime\": 1707640151.4245205, \"EndTime\": 1707640151.4245324, \"Dimensions\": {\"Algorithm\": \"Linear Learner\", \"Host\": \"algo-1\", \"Operation\": \"training\", \"epoch\": 2, \"model\": 26}, \"Metrics\": {\"validation_binary_classification_cross_entropy_objective\": {\"sum\": 0.5137127196583472, \"count\": 1, \"min\": 0.5137127196583472, \"max\": 0.5137127196583472}}}\u001B[0m\n",
      "\u001B[34m#metrics {\"StartTime\": 1707640151.424573, \"EndTime\": 1707640151.424585, \"Dimensions\": {\"Algorithm\": \"Linear Learner\", \"Host\": \"algo-1\", \"Operation\": \"training\", \"epoch\": 2, \"model\": 27}, \"Metrics\": {\"validation_binary_classification_cross_entropy_objective\": {\"sum\": 0.5144671547754628, \"count\": 1, \"min\": 0.5144671547754628, \"max\": 0.5144671547754628}}}\u001B[0m\n",
      "\u001B[34m#metrics {\"StartTime\": 1707640151.4246275, \"EndTime\": 1707640151.4246397, \"Dimensions\": {\"Algorithm\": \"Linear Learner\", \"Host\": \"algo-1\", \"Operation\": \"training\", \"epoch\": 2, \"model\": 28}, \"Metrics\": {\"validation_binary_classification_cross_entropy_objective\": {\"sum\": 0.5139546526152619, \"count\": 1, \"min\": 0.5139546526152619, \"max\": 0.5139546526152619}}}\u001B[0m\n",
      "\u001B[34m#metrics {\"StartTime\": 1707640151.4246864, \"EndTime\": 1707640151.4246979, \"Dimensions\": {\"Algorithm\": \"Linear Learner\", \"Host\": \"algo-1\", \"Operation\": \"training\", \"epoch\": 2, \"model\": 29}, \"Metrics\": {\"validation_binary_classification_cross_entropy_objective\": {\"sum\": 0.5141784715734388, \"count\": 1, \"min\": 0.5141784715734388, \"max\": 0.5141784715734388}}}\u001B[0m\n",
      "\u001B[34m#metrics {\"StartTime\": 1707640151.4247403, \"EndTime\": 1707640151.4247534, \"Dimensions\": {\"Algorithm\": \"Linear Learner\", \"Host\": \"algo-1\", \"Operation\": \"training\", \"epoch\": 2, \"model\": 30}, \"Metrics\": {\"validation_binary_classification_cross_entropy_objective\": {\"sum\": 0.5139546681017773, \"count\": 1, \"min\": 0.5139546681017773, \"max\": 0.5139546681017773}}}\u001B[0m\n",
      "\u001B[34m#metrics {\"StartTime\": 1707640151.4247975, \"EndTime\": 1707640151.4248095, \"Dimensions\": {\"Algorithm\": \"Linear Learner\", \"Host\": \"algo-1\", \"Operation\": \"training\", \"epoch\": 2, \"model\": 31}, \"Metrics\": {\"validation_binary_classification_cross_entropy_objective\": {\"sum\": 0.5141784547808317, \"count\": 1, \"min\": 0.5141784547808317, \"max\": 0.5141784547808317}}}\u001B[0m\n",
      "\u001B[34m[02/11/2024 08:29:11 INFO 140048136783680] #quality_metric: host=algo-1, epoch=2, validation binary_classification_cross_entropy_objective <loss>=0.4804444380365514\u001B[0m\n",
      "\u001B[34m[02/11/2024 08:29:11 INFO 140048136783680] #early_stopping_criteria_metric: host=algo-1, epoch=2, criteria=binary_classification_cross_entropy_objective, value=0.4804442738421705\u001B[0m\n",
      "\u001B[34m[02/11/2024 08:29:11 INFO 140048136783680] Saving model for epoch: 2\u001B[0m\n",
      "\u001B[34m[02/11/2024 08:29:11 INFO 140048136783680] Saved checkpoint to \"/tmp/tmpz39glyhq/mx-mod-0000.params\"\u001B[0m\n",
      "\u001B[34m[02/11/2024 08:29:11 INFO 140048136783680] #progress_metric: host=algo-1, completed 20.0 % of epochs\u001B[0m\n",
      "\u001B[34m#metrics {\"StartTime\": 1707640113.6787238, \"EndTime\": 1707640151.430535, \"Dimensions\": {\"Algorithm\": \"Linear Learner\", \"Host\": \"algo-1\", \"Operation\": \"training\", \"epoch\": 2, \"Meta\": \"training_data_iter\"}, \"Metrics\": {\"Total Records Seen\": {\"sum\": 3937416.0, \"count\": 1, \"min\": 3937416, \"max\": 3937416}, \"Total Batches Seen\": {\"sum\": 3939.0, \"count\": 1, \"min\": 3939, \"max\": 3939}, \"Max Records Seen Between Resets\": {\"sum\": 1308472.0, \"count\": 1, \"min\": 1308472, \"max\": 1308472}, \"Max Batches Seen Between Resets\": {\"sum\": 1309.0, \"count\": 1, \"min\": 1309, \"max\": 1309}, \"Reset Count\": {\"sum\": 5.0, \"count\": 1, \"min\": 5, \"max\": 5}, \"Number of Records Since Last Reset\": {\"sum\": 1308472.0, \"count\": 1, \"min\": 1308472, \"max\": 1308472}, \"Number of Batches Since Last Reset\": {\"sum\": 1309.0, \"count\": 1, \"min\": 1309, \"max\": 1309}}}\u001B[0m\n",
      "\u001B[34m[02/11/2024 08:29:11 INFO 140048136783680] #throughput_metric: host=algo-1, train throughput=34659.70815841819 records/second\u001B[0m\n",
      "\u001B[34m[2024-02-11 08:29:45.931] [tensorio] [info] epoch_stats={\"data_pipeline\": \"/opt/ml/input/data/train\", \"epoch\": 9, \"duration\": 34500, \"num_examples\": 1309, \"num_bytes\": 507687136}\u001B[0m\n",
      "\u001B[34m#metrics {\"StartTime\": 1707640185.9318783, \"EndTime\": 1707640185.931961, \"Dimensions\": {\"Algorithm\": \"Linear Learner\", \"Host\": \"algo-1\", \"Operation\": \"training\", \"epoch\": 3, \"model\": 0}, \"Metrics\": {\"train_binary_classification_cross_entropy_objective\": {\"sum\": 0.48045687023944444, \"count\": 1, \"min\": 0.48045687023944444, \"max\": 0.48045687023944444}}}\u001B[0m\n",
      "\u001B[34m#metrics {\"StartTime\": 1707640185.9320416, \"EndTime\": 1707640185.9320579, \"Dimensions\": {\"Algorithm\": \"Linear Learner\", \"Host\": \"algo-1\", \"Operation\": \"training\", \"epoch\": 3, \"model\": 1}, \"Metrics\": {\"train_binary_classification_cross_entropy_objective\": {\"sum\": 0.48139471318889465, \"count\": 1, \"min\": 0.48139471318889465, \"max\": 0.48139471318889465}}}\u001B[0m\n",
      "\u001B[34m#metrics {\"StartTime\": 1707640185.9321022, \"EndTime\": 1707640185.9321814, \"Dimensions\": {\"Algorithm\": \"Linear Learner\", \"Host\": \"algo-1\", \"Operation\": \"training\", \"epoch\": 3, \"model\": 2}, \"Metrics\": {\"train_binary_classification_cross_entropy_objective\": {\"sum\": 0.48047164100390327, \"count\": 1, \"min\": 0.48047164100390327, \"max\": 0.48047164100390327}}}\u001B[0m\n",
      "\u001B[34m#metrics {\"StartTime\": 1707640185.93228, \"EndTime\": 1707640185.9322953, \"Dimensions\": {\"Algorithm\": \"Linear Learner\", \"Host\": \"algo-1\", \"Operation\": \"training\", \"epoch\": 3, \"model\": 3}, \"Metrics\": {\"train_binary_classification_cross_entropy_objective\": {\"sum\": 0.4813947193017429, \"count\": 1, \"min\": 0.4813947193017429, \"max\": 0.4813947193017429}}}\u001B[0m\n",
      "\u001B[34m#metrics {\"StartTime\": 1707640185.9323487, \"EndTime\": 1707640185.9323626, \"Dimensions\": {\"Algorithm\": \"Linear Learner\", \"Host\": \"algo-1\", \"Operation\": \"training\", \"epoch\": 3, \"model\": 4}, \"Metrics\": {\"train_binary_classification_cross_entropy_objective\": {\"sum\": 0.48076296101141414, \"count\": 1, \"min\": 0.48076296101141414, \"max\": 0.48076296101141414}}}\u001B[0m\n",
      "\u001B[34m#metrics {\"StartTime\": 1707640185.9324012, \"EndTime\": 1707640185.9324129, \"Dimensions\": {\"Algorithm\": \"Linear Learner\", \"Host\": \"algo-1\", \"Operation\": \"training\", \"epoch\": 3, \"model\": 5}, \"Metrics\": {\"train_binary_classification_cross_entropy_objective\": {\"sum\": 0.49652112614342925, \"count\": 1, \"min\": 0.49652112614342925, \"max\": 0.49652112614342925}}}\u001B[0m\n",
      "\u001B[34m#metrics {\"StartTime\": 1707640185.9324634, \"EndTime\": 1707640185.9324772, \"Dimensions\": {\"Algorithm\": \"Linear Learner\", \"Host\": \"algo-1\", \"Operation\": \"training\", \"epoch\": 3, \"model\": 6}, \"Metrics\": {\"train_binary_classification_cross_entropy_objective\": {\"sum\": 0.4807629619446734, \"count\": 1, \"min\": 0.4807629619446734, \"max\": 0.4807629619446734}}}\u001B[0m\n",
      "\u001B[34m#metrics {\"StartTime\": 1707640185.9325206, \"EndTime\": 1707640185.9325337, \"Dimensions\": {\"Algorithm\": \"Linear Learner\", \"Host\": \"algo-1\", \"Operation\": \"training\", \"epoch\": 3, \"model\": 7}, \"Metrics\": {\"train_binary_classification_cross_entropy_objective\": {\"sum\": 0.496521093829327, \"count\": 1, \"min\": 0.496521093829327, \"max\": 0.496521093829327}}}\u001B[0m\n",
      "\u001B[34m#metrics {\"StartTime\": 1707640185.932576, \"EndTime\": 1707640185.9325893, \"Dimensions\": {\"Algorithm\": \"Linear Learner\", \"Host\": \"algo-1\", \"Operation\": \"training\", \"epoch\": 3, \"model\": 8}, \"Metrics\": {\"train_binary_classification_cross_entropy_objective\": {\"sum\": 0.48072270412620055, \"count\": 1, \"min\": 0.48072270412620055, \"max\": 0.48072270412620055}}}\u001B[0m\n",
      "\u001B[34m#metrics {\"StartTime\": 1707640185.932633, \"EndTime\": 1707640185.9326453, \"Dimensions\": {\"Algorithm\": \"Linear Learner\", \"Host\": \"algo-1\", \"Operation\": \"training\", \"epoch\": 3, \"model\": 9}, \"Metrics\": {\"train_binary_classification_cross_entropy_objective\": {\"sum\": 0.4816056393964575, \"count\": 1, \"min\": 0.4816056393964575, \"max\": 0.4816056393964575}}}\u001B[0m\n",
      "\u001B[34m#metrics {\"StartTime\": 1707640185.932692, \"EndTime\": 1707640185.9327042, \"Dimensions\": {\"Algorithm\": \"Linear Learner\", \"Host\": \"algo-1\", \"Operation\": \"training\", \"epoch\": 3, \"model\": 10}, \"Metrics\": {\"train_binary_classification_cross_entropy_objective\": {\"sum\": 0.4807370949608106, \"count\": 1, \"min\": 0.4807370949608106, \"max\": 0.4807370949608106}}}\u001B[0m\n",
      "\u001B[34m#metrics {\"StartTime\": 1707640185.932748, \"EndTime\": 1707640185.9327605, \"Dimensions\": {\"Algorithm\": \"Linear Learner\", \"Host\": \"algo-1\", \"Operation\": \"training\", \"epoch\": 3, \"model\": 11}, \"Metrics\": {\"train_binary_classification_cross_entropy_objective\": {\"sum\": 0.4816056375999334, \"count\": 1, \"min\": 0.4816056375999334, \"max\": 0.4816056375999334}}}\u001B[0m\n",
      "\u001B[34m#metrics {\"StartTime\": 1707640185.9328043, \"EndTime\": 1707640185.932819, \"Dimensions\": {\"Algorithm\": \"Linear Learner\", \"Host\": \"algo-1\", \"Operation\": \"training\", \"epoch\": 3, \"model\": 12}, \"Metrics\": {\"train_binary_classification_cross_entropy_objective\": {\"sum\": 0.4810097313743848, \"count\": 1, \"min\": 0.4810097313743848, \"max\": 0.4810097313743848}}}\u001B[0m\n",
      "\u001B[34m#metrics {\"StartTime\": 1707640185.9328628, \"EndTime\": 1707640185.9328752, \"Dimensions\": {\"Algorithm\": \"Linear Learner\", \"Host\": \"algo-1\", \"Operation\": \"training\", \"epoch\": 3, \"model\": 13}, \"Metrics\": {\"train_binary_classification_cross_entropy_objective\": {\"sum\": 0.49558099645212156, \"count\": 1, \"min\": 0.49558099645212156, \"max\": 0.49558099645212156}}}\u001B[0m\n",
      "\u001B[34m#metrics {\"StartTime\": 1707640185.9329193, \"EndTime\": 1707640185.9335194, \"Dimensions\": {\"Algorithm\": \"Linear Learner\", \"Host\": \"algo-1\", \"Operation\": \"training\", \"epoch\": 3, \"model\": 14}, \"Metrics\": {\"train_binary_classification_cross_entropy_objective\": {\"sum\": 0.4810097326576163, \"count\": 1, \"min\": 0.4810097326576163, \"max\": 0.4810097326576163}}}\u001B[0m\n",
      "\u001B[34m#metrics {\"StartTime\": 1707640185.9335973, \"EndTime\": 1707640185.9336128, \"Dimensions\": {\"Algorithm\": \"Linear Learner\", \"Host\": \"algo-1\", \"Operation\": \"training\", \"epoch\": 3, \"model\": 15}, \"Metrics\": {\"train_binary_classification_cross_entropy_objective\": {\"sum\": 0.4955809408065376, \"count\": 1, \"min\": 0.4955809408065376, \"max\": 0.4955809408065376}}}\u001B[0m\n",
      "\u001B[34m#metrics {\"StartTime\": 1707640185.933669, \"EndTime\": 1707640185.933683, \"Dimensions\": {\"Algorithm\": \"Linear Learner\", \"Host\": \"algo-1\", \"Operation\": \"training\", \"epoch\": 3, \"model\": 16}, \"Metrics\": {\"train_binary_classification_cross_entropy_objective\": {\"sum\": 0.504143647920101, \"count\": 1, \"min\": 0.504143647920101, \"max\": 0.504143647920101}}}\u001B[0m\n",
      "\u001B[34m#metrics {\"StartTime\": 1707640185.9337356, \"EndTime\": 1707640185.9337509, \"Dimensions\": {\"Algorithm\": \"Linear Learner\", \"Host\": \"algo-1\", \"Operation\": \"training\", \"epoch\": 3, \"model\": 17}, \"Metrics\": {\"train_binary_classification_cross_entropy_objective\": {\"sum\": 0.5043791111004098, \"count\": 1, \"min\": 0.5043791111004098, \"max\": 0.5043791111004098}}}\u001B[0m\n",
      "\u001B[34m#metrics {\"StartTime\": 1707640185.9338071, \"EndTime\": 1707640185.9338217, \"Dimensions\": {\"Algorithm\": \"Linear Learner\", \"Host\": \"algo-1\", \"Operation\": \"training\", \"epoch\": 3, \"model\": 18}, \"Metrics\": {\"train_binary_classification_cross_entropy_objective\": {\"sum\": 0.5041520273284446, \"count\": 1, \"min\": 0.5041520273284446, \"max\": 0.5041520273284446}}}\u001B[0m\n",
      "\u001B[34m#metrics {\"StartTime\": 1707640185.9338756, \"EndTime\": 1707640185.933891, \"Dimensions\": {\"Algorithm\": \"Linear Learner\", \"Host\": \"algo-1\", \"Operation\": \"training\", \"epoch\": 3, \"model\": 19}, \"Metrics\": {\"train_binary_classification_cross_entropy_objective\": {\"sum\": 0.504379110867095, \"count\": 1, \"min\": 0.504379110867095, \"max\": 0.504379110867095}}}\u001B[0m\n",
      "\u001B[34m#metrics {\"StartTime\": 1707640185.9339466, \"EndTime\": 1707640185.9339604, \"Dimensions\": {\"Algorithm\": \"Linear Learner\", \"Host\": \"algo-1\", \"Operation\": \"training\", \"epoch\": 3, \"model\": 20}, \"Metrics\": {\"train_binary_classification_cross_entropy_objective\": {\"sum\": 0.5042128388524421, \"count\": 1, \"min\": 0.5042128388524421, \"max\": 0.5042128388524421}}}\u001B[0m\n",
      "\u001B[34m#metrics {\"StartTime\": 1707640185.9340115, \"EndTime\": 1707640185.9340239, \"Dimensions\": {\"Algorithm\": \"Linear Learner\", \"Host\": \"algo-1\", \"Operation\": \"training\", \"epoch\": 3, \"model\": 21}, \"Metrics\": {\"train_binary_classification_cross_entropy_objective\": {\"sum\": 0.5070140595042377, \"count\": 1, \"min\": 0.5070140595042377, \"max\": 0.5070140595042377}}}\u001B[0m\n",
      "\u001B[34m#metrics {\"StartTime\": 1707640185.934071, \"EndTime\": 1707640185.9340842, \"Dimensions\": {\"Algorithm\": \"Linear Learner\", \"Host\": \"algo-1\", \"Operation\": \"training\", \"epoch\": 3, \"model\": 22}, \"Metrics\": {\"train_binary_classification_cross_entropy_objective\": {\"sum\": 0.5042128474850902, \"count\": 1, \"min\": 0.5042128474850902, \"max\": 0.5042128474850902}}}\u001B[0m\n",
      "\u001B[34m#metrics {\"StartTime\": 1707640185.9342782, \"EndTime\": 1707640185.9342976, \"Dimensions\": {\"Algorithm\": \"Linear Learner\", \"Host\": \"algo-1\", \"Operation\": \"training\", \"epoch\": 3, \"model\": 23}, \"Metrics\": {\"train_binary_classification_cross_entropy_objective\": {\"sum\": 0.5070140561678359, \"count\": 1, \"min\": 0.5070140561678359, \"max\": 0.5070140561678359}}}\u001B[0m\n",
      "\u001B[34m#metrics {\"StartTime\": 1707640185.9343526, \"EndTime\": 1707640185.934367, \"Dimensions\": {\"Algorithm\": \"Linear Learner\", \"Host\": \"algo-1\", \"Operation\": \"training\", \"epoch\": 3, \"model\": 24}, \"Metrics\": {\"train_binary_classification_cross_entropy_objective\": {\"sum\": 0.5137208193857735, \"count\": 1, \"min\": 0.5137208193857735, \"max\": 0.5137208193857735}}}\u001B[0m\n",
      "\u001B[34m#metrics {\"StartTime\": 1707640185.934418, \"EndTime\": 1707640185.934432, \"Dimensions\": {\"Algorithm\": \"Linear Learner\", \"Host\": \"algo-1\", \"Operation\": \"training\", \"epoch\": 3, \"model\": 25}, \"Metrics\": {\"train_binary_classification_cross_entropy_objective\": {\"sum\": 0.5138209719876631, \"count\": 1, \"min\": 0.5138209719876631, \"max\": 0.5138209719876631}}}\u001B[0m\n",
      "\u001B[34m#metrics {\"StartTime\": 1707640185.9344878, \"EndTime\": 1707640185.934503, \"Dimensions\": {\"Algorithm\": \"Linear Learner\", \"Host\": \"algo-1\", \"Operation\": \"training\", \"epoch\": 3, \"model\": 26}, \"Metrics\": {\"train_binary_classification_cross_entropy_objective\": {\"sum\": 0.5137223465245798, \"count\": 1, \"min\": 0.5137223465245798, \"max\": 0.5137223465245798}}}\u001B[0m\n",
      "\u001B[34m#metrics {\"StartTime\": 1707640185.9345803, \"EndTime\": 1707640185.9345944, \"Dimensions\": {\"Algorithm\": \"Linear Learner\", \"Host\": \"algo-1\", \"Operation\": \"training\", \"epoch\": 3, \"model\": 27}, \"Metrics\": {\"train_binary_classification_cross_entropy_objective\": {\"sum\": 0.5138215756197588, \"count\": 1, \"min\": 0.5138215756197588, \"max\": 0.5138215756197588}}}\u001B[0m\n",
      "\u001B[34m#metrics {\"StartTime\": 1707640185.9346468, \"EndTime\": 1707640185.934661, \"Dimensions\": {\"Algorithm\": \"Linear Learner\", \"Host\": \"algo-1\", \"Operation\": \"training\", \"epoch\": 3, \"model\": 28}, \"Metrics\": {\"train_binary_classification_cross_entropy_objective\": {\"sum\": 0.5137412815152322, \"count\": 1, \"min\": 0.5137412815152322, \"max\": 0.5137412815152322}}}\u001B[0m\n",
      "\u001B[34m#metrics {\"StartTime\": 1707640185.9347143, \"EndTime\": 1707640185.9347284, \"Dimensions\": {\"Algorithm\": \"Linear Learner\", \"Host\": \"algo-1\", \"Operation\": \"training\", \"epoch\": 3, \"model\": 29}, \"Metrics\": {\"train_binary_classification_cross_entropy_objective\": {\"sum\": 0.5148088048765783, \"count\": 1, \"min\": 0.5148088048765783, \"max\": 0.5148088048765783}}}\u001B[0m\n",
      "\u001B[34m#metrics {\"StartTime\": 1707640185.9347847, \"EndTime\": 1707640185.934799, \"Dimensions\": {\"Algorithm\": \"Linear Learner\", \"Host\": \"algo-1\", \"Operation\": \"training\", \"epoch\": 3, \"model\": 30}, \"Metrics\": {\"train_binary_classification_cross_entropy_objective\": {\"sum\": 0.5137415392581112, \"count\": 1, \"min\": 0.5137415392581112, \"max\": 0.5137415392581112}}}\u001B[0m\n",
      "\u001B[34m#metrics {\"StartTime\": 1707640185.9348497, \"EndTime\": 1707640185.934863, \"Dimensions\": {\"Algorithm\": \"Linear Learner\", \"Host\": \"algo-1\", \"Operation\": \"training\", \"epoch\": 3, \"model\": 31}, \"Metrics\": {\"train_binary_classification_cross_entropy_objective\": {\"sum\": 0.514808763789839, \"count\": 1, \"min\": 0.514808763789839, \"max\": 0.514808763789839}}}\u001B[0m\n",
      "\u001B[34m[02/11/2024 08:29:45 INFO 140048136783680] #quality_metric: host=algo-1, epoch=3, train binary_classification_cross_entropy_objective <loss>=0.48045687023944444\u001B[0m\n",
      "\u001B[34m[2024-02-11 08:29:49.073] [tensorio] [info] epoch_stats={\"data_pipeline\": \"/opt/ml/input/data/validation\", \"epoch\": 11, \"duration\": 3119, \"num_examples\": 164, \"num_bytes\": 63460892}\u001B[0m\n",
      "\u001B[34m#metrics {\"StartTime\": 1707640189.0805008, \"EndTime\": 1707640189.080571, \"Dimensions\": {\"Algorithm\": \"Linear Learner\", \"Host\": \"algo-1\", \"Operation\": \"training\", \"epoch\": 3, \"model\": 0}, \"Metrics\": {\"validation_binary_classification_cross_entropy_objective\": {\"sum\": 0.4804280536763492, \"count\": 1, \"min\": 0.4804280536763492, \"max\": 0.4804280536763492}}}\u001B[0m\n",
      "\u001B[34m#metrics {\"StartTime\": 1707640189.0806558, \"EndTime\": 1707640189.0806727, \"Dimensions\": {\"Algorithm\": \"Linear Learner\", \"Host\": \"algo-1\", \"Operation\": \"training\", \"epoch\": 3, \"model\": 1}, \"Metrics\": {\"validation_binary_classification_cross_entropy_objective\": {\"sum\": 0.48188126835932005, \"count\": 1, \"min\": 0.48188126835932005, \"max\": 0.48188126835932005}}}\u001B[0m\n",
      "\u001B[34m#metrics {\"StartTime\": 1707640189.0807247, \"EndTime\": 1707640189.0807393, \"Dimensions\": {\"Algorithm\": \"Linear Learner\", \"Host\": \"algo-1\", \"Operation\": \"training\", \"epoch\": 3, \"model\": 2}, \"Metrics\": {\"validation_binary_classification_cross_entropy_objective\": {\"sum\": 0.48044232757900296, \"count\": 1, \"min\": 0.48044232757900296, \"max\": 0.48044232757900296}}}\u001B[0m\n",
      "\u001B[34m#metrics {\"StartTime\": 1707640189.0807903, \"EndTime\": 1707640189.0808036, \"Dimensions\": {\"Algorithm\": \"Linear Learner\", \"Host\": \"algo-1\", \"Operation\": \"training\", \"epoch\": 3, \"model\": 3}, \"Metrics\": {\"validation_binary_classification_cross_entropy_objective\": {\"sum\": 0.48188132713344506, \"count\": 1, \"min\": 0.48188132713344506, \"max\": 0.48188132713344506}}}\u001B[0m\n",
      "\u001B[34m#metrics {\"StartTime\": 1707640189.080852, \"EndTime\": 1707640189.080866, \"Dimensions\": {\"Algorithm\": \"Linear Learner\", \"Host\": \"algo-1\", \"Operation\": \"training\", \"epoch\": 3, \"model\": 4}, \"Metrics\": {\"validation_binary_classification_cross_entropy_objective\": {\"sum\": 0.48057670929813556, \"count\": 1, \"min\": 0.48057670929813556, \"max\": 0.48057670929813556}}}\u001B[0m\n",
      "\u001B[34m#metrics {\"StartTime\": 1707640189.0809095, \"EndTime\": 1707640189.080922, \"Dimensions\": {\"Algorithm\": \"Linear Learner\", \"Host\": \"algo-1\", \"Operation\": \"training\", \"epoch\": 3, \"model\": 5}, \"Metrics\": {\"validation_binary_classification_cross_entropy_objective\": {\"sum\": 0.49972821948998525, \"count\": 1, \"min\": 0.49972821948998525, \"max\": 0.49972821948998525}}}\u001B[0m\n",
      "\u001B[34m#metrics {\"StartTime\": 1707640189.0809572, \"EndTime\": 1707640189.0809677, \"Dimensions\": {\"Algorithm\": \"Linear Learner\", \"Host\": \"algo-1\", \"Operation\": \"training\", \"epoch\": 3, \"model\": 6}, \"Metrics\": {\"validation_binary_classification_cross_entropy_objective\": {\"sum\": 0.48057671023105814, \"count\": 1, \"min\": 0.48057671023105814, \"max\": 0.48057671023105814}}}\u001B[0m\n",
      "\u001B[34m#metrics {\"StartTime\": 1707640189.0810106, \"EndTime\": 1707640189.081019, \"Dimensions\": {\"Algorithm\": \"Linear Learner\", \"Host\": \"algo-1\", \"Operation\": \"training\", \"epoch\": 3, \"model\": 7}, \"Metrics\": {\"validation_binary_classification_cross_entropy_objective\": {\"sum\": 0.4997282978554852, \"count\": 1, \"min\": 0.4997282978554852, \"max\": 0.4997282978554852}}}\u001B[0m\n",
      "\u001B[34m#metrics {\"StartTime\": 1707640189.0810876, \"EndTime\": 1707640189.0810993, \"Dimensions\": {\"Algorithm\": \"Linear Learner\", \"Host\": \"algo-1\", \"Operation\": \"training\", \"epoch\": 3, \"model\": 8}, \"Metrics\": {\"validation_binary_classification_cross_entropy_objective\": {\"sum\": 0.4806849607876353, \"count\": 1, \"min\": 0.4806849607876353, \"max\": 0.4806849607876353}}}\u001B[0m\n",
      "\u001B[34m#metrics {\"StartTime\": 1707640189.0811405, \"EndTime\": 1707640189.081152, \"Dimensions\": {\"Algorithm\": \"Linear Learner\", \"Host\": \"algo-1\", \"Operation\": \"training\", \"epoch\": 3, \"model\": 9}, \"Metrics\": {\"validation_binary_classification_cross_entropy_objective\": {\"sum\": 0.4820272186920961, \"count\": 1, \"min\": 0.4820272186920961, \"max\": 0.4820272186920961}}}\u001B[0m\n",
      "\u001B[34m#metrics {\"StartTime\": 1707640189.0811994, \"EndTime\": 1707640189.0812118, \"Dimensions\": {\"Algorithm\": \"Linear Learner\", \"Host\": \"algo-1\", \"Operation\": \"training\", \"epoch\": 3, \"model\": 10}, \"Metrics\": {\"validation_binary_classification_cross_entropy_objective\": {\"sum\": 0.4807014966544708, \"count\": 1, \"min\": 0.4807014966544708, \"max\": 0.4807014966544708}}}\u001B[0m\n",
      "\u001B[34m#metrics {\"StartTime\": 1707640189.0812552, \"EndTime\": 1707640189.0812676, \"Dimensions\": {\"Algorithm\": \"Linear Learner\", \"Host\": \"algo-1\", \"Operation\": \"training\", \"epoch\": 3, \"model\": 11}, \"Metrics\": {\"validation_binary_classification_cross_entropy_objective\": {\"sum\": 0.48202720077998185, \"count\": 1, \"min\": 0.48202720077998185, \"max\": 0.48202720077998185}}}\u001B[0m\n",
      "\u001B[34m#metrics {\"StartTime\": 1707640189.0813196, \"EndTime\": 1707640189.0813322, \"Dimensions\": {\"Algorithm\": \"Linear Learner\", \"Host\": \"algo-1\", \"Operation\": \"training\", \"epoch\": 3, \"model\": 12}, \"Metrics\": {\"validation_binary_classification_cross_entropy_objective\": {\"sum\": 0.4808297283611151, \"count\": 1, \"min\": 0.4808297283611151, \"max\": 0.4808297283611151}}}\u001B[0m\n",
      "\u001B[34m#metrics {\"StartTime\": 1707640189.081367, \"EndTime\": 1707640189.0813792, \"Dimensions\": {\"Algorithm\": \"Linear Learner\", \"Host\": \"algo-1\", \"Operation\": \"training\", \"epoch\": 3, \"model\": 13}, \"Metrics\": {\"validation_binary_classification_cross_entropy_objective\": {\"sum\": 0.4989686659862133, \"count\": 1, \"min\": 0.4989686659862133, \"max\": 0.4989686659862133}}}\u001B[0m\n",
      "\u001B[34m#metrics {\"StartTime\": 1707640189.0814068, \"EndTime\": 1707640189.0814142, \"Dimensions\": {\"Algorithm\": \"Linear Learner\", \"Host\": \"algo-1\", \"Operation\": \"training\", \"epoch\": 3, \"model\": 14}, \"Metrics\": {\"validation_binary_classification_cross_entropy_objective\": {\"sum\": 0.48082972537576274, \"count\": 1, \"min\": 0.48082972537576274, \"max\": 0.48082972537576274}}}\u001B[0m\n",
      "\u001B[34m#metrics {\"StartTime\": 1707640189.081451, \"EndTime\": 1707640189.081462, \"Dimensions\": {\"Algorithm\": \"Linear Learner\", \"Host\": \"algo-1\", \"Operation\": \"training\", \"epoch\": 3, \"model\": 15}, \"Metrics\": {\"validation_binary_classification_cross_entropy_objective\": {\"sum\": 0.49896865777649424, \"count\": 1, \"min\": 0.49896865777649424, \"max\": 0.49896865777649424}}}\u001B[0m\n",
      "\u001B[34m#metrics {\"StartTime\": 1707640189.0815084, \"EndTime\": 1707640189.0815187, \"Dimensions\": {\"Algorithm\": \"Linear Learner\", \"Host\": \"algo-1\", \"Operation\": \"training\", \"epoch\": 3, \"model\": 16}, \"Metrics\": {\"validation_binary_classification_cross_entropy_objective\": {\"sum\": 0.5041901919026902, \"count\": 1, \"min\": 0.5041901919026902, \"max\": 0.5041901919026902}}}\u001B[0m\n",
      "\u001B[34m#metrics {\"StartTime\": 1707640189.0815554, \"EndTime\": 1707640189.0815783, \"Dimensions\": {\"Algorithm\": \"Linear Learner\", \"Host\": \"algo-1\", \"Operation\": \"training\", \"epoch\": 3, \"model\": 17}, \"Metrics\": {\"validation_binary_classification_cross_entropy_objective\": {\"sum\": 0.504222649773278, \"count\": 1, \"min\": 0.504222649773278, \"max\": 0.504222649773278}}}\u001B[0m\n",
      "\u001B[34m#metrics {\"StartTime\": 1707640189.0816195, \"EndTime\": 1707640189.0816305, \"Dimensions\": {\"Algorithm\": \"Linear Learner\", \"Host\": \"algo-1\", \"Operation\": \"training\", \"epoch\": 3, \"model\": 18}, \"Metrics\": {\"validation_binary_classification_cross_entropy_objective\": {\"sum\": 0.5042179181763394, \"count\": 1, \"min\": 0.5042179181763394, \"max\": 0.5042179181763394}}}\u001B[0m\n",
      "\u001B[34m#metrics {\"StartTime\": 1707640189.081674, \"EndTime\": 1707640189.0816867, \"Dimensions\": {\"Algorithm\": \"Linear Learner\", \"Host\": \"algo-1\", \"Operation\": \"training\", \"epoch\": 3, \"model\": 19}, \"Metrics\": {\"validation_binary_classification_cross_entropy_objective\": {\"sum\": 0.5042223816513174, \"count\": 1, \"min\": 0.5042223816513174, \"max\": 0.5042223816513174}}}\u001B[0m\n",
      "\u001B[34m#metrics {\"StartTime\": 1707640189.0817218, \"EndTime\": 1707640189.0817337, \"Dimensions\": {\"Algorithm\": \"Linear Learner\", \"Host\": \"algo-1\", \"Operation\": \"training\", \"epoch\": 3, \"model\": 20}, \"Metrics\": {\"validation_binary_classification_cross_entropy_objective\": {\"sum\": 0.504052172531682, \"count\": 1, \"min\": 0.504052172531682, \"max\": 0.504052172531682}}}\u001B[0m\n",
      "\u001B[34m#metrics {\"StartTime\": 1707640189.081773, \"EndTime\": 1707640189.081786, \"Dimensions\": {\"Algorithm\": \"Linear Learner\", \"Host\": \"algo-1\", \"Operation\": \"training\", \"epoch\": 3, \"model\": 21}, \"Metrics\": {\"validation_binary_classification_cross_entropy_objective\": {\"sum\": 0.5087606432514294, \"count\": 1, \"min\": 0.5087606432514294, \"max\": 0.5087606432514294}}}\u001B[0m\n",
      "\u001B[34m#metrics {\"StartTime\": 1707640189.0818324, \"EndTime\": 1707640189.081845, \"Dimensions\": {\"Algorithm\": \"Linear Learner\", \"Host\": \"algo-1\", \"Operation\": \"training\", \"epoch\": 3, \"model\": 22}, \"Metrics\": {\"validation_binary_classification_cross_entropy_objective\": {\"sum\": 0.5040521628292868, \"count\": 1, \"min\": 0.5040521628292868, \"max\": 0.5040521628292868}}}\u001B[0m\n",
      "\u001B[34m#metrics {\"StartTime\": 1707640189.0818808, \"EndTime\": 1707640189.081894, \"Dimensions\": {\"Algorithm\": \"Linear Learner\", \"Host\": \"algo-1\", \"Operation\": \"training\", \"epoch\": 3, \"model\": 23}, \"Metrics\": {\"validation_binary_classification_cross_entropy_objective\": {\"sum\": 0.5087606221673783, \"count\": 1, \"min\": 0.5087606221673783, \"max\": 0.5087606221673783}}}\u001B[0m\n",
      "\u001B[34m#metrics {\"StartTime\": 1707640189.0819337, \"EndTime\": 1707640189.081946, \"Dimensions\": {\"Algorithm\": \"Linear Learner\", \"Host\": \"algo-1\", \"Operation\": \"training\", \"epoch\": 3, \"model\": 24}, \"Metrics\": {\"validation_binary_classification_cross_entropy_objective\": {\"sum\": 0.5137075518267921, \"count\": 1, \"min\": 0.5137075518267921, \"max\": 0.5137075518267921}}}\u001B[0m\n",
      "\u001B[34m#metrics {\"StartTime\": 1707640189.0819838, \"EndTime\": 1707640189.0819957, \"Dimensions\": {\"Algorithm\": \"Linear Learner\", \"Host\": \"algo-1\", \"Operation\": \"training\", \"epoch\": 3, \"model\": 25}, \"Metrics\": {\"validation_binary_classification_cross_entropy_objective\": {\"sum\": 0.5143413040739265, \"count\": 1, \"min\": 0.5143413040739265, \"max\": 0.5143413040739265}}}\u001B[0m\n",
      "\u001B[34m#metrics {\"StartTime\": 1707640189.0820334, \"EndTime\": 1707640189.0820444, \"Dimensions\": {\"Algorithm\": \"Linear Learner\", \"Host\": \"algo-1\", \"Operation\": \"training\", \"epoch\": 3, \"model\": 26}, \"Metrics\": {\"validation_binary_classification_cross_entropy_objective\": {\"sum\": 0.5137156094794515, \"count\": 1, \"min\": 0.5137156094794515, \"max\": 0.5137156094794515}}}\u001B[0m\n",
      "\u001B[34m#metrics {\"StartTime\": 1707640189.0820866, \"EndTime\": 1707640189.0821002, \"Dimensions\": {\"Algorithm\": \"Linear Learner\", \"Host\": \"algo-1\", \"Operation\": \"training\", \"epoch\": 3, \"model\": 27}, \"Metrics\": {\"validation_binary_classification_cross_entropy_objective\": {\"sum\": 0.5143392133943375, \"count\": 1, \"min\": 0.5143392133943375, \"max\": 0.5143392133943375}}}\u001B[0m\n",
      "\u001B[34m#metrics {\"StartTime\": 1707640189.0821369, \"EndTime\": 1707640189.0821483, \"Dimensions\": {\"Algorithm\": \"Linear Learner\", \"Host\": \"algo-1\", \"Operation\": \"training\", \"epoch\": 3, \"model\": 28}, \"Metrics\": {\"validation_binary_classification_cross_entropy_objective\": {\"sum\": 0.5137373064607993, \"count\": 1, \"min\": 0.5137373064607993, \"max\": 0.5137373064607993}}}\u001B[0m\n",
      "\u001B[34m#metrics {\"StartTime\": 1707640189.0821905, \"EndTime\": 1707640189.0822005, \"Dimensions\": {\"Algorithm\": \"Linear Learner\", \"Host\": \"algo-1\", \"Operation\": \"training\", \"epoch\": 3, \"model\": 29}, \"Metrics\": {\"validation_binary_classification_cross_entropy_objective\": {\"sum\": 0.5141607652618856, \"count\": 1, \"min\": 0.5141607652618856, \"max\": 0.5141607652618856}}}\u001B[0m\n",
      "\u001B[34m#metrics {\"StartTime\": 1707640189.0822442, \"EndTime\": 1707640189.0822563, \"Dimensions\": {\"Algorithm\": \"Linear Learner\", \"Host\": \"algo-1\", \"Operation\": \"training\", \"epoch\": 3, \"model\": 30}, \"Metrics\": {\"validation_binary_classification_cross_entropy_objective\": {\"sum\": 0.5137420113761509, \"count\": 1, \"min\": 0.5137420113761509, \"max\": 0.5137420113761509}}}\u001B[0m\n",
      "\u001B[34m#metrics {\"StartTime\": 1707640189.082301, \"EndTime\": 1707640189.082314, \"Dimensions\": {\"Algorithm\": \"Linear Learner\", \"Host\": \"algo-1\", \"Operation\": \"training\", \"epoch\": 3, \"model\": 31}, \"Metrics\": {\"validation_binary_classification_cross_entropy_objective\": {\"sum\": 0.5141607551863213, \"count\": 1, \"min\": 0.5141607551863213, \"max\": 0.5141607551863213}}}\u001B[0m\n",
      "\u001B[34m[02/11/2024 08:29:49 INFO 140048136783680] #quality_metric: host=algo-1, epoch=3, validation binary_classification_cross_entropy_objective <loss>=0.4804280536763492\u001B[0m\n",
      "\u001B[34m[02/11/2024 08:29:49 INFO 140048136783680] #early_stopping_criteria_metric: host=algo-1, epoch=3, criteria=binary_classification_cross_entropy_objective, value=0.4804280536763492\u001B[0m\n",
      "\u001B[34m[02/11/2024 08:29:49 INFO 140048136783680] Saving model for epoch: 3\u001B[0m\n",
      "\u001B[34m[02/11/2024 08:29:49 INFO 140048136783680] Saved checkpoint to \"/tmp/tmpzpgmq1qr/mx-mod-0000.params\"\u001B[0m\n",
      "\u001B[34m[02/11/2024 08:29:49 INFO 140048136783680] #progress_metric: host=algo-1, completed 26.666666666666668 % of epochs\u001B[0m\n",
      "\u001B[34m#metrics {\"StartTime\": 1707640151.431353, \"EndTime\": 1707640189.0884535, \"Dimensions\": {\"Algorithm\": \"Linear Learner\", \"Host\": \"algo-1\", \"Operation\": \"training\", \"epoch\": 3, \"Meta\": \"training_data_iter\"}, \"Metrics\": {\"Total Records Seen\": {\"sum\": 5245888.0, \"count\": 1, \"min\": 5245888, \"max\": 5245888}, \"Total Batches Seen\": {\"sum\": 5248.0, \"count\": 1, \"min\": 5248, \"max\": 5248}, \"Max Records Seen Between Resets\": {\"sum\": 1308472.0, \"count\": 1, \"min\": 1308472, \"max\": 1308472}, \"Max Batches Seen Between Resets\": {\"sum\": 1309.0, \"count\": 1, \"min\": 1309, \"max\": 1309}, \"Reset Count\": {\"sum\": 6.0, \"count\": 1, \"min\": 6, \"max\": 6}, \"Number of Records Since Last Reset\": {\"sum\": 1308472.0, \"count\": 1, \"min\": 1308472, \"max\": 1308472}, \"Number of Batches Since Last Reset\": {\"sum\": 1309.0, \"count\": 1, \"min\": 1309, \"max\": 1309}}}\u001B[0m\n",
      "\u001B[34m[02/11/2024 08:29:49 INFO 140048136783680] #throughput_metric: host=algo-1, train throughput=34746.89775692788 records/second\u001B[0m\n",
      "\u001B[34m[2024-02-11 08:30:24.958] [tensorio] [info] epoch_stats={\"data_pipeline\": \"/opt/ml/input/data/train\", \"epoch\": 11, \"duration\": 35862, \"num_examples\": 1309, \"num_bytes\": 507687136}\u001B[0m\n",
      "\u001B[34m#metrics {\"StartTime\": 1707640224.9586668, \"EndTime\": 1707640224.9587517, \"Dimensions\": {\"Algorithm\": \"Linear Learner\", \"Host\": \"algo-1\", \"Operation\": \"training\", \"epoch\": 4, \"model\": 0}, \"Metrics\": {\"train_binary_classification_cross_entropy_objective\": {\"sum\": 0.4804308479845706, \"count\": 1, \"min\": 0.4804308479845706, \"max\": 0.4804308479845706}}}\u001B[0m\n",
      "\u001B[34m#metrics {\"StartTime\": 1707640224.9588542, \"EndTime\": 1707640224.9588704, \"Dimensions\": {\"Algorithm\": \"Linear Learner\", \"Host\": \"algo-1\", \"Operation\": \"training\", \"epoch\": 4, \"model\": 1}, \"Metrics\": {\"train_binary_classification_cross_entropy_objective\": {\"sum\": 0.4812768111156032, \"count\": 1, \"min\": 0.4812768111156032, \"max\": 0.4812768111156032}}}\u001B[0m\n",
      "\u001B[34m#metrics {\"StartTime\": 1707640224.9589198, \"EndTime\": 1707640224.9589303, \"Dimensions\": {\"Algorithm\": \"Linear Learner\", \"Host\": \"algo-1\", \"Operation\": \"training\", \"epoch\": 4, \"model\": 2}, \"Metrics\": {\"train_binary_classification_cross_entropy_objective\": {\"sum\": 0.4804710766153598, \"count\": 1, \"min\": 0.4804710766153598, \"max\": 0.4804710766153598}}}\u001B[0m\n",
      "\u001B[34m#metrics {\"StartTime\": 1707640224.9589689, \"EndTime\": 1707640224.9589784, \"Dimensions\": {\"Algorithm\": \"Linear Learner\", \"Host\": \"algo-1\", \"Operation\": \"training\", \"epoch\": 4, \"model\": 3}, \"Metrics\": {\"train_binary_classification_cross_entropy_objective\": {\"sum\": 0.48127681260881805, \"count\": 1, \"min\": 0.48127681260881805, \"max\": 0.48127681260881805}}}\u001B[0m\n",
      "\u001B[34m#metrics {\"StartTime\": 1707640224.9590142, \"EndTime\": 1707640224.9590228, \"Dimensions\": {\"Algorithm\": \"Linear Learner\", \"Host\": \"algo-1\", \"Operation\": \"training\", \"epoch\": 4, \"model\": 4}, \"Metrics\": {\"train_binary_classification_cross_entropy_objective\": {\"sum\": 0.48054824516459704, \"count\": 1, \"min\": 0.48054824516459704, \"max\": 0.48054824516459704}}}\u001B[0m\n",
      "\u001B[34m#metrics {\"StartTime\": 1707640224.9590592, \"EndTime\": 1707640224.9590676, \"Dimensions\": {\"Algorithm\": \"Linear Learner\", \"Host\": \"algo-1\", \"Operation\": \"training\", \"epoch\": 4, \"model\": 5}, \"Metrics\": {\"train_binary_classification_cross_entropy_objective\": {\"sum\": 0.49474059120668185, \"count\": 1, \"min\": 0.49474059120668185, \"max\": 0.49474059120668185}}}\u001B[0m\n",
      "\u001B[34m#metrics {\"StartTime\": 1707640224.9591002, \"EndTime\": 1707640224.9591086, \"Dimensions\": {\"Algorithm\": \"Linear Learner\", \"Host\": \"algo-1\", \"Operation\": \"training\", \"epoch\": 4, \"model\": 6}, \"Metrics\": {\"train_binary_classification_cross_entropy_objective\": {\"sum\": 0.48054824565455817, \"count\": 1, \"min\": 0.48054824565455817, \"max\": 0.48054824565455817}}}\u001B[0m\n",
      "\u001B[34m#metrics {\"StartTime\": 1707640224.9591808, \"EndTime\": 1707640224.9591908, \"Dimensions\": {\"Algorithm\": \"Linear Learner\", \"Host\": \"algo-1\", \"Operation\": \"training\", \"epoch\": 4, \"model\": 7}, \"Metrics\": {\"train_binary_classification_cross_entropy_objective\": {\"sum\": 0.49474058392725956, \"count\": 1, \"min\": 0.49474058392725956, \"max\": 0.49474058392725956}}}\u001B[0m\n",
      "\u001B[34m#metrics {\"StartTime\": 1707640224.959223, \"EndTime\": 1707640224.9592311, \"Dimensions\": {\"Algorithm\": \"Linear Learner\", \"Host\": \"algo-1\", \"Operation\": \"training\", \"epoch\": 4, \"model\": 8}, \"Metrics\": {\"train_binary_classification_cross_entropy_objective\": {\"sum\": 0.4806974929436267, \"count\": 1, \"min\": 0.4806974929436267, \"max\": 0.4806974929436267}}}\u001B[0m\n",
      "\u001B[34m#metrics {\"StartTime\": 1707640224.9592605, \"EndTime\": 1707640224.9592683, \"Dimensions\": {\"Algorithm\": \"Linear Learner\", \"Host\": \"algo-1\", \"Operation\": \"training\", \"epoch\": 4, \"model\": 9}, \"Metrics\": {\"train_binary_classification_cross_entropy_objective\": {\"sum\": 0.48149484577237284, \"count\": 1, \"min\": 0.48149484577237284, \"max\": 0.48149484577237284}}}\u001B[0m\n",
      "\u001B[34m#metrics {\"StartTime\": 1707640224.9593003, \"EndTime\": 1707640224.9593084, \"Dimensions\": {\"Algorithm\": \"Linear Learner\", \"Host\": \"algo-1\", \"Operation\": \"training\", \"epoch\": 4, \"model\": 10}, \"Metrics\": {\"train_binary_classification_cross_entropy_objective\": {\"sum\": 0.48073666545156307, \"count\": 1, \"min\": 0.48073666545156307, \"max\": 0.48073666545156307}}}\u001B[0m\n",
      "\u001B[34m#metrics {\"StartTime\": 1707640224.959337, \"EndTime\": 1707640224.959345, \"Dimensions\": {\"Algorithm\": \"Linear Learner\", \"Host\": \"algo-1\", \"Operation\": \"training\", \"epoch\": 4, \"model\": 11}, \"Metrics\": {\"train_binary_classification_cross_entropy_objective\": {\"sum\": 0.4814948450724284, \"count\": 1, \"min\": 0.4814948450724284, \"max\": 0.4814948450724284}}}\u001B[0m\n",
      "\u001B[34m#metrics {\"StartTime\": 1707640224.959376, \"EndTime\": 1707640224.9593842, \"Dimensions\": {\"Algorithm\": \"Linear Learner\", \"Host\": \"algo-1\", \"Operation\": \"training\", \"epoch\": 4, \"model\": 12}, \"Metrics\": {\"train_binary_classification_cross_entropy_objective\": {\"sum\": 0.4808092939044357, \"count\": 1, \"min\": 0.4808092939044357, \"max\": 0.4808092939044357}}}\u001B[0m\n",
      "\u001B[34m#metrics {\"StartTime\": 1707640224.9594204, \"EndTime\": 1707640224.9594288, \"Dimensions\": {\"Algorithm\": \"Linear Learner\", \"Host\": \"algo-1\", \"Operation\": \"training\", \"epoch\": 4, \"model\": 13}, \"Metrics\": {\"train_binary_classification_cross_entropy_objective\": {\"sum\": 0.49394684719820636, \"count\": 1, \"min\": 0.49394684719820636, \"max\": 0.49394684719820636}}}\u001B[0m\n",
      "\u001B[34m#metrics {\"StartTime\": 1707640224.9594634, \"EndTime\": 1707640224.959472, \"Dimensions\": {\"Algorithm\": \"Linear Learner\", \"Host\": \"algo-1\", \"Operation\": \"training\", \"epoch\": 4, \"model\": 14}, \"Metrics\": {\"train_binary_classification_cross_entropy_objective\": {\"sum\": 0.4808092939744302, \"count\": 1, \"min\": 0.4808092939744302, \"max\": 0.4808092939744302}}}\u001B[0m\n",
      "\u001B[34m#metrics {\"StartTime\": 1707640224.9595006, \"EndTime\": 1707640224.9595087, \"Dimensions\": {\"Algorithm\": \"Linear Learner\", \"Host\": \"algo-1\", \"Operation\": \"training\", \"epoch\": 4, \"model\": 15}, \"Metrics\": {\"train_binary_classification_cross_entropy_objective\": {\"sum\": 0.4939468353924766, \"count\": 1, \"min\": 0.4939468353924766, \"max\": 0.4939468353924766}}}\u001B[0m\n",
      "\u001B[34m#metrics {\"StartTime\": 1707640224.9595428, \"EndTime\": 1707640224.9595513, \"Dimensions\": {\"Algorithm\": \"Linear Learner\", \"Host\": \"algo-1\", \"Operation\": \"training\", \"epoch\": 4, \"model\": 16}, \"Metrics\": {\"train_binary_classification_cross_entropy_objective\": {\"sum\": 0.5041407711950646, \"count\": 1, \"min\": 0.5041407711950646, \"max\": 0.5041407711950646}}}\u001B[0m\n",
      "\u001B[34m#metrics {\"StartTime\": 1707640224.9595854, \"EndTime\": 1707640224.959594, \"Dimensions\": {\"Algorithm\": \"Linear Learner\", \"Host\": \"algo-1\", \"Operation\": \"training\", \"epoch\": 4, \"model\": 17}, \"Metrics\": {\"train_binary_classification_cross_entropy_objective\": {\"sum\": 0.5043499826787079, \"count\": 1, \"min\": 0.5043499826787079, \"max\": 0.5043499826787079}}}\u001B[0m\n",
      "\u001B[34m#metrics {\"StartTime\": 1707640224.9596283, \"EndTime\": 1707640224.959637, \"Dimensions\": {\"Algorithm\": \"Linear Learner\", \"Host\": \"algo-1\", \"Operation\": \"training\", \"epoch\": 4, \"model\": 18}, \"Metrics\": {\"train_binary_classification_cross_entropy_objective\": {\"sum\": 0.5041515250249741, \"count\": 1, \"min\": 0.5041515250249741, \"max\": 0.5041515250249741}}}\u001B[0m\n",
      "\u001B[34m#metrics {\"StartTime\": 1707640224.959666, \"EndTime\": 1707640224.9596741, \"Dimensions\": {\"Algorithm\": \"Linear Learner\", \"Host\": \"algo-1\", \"Operation\": \"training\", \"epoch\": 4, \"model\": 19}, \"Metrics\": {\"train_binary_classification_cross_entropy_objective\": {\"sum\": 0.5043499823054043, \"count\": 1, \"min\": 0.5043499823054043, \"max\": 0.5043499823054043}}}\u001B[0m\n",
      "\u001B[34m#metrics {\"StartTime\": 1707640224.9597087, \"EndTime\": 1707640224.959717, \"Dimensions\": {\"Algorithm\": \"Linear Learner\", \"Host\": \"algo-1\", \"Operation\": \"training\", \"epoch\": 4, \"model\": 20}, \"Metrics\": {\"train_binary_classification_cross_entropy_objective\": {\"sum\": 0.5041591908632798, \"count\": 1, \"min\": 0.5041591908632798, \"max\": 0.5041591908632798}}}\u001B[0m\n",
      "\u001B[34m#metrics {\"StartTime\": 1707640224.9597566, \"EndTime\": 1707640224.9597666, \"Dimensions\": {\"Algorithm\": \"Linear Learner\", \"Host\": \"algo-1\", \"Operation\": \"training\", \"epoch\": 4, \"model\": 21}, \"Metrics\": {\"train_binary_classification_cross_entropy_objective\": {\"sum\": 0.5066947907614052, \"count\": 1, \"min\": 0.5066947907614052, \"max\": 0.5066947907614052}}}\u001B[0m\n",
      "\u001B[34m#metrics {\"StartTime\": 1707640224.9597964, \"EndTime\": 1707640224.9598048, \"Dimensions\": {\"Algorithm\": \"Linear Learner\", \"Host\": \"algo-1\", \"Operation\": \"training\", \"epoch\": 4, \"model\": 22}, \"Metrics\": {\"train_binary_classification_cross_entropy_objective\": {\"sum\": 0.5041591926131409, \"count\": 1, \"min\": 0.5041591926131409, \"max\": 0.5041591926131409}}}\u001B[0m\n",
      "\u001B[34m#metrics {\"StartTime\": 1707640224.9598331, \"EndTime\": 1707640224.9598413, \"Dimensions\": {\"Algorithm\": \"Linear Learner\", \"Host\": \"algo-1\", \"Operation\": \"training\", \"epoch\": 4, \"model\": 23}, \"Metrics\": {\"train_binary_classification_cross_entropy_objective\": {\"sum\": 0.506694790271444, \"count\": 1, \"min\": 0.506694790271444, \"max\": 0.506694790271444}}}\u001B[0m\n",
      "\u001B[34m#metrics {\"StartTime\": 1707640224.959876, \"EndTime\": 1707640224.9598844, \"Dimensions\": {\"Algorithm\": \"Linear Learner\", \"Host\": \"algo-1\", \"Operation\": \"training\", \"epoch\": 4, \"model\": 24}, \"Metrics\": {\"train_binary_classification_cross_entropy_objective\": {\"sum\": 0.5137188987148646, \"count\": 1, \"min\": 0.5137188987148646, \"max\": 0.5137188987148646}}}\u001B[0m\n",
      "\u001B[34m#metrics {\"StartTime\": 1707640224.9599164, \"EndTime\": 1707640224.9599245, \"Dimensions\": {\"Algorithm\": \"Linear Learner\", \"Host\": \"algo-1\", \"Operation\": \"training\", \"epoch\": 4, \"model\": 25}, \"Metrics\": {\"train_binary_classification_cross_entropy_objective\": {\"sum\": 0.5138078507123008, \"count\": 1, \"min\": 0.5138078507123008, \"max\": 0.5138078507123008}}}\u001B[0m\n",
      "\u001B[34m#metrics {\"StartTime\": 1707640224.9599633, \"EndTime\": 1707640224.959972, \"Dimensions\": {\"Algorithm\": \"Linear Learner\", \"Host\": \"algo-1\", \"Operation\": \"training\", \"epoch\": 4, \"model\": 26}, \"Metrics\": {\"train_binary_classification_cross_entropy_objective\": {\"sum\": 0.513722190880265, \"count\": 1, \"min\": 0.513722190880265, \"max\": 0.513722190880265}}}\u001B[0m\n",
      "\u001B[34m#metrics {\"StartTime\": 1707640224.9599998, \"EndTime\": 1707640224.9600077, \"Dimensions\": {\"Algorithm\": \"Linear Learner\", \"Host\": \"algo-1\", \"Operation\": \"training\", \"epoch\": 4, \"model\": 27}, \"Metrics\": {\"train_binary_classification_cross_entropy_objective\": {\"sum\": 0.5138079111408386, \"count\": 1, \"min\": 0.5138079111408386, \"max\": 0.5138079111408386}}}\u001B[0m\n",
      "\u001B[34m#metrics {\"StartTime\": 1707640224.960036, \"EndTime\": 1707640224.9600444, \"Dimensions\": {\"Algorithm\": \"Linear Learner\", \"Host\": \"algo-1\", \"Operation\": \"training\", \"epoch\": 4, \"model\": 28}, \"Metrics\": {\"train_binary_classification_cross_entropy_objective\": {\"sum\": 0.513727760198284, \"count\": 1, \"min\": 0.513727760198284, \"max\": 0.513727760198284}}}\u001B[0m\n",
      "\u001B[34m#metrics {\"StartTime\": 1707640224.9600782, \"EndTime\": 1707640224.9600868, \"Dimensions\": {\"Algorithm\": \"Linear Learner\", \"Host\": \"algo-1\", \"Operation\": \"training\", \"epoch\": 4, \"model\": 29}, \"Metrics\": {\"train_binary_classification_cross_entropy_objective\": {\"sum\": 0.5146716055447174, \"count\": 1, \"min\": 0.5146716055447174, \"max\": 0.5146716055447174}}}\u001B[0m\n",
      "\u001B[34m#metrics {\"StartTime\": 1707640224.9601212, \"EndTime\": 1707640224.9601295, \"Dimensions\": {\"Algorithm\": \"Linear Learner\", \"Host\": \"algo-1\", \"Operation\": \"training\", \"epoch\": 4, \"model\": 30}, \"Metrics\": {\"train_binary_classification_cross_entropy_objective\": {\"sum\": 0.5137277503523987, \"count\": 1, \"min\": 0.5137277503523987, \"max\": 0.5137277503523987}}}\u001B[0m\n",
      "\u001B[34m#metrics {\"StartTime\": 1707640224.9601622, \"EndTime\": 1707640224.9601703, \"Dimensions\": {\"Algorithm\": \"Linear Learner\", \"Host\": \"algo-1\", \"Operation\": \"training\", \"epoch\": 4, \"model\": 31}, \"Metrics\": {\"train_binary_classification_cross_entropy_objective\": {\"sum\": 0.5146716030949117, \"count\": 1, \"min\": 0.5146716030949117, \"max\": 0.5146716030949117}}}\u001B[0m\n",
      "\u001B[34m[02/11/2024 08:30:24 INFO 140048136783680] #quality_metric: host=algo-1, epoch=4, train binary_classification_cross_entropy_objective <loss>=0.4804308479845706\u001B[0m\n",
      "\u001B[34m[2024-02-11 08:30:28.172] [tensorio] [info] epoch_stats={\"data_pipeline\": \"/opt/ml/input/data/validation\", \"epoch\": 14, \"duration\": 3195, \"num_examples\": 164, \"num_bytes\": 63460892}\u001B[0m\n",
      "\u001B[34m#metrics {\"StartTime\": 1707640228.1798027, \"EndTime\": 1707640228.1798675, \"Dimensions\": {\"Algorithm\": \"Linear Learner\", \"Host\": \"algo-1\", \"Operation\": \"training\", \"epoch\": 4, \"model\": 0}, \"Metrics\": {\"validation_binary_classification_cross_entropy_objective\": {\"sum\": 0.48042612215335906, \"count\": 1, \"min\": 0.48042612215335906, \"max\": 0.48042612215335906}}}\u001B[0m\n",
      "\u001B[34m#metrics {\"StartTime\": 1707640228.179948, \"EndTime\": 1707640228.1799614, \"Dimensions\": {\"Algorithm\": \"Linear Learner\", \"Host\": \"algo-1\", \"Operation\": \"training\", \"epoch\": 4, \"model\": 1}, \"Metrics\": {\"validation_binary_classification_cross_entropy_objective\": {\"sum\": 0.48165547496371247, \"count\": 1, \"min\": 0.48165547496371247, \"max\": 0.48165547496371247}}}\u001B[0m\n",
      "\u001B[34m#metrics {\"StartTime\": 1707640228.1800141, \"EndTime\": 1707640228.1800277, \"Dimensions\": {\"Algorithm\": \"Linear Learner\", \"Host\": \"algo-1\", \"Operation\": \"training\", \"epoch\": 4, \"model\": 2}, \"Metrics\": {\"validation_binary_classification_cross_entropy_objective\": {\"sum\": 0.48044241713957436, \"count\": 1, \"min\": 0.48044241713957436, \"max\": 0.48044241713957436}}}\u001B[0m\n",
      "\u001B[34m#metrics {\"StartTime\": 1707640228.18008, \"EndTime\": 1707640228.1800919, \"Dimensions\": {\"Algorithm\": \"Linear Learner\", \"Host\": \"algo-1\", \"Operation\": \"training\", \"epoch\": 4, \"model\": 3}, \"Metrics\": {\"validation_binary_classification_cross_entropy_objective\": {\"sum\": 0.4816554915697351, \"count\": 1, \"min\": 0.4816554915697351, \"max\": 0.4816554915697351}}}\u001B[0m\n",
      "\u001B[34m#metrics {\"StartTime\": 1707640228.1801357, \"EndTime\": 1707640228.1801476, \"Dimensions\": {\"Algorithm\": \"Linear Learner\", \"Host\": \"algo-1\", \"Operation\": \"training\", \"epoch\": 4, \"model\": 4}, \"Metrics\": {\"validation_binary_classification_cross_entropy_objective\": {\"sum\": 0.48046250800134144, \"count\": 1, \"min\": 0.48046250800134144, \"max\": 0.48046250800134144}}}\u001B[0m\n",
      "\u001B[34m#metrics {\"StartTime\": 1707640228.1801915, \"EndTime\": 1707640228.1802025, \"Dimensions\": {\"Algorithm\": \"Linear Learner\", \"Host\": \"algo-1\", \"Operation\": \"training\", \"epoch\": 4, \"model\": 5}, \"Metrics\": {\"validation_binary_classification_cross_entropy_objective\": {\"sum\": 0.4977205362423093, \"count\": 1, \"min\": 0.4977205362423093, \"max\": 0.4977205362423093}}}\u001B[0m\n",
      "\u001B[34m#metrics {\"StartTime\": 1707640228.180246, \"EndTime\": 1707640228.1802573, \"Dimensions\": {\"Algorithm\": \"Linear Learner\", \"Host\": \"algo-1\", \"Operation\": \"training\", \"epoch\": 4, \"model\": 6}, \"Metrics\": {\"validation_binary_classification_cross_entropy_objective\": {\"sum\": 0.48046250874767954, \"count\": 1, \"min\": 0.48046250874767954, \"max\": 0.48046250874767954}}}\u001B[0m\n",
      "\u001B[34m#metrics {\"StartTime\": 1707640228.1803007, \"EndTime\": 1707640228.1803114, \"Dimensions\": {\"Algorithm\": \"Linear Learner\", \"Host\": \"algo-1\", \"Operation\": \"training\", \"epoch\": 4, \"model\": 7}, \"Metrics\": {\"validation_binary_classification_cross_entropy_objective\": {\"sum\": 0.4977205638568188, \"count\": 1, \"min\": 0.4977205638568188, \"max\": 0.4977205638568188}}}\u001B[0m\n",
      "\u001B[34m#metrics {\"StartTime\": 1707640228.1803493, \"EndTime\": 1707640228.1803608, \"Dimensions\": {\"Algorithm\": \"Linear Learner\", \"Host\": \"algo-1\", \"Operation\": \"training\", \"epoch\": 4, \"model\": 8}, \"Metrics\": {\"validation_binary_classification_cross_entropy_objective\": {\"sum\": 0.4806820711531155, \"count\": 1, \"min\": 0.4806820711531155, \"max\": 0.4806820711531155}}}\u001B[0m\n",
      "\u001B[34m#metrics {\"StartTime\": 1707640228.1804035, \"EndTime\": 1707640228.180415, \"Dimensions\": {\"Algorithm\": \"Linear Learner\", \"Host\": \"algo-1\", \"Operation\": \"training\", \"epoch\": 4, \"model\": 9}, \"Metrics\": {\"validation_binary_classification_cross_entropy_objective\": {\"sum\": 0.4818183630663882, \"count\": 1, \"min\": 0.4818183630663882, \"max\": 0.4818183630663882}}}\u001B[0m\n",
      "\u001B[34m#metrics {\"StartTime\": 1707640228.1804614, \"EndTime\": 1707640228.1804743, \"Dimensions\": {\"Algorithm\": \"Linear Learner\", \"Host\": \"algo-1\", \"Operation\": \"training\", \"epoch\": 4, \"model\": 10}, \"Metrics\": {\"validation_binary_classification_cross_entropy_objective\": {\"sum\": 0.48070141679629463, \"count\": 1, \"min\": 0.48070141679629463, \"max\": 0.48070141679629463}}}\u001B[0m\n",
      "\u001B[34m#metrics {\"StartTime\": 1707640228.180513, \"EndTime\": 1707640228.1805267, \"Dimensions\": {\"Algorithm\": \"Linear Learner\", \"Host\": \"algo-1\", \"Operation\": \"training\", \"epoch\": 4, \"model\": 11}, \"Metrics\": {\"validation_binary_classification_cross_entropy_objective\": {\"sum\": 0.4818183548566692, \"count\": 1, \"min\": 0.4818183548566692, \"max\": 0.4818183548566692}}}\u001B[0m\n",
      "\u001B[34m#metrics {\"StartTime\": 1707640228.180562, \"EndTime\": 1707640228.1805751, \"Dimensions\": {\"Algorithm\": \"Linear Learner\", \"Host\": \"algo-1\", \"Operation\": \"training\", \"epoch\": 4, \"model\": 12}, \"Metrics\": {\"validation_binary_classification_cross_entropy_objective\": {\"sum\": 0.4807176461047576, \"count\": 1, \"min\": 0.4807176461047576, \"max\": 0.4807176461047576}}}\u001B[0m\n",
      "\u001B[34m#metrics {\"StartTime\": 1707640228.1806107, \"EndTime\": 1707640228.1806226, \"Dimensions\": {\"Algorithm\": \"Linear Learner\", \"Host\": \"algo-1\", \"Operation\": \"training\", \"epoch\": 4, \"model\": 13}, \"Metrics\": {\"validation_binary_classification_cross_entropy_objective\": {\"sum\": 0.4973095584531877, \"count\": 1, \"min\": 0.4973095584531877, \"max\": 0.4973095584531877}}}\u001B[0m\n",
      "\u001B[34m#metrics {\"StartTime\": 1707640228.180665, \"EndTime\": 1707640228.1806786, \"Dimensions\": {\"Algorithm\": \"Linear Learner\", \"Host\": \"algo-1\", \"Operation\": \"training\", \"epoch\": 4, \"model\": 14}, \"Metrics\": {\"validation_binary_classification_cross_entropy_objective\": {\"sum\": 0.4807176462913421, \"count\": 1, \"min\": 0.4807176462913421, \"max\": 0.4807176462913421}}}\u001B[0m\n",
      "\u001B[34m#metrics {\"StartTime\": 1707640228.180714, \"EndTime\": 1707640228.1807268, \"Dimensions\": {\"Algorithm\": \"Linear Learner\", \"Host\": \"algo-1\", \"Operation\": \"training\", \"epoch\": 4, \"model\": 15}, \"Metrics\": {\"validation_binary_classification_cross_entropy_objective\": {\"sum\": 0.49730954968371505, \"count\": 1, \"min\": 0.49730954968371505, \"max\": 0.49730954968371505}}}\u001B[0m\n",
      "\u001B[34m#metrics {\"StartTime\": 1707640228.1807725, \"EndTime\": 1707640228.1807864, \"Dimensions\": {\"Algorithm\": \"Linear Learner\", \"Host\": \"algo-1\", \"Operation\": \"training\", \"epoch\": 4, \"model\": 16}, \"Metrics\": {\"validation_binary_classification_cross_entropy_objective\": {\"sum\": 0.5041733929516762, \"count\": 1, \"min\": 0.5041733929516762, \"max\": 0.5041733929516762}}}\u001B[0m\n",
      "\u001B[34m#metrics {\"StartTime\": 1707640228.1808271, \"EndTime\": 1707640228.1808403, \"Dimensions\": {\"Algorithm\": \"Linear Learner\", \"Host\": \"algo-1\", \"Operation\": \"training\", \"epoch\": 4, \"model\": 17}, \"Metrics\": {\"validation_binary_classification_cross_entropy_objective\": {\"sum\": 0.5041063540652045, \"count\": 1, \"min\": 0.5041063540652045, \"max\": 0.5041063540652045}}}\u001B[0m\n",
      "\u001B[34m#metrics {\"StartTime\": 1707640228.1808827, \"EndTime\": 1707640228.1808958, \"Dimensions\": {\"Algorithm\": \"Linear Learner\", \"Host\": \"algo-1\", \"Operation\": \"training\", \"epoch\": 4, \"model\": 18}, \"Metrics\": {\"validation_binary_classification_cross_entropy_objective\": {\"sum\": 0.5042179532542299, \"count\": 1, \"min\": 0.5042179532542299, \"max\": 0.5042179532542299}}}\u001B[0m\n",
      "\u001B[34m#metrics {\"StartTime\": 1707640228.1809447, \"EndTime\": 1707640228.180953, \"Dimensions\": {\"Algorithm\": \"Linear Learner\", \"Host\": \"algo-1\", \"Operation\": \"training\", \"epoch\": 4, \"model\": 19}, \"Metrics\": {\"validation_binary_classification_cross_entropy_objective\": {\"sum\": 0.5041062730875212, \"count\": 1, \"min\": 0.5041062730875212, \"max\": 0.5041062730875212}}}\u001B[0m\n",
      "\u001B[34m#metrics {\"StartTime\": 1707640228.1809924, \"EndTime\": 1707640228.1810002, \"Dimensions\": {\"Algorithm\": \"Linear Learner\", \"Host\": \"algo-1\", \"Operation\": \"training\", \"epoch\": 4, \"model\": 20}, \"Metrics\": {\"validation_binary_classification_cross_entropy_objective\": {\"sum\": 0.5042168497933563, \"count\": 1, \"min\": 0.5042168497933563, \"max\": 0.5042168497933563}}}\u001B[0m\n",
      "\u001B[34m#metrics {\"StartTime\": 1707640228.1810622, \"EndTime\": 1707640228.1810741, \"Dimensions\": {\"Algorithm\": \"Linear Learner\", \"Host\": \"algo-1\", \"Operation\": \"training\", \"epoch\": 4, \"model\": 21}, \"Metrics\": {\"validation_binary_classification_cross_entropy_objective\": {\"sum\": 0.50750625266383, \"count\": 1, \"min\": 0.50750625266383, \"max\": 0.50750625266383}}}\u001B[0m\n",
      "\u001B[34m#metrics {\"StartTime\": 1707640228.1811216, \"EndTime\": 1707640228.181135, \"Dimensions\": {\"Algorithm\": \"Linear Learner\", \"Host\": \"algo-1\", \"Operation\": \"training\", \"epoch\": 4, \"model\": 22}, \"Metrics\": {\"validation_binary_classification_cross_entropy_objective\": {\"sum\": 0.5042168455019123, \"count\": 1, \"min\": 0.5042168455019123, \"max\": 0.5042168455019123}}}\u001B[0m\n",
      "\u001B[34m#metrics {\"StartTime\": 1707640228.1811707, \"EndTime\": 1707640228.1811786, \"Dimensions\": {\"Algorithm\": \"Linear Learner\", \"Host\": \"algo-1\", \"Operation\": \"training\", \"epoch\": 4, \"model\": 23}, \"Metrics\": {\"validation_binary_classification_cross_entropy_objective\": {\"sum\": 0.5075062403492514, \"count\": 1, \"min\": 0.5075062403492514, \"max\": 0.5075062403492514}}}\u001B[0m\n",
      "\u001B[34m#metrics {\"StartTime\": 1707640228.1812165, \"EndTime\": 1707640228.1812284, \"Dimensions\": {\"Algorithm\": \"Linear Learner\", \"Host\": \"algo-1\", \"Operation\": \"training\", \"epoch\": 4, \"model\": 24}, \"Metrics\": {\"validation_binary_classification_cross_entropy_objective\": {\"sum\": 0.5137102785730225, \"count\": 1, \"min\": 0.5137102785730225, \"max\": 0.5137102785730225}}}\u001B[0m\n",
      "\u001B[34m#metrics {\"StartTime\": 1707640228.181273, \"EndTime\": 1707640228.1812856, \"Dimensions\": {\"Algorithm\": \"Linear Learner\", \"Host\": \"algo-1\", \"Operation\": \"training\", \"epoch\": 4, \"model\": 25}, \"Metrics\": {\"validation_binary_classification_cross_entropy_objective\": {\"sum\": 0.5142260308490433, \"count\": 1, \"min\": 0.5142260308490433, \"max\": 0.5142260308490433}}}\u001B[0m\n",
      "\u001B[34m#metrics {\"StartTime\": 1707640228.1813283, \"EndTime\": 1707640228.1813366, \"Dimensions\": {\"Algorithm\": \"Linear Learner\", \"Host\": \"algo-1\", \"Operation\": \"training\", \"epoch\": 4, \"model\": 26}, \"Metrics\": {\"validation_binary_classification_cross_entropy_objective\": {\"sum\": 0.5137164351159692, \"count\": 1, \"min\": 0.5137164351159692, \"max\": 0.5137164351159692}}}\u001B[0m\n",
      "\u001B[34m#metrics {\"StartTime\": 1707640228.1813805, \"EndTime\": 1707640228.1813939, \"Dimensions\": {\"Algorithm\": \"Linear Learner\", \"Host\": \"algo-1\", \"Operation\": \"training\", \"epoch\": 4, \"model\": 27}, \"Metrics\": {\"validation_binary_classification_cross_entropy_objective\": {\"sum\": 0.514228300276606, \"count\": 1, \"min\": 0.514228300276606, \"max\": 0.514228300276606}}}\u001B[0m\n",
      "\u001B[34m#metrics {\"StartTime\": 1707640228.1814384, \"EndTime\": 1707640228.1814501, \"Dimensions\": {\"Algorithm\": \"Linear Learner\", \"Host\": \"algo-1\", \"Operation\": \"training\", \"epoch\": 4, \"model\": 28}, \"Metrics\": {\"validation_binary_classification_cross_entropy_objective\": {\"sum\": 0.5137131717526483, \"count\": 1, \"min\": 0.5137131717526483, \"max\": 0.5137131717526483}}}\u001B[0m\n",
      "\u001B[34m#metrics {\"StartTime\": 1707640228.181483, \"EndTime\": 1707640228.181491, \"Dimensions\": {\"Algorithm\": \"Linear Learner\", \"Host\": \"algo-1\", \"Operation\": \"training\", \"epoch\": 4, \"model\": 29}, \"Metrics\": {\"validation_binary_classification_cross_entropy_objective\": {\"sum\": 0.5140307234987761, \"count\": 1, \"min\": 0.5140307234987761, \"max\": 0.5140307234987761}}}\u001B[0m\n",
      "\u001B[34m#metrics {\"StartTime\": 1707640228.1815462, \"EndTime\": 1707640228.1815593, \"Dimensions\": {\"Algorithm\": \"Linear Learner\", \"Host\": \"algo-1\", \"Operation\": \"training\", \"epoch\": 4, \"model\": 30}, \"Metrics\": {\"validation_binary_classification_cross_entropy_objective\": {\"sum\": 0.5137143263376814, \"count\": 1, \"min\": 0.5137143263376814, \"max\": 0.5137143263376814}}}\u001B[0m\n",
      "\u001B[34m#metrics {\"StartTime\": 1707640228.1816068, \"EndTime\": 1707640228.1816187, \"Dimensions\": {\"Algorithm\": \"Linear Learner\", \"Host\": \"algo-1\", \"Operation\": \"training\", \"epoch\": 4, \"model\": 31}, \"Metrics\": {\"validation_binary_classification_cross_entropy_objective\": {\"sum\": 0.5140307248048678, \"count\": 1, \"min\": 0.5140307248048678, \"max\": 0.5140307248048678}}}\u001B[0m\n",
      "\u001B[34m[02/11/2024 08:30:28 INFO 140048136783680] #quality_metric: host=algo-1, epoch=4, validation binary_classification_cross_entropy_objective <loss>=0.48042612215335906\u001B[0m\n",
      "\u001B[34m[02/11/2024 08:30:28 INFO 140048136783680] #early_stopping_criteria_metric: host=algo-1, epoch=4, criteria=binary_classification_cross_entropy_objective, value=0.48042612215335906\u001B[0m\n",
      "\u001B[34m[02/11/2024 08:30:28 INFO 140048136783680] Saving model for epoch: 4\u001B[0m\n",
      "\u001B[34m[02/11/2024 08:30:28 INFO 140048136783680] Saved checkpoint to \"/tmp/tmp7nh9diqa/mx-mod-0000.params\"\u001B[0m\n",
      "\u001B[34m[02/11/2024 08:30:28 INFO 140048136783680] Early stop condition met. Stopping training.\u001B[0m\n",
      "\u001B[34m[02/11/2024 08:30:28 INFO 140048136783680] #progress_metric: host=algo-1, completed 100 % epochs\u001B[0m\n",
      "\u001B[34m#metrics {\"StartTime\": 1707640189.0959985, \"EndTime\": 1707640228.1880572, \"Dimensions\": {\"Algorithm\": \"Linear Learner\", \"Host\": \"algo-1\", \"Operation\": \"training\", \"epoch\": 4, \"Meta\": \"training_data_iter\"}, \"Metrics\": {\"Total Records Seen\": {\"sum\": 6554360.0, \"count\": 1, \"min\": 6554360, \"max\": 6554360}, \"Total Batches Seen\": {\"sum\": 6557.0, \"count\": 1, \"min\": 6557, \"max\": 6557}, \"Max Records Seen Between Resets\": {\"sum\": 1308472.0, \"count\": 1, \"min\": 1308472, \"max\": 1308472}, \"Max Batches Seen Between Resets\": {\"sum\": 1309.0, \"count\": 1, \"min\": 1309, \"max\": 1309}, \"Reset Count\": {\"sum\": 7.0, \"count\": 1, \"min\": 7, \"max\": 7}, \"Number of Records Since Last Reset\": {\"sum\": 1308472.0, \"count\": 1, \"min\": 1308472, \"max\": 1308472}, \"Number of Batches Since Last Reset\": {\"sum\": 1309.0, \"count\": 1, \"min\": 1309, \"max\": 1309}}}\u001B[0m\n",
      "\u001B[34m[02/11/2024 08:30:28 INFO 140048136783680] #throughput_metric: host=algo-1, train throughput=33471.429877299364 records/second\u001B[0m\n",
      "\u001B[34m[02/11/2024 08:30:28 WARNING 140048136783680] wait_for_all_workers will not sync workers since the kv store is not running distributed\u001B[0m\n",
      "\u001B[34m[02/11/2024 08:30:28 WARNING 140048136783680] wait_for_all_workers will not sync workers since the kv store is not running distributed\u001B[0m\n",
      "\n",
      "2024-02-11 08:30:40 Uploading - Uploading generated training model\u001B[34m[2024-02-11 08:30:31.322] [tensorio] [info] epoch_stats={\"data_pipeline\": \"/opt/ml/input/data/validation\", \"epoch\": 17, \"duration\": 3117, \"num_examples\": 164, \"num_bytes\": 63460892}\u001B[0m\n",
      "\u001B[34m[02/11/2024 08:30:31 INFO 140048136783680] #early_stopping_criteria_metric: host=algo-1, epoch=4, criteria=binary_classification_cross_entropy_objective, value=0.48042612215335906\u001B[0m\n",
      "\u001B[34m[2024-02-11 08:30:31.949] [tensorio] [info] epoch_stats={\"data_pipeline\": \"/opt/ml/input/data/validation\", \"epoch\": 19, \"duration\": 616, \"num_examples\": 164, \"num_bytes\": 63460892}\u001B[0m\n",
      "\u001B[34m[02/11/2024 08:30:32 INFO 140048136783680] #validation_score (algo-1) : ('binary_classification_cross_entropy_objective', 0.4808045248968119)\u001B[0m\n",
      "\u001B[34m[02/11/2024 08:30:32 INFO 140048136783680] #validation_score (algo-1) : ('binary_classification_accuracy', 0.792399073117346)\u001B[0m\n",
      "\u001B[34m[02/11/2024 08:30:32 INFO 140048136783680] #validation_score (algo-1) : ('binary_f_1.000', 0.09701353615403026)\u001B[0m\n",
      "\u001B[34m[02/11/2024 08:30:32 INFO 140048136783680] #validation_score (algo-1) : ('precision', 0.5577981651376147)\u001B[0m\n",
      "\u001B[34m[02/11/2024 08:30:32 INFO 140048136783680] #validation_score (algo-1) : ('recall', 0.053126729385722195)\u001B[0m\n",
      "\u001B[34m[02/11/2024 08:30:32 INFO 140048136783680] #validation_score (algo-1) : ('roc_auc_score', 0.6772608018558577)\u001B[0m\n",
      "\u001B[34m[02/11/2024 08:30:32 INFO 140048136783680] #validation_score (algo-1) : ('binary_balanced_accuracy', 0.5)\u001B[0m\n",
      "\u001B[34m[02/11/2024 08:30:32 INFO 140048136783680] #validation_score (algo-1) : ('binary_log_loss', 0.7491858849848326)\u001B[0m\n",
      "\u001B[34m[02/11/2024 08:30:32 INFO 140048136783680] #quality_metric: host=algo-1, validation binary_classification_cross_entropy_objective <loss>=0.4808045248968119\u001B[0m\n",
      "\u001B[34m[02/11/2024 08:30:32 INFO 140048136783680] #quality_metric: host=algo-1, validation binary_classification_accuracy <score>=0.792399073117346\u001B[0m\n",
      "\u001B[34m[02/11/2024 08:30:32 INFO 140048136783680] #quality_metric: host=algo-1, validation binary_f_1.000 <score>=0.09701353615403026\u001B[0m\n",
      "\u001B[34m[02/11/2024 08:30:32 INFO 140048136783680] #quality_metric: host=algo-1, validation precision <score>=0.5577981651376147\u001B[0m\n",
      "\u001B[34m[02/11/2024 08:30:32 INFO 140048136783680] #quality_metric: host=algo-1, validation recall <score>=0.053126729385722195\u001B[0m\n",
      "\u001B[34m[02/11/2024 08:30:32 INFO 140048136783680] #quality_metric: host=algo-1, validation roc_auc_score <score>=0.6772608018558577\u001B[0m\n",
      "\u001B[34m[02/11/2024 08:30:32 INFO 140048136783680] #quality_metric: host=algo-1, validation binary_balanced_accuracy <score>=0.5\u001B[0m\n",
      "\u001B[34m[02/11/2024 08:30:32 INFO 140048136783680] #quality_metric: host=algo-1, validation binary_log_loss <score>=0.7491858849848326\u001B[0m\n",
      "\u001B[34m[02/11/2024 08:30:32 INFO 140048136783680] Best model found for hyperparameters: {\"optimizer\": \"adam\", \"learning_rate\": 0.005, \"wd\": 0.0001, \"l1\": 0.0, \"lr_scheduler_step\": 10, \"lr_scheduler_factor\": 0.99, \"lr_scheduler_minimum_lr\": 0.0001}\u001B[0m\n",
      "\u001B[34m[02/11/2024 08:30:32 INFO 140048136783680] Saved checkpoint to \"/tmp/tmpbk2ym4h5/mx-mod-0000.params\"\u001B[0m\n",
      "\u001B[34m[2024-02-11 08:30:32.260] [tensorio] [info] epoch_stats={\"data_pipeline\": \"/opt/ml/input/data/test\", \"epoch\": 0, \"duration\": 196512, \"num_examples\": 1, \"num_bytes\": 388000}\u001B[0m\n",
      "\u001B[34m[2024-02-11 08:30:32.885] [tensorio] [info] epoch_stats={\"data_pipeline\": \"/opt/ml/input/data/test\", \"epoch\": 1, \"duration\": 625, \"num_examples\": 164, \"num_bytes\": 63460892}\u001B[0m\n",
      "\u001B[34m#metrics {\"StartTime\": 1707640232.2564063, \"EndTime\": 1707640233.1869712, \"Dimensions\": {\"Algorithm\": \"Linear Learner\", \"Host\": \"algo-1\", \"Operation\": \"training\", \"Meta\": \"test_data_iter\"}, \"Metrics\": {\"Total Records Seen\": {\"sum\": 163559.0, \"count\": 1, \"min\": 163559, \"max\": 163559}, \"Total Batches Seen\": {\"sum\": 164.0, \"count\": 1, \"min\": 164, \"max\": 164}, \"Max Records Seen Between Resets\": {\"sum\": 163559.0, \"count\": 1, \"min\": 163559, \"max\": 163559}, \"Max Batches Seen Between Resets\": {\"sum\": 164.0, \"count\": 1, \"min\": 164, \"max\": 164}, \"Reset Count\": {\"sum\": 1.0, \"count\": 1, \"min\": 1, \"max\": 1}, \"Number of Records Since Last Reset\": {\"sum\": 163559.0, \"count\": 1, \"min\": 163559, \"max\": 163559}, \"Number of Batches Since Last Reset\": {\"sum\": 164.0, \"count\": 1, \"min\": 164, \"max\": 164}}}\u001B[0m\n",
      "\u001B[34m[02/11/2024 08:30:33 INFO 140048136783680] #test_score (algo-1) : ('binary_classification_cross_entropy_objective', 0.48196192119898484)\u001B[0m\n",
      "\u001B[34m[02/11/2024 08:30:33 INFO 140048136783680] #test_score (algo-1) : ('binary_classification_accuracy', 0.7924663271357736)\u001B[0m\n",
      "\u001B[34m[02/11/2024 08:30:33 INFO 140048136783680] #test_score (algo-1) : ('binary_f_1.000', 0.0994853292301162)\u001B[0m\n",
      "\u001B[34m[02/11/2024 08:30:33 INFO 140048136783680] #test_score (algo-1) : ('precision', 0.5578696816423684)\u001B[0m\n",
      "\u001B[34m[02/11/2024 08:30:33 INFO 140048136783680] #test_score (algo-1) : ('recall', 0.054612180700783504)\u001B[0m\n",
      "\u001B[34m[02/11/2024 08:30:33 INFO 140048136783680] #test_score (algo-1) : ('roc_auc_score', 0.6734791976187718)\u001B[0m\n",
      "\u001B[34m[02/11/2024 08:30:33 INFO 140048136783680] #test_score (algo-1) : ('binary_balanced_accuracy', 0.5)\u001B[0m\n",
      "\u001B[34m[02/11/2024 08:30:33 INFO 140048136783680] #test_score (algo-1) : ('binary_log_loss', 0.7493691685281036)\u001B[0m\n",
      "\u001B[34m[02/11/2024 08:30:33 INFO 140048136783680] #quality_metric: host=algo-1, test binary_classification_cross_entropy_objective <loss>=0.48196192119898484\u001B[0m\n",
      "\u001B[34m[02/11/2024 08:30:33 INFO 140048136783680] #quality_metric: host=algo-1, test binary_classification_accuracy <score>=0.7924663271357736\u001B[0m\n",
      "\u001B[34m[02/11/2024 08:30:33 INFO 140048136783680] #quality_metric: host=algo-1, test binary_f_1.000 <score>=0.0994853292301162\u001B[0m\n",
      "\u001B[34m[02/11/2024 08:30:33 INFO 140048136783680] #quality_metric: host=algo-1, test precision <score>=0.5578696816423684\u001B[0m\n",
      "\u001B[34m[02/11/2024 08:30:33 INFO 140048136783680] #quality_metric: host=algo-1, test recall <score>=0.054612180700783504\u001B[0m\n",
      "\u001B[34m[02/11/2024 08:30:33 INFO 140048136783680] #quality_metric: host=algo-1, test roc_auc_score <score>=0.6734791976187718\u001B[0m\n",
      "\u001B[34m[02/11/2024 08:30:33 INFO 140048136783680] #quality_metric: host=algo-1, test binary_balanced_accuracy <score>=0.5\u001B[0m\n",
      "\u001B[34m[02/11/2024 08:30:33 INFO 140048136783680] #quality_metric: host=algo-1, test binary_log_loss <score>=0.7493691685281036\u001B[0m\n",
      "\u001B[34m#metrics {\"StartTime\": 1707640035.7379804, \"EndTime\": 1707640233.194655, \"Dimensions\": {\"Algorithm\": \"Linear Learner\", \"Host\": \"algo-1\", \"Operation\": \"training\"}, \"Metrics\": {\"initialize.time\": {\"sum\": 277.3909568786621, \"count\": 1, \"min\": 277.3909568786621, \"max\": 277.3909568786621}, \"epochs\": {\"sum\": 15.0, \"count\": 1, \"min\": 15, \"max\": 15}, \"check_early_stopping.time\": {\"sum\": 2.447366714477539, \"count\": 6, \"min\": 0.19359588623046875, \"max\": 1.2128353118896484}, \"update.time\": {\"sum\": 192114.2554283142, \"count\": 5, \"min\": 37654.32906150818, \"max\": 39089.23053741455}, \"finalize.time\": {\"sum\": 4065.176486968994, \"count\": 1, \"min\": 4065.176486968994, \"max\": 4065.176486968994}, \"setuptime\": {\"sum\": 2.5115013122558594, \"count\": 1, \"min\": 2.5115013122558594, \"max\": 2.5115013122558594}, \"totaltime\": {\"sum\": 197590.97504615784, \"count\": 1, \"min\": 197590.97504615784, \"max\": 197590.97504615784}}}\u001B[0m\n",
      "\n",
      "2024-02-11 08:30:51 Completed - Training job completed\n",
      "Training seconds: 353\n",
      "Billable seconds: 353\n"
     ]
    }
   ],
   "source": [
    "classifier_estimator2.fit([train_records, val_records, test_records])"
   ]
  },
  {
   "cell_type": "markdown",
   "metadata": {},
   "source": [
    "Perform a batch prediction by using the newly trained model.\n",
    "\n",
    "\n",
    "codigo"
   ]
  },
  {
   "cell_type": "code",
   "execution_count": 82,
   "metadata": {
    "tags": []
   },
   "outputs": [
    {
     "name": "stderr",
     "output_type": "stream",
     "text": [
      "INFO:sagemaker.image_uris:Same images used for training and inference. Defaulting to image scope: inference.\n",
      "INFO:sagemaker.image_uris:Ignoring unnecessary instance type: None.\n",
      "INFO:sagemaker:Creating model with name: linear-learner-2024-02-11-08-32-20-776\n",
      "INFO:sagemaker:Creating transform job with name: linear-learner-2024-02-11-08-32-21-486\n"
     ]
    },
    {
     "name": "stdout",
     "output_type": "stream",
     "text": [
      "............................................\u001B[34mDocker entrypoint called with argument(s): serve\u001B[0m\n",
      "\u001B[34mRunning default environment configuration script\u001B[0m\n",
      "\u001B[34m[02/11/2024 08:39:35 INFO 139738208454464] Memory profiler is not enabled by the environment variable ENABLE_PROFILER.\u001B[0m\n",
      "\u001B[34m/opt/amazon/lib/python3.8/site-packages/mxnet/model.py:97: SyntaxWarning: \"is\" with a literal. Did you mean \"==\"?\n",
      "  if num_device is 1 and 'dist' not in kvstore:\u001B[0m\n",
      "\u001B[34m/opt/amazon/lib/python3.8/site-packages/scipy/optimize/_shgo.py:495: SyntaxWarning: \"is\" with a literal. Did you mean \"==\"?\n",
      "  if cons['type'] is 'ineq':\u001B[0m\n",
      "\u001B[34m/opt/amazon/lib/python3.8/site-packages/scipy/optimize/_shgo.py:743: SyntaxWarning: \"is not\" with a literal. Did you mean \"!=\"?\n",
      "  if len(self.X_min) is not 0:\u001B[0m\n",
      "\u001B[35mDocker entrypoint called with argument(s): serve\u001B[0m\n",
      "\u001B[35mRunning default environment configuration script\u001B[0m\n",
      "\u001B[35m[02/11/2024 08:39:35 INFO 139738208454464] Memory profiler is not enabled by the environment variable ENABLE_PROFILER.\u001B[0m\n",
      "\u001B[35m/opt/amazon/lib/python3.8/site-packages/mxnet/model.py:97: SyntaxWarning: \"is\" with a literal. Did you mean \"==\"?\n",
      "  if num_device is 1 and 'dist' not in kvstore:\u001B[0m\n",
      "\u001B[35m/opt/amazon/lib/python3.8/site-packages/scipy/optimize/_shgo.py:495: SyntaxWarning: \"is\" with a literal. Did you mean \"==\"?\n",
      "  if cons['type'] is 'ineq':\u001B[0m\n",
      "\u001B[35m/opt/amazon/lib/python3.8/site-packages/scipy/optimize/_shgo.py:743: SyntaxWarning: \"is not\" with a literal. Did you mean \"!=\"?\n",
      "  if len(self.X_min) is not 0:\u001B[0m\n",
      "\u001B[34m[02/11/2024 08:39:40 WARNING 139738208454464] Loggers have already been setup.\u001B[0m\n",
      "\u001B[34m[02/11/2024 08:39:40 INFO 139738208454464] loaded entry point class algorithm.serve.server_config:config_api\u001B[0m\n",
      "\u001B[34m[02/11/2024 08:39:40 INFO 139738208454464] loading entry points\u001B[0m\n",
      "\u001B[35m[02/11/2024 08:39:40 WARNING 139738208454464] Loggers have already been setup.\u001B[0m\n",
      "\u001B[35m[02/11/2024 08:39:40 INFO 139738208454464] loaded entry point class algorithm.serve.server_config:config_api\u001B[0m\n",
      "\u001B[35m[02/11/2024 08:39:40 INFO 139738208454464] loading entry points\u001B[0m\n",
      "\u001B[34m[02/11/2024 08:39:40 INFO 139738208454464] loaded request iterator application/json\u001B[0m\n",
      "\u001B[34m[02/11/2024 08:39:40 INFO 139738208454464] loaded request iterator application/jsonlines\u001B[0m\n",
      "\u001B[34m[02/11/2024 08:39:40 INFO 139738208454464] loaded request iterator application/x-recordio-protobuf\u001B[0m\n",
      "\u001B[34m[02/11/2024 08:39:40 INFO 139738208454464] loaded request iterator text/csv\u001B[0m\n",
      "\u001B[34m[02/11/2024 08:39:40 INFO 139738208454464] loaded response encoder application/json\u001B[0m\n",
      "\u001B[34m[02/11/2024 08:39:40 INFO 139738208454464] loaded response encoder application/jsonlines\u001B[0m\n",
      "\u001B[34m[02/11/2024 08:39:40 INFO 139738208454464] loaded response encoder application/x-recordio-protobuf\u001B[0m\n",
      "\u001B[34m[02/11/2024 08:39:40 INFO 139738208454464] loaded response encoder text/csv\u001B[0m\n",
      "\u001B[34m[02/11/2024 08:39:40 INFO 139738208454464] loaded entry point class algorithm:model\u001B[0m\n",
      "\u001B[34m[02/11/2024 08:39:40 INFO 139738208454464] Number of server workers: 4\u001B[0m\n",
      "\u001B[34m[02/11/2024 08:39:40 INFO 139738208454464] loading model...\u001B[0m\n",
      "\u001B[34m[02/11/2024 08:39:40 INFO 139738208454464] ...model loaded.\u001B[0m\n",
      "\u001B[34m[2024-02-11 08:39:40 +0000] [1] [INFO] Starting gunicorn 20.1.0\u001B[0m\n",
      "\u001B[34m[2024-02-11 08:39:40 +0000] [1] [INFO] Listening at: http://0.0.0.0:8080 (1)\u001B[0m\n",
      "\u001B[34m[2024-02-11 08:39:40 +0000] [1] [INFO] Using worker: sync\u001B[0m\n",
      "\u001B[34m[2024-02-11 08:39:40 +0000] [43] [INFO] Booting worker with pid: 43\u001B[0m\n",
      "\u001B[34m[2024-02-11 08:39:40 +0000] [52] [INFO] Booting worker with pid: 52\u001B[0m\n",
      "\u001B[34m[2024-02-11 08:39:40 +0000] [61] [INFO] Booting worker with pid: 61\u001B[0m\n",
      "\u001B[34m[2024-02-11 08:39:40 +0000] [70] [INFO] Booting worker with pid: 70\u001B[0m\n",
      "\u001B[34m#metrics {\"StartTime\": 1707640780.5271814, \"EndTime\": 1707640781.049182, \"Dimensions\": {\"Algorithm\": \"LinearLearnerModel\", \"Host\": \"UNKNOWN\", \"Operation\": \"scoring\"}, \"Metrics\": {\"execution_parameters.count\": {\"sum\": 1.0, \"count\": 1, \"min\": 1, \"max\": 1}}}\u001B[0m\n",
      "\u001B[35m[02/11/2024 08:39:40 INFO 139738208454464] loaded request iterator application/json\u001B[0m\n",
      "\u001B[35m[02/11/2024 08:39:40 INFO 139738208454464] loaded request iterator application/jsonlines\u001B[0m\n",
      "\u001B[35m[02/11/2024 08:39:40 INFO 139738208454464] loaded request iterator application/x-recordio-protobuf\u001B[0m\n",
      "\u001B[35m[02/11/2024 08:39:40 INFO 139738208454464] loaded request iterator text/csv\u001B[0m\n",
      "\u001B[35m[02/11/2024 08:39:40 INFO 139738208454464] loaded response encoder application/json\u001B[0m\n",
      "\u001B[35m[02/11/2024 08:39:40 INFO 139738208454464] loaded response encoder application/jsonlines\u001B[0m\n",
      "\u001B[35m[02/11/2024 08:39:40 INFO 139738208454464] loaded response encoder application/x-recordio-protobuf\u001B[0m\n",
      "\u001B[35m[02/11/2024 08:39:40 INFO 139738208454464] loaded response encoder text/csv\u001B[0m\n",
      "\u001B[35m[02/11/2024 08:39:40 INFO 139738208454464] loaded entry point class algorithm:model\u001B[0m\n",
      "\u001B[35m[02/11/2024 08:39:40 INFO 139738208454464] Number of server workers: 4\u001B[0m\n",
      "\u001B[35m[02/11/2024 08:39:40 INFO 139738208454464] loading model...\u001B[0m\n",
      "\u001B[35m[02/11/2024 08:39:40 INFO 139738208454464] ...model loaded.\u001B[0m\n",
      "\u001B[35m[2024-02-11 08:39:40 +0000] [1] [INFO] Starting gunicorn 20.1.0\u001B[0m\n",
      "\u001B[35m[2024-02-11 08:39:40 +0000] [1] [INFO] Listening at: http://0.0.0.0:8080 (1)\u001B[0m\n",
      "\u001B[35m[2024-02-11 08:39:40 +0000] [1] [INFO] Using worker: sync\u001B[0m\n",
      "\u001B[35m[2024-02-11 08:39:40 +0000] [43] [INFO] Booting worker with pid: 43\u001B[0m\n",
      "\u001B[35m[2024-02-11 08:39:40 +0000] [52] [INFO] Booting worker with pid: 52\u001B[0m\n",
      "\u001B[35m[2024-02-11 08:39:40 +0000] [61] [INFO] Booting worker with pid: 61\u001B[0m\n",
      "\u001B[35m[2024-02-11 08:39:40 +0000] [70] [INFO] Booting worker with pid: 70\u001B[0m\n",
      "\u001B[35m#metrics {\"StartTime\": 1707640780.5271814, \"EndTime\": 1707640781.049182, \"Dimensions\": {\"Algorithm\": \"LinearLearnerModel\", \"Host\": \"UNKNOWN\", \"Operation\": \"scoring\"}, \"Metrics\": {\"execution_parameters.count\": {\"sum\": 1.0, \"count\": 1, \"min\": 1, \"max\": 1}}}\u001B[0m\n",
      "\u001B[34m#metrics {\"StartTime\": 1707640780.5271814, \"EndTime\": 1707640783.8760211, \"Dimensions\": {\"Algorithm\": \"LinearLearnerModel\", \"Host\": \"UNKNOWN\", \"Operation\": \"scoring\"}, \"Metrics\": {\"json.encoder.time\": {\"sum\": 165.92907905578613, \"count\": 1, \"min\": 165.92907905578613, \"max\": 165.92907905578613}, \"invocations.count\": {\"sum\": 1.0, \"count\": 1, \"min\": 1, \"max\": 1}}}\u001B[0m\n",
      "\u001B[34m#metrics {\"StartTime\": 1707640781.0493395, \"EndTime\": 1707640783.9588144, \"Dimensions\": {\"Algorithm\": \"LinearLearnerModel\", \"Host\": \"UNKNOWN\", \"Operation\": \"scoring\"}, \"Metrics\": {\"json.encoder.time\": {\"sum\": 155.04193305969238, \"count\": 1, \"min\": 155.04193305969238, \"max\": 155.04193305969238}, \"invocations.count\": {\"sum\": 1.0, \"count\": 1, \"min\": 1, \"max\": 1}}}\u001B[0m\n",
      "\u001B[34m#metrics {\"StartTime\": 1707640780.5271814, \"EndTime\": 1707640784.1310802, \"Dimensions\": {\"Algorithm\": \"LinearLearnerModel\", \"Host\": \"UNKNOWN\", \"Operation\": \"scoring\"}, \"Metrics\": {\"json.encoder.time\": {\"sum\": 154.8619270324707, \"count\": 1, \"min\": 154.8619270324707, \"max\": 154.8619270324707}, \"invocations.count\": {\"sum\": 1.0, \"count\": 1, \"min\": 1, \"max\": 1}}}\u001B[0m\n",
      "\u001B[34m#metrics {\"StartTime\": 1707640780.5271814, \"EndTime\": 1707640784.136156, \"Dimensions\": {\"Algorithm\": \"LinearLearnerModel\", \"Host\": \"UNKNOWN\", \"Operation\": \"scoring\"}, \"Metrics\": {\"json.encoder.time\": {\"sum\": 156.34512901306152, \"count\": 1, \"min\": 156.34512901306152, \"max\": 156.34512901306152}, \"invocations.count\": {\"sum\": 1.0, \"count\": 1, \"min\": 1, \"max\": 1}}}\u001B[0m\n",
      "\u001B[35m#metrics {\"StartTime\": 1707640780.5271814, \"EndTime\": 1707640783.8760211, \"Dimensions\": {\"Algorithm\": \"LinearLearnerModel\", \"Host\": \"UNKNOWN\", \"Operation\": \"scoring\"}, \"Metrics\": {\"json.encoder.time\": {\"sum\": 165.92907905578613, \"count\": 1, \"min\": 165.92907905578613, \"max\": 165.92907905578613}, \"invocations.count\": {\"sum\": 1.0, \"count\": 1, \"min\": 1, \"max\": 1}}}\u001B[0m\n",
      "\u001B[35m#metrics {\"StartTime\": 1707640781.0493395, \"EndTime\": 1707640783.9588144, \"Dimensions\": {\"Algorithm\": \"LinearLearnerModel\", \"Host\": \"UNKNOWN\", \"Operation\": \"scoring\"}, \"Metrics\": {\"json.encoder.time\": {\"sum\": 155.04193305969238, \"count\": 1, \"min\": 155.04193305969238, \"max\": 155.04193305969238}, \"invocations.count\": {\"sum\": 1.0, \"count\": 1, \"min\": 1, \"max\": 1}}}\u001B[0m\n",
      "\u001B[35m#metrics {\"StartTime\": 1707640780.5271814, \"EndTime\": 1707640784.1310802, \"Dimensions\": {\"Algorithm\": \"LinearLearnerModel\", \"Host\": \"UNKNOWN\", \"Operation\": \"scoring\"}, \"Metrics\": {\"json.encoder.time\": {\"sum\": 154.8619270324707, \"count\": 1, \"min\": 154.8619270324707, \"max\": 154.8619270324707}, \"invocations.count\": {\"sum\": 1.0, \"count\": 1, \"min\": 1, \"max\": 1}}}\u001B[0m\n",
      "\u001B[35m#metrics {\"StartTime\": 1707640780.5271814, \"EndTime\": 1707640784.136156, \"Dimensions\": {\"Algorithm\": \"LinearLearnerModel\", \"Host\": \"UNKNOWN\", \"Operation\": \"scoring\"}, \"Metrics\": {\"json.encoder.time\": {\"sum\": 156.34512901306152, \"count\": 1, \"min\": 156.34512901306152, \"max\": 156.34512901306152}, \"invocations.count\": {\"sum\": 1.0, \"count\": 1, \"min\": 1, \"max\": 1}}}\u001B[0m\n",
      "\u001B[32m2024-02-11T08:39:41.055:[sagemaker logs]: MaxConcurrentTransforms=4, MaxPayloadInMB=6, BatchStrategy=MULTI_RECORD\u001B[0m\n",
      "\u001B[34m#metrics {\"StartTime\": 1707640783.876803, \"EndTime\": 1707640784.948951, \"Dimensions\": {\"Algorithm\": \"LinearLearnerModel\", \"Host\": \"UNKNOWN\", \"Operation\": \"scoring\"}, \"Metrics\": {\"json.encoder.time\": {\"sum\": 72.46017456054688, \"count\": 1, \"min\": 72.46017456054688, \"max\": 72.46017456054688}, \"invocations.count\": {\"sum\": 1.0, \"count\": 1, \"min\": 1, \"max\": 1}}}\u001B[0m\n",
      "\u001B[35m#metrics {\"StartTime\": 1707640783.876803, \"EndTime\": 1707640784.948951, \"Dimensions\": {\"Algorithm\": \"LinearLearnerModel\", \"Host\": \"UNKNOWN\", \"Operation\": \"scoring\"}, \"Metrics\": {\"json.encoder.time\": {\"sum\": 72.46017456054688, \"count\": 1, \"min\": 72.46017456054688, \"max\": 72.46017456054688}, \"invocations.count\": {\"sum\": 1.0, \"count\": 1, \"min\": 1, \"max\": 1}}}\u001B[0m\n",
      "\n",
      "\u001B[34mDocker entrypoint called with argument(s): serve\u001B[0m\n",
      "\u001B[34mRunning default environment configuration script\u001B[0m\n",
      "\u001B[34m[02/11/2024 08:39:35 INFO 139738208454464] Memory profiler is not enabled by the environment variable ENABLE_PROFILER.\u001B[0m\n",
      "\u001B[34m/opt/amazon/lib/python3.8/site-packages/mxnet/model.py:97: SyntaxWarning: \"is\" with a literal. Did you mean \"==\"?\n",
      "  if num_device is 1 and 'dist' not in kvstore:\u001B[0m\n",
      "\u001B[34m/opt/amazon/lib/python3.8/site-packages/scipy/optimize/_shgo.py:495: SyntaxWarning: \"is\" with a literal. Did you mean \"==\"?\n",
      "  if cons['type'] is 'ineq':\u001B[0m\n",
      "\u001B[34m/opt/amazon/lib/python3.8/site-packages/scipy/optimize/_shgo.py:743: SyntaxWarning: \"is not\" with a literal. Did you mean \"!=\"?\n",
      "  if len(self.X_min) is not 0:\u001B[0m\n",
      "\u001B[35mDocker entrypoint called with argument(s): serve\u001B[0m\n",
      "\u001B[35mRunning default environment configuration script\u001B[0m\n",
      "\u001B[35m[02/11/2024 08:39:35 INFO 139738208454464] Memory profiler is not enabled by the environment variable ENABLE_PROFILER.\u001B[0m\n",
      "\u001B[35m/opt/amazon/lib/python3.8/site-packages/mxnet/model.py:97: SyntaxWarning: \"is\" with a literal. Did you mean \"==\"?\n",
      "  if num_device is 1 and 'dist' not in kvstore:\u001B[0m\n",
      "\u001B[35m/opt/amazon/lib/python3.8/site-packages/scipy/optimize/_shgo.py:495: SyntaxWarning: \"is\" with a literal. Did you mean \"==\"?\n",
      "  if cons['type'] is 'ineq':\u001B[0m\n",
      "\u001B[35m/opt/amazon/lib/python3.8/site-packages/scipy/optimize/_shgo.py:743: SyntaxWarning: \"is not\" with a literal. Did you mean \"!=\"?\n",
      "  if len(self.X_min) is not 0:\u001B[0m\n",
      "\u001B[34m[02/11/2024 08:39:40 WARNING 139738208454464] Loggers have already been setup.\u001B[0m\n",
      "\u001B[34m[02/11/2024 08:39:40 INFO 139738208454464] loaded entry point class algorithm.serve.server_config:config_api\u001B[0m\n",
      "\u001B[34m[02/11/2024 08:39:40 INFO 139738208454464] loading entry points\u001B[0m\n",
      "\u001B[35m[02/11/2024 08:39:40 WARNING 139738208454464] Loggers have already been setup.\u001B[0m\n",
      "\u001B[35m[02/11/2024 08:39:40 INFO 139738208454464] loaded entry point class algorithm.serve.server_config:config_api\u001B[0m\n",
      "\u001B[35m[02/11/2024 08:39:40 INFO 139738208454464] loading entry points\u001B[0m\n",
      "\u001B[34m[02/11/2024 08:39:40 INFO 139738208454464] loaded request iterator application/json\u001B[0m\n",
      "\u001B[34m[02/11/2024 08:39:40 INFO 139738208454464] loaded request iterator application/jsonlines\u001B[0m\n",
      "\u001B[34m[02/11/2024 08:39:40 INFO 139738208454464] loaded request iterator application/x-recordio-protobuf\u001B[0m\n",
      "\u001B[34m[02/11/2024 08:39:40 INFO 139738208454464] loaded request iterator text/csv\u001B[0m\n",
      "\u001B[34m[02/11/2024 08:39:40 INFO 139738208454464] loaded response encoder application/json\u001B[0m\n",
      "\u001B[34m[02/11/2024 08:39:40 INFO 139738208454464] loaded response encoder application/jsonlines\u001B[0m\n",
      "\u001B[34m[02/11/2024 08:39:40 INFO 139738208454464] loaded response encoder application/x-recordio-protobuf\u001B[0m\n",
      "\u001B[34m[02/11/2024 08:39:40 INFO 139738208454464] loaded response encoder text/csv\u001B[0m\n",
      "\u001B[34m[02/11/2024 08:39:40 INFO 139738208454464] loaded entry point class algorithm:model\u001B[0m\n",
      "\u001B[34m[02/11/2024 08:39:40 INFO 139738208454464] Number of server workers: 4\u001B[0m\n",
      "\u001B[34m[02/11/2024 08:39:40 INFO 139738208454464] loading model...\u001B[0m\n",
      "\u001B[34m[02/11/2024 08:39:40 INFO 139738208454464] ...model loaded.\u001B[0m\n",
      "\u001B[34m[2024-02-11 08:39:40 +0000] [1] [INFO] Starting gunicorn 20.1.0\u001B[0m\n",
      "\u001B[34m[2024-02-11 08:39:40 +0000] [1] [INFO] Listening at: http://0.0.0.0:8080 (1)\u001B[0m\n",
      "\u001B[34m[2024-02-11 08:39:40 +0000] [1] [INFO] Using worker: sync\u001B[0m\n",
      "\u001B[34m[2024-02-11 08:39:40 +0000] [43] [INFO] Booting worker with pid: 43\u001B[0m\n",
      "\u001B[34m[2024-02-11 08:39:40 +0000] [52] [INFO] Booting worker with pid: 52\u001B[0m\n",
      "\u001B[34m[2024-02-11 08:39:40 +0000] [61] [INFO] Booting worker with pid: 61\u001B[0m\n",
      "\u001B[34m[2024-02-11 08:39:40 +0000] [70] [INFO] Booting worker with pid: 70\u001B[0m\n",
      "\u001B[34m#metrics {\"StartTime\": 1707640780.5271814, \"EndTime\": 1707640781.049182, \"Dimensions\": {\"Algorithm\": \"LinearLearnerModel\", \"Host\": \"UNKNOWN\", \"Operation\": \"scoring\"}, \"Metrics\": {\"execution_parameters.count\": {\"sum\": 1.0, \"count\": 1, \"min\": 1, \"max\": 1}}}\u001B[0m\n",
      "\u001B[35m[02/11/2024 08:39:40 INFO 139738208454464] loaded request iterator application/json\u001B[0m\n",
      "\u001B[35m[02/11/2024 08:39:40 INFO 139738208454464] loaded request iterator application/jsonlines\u001B[0m\n",
      "\u001B[35m[02/11/2024 08:39:40 INFO 139738208454464] loaded request iterator application/x-recordio-protobuf\u001B[0m\n",
      "\u001B[35m[02/11/2024 08:39:40 INFO 139738208454464] loaded request iterator text/csv\u001B[0m\n",
      "\u001B[35m[02/11/2024 08:39:40 INFO 139738208454464] loaded response encoder application/json\u001B[0m\n",
      "\u001B[35m[02/11/2024 08:39:40 INFO 139738208454464] loaded response encoder application/jsonlines\u001B[0m\n",
      "\u001B[35m[02/11/2024 08:39:40 INFO 139738208454464] loaded response encoder application/x-recordio-protobuf\u001B[0m\n",
      "\u001B[35m[02/11/2024 08:39:40 INFO 139738208454464] loaded response encoder text/csv\u001B[0m\n",
      "\u001B[35m[02/11/2024 08:39:40 INFO 139738208454464] loaded entry point class algorithm:model\u001B[0m\n",
      "\u001B[35m[02/11/2024 08:39:40 INFO 139738208454464] Number of server workers: 4\u001B[0m\n",
      "\u001B[35m[02/11/2024 08:39:40 INFO 139738208454464] loading model...\u001B[0m\n",
      "\u001B[35m[02/11/2024 08:39:40 INFO 139738208454464] ...model loaded.\u001B[0m\n",
      "\u001B[35m[2024-02-11 08:39:40 +0000] [1] [INFO] Starting gunicorn 20.1.0\u001B[0m\n",
      "\u001B[35m[2024-02-11 08:39:40 +0000] [1] [INFO] Listening at: http://0.0.0.0:8080 (1)\u001B[0m\n",
      "\u001B[35m[2024-02-11 08:39:40 +0000] [1] [INFO] Using worker: sync\u001B[0m\n",
      "\u001B[35m[2024-02-11 08:39:40 +0000] [43] [INFO] Booting worker with pid: 43\u001B[0m\n",
      "\u001B[35m[2024-02-11 08:39:40 +0000] [52] [INFO] Booting worker with pid: 52\u001B[0m\n",
      "\u001B[35m[2024-02-11 08:39:40 +0000] [61] [INFO] Booting worker with pid: 61\u001B[0m\n",
      "\u001B[35m[2024-02-11 08:39:40 +0000] [70] [INFO] Booting worker with pid: 70\u001B[0m\n",
      "\u001B[35m#metrics {\"StartTime\": 1707640780.5271814, \"EndTime\": 1707640781.049182, \"Dimensions\": {\"Algorithm\": \"LinearLearnerModel\", \"Host\": \"UNKNOWN\", \"Operation\": \"scoring\"}, \"Metrics\": {\"execution_parameters.count\": {\"sum\": 1.0, \"count\": 1, \"min\": 1, \"max\": 1}}}\u001B[0m\n",
      "\u001B[34m#metrics {\"StartTime\": 1707640780.5271814, \"EndTime\": 1707640783.8760211, \"Dimensions\": {\"Algorithm\": \"LinearLearnerModel\", \"Host\": \"UNKNOWN\", \"Operation\": \"scoring\"}, \"Metrics\": {\"json.encoder.time\": {\"sum\": 165.92907905578613, \"count\": 1, \"min\": 165.92907905578613, \"max\": 165.92907905578613}, \"invocations.count\": {\"sum\": 1.0, \"count\": 1, \"min\": 1, \"max\": 1}}}\u001B[0m\n",
      "\u001B[34m#metrics {\"StartTime\": 1707640781.0493395, \"EndTime\": 1707640783.9588144, \"Dimensions\": {\"Algorithm\": \"LinearLearnerModel\", \"Host\": \"UNKNOWN\", \"Operation\": \"scoring\"}, \"Metrics\": {\"json.encoder.time\": {\"sum\": 155.04193305969238, \"count\": 1, \"min\": 155.04193305969238, \"max\": 155.04193305969238}, \"invocations.count\": {\"sum\": 1.0, \"count\": 1, \"min\": 1, \"max\": 1}}}\u001B[0m\n",
      "\u001B[34m#metrics {\"StartTime\": 1707640780.5271814, \"EndTime\": 1707640784.1310802, \"Dimensions\": {\"Algorithm\": \"LinearLearnerModel\", \"Host\": \"UNKNOWN\", \"Operation\": \"scoring\"}, \"Metrics\": {\"json.encoder.time\": {\"sum\": 154.8619270324707, \"count\": 1, \"min\": 154.8619270324707, \"max\": 154.8619270324707}, \"invocations.count\": {\"sum\": 1.0, \"count\": 1, \"min\": 1, \"max\": 1}}}\u001B[0m\n",
      "\u001B[34m#metrics {\"StartTime\": 1707640780.5271814, \"EndTime\": 1707640784.136156, \"Dimensions\": {\"Algorithm\": \"LinearLearnerModel\", \"Host\": \"UNKNOWN\", \"Operation\": \"scoring\"}, \"Metrics\": {\"json.encoder.time\": {\"sum\": 156.34512901306152, \"count\": 1, \"min\": 156.34512901306152, \"max\": 156.34512901306152}, \"invocations.count\": {\"sum\": 1.0, \"count\": 1, \"min\": 1, \"max\": 1}}}\u001B[0m\n",
      "\u001B[35m#metrics {\"StartTime\": 1707640780.5271814, \"EndTime\": 1707640783.8760211, \"Dimensions\": {\"Algorithm\": \"LinearLearnerModel\", \"Host\": \"UNKNOWN\", \"Operation\": \"scoring\"}, \"Metrics\": {\"json.encoder.time\": {\"sum\": 165.92907905578613, \"count\": 1, \"min\": 165.92907905578613, \"max\": 165.92907905578613}, \"invocations.count\": {\"sum\": 1.0, \"count\": 1, \"min\": 1, \"max\": 1}}}\u001B[0m\n",
      "\u001B[35m#metrics {\"StartTime\": 1707640781.0493395, \"EndTime\": 1707640783.9588144, \"Dimensions\": {\"Algorithm\": \"LinearLearnerModel\", \"Host\": \"UNKNOWN\", \"Operation\": \"scoring\"}, \"Metrics\": {\"json.encoder.time\": {\"sum\": 155.04193305969238, \"count\": 1, \"min\": 155.04193305969238, \"max\": 155.04193305969238}, \"invocations.count\": {\"sum\": 1.0, \"count\": 1, \"min\": 1, \"max\": 1}}}\u001B[0m\n",
      "\u001B[35m#metrics {\"StartTime\": 1707640780.5271814, \"EndTime\": 1707640784.1310802, \"Dimensions\": {\"Algorithm\": \"LinearLearnerModel\", \"Host\": \"UNKNOWN\", \"Operation\": \"scoring\"}, \"Metrics\": {\"json.encoder.time\": {\"sum\": 154.8619270324707, \"count\": 1, \"min\": 154.8619270324707, \"max\": 154.8619270324707}, \"invocations.count\": {\"sum\": 1.0, \"count\": 1, \"min\": 1, \"max\": 1}}}\u001B[0m\n",
      "\u001B[35m#metrics {\"StartTime\": 1707640780.5271814, \"EndTime\": 1707640784.136156, \"Dimensions\": {\"Algorithm\": \"LinearLearnerModel\", \"Host\": \"UNKNOWN\", \"Operation\": \"scoring\"}, \"Metrics\": {\"json.encoder.time\": {\"sum\": 156.34512901306152, \"count\": 1, \"min\": 156.34512901306152, \"max\": 156.34512901306152}, \"invocations.count\": {\"sum\": 1.0, \"count\": 1, \"min\": 1, \"max\": 1}}}\u001B[0m\n",
      "\u001B[32m2024-02-11T08:39:41.055:[sagemaker logs]: MaxConcurrentTransforms=4, MaxPayloadInMB=6, BatchStrategy=MULTI_RECORD\u001B[0m\n",
      "\u001B[34m#metrics {\"StartTime\": 1707640783.876803, \"EndTime\": 1707640784.948951, \"Dimensions\": {\"Algorithm\": \"LinearLearnerModel\", \"Host\": \"UNKNOWN\", \"Operation\": \"scoring\"}, \"Metrics\": {\"json.encoder.time\": {\"sum\": 72.46017456054688, \"count\": 1, \"min\": 72.46017456054688, \"max\": 72.46017456054688}, \"invocations.count\": {\"sum\": 1.0, \"count\": 1, \"min\": 1, \"max\": 1}}}\u001B[0m\n",
      "\u001B[35m#metrics {\"StartTime\": 1707640783.876803, \"EndTime\": 1707640784.948951, \"Dimensions\": {\"Algorithm\": \"LinearLearnerModel\", \"Host\": \"UNKNOWN\", \"Operation\": \"scoring\"}, \"Metrics\": {\"json.encoder.time\": {\"sum\": 72.46017456054688, \"count\": 1, \"min\": 72.46017456054688, \"max\": 72.46017456054688}, \"invocations.count\": {\"sum\": 1.0, \"count\": 1, \"min\": 1, \"max\": 1}}}\u001B[0m\n"
     ]
    }
   ],
   "source": [
    "test_labels, target_predicted = batch_linear_predict(test, classifier_estimator2)"
   ]
  },
  {
   "cell_type": "markdown",
   "metadata": {},
   "source": [
    "Plot a confusion matrix.\n",
    "\n",
    "\n",
    "codigo"
   ]
  },
  {
   "cell_type": "code",
   "execution_count": 83,
   "metadata": {
    "tags": []
   },
   "outputs": [
    {
     "data": {
      "image/png": "[encoded data removed]",
      "text/plain": [
       "<Figure size 640x480 with 1 Axes>"
      ]
     },
     "metadata": {},
     "output_type": "display_data"
    }
   ],
   "source": [
    "plot_confusion_matrix(test_labels, target_predicted)"
   ]
  },
  {
   "cell_type": "markdown",
   "metadata": {},
   "source": [
    "The linear model shows only a little improvement in performance. Try a tree-based ensemble model, which is called *XGBoost*, with Amazon SageMaker."
   ]
  },
  {
   "cell_type": "markdown",
   "metadata": {},
   "source": [
    "### Try the XGBoost model"
   ]
  },
  {
   "cell_type": "markdown",
   "metadata": {},
   "source": [
    "Perform these steps:  \n",
    "\n",
    "1. Use the training set variables and save them as CSV files: train.csv, validation.csv and test.csv.\n",
    "2. Store the bucket name in the variable. The Amazon S3 bucket name is provided to the left of the lab instructions.  \n",
    "a. `bucket = <LabBucketName>`  \n",
    "b. `prefix = 'flight-xgb'`  \n",
    "3. Use the AWS SDK for Python (Boto3) to upload the model to the bucket.    "
   ]
  },
  {
   "cell_type": "code",
   "execution_count": 84,
   "metadata": {
    "tags": []
   },
   "outputs": [
    {
     "name": "stderr",
     "output_type": "stream",
     "text": [
      "INFO:botocore.credentials:Found credentials from IAM Role: BaseNotebookInstanceEc2InstanceRole\n"
     ]
    }
   ],
   "source": [
    "bucket='c108750a2560382l5772790t1w21112558411-flightbucket-emh49o6tjuqh'\n",
    "prefix='flight-xgb'\n",
    "train_file='flight_train.csv'\n",
    "test_file='flight_test.csv'\n",
    "validate_file='flight_validate.csv'\n",
    "whole_file='flight.csv'\n",
    "s3_resource = boto3.Session().resource('s3')\n",
    "\n",
    "def upload_s3_csv(filename, folder, dataframe):\n",
    "    csv_buffer = io.StringIO()\n",
    "    dataframe.to_csv(csv_buffer, header=False, index=False )\n",
    "    s3_resource.Bucket(bucket).Object(os.path.join(prefix, folder, filename)).put(Body=csv_buffer.getvalue())\n",
    "\n",
    "upload_s3_csv(train_file, 'train', train)\n",
    "upload_s3_csv(test_file, 'test', test)\n",
    "upload_s3_csv(validate_file, 'validate', validate)"
   ]
  },
  {
   "cell_type": "markdown",
   "metadata": {},
   "source": [
    "Use the `sagemaker.inputs.TrainingInput` function to create a `record_set` for the training and validation datasets."
   ]
  },
  {
   "cell_type": "code",
   "execution_count": 85,
   "metadata": {
    "tags": []
   },
   "outputs": [],
   "source": [
    "train_channel = sagemaker.inputs.TrainingInput(\n",
    "    \"s3://{}/{}/train/\".format(bucket,prefix,train_file),\n",
    "    content_type='text/csv')\n",
    "\n",
    "validate_channel = sagemaker.inputs.TrainingInput(\n",
    "    \"s3://{}/{}/validate/\".format(bucket,prefix,validate_file),\n",
    "    content_type='text/csv')\n",
    "\n",
    "data_channels = {'train': train_channel, 'validation': validate_channel}"
   ]
  },
  {
   "cell_type": "code",
   "execution_count": 86,
   "metadata": {
    "tags": []
   },
   "outputs": [
    {
     "name": "stderr",
     "output_type": "stream",
     "text": [
      "INFO:sagemaker.image_uris:Defaulting to only available Python version: py3\n",
      "INFO:sagemaker.image_uris:Defaulting to only supported image scope: cpu.\n"
     ]
    }
   ],
   "source": [
    "from sagemaker.image_uris import retrieve\n",
    "container = retrieve('xgboost',boto3.Session().region_name,'1.0-1')"
   ]
  },
  {
   "cell_type": "code",
   "execution_count": 87,
   "metadata": {
    "tags": []
   },
   "outputs": [
    {
     "name": "stderr",
     "output_type": "stream",
     "text": [
      "INFO:sagemaker:Creating training-job with name: sagemaker-xgboost-2024-02-11-08-43-09-908\n"
     ]
    },
    {
     "name": "stdout",
     "output_type": "stream",
     "text": [
      "2024-02-11 08:43:10 Starting - Starting the training job...\n",
      "2024-02-11 08:43:34 Starting - Preparing the instances for training.........\n",
      "2024-02-11 08:44:58 Downloading - Downloading input data...\n",
      "2024-02-11 08:45:33 Downloading - Downloading the training image......\n",
      "2024-02-11 08:46:19 Training - Training image download completed. Training in progress.\u001B[34m[2024-02-11 08:46:35.248 ip-10-2-191-150.ec2.internal:7 INFO utils.py:27] RULE_JOB_STOP_SIGNAL_FILENAME: None\u001B[0m\n",
      "\u001B[34mINFO:sagemaker-containers:Imported framework sagemaker_xgboost_container.training\u001B[0m\n",
      "\u001B[34mINFO:sagemaker-containers:Failed to parse hyperparameter eval_metric value auc to Json.\u001B[0m\n",
      "\u001B[34mReturning the value itself\u001B[0m\n",
      "\u001B[34mINFO:sagemaker-containers:Failed to parse hyperparameter objective value binary:logistic to Json.\u001B[0m\n",
      "\u001B[34mReturning the value itself\u001B[0m\n",
      "\u001B[34mINFO:sagemaker-containers:No GPUs detected (normal if no gpus installed)\u001B[0m\n",
      "\u001B[34mINFO:sagemaker_xgboost_container.training:Running XGBoost Sagemaker in algorithm mode\u001B[0m\n",
      "\u001B[34mINFO:root:Determined delimiter of CSV input is ','\u001B[0m\n",
      "\u001B[34mINFO:root:Determined delimiter of CSV input is ','\u001B[0m\n",
      "\u001B[34mINFO:root:Determined delimiter of CSV input is ','\u001B[0m\n",
      "\u001B[34mINFO:root:Determined delimiter of CSV input is ','\u001B[0m\n",
      "\u001B[34mINFO:root:Single node training.\u001B[0m\n",
      "\u001B[34m[08:46:40] 1308472x85 matrix with 111220120 entries loaded from /opt/ml/input/data/train?format=csv&label_column=0&delimiter=,\u001B[0m\n",
      "\u001B[34m[08:46:40] 163559x85 matrix with 13902515 entries loaded from /opt/ml/input/data/validation?format=csv&label_column=0&delimiter=,\u001B[0m\n",
      "\u001B[34m[2024-02-11 08:46:40.926 ip-10-2-191-150.ec2.internal:7 INFO json_config.py:91] Creating hook from json_config at /opt/ml/input/config/debughookconfig.json.\u001B[0m\n",
      "\u001B[34m[2024-02-11 08:46:40.927 ip-10-2-191-150.ec2.internal:7 INFO hook.py:201] tensorboard_dir has not been set for the hook. SMDebug will not be exporting tensorboard summaries.\u001B[0m\n",
      "\u001B[34m[2024-02-11 08:46:40.927 ip-10-2-191-150.ec2.internal:7 INFO profiler_config_parser.py:102] User has disabled profiler.\u001B[0m\n",
      "\u001B[34m[2024-02-11 08:46:40.928 ip-10-2-191-150.ec2.internal:7 INFO hook.py:255] Saving to /opt/ml/output/tensors\u001B[0m\n",
      "\u001B[34m[2024-02-11 08:46:40.928 ip-10-2-191-150.ec2.internal:7 INFO state_store.py:77] The checkpoint config file /opt/ml/input/config/checkpointconfig.json does not exist.\u001B[0m\n",
      "\u001B[34mINFO:root:Debug hook created from config\u001B[0m\n",
      "\u001B[34mINFO:root:Train matrix has 1308472 rows\u001B[0m\n",
      "\u001B[34mINFO:root:Validation matrix has 163559 rows\u001B[0m\n",
      "\u001B[34m[0]#011train-auc:0.65461#011validation-auc:0.65547\u001B[0m\n",
      "\u001B[34m[2024-02-11 08:46:46.084 ip-10-2-191-150.ec2.internal:7 INFO hook.py:423] Monitoring the collections: metrics\u001B[0m\n",
      "\u001B[34m[2024-02-11 08:46:46.087 ip-10-2-191-150.ec2.internal:7 INFO hook.py:486] Hook is writing from the hook with pid: 7\u001B[0m\n",
      "\u001B[34m[1]#011train-auc:0.66395#011validation-auc:0.66458\u001B[0m\n",
      "\u001B[34m[2]#011train-auc:0.66869#011validation-auc:0.66913\u001B[0m\n",
      "\u001B[34m[3]#011train-auc:0.67117#011validation-auc:0.67168\u001B[0m\n",
      "\u001B[34m[4]#011train-auc:0.67484#011validation-auc:0.67533\u001B[0m\n",
      "\u001B[34m[5]#011train-auc:0.67857#011validation-auc:0.67883\u001B[0m\n",
      "\u001B[34m[6]#011train-auc:0.67965#011validation-auc:0.68005\u001B[0m\n",
      "\u001B[34m[7]#011train-auc:0.68269#011validation-auc:0.68280\u001B[0m\n",
      "\u001B[34m[8]#011train-auc:0.68535#011validation-auc:0.68552\u001B[0m\n",
      "\u001B[34m[9]#011train-auc:0.68741#011validation-auc:0.68729\u001B[0m\n",
      "\u001B[34m[10]#011train-auc:0.68920#011validation-auc:0.68903\u001B[0m\n",
      "\u001B[34m[11]#011train-auc:0.69080#011validation-auc:0.69037\u001B[0m\n",
      "\u001B[34m[12]#011train-auc:0.69303#011validation-auc:0.69266\u001B[0m\n",
      "\u001B[34m[13]#011train-auc:0.69414#011validation-auc:0.69364\u001B[0m\n",
      "\u001B[34m[14]#011train-auc:0.69658#011validation-auc:0.69624\u001B[0m\n",
      "\u001B[34m[15]#011train-auc:0.69778#011validation-auc:0.69748\u001B[0m\n",
      "\u001B[34m[16]#011train-auc:0.69897#011validation-auc:0.69860\u001B[0m\n",
      "\u001B[34m[17]#011train-auc:0.70085#011validation-auc:0.70037\u001B[0m\n",
      "\u001B[34m[18]#011train-auc:0.70183#011validation-auc:0.70140\u001B[0m\n",
      "\u001B[34m[19]#011train-auc:0.70315#011validation-auc:0.70261\u001B[0m\n",
      "\u001B[34m[20]#011train-auc:0.70383#011validation-auc:0.70336\u001B[0m\n",
      "\u001B[34m[21]#011train-auc:0.70503#011validation-auc:0.70451\u001B[0m\n",
      "\u001B[34m[22]#011train-auc:0.70588#011validation-auc:0.70530\u001B[0m\n",
      "\u001B[34m[23]#011train-auc:0.70695#011validation-auc:0.70643\u001B[0m\n",
      "\u001B[34m[24]#011train-auc:0.70751#011validation-auc:0.70696\u001B[0m\n",
      "\u001B[34m[25]#011train-auc:0.70847#011validation-auc:0.70790\u001B[0m\n",
      "\u001B[34m[26]#011train-auc:0.70909#011validation-auc:0.70847\u001B[0m\n",
      "\u001B[34m[27]#011train-auc:0.70994#011validation-auc:0.70922\u001B[0m\n",
      "\u001B[34m[28]#011train-auc:0.71060#011validation-auc:0.70991\u001B[0m\n",
      "\u001B[34m[29]#011train-auc:0.71196#011validation-auc:0.71125\u001B[0m\n",
      "\u001B[34m[30]#011train-auc:0.71244#011validation-auc:0.71170\u001B[0m\n",
      "\u001B[34m[31]#011train-auc:0.71298#011validation-auc:0.71225\u001B[0m\n",
      "\u001B[34m[32]#011train-auc:0.71344#011validation-auc:0.71272\u001B[0m\n",
      "\u001B[34m[33]#011train-auc:0.71428#011validation-auc:0.71357\u001B[0m\n",
      "\u001B[34m[34]#011train-auc:0.71480#011validation-auc:0.71398\u001B[0m\n",
      "\u001B[34m[35]#011train-auc:0.71644#011validation-auc:0.71560\u001B[0m\n",
      "\u001B[34m[36]#011train-auc:0.71693#011validation-auc:0.71610\u001B[0m\n",
      "\u001B[34m[37]#011train-auc:0.71773#011validation-auc:0.71682\u001B[0m\n",
      "\u001B[34m[38]#011train-auc:0.71815#011validation-auc:0.71727\u001B[0m\n",
      "\u001B[34m[39]#011train-auc:0.71839#011validation-auc:0.71749\u001B[0m\n",
      "\u001B[34m[40]#011train-auc:0.71915#011validation-auc:0.71822\u001B[0m\n",
      "\u001B[34m[41]#011train-auc:0.71967#011validation-auc:0.71882\u001B[0m\n",
      "\u001B[34m[42]#011train-auc:0.71981#011validation-auc:0.71895\u001B[0m\n",
      "\u001B[34m[43]#011train-auc:0.72014#011validation-auc:0.71926\u001B[0m\n",
      "\u001B[34m[44]#011train-auc:0.72070#011validation-auc:0.71980\u001B[0m\n",
      "\u001B[34m[45]#011train-auc:0.72120#011validation-auc:0.72015\u001B[0m\n",
      "\u001B[34m[46]#011train-auc:0.72151#011validation-auc:0.72044\u001B[0m\n",
      "\u001B[34m[47]#011train-auc:0.72180#011validation-auc:0.72072\u001B[0m\n",
      "\u001B[34m[48]#011train-auc:0.72261#011validation-auc:0.72146\u001B[0m\n",
      "\u001B[34m[49]#011train-auc:0.72295#011validation-auc:0.72189\u001B[0m\n",
      "\u001B[34m[50]#011train-auc:0.72316#011validation-auc:0.72206\u001B[0m\n",
      "\u001B[34m[51]#011train-auc:0.72354#011validation-auc:0.72237\u001B[0m\n",
      "\u001B[34m[52]#011train-auc:0.72368#011validation-auc:0.72254\u001B[0m\n",
      "\u001B[34m[53]#011train-auc:0.72398#011validation-auc:0.72287\u001B[0m\n",
      "\u001B[34m[54]#011train-auc:0.72420#011validation-auc:0.72309\u001B[0m\n",
      "\u001B[34m[55]#011train-auc:0.72440#011validation-auc:0.72324\u001B[0m\n",
      "\u001B[34m[56]#011train-auc:0.72460#011validation-auc:0.72338\u001B[0m\n",
      "\u001B[34m[57]#011train-auc:0.72509#011validation-auc:0.72387\u001B[0m\n",
      "\u001B[34m[58]#011train-auc:0.72539#011validation-auc:0.72410\u001B[0m\n",
      "\u001B[34m[59]#011train-auc:0.72586#011validation-auc:0.72445\u001B[0m\n",
      "\u001B[34m[60]#011train-auc:0.72615#011validation-auc:0.72469\u001B[0m\n",
      "\u001B[34m[61]#011train-auc:0.72657#011validation-auc:0.72503\u001B[0m\n",
      "\u001B[34m[62]#011train-auc:0.72679#011validation-auc:0.72523\u001B[0m\n",
      "\u001B[34m[63]#011train-auc:0.72709#011validation-auc:0.72553\u001B[0m\n",
      "\u001B[34m[64]#011train-auc:0.72744#011validation-auc:0.72587\u001B[0m\n",
      "\u001B[34m[65]#011train-auc:0.72768#011validation-auc:0.72611\u001B[0m\n",
      "\u001B[34m[66]#011train-auc:0.72806#011validation-auc:0.72650\u001B[0m\n",
      "\u001B[34m[67]#011train-auc:0.72826#011validation-auc:0.72666\u001B[0m\n",
      "\u001B[34m[68]#011train-auc:0.72870#011validation-auc:0.72701\u001B[0m\n",
      "\u001B[34m[69]#011train-auc:0.72890#011validation-auc:0.72725\u001B[0m\n",
      "\u001B[34m[70]#011train-auc:0.72908#011validation-auc:0.72741\u001B[0m\n",
      "\u001B[34m[71]#011train-auc:0.72933#011validation-auc:0.72768\u001B[0m\n",
      "\u001B[34m[72]#011train-auc:0.72958#011validation-auc:0.72786\u001B[0m\n",
      "\u001B[34m[73]#011train-auc:0.72977#011validation-auc:0.72802\u001B[0m\n",
      "\u001B[34m[74]#011train-auc:0.73003#011validation-auc:0.72820\u001B[0m\n",
      "\u001B[34m[75]#011train-auc:0.73017#011validation-auc:0.72831\u001B[0m\n",
      "\u001B[34m[76]#011train-auc:0.73040#011validation-auc:0.72846\u001B[0m\n",
      "\u001B[34m[77]#011train-auc:0.73064#011validation-auc:0.72863\u001B[0m\n",
      "\u001B[34m[78]#011train-auc:0.73088#011validation-auc:0.72882\u001B[0m\n",
      "\u001B[34m[79]#011train-auc:0.73099#011validation-auc:0.72893\u001B[0m\n",
      "\u001B[34m[80]#011train-auc:0.73117#011validation-auc:0.72902\u001B[0m\n",
      "\u001B[34m[81]#011train-auc:0.73140#011validation-auc:0.72925\u001B[0m\n",
      "\u001B[34m[82]#011train-auc:0.73156#011validation-auc:0.72937\u001B[0m\n",
      "\u001B[34m[83]#011train-auc:0.73179#011validation-auc:0.72951\u001B[0m\n",
      "\u001B[34m[84]#011train-auc:0.73189#011validation-auc:0.72962\u001B[0m\n",
      "\u001B[34m[85]#011train-auc:0.73209#011validation-auc:0.72982\u001B[0m\n",
      "\u001B[34m[86]#011train-auc:0.73231#011validation-auc:0.72997\u001B[0m\n",
      "\u001B[34m[87]#011train-auc:0.73252#011validation-auc:0.73021\u001B[0m\n",
      "\u001B[34m[88]#011train-auc:0.73263#011validation-auc:0.73034\u001B[0m\n",
      "\u001B[34m[89]#011train-auc:0.73276#011validation-auc:0.73042\u001B[0m\n",
      "\u001B[34m[90]#011train-auc:0.73316#011validation-auc:0.73069\u001B[0m\n",
      "\u001B[34m[91]#011train-auc:0.73330#011validation-auc:0.73077\u001B[0m\n",
      "\u001B[34m[92]#011train-auc:0.73355#011validation-auc:0.73096\u001B[0m\n",
      "\u001B[34m[93]#011train-auc:0.73377#011validation-auc:0.73117\u001B[0m\n",
      "\u001B[34m[94]#011train-auc:0.73393#011validation-auc:0.73134\u001B[0m\n",
      "\u001B[34m[95]#011train-auc:0.73436#011validation-auc:0.73177\u001B[0m\n",
      "\u001B[34m[96]#011train-auc:0.73463#011validation-auc:0.73196\u001B[0m\n",
      "\u001B[34m[97]#011train-auc:0.73472#011validation-auc:0.73204\u001B[0m\n",
      "\u001B[34m[98]#011train-auc:0.73486#011validation-auc:0.73213\u001B[0m\n",
      "\u001B[34m[99]#011train-auc:0.73504#011validation-auc:0.73233\u001B[0m\n",
      "\n",
      "2024-02-11 08:50:35 Uploading - Uploading generated training model\n",
      "2024-02-11 08:50:51 Completed - Training job completed\n",
      "Training seconds: 353\n",
      "Billable seconds: 353\n"
     ]
    }
   ],
   "source": [
    "sess = sagemaker.Session()\n",
    "s3_output_location=\"s3://{}/{}/output/\".format(bucket,prefix)\n",
    "\n",
    "xgb = sagemaker.estimator.Estimator(container,\n",
    "                                    role = sagemaker.get_execution_role(), \n",
    "                                    instance_count=1, \n",
    "                                    instance_type=instance_type,\n",
    "                                    output_path=s3_output_location,\n",
    "                                    sagemaker_session=sess)\n",
    "xgb.set_hyperparameters(max_depth=5,\n",
    "                        eta=0.2,\n",
    "                        gamma=4,\n",
    "                        min_child_weight=6,\n",
    "                        subsample=0.8,\n",
    "                        silent=0,\n",
    "                        objective='binary:logistic',\n",
    "                        eval_metric = \"auc\", \n",
    "                        num_round=100)\n",
    "\n",
    "xgb.fit(inputs=data_channels)"
   ]
  },
  {
   "cell_type": "markdown",
   "metadata": {},
   "source": [
    "Use the batch transformer for your new model, and evaluate the model on the test dataset."
   ]
  },
  {
   "cell_type": "code",
   "execution_count": 88,
   "metadata": {
    "tags": []
   },
   "outputs": [],
   "source": [
    "batch_X = test.iloc[:,1:];\n",
    "batch_X_file='batch-in.csv'\n",
    "upload_s3_csv(batch_X_file, 'batch-in', batch_X)"
   ]
  },
  {
   "cell_type": "code",
   "execution_count": 89,
   "metadata": {
    "tags": []
   },
   "outputs": [
    {
     "name": "stderr",
     "output_type": "stream",
     "text": [
      "INFO:sagemaker:Creating model with name: sagemaker-xgboost-2024-02-11-08-51-42-417\n",
      "INFO:sagemaker:Creating transform job with name: sagemaker-xgboost-2024-02-11-08-51-43-109\n"
     ]
    },
    {
     "name": "stdout",
     "output_type": "stream",
     "text": [
      ".....................................\u001B[34m[2024-02-11:08:57:50:INFO] No GPUs detected (normal if no gpus installed)\u001B[0m\n",
      "\u001B[34m[2024-02-11:08:57:50:INFO] No GPUs detected (normal if no gpus installed)\u001B[0m\n",
      "\u001B[34m[2024-02-11:08:57:50:INFO] nginx config: \u001B[0m\n",
      "\u001B[35m[2024-02-11:08:57:50:INFO] No GPUs detected (normal if no gpus installed)\u001B[0m\n",
      "\u001B[35m[2024-02-11:08:57:50:INFO] No GPUs detected (normal if no gpus installed)\u001B[0m\n",
      "\u001B[35m[2024-02-11:08:57:50:INFO] nginx config: \u001B[0m\n",
      "\u001B[34mworker_processes auto;\u001B[0m\n",
      "\u001B[34mdaemon off;\u001B[0m\n",
      "\u001B[34mpid /tmp/nginx.pid;\u001B[0m\n",
      "\u001B[34merror_log  /dev/stderr;\u001B[0m\n",
      "\u001B[34mworker_rlimit_nofile 4096;\u001B[0m\n",
      "\u001B[34mevents {\n",
      "  worker_connections 2048;\u001B[0m\n",
      "\u001B[34m}\u001B[0m\n",
      "\u001B[34mhttp {\n",
      "  include /etc/nginx/mime.types;\n",
      "  default_type application/octet-stream;\n",
      "  access_log /dev/stdout combined;\n",
      "  upstream gunicorn {\n",
      "    server unix:/tmp/gunicorn.sock;\n",
      "  }\n",
      "  server {\n",
      "    listen 8080 deferred;\n",
      "    client_max_body_size 0;\n",
      "    keepalive_timeout 3;\n",
      "    location ~ ^/(ping|invocations|execution-parameters) {\n",
      "      proxy_set_header X-Forwarded-For $proxy_add_x_forwarded_for;\n",
      "      proxy_set_header Host $http_host;\n",
      "      proxy_redirect off;\n",
      "      proxy_read_timeout 60s;\n",
      "      proxy_pass http://gunicorn;\n",
      "    }\n",
      "    location / {\n",
      "      return 404 \"{}\";\n",
      "    }\n",
      "  }\u001B[0m\n",
      "\u001B[34m}\u001B[0m\n",
      "\u001B[35mworker_processes auto;\u001B[0m\n",
      "\u001B[35mdaemon off;\u001B[0m\n",
      "\u001B[35mpid /tmp/nginx.pid;\u001B[0m\n",
      "\u001B[35merror_log  /dev/stderr;\u001B[0m\n",
      "\u001B[35mworker_rlimit_nofile 4096;\u001B[0m\n",
      "\u001B[35mevents {\n",
      "  worker_connections 2048;\u001B[0m\n",
      "\u001B[35m}\u001B[0m\n",
      "\u001B[35mhttp {\n",
      "  include /etc/nginx/mime.types;\n",
      "  default_type application/octet-stream;\n",
      "  access_log /dev/stdout combined;\n",
      "  upstream gunicorn {\n",
      "    server unix:/tmp/gunicorn.sock;\n",
      "  }\n",
      "  server {\n",
      "    listen 8080 deferred;\n",
      "    client_max_body_size 0;\n",
      "    keepalive_timeout 3;\n",
      "    location ~ ^/(ping|invocations|execution-parameters) {\n",
      "      proxy_set_header X-Forwarded-For $proxy_add_x_forwarded_for;\n",
      "      proxy_set_header Host $http_host;\n",
      "      proxy_redirect off;\n",
      "      proxy_read_timeout 60s;\n",
      "      proxy_pass http://gunicorn;\n",
      "    }\n",
      "    location / {\n",
      "      return 404 \"{}\";\n",
      "    }\n",
      "  }\u001B[0m\n",
      "\u001B[35m}\u001B[0m\n",
      "\u001B[34m[2024-02-11 08:57:51 +0000] [19] [INFO] Starting gunicorn 19.10.0\u001B[0m\n",
      "\u001B[34m[2024-02-11 08:57:51 +0000] [19] [INFO] Listening at: unix:/tmp/gunicorn.sock (19)\u001B[0m\n",
      "\u001B[34m[2024-02-11 08:57:51 +0000] [19] [INFO] Using worker: gevent\u001B[0m\n",
      "\u001B[34m[2024-02-11 08:57:51 +0000] [26] [INFO] Booting worker with pid: 26\u001B[0m\n",
      "\u001B[34m[2024-02-11 08:57:51 +0000] [27] [INFO] Booting worker with pid: 27\u001B[0m\n",
      "\u001B[34m[2024-02-11 08:57:51 +0000] [28] [INFO] Booting worker with pid: 28\u001B[0m\n",
      "\u001B[34m[2024-02-11 08:57:51 +0000] [29] [INFO] Booting worker with pid: 29\u001B[0m\n",
      "\u001B[35m[2024-02-11 08:57:51 +0000] [19] [INFO] Starting gunicorn 19.10.0\u001B[0m\n",
      "\u001B[35m[2024-02-11 08:57:51 +0000] [19] [INFO] Listening at: unix:/tmp/gunicorn.sock (19)\u001B[0m\n",
      "\u001B[35m[2024-02-11 08:57:51 +0000] [19] [INFO] Using worker: gevent\u001B[0m\n",
      "\u001B[35m[2024-02-11 08:57:51 +0000] [26] [INFO] Booting worker with pid: 26\u001B[0m\n",
      "\u001B[35m[2024-02-11 08:57:51 +0000] [27] [INFO] Booting worker with pid: 27\u001B[0m\n",
      "\u001B[35m[2024-02-11 08:57:51 +0000] [28] [INFO] Booting worker with pid: 28\u001B[0m\n",
      "\u001B[35m[2024-02-11 08:57:51 +0000] [29] [INFO] Booting worker with pid: 29\u001B[0m\n",
      "\u001B[34m[2024-02-11:08:57:56:INFO] No GPUs detected (normal if no gpus installed)\u001B[0m\n",
      "\u001B[35m[2024-02-11:08:57:56:INFO] No GPUs detected (normal if no gpus installed)\u001B[0m\n",
      "\u001B[34m169.254.255.130 - - [11/Feb/2024:08:57:56 +0000] \"GET /ping HTTP/1.1\" 200 0 \"-\" \"Go-http-client/1.1\"\u001B[0m\n",
      "\u001B[34m[2024-02-11:08:57:56:INFO] No GPUs detected (normal if no gpus installed)\u001B[0m\n",
      "\u001B[34m169.254.255.130 - - [11/Feb/2024:08:57:56 +0000] \"GET /execution-parameters HTTP/1.1\" 200 84 \"-\" \"Go-http-client/1.1\"\u001B[0m\n",
      "\u001B[35m169.254.255.130 - - [11/Feb/2024:08:57:56 +0000] \"GET /ping HTTP/1.1\" 200 0 \"-\" \"Go-http-client/1.1\"\u001B[0m\n",
      "\u001B[35m[2024-02-11:08:57:56:INFO] No GPUs detected (normal if no gpus installed)\u001B[0m\n",
      "\u001B[35m169.254.255.130 - - [11/Feb/2024:08:57:56 +0000] \"GET /execution-parameters HTTP/1.1\" 200 84 \"-\" \"Go-http-client/1.1\"\u001B[0m\n",
      "\u001B[32m2024-02-11T08:57:56.903:[sagemaker logs]: MaxConcurrentTransforms=4, MaxPayloadInMB=6, BatchStrategy=MULTI_RECORD\u001B[0m\n",
      "\u001B[34m[2024-02-11:08:57:58:INFO] No GPUs detected (normal if no gpus installed)\u001B[0m\n",
      "\u001B[34m[2024-02-11:08:57:58:INFO] No GPUs detected (normal if no gpus installed)\u001B[0m\n",
      "\u001B[34m[2024-02-11:08:57:58:INFO] Determined delimiter of CSV input is ','\u001B[0m\n",
      "\u001B[34m[2024-02-11:08:57:58:INFO] Determined delimiter of CSV input is ','\u001B[0m\n",
      "\u001B[34m[2024-02-11:08:57:58:INFO] Determined delimiter of CSV input is ','\u001B[0m\n",
      "\u001B[35m[2024-02-11:08:57:58:INFO] No GPUs detected (normal if no gpus installed)\u001B[0m\n",
      "\u001B[35m[2024-02-11:08:57:58:INFO] No GPUs detected (normal if no gpus installed)\u001B[0m\n",
      "\u001B[35m[2024-02-11:08:57:58:INFO] Determined delimiter of CSV input is ','\u001B[0m\n",
      "\u001B[35m[2024-02-11:08:57:58:INFO] Determined delimiter of CSV input is ','\u001B[0m\n",
      "\u001B[35m[2024-02-11:08:57:58:INFO] Determined delimiter of CSV input is ','\u001B[0m\n",
      "\u001B[34m[2024-02-11:08:57:58:INFO] Determined delimiter of CSV input is ','\u001B[0m\n",
      "\u001B[35m[2024-02-11:08:57:58:INFO] Determined delimiter of CSV input is ','\u001B[0m\n",
      "\u001B[34m169.254.255.130 - - [11/Feb/2024:08:58:02 +0000] \"POST /invocations HTTP/1.1\" 200 652649 \"-\" \"Go-http-client/1.1\"\u001B[0m\n",
      "\u001B[34m169.254.255.130 - - [11/Feb/2024:08:58:02 +0000] \"POST /invocations HTTP/1.1\" 200 652705 \"-\" \"Go-http-client/1.1\"\u001B[0m\n",
      "\u001B[34m169.254.255.130 - - [11/Feb/2024:08:58:02 +0000] \"POST /invocations HTTP/1.1\" 200 652742 \"-\" \"Go-http-client/1.1\"\u001B[0m\n",
      "\u001B[34m[2024-02-11:08:58:02:INFO] Determined delimiter of CSV input is ','\u001B[0m\n",
      "\u001B[35m169.254.255.130 - - [11/Feb/2024:08:58:02 +0000] \"POST /invocations HTTP/1.1\" 200 652649 \"-\" \"Go-http-client/1.1\"\u001B[0m\n",
      "\u001B[35m169.254.255.130 - - [11/Feb/2024:08:58:02 +0000] \"POST /invocations HTTP/1.1\" 200 652705 \"-\" \"Go-http-client/1.1\"\u001B[0m\n",
      "\u001B[35m169.254.255.130 - - [11/Feb/2024:08:58:02 +0000] \"POST /invocations HTTP/1.1\" 200 652742 \"-\" \"Go-http-client/1.1\"\u001B[0m\n",
      "\u001B[35m[2024-02-11:08:58:02:INFO] Determined delimiter of CSV input is ','\u001B[0m\n",
      "\u001B[34m169.254.255.130 - - [11/Feb/2024:08:58:04 +0000] \"POST /invocations HTTP/1.1\" 200 602686 \"-\" \"Go-http-client/1.1\"\u001B[0m\n",
      "\u001B[35m169.254.255.130 - - [11/Feb/2024:08:58:04 +0000] \"POST /invocations HTTP/1.1\" 200 602686 \"-\" \"Go-http-client/1.1\"\u001B[0m\n",
      "\n",
      "\u001B[34m[2024-02-11:08:57:50:INFO] No GPUs detected (normal if no gpus installed)\u001B[0m\n",
      "\u001B[34m[2024-02-11:08:57:50:INFO] No GPUs detected (normal if no gpus installed)\u001B[0m\n",
      "\u001B[34m[2024-02-11:08:57:50:INFO] nginx config: \u001B[0m\n",
      "\u001B[35m[2024-02-11:08:57:50:INFO] No GPUs detected (normal if no gpus installed)\u001B[0m\n",
      "\u001B[35m[2024-02-11:08:57:50:INFO] No GPUs detected (normal if no gpus installed)\u001B[0m\n",
      "\u001B[35m[2024-02-11:08:57:50:INFO] nginx config: \u001B[0m\n",
      "\u001B[34mworker_processes auto;\u001B[0m\n",
      "\u001B[34mdaemon off;\u001B[0m\n",
      "\u001B[34mpid /tmp/nginx.pid;\u001B[0m\n",
      "\u001B[34merror_log  /dev/stderr;\u001B[0m\n",
      "\u001B[34mworker_rlimit_nofile 4096;\u001B[0m\n",
      "\u001B[34mevents {\n",
      "  worker_connections 2048;\u001B[0m\n",
      "\u001B[34m}\u001B[0m\n",
      "\u001B[34mhttp {\n",
      "  include /etc/nginx/mime.types;\n",
      "  default_type application/octet-stream;\n",
      "  access_log /dev/stdout combined;\n",
      "  upstream gunicorn {\n",
      "    server unix:/tmp/gunicorn.sock;\n",
      "  }\n",
      "  server {\n",
      "    listen 8080 deferred;\n",
      "    client_max_body_size 0;\n",
      "    keepalive_timeout 3;\n",
      "    location ~ ^/(ping|invocations|execution-parameters) {\n",
      "      proxy_set_header X-Forwarded-For $proxy_add_x_forwarded_for;\n",
      "      proxy_set_header Host $http_host;\n",
      "      proxy_redirect off;\n",
      "      proxy_read_timeout 60s;\n",
      "      proxy_pass http://gunicorn;\n",
      "    }\n",
      "    location / {\n",
      "      return 404 \"{}\";\n",
      "    }\n",
      "  }\u001B[0m\n",
      "\u001B[34m}\u001B[0m\n",
      "\u001B[35mworker_processes auto;\u001B[0m\n",
      "\u001B[35mdaemon off;\u001B[0m\n",
      "\u001B[35mpid /tmp/nginx.pid;\u001B[0m\n",
      "\u001B[35merror_log  /dev/stderr;\u001B[0m\n",
      "\u001B[35mworker_rlimit_nofile 4096;\u001B[0m\n",
      "\u001B[35mevents {\n",
      "  worker_connections 2048;\u001B[0m\n",
      "\u001B[35m}\u001B[0m\n",
      "\u001B[35mhttp {\n",
      "  include /etc/nginx/mime.types;\n",
      "  default_type application/octet-stream;\n",
      "  access_log /dev/stdout combined;\n",
      "  upstream gunicorn {\n",
      "    server unix:/tmp/gunicorn.sock;\n",
      "  }\n",
      "  server {\n",
      "    listen 8080 deferred;\n",
      "    client_max_body_size 0;\n",
      "    keepalive_timeout 3;\n",
      "    location ~ ^/(ping|invocations|execution-parameters) {\n",
      "      proxy_set_header X-Forwarded-For $proxy_add_x_forwarded_for;\n",
      "      proxy_set_header Host $http_host;\n",
      "      proxy_redirect off;\n",
      "      proxy_read_timeout 60s;\n",
      "      proxy_pass http://gunicorn;\n",
      "    }\n",
      "    location / {\n",
      "      return 404 \"{}\";\n",
      "    }\n",
      "  }\u001B[0m\n",
      "\u001B[35m}\u001B[0m\n",
      "\u001B[34m[2024-02-11 08:57:51 +0000] [19] [INFO] Starting gunicorn 19.10.0\u001B[0m\n",
      "\u001B[34m[2024-02-11 08:57:51 +0000] [19] [INFO] Listening at: unix:/tmp/gunicorn.sock (19)\u001B[0m\n",
      "\u001B[34m[2024-02-11 08:57:51 +0000] [19] [INFO] Using worker: gevent\u001B[0m\n",
      "\u001B[34m[2024-02-11 08:57:51 +0000] [26] [INFO] Booting worker with pid: 26\u001B[0m\n",
      "\u001B[34m[2024-02-11 08:57:51 +0000] [27] [INFO] Booting worker with pid: 27\u001B[0m\n",
      "\u001B[34m[2024-02-11 08:57:51 +0000] [28] [INFO] Booting worker with pid: 28\u001B[0m\n",
      "\u001B[34m[2024-02-11 08:57:51 +0000] [29] [INFO] Booting worker with pid: 29\u001B[0m\n",
      "\u001B[35m[2024-02-11 08:57:51 +0000] [19] [INFO] Starting gunicorn 19.10.0\u001B[0m\n",
      "\u001B[35m[2024-02-11 08:57:51 +0000] [19] [INFO] Listening at: unix:/tmp/gunicorn.sock (19)\u001B[0m\n",
      "\u001B[35m[2024-02-11 08:57:51 +0000] [19] [INFO] Using worker: gevent\u001B[0m\n",
      "\u001B[35m[2024-02-11 08:57:51 +0000] [26] [INFO] Booting worker with pid: 26\u001B[0m\n",
      "\u001B[35m[2024-02-11 08:57:51 +0000] [27] [INFO] Booting worker with pid: 27\u001B[0m\n",
      "\u001B[35m[2024-02-11 08:57:51 +0000] [28] [INFO] Booting worker with pid: 28\u001B[0m\n",
      "\u001B[35m[2024-02-11 08:57:51 +0000] [29] [INFO] Booting worker with pid: 29\u001B[0m\n",
      "\u001B[34m[2024-02-11:08:57:56:INFO] No GPUs detected (normal if no gpus installed)\u001B[0m\n",
      "\u001B[35m[2024-02-11:08:57:56:INFO] No GPUs detected (normal if no gpus installed)\u001B[0m\n",
      "\u001B[34m169.254.255.130 - - [11/Feb/2024:08:57:56 +0000] \"GET /ping HTTP/1.1\" 200 0 \"-\" \"Go-http-client/1.1\"\u001B[0m\n",
      "\u001B[34m[2024-02-11:08:57:56:INFO] No GPUs detected (normal if no gpus installed)\u001B[0m\n",
      "\u001B[34m169.254.255.130 - - [11/Feb/2024:08:57:56 +0000] \"GET /execution-parameters HTTP/1.1\" 200 84 \"-\" \"Go-http-client/1.1\"\u001B[0m\n",
      "\u001B[35m169.254.255.130 - - [11/Feb/2024:08:57:56 +0000] \"GET /ping HTTP/1.1\" 200 0 \"-\" \"Go-http-client/1.1\"\u001B[0m\n",
      "\u001B[35m[2024-02-11:08:57:56:INFO] No GPUs detected (normal if no gpus installed)\u001B[0m\n",
      "\u001B[35m169.254.255.130 - - [11/Feb/2024:08:57:56 +0000] \"GET /execution-parameters HTTP/1.1\" 200 84 \"-\" \"Go-http-client/1.1\"\u001B[0m\n",
      "\u001B[32m2024-02-11T08:57:56.903:[sagemaker logs]: MaxConcurrentTransforms=4, MaxPayloadInMB=6, BatchStrategy=MULTI_RECORD\u001B[0m\n",
      "\u001B[34m[2024-02-11:08:57:58:INFO] No GPUs detected (normal if no gpus installed)\u001B[0m\n",
      "\u001B[34m[2024-02-11:08:57:58:INFO] No GPUs detected (normal if no gpus installed)\u001B[0m\n",
      "\u001B[34m[2024-02-11:08:57:58:INFO] Determined delimiter of CSV input is ','\u001B[0m\n",
      "\u001B[34m[2024-02-11:08:57:58:INFO] Determined delimiter of CSV input is ','\u001B[0m\n",
      "\u001B[34m[2024-02-11:08:57:58:INFO] Determined delimiter of CSV input is ','\u001B[0m\n",
      "\u001B[35m[2024-02-11:08:57:58:INFO] No GPUs detected (normal if no gpus installed)\u001B[0m\n",
      "\u001B[35m[2024-02-11:08:57:58:INFO] No GPUs detected (normal if no gpus installed)\u001B[0m\n",
      "\u001B[35m[2024-02-11:08:57:58:INFO] Determined delimiter of CSV input is ','\u001B[0m\n",
      "\u001B[35m[2024-02-11:08:57:58:INFO] Determined delimiter of CSV input is ','\u001B[0m\n",
      "\u001B[35m[2024-02-11:08:57:58:INFO] Determined delimiter of CSV input is ','\u001B[0m\n",
      "\u001B[34m[2024-02-11:08:57:58:INFO] Determined delimiter of CSV input is ','\u001B[0m\n",
      "\u001B[35m[2024-02-11:08:57:58:INFO] Determined delimiter of CSV input is ','\u001B[0m\n",
      "\u001B[34m169.254.255.130 - - [11/Feb/2024:08:58:02 +0000] \"POST /invocations HTTP/1.1\" 200 652562 \"-\" \"Go-http-client/1.1\"\u001B[0m\n",
      "\u001B[34m169.254.255.130 - - [11/Feb/2024:08:58:02 +0000] \"POST /invocations HTTP/1.1\" 200 652649 \"-\" \"Go-http-client/1.1\"\u001B[0m\n",
      "\u001B[34m169.254.255.130 - - [11/Feb/2024:08:58:02 +0000] \"POST /invocations HTTP/1.1\" 200 652705 \"-\" \"Go-http-client/1.1\"\u001B[0m\n",
      "\u001B[34m169.254.255.130 - - [11/Feb/2024:08:58:02 +0000] \"POST /invocations HTTP/1.1\" 200 652742 \"-\" \"Go-http-client/1.1\"\u001B[0m\n",
      "\u001B[34m[2024-02-11:08:58:02:INFO] Determined delimiter of CSV input is ','\u001B[0m\n",
      "\u001B[35m169.254.255.130 - - [11/Feb/2024:08:58:02 +0000] \"POST /invocations HTTP/1.1\" 200 652562 \"-\" \"Go-http-client/1.1\"\u001B[0m\n",
      "\u001B[35m169.254.255.130 - - [11/Feb/2024:08:58:02 +0000] \"POST /invocations HTTP/1.1\" 200 652649 \"-\" \"Go-http-client/1.1\"\u001B[0m\n",
      "\u001B[35m169.254.255.130 - - [11/Feb/2024:08:58:02 +0000] \"POST /invocations HTTP/1.1\" 200 652705 \"-\" \"Go-http-client/1.1\"\u001B[0m\n",
      "\u001B[35m169.254.255.130 - - [11/Feb/2024:08:58:02 +0000] \"POST /invocations HTTP/1.1\" 200 652742 \"-\" \"Go-http-client/1.1\"\u001B[0m\n",
      "\u001B[35m[2024-02-11:08:58:02:INFO] Determined delimiter of CSV input is ','\u001B[0m\n",
      "\u001B[34m169.254.255.130 - - [11/Feb/2024:08:58:04 +0000] \"POST /invocations HTTP/1.1\" 200 602686 \"-\" \"Go-http-client/1.1\"\u001B[0m\n",
      "\u001B[35m169.254.255.130 - - [11/Feb/2024:08:58:04 +0000] \"POST /invocations HTTP/1.1\" 200 602686 \"-\" \"Go-http-client/1.1\"\u001B[0m\n"
     ]
    }
   ],
   "source": [
    "batch_output = \"s3://{}/{}/batch-out/\".format(bucket,prefix)\n",
    "batch_input = \"s3://{}/{}/batch-in/{}\".format(bucket,prefix,batch_X_file)\n",
    "\n",
    "xgb_transformer = xgb.transformer(instance_count=1,\n",
    "                                       instance_type=instance_type,\n",
    "                                       strategy='MultiRecord',\n",
    "                                       assemble_with='Line',\n",
    "                                       output_path=batch_output)\n",
    "\n",
    "xgb_transformer.transform(data=batch_input,\n",
    "                         data_type='S3Prefix',\n",
    "                         content_type='text/csv',\n",
    "                         split_type='Line')\n",
    "xgb_transformer.wait()"
   ]
  },
  {
   "cell_type": "markdown",
   "metadata": {},
   "source": [
    "Get the predicted target and test labels."
   ]
  },
  {
   "cell_type": "code",
   "execution_count": 90,
   "metadata": {
    "tags": []
   },
   "outputs": [],
   "source": [
    "s3 = boto3.client('s3')\n",
    "obj = s3.get_object(Bucket=bucket, Key=\"{}/batch-out/{}\".format(prefix,'batch-in.csv.out'))\n",
    "target_predicted = pd.read_csv(io.BytesIO(obj['Body'].read()),sep=',',names=['target'])\n",
    "test_labels = test.iloc[:,0]"
   ]
  },
  {
   "cell_type": "markdown",
   "metadata": {},
   "source": [
    "Calculate the predicted values based on the defined threshold.\n",
    "\n",
    "**Note:** The predicted target will be a score, which must be converted to a binary class."
   ]
  },
  {
   "cell_type": "code",
   "execution_count": 91,
   "metadata": {
    "tags": []
   },
   "outputs": [
    {
     "name": "stdout",
     "output_type": "stream",
     "text": [
      "     target\n",
      "0  0.215564\n",
      "1  0.077335\n",
      "2  0.519828\n",
      "3  0.048757\n",
      "4  0.665058\n",
      "   target\n",
      "0       0\n",
      "1       0\n",
      "2       0\n",
      "3       0\n",
      "4       1\n"
     ]
    }
   ],
   "source": [
    "print(target_predicted.head())\n",
    "\n",
    "def binary_convert(x):\n",
    "    threshold = 0.55\n",
    "    if x > threshold:\n",
    "        return 1\n",
    "    else:\n",
    "        return 0\n",
    "\n",
    "target_predicted['target'] = target_predicted['target'].apply(binary_convert)\n",
    "\n",
    "test_labels = test.iloc[:,0]\n",
    "\n",
    "print(target_predicted.head())"
   ]
  },
  {
   "cell_type": "markdown",
   "metadata": {},
   "source": [
    "Plot a confusion matrix for your `target_predicted` and `test_labels`.\n",
    "\n",
    "\n",
    "codigo"
   ]
  },
  {
   "cell_type": "code",
   "execution_count": 92,
   "metadata": {
    "tags": []
   },
   "outputs": [
    {
     "data": {
      "image/png": "[encoded data removed]",
      "text/plain": [
       "<Figure size 640x480 with 1 Axes>"
      ]
     },
     "metadata": {},
     "output_type": "display_data"
    }
   ],
   "source": [
    "plot_confusion_matrix(test_labels, target_predicted)"
   ]
  },
  {
   "cell_type": "markdown",
   "metadata": {},
   "source": [
    "### Try different thresholds"
   ]
  },
  {
   "cell_type": "markdown",
   "metadata": {},
   "source": [
    "**Question**: Based on how well the model handled the test set, what can you conclude?"
   ]
  },
  {
   "cell_type": "code",
   "execution_count": null,
   "metadata": {},
   "outputs": [],
   "source": [
    "#Enter your answer here"
   ]
  },
  {
   "cell_type": "markdown",
   "metadata": {},
   "source": [
    "### Hyperparameter optimization (HPO)"
   ]
  },
  {
   "cell_type": "code",
   "execution_count": 93,
   "metadata": {
    "tags": []
   },
   "outputs": [],
   "source": [
    "from sagemaker.tuner import IntegerParameter, CategoricalParameter, ContinuousParameter, HyperparameterTuner\n",
    "\n",
    "### You can spin up multiple instances to do hyperparameter optimization in parallel\n",
    "\n",
    "xgb = sagemaker.estimator.Estimator(container,\n",
    "                                    role=sagemaker.get_execution_role(), \n",
    "                                    instance_count= 1, # make sure you have a limit set for these instances\n",
    "                                    instance_type=instance_type, \n",
    "                                    output_path='s3://{}/{}/output'.format(bucket, prefix),\n",
    "                                    sagemaker_session=sess)\n",
    "\n",
    "xgb.set_hyperparameters(eval_metric='auc',\n",
    "                        objective='binary:logistic',\n",
    "                        num_round=100,\n",
    "                        rate_drop=0.3,\n",
    "                        tweedie_variance_power=1.4)\n",
    "\n",
    "hyperparameter_ranges = {'alpha': ContinuousParameter(0, 1000, scaling_type='Linear'),\n",
    "                         'eta': ContinuousParameter(0.1, 0.5, scaling_type='Linear'),\n",
    "                         'min_child_weight': ContinuousParameter(3, 10, scaling_type='Linear'),\n",
    "                         'subsample': ContinuousParameter(0.5, 1),\n",
    "                         'num_round': IntegerParameter(10,150)}\n",
    "\n",
    "objective_metric_name = 'validation:auc'\n",
    "\n",
    "tuner = HyperparameterTuner(xgb,\n",
    "                            objective_metric_name,\n",
    "                            hyperparameter_ranges,\n",
    "                            max_jobs=10, # Set this to 10 or above depending upon budget and available time.\n",
    "                            max_parallel_jobs=1)"
   ]
  },
  {
   "cell_type": "code",
   "execution_count": 94,
   "metadata": {
    "tags": []
   },
   "outputs": [
    {
     "name": "stderr",
     "output_type": "stream",
     "text": [
      "WARNING:sagemaker.estimator:No finished training job found associated with this estimator. Please make sure this estimator is only used for building workflow config\n",
      "WARNING:sagemaker.estimator:No finished training job found associated with this estimator. Please make sure this estimator is only used for building workflow config\n",
      "INFO:sagemaker:Creating hyperparameter tuning job with name: sagemaker-xgboost-240211-0859\n"
     ]
    },
    {
     "name": "stdout",
     "output_type": "stream",
     "text": [
      ".....................................................................................................................................................................................................................................................................................................................................................................................................................................................................................................................................................................................................................................................................................................................................................................................................................................................!\n",
      "!\n"
     ]
    }
   ],
   "source": [
    "tuner.fit(inputs=data_channels)\n",
    "tuner.wait()"
   ]
  },
  {
   "cell_type": "markdown",
   "metadata": {},
   "source": [
    "<i class=\"fas fa-exclamation-triangle\" style=\"color:red\"></i> Wait until the training job is finished. It might take 25-30 minutes.\n",
    "\n",
    "**To monitor hyperparameter optimization jobs:**  \n",
    "\n",
    "1. In the AWS Management Console, on the **Services** menu, choose **Amazon SageMaker**.  \n",
    "2. Choose **Training > Hyperparameter tuning jobs**.\n",
    "3. You can check the status of each hyperparameter tuning job, its objective metric value, and its logs.  "
   ]
  },
  {
   "cell_type": "markdown",
   "metadata": {},
   "source": [
    "Check that the job completed successfully."
   ]
  },
  {
   "cell_type": "code",
   "execution_count": 95,
   "metadata": {
    "tags": []
   },
   "outputs": [
    {
     "data": {
      "text/plain": [
       "'Completed'"
      ]
     },
     "execution_count": 95,
     "metadata": {},
     "output_type": "execute_result"
    }
   ],
   "source": [
    "boto3.client('sagemaker').describe_hyper_parameter_tuning_job(\n",
    "    HyperParameterTuningJobName=tuner.latest_tuning_job.job_name)['HyperParameterTuningJobStatus']"
   ]
  },
  {
   "cell_type": "markdown",
   "metadata": {},
   "source": [
    "The hyperparameter tuning job will have a model that worked the best. You can get the information about that model from the tuning job."
   ]
  },
  {
   "cell_type": "code",
   "execution_count": 96,
   "metadata": {
    "tags": []
   },
   "outputs": [
    {
     "name": "stderr",
     "output_type": "stream",
     "text": [
      "INFO:botocore.credentials:Found credentials from IAM Role: BaseNotebookInstanceEc2InstanceRole\n"
     ]
    },
    {
     "name": "stdout",
     "output_type": "stream",
     "text": [
      "tuning job name:sagemaker-xgboost-240211-0859\n",
      "best training job: sagemaker-xgboost-240211-0859-006-ebdb32b9\n",
      "\n",
      "2024-02-11 09:43:07 Starting - Found matching resource for reuse\n",
      "2024-02-11 09:43:07 Downloading - Downloading the training image\n",
      "2024-02-11 09:43:07 Training - Training image download completed. Training in progress.\n",
      "2024-02-11 09:43:07 Uploading - Uploading generated training model\n",
      "2024-02-11 09:43:07 Completed - Resource reused by training job: sagemaker-xgboost-240211-0859-007-894e6aa9\n"
     ]
    },
    {
     "data": {
      "text/html": [
       "<div>\n",
       "<style scoped>\n",
       "    .dataframe tbody tr th:only-of-type {\n",
       "        vertical-align: middle;\n",
       "    }\n",
       "\n",
       "    .dataframe tbody tr th {\n",
       "        vertical-align: top;\n",
       "    }\n",
       "\n",
       "    .dataframe thead th {\n",
       "        text-align: right;\n",
       "    }\n",
       "</style>\n",
       "<table border=\"1\" class=\"dataframe\">\n",
       "  <thead>\n",
       "    <tr style=\"text-align: right;\">\n",
       "      <th></th>\n",
       "      <th>alpha</th>\n",
       "      <th>eta</th>\n",
       "      <th>min_child_weight</th>\n",
       "      <th>num_round</th>\n",
       "      <th>subsample</th>\n",
       "      <th>TrainingJobName</th>\n",
       "      <th>TrainingJobStatus</th>\n",
       "      <th>FinalObjectiveValue</th>\n",
       "      <th>TrainingStartTime</th>\n",
       "      <th>TrainingEndTime</th>\n",
       "      <th>TrainingElapsedTimeSeconds</th>\n",
       "    </tr>\n",
       "  </thead>\n",
       "  <tbody>\n",
       "    <tr>\n",
       "      <th>0</th>\n",
       "      <td>31.038267</td>\n",
       "      <td>0.178474</td>\n",
       "      <td>7.134829</td>\n",
       "      <td>84.0</td>\n",
       "      <td>0.552139</td>\n",
       "      <td>sagemaker-xgboost-240211-0859-010-da76794f</td>\n",
       "      <td>Completed</td>\n",
       "      <td>0.73121</td>\n",
       "      <td>2024-02-11 10:02:19+00:00</td>\n",
       "      <td>2024-02-11 10:08:47+00:00</td>\n",
       "      <td>388.0</td>\n",
       "    </tr>\n",
       "    <tr>\n",
       "      <th>1</th>\n",
       "      <td>0.000000</td>\n",
       "      <td>0.178830</td>\n",
       "      <td>10.000000</td>\n",
       "      <td>92.0</td>\n",
       "      <td>1.000000</td>\n",
       "      <td>sagemaker-xgboost-240211-0859-009-29318d89</td>\n",
       "      <td>Completed</td>\n",
       "      <td>0.73815</td>\n",
       "      <td>2024-02-11 09:55:59+00:00</td>\n",
       "      <td>2024-02-11 10:01:32+00:00</td>\n",
       "      <td>333.0</td>\n",
       "    </tr>\n",
       "    <tr>\n",
       "      <th>2</th>\n",
       "      <td>0.000000</td>\n",
       "      <td>0.353130</td>\n",
       "      <td>4.129590</td>\n",
       "      <td>67.0</td>\n",
       "      <td>0.805869</td>\n",
       "      <td>sagemaker-xgboost-240211-0859-008-bd9c8ace</td>\n",
       "      <td>Completed</td>\n",
       "      <td>0.74220</td>\n",
       "      <td>2024-02-11 09:50:38+00:00</td>\n",
       "      <td>2024-02-11 09:55:15+00:00</td>\n",
       "      <td>277.0</td>\n",
       "    </tr>\n",
       "    <tr>\n",
       "      <th>3</th>\n",
       "      <td>297.484794</td>\n",
       "      <td>0.167782</td>\n",
       "      <td>5.582649</td>\n",
       "      <td>85.0</td>\n",
       "      <td>0.713908</td>\n",
       "      <td>sagemaker-xgboost-240211-0859-007-894e6aa9</td>\n",
       "      <td>Completed</td>\n",
       "      <td>0.72023</td>\n",
       "      <td>2024-02-11 09:43:09+00:00</td>\n",
       "      <td>2024-02-11 09:49:31+00:00</td>\n",
       "      <td>382.0</td>\n",
       "    </tr>\n",
       "    <tr>\n",
       "      <th>4</th>\n",
       "      <td>76.315650</td>\n",
       "      <td>0.432492</td>\n",
       "      <td>7.125627</td>\n",
       "      <td>150.0</td>\n",
       "      <td>0.700038</td>\n",
       "      <td>sagemaker-xgboost-240211-0859-006-ebdb32b9</td>\n",
       "      <td>Completed</td>\n",
       "      <td>0.74335</td>\n",
       "      <td>2024-02-11 09:32:40+00:00</td>\n",
       "      <td>2024-02-11 09:42:18+00:00</td>\n",
       "      <td>578.0</td>\n",
       "    </tr>\n",
       "  </tbody>\n",
       "</table>\n",
       "</div>"
      ],
      "text/plain": [
       "        alpha       eta  min_child_weight  num_round  subsample  \\\n",
       "0   31.038267  0.178474          7.134829       84.0   0.552139   \n",
       "1    0.000000  0.178830         10.000000       92.0   1.000000   \n",
       "2    0.000000  0.353130          4.129590       67.0   0.805869   \n",
       "3  297.484794  0.167782          5.582649       85.0   0.713908   \n",
       "4   76.315650  0.432492          7.125627      150.0   0.700038   \n",
       "\n",
       "                              TrainingJobName TrainingJobStatus  \\\n",
       "0  sagemaker-xgboost-240211-0859-010-da76794f         Completed   \n",
       "1  sagemaker-xgboost-240211-0859-009-29318d89         Completed   \n",
       "2  sagemaker-xgboost-240211-0859-008-bd9c8ace         Completed   \n",
       "3  sagemaker-xgboost-240211-0859-007-894e6aa9         Completed   \n",
       "4  sagemaker-xgboost-240211-0859-006-ebdb32b9         Completed   \n",
       "\n",
       "   FinalObjectiveValue         TrainingStartTime           TrainingEndTime  \\\n",
       "0              0.73121 2024-02-11 10:02:19+00:00 2024-02-11 10:08:47+00:00   \n",
       "1              0.73815 2024-02-11 09:55:59+00:00 2024-02-11 10:01:32+00:00   \n",
       "2              0.74220 2024-02-11 09:50:38+00:00 2024-02-11 09:55:15+00:00   \n",
       "3              0.72023 2024-02-11 09:43:09+00:00 2024-02-11 09:49:31+00:00   \n",
       "4              0.74335 2024-02-11 09:32:40+00:00 2024-02-11 09:42:18+00:00   \n",
       "\n",
       "   TrainingElapsedTimeSeconds  \n",
       "0                       388.0  \n",
       "1                       333.0  \n",
       "2                       277.0  \n",
       "3                       382.0  \n",
       "4                       578.0  "
      ]
     },
     "execution_count": 96,
     "metadata": {},
     "output_type": "execute_result"
    }
   ],
   "source": [
    "sage_client = boto3.Session().client('sagemaker')\n",
    "tuning_job_name = tuner.latest_tuning_job.job_name\n",
    "print(f'tuning job name:{tuning_job_name}')\n",
    "tuning_job_result = sage_client.describe_hyper_parameter_tuning_job(HyperParameterTuningJobName=tuning_job_name)\n",
    "best_training_job = tuning_job_result['BestTrainingJob']\n",
    "best_training_job_name = best_training_job['TrainingJobName']\n",
    "print(f\"best training job: {best_training_job_name}\")\n",
    "\n",
    "best_estimator = tuner.best_estimator()\n",
    "\n",
    "tuner_df = sagemaker.HyperparameterTuningJobAnalytics(tuning_job_name).dataframe()\n",
    "tuner_df.head()"
   ]
  },
  {
   "cell_type": "markdown",
   "metadata": {},
   "source": [
    "Use the estimator `best_estimator` and train it by using the data. \n",
    "\n",
    "**Tip:** See the previous XGBoost estimator fit function.\n",
    "\n",
    "\n",
    "codigo"
   ]
  },
  {
   "cell_type": "code",
   "execution_count": 97,
   "metadata": {
    "tags": []
   },
   "outputs": [
    {
     "name": "stderr",
     "output_type": "stream",
     "text": [
      "INFO:sagemaker:Creating training-job with name: sagemaker-xgboost-2024-02-11-10-11-29-209\n"
     ]
    },
    {
     "name": "stdout",
     "output_type": "stream",
     "text": [
      "2024-02-11 10:11:29 Starting - Starting the training job...\n",
      "2024-02-11 10:11:44 Starting - Preparing the instances for training......\n",
      "2024-02-11 10:12:58 Downloading - Downloading input data......\n",
      "2024-02-11 10:13:44 Downloading - Downloading the training image...\n",
      "2024-02-11 10:14:24 Training - Training image download completed. Training in progress....\u001B[34m[2024-02-11 10:14:40.842 ip-10-2-105-162.ec2.internal:7 INFO utils.py:27] RULE_JOB_STOP_SIGNAL_FILENAME: None\u001B[0m\n",
      "\u001B[34mINFO:sagemaker-containers:Imported framework sagemaker_xgboost_container.training\u001B[0m\n",
      "\u001B[34mINFO:sagemaker-containers:Failed to parse hyperparameter _tuning_objective_metric value validation:auc to Json.\u001B[0m\n",
      "\u001B[34mReturning the value itself\u001B[0m\n",
      "\u001B[34mINFO:sagemaker-containers:Failed to parse hyperparameter eval_metric value auc to Json.\u001B[0m\n",
      "\u001B[34mReturning the value itself\u001B[0m\n",
      "\u001B[34mINFO:sagemaker-containers:Failed to parse hyperparameter objective value binary:logistic to Json.\u001B[0m\n",
      "\u001B[34mReturning the value itself\u001B[0m\n",
      "\u001B[34mINFO:sagemaker-containers:No GPUs detected (normal if no gpus installed)\u001B[0m\n",
      "\u001B[34mINFO:sagemaker_xgboost_container.training:Running XGBoost Sagemaker in algorithm mode\u001B[0m\n",
      "\u001B[34mINFO:root:Determined delimiter of CSV input is ','\u001B[0m\n",
      "\u001B[34mINFO:root:Determined delimiter of CSV input is ','\u001B[0m\n",
      "\u001B[34mINFO:root:Determined delimiter of CSV input is ','\u001B[0m\n",
      "\u001B[34mINFO:root:Determined delimiter of CSV input is ','\u001B[0m\n",
      "\u001B[34mINFO:root:Single node training.\u001B[0m\n",
      "\u001B[34mINFO:root:Setting up HPO optimized metric to be : auc\u001B[0m\n",
      "\u001B[34m[10:14:46] 1308472x85 matrix with 111220120 entries loaded from /opt/ml/input/data/train?format=csv&label_column=0&delimiter=,\u001B[0m\n",
      "\u001B[34m[10:14:47] 163559x85 matrix with 13902515 entries loaded from /opt/ml/input/data/validation?format=csv&label_column=0&delimiter=,\u001B[0m\n",
      "\u001B[34m[2024-02-11 10:14:47.522 ip-10-2-105-162.ec2.internal:7 INFO json_config.py:91] Creating hook from json_config at /opt/ml/input/config/debughookconfig.json.\u001B[0m\n",
      "\u001B[34m[2024-02-11 10:14:47.523 ip-10-2-105-162.ec2.internal:7 INFO hook.py:201] tensorboard_dir has not been set for the hook. SMDebug will not be exporting tensorboard summaries.\u001B[0m\n",
      "\u001B[34m[2024-02-11 10:14:47.523 ip-10-2-105-162.ec2.internal:7 INFO profiler_config_parser.py:102] User has disabled profiler.\u001B[0m\n",
      "\u001B[34m[2024-02-11 10:14:47.524 ip-10-2-105-162.ec2.internal:7 INFO hook.py:255] Saving to /opt/ml/output/tensors\u001B[0m\n",
      "\u001B[34m[2024-02-11 10:14:47.524 ip-10-2-105-162.ec2.internal:7 INFO state_store.py:77] The checkpoint config file /opt/ml/input/config/checkpointconfig.json does not exist.\u001B[0m\n",
      "\u001B[34mINFO:root:Debug hook created from config\u001B[0m\n",
      "\u001B[34mINFO:root:Train matrix has 1308472 rows\u001B[0m\n",
      "\u001B[34mINFO:root:Validation matrix has 163559 rows\u001B[0m\n",
      "\u001B[34m[0]#011train-auc:0.65933#011validation-auc:0.66021\u001B[0m\n",
      "\u001B[34m[2024-02-11 10:14:54.589 ip-10-2-105-162.ec2.internal:7 INFO hook.py:423] Monitoring the collections: metrics\u001B[0m\n",
      "\u001B[34m[2024-02-11 10:14:54.591 ip-10-2-105-162.ec2.internal:7 INFO hook.py:486] Hook is writing from the hook with pid: 7\u001B[0m\n",
      "\u001B[34m[1]#011train-auc:0.67754#011validation-auc:0.67769\u001B[0m\n",
      "\u001B[34m[2]#011train-auc:0.68308#011validation-auc:0.68390\u001B[0m\n",
      "\u001B[34m[3]#011train-auc:0.68670#011validation-auc:0.68711\u001B[0m\n",
      "\u001B[34m[4]#011train-auc:0.69125#011validation-auc:0.69141\u001B[0m\n",
      "\u001B[34m[5]#011train-auc:0.69572#011validation-auc:0.69600\u001B[0m\n",
      "\u001B[34m[6]#011train-auc:0.69819#011validation-auc:0.69824\u001B[0m\n",
      "\u001B[34m[7]#011train-auc:0.70077#011validation-auc:0.70069\u001B[0m\n",
      "\u001B[34m[8]#011train-auc:0.70303#011validation-auc:0.70289\u001B[0m\n",
      "\u001B[34m[9]#011train-auc:0.70588#011validation-auc:0.70578\u001B[0m\n",
      "\u001B[34m[10]#011train-auc:0.70766#011validation-auc:0.70744\u001B[0m\n",
      "\u001B[34m[11]#011train-auc:0.70892#011validation-auc:0.70862\u001B[0m\n",
      "\u001B[34m[12]#011train-auc:0.71009#011validation-auc:0.70978\u001B[0m\n",
      "\u001B[34m[13]#011train-auc:0.71125#011validation-auc:0.71082\u001B[0m\n",
      "\u001B[34m[14]#011train-auc:0.71382#011validation-auc:0.71349\u001B[0m\n",
      "\u001B[34m[15]#011train-auc:0.71465#011validation-auc:0.71441\u001B[0m\n",
      "\u001B[34m[16]#011train-auc:0.71574#011validation-auc:0.71549\u001B[0m\n",
      "\u001B[34m[17]#011train-auc:0.71717#011validation-auc:0.71664\u001B[0m\n",
      "\u001B[34m[18]#011train-auc:0.71842#011validation-auc:0.71774\u001B[0m\n",
      "\u001B[34m[19]#011train-auc:0.71895#011validation-auc:0.71823\u001B[0m\n",
      "\u001B[34m[20]#011train-auc:0.71973#011validation-auc:0.71897\u001B[0m\n",
      "\u001B[34m[21]#011train-auc:0.72031#011validation-auc:0.71950\u001B[0m\n",
      "\u001B[34m[22]#011train-auc:0.72078#011validation-auc:0.71992\u001B[0m\n",
      "\u001B[34m[23]#011train-auc:0.72175#011validation-auc:0.72083\u001B[0m\n",
      "\u001B[34m[24]#011train-auc:0.72238#011validation-auc:0.72138\u001B[0m\n",
      "\u001B[34m[25]#011train-auc:0.72314#011validation-auc:0.72237\u001B[0m\n",
      "\u001B[34m[26]#011train-auc:0.72388#011validation-auc:0.72296\u001B[0m\n",
      "\u001B[34m[27]#011train-auc:0.72447#011validation-auc:0.72327\u001B[0m\n",
      "\u001B[34m[28]#011train-auc:0.72497#011validation-auc:0.72362\u001B[0m\n",
      "\u001B[34m[29]#011train-auc:0.72551#011validation-auc:0.72414\u001B[0m\n",
      "\u001B[34m[30]#011train-auc:0.72629#011validation-auc:0.72491\u001B[0m\n",
      "\u001B[34m[31]#011train-auc:0.72691#011validation-auc:0.72550\u001B[0m\n",
      "\u001B[34m[32]#011train-auc:0.72777#011validation-auc:0.72610\u001B[0m\n",
      "\u001B[34m[33]#011train-auc:0.72816#011validation-auc:0.72645\u001B[0m\n",
      "\u001B[34m[34]#011train-auc:0.72854#011validation-auc:0.72681\u001B[0m\n",
      "\u001B[34m[35]#011train-auc:0.72893#011validation-auc:0.72716\u001B[0m\n",
      "\u001B[34m[36]#011train-auc:0.72916#011validation-auc:0.72732\u001B[0m\n",
      "\u001B[34m[37]#011train-auc:0.72974#011validation-auc:0.72784\u001B[0m\n",
      "\u001B[34m[38]#011train-auc:0.73015#011validation-auc:0.72814\u001B[0m\n",
      "\u001B[34m[39]#011train-auc:0.73047#011validation-auc:0.72845\u001B[0m\n",
      "\u001B[34m[40]#011train-auc:0.73079#011validation-auc:0.72863\u001B[0m\n",
      "\u001B[34m[41]#011train-auc:0.73103#011validation-auc:0.72889\u001B[0m\n",
      "\u001B[34m[42]#011train-auc:0.73123#011validation-auc:0.72907\u001B[0m\n",
      "\u001B[34m[43]#011train-auc:0.73165#011validation-auc:0.72943\u001B[0m\n",
      "\u001B[34m[44]#011train-auc:0.73200#011validation-auc:0.72976\u001B[0m\n",
      "\u001B[34m[45]#011train-auc:0.73232#011validation-auc:0.72999\u001B[0m\n",
      "\u001B[34m[46]#011train-auc:0.73255#011validation-auc:0.73011\u001B[0m\n",
      "\u001B[34m[47]#011train-auc:0.73283#011validation-auc:0.73040\u001B[0m\n",
      "\u001B[34m[48]#011train-auc:0.73320#011validation-auc:0.73076\u001B[0m\n",
      "\u001B[34m[49]#011train-auc:0.73347#011validation-auc:0.73095\u001B[0m\n",
      "\u001B[34m[50]#011train-auc:0.73383#011validation-auc:0.73124\u001B[0m\n",
      "\u001B[34m[51]#011train-auc:0.73407#011validation-auc:0.73150\u001B[0m\n",
      "\u001B[34m[52]#011train-auc:0.73443#011validation-auc:0.73171\u001B[0m\n",
      "\u001B[34m[53]#011train-auc:0.73455#011validation-auc:0.73181\u001B[0m\n",
      "\u001B[34m[54]#011train-auc:0.73498#011validation-auc:0.73208\u001B[0m\n",
      "\u001B[34m[55]#011train-auc:0.73513#011validation-auc:0.73218\u001B[0m\n",
      "\u001B[34m[56]#011train-auc:0.73531#011validation-auc:0.73240\u001B[0m\n",
      "\u001B[34m[57]#011train-auc:0.73588#011validation-auc:0.73285\u001B[0m\n",
      "\u001B[34m[58]#011train-auc:0.73616#011validation-auc:0.73309\u001B[0m\n",
      "\u001B[34m[59]#011train-auc:0.73639#011validation-auc:0.73321\u001B[0m\n",
      "\u001B[34m[60]#011train-auc:0.73671#011validation-auc:0.73353\u001B[0m\n",
      "\u001B[34m[61]#011train-auc:0.73694#011validation-auc:0.73371\u001B[0m\n",
      "\u001B[34m[62]#011train-auc:0.73735#011validation-auc:0.73403\u001B[0m\n",
      "\u001B[34m[63]#011train-auc:0.73761#011validation-auc:0.73426\u001B[0m\n",
      "\u001B[34m[64]#011train-auc:0.73781#011validation-auc:0.73445\u001B[0m\n",
      "\u001B[34m[65]#011train-auc:0.73809#011validation-auc:0.73463\u001B[0m\n",
      "\u001B[34m[66]#011train-auc:0.73839#011validation-auc:0.73491\u001B[0m\n",
      "\u001B[34m[67]#011train-auc:0.73867#011validation-auc:0.73503\u001B[0m\n",
      "\u001B[34m[68]#011train-auc:0.73883#011validation-auc:0.73515\u001B[0m\n",
      "\u001B[34m[69]#011train-auc:0.73908#011validation-auc:0.73532\u001B[0m\n",
      "\u001B[34m[70]#011train-auc:0.73923#011validation-auc:0.73540\u001B[0m\n",
      "\u001B[34m[71]#011train-auc:0.73950#011validation-auc:0.73557\u001B[0m\n",
      "\u001B[34m[72]#011train-auc:0.73969#011validation-auc:0.73574\u001B[0m\n",
      "\u001B[34m[73]#011train-auc:0.73989#011validation-auc:0.73586\u001B[0m\n",
      "\u001B[34m[74]#011train-auc:0.74010#011validation-auc:0.73600\u001B[0m\n",
      "\u001B[34m[75]#011train-auc:0.74026#011validation-auc:0.73608\u001B[0m\n",
      "\u001B[34m[76]#011train-auc:0.74037#011validation-auc:0.73618\u001B[0m\n",
      "\u001B[34m[77]#011train-auc:0.74065#011validation-auc:0.73641\u001B[0m\n",
      "\u001B[34m[78]#011train-auc:0.74088#011validation-auc:0.73660\u001B[0m\n",
      "\u001B[34m[79]#011train-auc:0.74101#011validation-auc:0.73665\u001B[0m\n",
      "\u001B[34m[80]#011train-auc:0.74116#011validation-auc:0.73676\u001B[0m\n",
      "\u001B[34m[81]#011train-auc:0.74138#011validation-auc:0.73692\u001B[0m\n",
      "\u001B[34m[82]#011train-auc:0.74154#011validation-auc:0.73703\u001B[0m\n",
      "\u001B[34m[83]#011train-auc:0.74178#011validation-auc:0.73722\u001B[0m\n",
      "\u001B[34m[84]#011train-auc:0.74190#011validation-auc:0.73728\u001B[0m\n",
      "\u001B[34m[85]#011train-auc:0.74200#011validation-auc:0.73741\u001B[0m\n",
      "\u001B[34m[86]#011train-auc:0.74211#011validation-auc:0.73752\u001B[0m\n",
      "\u001B[34m[87]#011train-auc:0.74229#011validation-auc:0.73767\u001B[0m\n",
      "\u001B[34m[88]#011train-auc:0.74238#011validation-auc:0.73779\u001B[0m\n",
      "\u001B[34m[89]#011train-auc:0.74254#011validation-auc:0.73801\u001B[0m\n",
      "\u001B[34m[90]#011train-auc:0.74262#011validation-auc:0.73811\u001B[0m\n",
      "\u001B[34m[91]#011train-auc:0.74281#011validation-auc:0.73824\u001B[0m\n",
      "\u001B[34m[92]#011train-auc:0.74293#011validation-auc:0.73833\u001B[0m\n",
      "\u001B[34m[93]#011train-auc:0.74310#011validation-auc:0.73840\u001B[0m\n",
      "\u001B[34m[94]#011train-auc:0.74324#011validation-auc:0.73853\u001B[0m\n",
      "\u001B[34m[95]#011train-auc:0.74337#011validation-auc:0.73861\u001B[0m\n",
      "\u001B[34m[96]#011train-auc:0.74352#011validation-auc:0.73870\u001B[0m\n",
      "\u001B[34m[97]#011train-auc:0.74368#011validation-auc:0.73883\u001B[0m\n",
      "\u001B[34m[98]#011train-auc:0.74386#011validation-auc:0.73895\u001B[0m\n",
      "\u001B[34m[99]#011train-auc:0.74398#011validation-auc:0.73902\u001B[0m\n",
      "\u001B[34m[100]#011train-auc:0.74414#011validation-auc:0.73915\u001B[0m\n",
      "\u001B[34m[101]#011train-auc:0.74427#011validation-auc:0.73930\u001B[0m\n",
      "\u001B[34m[102]#011train-auc:0.74438#011validation-auc:0.73936\u001B[0m\n",
      "\u001B[34m[103]#011train-auc:0.74460#011validation-auc:0.73951\u001B[0m\n",
      "\u001B[34m[104]#011train-auc:0.74470#011validation-auc:0.73952\u001B[0m\n",
      "\u001B[34m[105]#011train-auc:0.74492#011validation-auc:0.73973\u001B[0m\n",
      "\u001B[34m[106]#011train-auc:0.74509#011validation-auc:0.73984\u001B[0m\n",
      "\u001B[34m[107]#011train-auc:0.74529#011validation-auc:0.73994\u001B[0m\n",
      "\u001B[34m[108]#011train-auc:0.74541#011validation-auc:0.74006\u001B[0m\n",
      "\u001B[34m[109]#011train-auc:0.74556#011validation-auc:0.74015\u001B[0m\n",
      "\u001B[34m[110]#011train-auc:0.74570#011validation-auc:0.74028\u001B[0m\n",
      "\u001B[34m[111]#011train-auc:0.74581#011validation-auc:0.74035\u001B[0m\n",
      "\u001B[34m[112]#011train-auc:0.74595#011validation-auc:0.74050\u001B[0m\n",
      "\u001B[34m[113]#011train-auc:0.74604#011validation-auc:0.74056\u001B[0m\n",
      "\u001B[34m[114]#011train-auc:0.74618#011validation-auc:0.74067\u001B[0m\n",
      "\u001B[34m[115]#011train-auc:0.74629#011validation-auc:0.74073\u001B[0m\n",
      "\u001B[34m[116]#011train-auc:0.74645#011validation-auc:0.74084\u001B[0m\n",
      "\u001B[34m[117]#011train-auc:0.74655#011validation-auc:0.74086\u001B[0m\n",
      "\u001B[34m[118]#011train-auc:0.74662#011validation-auc:0.74086\u001B[0m\n",
      "\u001B[34m[119]#011train-auc:0.74673#011validation-auc:0.74093\u001B[0m\n",
      "\u001B[34m[120]#011train-auc:0.74682#011validation-auc:0.74103\u001B[0m\n",
      "\u001B[34m[121]#011train-auc:0.74703#011validation-auc:0.74120\u001B[0m\n",
      "\u001B[34m[122]#011train-auc:0.74715#011validation-auc:0.74128\u001B[0m\n",
      "\u001B[34m[123]#011train-auc:0.74725#011validation-auc:0.74135\u001B[0m\n",
      "\u001B[34m[124]#011train-auc:0.74736#011validation-auc:0.74146\u001B[0m\n",
      "\u001B[34m[125]#011train-auc:0.74752#011validation-auc:0.74152\u001B[0m\n",
      "\u001B[34m[126]#011train-auc:0.74763#011validation-auc:0.74157\u001B[0m\n",
      "\u001B[34m[127]#011train-auc:0.74772#011validation-auc:0.74164\u001B[0m\n",
      "\u001B[34m[128]#011train-auc:0.74784#011validation-auc:0.74174\u001B[0m\n",
      "\u001B[34m[129]#011train-auc:0.74796#011validation-auc:0.74181\u001B[0m\n",
      "\u001B[34m[130]#011train-auc:0.74810#011validation-auc:0.74194\u001B[0m\n",
      "\u001B[34m[131]#011train-auc:0.74819#011validation-auc:0.74197\u001B[0m\n",
      "\u001B[34m[132]#011train-auc:0.74829#011validation-auc:0.74205\u001B[0m\n",
      "\u001B[34m[133]#011train-auc:0.74843#011validation-auc:0.74215\u001B[0m\n",
      "\u001B[34m[134]#011train-auc:0.74854#011validation-auc:0.74223\u001B[0m\n",
      "\u001B[34m[135]#011train-auc:0.74860#011validation-auc:0.74227\u001B[0m\n",
      "\u001B[34m[136]#011train-auc:0.74872#011validation-auc:0.74230\u001B[0m\n",
      "\u001B[34m[137]#011train-auc:0.74875#011validation-auc:0.74234\u001B[0m\n",
      "\u001B[34m[138]#011train-auc:0.74889#011validation-auc:0.74241\u001B[0m\n",
      "\u001B[34m[139]#011train-auc:0.74896#011validation-auc:0.74244\u001B[0m\n",
      "\u001B[34m[140]#011train-auc:0.74905#011validation-auc:0.74253\u001B[0m\n",
      "\u001B[34m[141]#011train-auc:0.74912#011validation-auc:0.74260\u001B[0m\n",
      "\u001B[34m[142]#011train-auc:0.74928#011validation-auc:0.74272\u001B[0m\n",
      "\u001B[34m[143]#011train-auc:0.74939#011validation-auc:0.74281\u001B[0m\n",
      "\u001B[34m[144]#011train-auc:0.74950#011validation-auc:0.74288\u001B[0m\n",
      "\u001B[34m[145]#011train-auc:0.74960#011validation-auc:0.74301\u001B[0m\n",
      "\n",
      "2024-02-11 10:23:36 Uploading - Uploading generated training model\u001B[34m[146]#011train-auc:0.74972#011validation-auc:0.74314\u001B[0m\n",
      "\u001B[34m[147]#011train-auc:0.74984#011validation-auc:0.74321\u001B[0m\n",
      "\u001B[34m[148]#011train-auc:0.75002#011validation-auc:0.74334\u001B[0m\n",
      "\u001B[34m[149]#011train-auc:0.75006#011validation-auc:0.74335\u001B[0m\n",
      "\n",
      "2024-02-11 10:23:53 Completed - Training job completed\n",
      "Training seconds: 654\n",
      "Billable seconds: 654\n"
     ]
    }
   ],
   "source": [
    "best_estimator.fit(inputs=data_channels, logs=True)"
   ]
  },
  {
   "cell_type": "markdown",
   "metadata": {},
   "source": [
    "Use the batch transformer for your new model, and evaluate the model on the test dataset."
   ]
  },
  {
   "cell_type": "code",
   "execution_count": 98,
   "metadata": {
    "tags": []
   },
   "outputs": [
    {
     "name": "stderr",
     "output_type": "stream",
     "text": [
      "INFO:sagemaker:Creating model with name: sagemaker-xgboost-2024-02-11-10-26-09-245\n",
      "INFO:sagemaker:Creating transform job with name: sagemaker-xgboost-2024-02-11-10-26-09-883\n"
     ]
    },
    {
     "name": "stdout",
     "output_type": "stream",
     "text": [
      "...................................\u001B[34m[2024-02-11:10:31:59:INFO] No GPUs detected (normal if no gpus installed)\u001B[0m\n",
      "\u001B[34m[2024-02-11:10:31:59:INFO] No GPUs detected (normal if no gpus installed)\u001B[0m\n",
      "\u001B[34m[2024-02-11:10:31:59:INFO] nginx config: \u001B[0m\n",
      "\u001B[34mworker_processes auto;\u001B[0m\n",
      "\u001B[34mdaemon off;\u001B[0m\n",
      "\u001B[34mpid /tmp/nginx.pid;\u001B[0m\n",
      "\u001B[34merror_log  /dev/stderr;\u001B[0m\n",
      "\u001B[34mworker_rlimit_nofile 4096;\u001B[0m\n",
      "\u001B[34mevents {\n",
      "  worker_connections 2048;\u001B[0m\n",
      "\u001B[34m}\u001B[0m\n",
      "\u001B[34mhttp {\n",
      "  include /etc/nginx/mime.types;\n",
      "  default_type application/octet-stream;\n",
      "  access_log /dev/stdout combined;\n",
      "  upstream gunicorn {\n",
      "    server unix:/tmp/gunicorn.sock;\n",
      "  }\n",
      "  server {\n",
      "    listen 8080 deferred;\n",
      "    client_max_body_size 0;\n",
      "    keepalive_timeout 3;\n",
      "    location ~ ^/(ping|invocations|execution-parameters) {\n",
      "      proxy_set_header X-Forwarded-For $proxy_add_x_forwarded_for;\n",
      "      proxy_set_header Host $http_host;\n",
      "      proxy_redirect off;\n",
      "      proxy_read_timeout 60s;\n",
      "      proxy_pass http://gunicorn;\n",
      "    }\n",
      "    location / {\n",
      "      return 404 \"{}\";\n",
      "    }\n",
      "  }\u001B[0m\n",
      "\u001B[34m}\u001B[0m\n",
      "\u001B[34m[2024-02-11 10:31:59 +0000] [19] [INFO] Starting gunicorn 19.10.0\u001B[0m\n",
      "\u001B[34m[2024-02-11 10:31:59 +0000] [19] [INFO] Listening at: unix:/tmp/gunicorn.sock (19)\u001B[0m\n",
      "\u001B[34m[2024-02-11 10:31:59 +0000] [19] [INFO] Using worker: gevent\u001B[0m\n",
      "\u001B[34m[2024-02-11 10:31:59 +0000] [26] [INFO] Booting worker with pid: 26\u001B[0m\n",
      "\u001B[34m[2024-02-11 10:31:59 +0000] [27] [INFO] Booting worker with pid: 27\u001B[0m\n",
      "\u001B[34m[2024-02-11 10:31:59 +0000] [28] [INFO] Booting worker with pid: 28\u001B[0m\n",
      "\u001B[34m[2024-02-11 10:31:59 +0000] [29] [INFO] Booting worker with pid: 29\u001B[0m\n",
      "\u001B[34m[2024-02-11:10:32:06:INFO] No GPUs detected (normal if no gpus installed)\u001B[0m\n",
      "\u001B[34m169.254.255.130 - - [11/Feb/2024:10:32:06 +0000] \"GET /ping HTTP/1.1\" 200 0 \"-\" \"Go-http-client/1.1\"\u001B[0m\n",
      "\u001B[34m[2024-02-11:10:32:06:INFO] No GPUs detected (normal if no gpus installed)\u001B[0m\n",
      "\u001B[34m169.254.255.130 - - [11/Feb/2024:10:32:06 +0000] \"GET /execution-parameters HTTP/1.1\" 200 84 \"-\" \"Go-http-client/1.1\"\u001B[0m\n",
      "\n",
      "\u001B[34m[2024-02-11:10:32:07:INFO] No GPUs detected (normal if no gpus installed)\u001B[0m\n",
      "\u001B[34m[2024-02-11:10:32:07:INFO] Determined delimiter of CSV input is ','\u001B[0m\n",
      "\u001B[34m[2024-02-11:10:32:07:INFO] No GPUs detected (normal if no gpus installed)\u001B[0m\n",
      "\u001B[34m[2024-02-11:10:32:07:INFO] Determined delimiter of CSV input is ','\u001B[0m\n",
      "\u001B[34m[2024-02-11:10:32:07:INFO] Determined delimiter of CSV input is ','\u001B[0m\n",
      "\u001B[34m[2024-02-11:10:32:07:INFO] Determined delimiter of CSV input is ','\u001B[0m\n",
      "\u001B[35m[2024-02-11:10:32:07:INFO] No GPUs detected (normal if no gpus installed)\u001B[0m\n",
      "\u001B[35m[2024-02-11:10:32:07:INFO] Determined delimiter of CSV input is ','\u001B[0m\n",
      "\u001B[35m[2024-02-11:10:32:07:INFO] No GPUs detected (normal if no gpus installed)\u001B[0m\n",
      "\u001B[35m[2024-02-11:10:32:07:INFO] Determined delimiter of CSV input is ','\u001B[0m\n",
      "\u001B[35m[2024-02-11:10:32:07:INFO] Determined delimiter of CSV input is ','\u001B[0m\n",
      "\u001B[35m[2024-02-11:10:32:07:INFO] Determined delimiter of CSV input is ','\u001B[0m\n",
      "\u001B[32m2024-02-11T10:32:06.124:[sagemaker logs]: MaxConcurrentTransforms=4, MaxPayloadInMB=6, BatchStrategy=MULTI_RECORD\u001B[0m\n",
      "\u001B[34m169.254.255.130 - - [11/Feb/2024:10:32:12 +0000] \"POST /invocations HTTP/1.1\" 200 653152 \"-\" \"Go-http-client/1.1\"\u001B[0m\n",
      "\u001B[34m169.254.255.130 - - [11/Feb/2024:10:32:12 +0000] \"POST /invocations HTTP/1.1\" 200 653008 \"-\" \"Go-http-client/1.1\"\u001B[0m\n",
      "\u001B[34m169.254.255.130 - - [11/Feb/2024:10:32:13 +0000] \"POST /invocations HTTP/1.1\" 200 653062 \"-\" \"Go-http-client/1.1\"\u001B[0m\n",
      "\u001B[34m[2024-02-11:10:32:13:INFO] Determined delimiter of CSV input is ','\u001B[0m\n",
      "\u001B[34m169.254.255.130 - - [11/Feb/2024:10:32:13 +0000] \"POST /invocations HTTP/1.1\" 200 652983 \"-\" \"Go-http-client/1.1\"\u001B[0m\n",
      "\u001B[35m169.254.255.130 - - [11/Feb/2024:10:32:12 +0000] \"POST /invocations HTTP/1.1\" 200 653152 \"-\" \"Go-http-client/1.1\"\u001B[0m\n",
      "\u001B[35m169.254.255.130 - - [11/Feb/2024:10:32:12 +0000] \"POST /invocations HTTP/1.1\" 200 653008 \"-\" \"Go-http-client/1.1\"\u001B[0m\n",
      "\u001B[35m169.254.255.130 - - [11/Feb/2024:10:32:13 +0000] \"POST /invocations HTTP/1.1\" 200 653062 \"-\" \"Go-http-client/1.1\"\u001B[0m\n",
      "\u001B[35m[2024-02-11:10:32:13:INFO] Determined delimiter of CSV input is ','\u001B[0m\n",
      "\u001B[35m169.254.255.130 - - [11/Feb/2024:10:32:13 +0000] \"POST /invocations HTTP/1.1\" 200 652983 \"-\" \"Go-http-client/1.1\"\u001B[0m\n",
      "\u001B[34m169.254.255.130 - - [11/Feb/2024:10:32:15 +0000] \"POST /invocations HTTP/1.1\" 200 602861 \"-\" \"Go-http-client/1.1\"\u001B[0m\n",
      "\u001B[35m169.254.255.130 - - [11/Feb/2024:10:32:15 +0000] \"POST /invocations HTTP/1.1\" 200 602861 \"-\" \"Go-http-client/1.1\"\u001B[0m\n",
      "\u001B[34m[2024-02-11:10:31:59:INFO] No GPUs detected (normal if no gpus installed)\u001B[0m\n",
      "\u001B[34m[2024-02-11:10:31:59:INFO] No GPUs detected (normal if no gpus installed)\u001B[0m\n",
      "\u001B[34m[2024-02-11:10:31:59:INFO] nginx config: \u001B[0m\n",
      "\u001B[34mworker_processes auto;\u001B[0m\n",
      "\u001B[34mdaemon off;\u001B[0m\n",
      "\u001B[34mpid /tmp/nginx.pid;\u001B[0m\n",
      "\u001B[34merror_log  /dev/stderr;\u001B[0m\n",
      "\u001B[35m[2024-02-11:10:31:59:INFO] No GPUs detected (normal if no gpus installed)\u001B[0m\n",
      "\u001B[35m[2024-02-11:10:31:59:INFO] No GPUs detected (normal if no gpus installed)\u001B[0m\n",
      "\u001B[35m[2024-02-11:10:31:59:INFO] nginx config: \u001B[0m\n",
      "\u001B[35mworker_processes auto;\u001B[0m\n",
      "\u001B[35mdaemon off;\u001B[0m\n",
      "\u001B[35mpid /tmp/nginx.pid;\u001B[0m\n",
      "\u001B[35merror_log  /dev/stderr;\u001B[0m\n",
      "\u001B[34mworker_rlimit_nofile 4096;\u001B[0m\n",
      "\u001B[34mevents {\n",
      "  worker_connections 2048;\u001B[0m\n",
      "\u001B[34m}\u001B[0m\n",
      "\u001B[34mhttp {\n",
      "  include /etc/nginx/mime.types;\n",
      "  default_type application/octet-stream;\n",
      "  access_log /dev/stdout combined;\n",
      "  upstream gunicorn {\n",
      "    server unix:/tmp/gunicorn.sock;\n",
      "  }\n",
      "  server {\n",
      "    listen 8080 deferred;\n",
      "    client_max_body_size 0;\n",
      "    keepalive_timeout 3;\n",
      "    location ~ ^/(ping|invocations|execution-parameters) {\n",
      "      proxy_set_header X-Forwarded-For $proxy_add_x_forwarded_for;\n",
      "      proxy_set_header Host $http_host;\n",
      "      proxy_redirect off;\n",
      "      proxy_read_timeout 60s;\n",
      "      proxy_pass http://gunicorn;\n",
      "    }\n",
      "    location / {\n",
      "      return 404 \"{}\";\n",
      "    }\n",
      "  }\u001B[0m\n",
      "\u001B[34m}\u001B[0m\n",
      "\u001B[34m[2024-02-11 10:31:59 +0000] [19] [INFO] Starting gunicorn 19.10.0\u001B[0m\n",
      "\u001B[34m[2024-02-11 10:31:59 +0000] [19] [INFO] Listening at: unix:/tmp/gunicorn.sock (19)\u001B[0m\n",
      "\u001B[34m[2024-02-11 10:31:59 +0000] [19] [INFO] Using worker: gevent\u001B[0m\n",
      "\u001B[35mworker_rlimit_nofile 4096;\u001B[0m\n",
      "\u001B[35mevents {\n",
      "  worker_connections 2048;\u001B[0m\n",
      "\u001B[35m}\u001B[0m\n",
      "\u001B[35mhttp {\n",
      "  include /etc/nginx/mime.types;\n",
      "  default_type application/octet-stream;\n",
      "  access_log /dev/stdout combined;\n",
      "  upstream gunicorn {\n",
      "    server unix:/tmp/gunicorn.sock;\n",
      "  }\n",
      "  server {\n",
      "    listen 8080 deferred;\n",
      "    client_max_body_size 0;\n",
      "    keepalive_timeout 3;\n",
      "    location ~ ^/(ping|invocations|execution-parameters) {\n",
      "      proxy_set_header X-Forwarded-For $proxy_add_x_forwarded_for;\n",
      "      proxy_set_header Host $http_host;\n",
      "      proxy_redirect off;\n",
      "      proxy_read_timeout 60s;\n",
      "      proxy_pass http://gunicorn;\n",
      "    }\n",
      "    location / {\n",
      "      return 404 \"{}\";\n",
      "    }\n",
      "  }\u001B[0m\n",
      "\u001B[35m}\u001B[0m\n",
      "\u001B[35m[2024-02-11 10:31:59 +0000] [19] [INFO] Starting gunicorn 19.10.0\u001B[0m\n",
      "\u001B[35m[2024-02-11 10:31:59 +0000] [19] [INFO] Listening at: unix:/tmp/gunicorn.sock (19)\u001B[0m\n",
      "\u001B[35m[2024-02-11 10:31:59 +0000] [19] [INFO] Using worker: gevent\u001B[0m\n",
      "\u001B[34m[2024-02-11 10:31:59 +0000] [26] [INFO] Booting worker with pid: 26\u001B[0m\n",
      "\u001B[34m[2024-02-11 10:31:59 +0000] [27] [INFO] Booting worker with pid: 27\u001B[0m\n",
      "\u001B[34m[2024-02-11 10:31:59 +0000] [28] [INFO] Booting worker with pid: 28\u001B[0m\n",
      "\u001B[34m[2024-02-11 10:31:59 +0000] [29] [INFO] Booting worker with pid: 29\u001B[0m\n",
      "\u001B[35m[2024-02-11 10:31:59 +0000] [26] [INFO] Booting worker with pid: 26\u001B[0m\n",
      "\u001B[35m[2024-02-11 10:31:59 +0000] [27] [INFO] Booting worker with pid: 27\u001B[0m\n",
      "\u001B[35m[2024-02-11 10:31:59 +0000] [28] [INFO] Booting worker with pid: 28\u001B[0m\n",
      "\u001B[35m[2024-02-11 10:31:59 +0000] [29] [INFO] Booting worker with pid: 29\u001B[0m\n",
      "\u001B[34m[2024-02-11:10:32:06:INFO] No GPUs detected (normal if no gpus installed)\u001B[0m\n",
      "\u001B[34m169.254.255.130 - - [11/Feb/2024:10:32:06 +0000] \"GET /ping HTTP/1.1\" 200 0 \"-\" \"Go-http-client/1.1\"\u001B[0m\n",
      "\u001B[34m[2024-02-11:10:32:06:INFO] No GPUs detected (normal if no gpus installed)\u001B[0m\n",
      "\u001B[34m169.254.255.130 - - [11/Feb/2024:10:32:06 +0000] \"GET /execution-parameters HTTP/1.1\" 200 84 \"-\" \"Go-http-client/1.1\"\u001B[0m\n",
      "\u001B[35m[2024-02-11:10:32:06:INFO] No GPUs detected (normal if no gpus installed)\u001B[0m\n",
      "\u001B[35m169.254.255.130 - - [11/Feb/2024:10:32:06 +0000] \"GET /ping HTTP/1.1\" 200 0 \"-\" \"Go-http-client/1.1\"\u001B[0m\n",
      "\u001B[35m[2024-02-11:10:32:06:INFO] No GPUs detected (normal if no gpus installed)\u001B[0m\n",
      "\u001B[35m169.254.255.130 - - [11/Feb/2024:10:32:06 +0000] \"GET /execution-parameters HTTP/1.1\" 200 84 \"-\" \"Go-http-client/1.1\"\u001B[0m\n",
      "\u001B[34m[2024-02-11:10:32:07:INFO] No GPUs detected (normal if no gpus installed)\u001B[0m\n",
      "\u001B[34m[2024-02-11:10:32:07:INFO] Determined delimiter of CSV input is ','\u001B[0m\n",
      "\u001B[34m[2024-02-11:10:32:07:INFO] No GPUs detected (normal if no gpus installed)\u001B[0m\n",
      "\u001B[34m[2024-02-11:10:32:07:INFO] Determined delimiter of CSV input is ','\u001B[0m\n",
      "\u001B[34m[2024-02-11:10:32:07:INFO] Determined delimiter of CSV input is ','\u001B[0m\n",
      "\u001B[34m[2024-02-11:10:32:07:INFO] Determined delimiter of CSV input is ','\u001B[0m\n",
      "\u001B[35m[2024-02-11:10:32:07:INFO] No GPUs detected (normal if no gpus installed)\u001B[0m\n",
      "\u001B[35m[2024-02-11:10:32:07:INFO] Determined delimiter of CSV input is ','\u001B[0m\n",
      "\u001B[35m[2024-02-11:10:32:07:INFO] No GPUs detected (normal if no gpus installed)\u001B[0m\n",
      "\u001B[35m[2024-02-11:10:32:07:INFO] Determined delimiter of CSV input is ','\u001B[0m\n",
      "\u001B[35m[2024-02-11:10:32:07:INFO] Determined delimiter of CSV input is ','\u001B[0m\n",
      "\u001B[35m[2024-02-11:10:32:07:INFO] Determined delimiter of CSV input is ','\u001B[0m\n",
      "\u001B[32m2024-02-11T10:32:06.124:[sagemaker logs]: MaxConcurrentTransforms=4, MaxPayloadInMB=6, BatchStrategy=MULTI_RECORD\u001B[0m\n",
      "\u001B[34m169.254.255.130 - - [11/Feb/2024:10:32:12 +0000] \"POST /invocations HTTP/1.1\" 200 653152 \"-\" \"Go-http-client/1.1\"\u001B[0m\n",
      "\u001B[34m169.254.255.130 - - [11/Feb/2024:10:32:12 +0000] \"POST /invocations HTTP/1.1\" 200 653008 \"-\" \"Go-http-client/1.1\"\u001B[0m\n",
      "\u001B[34m169.254.255.130 - - [11/Feb/2024:10:32:13 +0000] \"POST /invocations HTTP/1.1\" 200 653062 \"-\" \"Go-http-client/1.1\"\u001B[0m\n",
      "\u001B[34m[2024-02-11:10:32:13:INFO] Determined delimiter of CSV input is ','\u001B[0m\n",
      "\u001B[34m169.254.255.130 - - [11/Feb/2024:10:32:13 +0000] \"POST /invocations HTTP/1.1\" 200 652983 \"-\" \"Go-http-client/1.1\"\u001B[0m\n",
      "\u001B[35m169.254.255.130 - - [11/Feb/2024:10:32:12 +0000] \"POST /invocations HTTP/1.1\" 200 653152 \"-\" \"Go-http-client/1.1\"\u001B[0m\n",
      "\u001B[35m169.254.255.130 - - [11/Feb/2024:10:32:12 +0000] \"POST /invocations HTTP/1.1\" 200 653008 \"-\" \"Go-http-client/1.1\"\u001B[0m\n",
      "\u001B[35m169.254.255.130 - - [11/Feb/2024:10:32:13 +0000] \"POST /invocations HTTP/1.1\" 200 653062 \"-\" \"Go-http-client/1.1\"\u001B[0m\n",
      "\u001B[35m[2024-02-11:10:32:13:INFO] Determined delimiter of CSV input is ','\u001B[0m\n",
      "\u001B[35m169.254.255.130 - - [11/Feb/2024:10:32:13 +0000] \"POST /invocations HTTP/1.1\" 200 652983 \"-\" \"Go-http-client/1.1\"\u001B[0m\n",
      "\u001B[34m169.254.255.130 - - [11/Feb/2024:10:32:15 +0000] \"POST /invocations HTTP/1.1\" 200 602861 \"-\" \"Go-http-client/1.1\"\u001B[0m\n",
      "\u001B[35m169.254.255.130 - - [11/Feb/2024:10:32:15 +0000] \"POST /invocations HTTP/1.1\" 200 602861 \"-\" \"Go-http-client/1.1\"\u001B[0m\n"
     ]
    }
   ],
   "source": [
    "batch_output = \"s3://{}/{}/batch-out/\".format(bucket,prefix)\n",
    "batch_input = \"s3://{}/{}/batch-in/{}\".format(bucket,prefix,batch_X_file)\n",
    "\n",
    "xgb_transformer = best_estimator.transformer(instance_count=1,\n",
    "                                       instance_type=instance_type,\n",
    "                                       strategy='MultiRecord',\n",
    "                                       assemble_with='Line',\n",
    "                                       output_path=batch_output)\n",
    "\n",
    "xgb_transformer.transform(data=batch_input,\n",
    "                         data_type='S3Prefix',\n",
    "                         content_type='text/csv',\n",
    "                         split_type='Line')\n",
    "xgb_transformer.wait()"
   ]
  },
  {
   "cell_type": "code",
   "execution_count": 99,
   "metadata": {
    "tags": []
   },
   "outputs": [],
   "source": [
    "s3 = boto3.client('s3')\n",
    "obj = s3.get_object(Bucket=bucket, Key=\"{}/batch-out/{}\".format(prefix,'batch-in.csv.out'))\n",
    "target_predicted = pd.read_csv(io.BytesIO(obj['Body'].read()),sep=',',names=['target'])\n",
    "test_labels = test.iloc[:,0]"
   ]
  },
  {
   "cell_type": "markdown",
   "metadata": {},
   "source": [
    "Get the predicted target and test labels."
   ]
  },
  {
   "cell_type": "code",
   "execution_count": 100,
   "metadata": {
    "tags": []
   },
   "outputs": [
    {
     "name": "stdout",
     "output_type": "stream",
     "text": [
      "     target\n",
      "0  0.282738\n",
      "1  0.052529\n",
      "2  0.513019\n",
      "3  0.035689\n",
      "4  0.657473\n",
      "   target\n",
      "0       0\n",
      "1       0\n",
      "2       0\n",
      "3       0\n",
      "4       1\n"
     ]
    }
   ],
   "source": [
    "print(target_predicted.head())\n",
    "\n",
    "def binary_convert(x):\n",
    "    threshold = 0.55\n",
    "    if x > threshold:\n",
    "        return 1\n",
    "    else:\n",
    "        return 0\n",
    "\n",
    "target_predicted['target'] = target_predicted['target'].apply(binary_convert)\n",
    "\n",
    "test_labels = test.iloc[:,0]\n",
    "\n",
    "print(target_predicted.head())"
   ]
  },
  {
   "cell_type": "markdown",
   "metadata": {},
   "source": [
    "Plot a confusion matrix for your `target_predicted` and `test_labels`.\n",
    "\n",
    "\n",
    "codigo"
   ]
  },
  {
   "cell_type": "code",
   "execution_count": 101,
   "metadata": {
    "tags": []
   },
   "outputs": [
    {
     "data": {
      "image/png": "[encoded data removed]",
      "text/plain": [
       "<Figure size 640x480 with 1 Axes>"
      ]
     },
     "metadata": {},
     "output_type": "display_data"
    }
   ],
   "source": [
    "plot_confusion_matrix(test_labels, target_predicted)"
   ]
  },
  {
   "cell_type": "markdown",
   "metadata": {},
   "source": [
    "**Question**: Try different hyperparameters and hyperparameter ranges. Do these changes improve the model?"
   ]
  },
  {
   "cell_type": "markdown",
   "metadata": {},
   "source": [
    "## Conclusion\n",
    "\n",
    "You have now iterated through training and evaluating your model at least a couple of times. It's time to wrap up this project and reflect on:\n",
    "\n",
    "- What you learned \n",
    "- What types of steps you might take moving forward (assuming that you had more time)\n",
    "\n",
    "Use the following cell to answer some of these questions and other relevant questions:\n",
    "\n",
    "1. Does your model performance meet your business goal? If not, what are some things you'd like to do differently if you had more time for tuning?\n",
    "2. How much did your model improve as you made changes to your dataset, features, and hyperparameters? What types of techniques did you employ throughout this project, and which yielded the greatest improvements in your model?\n",
    "3. What were some of the biggest challenges that you encountered throughout this project?\n",
    "4. Do you have any unanswered questions about aspects of the pipeline that didn't make sense to you?\n",
    "5. What were the three most important things that you learned about machine learning while working on this project?\n",
    "\n",
    "#### <span style=\"color: blue;\">Project presentation: Make sure that you also summarize your answers to these questions in your project presentation. Combine all your notes for your project presentation and prepare to present your findings to the class.</span>"
   ]
  },
  {
   "cell_type": "code",
   "execution_count": null,
   "metadata": {},
   "outputs": [],
   "source": [
    "# Write your answers here"
   ]
  }
 ],
 "metadata": {
  "kernelspec": {
   "name": "python3",
   "language": "python",
   "display_name": "Python 3 (ipykernel)"
  },
  "language_info": {
   "codemirror_mode": {
    "name": "ipython",
    "version": 3
   },
   "file_extension": ".py",
   "mimetype": "text/x-python",
   "name": "python",
   "nbconvert_exporter": "python",
   "pygments_lexer": "ipython3",
   "version": "3.10.13"
  }
 },
 "nbformat": 4,
 "nbformat_minor": 4
}
