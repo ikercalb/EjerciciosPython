{
 "cells": [
  {
   "cell_type": "code",
   "execution_count": 122,
   "id": "initial_id",
   "metadata": {
    "collapsed": true,
    "ExecuteTime": {
     "end_time": "2024-02-26T09:42:59.639727737Z",
     "start_time": "2024-02-26T09:42:59.571676495Z"
    }
   },
   "outputs": [],
   "source": [
    "import pandas as pd"
   ]
  },
  {
   "cell_type": "code",
   "execution_count": 123,
   "outputs": [],
   "source": [
    "altura_cm = [178,165,155,181,176,189,190,186]"
   ],
   "metadata": {
    "collapsed": false,
    "ExecuteTime": {
     "end_time": "2024-02-26T09:42:59.642235424Z",
     "start_time": "2024-02-26T09:42:59.619590017Z"
    }
   },
   "id": "470b2891baf480af"
  },
  {
   "cell_type": "code",
   "execution_count": 124,
   "outputs": [
    {
     "data": {
      "text/plain": "0    178\n1    165\n2    155\n3    181\n4    176\n5    189\n6    190\n7    186\ndtype: int64"
     },
     "execution_count": 124,
     "metadata": {},
     "output_type": "execute_result"
    }
   ],
   "source": [
    "#Crear una serie llamada altura\n",
    "altura = pd.Series(altura_cm)\n",
    "altura"
   ],
   "metadata": {
    "collapsed": false,
    "ExecuteTime": {
     "end_time": "2024-02-26T09:42:59.642596526Z",
     "start_time": "2024-02-26T09:42:59.619706368Z"
    }
   },
   "id": "3900d69a6f0afcd9"
  },
  {
   "cell_type": "code",
   "execution_count": 125,
   "outputs": [
    {
     "data": {
      "text/plain": "0    178\n1    165\n2    155\n3    181\ndtype: int64"
     },
     "execution_count": 125,
     "metadata": {},
     "output_type": "execute_result"
    }
   ],
   "source": [
    "#sacar los x primeros valores \n",
    "altura.head(4)"
   ],
   "metadata": {
    "collapsed": false,
    "ExecuteTime": {
     "end_time": "2024-02-26T09:42:59.642846921Z",
     "start_time": "2024-02-26T09:42:59.619787848Z"
    }
   },
   "id": "78324ac310345f1b"
  },
  {
   "cell_type": "code",
   "execution_count": 126,
   "outputs": [
    {
     "data": {
      "text/plain": "2    155\n1    165\n4    176\n0    178\n3    181\n7    186\n5    189\n6    190\ndtype: int64"
     },
     "execution_count": 126,
     "metadata": {},
     "output_type": "execute_result"
    }
   ],
   "source": [
    "#ordenar los valores \n",
    "altura.sort_values()"
   ],
   "metadata": {
    "collapsed": false,
    "ExecuteTime": {
     "end_time": "2024-02-26T09:42:59.643050249Z",
     "start_time": "2024-02-26T09:42:59.619896488Z"
    }
   },
   "id": "c390c7d78af3b05e"
  },
  {
   "cell_type": "code",
   "execution_count": 127,
   "outputs": [
    {
     "data": {
      "text/plain": "155"
     },
     "execution_count": 127,
     "metadata": {},
     "output_type": "execute_result"
    }
   ],
   "source": [
    "#obtener el valor minimo\n",
    "altura.min()"
   ],
   "metadata": {
    "collapsed": false,
    "ExecuteTime": {
     "end_time": "2024-02-26T09:42:59.643274466Z",
     "start_time": "2024-02-26T09:42:59.619955445Z"
    }
   },
   "id": "1b2ab9637185e82a"
  },
  {
   "cell_type": "code",
   "execution_count": 128,
   "outputs": [
    {
     "data": {
      "text/plain": "190"
     },
     "execution_count": 128,
     "metadata": {},
     "output_type": "execute_result"
    }
   ],
   "source": [
    "#obtener el maximo\n",
    "altura.max()"
   ],
   "metadata": {
    "collapsed": false,
    "ExecuteTime": {
     "end_time": "2024-02-26T09:42:59.643459208Z",
     "start_time": "2024-02-26T09:42:59.620090540Z"
    }
   },
   "id": "29e915c13b9c3f8d"
  },
  {
   "cell_type": "code",
   "execution_count": 129,
   "outputs": [
    {
     "data": {
      "text/plain": "177.5"
     },
     "execution_count": 129,
     "metadata": {},
     "output_type": "execute_result"
    }
   ],
   "source": [
    "#obtener el promedio\n",
    "altura.mean()"
   ],
   "metadata": {
    "collapsed": false,
    "ExecuteTime": {
     "end_time": "2024-02-26T09:42:59.643641472Z",
     "start_time": "2024-02-26T09:42:59.620155850Z"
    }
   },
   "id": "f3201f754f70f71e"
  },
  {
   "cell_type": "code",
   "execution_count": 130,
   "outputs": [
    {
     "data": {
      "text/plain": "1420"
     },
     "execution_count": 130,
     "metadata": {},
     "output_type": "execute_result"
    }
   ],
   "source": [
    "#sumar los valores de altura\n",
    "altura.sum()"
   ],
   "metadata": {
    "collapsed": false,
    "ExecuteTime": {
     "end_time": "2024-02-26T09:42:59.643828993Z",
     "start_time": "2024-02-26T09:42:59.620209777Z"
    }
   },
   "id": "1b47ef3d2429025"
  },
  {
   "cell_type": "code",
   "execution_count": 131,
   "outputs": [
    {
     "data": {
      "text/plain": "count      8.000000\nmean     177.500000\nstd       12.177262\nmin      155.000000\n25%      173.250000\n50%      179.500000\n75%      186.750000\nmax      190.000000\ndtype: float64"
     },
     "execution_count": 131,
     "metadata": {},
     "output_type": "execute_result"
    }
   ],
   "source": [
    "#obtener la descripcion \n",
    "altura.describe()"
   ],
   "metadata": {
    "collapsed": false,
    "ExecuteTime": {
     "end_time": "2024-02-26T09:42:59.644048817Z",
     "start_time": "2024-02-26T09:42:59.620262252Z"
    }
   },
   "id": "c5f1478938f07f73"
  },
  {
   "cell_type": "code",
   "execution_count": 132,
   "outputs": [
    {
     "data": {
      "text/plain": "0    178\n3    181\n4    176\n5    189\n6    190\n7    186\ndtype: int64"
     },
     "execution_count": 132,
     "metadata": {},
     "output_type": "execute_result"
    }
   ],
   "source": [
    "#obtener la altura mayor a 170\n",
    "#altura[filtro]\n",
    "altura[altura>170]"
   ],
   "metadata": {
    "collapsed": false,
    "ExecuteTime": {
     "end_time": "2024-02-26T09:42:59.644243814Z",
     "start_time": "2024-02-26T09:42:59.626662618Z"
    }
   },
   "id": "4ab2e15afa50222c"
  },
  {
   "cell_type": "code",
   "execution_count": 133,
   "outputs": [
    {
     "data": {
      "text/plain": "     nombre  edad  altura  peso\n0     Erika    23     173  83.2\n1     Elias    24     194  65.4\n2    Miguel    21     165  71.1\n3     Karla    25     154  67.9\n4  Gabriela    22     176  71.8",
      "text/html": "<div>\n<style scoped>\n    .dataframe tbody tr th:only-of-type {\n        vertical-align: middle;\n    }\n\n    .dataframe tbody tr th {\n        vertical-align: top;\n    }\n\n    .dataframe thead th {\n        text-align: right;\n    }\n</style>\n<table border=\"1\" class=\"dataframe\">\n  <thead>\n    <tr style=\"text-align: right;\">\n      <th></th>\n      <th>nombre</th>\n      <th>edad</th>\n      <th>altura</th>\n      <th>peso</th>\n    </tr>\n  </thead>\n  <tbody>\n    <tr>\n      <th>0</th>\n      <td>Erika</td>\n      <td>23</td>\n      <td>173</td>\n      <td>83.2</td>\n    </tr>\n    <tr>\n      <th>1</th>\n      <td>Elias</td>\n      <td>24</td>\n      <td>194</td>\n      <td>65.4</td>\n    </tr>\n    <tr>\n      <th>2</th>\n      <td>Miguel</td>\n      <td>21</td>\n      <td>165</td>\n      <td>71.1</td>\n    </tr>\n    <tr>\n      <th>3</th>\n      <td>Karla</td>\n      <td>25</td>\n      <td>154</td>\n      <td>67.9</td>\n    </tr>\n    <tr>\n      <th>4</th>\n      <td>Gabriela</td>\n      <td>22</td>\n      <td>176</td>\n      <td>71.8</td>\n    </tr>\n  </tbody>\n</table>\n</div>"
     },
     "execution_count": 133,
     "metadata": {},
     "output_type": "execute_result"
    }
   ],
   "source": [
    "#dataframe\n",
    "datos = {\n",
    "    \"nombre\": [\"Erika\",\"Elias\",\"Miguel\",\"Karla\",\"Gabriela\"],\n",
    "    \"edad\": [23,24,21,25,22],\n",
    "    \"altura\": [173,194,165,154,176],\n",
    "    \"peso\": [83.2,65.4,71.1,67.9,71.8]    \n",
    "}\n",
    "\n",
    "amigos = pd.DataFrame(datos)\n",
    "amigos"
   ],
   "metadata": {
    "collapsed": false,
    "ExecuteTime": {
     "end_time": "2024-02-26T09:42:59.707129066Z",
     "start_time": "2024-02-26T09:42:59.635271105Z"
    }
   },
   "id": "89588a4cf6987005"
  },
  {
   "cell_type": "code",
   "execution_count": 134,
   "outputs": [
    {
     "data": {
      "text/plain": "            edad      altura       peso\ncount   5.000000    5.000000   5.000000\nmean   23.000000  172.400000  71.880000\nstd     1.581139   14.774979   6.829861\nmin    21.000000  154.000000  65.400000\n25%    22.000000  165.000000  67.900000\n50%    23.000000  173.000000  71.100000\n75%    24.000000  176.000000  71.800000\nmax    25.000000  194.000000  83.200000",
      "text/html": "<div>\n<style scoped>\n    .dataframe tbody tr th:only-of-type {\n        vertical-align: middle;\n    }\n\n    .dataframe tbody tr th {\n        vertical-align: top;\n    }\n\n    .dataframe thead th {\n        text-align: right;\n    }\n</style>\n<table border=\"1\" class=\"dataframe\">\n  <thead>\n    <tr style=\"text-align: right;\">\n      <th></th>\n      <th>edad</th>\n      <th>altura</th>\n      <th>peso</th>\n    </tr>\n  </thead>\n  <tbody>\n    <tr>\n      <th>count</th>\n      <td>5.000000</td>\n      <td>5.000000</td>\n      <td>5.000000</td>\n    </tr>\n    <tr>\n      <th>mean</th>\n      <td>23.000000</td>\n      <td>172.400000</td>\n      <td>71.880000</td>\n    </tr>\n    <tr>\n      <th>std</th>\n      <td>1.581139</td>\n      <td>14.774979</td>\n      <td>6.829861</td>\n    </tr>\n    <tr>\n      <th>min</th>\n      <td>21.000000</td>\n      <td>154.000000</td>\n      <td>65.400000</td>\n    </tr>\n    <tr>\n      <th>25%</th>\n      <td>22.000000</td>\n      <td>165.000000</td>\n      <td>67.900000</td>\n    </tr>\n    <tr>\n      <th>50%</th>\n      <td>23.000000</td>\n      <td>173.000000</td>\n      <td>71.100000</td>\n    </tr>\n    <tr>\n      <th>75%</th>\n      <td>24.000000</td>\n      <td>176.000000</td>\n      <td>71.800000</td>\n    </tr>\n    <tr>\n      <th>max</th>\n      <td>25.000000</td>\n      <td>194.000000</td>\n      <td>83.200000</td>\n    </tr>\n  </tbody>\n</table>\n</div>"
     },
     "execution_count": 134,
     "metadata": {},
     "output_type": "execute_result"
    }
   ],
   "source": [
    "#obtener la descripcion \n",
    "amigos.describe()"
   ],
   "metadata": {
    "collapsed": false,
    "ExecuteTime": {
     "end_time": "2024-02-26T09:42:59.707475183Z",
     "start_time": "2024-02-26T09:42:59.675643322Z"
    }
   },
   "id": "64d90db92bd8f746"
  },
  {
   "cell_type": "code",
   "execution_count": 135,
   "outputs": [
    {
     "data": {
      "text/plain": "     nombre  edad  altura  peso\n2    Miguel    21     165  71.1\n4  Gabriela    22     176  71.8",
      "text/html": "<div>\n<style scoped>\n    .dataframe tbody tr th:only-of-type {\n        vertical-align: middle;\n    }\n\n    .dataframe tbody tr th {\n        vertical-align: top;\n    }\n\n    .dataframe thead th {\n        text-align: right;\n    }\n</style>\n<table border=\"1\" class=\"dataframe\">\n  <thead>\n    <tr style=\"text-align: right;\">\n      <th></th>\n      <th>nombre</th>\n      <th>edad</th>\n      <th>altura</th>\n      <th>peso</th>\n    </tr>\n  </thead>\n  <tbody>\n    <tr>\n      <th>2</th>\n      <td>Miguel</td>\n      <td>21</td>\n      <td>165</td>\n      <td>71.1</td>\n    </tr>\n    <tr>\n      <th>4</th>\n      <td>Gabriela</td>\n      <td>22</td>\n      <td>176</td>\n      <td>71.8</td>\n    </tr>\n  </tbody>\n</table>\n</div>"
     },
     "execution_count": 135,
     "metadata": {},
     "output_type": "execute_result"
    }
   ],
   "source": [
    "#obtener los datos de los amigos con una edad menos a 23\n",
    "amigos[amigos.edad<23]"
   ],
   "metadata": {
    "collapsed": false,
    "ExecuteTime": {
     "end_time": "2024-02-26T09:42:59.707705536Z",
     "start_time": "2024-02-26T09:42:59.675850896Z"
    }
   },
   "id": "64e5af101e9d6950"
  },
  {
   "cell_type": "code",
   "execution_count": 136,
   "outputs": [
    {
     "data": {
      "text/plain": "2    21\n4    22\nName: edad, dtype: int64"
     },
     "execution_count": 136,
     "metadata": {},
     "output_type": "execute_result"
    }
   ],
   "source": [
    "#se puede aplicar otros atribs como .edad para que solo me de la edad o un describe de estos elementos\n",
    "amigos[amigos.edad<23].edad"
   ],
   "metadata": {
    "collapsed": false,
    "ExecuteTime": {
     "end_time": "2024-02-26T09:42:59.707845851Z",
     "start_time": "2024-02-26T09:42:59.675951503Z"
    }
   },
   "id": "b3d2d4e1859b5298"
  },
  {
   "cell_type": "code",
   "execution_count": 137,
   "outputs": [
    {
     "data": {
      "text/plain": "     Nombre Apellido Pat  Apellido Mat  Edad  Altura  Peso\nId                                                        \n1    Sergio      Negrete         Terán    18     163  90.9\n2      Jean       Vidrio        Piñeda    23     166  61.3\n3     María        Feria         Núñez    22     185  77.1\n4   William   Valdovinos         López    22     155  84.6\n5   Bastian   Richardson  De La Fuente    17     187  87.0",
      "text/html": "<div>\n<style scoped>\n    .dataframe tbody tr th:only-of-type {\n        vertical-align: middle;\n    }\n\n    .dataframe tbody tr th {\n        vertical-align: top;\n    }\n\n    .dataframe thead th {\n        text-align: right;\n    }\n</style>\n<table border=\"1\" class=\"dataframe\">\n  <thead>\n    <tr style=\"text-align: right;\">\n      <th></th>\n      <th>Nombre</th>\n      <th>Apellido Pat</th>\n      <th>Apellido Mat</th>\n      <th>Edad</th>\n      <th>Altura</th>\n      <th>Peso</th>\n    </tr>\n    <tr>\n      <th>Id</th>\n      <th></th>\n      <th></th>\n      <th></th>\n      <th></th>\n      <th></th>\n      <th></th>\n    </tr>\n  </thead>\n  <tbody>\n    <tr>\n      <th>1</th>\n      <td>Sergio</td>\n      <td>Negrete</td>\n      <td>Terán</td>\n      <td>18</td>\n      <td>163</td>\n      <td>90.9</td>\n    </tr>\n    <tr>\n      <th>2</th>\n      <td>Jean</td>\n      <td>Vidrio</td>\n      <td>Piñeda</td>\n      <td>23</td>\n      <td>166</td>\n      <td>61.3</td>\n    </tr>\n    <tr>\n      <th>3</th>\n      <td>María</td>\n      <td>Feria</td>\n      <td>Núñez</td>\n      <td>22</td>\n      <td>185</td>\n      <td>77.1</td>\n    </tr>\n    <tr>\n      <th>4</th>\n      <td>William</td>\n      <td>Valdovinos</td>\n      <td>López</td>\n      <td>22</td>\n      <td>155</td>\n      <td>84.6</td>\n    </tr>\n    <tr>\n      <th>5</th>\n      <td>Bastian</td>\n      <td>Richardson</td>\n      <td>De La Fuente</td>\n      <td>17</td>\n      <td>187</td>\n      <td>87.0</td>\n    </tr>\n  </tbody>\n</table>\n</div>"
     },
     "execution_count": 137,
     "metadata": {},
     "output_type": "execute_result"
    }
   ],
   "source": [
    "#importar desde un archivo los datos para el dataframe\n",
    "amigos = pd.read_excel(\"./amigos.xlsx\",index_col=\"Id\")\n",
    "amigos.head()"
   ],
   "metadata": {
    "collapsed": false,
    "ExecuteTime": {
     "end_time": "2024-02-26T09:42:59.728459142Z",
     "start_time": "2024-02-26T09:42:59.676105523Z"
    }
   },
   "id": "f425325c6e85aa04"
  },
  {
   "cell_type": "code",
   "execution_count": 138,
   "outputs": [
    {
     "data": {
      "text/plain": "    Nombre Apellido Pat Apellido Mat  Edad  Altura  Peso\nId                                                      \n1   Sergio      Negrete        Terán    18     163  90.9",
      "text/html": "<div>\n<style scoped>\n    .dataframe tbody tr th:only-of-type {\n        vertical-align: middle;\n    }\n\n    .dataframe tbody tr th {\n        vertical-align: top;\n    }\n\n    .dataframe thead th {\n        text-align: right;\n    }\n</style>\n<table border=\"1\" class=\"dataframe\">\n  <thead>\n    <tr style=\"text-align: right;\">\n      <th></th>\n      <th>Nombre</th>\n      <th>Apellido Pat</th>\n      <th>Apellido Mat</th>\n      <th>Edad</th>\n      <th>Altura</th>\n      <th>Peso</th>\n    </tr>\n    <tr>\n      <th>Id</th>\n      <th></th>\n      <th></th>\n      <th></th>\n      <th></th>\n      <th></th>\n      <th></th>\n    </tr>\n  </thead>\n  <tbody>\n    <tr>\n      <th>1</th>\n      <td>Sergio</td>\n      <td>Negrete</td>\n      <td>Terán</td>\n      <td>18</td>\n      <td>163</td>\n      <td>90.9</td>\n    </tr>\n  </tbody>\n</table>\n</div>"
     },
     "execution_count": 138,
     "metadata": {},
     "output_type": "execute_result"
    }
   ],
   "source": [
    "#obtener los datos de los amigos con una edad menor a 21\n",
    "amigos[(amigos.Edad < 21) & (amigos.Nombre == 'Sergio')]"
   ],
   "metadata": {
    "collapsed": false,
    "ExecuteTime": {
     "end_time": "2024-02-26T09:42:59.728817324Z",
     "start_time": "2024-02-26T09:42:59.723534975Z"
    }
   },
   "id": "c3a7af426a21e285"
  },
  {
   "cell_type": "code",
   "execution_count": 139,
   "outputs": [
    {
     "data": {
      "text/plain": "   Num Control              Carrera  Semestre Inscripción  Id Persona\n0     SeNeTe01  Lic. en nutriología         7  2015-05-20           1\n1     JeViPi02         Ing. química         8  2015-05-02           2\n2     MaFeNú03      Lic. en derecho         6  2015-05-09           3\n3     WiVaLó04     Ing. en sistemas         2  2016-12-03           4\n4     BaRiDe05     Ing. mecatrónica        10  2018-12-01           5\n..         ...                  ...       ...         ...         ...\n95    StPeRu96  Lic. en nutriología         2  2015-12-15          96\n96    MaRaRí97      Lic. en derecho         7  2016-12-28          97\n97    NiBrPa98     Ing. mecatrónica         8  2015-05-14          98\n98    LiÁvSa99  Lic. en nutriología         4  2016-05-28          99\n99   MoNaBr100     Ing. mecatrónica         2  2018-05-11         100\n\n[100 rows x 5 columns]",
      "text/html": "<div>\n<style scoped>\n    .dataframe tbody tr th:only-of-type {\n        vertical-align: middle;\n    }\n\n    .dataframe tbody tr th {\n        vertical-align: top;\n    }\n\n    .dataframe thead th {\n        text-align: right;\n    }\n</style>\n<table border=\"1\" class=\"dataframe\">\n  <thead>\n    <tr style=\"text-align: right;\">\n      <th></th>\n      <th>Num Control</th>\n      <th>Carrera</th>\n      <th>Semestre</th>\n      <th>Inscripción</th>\n      <th>Id Persona</th>\n    </tr>\n  </thead>\n  <tbody>\n    <tr>\n      <th>0</th>\n      <td>SeNeTe01</td>\n      <td>Lic. en nutriología</td>\n      <td>7</td>\n      <td>2015-05-20</td>\n      <td>1</td>\n    </tr>\n    <tr>\n      <th>1</th>\n      <td>JeViPi02</td>\n      <td>Ing. química</td>\n      <td>8</td>\n      <td>2015-05-02</td>\n      <td>2</td>\n    </tr>\n    <tr>\n      <th>2</th>\n      <td>MaFeNú03</td>\n      <td>Lic. en derecho</td>\n      <td>6</td>\n      <td>2015-05-09</td>\n      <td>3</td>\n    </tr>\n    <tr>\n      <th>3</th>\n      <td>WiVaLó04</td>\n      <td>Ing. en sistemas</td>\n      <td>2</td>\n      <td>2016-12-03</td>\n      <td>4</td>\n    </tr>\n    <tr>\n      <th>4</th>\n      <td>BaRiDe05</td>\n      <td>Ing. mecatrónica</td>\n      <td>10</td>\n      <td>2018-12-01</td>\n      <td>5</td>\n    </tr>\n    <tr>\n      <th>...</th>\n      <td>...</td>\n      <td>...</td>\n      <td>...</td>\n      <td>...</td>\n      <td>...</td>\n    </tr>\n    <tr>\n      <th>95</th>\n      <td>StPeRu96</td>\n      <td>Lic. en nutriología</td>\n      <td>2</td>\n      <td>2015-12-15</td>\n      <td>96</td>\n    </tr>\n    <tr>\n      <th>96</th>\n      <td>MaRaRí97</td>\n      <td>Lic. en derecho</td>\n      <td>7</td>\n      <td>2016-12-28</td>\n      <td>97</td>\n    </tr>\n    <tr>\n      <th>97</th>\n      <td>NiBrPa98</td>\n      <td>Ing. mecatrónica</td>\n      <td>8</td>\n      <td>2015-05-14</td>\n      <td>98</td>\n    </tr>\n    <tr>\n      <th>98</th>\n      <td>LiÁvSa99</td>\n      <td>Lic. en nutriología</td>\n      <td>4</td>\n      <td>2016-05-28</td>\n      <td>99</td>\n    </tr>\n    <tr>\n      <th>99</th>\n      <td>MoNaBr100</td>\n      <td>Ing. mecatrónica</td>\n      <td>2</td>\n      <td>2018-05-11</td>\n      <td>100</td>\n    </tr>\n  </tbody>\n</table>\n<p>100 rows × 5 columns</p>\n</div>"
     },
     "execution_count": 139,
     "metadata": {},
     "output_type": "execute_result"
    }
   ],
   "source": [
    "universidad = pd.read_excel(\"./universidad.xlsx\")\n",
    "universidad"
   ],
   "metadata": {
    "collapsed": false,
    "ExecuteTime": {
     "end_time": "2024-02-26T09:42:59.729035172Z",
     "start_time": "2024-02-26T09:42:59.723650792Z"
    }
   },
   "id": "ed150a00bb79f897"
  },
  {
   "cell_type": "code",
   "execution_count": 144,
   "outputs": [
    {
     "data": {
      "text/plain": "       Nombre Apellido Pat  Apellido Mat  Edad  Altura  Peso Num Control  \\\n0      Sergio      Negrete         Terán    18     163  90.9    SeNeTe01   \n1        Jean       Vidrio        Piñeda    23     166  61.3    JeViPi02   \n2       María        Feria         Núñez    22     185  77.1    MaFeNú03   \n3     William   Valdovinos         López    22     155  84.6    WiVaLó04   \n4     Bastian   Richardson  De La Fuente    17     187  87.0    BaRiDe05   \n..        ...          ...           ...   ...     ...   ...         ...   \n95  Stephanie         Peña         Rubio    20     188  52.9    StPeRu96   \n96     Marvin        Ramón          Ríos    24     167  98.3    MaRaRí97   \n97    Nicolás        Bravo       Pascual    19     171  76.7    NiBrPa98   \n98       Lily       Ávalos         Salín    19     168  58.6    LiÁvSa99   \n99     Moises      Navarro       Briones    21     171  55.2   MoNaBr100   \n\n                Carrera  Semestre Inscripción  Id Persona  \n0   Lic. en nutriología         7  2015-05-20           1  \n1          Ing. química         8  2015-05-02           2  \n2       Lic. en derecho         6  2015-05-09           3  \n3      Ing. en sistemas         2  2016-12-03           4  \n4      Ing. mecatrónica        10  2018-12-01           5  \n..                  ...       ...         ...         ...  \n95  Lic. en nutriología         2  2015-12-15          96  \n96      Lic. en derecho         7  2016-12-28          97  \n97     Ing. mecatrónica         8  2015-05-14          98  \n98  Lic. en nutriología         4  2016-05-28          99  \n99     Ing. mecatrónica         2  2018-05-11         100  \n\n[100 rows x 11 columns]",
      "text/html": "<div>\n<style scoped>\n    .dataframe tbody tr th:only-of-type {\n        vertical-align: middle;\n    }\n\n    .dataframe tbody tr th {\n        vertical-align: top;\n    }\n\n    .dataframe thead th {\n        text-align: right;\n    }\n</style>\n<table border=\"1\" class=\"dataframe\">\n  <thead>\n    <tr style=\"text-align: right;\">\n      <th></th>\n      <th>Nombre</th>\n      <th>Apellido Pat</th>\n      <th>Apellido Mat</th>\n      <th>Edad</th>\n      <th>Altura</th>\n      <th>Peso</th>\n      <th>Num Control</th>\n      <th>Carrera</th>\n      <th>Semestre</th>\n      <th>Inscripción</th>\n      <th>Id Persona</th>\n    </tr>\n  </thead>\n  <tbody>\n    <tr>\n      <th>0</th>\n      <td>Sergio</td>\n      <td>Negrete</td>\n      <td>Terán</td>\n      <td>18</td>\n      <td>163</td>\n      <td>90.9</td>\n      <td>SeNeTe01</td>\n      <td>Lic. en nutriología</td>\n      <td>7</td>\n      <td>2015-05-20</td>\n      <td>1</td>\n    </tr>\n    <tr>\n      <th>1</th>\n      <td>Jean</td>\n      <td>Vidrio</td>\n      <td>Piñeda</td>\n      <td>23</td>\n      <td>166</td>\n      <td>61.3</td>\n      <td>JeViPi02</td>\n      <td>Ing. química</td>\n      <td>8</td>\n      <td>2015-05-02</td>\n      <td>2</td>\n    </tr>\n    <tr>\n      <th>2</th>\n      <td>María</td>\n      <td>Feria</td>\n      <td>Núñez</td>\n      <td>22</td>\n      <td>185</td>\n      <td>77.1</td>\n      <td>MaFeNú03</td>\n      <td>Lic. en derecho</td>\n      <td>6</td>\n      <td>2015-05-09</td>\n      <td>3</td>\n    </tr>\n    <tr>\n      <th>3</th>\n      <td>William</td>\n      <td>Valdovinos</td>\n      <td>López</td>\n      <td>22</td>\n      <td>155</td>\n      <td>84.6</td>\n      <td>WiVaLó04</td>\n      <td>Ing. en sistemas</td>\n      <td>2</td>\n      <td>2016-12-03</td>\n      <td>4</td>\n    </tr>\n    <tr>\n      <th>4</th>\n      <td>Bastian</td>\n      <td>Richardson</td>\n      <td>De La Fuente</td>\n      <td>17</td>\n      <td>187</td>\n      <td>87.0</td>\n      <td>BaRiDe05</td>\n      <td>Ing. mecatrónica</td>\n      <td>10</td>\n      <td>2018-12-01</td>\n      <td>5</td>\n    </tr>\n    <tr>\n      <th>...</th>\n      <td>...</td>\n      <td>...</td>\n      <td>...</td>\n      <td>...</td>\n      <td>...</td>\n      <td>...</td>\n      <td>...</td>\n      <td>...</td>\n      <td>...</td>\n      <td>...</td>\n      <td>...</td>\n    </tr>\n    <tr>\n      <th>95</th>\n      <td>Stephanie</td>\n      <td>Peña</td>\n      <td>Rubio</td>\n      <td>20</td>\n      <td>188</td>\n      <td>52.9</td>\n      <td>StPeRu96</td>\n      <td>Lic. en nutriología</td>\n      <td>2</td>\n      <td>2015-12-15</td>\n      <td>96</td>\n    </tr>\n    <tr>\n      <th>96</th>\n      <td>Marvin</td>\n      <td>Ramón</td>\n      <td>Ríos</td>\n      <td>24</td>\n      <td>167</td>\n      <td>98.3</td>\n      <td>MaRaRí97</td>\n      <td>Lic. en derecho</td>\n      <td>7</td>\n      <td>2016-12-28</td>\n      <td>97</td>\n    </tr>\n    <tr>\n      <th>97</th>\n      <td>Nicolás</td>\n      <td>Bravo</td>\n      <td>Pascual</td>\n      <td>19</td>\n      <td>171</td>\n      <td>76.7</td>\n      <td>NiBrPa98</td>\n      <td>Ing. mecatrónica</td>\n      <td>8</td>\n      <td>2015-05-14</td>\n      <td>98</td>\n    </tr>\n    <tr>\n      <th>98</th>\n      <td>Lily</td>\n      <td>Ávalos</td>\n      <td>Salín</td>\n      <td>19</td>\n      <td>168</td>\n      <td>58.6</td>\n      <td>LiÁvSa99</td>\n      <td>Lic. en nutriología</td>\n      <td>4</td>\n      <td>2016-05-28</td>\n      <td>99</td>\n    </tr>\n    <tr>\n      <th>99</th>\n      <td>Moises</td>\n      <td>Navarro</td>\n      <td>Briones</td>\n      <td>21</td>\n      <td>171</td>\n      <td>55.2</td>\n      <td>MoNaBr100</td>\n      <td>Ing. mecatrónica</td>\n      <td>2</td>\n      <td>2018-05-11</td>\n      <td>100</td>\n    </tr>\n  </tbody>\n</table>\n<p>100 rows × 11 columns</p>\n</div>"
     },
     "execution_count": 144,
     "metadata": {},
     "output_type": "execute_result"
    }
   ],
   "source": [
    "#para unir las tablas\n",
    "estudiantes = amigos.merge(universidad, left_on=\"Id\", right_on=\"Id Persona\")\n",
    "estudiantes\n"
   ],
   "metadata": {
    "collapsed": false,
    "ExecuteTime": {
     "end_time": "2024-02-26T09:51:03.682076103Z",
     "start_time": "2024-02-26T09:51:03.633778092Z"
    }
   },
   "id": "6d2f91c35fea2d9d"
  },
  {
   "cell_type": "code",
   "execution_count": 147,
   "outputs": [
    {
     "data": {
      "text/plain": "    Nombre Apellido Pat  Apellido Mat  Edad  Altura  Peso Num Control  \\\n0   Sergio      Negrete         Terán    18     163  90.9    SENETE01   \n1     Jean       Vidrio        Piñeda    23     166  61.3    JEVIPI02   \n2    María        Feria         Núñez    22     185  77.1    MAFENÚ03   \n3  William   Valdovinos         López    22     155  84.6    WIVALÓ04   \n4  Bastian   Richardson  De La Fuente    17     187  87.0    BARIDE05   \n\n               Carrera  Semestre Inscripción  Id Persona  \n0  Lic. en nutriología         7  2015-05-20           1  \n1         Ing. química         8  2015-05-02           2  \n2      Lic. en derecho         6  2015-05-09           3  \n3     Ing. en sistemas         2  2016-12-03           4  \n4     Ing. mecatrónica        10  2018-12-01           5  ",
      "text/html": "<div>\n<style scoped>\n    .dataframe tbody tr th:only-of-type {\n        vertical-align: middle;\n    }\n\n    .dataframe tbody tr th {\n        vertical-align: top;\n    }\n\n    .dataframe thead th {\n        text-align: right;\n    }\n</style>\n<table border=\"1\" class=\"dataframe\">\n  <thead>\n    <tr style=\"text-align: right;\">\n      <th></th>\n      <th>Nombre</th>\n      <th>Apellido Pat</th>\n      <th>Apellido Mat</th>\n      <th>Edad</th>\n      <th>Altura</th>\n      <th>Peso</th>\n      <th>Num Control</th>\n      <th>Carrera</th>\n      <th>Semestre</th>\n      <th>Inscripción</th>\n      <th>Id Persona</th>\n    </tr>\n  </thead>\n  <tbody>\n    <tr>\n      <th>0</th>\n      <td>Sergio</td>\n      <td>Negrete</td>\n      <td>Terán</td>\n      <td>18</td>\n      <td>163</td>\n      <td>90.9</td>\n      <td>SENETE01</td>\n      <td>Lic. en nutriología</td>\n      <td>7</td>\n      <td>2015-05-20</td>\n      <td>1</td>\n    </tr>\n    <tr>\n      <th>1</th>\n      <td>Jean</td>\n      <td>Vidrio</td>\n      <td>Piñeda</td>\n      <td>23</td>\n      <td>166</td>\n      <td>61.3</td>\n      <td>JEVIPI02</td>\n      <td>Ing. química</td>\n      <td>8</td>\n      <td>2015-05-02</td>\n      <td>2</td>\n    </tr>\n    <tr>\n      <th>2</th>\n      <td>María</td>\n      <td>Feria</td>\n      <td>Núñez</td>\n      <td>22</td>\n      <td>185</td>\n      <td>77.1</td>\n      <td>MAFENÚ03</td>\n      <td>Lic. en derecho</td>\n      <td>6</td>\n      <td>2015-05-09</td>\n      <td>3</td>\n    </tr>\n    <tr>\n      <th>3</th>\n      <td>William</td>\n      <td>Valdovinos</td>\n      <td>López</td>\n      <td>22</td>\n      <td>155</td>\n      <td>84.6</td>\n      <td>WIVALÓ04</td>\n      <td>Ing. en sistemas</td>\n      <td>2</td>\n      <td>2016-12-03</td>\n      <td>4</td>\n    </tr>\n    <tr>\n      <th>4</th>\n      <td>Bastian</td>\n      <td>Richardson</td>\n      <td>De La Fuente</td>\n      <td>17</td>\n      <td>187</td>\n      <td>87.0</td>\n      <td>BARIDE05</td>\n      <td>Ing. mecatrónica</td>\n      <td>10</td>\n      <td>2018-12-01</td>\n      <td>5</td>\n    </tr>\n  </tbody>\n</table>\n</div>"
     },
     "execution_count": 147,
     "metadata": {},
     "output_type": "execute_result"
    }
   ],
   "source": [
    "#cambiar letras a mayusculas loc para referenciar columnas\n",
    "estudiantes.loc[:,\"Num Control\"].str.upper()\n",
    "#para guardarlo en el dataframe\n",
    "estudiantes.loc[:,\"Num Control\"] = estudiantes.loc[:, \"Num Control\"].str.upper()\n",
    "estudiantes.head()"
   ],
   "metadata": {
    "collapsed": false,
    "ExecuteTime": {
     "end_time": "2024-02-26T09:53:12.198619782Z",
     "start_time": "2024-02-26T09:53:12.192492569Z"
    }
   },
   "id": "889812045e506d2a"
  },
  {
   "cell_type": "code",
   "execution_count": 150,
   "outputs": [
    {
     "data": {
      "text/plain": "       Nombre Apellido Pat  Apellido Mat  Edad  Altura  Peso Num Control  \\\n0      Sergio      Negrete         Terán    18     163  90.9    SENETE01   \n1        Jean       Vidrio        Piñeda    23     166  61.3    JEVIPI02   \n2       María        Feria         Núñez    22     185  77.1    MAFENÚ03   \n3     William   Valdovinos         López    22     155  84.6    WIVALÓ04   \n4     Bastian   Richardson  De La Fuente    17     187  87.0    BARIDE05   \n..        ...          ...           ...   ...     ...   ...         ...   \n95  Stephanie         Peña         Rubio    20     188  52.9    STPERU96   \n96     Marvin        Ramón          Ríos    24     167  98.3    MARARÍ97   \n97    Nicolás        Bravo       Pascual    19     171  76.7    NIBRPA98   \n98       Lily       Ávalos         Salín    19     168  58.6    LIÁVSA99   \n99     Moises      Navarro       Briones    21     171  55.2   MONABR100   \n\n                Carrera  Semestre Inscripción  Id Persona  \n0   Lic. En Nutriología         7  2015-05-20           1  \n1          Ing. Química         8  2015-05-02           2  \n2       Lic. En Derecho         6  2015-05-09           3  \n3      Ing. En Sistemas         2  2016-12-03           4  \n4      Ing. Mecatrónica        10  2018-12-01           5  \n..                  ...       ...         ...         ...  \n95  Lic. En Nutriología         2  2015-12-15          96  \n96      Lic. En Derecho         7  2016-12-28          97  \n97     Ing. Mecatrónica         8  2015-05-14          98  \n98  Lic. En Nutriología         4  2016-05-28          99  \n99     Ing. Mecatrónica         2  2018-05-11         100  \n\n[100 rows x 11 columns]",
      "text/html": "<div>\n<style scoped>\n    .dataframe tbody tr th:only-of-type {\n        vertical-align: middle;\n    }\n\n    .dataframe tbody tr th {\n        vertical-align: top;\n    }\n\n    .dataframe thead th {\n        text-align: right;\n    }\n</style>\n<table border=\"1\" class=\"dataframe\">\n  <thead>\n    <tr style=\"text-align: right;\">\n      <th></th>\n      <th>Nombre</th>\n      <th>Apellido Pat</th>\n      <th>Apellido Mat</th>\n      <th>Edad</th>\n      <th>Altura</th>\n      <th>Peso</th>\n      <th>Num Control</th>\n      <th>Carrera</th>\n      <th>Semestre</th>\n      <th>Inscripción</th>\n      <th>Id Persona</th>\n    </tr>\n  </thead>\n  <tbody>\n    <tr>\n      <th>0</th>\n      <td>Sergio</td>\n      <td>Negrete</td>\n      <td>Terán</td>\n      <td>18</td>\n      <td>163</td>\n      <td>90.9</td>\n      <td>SENETE01</td>\n      <td>Lic. En Nutriología</td>\n      <td>7</td>\n      <td>2015-05-20</td>\n      <td>1</td>\n    </tr>\n    <tr>\n      <th>1</th>\n      <td>Jean</td>\n      <td>Vidrio</td>\n      <td>Piñeda</td>\n      <td>23</td>\n      <td>166</td>\n      <td>61.3</td>\n      <td>JEVIPI02</td>\n      <td>Ing. Química</td>\n      <td>8</td>\n      <td>2015-05-02</td>\n      <td>2</td>\n    </tr>\n    <tr>\n      <th>2</th>\n      <td>María</td>\n      <td>Feria</td>\n      <td>Núñez</td>\n      <td>22</td>\n      <td>185</td>\n      <td>77.1</td>\n      <td>MAFENÚ03</td>\n      <td>Lic. En Derecho</td>\n      <td>6</td>\n      <td>2015-05-09</td>\n      <td>3</td>\n    </tr>\n    <tr>\n      <th>3</th>\n      <td>William</td>\n      <td>Valdovinos</td>\n      <td>López</td>\n      <td>22</td>\n      <td>155</td>\n      <td>84.6</td>\n      <td>WIVALÓ04</td>\n      <td>Ing. En Sistemas</td>\n      <td>2</td>\n      <td>2016-12-03</td>\n      <td>4</td>\n    </tr>\n    <tr>\n      <th>4</th>\n      <td>Bastian</td>\n      <td>Richardson</td>\n      <td>De La Fuente</td>\n      <td>17</td>\n      <td>187</td>\n      <td>87.0</td>\n      <td>BARIDE05</td>\n      <td>Ing. Mecatrónica</td>\n      <td>10</td>\n      <td>2018-12-01</td>\n      <td>5</td>\n    </tr>\n    <tr>\n      <th>...</th>\n      <td>...</td>\n      <td>...</td>\n      <td>...</td>\n      <td>...</td>\n      <td>...</td>\n      <td>...</td>\n      <td>...</td>\n      <td>...</td>\n      <td>...</td>\n      <td>...</td>\n      <td>...</td>\n    </tr>\n    <tr>\n      <th>95</th>\n      <td>Stephanie</td>\n      <td>Peña</td>\n      <td>Rubio</td>\n      <td>20</td>\n      <td>188</td>\n      <td>52.9</td>\n      <td>STPERU96</td>\n      <td>Lic. En Nutriología</td>\n      <td>2</td>\n      <td>2015-12-15</td>\n      <td>96</td>\n    </tr>\n    <tr>\n      <th>96</th>\n      <td>Marvin</td>\n      <td>Ramón</td>\n      <td>Ríos</td>\n      <td>24</td>\n      <td>167</td>\n      <td>98.3</td>\n      <td>MARARÍ97</td>\n      <td>Lic. En Derecho</td>\n      <td>7</td>\n      <td>2016-12-28</td>\n      <td>97</td>\n    </tr>\n    <tr>\n      <th>97</th>\n      <td>Nicolás</td>\n      <td>Bravo</td>\n      <td>Pascual</td>\n      <td>19</td>\n      <td>171</td>\n      <td>76.7</td>\n      <td>NIBRPA98</td>\n      <td>Ing. Mecatrónica</td>\n      <td>8</td>\n      <td>2015-05-14</td>\n      <td>98</td>\n    </tr>\n    <tr>\n      <th>98</th>\n      <td>Lily</td>\n      <td>Ávalos</td>\n      <td>Salín</td>\n      <td>19</td>\n      <td>168</td>\n      <td>58.6</td>\n      <td>LIÁVSA99</td>\n      <td>Lic. En Nutriología</td>\n      <td>4</td>\n      <td>2016-05-28</td>\n      <td>99</td>\n    </tr>\n    <tr>\n      <th>99</th>\n      <td>Moises</td>\n      <td>Navarro</td>\n      <td>Briones</td>\n      <td>21</td>\n      <td>171</td>\n      <td>55.2</td>\n      <td>MONABR100</td>\n      <td>Ing. Mecatrónica</td>\n      <td>2</td>\n      <td>2018-05-11</td>\n      <td>100</td>\n    </tr>\n  </tbody>\n</table>\n<p>100 rows × 11 columns</p>\n</div>"
     },
     "execution_count": 150,
     "metadata": {},
     "output_type": "execute_result"
    }
   ],
   "source": [
    "#cambiar la primera letra a mayuscula \n",
    "estudiantes.loc[:,\"Carrera\"] = estudiantes.loc[:,\"Carrera\"].str.title()\n",
    "estudiantes"
   ],
   "metadata": {
    "collapsed": false,
    "ExecuteTime": {
     "end_time": "2024-02-26T10:56:41.918823731Z",
     "start_time": "2024-02-26T10:56:41.913517720Z"
    }
   },
   "id": "cb8f229dab488c63"
  },
  {
   "cell_type": "code",
   "execution_count": 152,
   "outputs": [
    {
     "data": {
      "text/plain": "       Nombre Apellido Pat  Apellido Mat  Edad  Altura  Peso Num Control  \\\n0      Sergio      Negrete         Terán    18     163  90.9    SENETE01   \n1        Jean       Vidrio        Piñeda    23     166  61.3    JEVIPI02   \n2       María        Feria         Núñez    22     185  77.1    MAFENÚ03   \n3     William   Valdovinos         López    22     155  84.6    WIVALÓ04   \n4     Bastian   Richardson  De La Fuente    17     187  87.0    BARIDE05   \n..        ...          ...           ...   ...     ...   ...         ...   \n95  Stephanie         Peña         Rubio    20     188  52.9    STPERU96   \n96     Marvin        Ramón          Ríos    24     167  98.3    MARARÍ97   \n97    Nicolás        Bravo       Pascual    19     171  76.7    NIBRPA98   \n98       Lily       Ávalos         Salín    19     168  58.6    LIÁVSA99   \n99     Moises      Navarro       Briones    21     171  55.2   MONABR100   \n\n                Carrera  Semestre Inscripción  Id Persona   Año  \n0   Lic. En Nutriología         7  2015-05-20           1  2015  \n1          Ing. Química         8  2015-05-02           2  2015  \n2       Lic. En Derecho         6  2015-05-09           3  2015  \n3      Ing. En Sistemas         2  2016-12-03           4  2016  \n4      Ing. Mecatrónica        10  2018-12-01           5  2018  \n..                  ...       ...         ...         ...   ...  \n95  Lic. En Nutriología         2  2015-12-15          96  2015  \n96      Lic. En Derecho         7  2016-12-28          97  2016  \n97     Ing. Mecatrónica         8  2015-05-14          98  2015  \n98  Lic. En Nutriología         4  2016-05-28          99  2016  \n99     Ing. Mecatrónica         2  2018-05-11         100  2018  \n\n[100 rows x 12 columns]",
      "text/html": "<div>\n<style scoped>\n    .dataframe tbody tr th:only-of-type {\n        vertical-align: middle;\n    }\n\n    .dataframe tbody tr th {\n        vertical-align: top;\n    }\n\n    .dataframe thead th {\n        text-align: right;\n    }\n</style>\n<table border=\"1\" class=\"dataframe\">\n  <thead>\n    <tr style=\"text-align: right;\">\n      <th></th>\n      <th>Nombre</th>\n      <th>Apellido Pat</th>\n      <th>Apellido Mat</th>\n      <th>Edad</th>\n      <th>Altura</th>\n      <th>Peso</th>\n      <th>Num Control</th>\n      <th>Carrera</th>\n      <th>Semestre</th>\n      <th>Inscripción</th>\n      <th>Id Persona</th>\n      <th>Año</th>\n    </tr>\n  </thead>\n  <tbody>\n    <tr>\n      <th>0</th>\n      <td>Sergio</td>\n      <td>Negrete</td>\n      <td>Terán</td>\n      <td>18</td>\n      <td>163</td>\n      <td>90.9</td>\n      <td>SENETE01</td>\n      <td>Lic. En Nutriología</td>\n      <td>7</td>\n      <td>2015-05-20</td>\n      <td>1</td>\n      <td>2015</td>\n    </tr>\n    <tr>\n      <th>1</th>\n      <td>Jean</td>\n      <td>Vidrio</td>\n      <td>Piñeda</td>\n      <td>23</td>\n      <td>166</td>\n      <td>61.3</td>\n      <td>JEVIPI02</td>\n      <td>Ing. Química</td>\n      <td>8</td>\n      <td>2015-05-02</td>\n      <td>2</td>\n      <td>2015</td>\n    </tr>\n    <tr>\n      <th>2</th>\n      <td>María</td>\n      <td>Feria</td>\n      <td>Núñez</td>\n      <td>22</td>\n      <td>185</td>\n      <td>77.1</td>\n      <td>MAFENÚ03</td>\n      <td>Lic. En Derecho</td>\n      <td>6</td>\n      <td>2015-05-09</td>\n      <td>3</td>\n      <td>2015</td>\n    </tr>\n    <tr>\n      <th>3</th>\n      <td>William</td>\n      <td>Valdovinos</td>\n      <td>López</td>\n      <td>22</td>\n      <td>155</td>\n      <td>84.6</td>\n      <td>WIVALÓ04</td>\n      <td>Ing. En Sistemas</td>\n      <td>2</td>\n      <td>2016-12-03</td>\n      <td>4</td>\n      <td>2016</td>\n    </tr>\n    <tr>\n      <th>4</th>\n      <td>Bastian</td>\n      <td>Richardson</td>\n      <td>De La Fuente</td>\n      <td>17</td>\n      <td>187</td>\n      <td>87.0</td>\n      <td>BARIDE05</td>\n      <td>Ing. Mecatrónica</td>\n      <td>10</td>\n      <td>2018-12-01</td>\n      <td>5</td>\n      <td>2018</td>\n    </tr>\n    <tr>\n      <th>...</th>\n      <td>...</td>\n      <td>...</td>\n      <td>...</td>\n      <td>...</td>\n      <td>...</td>\n      <td>...</td>\n      <td>...</td>\n      <td>...</td>\n      <td>...</td>\n      <td>...</td>\n      <td>...</td>\n      <td>...</td>\n    </tr>\n    <tr>\n      <th>95</th>\n      <td>Stephanie</td>\n      <td>Peña</td>\n      <td>Rubio</td>\n      <td>20</td>\n      <td>188</td>\n      <td>52.9</td>\n      <td>STPERU96</td>\n      <td>Lic. En Nutriología</td>\n      <td>2</td>\n      <td>2015-12-15</td>\n      <td>96</td>\n      <td>2015</td>\n    </tr>\n    <tr>\n      <th>96</th>\n      <td>Marvin</td>\n      <td>Ramón</td>\n      <td>Ríos</td>\n      <td>24</td>\n      <td>167</td>\n      <td>98.3</td>\n      <td>MARARÍ97</td>\n      <td>Lic. En Derecho</td>\n      <td>7</td>\n      <td>2016-12-28</td>\n      <td>97</td>\n      <td>2016</td>\n    </tr>\n    <tr>\n      <th>97</th>\n      <td>Nicolás</td>\n      <td>Bravo</td>\n      <td>Pascual</td>\n      <td>19</td>\n      <td>171</td>\n      <td>76.7</td>\n      <td>NIBRPA98</td>\n      <td>Ing. Mecatrónica</td>\n      <td>8</td>\n      <td>2015-05-14</td>\n      <td>98</td>\n      <td>2015</td>\n    </tr>\n    <tr>\n      <th>98</th>\n      <td>Lily</td>\n      <td>Ávalos</td>\n      <td>Salín</td>\n      <td>19</td>\n      <td>168</td>\n      <td>58.6</td>\n      <td>LIÁVSA99</td>\n      <td>Lic. En Nutriología</td>\n      <td>4</td>\n      <td>2016-05-28</td>\n      <td>99</td>\n      <td>2016</td>\n    </tr>\n    <tr>\n      <th>99</th>\n      <td>Moises</td>\n      <td>Navarro</td>\n      <td>Briones</td>\n      <td>21</td>\n      <td>171</td>\n      <td>55.2</td>\n      <td>MONABR100</td>\n      <td>Ing. Mecatrónica</td>\n      <td>2</td>\n      <td>2018-05-11</td>\n      <td>100</td>\n      <td>2018</td>\n    </tr>\n  </tbody>\n</table>\n<p>100 rows × 12 columns</p>\n</div>"
     },
     "execution_count": 152,
     "metadata": {},
     "output_type": "execute_result"
    }
   ],
   "source": [
    "#añadir la columna año desde la inscripcion\n",
    "estudiantes[\"Año\"] = estudiantes.Inscripción.dt.year\n",
    "estudiantes"
   ],
   "metadata": {
    "collapsed": false,
    "ExecuteTime": {
     "end_time": "2024-02-26T10:58:14.209483148Z",
     "start_time": "2024-02-26T10:58:14.205838717Z"
    }
   },
   "id": "d2f33a171028e1d3"
  },
  {
   "cell_type": "code",
   "execution_count": 155,
   "outputs": [
    {
     "data": {
      "text/plain": "       Nombre Apellido Pat  Apellido Mat  Edad  Altura  Peso Num Control  \\\n0      Sergio      Negrete         Terán    18     163  90.9    SENETE01   \n1        Jean       Vidrio        Piñeda    23     166  61.3    JEVIPI02   \n2       María        Feria         Núñez    22     185  77.1    MAFENÚ03   \n3     William   Valdovinos         López    22     155  84.6    WIVALÓ04   \n4     Bastian   Richardson  De La Fuente    17     187  87.0    BARIDE05   \n..        ...          ...           ...   ...     ...   ...         ...   \n95  Stephanie         Peña         Rubio    20     188  52.9    STPERU96   \n96     Marvin        Ramón          Ríos    24     167  98.3    MARARÍ97   \n97    Nicolás        Bravo       Pascual    19     171  76.7    NIBRPA98   \n98       Lily       Ávalos         Salín    19     168  58.6    LIÁVSA99   \n99     Moises      Navarro       Briones    21     171  55.2   MONABR100   \n\n                Carrera  Semestre Inscripción  Id Persona   Año   Añomes  \\\n0   Lic. En Nutriología         7  2015-05-20           1  2015  2015/05   \n1          Ing. Química         8  2015-05-02           2  2015  2015/05   \n2       Lic. En Derecho         6  2015-05-09           3  2015  2015/05   \n3      Ing. En Sistemas         2  2016-12-03           4  2016  2016/12   \n4      Ing. Mecatrónica        10  2018-12-01           5  2018  2018/12   \n..                  ...       ...         ...         ...   ...      ...   \n95  Lic. En Nutriología         2  2015-12-15          96  2015  2015/12   \n96      Lic. En Derecho         7  2016-12-28          97  2016  2016/12   \n97     Ing. Mecatrónica         8  2015-05-14          98  2015  2015/05   \n98  Lic. En Nutriología         4  2016-05-28          99  2016  2016/05   \n99     Ing. Mecatrónica         2  2018-05-11         100  2018  2018/05   \n\n      Año mes  \n0   2015 / 05  \n1   2015 / 05  \n2   2015 / 05  \n3   2016 / 12  \n4   2018 / 12  \n..        ...  \n95  2015 / 12  \n96  2016 / 12  \n97  2015 / 05  \n98  2016 / 05  \n99  2018 / 05  \n\n[100 rows x 14 columns]",
      "text/html": "<div>\n<style scoped>\n    .dataframe tbody tr th:only-of-type {\n        vertical-align: middle;\n    }\n\n    .dataframe tbody tr th {\n        vertical-align: top;\n    }\n\n    .dataframe thead th {\n        text-align: right;\n    }\n</style>\n<table border=\"1\" class=\"dataframe\">\n  <thead>\n    <tr style=\"text-align: right;\">\n      <th></th>\n      <th>Nombre</th>\n      <th>Apellido Pat</th>\n      <th>Apellido Mat</th>\n      <th>Edad</th>\n      <th>Altura</th>\n      <th>Peso</th>\n      <th>Num Control</th>\n      <th>Carrera</th>\n      <th>Semestre</th>\n      <th>Inscripción</th>\n      <th>Id Persona</th>\n      <th>Año</th>\n      <th>Añomes</th>\n      <th>Año mes</th>\n    </tr>\n  </thead>\n  <tbody>\n    <tr>\n      <th>0</th>\n      <td>Sergio</td>\n      <td>Negrete</td>\n      <td>Terán</td>\n      <td>18</td>\n      <td>163</td>\n      <td>90.9</td>\n      <td>SENETE01</td>\n      <td>Lic. En Nutriología</td>\n      <td>7</td>\n      <td>2015-05-20</td>\n      <td>1</td>\n      <td>2015</td>\n      <td>2015/05</td>\n      <td>2015 / 05</td>\n    </tr>\n    <tr>\n      <th>1</th>\n      <td>Jean</td>\n      <td>Vidrio</td>\n      <td>Piñeda</td>\n      <td>23</td>\n      <td>166</td>\n      <td>61.3</td>\n      <td>JEVIPI02</td>\n      <td>Ing. Química</td>\n      <td>8</td>\n      <td>2015-05-02</td>\n      <td>2</td>\n      <td>2015</td>\n      <td>2015/05</td>\n      <td>2015 / 05</td>\n    </tr>\n    <tr>\n      <th>2</th>\n      <td>María</td>\n      <td>Feria</td>\n      <td>Núñez</td>\n      <td>22</td>\n      <td>185</td>\n      <td>77.1</td>\n      <td>MAFENÚ03</td>\n      <td>Lic. En Derecho</td>\n      <td>6</td>\n      <td>2015-05-09</td>\n      <td>3</td>\n      <td>2015</td>\n      <td>2015/05</td>\n      <td>2015 / 05</td>\n    </tr>\n    <tr>\n      <th>3</th>\n      <td>William</td>\n      <td>Valdovinos</td>\n      <td>López</td>\n      <td>22</td>\n      <td>155</td>\n      <td>84.6</td>\n      <td>WIVALÓ04</td>\n      <td>Ing. En Sistemas</td>\n      <td>2</td>\n      <td>2016-12-03</td>\n      <td>4</td>\n      <td>2016</td>\n      <td>2016/12</td>\n      <td>2016 / 12</td>\n    </tr>\n    <tr>\n      <th>4</th>\n      <td>Bastian</td>\n      <td>Richardson</td>\n      <td>De La Fuente</td>\n      <td>17</td>\n      <td>187</td>\n      <td>87.0</td>\n      <td>BARIDE05</td>\n      <td>Ing. Mecatrónica</td>\n      <td>10</td>\n      <td>2018-12-01</td>\n      <td>5</td>\n      <td>2018</td>\n      <td>2018/12</td>\n      <td>2018 / 12</td>\n    </tr>\n    <tr>\n      <th>...</th>\n      <td>...</td>\n      <td>...</td>\n      <td>...</td>\n      <td>...</td>\n      <td>...</td>\n      <td>...</td>\n      <td>...</td>\n      <td>...</td>\n      <td>...</td>\n      <td>...</td>\n      <td>...</td>\n      <td>...</td>\n      <td>...</td>\n      <td>...</td>\n    </tr>\n    <tr>\n      <th>95</th>\n      <td>Stephanie</td>\n      <td>Peña</td>\n      <td>Rubio</td>\n      <td>20</td>\n      <td>188</td>\n      <td>52.9</td>\n      <td>STPERU96</td>\n      <td>Lic. En Nutriología</td>\n      <td>2</td>\n      <td>2015-12-15</td>\n      <td>96</td>\n      <td>2015</td>\n      <td>2015/12</td>\n      <td>2015 / 12</td>\n    </tr>\n    <tr>\n      <th>96</th>\n      <td>Marvin</td>\n      <td>Ramón</td>\n      <td>Ríos</td>\n      <td>24</td>\n      <td>167</td>\n      <td>98.3</td>\n      <td>MARARÍ97</td>\n      <td>Lic. En Derecho</td>\n      <td>7</td>\n      <td>2016-12-28</td>\n      <td>97</td>\n      <td>2016</td>\n      <td>2016/12</td>\n      <td>2016 / 12</td>\n    </tr>\n    <tr>\n      <th>97</th>\n      <td>Nicolás</td>\n      <td>Bravo</td>\n      <td>Pascual</td>\n      <td>19</td>\n      <td>171</td>\n      <td>76.7</td>\n      <td>NIBRPA98</td>\n      <td>Ing. Mecatrónica</td>\n      <td>8</td>\n      <td>2015-05-14</td>\n      <td>98</td>\n      <td>2015</td>\n      <td>2015/05</td>\n      <td>2015 / 05</td>\n    </tr>\n    <tr>\n      <th>98</th>\n      <td>Lily</td>\n      <td>Ávalos</td>\n      <td>Salín</td>\n      <td>19</td>\n      <td>168</td>\n      <td>58.6</td>\n      <td>LIÁVSA99</td>\n      <td>Lic. En Nutriología</td>\n      <td>4</td>\n      <td>2016-05-28</td>\n      <td>99</td>\n      <td>2016</td>\n      <td>2016/05</td>\n      <td>2016 / 05</td>\n    </tr>\n    <tr>\n      <th>99</th>\n      <td>Moises</td>\n      <td>Navarro</td>\n      <td>Briones</td>\n      <td>21</td>\n      <td>171</td>\n      <td>55.2</td>\n      <td>MONABR100</td>\n      <td>Ing. Mecatrónica</td>\n      <td>2</td>\n      <td>2018-05-11</td>\n      <td>100</td>\n      <td>2018</td>\n      <td>2018/05</td>\n      <td>2018 / 05</td>\n    </tr>\n  </tbody>\n</table>\n<p>100 rows × 14 columns</p>\n</div>"
     },
     "execution_count": 155,
     "metadata": {},
     "output_type": "execute_result"
    }
   ],
   "source": [
    "#añadir añomes\n",
    "estudiantes[\"Año mes\"] = estudiantes.Inscripción.dt.strftime(\"%Y / %m\")\n",
    "estudiantes"
   ],
   "metadata": {
    "collapsed": false,
    "ExecuteTime": {
     "end_time": "2024-02-26T10:59:46.496258006Z",
     "start_time": "2024-02-26T10:59:46.487932385Z"
    }
   },
   "id": "635a2a1f2a19654"
  },
  {
   "cell_type": "code",
   "execution_count": 158,
   "outputs": [
    {
     "data": {
      "text/plain": "         Nombre  Apellido Pat Apellido Mat  Edad  Altura  Peso Num Control  \\\n0        Sergio       Negrete        Terán    18     163  90.9    SENETE01   \n2         María         Feria        Núñez    22     185  77.1    MAFENÚ03   \n7         Jamir       Aguirre     Escobedo    17     169  77.5    JAAGES08   \n8       Claudia        Hernán        Arias    23     165  54.0    CLHEAR09   \n12       Rafael      Berlanga       Burgos    20     167  56.1    RABEBU13   \n13        Elías         Durán       Aburto    17     185  65.0    ELDUAB14   \n14       Deymar         Rubio        Trejo    24     182  85.6    DERUTR15   \n16       Nelson         Rubio     Guerrero    24     162  86.5    NERUGU17   \n17        Maria      Gallegos       Becker    20     161  87.3    MAGABE18   \n18        Félix      Llorente        Salín    23     188  78.5    FÉLLSA19   \n19      Claudio     Escalante       Pizano    22     169  55.6    CLESPI20   \n23     Casimiro    Richardson        Tapia    26     185  54.6    CARITA24   \n25       Asfand       Posadas     Laguillo    21     179  60.3    ASPOLA26   \n27       André           Luna       Llanos    26     174  85.9    ANLULL28   \n28        Elisa         Hijar       Favela    22     160  50.2    ELHIFA29   \n30        Bruno        Cuenca       Ocampo    23     167  77.3    BRCUOC31   \n32         Lisa       Márquez        Salas    17     163  93.9    LIMÁSA33   \n33       Álvaro         Prado         Lima    23     161  59.8    ÁLPRLI34   \n34     Casimiro        Olvera   Barrientos    21     184  67.4    CAOLBA35   \n36   Cuauhtemoc       Vallejo        Rubio    26     164  85.5    CUVARU37   \n38        Mauro         Feria       Cuevas    22     188  78.0    MAFECU39   \n40        Helio        Moreno      Alcocer    23     182  74.3    HEMOAL41   \n41       Pamela       Soberón       Ortega    17     172  72.6    PASOOR42   \n42     Leopoldo       Infante       Nathal    19     174  62.6    LEINNA43   \n43      Claudio        Cetina     Espinoza    20     169  68.4    CLCEES44   \n46      Esteban       Mendoza      Cervera    20     167  66.6    ESMECE47   \n47       Sergio    Valdovinos         Said    22     156  97.2    SEVASA48   \n49       Monica      Valencia       García    26     180  95.8    MOVAGA50   \n50         Adán      Sandoval       Campos    17     181  61.6    ADSACA51   \n52  Maximiliano  De La Fuente       Ortega    26     173  67.7    MADEOR53   \n53     Federico          Cruz    Maldonado    23     168  94.9    FECRMA54   \n56         Lara     Fernández         Vera    19     167  55.5    LAFEVE57   \n57       Eugene      Peñalosa       Llamas    17     172  78.4    EUPELL58   \n59      Liliana       Meneses       Acosta    21     171  99.9    LIMEAC60   \n60        Diana        Quiroz      Pascual    21     156  88.9    DIQUPA61   \n62      Mildred          Luna      Escobar    19     190  52.7    MILUES63   \n70          Eva      Llorente       Aburto    22     189  83.1    EVLLAB71   \n75       Isabel         Rocha     Valencia    21     181  58.9    ISROVA76   \n80        Johan     Sepúlvedo    Maldonado    20     183  98.8    JOSEMA81   \n81          Eva        Cuenca      Briones    22     176  65.4    EVCUBR82   \n84        Félix         Rivas         Lacy    23     158  83.0    FÉRILA85   \n85        Clara        Arenas         Vega    19     189  56.0    CLARVE86   \n86     Leopoldo        Ocampo         Díaz    18     155  57.1    LEOCDÍ87   \n88       Germán       Lazcano     Valencia    23     171  59.9    GELAVA89   \n90        Lucía       Galindo     Alvarado    18     158  94.8    LUGAAL91   \n92      Orlando          Vera      Treviño    22     179  61.1    ORVETR93   \n95    Stephanie          Peña        Rubio    20     188  52.9    STPERU96   \n96       Marvin         Ramón         Ríos    24     167  98.3    MARARÍ97   \n98         Lily        Ávalos        Salín    19     168  58.6    LIÁVSA99   \n\n                Carrera  Semestre Inscripción  Id Persona   Año   Añomes  \\\n0   Lic. En Nutriología         7  2015-05-20           1  2015  2015/05   \n2       Lic. En Derecho         6  2015-05-09           3  2015  2015/05   \n7       Lic. En Derecho         7  2018-12-12           8  2018  2018/12   \n8   Lic. En Nutriología         4  2015-05-01           9  2015  2015/05   \n12      Lic. En Derecho        10  2017-05-21          13  2017  2017/05   \n13    Lic. En Pedagogía         4  2018-05-16          14  2018  2018/05   \n14      Lic. En Derecho         8  2017-12-25          15  2017  2017/12   \n16  Lic. En Nutriología         8  2018-12-10          17  2018  2018/12   \n17      Lic. En Derecho         1  2018-12-02          18  2018  2018/12   \n18  Lic. En Nutriología         3  2018-12-18          19  2018  2018/12   \n19  Lic. En Nutriología         2  2016-12-22          20  2016  2016/12   \n23  Lic. En Nutriología        10  2017-12-24          24  2017  2017/12   \n25      Lic. En Derecho         6  2016-05-15          26  2016  2016/05   \n27    Lic. En Pedagogía         4  2015-12-13          28  2015  2015/12   \n28    Lic. En Pedagogía         2  2016-05-04          29  2016  2016/05   \n30    Lic. En Pedagogía         1  2015-05-06          31  2015  2015/05   \n32      Lic. En Derecho         5  2018-12-01          33  2018  2018/12   \n33      Lic. En Derecho         2  2017-05-02          34  2017  2017/05   \n34    Lic. En Pedagogía         4  2018-05-27          35  2018  2018/05   \n36  Lic. En Nutriología        10  2016-12-08          37  2016  2016/12   \n38  Lic. En Nutriología         3  2016-12-20          39  2016  2016/12   \n40  Lic. En Nutriología         2  2017-12-26          41  2017  2017/12   \n41  Lic. En Nutriología         4  2017-05-23          42  2017  2017/05   \n42  Lic. En Nutriología         7  2018-12-11          43  2018  2018/12   \n43  Lic. En Nutriología         8  2017-12-22          44  2017  2017/12   \n46  Lic. En Nutriología         9  2017-12-24          47  2017  2017/12   \n47      Lic. En Derecho         6  2016-05-09          48  2016  2016/05   \n49      Lic. En Derecho         7  2018-12-17          50  2018  2018/12   \n50      Lic. En Derecho         3  2015-12-07          51  2015  2015/12   \n52    Lic. En Pedagogía        10  2018-05-26          53  2018  2018/05   \n53    Lic. En Pedagogía         2  2018-05-27          54  2018  2018/05   \n56      Lic. En Derecho         7  2018-05-16          57  2018  2018/05   \n57    Lic. En Pedagogía         6  2017-12-20          58  2017  2017/12   \n59  Lic. En Nutriología         3  2015-05-06          60  2015  2015/05   \n60      Lic. En Derecho         9  2018-12-14          61  2018  2018/12   \n62    Lic. En Pedagogía         6  2017-05-01          63  2017  2017/05   \n70    Lic. En Pedagogía         3  2017-05-24          71  2017  2017/05   \n75    Lic. En Pedagogía         1  2018-05-27          76  2018  2018/05   \n80    Lic. En Pedagogía         3  2015-12-16          81  2015  2015/12   \n81  Lic. En Nutriología         7  2015-05-15          82  2015  2015/05   \n84      Lic. En Derecho         4  2015-05-28          85  2015  2015/05   \n85      Lic. En Derecho         3  2017-05-09          86  2017  2017/05   \n86    Lic. En Pedagogía         8  2018-05-03          87  2018  2018/05   \n88      Lic. En Derecho         5  2015-05-25          89  2015  2015/05   \n90  Lic. En Nutriología         9  2017-05-18          91  2017  2017/05   \n92  Lic. En Nutriología         1  2015-05-03          93  2015  2015/05   \n95  Lic. En Nutriología         2  2015-12-15          96  2015  2015/12   \n96      Lic. En Derecho         7  2016-12-28          97  2016  2016/12   \n98  Lic. En Nutriología         4  2016-05-28          99  2016  2016/05   \n\n      Año mes  \n0   2015 / 05  \n2   2015 / 05  \n7   2018 / 12  \n8   2015 / 05  \n12  2017 / 05  \n13  2018 / 05  \n14  2017 / 12  \n16  2018 / 12  \n17  2018 / 12  \n18  2018 / 12  \n19  2016 / 12  \n23  2017 / 12  \n25  2016 / 05  \n27  2015 / 12  \n28  2016 / 05  \n30  2015 / 05  \n32  2018 / 12  \n33  2017 / 05  \n34  2018 / 05  \n36  2016 / 12  \n38  2016 / 12  \n40  2017 / 12  \n41  2017 / 05  \n42  2018 / 12  \n43  2017 / 12  \n46  2017 / 12  \n47  2016 / 05  \n49  2018 / 12  \n50  2015 / 12  \n52  2018 / 05  \n53  2018 / 05  \n56  2018 / 05  \n57  2017 / 12  \n59  2015 / 05  \n60  2018 / 12  \n62  2017 / 05  \n70  2017 / 05  \n75  2018 / 05  \n80  2015 / 12  \n81  2015 / 05  \n84  2015 / 05  \n85  2017 / 05  \n86  2018 / 05  \n88  2015 / 05  \n90  2017 / 05  \n92  2015 / 05  \n95  2015 / 12  \n96  2016 / 12  \n98  2016 / 05  ",
      "text/html": "<div>\n<style scoped>\n    .dataframe tbody tr th:only-of-type {\n        vertical-align: middle;\n    }\n\n    .dataframe tbody tr th {\n        vertical-align: top;\n    }\n\n    .dataframe thead th {\n        text-align: right;\n    }\n</style>\n<table border=\"1\" class=\"dataframe\">\n  <thead>\n    <tr style=\"text-align: right;\">\n      <th></th>\n      <th>Nombre</th>\n      <th>Apellido Pat</th>\n      <th>Apellido Mat</th>\n      <th>Edad</th>\n      <th>Altura</th>\n      <th>Peso</th>\n      <th>Num Control</th>\n      <th>Carrera</th>\n      <th>Semestre</th>\n      <th>Inscripción</th>\n      <th>Id Persona</th>\n      <th>Año</th>\n      <th>Añomes</th>\n      <th>Año mes</th>\n    </tr>\n  </thead>\n  <tbody>\n    <tr>\n      <th>0</th>\n      <td>Sergio</td>\n      <td>Negrete</td>\n      <td>Terán</td>\n      <td>18</td>\n      <td>163</td>\n      <td>90.9</td>\n      <td>SENETE01</td>\n      <td>Lic. En Nutriología</td>\n      <td>7</td>\n      <td>2015-05-20</td>\n      <td>1</td>\n      <td>2015</td>\n      <td>2015/05</td>\n      <td>2015 / 05</td>\n    </tr>\n    <tr>\n      <th>2</th>\n      <td>María</td>\n      <td>Feria</td>\n      <td>Núñez</td>\n      <td>22</td>\n      <td>185</td>\n      <td>77.1</td>\n      <td>MAFENÚ03</td>\n      <td>Lic. En Derecho</td>\n      <td>6</td>\n      <td>2015-05-09</td>\n      <td>3</td>\n      <td>2015</td>\n      <td>2015/05</td>\n      <td>2015 / 05</td>\n    </tr>\n    <tr>\n      <th>7</th>\n      <td>Jamir</td>\n      <td>Aguirre</td>\n      <td>Escobedo</td>\n      <td>17</td>\n      <td>169</td>\n      <td>77.5</td>\n      <td>JAAGES08</td>\n      <td>Lic. En Derecho</td>\n      <td>7</td>\n      <td>2018-12-12</td>\n      <td>8</td>\n      <td>2018</td>\n      <td>2018/12</td>\n      <td>2018 / 12</td>\n    </tr>\n    <tr>\n      <th>8</th>\n      <td>Claudia</td>\n      <td>Hernán</td>\n      <td>Arias</td>\n      <td>23</td>\n      <td>165</td>\n      <td>54.0</td>\n      <td>CLHEAR09</td>\n      <td>Lic. En Nutriología</td>\n      <td>4</td>\n      <td>2015-05-01</td>\n      <td>9</td>\n      <td>2015</td>\n      <td>2015/05</td>\n      <td>2015 / 05</td>\n    </tr>\n    <tr>\n      <th>12</th>\n      <td>Rafael</td>\n      <td>Berlanga</td>\n      <td>Burgos</td>\n      <td>20</td>\n      <td>167</td>\n      <td>56.1</td>\n      <td>RABEBU13</td>\n      <td>Lic. En Derecho</td>\n      <td>10</td>\n      <td>2017-05-21</td>\n      <td>13</td>\n      <td>2017</td>\n      <td>2017/05</td>\n      <td>2017 / 05</td>\n    </tr>\n    <tr>\n      <th>13</th>\n      <td>Elías</td>\n      <td>Durán</td>\n      <td>Aburto</td>\n      <td>17</td>\n      <td>185</td>\n      <td>65.0</td>\n      <td>ELDUAB14</td>\n      <td>Lic. En Pedagogía</td>\n      <td>4</td>\n      <td>2018-05-16</td>\n      <td>14</td>\n      <td>2018</td>\n      <td>2018/05</td>\n      <td>2018 / 05</td>\n    </tr>\n    <tr>\n      <th>14</th>\n      <td>Deymar</td>\n      <td>Rubio</td>\n      <td>Trejo</td>\n      <td>24</td>\n      <td>182</td>\n      <td>85.6</td>\n      <td>DERUTR15</td>\n      <td>Lic. En Derecho</td>\n      <td>8</td>\n      <td>2017-12-25</td>\n      <td>15</td>\n      <td>2017</td>\n      <td>2017/12</td>\n      <td>2017 / 12</td>\n    </tr>\n    <tr>\n      <th>16</th>\n      <td>Nelson</td>\n      <td>Rubio</td>\n      <td>Guerrero</td>\n      <td>24</td>\n      <td>162</td>\n      <td>86.5</td>\n      <td>NERUGU17</td>\n      <td>Lic. En Nutriología</td>\n      <td>8</td>\n      <td>2018-12-10</td>\n      <td>17</td>\n      <td>2018</td>\n      <td>2018/12</td>\n      <td>2018 / 12</td>\n    </tr>\n    <tr>\n      <th>17</th>\n      <td>Maria</td>\n      <td>Gallegos</td>\n      <td>Becker</td>\n      <td>20</td>\n      <td>161</td>\n      <td>87.3</td>\n      <td>MAGABE18</td>\n      <td>Lic. En Derecho</td>\n      <td>1</td>\n      <td>2018-12-02</td>\n      <td>18</td>\n      <td>2018</td>\n      <td>2018/12</td>\n      <td>2018 / 12</td>\n    </tr>\n    <tr>\n      <th>18</th>\n      <td>Félix</td>\n      <td>Llorente</td>\n      <td>Salín</td>\n      <td>23</td>\n      <td>188</td>\n      <td>78.5</td>\n      <td>FÉLLSA19</td>\n      <td>Lic. En Nutriología</td>\n      <td>3</td>\n      <td>2018-12-18</td>\n      <td>19</td>\n      <td>2018</td>\n      <td>2018/12</td>\n      <td>2018 / 12</td>\n    </tr>\n    <tr>\n      <th>19</th>\n      <td>Claudio</td>\n      <td>Escalante</td>\n      <td>Pizano</td>\n      <td>22</td>\n      <td>169</td>\n      <td>55.6</td>\n      <td>CLESPI20</td>\n      <td>Lic. En Nutriología</td>\n      <td>2</td>\n      <td>2016-12-22</td>\n      <td>20</td>\n      <td>2016</td>\n      <td>2016/12</td>\n      <td>2016 / 12</td>\n    </tr>\n    <tr>\n      <th>23</th>\n      <td>Casimiro</td>\n      <td>Richardson</td>\n      <td>Tapia</td>\n      <td>26</td>\n      <td>185</td>\n      <td>54.6</td>\n      <td>CARITA24</td>\n      <td>Lic. En Nutriología</td>\n      <td>10</td>\n      <td>2017-12-24</td>\n      <td>24</td>\n      <td>2017</td>\n      <td>2017/12</td>\n      <td>2017 / 12</td>\n    </tr>\n    <tr>\n      <th>25</th>\n      <td>Asfand</td>\n      <td>Posadas</td>\n      <td>Laguillo</td>\n      <td>21</td>\n      <td>179</td>\n      <td>60.3</td>\n      <td>ASPOLA26</td>\n      <td>Lic. En Derecho</td>\n      <td>6</td>\n      <td>2016-05-15</td>\n      <td>26</td>\n      <td>2016</td>\n      <td>2016/05</td>\n      <td>2016 / 05</td>\n    </tr>\n    <tr>\n      <th>27</th>\n      <td>André</td>\n      <td>Luna</td>\n      <td>Llanos</td>\n      <td>26</td>\n      <td>174</td>\n      <td>85.9</td>\n      <td>ANLULL28</td>\n      <td>Lic. En Pedagogía</td>\n      <td>4</td>\n      <td>2015-12-13</td>\n      <td>28</td>\n      <td>2015</td>\n      <td>2015/12</td>\n      <td>2015 / 12</td>\n    </tr>\n    <tr>\n      <th>28</th>\n      <td>Elisa</td>\n      <td>Hijar</td>\n      <td>Favela</td>\n      <td>22</td>\n      <td>160</td>\n      <td>50.2</td>\n      <td>ELHIFA29</td>\n      <td>Lic. En Pedagogía</td>\n      <td>2</td>\n      <td>2016-05-04</td>\n      <td>29</td>\n      <td>2016</td>\n      <td>2016/05</td>\n      <td>2016 / 05</td>\n    </tr>\n    <tr>\n      <th>30</th>\n      <td>Bruno</td>\n      <td>Cuenca</td>\n      <td>Ocampo</td>\n      <td>23</td>\n      <td>167</td>\n      <td>77.3</td>\n      <td>BRCUOC31</td>\n      <td>Lic. En Pedagogía</td>\n      <td>1</td>\n      <td>2015-05-06</td>\n      <td>31</td>\n      <td>2015</td>\n      <td>2015/05</td>\n      <td>2015 / 05</td>\n    </tr>\n    <tr>\n      <th>32</th>\n      <td>Lisa</td>\n      <td>Márquez</td>\n      <td>Salas</td>\n      <td>17</td>\n      <td>163</td>\n      <td>93.9</td>\n      <td>LIMÁSA33</td>\n      <td>Lic. En Derecho</td>\n      <td>5</td>\n      <td>2018-12-01</td>\n      <td>33</td>\n      <td>2018</td>\n      <td>2018/12</td>\n      <td>2018 / 12</td>\n    </tr>\n    <tr>\n      <th>33</th>\n      <td>Álvaro</td>\n      <td>Prado</td>\n      <td>Lima</td>\n      <td>23</td>\n      <td>161</td>\n      <td>59.8</td>\n      <td>ÁLPRLI34</td>\n      <td>Lic. En Derecho</td>\n      <td>2</td>\n      <td>2017-05-02</td>\n      <td>34</td>\n      <td>2017</td>\n      <td>2017/05</td>\n      <td>2017 / 05</td>\n    </tr>\n    <tr>\n      <th>34</th>\n      <td>Casimiro</td>\n      <td>Olvera</td>\n      <td>Barrientos</td>\n      <td>21</td>\n      <td>184</td>\n      <td>67.4</td>\n      <td>CAOLBA35</td>\n      <td>Lic. En Pedagogía</td>\n      <td>4</td>\n      <td>2018-05-27</td>\n      <td>35</td>\n      <td>2018</td>\n      <td>2018/05</td>\n      <td>2018 / 05</td>\n    </tr>\n    <tr>\n      <th>36</th>\n      <td>Cuauhtemoc</td>\n      <td>Vallejo</td>\n      <td>Rubio</td>\n      <td>26</td>\n      <td>164</td>\n      <td>85.5</td>\n      <td>CUVARU37</td>\n      <td>Lic. En Nutriología</td>\n      <td>10</td>\n      <td>2016-12-08</td>\n      <td>37</td>\n      <td>2016</td>\n      <td>2016/12</td>\n      <td>2016 / 12</td>\n    </tr>\n    <tr>\n      <th>38</th>\n      <td>Mauro</td>\n      <td>Feria</td>\n      <td>Cuevas</td>\n      <td>22</td>\n      <td>188</td>\n      <td>78.0</td>\n      <td>MAFECU39</td>\n      <td>Lic. En Nutriología</td>\n      <td>3</td>\n      <td>2016-12-20</td>\n      <td>39</td>\n      <td>2016</td>\n      <td>2016/12</td>\n      <td>2016 / 12</td>\n    </tr>\n    <tr>\n      <th>40</th>\n      <td>Helio</td>\n      <td>Moreno</td>\n      <td>Alcocer</td>\n      <td>23</td>\n      <td>182</td>\n      <td>74.3</td>\n      <td>HEMOAL41</td>\n      <td>Lic. En Nutriología</td>\n      <td>2</td>\n      <td>2017-12-26</td>\n      <td>41</td>\n      <td>2017</td>\n      <td>2017/12</td>\n      <td>2017 / 12</td>\n    </tr>\n    <tr>\n      <th>41</th>\n      <td>Pamela</td>\n      <td>Soberón</td>\n      <td>Ortega</td>\n      <td>17</td>\n      <td>172</td>\n      <td>72.6</td>\n      <td>PASOOR42</td>\n      <td>Lic. En Nutriología</td>\n      <td>4</td>\n      <td>2017-05-23</td>\n      <td>42</td>\n      <td>2017</td>\n      <td>2017/05</td>\n      <td>2017 / 05</td>\n    </tr>\n    <tr>\n      <th>42</th>\n      <td>Leopoldo</td>\n      <td>Infante</td>\n      <td>Nathal</td>\n      <td>19</td>\n      <td>174</td>\n      <td>62.6</td>\n      <td>LEINNA43</td>\n      <td>Lic. En Nutriología</td>\n      <td>7</td>\n      <td>2018-12-11</td>\n      <td>43</td>\n      <td>2018</td>\n      <td>2018/12</td>\n      <td>2018 / 12</td>\n    </tr>\n    <tr>\n      <th>43</th>\n      <td>Claudio</td>\n      <td>Cetina</td>\n      <td>Espinoza</td>\n      <td>20</td>\n      <td>169</td>\n      <td>68.4</td>\n      <td>CLCEES44</td>\n      <td>Lic. En Nutriología</td>\n      <td>8</td>\n      <td>2017-12-22</td>\n      <td>44</td>\n      <td>2017</td>\n      <td>2017/12</td>\n      <td>2017 / 12</td>\n    </tr>\n    <tr>\n      <th>46</th>\n      <td>Esteban</td>\n      <td>Mendoza</td>\n      <td>Cervera</td>\n      <td>20</td>\n      <td>167</td>\n      <td>66.6</td>\n      <td>ESMECE47</td>\n      <td>Lic. En Nutriología</td>\n      <td>9</td>\n      <td>2017-12-24</td>\n      <td>47</td>\n      <td>2017</td>\n      <td>2017/12</td>\n      <td>2017 / 12</td>\n    </tr>\n    <tr>\n      <th>47</th>\n      <td>Sergio</td>\n      <td>Valdovinos</td>\n      <td>Said</td>\n      <td>22</td>\n      <td>156</td>\n      <td>97.2</td>\n      <td>SEVASA48</td>\n      <td>Lic. En Derecho</td>\n      <td>6</td>\n      <td>2016-05-09</td>\n      <td>48</td>\n      <td>2016</td>\n      <td>2016/05</td>\n      <td>2016 / 05</td>\n    </tr>\n    <tr>\n      <th>49</th>\n      <td>Monica</td>\n      <td>Valencia</td>\n      <td>García</td>\n      <td>26</td>\n      <td>180</td>\n      <td>95.8</td>\n      <td>MOVAGA50</td>\n      <td>Lic. En Derecho</td>\n      <td>7</td>\n      <td>2018-12-17</td>\n      <td>50</td>\n      <td>2018</td>\n      <td>2018/12</td>\n      <td>2018 / 12</td>\n    </tr>\n    <tr>\n      <th>50</th>\n      <td>Adán</td>\n      <td>Sandoval</td>\n      <td>Campos</td>\n      <td>17</td>\n      <td>181</td>\n      <td>61.6</td>\n      <td>ADSACA51</td>\n      <td>Lic. En Derecho</td>\n      <td>3</td>\n      <td>2015-12-07</td>\n      <td>51</td>\n      <td>2015</td>\n      <td>2015/12</td>\n      <td>2015 / 12</td>\n    </tr>\n    <tr>\n      <th>52</th>\n      <td>Maximiliano</td>\n      <td>De La Fuente</td>\n      <td>Ortega</td>\n      <td>26</td>\n      <td>173</td>\n      <td>67.7</td>\n      <td>MADEOR53</td>\n      <td>Lic. En Pedagogía</td>\n      <td>10</td>\n      <td>2018-05-26</td>\n      <td>53</td>\n      <td>2018</td>\n      <td>2018/05</td>\n      <td>2018 / 05</td>\n    </tr>\n    <tr>\n      <th>53</th>\n      <td>Federico</td>\n      <td>Cruz</td>\n      <td>Maldonado</td>\n      <td>23</td>\n      <td>168</td>\n      <td>94.9</td>\n      <td>FECRMA54</td>\n      <td>Lic. En Pedagogía</td>\n      <td>2</td>\n      <td>2018-05-27</td>\n      <td>54</td>\n      <td>2018</td>\n      <td>2018/05</td>\n      <td>2018 / 05</td>\n    </tr>\n    <tr>\n      <th>56</th>\n      <td>Lara</td>\n      <td>Fernández</td>\n      <td>Vera</td>\n      <td>19</td>\n      <td>167</td>\n      <td>55.5</td>\n      <td>LAFEVE57</td>\n      <td>Lic. En Derecho</td>\n      <td>7</td>\n      <td>2018-05-16</td>\n      <td>57</td>\n      <td>2018</td>\n      <td>2018/05</td>\n      <td>2018 / 05</td>\n    </tr>\n    <tr>\n      <th>57</th>\n      <td>Eugene</td>\n      <td>Peñalosa</td>\n      <td>Llamas</td>\n      <td>17</td>\n      <td>172</td>\n      <td>78.4</td>\n      <td>EUPELL58</td>\n      <td>Lic. En Pedagogía</td>\n      <td>6</td>\n      <td>2017-12-20</td>\n      <td>58</td>\n      <td>2017</td>\n      <td>2017/12</td>\n      <td>2017 / 12</td>\n    </tr>\n    <tr>\n      <th>59</th>\n      <td>Liliana</td>\n      <td>Meneses</td>\n      <td>Acosta</td>\n      <td>21</td>\n      <td>171</td>\n      <td>99.9</td>\n      <td>LIMEAC60</td>\n      <td>Lic. En Nutriología</td>\n      <td>3</td>\n      <td>2015-05-06</td>\n      <td>60</td>\n      <td>2015</td>\n      <td>2015/05</td>\n      <td>2015 / 05</td>\n    </tr>\n    <tr>\n      <th>60</th>\n      <td>Diana</td>\n      <td>Quiroz</td>\n      <td>Pascual</td>\n      <td>21</td>\n      <td>156</td>\n      <td>88.9</td>\n      <td>DIQUPA61</td>\n      <td>Lic. En Derecho</td>\n      <td>9</td>\n      <td>2018-12-14</td>\n      <td>61</td>\n      <td>2018</td>\n      <td>2018/12</td>\n      <td>2018 / 12</td>\n    </tr>\n    <tr>\n      <th>62</th>\n      <td>Mildred</td>\n      <td>Luna</td>\n      <td>Escobar</td>\n      <td>19</td>\n      <td>190</td>\n      <td>52.7</td>\n      <td>MILUES63</td>\n      <td>Lic. En Pedagogía</td>\n      <td>6</td>\n      <td>2017-05-01</td>\n      <td>63</td>\n      <td>2017</td>\n      <td>2017/05</td>\n      <td>2017 / 05</td>\n    </tr>\n    <tr>\n      <th>70</th>\n      <td>Eva</td>\n      <td>Llorente</td>\n      <td>Aburto</td>\n      <td>22</td>\n      <td>189</td>\n      <td>83.1</td>\n      <td>EVLLAB71</td>\n      <td>Lic. En Pedagogía</td>\n      <td>3</td>\n      <td>2017-05-24</td>\n      <td>71</td>\n      <td>2017</td>\n      <td>2017/05</td>\n      <td>2017 / 05</td>\n    </tr>\n    <tr>\n      <th>75</th>\n      <td>Isabel</td>\n      <td>Rocha</td>\n      <td>Valencia</td>\n      <td>21</td>\n      <td>181</td>\n      <td>58.9</td>\n      <td>ISROVA76</td>\n      <td>Lic. En Pedagogía</td>\n      <td>1</td>\n      <td>2018-05-27</td>\n      <td>76</td>\n      <td>2018</td>\n      <td>2018/05</td>\n      <td>2018 / 05</td>\n    </tr>\n    <tr>\n      <th>80</th>\n      <td>Johan</td>\n      <td>Sepúlvedo</td>\n      <td>Maldonado</td>\n      <td>20</td>\n      <td>183</td>\n      <td>98.8</td>\n      <td>JOSEMA81</td>\n      <td>Lic. En Pedagogía</td>\n      <td>3</td>\n      <td>2015-12-16</td>\n      <td>81</td>\n      <td>2015</td>\n      <td>2015/12</td>\n      <td>2015 / 12</td>\n    </tr>\n    <tr>\n      <th>81</th>\n      <td>Eva</td>\n      <td>Cuenca</td>\n      <td>Briones</td>\n      <td>22</td>\n      <td>176</td>\n      <td>65.4</td>\n      <td>EVCUBR82</td>\n      <td>Lic. En Nutriología</td>\n      <td>7</td>\n      <td>2015-05-15</td>\n      <td>82</td>\n      <td>2015</td>\n      <td>2015/05</td>\n      <td>2015 / 05</td>\n    </tr>\n    <tr>\n      <th>84</th>\n      <td>Félix</td>\n      <td>Rivas</td>\n      <td>Lacy</td>\n      <td>23</td>\n      <td>158</td>\n      <td>83.0</td>\n      <td>FÉRILA85</td>\n      <td>Lic. En Derecho</td>\n      <td>4</td>\n      <td>2015-05-28</td>\n      <td>85</td>\n      <td>2015</td>\n      <td>2015/05</td>\n      <td>2015 / 05</td>\n    </tr>\n    <tr>\n      <th>85</th>\n      <td>Clara</td>\n      <td>Arenas</td>\n      <td>Vega</td>\n      <td>19</td>\n      <td>189</td>\n      <td>56.0</td>\n      <td>CLARVE86</td>\n      <td>Lic. En Derecho</td>\n      <td>3</td>\n      <td>2017-05-09</td>\n      <td>86</td>\n      <td>2017</td>\n      <td>2017/05</td>\n      <td>2017 / 05</td>\n    </tr>\n    <tr>\n      <th>86</th>\n      <td>Leopoldo</td>\n      <td>Ocampo</td>\n      <td>Díaz</td>\n      <td>18</td>\n      <td>155</td>\n      <td>57.1</td>\n      <td>LEOCDÍ87</td>\n      <td>Lic. En Pedagogía</td>\n      <td>8</td>\n      <td>2018-05-03</td>\n      <td>87</td>\n      <td>2018</td>\n      <td>2018/05</td>\n      <td>2018 / 05</td>\n    </tr>\n    <tr>\n      <th>88</th>\n      <td>Germán</td>\n      <td>Lazcano</td>\n      <td>Valencia</td>\n      <td>23</td>\n      <td>171</td>\n      <td>59.9</td>\n      <td>GELAVA89</td>\n      <td>Lic. En Derecho</td>\n      <td>5</td>\n      <td>2015-05-25</td>\n      <td>89</td>\n      <td>2015</td>\n      <td>2015/05</td>\n      <td>2015 / 05</td>\n    </tr>\n    <tr>\n      <th>90</th>\n      <td>Lucía</td>\n      <td>Galindo</td>\n      <td>Alvarado</td>\n      <td>18</td>\n      <td>158</td>\n      <td>94.8</td>\n      <td>LUGAAL91</td>\n      <td>Lic. En Nutriología</td>\n      <td>9</td>\n      <td>2017-05-18</td>\n      <td>91</td>\n      <td>2017</td>\n      <td>2017/05</td>\n      <td>2017 / 05</td>\n    </tr>\n    <tr>\n      <th>92</th>\n      <td>Orlando</td>\n      <td>Vera</td>\n      <td>Treviño</td>\n      <td>22</td>\n      <td>179</td>\n      <td>61.1</td>\n      <td>ORVETR93</td>\n      <td>Lic. En Nutriología</td>\n      <td>1</td>\n      <td>2015-05-03</td>\n      <td>93</td>\n      <td>2015</td>\n      <td>2015/05</td>\n      <td>2015 / 05</td>\n    </tr>\n    <tr>\n      <th>95</th>\n      <td>Stephanie</td>\n      <td>Peña</td>\n      <td>Rubio</td>\n      <td>20</td>\n      <td>188</td>\n      <td>52.9</td>\n      <td>STPERU96</td>\n      <td>Lic. En Nutriología</td>\n      <td>2</td>\n      <td>2015-12-15</td>\n      <td>96</td>\n      <td>2015</td>\n      <td>2015/12</td>\n      <td>2015 / 12</td>\n    </tr>\n    <tr>\n      <th>96</th>\n      <td>Marvin</td>\n      <td>Ramón</td>\n      <td>Ríos</td>\n      <td>24</td>\n      <td>167</td>\n      <td>98.3</td>\n      <td>MARARÍ97</td>\n      <td>Lic. En Derecho</td>\n      <td>7</td>\n      <td>2016-12-28</td>\n      <td>97</td>\n      <td>2016</td>\n      <td>2016/12</td>\n      <td>2016 / 12</td>\n    </tr>\n    <tr>\n      <th>98</th>\n      <td>Lily</td>\n      <td>Ávalos</td>\n      <td>Salín</td>\n      <td>19</td>\n      <td>168</td>\n      <td>58.6</td>\n      <td>LIÁVSA99</td>\n      <td>Lic. En Nutriología</td>\n      <td>4</td>\n      <td>2016-05-28</td>\n      <td>99</td>\n      <td>2016</td>\n      <td>2016/05</td>\n      <td>2016 / 05</td>\n    </tr>\n  </tbody>\n</table>\n</div>"
     },
     "execution_count": 158,
     "metadata": {},
     "output_type": "execute_result"
    }
   ],
   "source": [
    "#hacer un df de personas licenciadas en la carrera\n",
    "licenciados = estudiantes[estudiantes.loc[:,\"Carrera\"].str.contains(\"Lic\")]\n",
    "licenciados"
   ],
   "metadata": {
    "collapsed": false,
    "ExecuteTime": {
     "end_time": "2024-02-26T11:02:03.897321892Z",
     "start_time": "2024-02-26T11:02:03.850087666Z"
    }
   },
   "id": "d501babbfc8253b8"
  },
  {
   "cell_type": "code",
   "execution_count": null,
   "outputs": [],
   "source": [
    "#sacar "
   ],
   "metadata": {
    "collapsed": false
   },
   "id": "592cbe9e7f45d592"
  }
 ],
 "metadata": {
  "kernelspec": {
   "display_name": "Python 3",
   "language": "python",
   "name": "python3"
  },
  "language_info": {
   "codemirror_mode": {
    "name": "ipython",
    "version": 2
   },
   "file_extension": ".py",
   "mimetype": "text/x-python",
   "name": "python",
   "nbconvert_exporter": "python",
   "pygments_lexer": "ipython2",
   "version": "2.7.6"
  }
 },
 "nbformat": 4,
 "nbformat_minor": 5
}
