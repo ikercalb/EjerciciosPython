{
 "cells": [
  {
   "cell_type": "code",
   "execution_count": 70,
   "id": "initial_id",
   "metadata": {
    "collapsed": true,
    "ExecuteTime": {
     "end_time": "2024-02-29T16:59:49.233942900Z",
     "start_time": "2024-02-29T16:59:48.872797700Z"
    }
   },
   "outputs": [],
   "source": [
    "import pandas as pd\n",
    "import openpyxl"
   ]
  },
  {
   "cell_type": "code",
   "execution_count": 71,
   "outputs": [],
   "source": [
    "altura_cm = [178,165,155,181,176,189,190,186]"
   ],
   "metadata": {
    "collapsed": false,
    "ExecuteTime": {
     "end_time": "2024-02-29T16:59:49.247950600Z",
     "start_time": "2024-02-29T16:59:48.877810300Z"
    }
   },
   "id": "470b2891baf480af"
  },
  {
   "cell_type": "code",
   "execution_count": 72,
   "outputs": [
    {
     "data": {
      "text/plain": "0    178\n1    165\n2    155\n3    181\n4    176\n5    189\n6    190\n7    186\ndtype: int64"
     },
     "execution_count": 72,
     "metadata": {},
     "output_type": "execute_result"
    }
   ],
   "source": [
    "#Crear una serie llamada altura\n",
    "altura = pd.Series(altura_cm)\n",
    "altura"
   ],
   "metadata": {
    "collapsed": false,
    "ExecuteTime": {
     "end_time": "2024-02-29T16:59:49.323775Z",
     "start_time": "2024-02-29T16:59:48.887450300Z"
    }
   },
   "id": "3900d69a6f0afcd9"
  },
  {
   "cell_type": "code",
   "execution_count": 73,
   "outputs": [
    {
     "data": {
      "text/plain": "0    178\n1    165\n2    155\n3    181\ndtype: int64"
     },
     "execution_count": 73,
     "metadata": {},
     "output_type": "execute_result"
    }
   ],
   "source": [
    "#sacar los x primeros valores \n",
    "altura.head(4)"
   ],
   "metadata": {
    "collapsed": false,
    "ExecuteTime": {
     "end_time": "2024-02-29T16:59:49.323775Z",
     "start_time": "2024-02-29T16:59:48.896514800Z"
    }
   },
   "id": "78324ac310345f1b"
  },
  {
   "cell_type": "code",
   "execution_count": 74,
   "outputs": [
    {
     "data": {
      "text/plain": "2    155\n1    165\n4    176\n0    178\n3    181\n7    186\n5    189\n6    190\ndtype: int64"
     },
     "execution_count": 74,
     "metadata": {},
     "output_type": "execute_result"
    }
   ],
   "source": [
    "#ordenar los valores \n",
    "altura.sort_values()"
   ],
   "metadata": {
    "collapsed": false,
    "ExecuteTime": {
     "end_time": "2024-02-29T16:59:49.324779600Z",
     "start_time": "2024-02-29T16:59:48.901571200Z"
    }
   },
   "id": "c390c7d78af3b05e"
  },
  {
   "cell_type": "code",
   "execution_count": 75,
   "outputs": [
    {
     "data": {
      "text/plain": "155"
     },
     "execution_count": 75,
     "metadata": {},
     "output_type": "execute_result"
    }
   ],
   "source": [
    "#obtener el valor minimo\n",
    "altura.min()"
   ],
   "metadata": {
    "collapsed": false,
    "ExecuteTime": {
     "end_time": "2024-02-29T16:59:49.324779600Z",
     "start_time": "2024-02-29T16:59:48.904865200Z"
    }
   },
   "id": "1b2ab9637185e82a"
  },
  {
   "cell_type": "code",
   "execution_count": 76,
   "outputs": [
    {
     "data": {
      "text/plain": "190"
     },
     "execution_count": 76,
     "metadata": {},
     "output_type": "execute_result"
    }
   ],
   "source": [
    "#obtener el maximo\n",
    "altura.max()"
   ],
   "metadata": {
    "collapsed": false,
    "ExecuteTime": {
     "end_time": "2024-02-29T16:59:49.324779600Z",
     "start_time": "2024-02-29T16:59:48.908986300Z"
    }
   },
   "id": "29e915c13b9c3f8d"
  },
  {
   "cell_type": "code",
   "execution_count": 77,
   "outputs": [
    {
     "data": {
      "text/plain": "177.5"
     },
     "execution_count": 77,
     "metadata": {},
     "output_type": "execute_result"
    }
   ],
   "source": [
    "#obtener el promedio\n",
    "altura.mean()"
   ],
   "metadata": {
    "collapsed": false,
    "ExecuteTime": {
     "end_time": "2024-02-29T16:59:49.324779600Z",
     "start_time": "2024-02-29T16:59:48.913284500Z"
    }
   },
   "id": "f3201f754f70f71e"
  },
  {
   "cell_type": "code",
   "execution_count": 78,
   "outputs": [
    {
     "data": {
      "text/plain": "1420"
     },
     "execution_count": 78,
     "metadata": {},
     "output_type": "execute_result"
    }
   ],
   "source": [
    "#sumar los valores de altura\n",
    "altura.sum()"
   ],
   "metadata": {
    "collapsed": false,
    "ExecuteTime": {
     "end_time": "2024-02-29T16:59:49.324779600Z",
     "start_time": "2024-02-29T16:59:48.917590500Z"
    }
   },
   "id": "1b47ef3d2429025"
  },
  {
   "cell_type": "code",
   "execution_count": 79,
   "outputs": [
    {
     "data": {
      "text/plain": "count      8.000000\nmean     177.500000\nstd       12.177262\nmin      155.000000\n25%      173.250000\n50%      179.500000\n75%      186.750000\nmax      190.000000\ndtype: float64"
     },
     "execution_count": 79,
     "metadata": {},
     "output_type": "execute_result"
    }
   ],
   "source": [
    "#obtener la descripcion \n",
    "altura.describe()"
   ],
   "metadata": {
    "collapsed": false,
    "ExecuteTime": {
     "end_time": "2024-02-29T16:59:49.324779600Z",
     "start_time": "2024-02-29T16:59:48.922793800Z"
    }
   },
   "id": "c5f1478938f07f73"
  },
  {
   "cell_type": "code",
   "execution_count": 80,
   "outputs": [
    {
     "data": {
      "text/plain": "0    178\n3    181\n4    176\n5    189\n6    190\n7    186\ndtype: int64"
     },
     "execution_count": 80,
     "metadata": {},
     "output_type": "execute_result"
    }
   ],
   "source": [
    "#obtener la altura mayor a 170\n",
    "#altura[filtro]\n",
    "altura[altura>170]"
   ],
   "metadata": {
    "collapsed": false,
    "ExecuteTime": {
     "end_time": "2024-02-29T16:59:49.324779600Z",
     "start_time": "2024-02-29T16:59:48.928429Z"
    }
   },
   "id": "4ab2e15afa50222c"
  },
  {
   "cell_type": "code",
   "execution_count": 81,
   "outputs": [
    {
     "data": {
      "text/plain": "     nombre  edad  altura  peso\n0     Erika    23     173  83.2\n1     Elias    24     194  65.4\n2    Miguel    21     165  71.1\n3     Karla    25     154  67.9\n4  Gabriela    22     176  71.8",
      "text/html": "<div>\n<style scoped>\n    .dataframe tbody tr th:only-of-type {\n        vertical-align: middle;\n    }\n\n    .dataframe tbody tr th {\n        vertical-align: top;\n    }\n\n    .dataframe thead th {\n        text-align: right;\n    }\n</style>\n<table border=\"1\" class=\"dataframe\">\n  <thead>\n    <tr style=\"text-align: right;\">\n      <th></th>\n      <th>nombre</th>\n      <th>edad</th>\n      <th>altura</th>\n      <th>peso</th>\n    </tr>\n  </thead>\n  <tbody>\n    <tr>\n      <th>0</th>\n      <td>Erika</td>\n      <td>23</td>\n      <td>173</td>\n      <td>83.2</td>\n    </tr>\n    <tr>\n      <th>1</th>\n      <td>Elias</td>\n      <td>24</td>\n      <td>194</td>\n      <td>65.4</td>\n    </tr>\n    <tr>\n      <th>2</th>\n      <td>Miguel</td>\n      <td>21</td>\n      <td>165</td>\n      <td>71.1</td>\n    </tr>\n    <tr>\n      <th>3</th>\n      <td>Karla</td>\n      <td>25</td>\n      <td>154</td>\n      <td>67.9</td>\n    </tr>\n    <tr>\n      <th>4</th>\n      <td>Gabriela</td>\n      <td>22</td>\n      <td>176</td>\n      <td>71.8</td>\n    </tr>\n  </tbody>\n</table>\n</div>"
     },
     "execution_count": 81,
     "metadata": {},
     "output_type": "execute_result"
    }
   ],
   "source": [
    "#dataframe\n",
    "datos = {\n",
    "    \"nombre\": [\"Erika\",\"Elias\",\"Miguel\",\"Karla\",\"Gabriela\"],\n",
    "    \"edad\": [23,24,21,25,22],\n",
    "    \"altura\": [173,194,165,154,176],\n",
    "    \"peso\": [83.2,65.4,71.1,67.9,71.8]    \n",
    "}\n",
    "\n",
    "amigos = pd.DataFrame(datos)\n",
    "amigos"
   ],
   "metadata": {
    "collapsed": false,
    "ExecuteTime": {
     "end_time": "2024-02-29T16:59:49.333992700Z",
     "start_time": "2024-02-29T16:59:48.932657600Z"
    }
   },
   "id": "89588a4cf6987005"
  },
  {
   "cell_type": "code",
   "execution_count": 82,
   "outputs": [
    {
     "data": {
      "text/plain": "            edad      altura       peso\ncount   5.000000    5.000000   5.000000\nmean   23.000000  172.400000  71.880000\nstd     1.581139   14.774979   6.829861\nmin    21.000000  154.000000  65.400000\n25%    22.000000  165.000000  67.900000\n50%    23.000000  173.000000  71.100000\n75%    24.000000  176.000000  71.800000\nmax    25.000000  194.000000  83.200000",
      "text/html": "<div>\n<style scoped>\n    .dataframe tbody tr th:only-of-type {\n        vertical-align: middle;\n    }\n\n    .dataframe tbody tr th {\n        vertical-align: top;\n    }\n\n    .dataframe thead th {\n        text-align: right;\n    }\n</style>\n<table border=\"1\" class=\"dataframe\">\n  <thead>\n    <tr style=\"text-align: right;\">\n      <th></th>\n      <th>edad</th>\n      <th>altura</th>\n      <th>peso</th>\n    </tr>\n  </thead>\n  <tbody>\n    <tr>\n      <th>count</th>\n      <td>5.000000</td>\n      <td>5.000000</td>\n      <td>5.000000</td>\n    </tr>\n    <tr>\n      <th>mean</th>\n      <td>23.000000</td>\n      <td>172.400000</td>\n      <td>71.880000</td>\n    </tr>\n    <tr>\n      <th>std</th>\n      <td>1.581139</td>\n      <td>14.774979</td>\n      <td>6.829861</td>\n    </tr>\n    <tr>\n      <th>min</th>\n      <td>21.000000</td>\n      <td>154.000000</td>\n      <td>65.400000</td>\n    </tr>\n    <tr>\n      <th>25%</th>\n      <td>22.000000</td>\n      <td>165.000000</td>\n      <td>67.900000</td>\n    </tr>\n    <tr>\n      <th>50%</th>\n      <td>23.000000</td>\n      <td>173.000000</td>\n      <td>71.100000</td>\n    </tr>\n    <tr>\n      <th>75%</th>\n      <td>24.000000</td>\n      <td>176.000000</td>\n      <td>71.800000</td>\n    </tr>\n    <tr>\n      <th>max</th>\n      <td>25.000000</td>\n      <td>194.000000</td>\n      <td>83.200000</td>\n    </tr>\n  </tbody>\n</table>\n</div>"
     },
     "execution_count": 82,
     "metadata": {},
     "output_type": "execute_result"
    }
   ],
   "source": [
    "#obtener la descripcion \n",
    "amigos.describe()"
   ],
   "metadata": {
    "collapsed": false,
    "ExecuteTime": {
     "end_time": "2024-02-29T16:59:49.334982500Z",
     "start_time": "2024-02-29T16:59:48.937702200Z"
    }
   },
   "id": "64d90db92bd8f746"
  },
  {
   "cell_type": "code",
   "execution_count": 83,
   "outputs": [
    {
     "data": {
      "text/plain": "     nombre  edad  altura  peso\n2    Miguel    21     165  71.1\n4  Gabriela    22     176  71.8",
      "text/html": "<div>\n<style scoped>\n    .dataframe tbody tr th:only-of-type {\n        vertical-align: middle;\n    }\n\n    .dataframe tbody tr th {\n        vertical-align: top;\n    }\n\n    .dataframe thead th {\n        text-align: right;\n    }\n</style>\n<table border=\"1\" class=\"dataframe\">\n  <thead>\n    <tr style=\"text-align: right;\">\n      <th></th>\n      <th>nombre</th>\n      <th>edad</th>\n      <th>altura</th>\n      <th>peso</th>\n    </tr>\n  </thead>\n  <tbody>\n    <tr>\n      <th>2</th>\n      <td>Miguel</td>\n      <td>21</td>\n      <td>165</td>\n      <td>71.1</td>\n    </tr>\n    <tr>\n      <th>4</th>\n      <td>Gabriela</td>\n      <td>22</td>\n      <td>176</td>\n      <td>71.8</td>\n    </tr>\n  </tbody>\n</table>\n</div>"
     },
     "execution_count": 83,
     "metadata": {},
     "output_type": "execute_result"
    }
   ],
   "source": [
    "#obtener los datos de los amigos con una edad menos a 23\n",
    "amigos[amigos.edad<23]"
   ],
   "metadata": {
    "collapsed": false,
    "ExecuteTime": {
     "end_time": "2024-02-29T16:59:49.334982500Z",
     "start_time": "2024-02-29T16:59:48.947365100Z"
    }
   },
   "id": "64e5af101e9d6950"
  },
  {
   "cell_type": "code",
   "execution_count": 84,
   "outputs": [
    {
     "data": {
      "text/plain": "2    21\n4    22\nName: edad, dtype: int64"
     },
     "execution_count": 84,
     "metadata": {},
     "output_type": "execute_result"
    }
   ],
   "source": [
    "#se puede aplicar otros atribs como .edad para que solo me de la edad o un describe de estos elementos\n",
    "amigos[amigos.edad<23].edad"
   ],
   "metadata": {
    "collapsed": false,
    "ExecuteTime": {
     "end_time": "2024-02-29T16:59:49.334982500Z",
     "start_time": "2024-02-29T16:59:48.953038300Z"
    }
   },
   "id": "b3d2d4e1859b5298"
  },
  {
   "cell_type": "code",
   "execution_count": 85,
   "outputs": [
    {
     "data": {
      "text/plain": "     Nombre Apellido Pat  Apellido Mat  Edad  Altura  Peso\nId                                                        \n1    Sergio      Negrete         Terán    18     163  90.9\n2      Jean       Vidrio        Piñeda    23     166  61.3\n3     María        Feria         Núñez    22     185  77.1\n4   William   Valdovinos         López    22     155  84.6\n5   Bastian   Richardson  De La Fuente    17     187  87.0",
      "text/html": "<div>\n<style scoped>\n    .dataframe tbody tr th:only-of-type {\n        vertical-align: middle;\n    }\n\n    .dataframe tbody tr th {\n        vertical-align: top;\n    }\n\n    .dataframe thead th {\n        text-align: right;\n    }\n</style>\n<table border=\"1\" class=\"dataframe\">\n  <thead>\n    <tr style=\"text-align: right;\">\n      <th></th>\n      <th>Nombre</th>\n      <th>Apellido Pat</th>\n      <th>Apellido Mat</th>\n      <th>Edad</th>\n      <th>Altura</th>\n      <th>Peso</th>\n    </tr>\n    <tr>\n      <th>Id</th>\n      <th></th>\n      <th></th>\n      <th></th>\n      <th></th>\n      <th></th>\n      <th></th>\n    </tr>\n  </thead>\n  <tbody>\n    <tr>\n      <th>1</th>\n      <td>Sergio</td>\n      <td>Negrete</td>\n      <td>Terán</td>\n      <td>18</td>\n      <td>163</td>\n      <td>90.9</td>\n    </tr>\n    <tr>\n      <th>2</th>\n      <td>Jean</td>\n      <td>Vidrio</td>\n      <td>Piñeda</td>\n      <td>23</td>\n      <td>166</td>\n      <td>61.3</td>\n    </tr>\n    <tr>\n      <th>3</th>\n      <td>María</td>\n      <td>Feria</td>\n      <td>Núñez</td>\n      <td>22</td>\n      <td>185</td>\n      <td>77.1</td>\n    </tr>\n    <tr>\n      <th>4</th>\n      <td>William</td>\n      <td>Valdovinos</td>\n      <td>López</td>\n      <td>22</td>\n      <td>155</td>\n      <td>84.6</td>\n    </tr>\n    <tr>\n      <th>5</th>\n      <td>Bastian</td>\n      <td>Richardson</td>\n      <td>De La Fuente</td>\n      <td>17</td>\n      <td>187</td>\n      <td>87.0</td>\n    </tr>\n  </tbody>\n</table>\n</div>"
     },
     "execution_count": 85,
     "metadata": {},
     "output_type": "execute_result"
    }
   ],
   "source": [
    "#importar desde un archivo los datos para el dataframe\n",
    "amigos = pd.read_excel(\"./amigos.xlsx\",index_col=\"Id\")\n",
    "amigos.head()"
   ],
   "metadata": {
    "collapsed": false,
    "ExecuteTime": {
     "end_time": "2024-02-29T16:59:49.334982500Z",
     "start_time": "2024-02-29T16:59:48.960092900Z"
    }
   },
   "id": "f425325c6e85aa04"
  },
  {
   "cell_type": "code",
   "execution_count": 92,
   "outputs": [
    {
     "data": {
      "text/plain": "     Nombre Apellido Pat  Apellido Mat  Edad  Altura  manolo\nId                                                          \n1    Sergio      Negrete         Terán    18     163    90.9\n2      Jean       Vidrio        Piñeda    23     166    61.3\n3     María        Feria         Núñez    22     185    77.1\n4   William   Valdovinos         López    22     155    84.6\n5   Bastian   Richardson  De La Fuente    17     187    87.0",
      "text/html": "<div>\n<style scoped>\n    .dataframe tbody tr th:only-of-type {\n        vertical-align: middle;\n    }\n\n    .dataframe tbody tr th {\n        vertical-align: top;\n    }\n\n    .dataframe thead th {\n        text-align: right;\n    }\n</style>\n<table border=\"1\" class=\"dataframe\">\n  <thead>\n    <tr style=\"text-align: right;\">\n      <th></th>\n      <th>Nombre</th>\n      <th>Apellido Pat</th>\n      <th>Apellido Mat</th>\n      <th>Edad</th>\n      <th>Altura</th>\n      <th>manolo</th>\n    </tr>\n    <tr>\n      <th>Id</th>\n      <th></th>\n      <th></th>\n      <th></th>\n      <th></th>\n      <th></th>\n      <th></th>\n    </tr>\n  </thead>\n  <tbody>\n    <tr>\n      <th>1</th>\n      <td>Sergio</td>\n      <td>Negrete</td>\n      <td>Terán</td>\n      <td>18</td>\n      <td>163</td>\n      <td>90.9</td>\n    </tr>\n    <tr>\n      <th>2</th>\n      <td>Jean</td>\n      <td>Vidrio</td>\n      <td>Piñeda</td>\n      <td>23</td>\n      <td>166</td>\n      <td>61.3</td>\n    </tr>\n    <tr>\n      <th>3</th>\n      <td>María</td>\n      <td>Feria</td>\n      <td>Núñez</td>\n      <td>22</td>\n      <td>185</td>\n      <td>77.1</td>\n    </tr>\n    <tr>\n      <th>4</th>\n      <td>William</td>\n      <td>Valdovinos</td>\n      <td>López</td>\n      <td>22</td>\n      <td>155</td>\n      <td>84.6</td>\n    </tr>\n    <tr>\n      <th>5</th>\n      <td>Bastian</td>\n      <td>Richardson</td>\n      <td>De La Fuente</td>\n      <td>17</td>\n      <td>187</td>\n      <td>87.0</td>\n    </tr>\n  </tbody>\n</table>\n</div>"
     },
     "execution_count": 92,
     "metadata": {},
     "output_type": "execute_result"
    }
   ],
   "source": [
    "amigos.rename(columns = {'Peso':'manolo'}, inplace=True)\n",
    "amigos.head()"
   ],
   "metadata": {
    "collapsed": false,
    "ExecuteTime": {
     "end_time": "2024-02-29T17:03:30.101844700Z",
     "start_time": "2024-02-29T17:03:30.079703900Z"
    }
   },
   "id": "27acadb090c423a2"
  },
  {
   "cell_type": "code",
   "execution_count": null,
   "outputs": [],
   "source": [
    "#obtener los datos de los amigos con una edad menor a 21\n",
    "amigos[(amigos.Edad < 21) & (amigos.Nombre == 'Sergio')]"
   ],
   "metadata": {
    "collapsed": false,
    "ExecuteTime": {
     "start_time": "2024-02-29T16:59:48.996101900Z"
    }
   },
   "id": "c3a7af426a21e285"
  },
  {
   "cell_type": "code",
   "execution_count": null,
   "outputs": [],
   "source": [
    "universidad = pd.read_excel(\"./universidad.xlsx\")\n",
    "universidad"
   ],
   "metadata": {
    "collapsed": false,
    "ExecuteTime": {
     "start_time": "2024-02-29T16:59:48.997102300Z"
    }
   },
   "id": "ed150a00bb79f897"
  },
  {
   "cell_type": "code",
   "execution_count": null,
   "outputs": [],
   "source": [
    "#para unir las tablas\n",
    "estudiantes = amigos.merge(universidad, left_on=\"Id\", right_on=\"Id Persona\")\n",
    "estudiantes\n"
   ],
   "metadata": {
    "collapsed": false,
    "ExecuteTime": {
     "start_time": "2024-02-29T16:59:48.998121900Z"
    }
   },
   "id": "6d2f91c35fea2d9d"
  },
  {
   "cell_type": "code",
   "execution_count": null,
   "outputs": [],
   "source": [
    "#cambiar letras a mayusculas loc para referenciar columnas\n",
    "estudiantes.loc[:,\"Num Control\"].str.upper()\n",
    "#para guardarlo en el dataframe\n",
    "estudiantes.loc[:,\"Num Control\"] = estudiantes.loc[:, \"Num Control\"].str.upper()\n",
    "estudiantes.head()"
   ],
   "metadata": {
    "collapsed": false,
    "ExecuteTime": {
     "start_time": "2024-02-29T16:59:48.999241400Z"
    }
   },
   "id": "889812045e506d2a"
  },
  {
   "cell_type": "code",
   "execution_count": null,
   "outputs": [],
   "source": [
    "#cambiar la primera letra a mayuscula \n",
    "estudiantes.loc[:,\"Carrera\"] = estudiantes.loc[:,\"Carrera\"].str.title()\n",
    "estudiantes"
   ],
   "metadata": {
    "collapsed": false,
    "ExecuteTime": {
     "start_time": "2024-02-29T16:59:49.000101800Z"
    }
   },
   "id": "cb8f229dab488c63"
  },
  {
   "cell_type": "code",
   "execution_count": null,
   "outputs": [],
   "source": [
    "#añadir la columna año desde la inscripcion\n",
    "estudiantes[\"Año\"] = estudiantes.Inscripción.dt.year\n",
    "estudiantes"
   ],
   "metadata": {
    "collapsed": false,
    "ExecuteTime": {
     "start_time": "2024-02-29T16:59:49.001102Z"
    }
   },
   "id": "d2f33a171028e1d3"
  },
  {
   "cell_type": "code",
   "execution_count": null,
   "outputs": [],
   "source": [
    "#añadir añomes\n",
    "estudiantes[\"Año mes\"] = estudiantes.Inscripción.dt.strftime(\"%Y / %m\")\n",
    "estudiantes"
   ],
   "metadata": {
    "collapsed": false,
    "ExecuteTime": {
     "start_time": "2024-02-29T16:59:49.002101800Z"
    }
   },
   "id": "635a2a1f2a19654"
  },
  {
   "cell_type": "code",
   "execution_count": null,
   "outputs": [],
   "source": [
    "#hacer un df de personas licenciadas en la carrera\n",
    "licenciados = estudiantes[estudiantes.loc[:,\"Carrera\"].str.contains(\"Lic\")]\n",
    "licenciados\n"
   ],
   "metadata": {
    "collapsed": false,
    "ExecuteTime": {
     "start_time": "2024-02-29T16:59:49.003101200Z"
    }
   },
   "id": "d501babbfc8253b8"
  },
  {
   "cell_type": "code",
   "execution_count": null,
   "outputs": [],
   "source": [
    "#sacar la cantidad de liccenciados inscritos por año usando groupby\n",
    "licenciados_por_año = licenciados.groupby(by=\"Año\").size()\n",
    "licenciados_por_año\n"
   ],
   "metadata": {
    "collapsed": false,
    "ExecuteTime": {
     "start_time": "2024-02-29T16:59:49.004102200Z"
    }
   },
   "id": "592cbe9e7f45d592"
  },
  {
   "cell_type": "code",
   "execution_count": null,
   "outputs": [],
   "source": [
    "import matplotlib.pyplot as plt\n",
    "licenciados_por_año.plot(kind = \"bar\")\n",
    "plt.title(\"Inscripcion de licenciados por año\")\n",
    "plt.show()"
   ],
   "metadata": {
    "collapsed": false,
    "ExecuteTime": {
     "start_time": "2024-02-29T16:59:49.005102900Z"
    }
   },
   "id": "337be55caed2c834"
  },
  {
   "cell_type": "code",
   "execution_count": null,
   "outputs": [],
   "source": [
    "#contar la cantidad de alumnos inscritos en cada año separado por licenciatura utilizando pivot_table\n",
    "ingresos = licenciados.pivot_table(index= \"Año\", columns=\"Carrera\", values=\"Edad\", aggfunc=\"count\", fill_value=0)\n",
    "ingresos"
   ],
   "metadata": {
    "collapsed": false,
    "ExecuteTime": {
     "start_time": "2024-02-29T16:59:49.006129400Z"
    }
   },
   "id": "bb107ed08e612cac"
  },
  {
   "cell_type": "code",
   "execution_count": null,
   "outputs": [],
   "source": [
    "ingresos.plot()\n",
    "plt.title(\"Inscripcion de licenciados por año\")\n",
    "plt.show()"
   ],
   "metadata": {
    "collapsed": false,
    "ExecuteTime": {
     "start_time": "2024-02-29T16:59:49.007102700Z"
    }
   },
   "id": "45ff33ce7f42613"
  },
  {
   "cell_type": "code",
   "execution_count": null,
   "outputs": [],
   "source": [],
   "metadata": {
    "collapsed": false,
    "ExecuteTime": {
     "start_time": "2024-02-29T16:59:49.008101400Z"
    }
   },
   "id": "abbb804572657660"
  }
 ],
 "metadata": {
  "kernelspec": {
   "display_name": "Python 3",
   "language": "python",
   "name": "python3"
  },
  "language_info": {
   "codemirror_mode": {
    "name": "ipython",
    "version": 2
   },
   "file_extension": ".py",
   "mimetype": "text/x-python",
   "name": "python",
   "nbconvert_exporter": "python",
   "pygments_lexer": "ipython2",
   "version": "2.7.6"
  }
 },
 "nbformat": 4,
 "nbformat_minor": 5
}
