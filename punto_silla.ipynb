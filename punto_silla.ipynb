{
 "cells": [
  {
   "cell_type": "code",
   "execution_count": 257,
   "id": "initial_id",
   "metadata": {
    "collapsed": true,
    "ExecuteTime": {
     "end_time": "2024-02-23T08:30:19.666729568Z",
     "start_time": "2024-02-23T08:30:19.620052680Z"
    }
   },
   "outputs": [],
   "source": [
    "import numpy as np\n",
    "\n",
    "array = [[4,5,6],[3,4,7],[10,11,12]]\n"
   ]
  },
  {
   "cell_type": "code",
   "execution_count": 258,
   "outputs": [],
   "source": [
    "def generar_array(n):\n",
    "    # Creamos un array de n filas y n columnas lleno de ceros\n",
    "    array =  np.random.rand(n, n)\n",
    "    return array"
   ],
   "metadata": {
    "collapsed": false,
    "ExecuteTime": {
     "end_time": "2024-02-23T08:30:19.669175271Z",
     "start_time": "2024-02-23T08:30:19.666507117Z"
    }
   },
   "id": "c0e40e430b9d18"
  },
  {
   "cell_type": "code",
   "execution_count": null,
   "outputs": [],
   "source": [
    "def getcolmax(array, num):\n",
    "    bo = False\n",
    "    \n",
    "    return bo"
   ],
   "metadata": {
    "collapsed": false
   },
   "id": "c9787f0c2fb1a5d1"
  },
  {
   "cell_type": "code",
   "execution_count": null,
   "outputs": [],
   "source": [
    "def getcolmin(array, num):\n",
    "    bo = False\n",
    "    return bo"
   ],
   "metadata": {
    "collapsed": false
   },
   "id": "e7d3f337e98d4049"
  },
  {
   "cell_type": "code",
   "execution_count": null,
   "outputs": [],
   "source": [
    "def getrowmax(array, num):\n",
    "    bo = False\n",
    "    for i in range(len(array)):\n",
    "        \n",
    "    return bo"
   ],
   "metadata": {
    "collapsed": false
   },
   "id": "9d5a194c14864d72"
  },
  {
   "cell_type": "code",
   "execution_count": null,
   "outputs": [],
   "source": [
    "def getrowmin(array, num):\n",
    "    bo = False\n",
    "    \n",
    "    return bo"
   ],
   "metadata": {
    "collapsed": false
   },
   "id": "ff497171788060e7"
  },
  {
   "cell_type": "code",
   "execution_count": 259,
   "outputs": [],
   "source": [
    "def buscar(array):\n",
    "   for i in range(len(array)):\n",
    "       for j in range(len(array[0])):\n",
    "        rowmin = getrowmin(array, i)\n",
    "        rowmax = getrowmax(array, i)   \n",
    "        colmin = getcolmin(array, j)\n",
    "        colmax = getcolmax(array, j)\n",
    "        if rowmax == True and colmin == True or rowmin == True and colmax == True:\n",
    "            print(array[j][i])\n",
    "            \n",
    "           \n",
    "   \n"
   ],
   "metadata": {
    "collapsed": false,
    "ExecuteTime": {
     "end_time": "2024-02-23T08:30:19.669300929Z",
     "start_time": "2024-02-23T08:30:19.666605615Z"
    }
   },
   "id": "c5f4bc00ca734226"
  },
  {
   "cell_type": "code",
   "execution_count": 259,
   "outputs": [],
   "source": [],
   "metadata": {
    "collapsed": false,
    "ExecuteTime": {
     "end_time": "2024-02-23T08:30:19.669376172Z",
     "start_time": "2024-02-23T08:30:19.666628895Z"
    }
   },
   "id": "c3b04a749b0b03f7"
  },
  {
   "cell_type": "code",
   "execution_count": 260,
   "outputs": [
    {
     "name": "stdout",
     "output_type": "stream",
     "text": [
      "4\n",
      "5\n",
      "6\n",
      "3\n",
      "4\n",
      "7\n",
      "10\n",
      "11\n",
      "12\n"
     ]
    }
   ],
   "source": [
    "buscar(array)"
   ],
   "metadata": {
    "collapsed": false,
    "ExecuteTime": {
     "end_time": "2024-02-23T08:30:19.669560943Z",
     "start_time": "2024-02-23T08:30:19.666655125Z"
    }
   },
   "id": "abff44c152787116"
  },
  {
   "cell_type": "code",
   "execution_count": 260,
   "outputs": [],
   "source": [],
   "metadata": {
    "collapsed": false,
    "ExecuteTime": {
     "end_time": "2024-02-23T08:30:19.669636573Z",
     "start_time": "2024-02-23T08:30:19.666684945Z"
    }
   },
   "id": "847a6ba6fb07b0c1"
  }
 ],
 "metadata": {
  "kernelspec": {
   "display_name": "Python 3",
   "language": "python",
   "name": "python3"
  },
  "language_info": {
   "codemirror_mode": {
    "name": "ipython",
    "version": 2
   },
   "file_extension": ".py",
   "mimetype": "text/x-python",
   "name": "python",
   "nbconvert_exporter": "python",
   "pygments_lexer": "ipython2",
   "version": "2.7.6"
  }
 },
 "nbformat": 4,
 "nbformat_minor": 5
}
