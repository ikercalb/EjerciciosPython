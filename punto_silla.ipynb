{
 "cells": [
  {
   "cell_type": "code",
   "execution_count": 25,
   "id": "initial_id",
   "metadata": {
    "collapsed": true,
    "ExecuteTime": {
     "end_time": "2024-02-24T09:22:01.348692900Z",
     "start_time": "2024-02-24T09:22:01.336115Z"
    }
   },
   "outputs": [],
   "source": [
    "import numpy as np\n",
    "\n",
    "array = [[4,5,6],[3,4,7],[10,11,12]]\n"
   ]
  },
  {
   "cell_type": "code",
   "execution_count": 26,
   "outputs": [],
   "source": [
    "def generar_array(n):\n",
    "    # Creamos un array de n filas y n columnas lleno de ceros\n",
    "    array =  np.random.rand(n, n)\n",
    "    return array"
   ],
   "metadata": {
    "collapsed": false,
    "ExecuteTime": {
     "end_time": "2024-02-24T09:22:01.348975800Z",
     "start_time": "2024-02-24T09:22:01.340311300Z"
    }
   },
   "id": "c0e40e430b9d18"
  },
  {
   "cell_type": "code",
   "execution_count": 27,
   "outputs": [],
   "source": [
    "def getcolmax(array, num):\n",
    "    max_val = array[0][num]\n",
    "    for i in range(1, len(array)):\n",
    "        if array[i][num] > max_val:\n",
    "            max_val = array[i][num]\n",
    "            print(max_val)\n",
    "    return max_val"
   ],
   "metadata": {
    "collapsed": false,
    "ExecuteTime": {
     "end_time": "2024-02-24T09:22:01.348975800Z",
     "start_time": "2024-02-24T09:22:01.344847200Z"
    }
   },
   "id": "c9787f0c2fb1a5d1"
  },
  {
   "cell_type": "code",
   "execution_count": 28,
   "outputs": [],
   "source": [
    "def getcolmin(array, num):\n",
    "    bo = False\n",
    "    return bo"
   ],
   "metadata": {
    "collapsed": false,
    "ExecuteTime": {
     "end_time": "2024-02-24T09:22:01.356394800Z",
     "start_time": "2024-02-24T09:22:01.348692900Z"
    }
   },
   "id": "e7d3f337e98d4049"
  },
  {
   "cell_type": "code",
   "execution_count": 29,
   "outputs": [],
   "source": [
    "def getrowmax(array, num):\n",
    "    bo = False\n",
    "    for i in range(len(array)):\n",
    "        \n",
    "        return bo"
   ],
   "metadata": {
    "collapsed": false,
    "ExecuteTime": {
     "end_time": "2024-02-24T09:22:01.356898800Z",
     "start_time": "2024-02-24T09:22:01.352483400Z"
    }
   },
   "id": "9d5a194c14864d72"
  },
  {
   "cell_type": "code",
   "execution_count": 30,
   "outputs": [],
   "source": [
    "def getrowmin(array, num):\n",
    "    bo = False\n",
    "    \n",
    "    return bo"
   ],
   "metadata": {
    "collapsed": false,
    "ExecuteTime": {
     "end_time": "2024-02-24T09:22:01.363951900Z",
     "start_time": "2024-02-24T09:22:01.354990900Z"
    }
   },
   "id": "ff497171788060e7"
  },
  {
   "cell_type": "code",
   "execution_count": 31,
   "outputs": [],
   "source": [
    "def buscar(array):\n",
    "   for i in range(len(array)):\n",
    "       for j in range(len(array[0])):\n",
    "        rowmin = getrowmin(array, i)\n",
    "        rowmax = getrowmax(array, i)   \n",
    "        colmin = getcolmin(array, j)\n",
    "        colmax = getcolmax(array, j)\n",
    "        if rowmax == True and colmin == True or rowmin == True and colmax == True:\n",
    "#            print(array[j][i])\n",
    "            pass"
   ],
   "metadata": {
    "collapsed": false,
    "ExecuteTime": {
     "end_time": "2024-02-24T09:22:01.389620900Z",
     "start_time": "2024-02-24T09:22:01.360504300Z"
    }
   },
   "id": "c5f4bc00ca734226"
  },
  {
   "cell_type": "code",
   "execution_count": 32,
   "outputs": [
    {
     "name": "stdout",
     "output_type": "stream",
     "text": [
      "10\n",
      "11\n",
      "7\n",
      "12\n",
      "10\n",
      "11\n",
      "7\n",
      "12\n",
      "10\n",
      "11\n",
      "7\n",
      "12\n"
     ]
    }
   ],
   "source": [
    "buscar(array)"
   ],
   "metadata": {
    "collapsed": false,
    "ExecuteTime": {
     "end_time": "2024-02-24T09:22:01.391511Z",
     "start_time": "2024-02-24T09:22:01.363517500Z"
    }
   },
   "id": "abff44c152787116"
  },
  {
   "cell_type": "code",
   "execution_count": 32,
   "outputs": [],
   "source": [],
   "metadata": {
    "collapsed": false,
    "ExecuteTime": {
     "end_time": "2024-02-24T09:22:01.391511Z",
     "start_time": "2024-02-24T09:22:01.366466Z"
    }
   },
   "id": "847a6ba6fb07b0c1"
  }
 ],
 "metadata": {
  "kernelspec": {
   "display_name": "Python 3",
   "language": "python",
   "name": "python3"
  },
  "language_info": {
   "codemirror_mode": {
    "name": "ipython",
    "version": 2
   },
   "file_extension": ".py",
   "mimetype": "text/x-python",
   "name": "python",
   "nbconvert_exporter": "python",
   "pygments_lexer": "ipython2",
   "version": "2.7.6"
  }
 },
 "nbformat": 4,
 "nbformat_minor": 5
}
