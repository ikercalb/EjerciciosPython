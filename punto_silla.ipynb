{
 "cells": [
  {
   "cell_type": "code",
   "execution_count": 328,
   "id": "initial_id",
   "metadata": {
    "collapsed": true,
    "ExecuteTime": {
     "end_time": "2024-02-23T09:50:09.302448267Z",
     "start_time": "2024-02-23T09:50:09.260259484Z"
    }
   },
   "outputs": [],
   "source": [
    "import numpy as np\n",
    "\n",
    "array = [[4,5,6],[3,4,7],[10,11,12]]\n"
   ]
  },
  {
   "cell_type": "code",
   "execution_count": 329,
   "outputs": [],
   "source": [
    "def generar_array(n):\n",
    "    # Creamos un array de n filas y n columnas lleno de ceros\n",
    "    array =  np.random.rand(n, n)\n",
    "    return array"
   ],
   "metadata": {
    "collapsed": false,
    "ExecuteTime": {
     "end_time": "2024-02-23T09:50:09.302725541Z",
     "start_time": "2024-02-23T09:50:09.302324971Z"
    }
   },
   "id": "c0e40e430b9d18"
  },
  {
   "cell_type": "code",
   "execution_count": 330,
   "outputs": [],
   "source": [
    "def getcolmax(array, num):\n",
    "    bo = False\n",
    "    \n",
    "    return bo"
   ],
   "metadata": {
    "collapsed": false,
    "ExecuteTime": {
     "end_time": "2024-02-23T09:50:09.302876566Z",
     "start_time": "2024-02-23T09:50:09.302403384Z"
    }
   },
   "id": "c9787f0c2fb1a5d1"
  },
  {
   "cell_type": "code",
   "execution_count": 331,
   "outputs": [],
   "source": [
    "def getcolmin(array, num):\n",
    "    bo = False\n",
    "    return bo"
   ],
   "metadata": {
    "collapsed": false,
    "ExecuteTime": {
     "end_time": "2024-02-23T09:50:09.302952876Z",
     "start_time": "2024-02-23T09:50:09.302427892Z"
    }
   },
   "id": "e7d3f337e98d4049"
  },
  {
   "cell_type": "code",
   "execution_count": 332,
   "outputs": [],
   "source": [
    "def getrowmax(array, num):\n",
    "    bo = False\n",
    "    for i in range(len(array)):\n",
    "        print(array[0][i])\n",
    "        return bo"
   ],
   "metadata": {
    "collapsed": false,
    "ExecuteTime": {
     "end_time": "2024-02-23T09:50:09.303011374Z",
     "start_time": "2024-02-23T09:50:09.302576140Z"
    }
   },
   "id": "9d5a194c14864d72"
  },
  {
   "cell_type": "code",
   "execution_count": 333,
   "outputs": [],
   "source": [
    "def getrowmin(array, num):\n",
    "    bo = False\n",
    "    \n",
    "    return bo"
   ],
   "metadata": {
    "collapsed": false,
    "ExecuteTime": {
     "end_time": "2024-02-23T09:50:09.303331977Z",
     "start_time": "2024-02-23T09:50:09.302602806Z"
    }
   },
   "id": "ff497171788060e7"
  },
  {
   "cell_type": "code",
   "execution_count": 334,
   "outputs": [],
   "source": [
    "def buscar(array):\n",
    "   for i in range(len(array)):\n",
    "       for j in range(len(array[0])):\n",
    "        rowmin = getrowmin(array, i)\n",
    "        rowmax = getrowmax(array, i)   \n",
    "        colmin = getcolmin(array, j)\n",
    "        colmax = getcolmax(array, j)\n",
    "        if rowmax == True and colmin == True or rowmin == True and colmax == True:\n",
    "#            print(array[j][i])\n",
    "            pass"
   ],
   "metadata": {
    "collapsed": false,
    "ExecuteTime": {
     "end_time": "2024-02-23T09:50:09.303413911Z",
     "start_time": "2024-02-23T09:50:09.302628671Z"
    }
   },
   "id": "c5f4bc00ca734226"
  },
  {
   "cell_type": "code",
   "execution_count": 335,
   "outputs": [
    {
     "name": "stdout",
     "output_type": "stream",
     "text": [
      "4\n",
      "4\n",
      "4\n",
      "4\n",
      "4\n",
      "4\n",
      "4\n",
      "4\n",
      "4\n"
     ]
    }
   ],
   "source": [
    "buscar(array)"
   ],
   "metadata": {
    "collapsed": false,
    "ExecuteTime": {
     "end_time": "2024-02-23T09:50:09.303786487Z",
     "start_time": "2024-02-23T09:50:09.302795588Z"
    }
   },
   "id": "abff44c152787116"
  },
  {
   "cell_type": "code",
   "execution_count": 335,
   "outputs": [],
   "source": [],
   "metadata": {
    "collapsed": false,
    "ExecuteTime": {
     "end_time": "2024-02-23T09:50:09.303903316Z",
     "start_time": "2024-02-23T09:50:09.302842200Z"
    }
   },
   "id": "847a6ba6fb07b0c1"
  }
 ],
 "metadata": {
  "kernelspec": {
   "display_name": "Python 3",
   "language": "python",
   "name": "python3"
  },
  "language_info": {
   "codemirror_mode": {
    "name": "ipython",
    "version": 2
   },
   "file_extension": ".py",
   "mimetype": "text/x-python",
   "name": "python",
   "nbconvert_exporter": "python",
   "pygments_lexer": "ipython2",
   "version": "2.7.6"
  }
 },
 "nbformat": 4,
 "nbformat_minor": 5
}
